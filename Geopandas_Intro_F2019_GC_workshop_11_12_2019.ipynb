{
  "nbformat": 4,
  "nbformat_minor": 0,
  "metadata": {
    "colab": {
      "name": "Geopandas_Intro_F2019_GC_workshop_11_12_2019.ipynb",
      "provenance": [],
      "collapsed_sections": [
        "itL3XIdsN-Gb",
        "tjyHAq-TdvYd",
        "JNZujqGgQeje",
        "eFv_9q3VZnNU",
        "uh7kB29_Ynyf",
        "lQeiysSAdDpt",
        "TyYv2l7HYfll",
        "yLrl9RT3wiRe",
        "bgpCkH382hJu"
      ]
    },
    "kernelspec": {
      "name": "python3",
      "display_name": "Python 3"
    }
  },
  "cells": [
    {
      "cell_type": "markdown",
      "metadata": {
        "id": "FM959kc2672g",
        "colab_type": "text"
      },
      "source": [
        "# Geospatial Data in Python with GeoPandas \n",
        "\n",
        "A [D-Lab](https://dlab.berkeley.edu) Workshop, Fall 2019 \n",
        "\n",
        "---\n",
        "\n"
      ]
    },
    {
      "cell_type": "markdown",
      "metadata": {
        "id": "YxUfwSxvDUSd",
        "colab_type": "text"
      },
      "source": [
        "Outline for day 1:\n",
        "\n",
        "0. Setup\n",
        "1. Geospatial Data: Types and importing\n",
        "2. GeoDataFrame \n",
        "3. GeoSeries\n",
        "4. Geometries (Points, Linestrings, Polygons)\n",
        "5. Mapping \n",
        "6. Subsetting\n",
        "7. Mapping: Overlays\n",
        "8. CRS\n",
        "\n",
        "Outline for day 2:\n",
        "\n",
        "8. CRS\n",
        "9. Spatial Measurements\n",
        "10. Spatial Relationship Queries\n",
        "11. Combining Data: Attributes + Spatial Joins\n",
        "12. Data-driven Mapping"
      ]
    },
    {
      "cell_type": "markdown",
      "metadata": {
        "id": "vYLMRdKA7AMl",
        "colab_type": "text"
      },
      "source": [
        "\n",
        "# Introduction"
      ]
    },
    {
      "cell_type": "markdown",
      "metadata": {
        "id": "xjOgGtCKhm19",
        "colab_type": "text"
      },
      "source": [
        "\n",
        "\n",
        "The goal of this notebook is to give you a **tip of the iceberg introduction** to working with geospatial data in Python using the **geopandas** package.  Most of the sample data and use cases are related to a UC Berkeley research a project that Patty Frontiera, D-Lab's Data Services Lead, has been working on called [The Louisiana Slave Conspiracies](https://dlab.berkeley.edu/landing-page/louisiana-slave-conspiracies). This project explores several slave conspiracies that occured in colonial Louisiana during the late 1700s and early 1800s. Since very little data exist for this time period, we begin with an exploration of US Census data from the early 1800s, shortly after the Louisiana Purchase made the Louisiana and Orleans Territories part of the United States.\n",
        "\n",
        "> ### Assumptions\n",
        "\n",
        "> This tutorial assumes you have basic working knowledge of Python and of geospatial data.   If you need a geospatial refresher, we can start with this **very** [Brief Introduction to Geospatial Data](https://docs.google.com/presentation/d/1d9GNcLDsnLxfLmrNRNZE976sHN5qNfkU9Rl2gabUsWc/edit?usp=sharing).\n",
        "\n",
        " \n",
        " \\\n",
        "## GeoPandas and related Geospatial Packages\n",
        "\n",
        "[GeoPandas](http://geopandas.org/) is a relatively new package that makes it easier to work with geospatial data in Python. In the last few years it has grown more powerful and stable. This really is great because previously it was quite complex to work with geospatial data in Python.  GeoPandas is now the go to package for working with geospatial data. \n",
        "\n",
        "`GeoPandas` provides convenient, unified access to the functionality of the [pandas](https://pandas.pydata.org/) package , extending it with the geospatial processing capabilities provided by a number of lower level spatial data packages including [shapely](https://pypi.python.org/pypi/Shapely) for geometry processing, [fiona](https://pypi.python.org/pypi/Fiona) and [GDAL/Ogr](https://gdal.org) for spatial data file IO and[ pyproj](https://github.com/jswhit/pyproj) and [PROJ.4](https://github.com/OSGeo/proj.4/wiki) for map projections and coordinate systems.  \n",
        "\n",
        "\n",
        "We will also use a few other optional geospatial libraries that are  commonly used with geopandas, including:\n",
        "\n",
        "- **rtree** for spatial indexing to improve performance\n",
        "- **geopy** for geocoding and for geodesic distance calculations\n",
        "- **pysal** for spatial analysis functions such as data classification methods.\n",
        "- **descartes** for ploting Shapelygeometric objects with Matplotlib.\n",
        "\n",
        "\n",
        "Finally, we will use a number of standard Python libraries including pandas, numpy, and matplotlib.\n"
      ]
    },
    {
      "cell_type": "markdown",
      "metadata": {
        "id": "uWiKdh8s6xQ1",
        "colab_type": "text"
      },
      "source": [
        "# **0.- Setup**"
      ]
    },
    {
      "cell_type": "markdown",
      "metadata": {
        "id": "Prw_sGy-8N8_",
        "colab_type": "text"
      },
      "source": [
        "\n",
        "\n",
        "Installing Geopandas can be a bit complex due to the libraries that it depends on.  See the [Geopandas documentation ](http://geopandas.org/install.html) for help with this process - read it carefully as that will save you many headaches!\n",
        "\n",
        "We will use the [Google Colaboratory](https://colab.research.google.com/notebooks/welcome.ipynb) Jupyter notebook environment for this workshop so that we will all have the same working enviroment.\n",
        "\n",
        "\\\n",
        "## About Google Colab\n",
        "\n",
        "Google Colab is a freemium (*i.e., extra stuff costs $$*) Jupyter notebook environment that requires no setup and runs entirely in the cloud.\n",
        "\n",
        "- A google account is required!\n",
        "\n",
        "From the browser you can write and execute Python code and save and share your notebooks.\n",
        "\n",
        "You can also install libraries that are not readily available and import local or remote data.\n",
        "\n",
        "- However, the libraries you install and data you import are only available to you temporarily in the Colab environment.\n",
        "\n",
        "\\\n",
        "### Why we like Colab\n",
        "\n",
        "- It's free for our needs\n",
        "\n",
        "- It's fast\n",
        "\n",
        "- It removes alot of local package install problems so we can get right to work.\n",
        "\n",
        "- It ensures that all workshop participants have the same computing environment.\n",
        "\n",
        "### Learning more\n",
        "\n",
        "To learn more go to the [Welcome to Google Colab](https://colab.research.google.com/notebooks/welcome.ipynb) site.\n",
        "\n",
        "\\\n",
        "\n",
        "## An alternative to Colab for the Berkeley community\n",
        "- https://datahub.berkeley.edu\n",
        "- You sign in with bCourses (credentials)\n",
        "- Learn more at https://data.berkeley.edu/academics/resources/berkeley-data-stack\n",
        "\n",
        "\\\n",
        "\n",
        "# Getting Started\n",
        "\n",
        "- Login to **Google Collaboratory** at <https://colab.research.google.com/notebooks/welcome.ipynb>\n",
        "\n",
        "- From the **File** menu select **Open Notebook**\n",
        "\n",
        "- Click on the **GitHUB** tab\n",
        "\n",
        "- Insert the URL to this github repo: https://github.com/dlab-berkeley/Geospatial-Fundamentals-in-Python and click \"SEARCH\"\n",
        "\n",
        "- Then, open the notebook **Geopandas_Intro_F2019_GC_workshop_11_12_2019.ipynb**\n",
        "\n",
        "*If you are warned that this is not a Google notebook, select \"Run anyway\".*\n",
        "\n",
        "\n",
        "\\\n",
        "\n",
        "## Install Geopandas and dependencies\n",
        "\n",
        "Google Colaboratory comes with a Juypyter notebook environment with the most common Python packages already installed. To import a library that's not installed by default, you can use **!pip install** or **!apt-get install**.\n",
        "\n",
        "* You can execute system commands within a juypter notebook by prepending the command with an exclamation mark (also called bang).\n",
        "\n",
        "<br>\n",
        "\n",
        "To run Geopandas in Google Colab, execute but do not change the code in the following cell. (*The install process we will follow is from [this notebook](https://colab.research.google.com/drive/1tSmJmjD3sTI31Cg1UCIKiE10dBUmWUG7#scrollTo=wHnmdr_QkKec&forceEdit=true&offline=true&sandboxMode=true)*).\n",
        "\n",
        ">**IMPORTANT** -  if you are installing these Python packages on your local computer see [Geopandas documentation ](http://geopandas.org/install.html) . Do not use the code below as this is for the Google Colaboratory environment.\n",
        "\n",
        "If you have your geopandas enviroment installed locally, you can get the data and notebook for this tutorial are in this github repository: https://github.com/dlab-berkeley/Geospatial-Fundamentals-in-Python\n",
        "\n"
      ]
    },
    {
      "cell_type": "code",
      "metadata": {
        "id": "AXNRLO1CixX9",
        "colab_type": "code",
        "colab": {}
      },
      "source": [
        "#######################################################\n",
        "# Code to install geopandas in Google Colaboratory\n",
        "# You need to run this code each time you run this \n",
        "# notebook on Google Colab\n",
        "# Should take about 2 - 8 minutes.\n",
        "#######################################################\n",
        "%%time \n",
        "!apt update\n",
        "!apt upgrade\n",
        "!apt install gdal-bin python-gdal python3-gdal \n",
        "# Install rtree - Geopandas requirment\n",
        "!apt install python3-rtree\n",
        "# Install pysal\n",
        "!pip install pysal\n",
        "# Install mapclassify\n",
        "!pip install mapclassify\n",
        "# Install Geopandas\n",
        "!pip install git+git://github.com/geopandas/geopandas.git\n",
        "# Install descartes - Geopandas requirment\n",
        "!pip install descartes "
      ],
      "execution_count": 0,
      "outputs": []
    },
    {
      "cell_type": "markdown",
      "metadata": {
        "id": "tsMDwLEu9VEN",
        "colab_type": "text"
      },
      "source": [
        "## Import GeoPandas and Related Libraries\n",
        "\n",
        "Next, import the libraries that we will use.\n"
      ]
    },
    {
      "cell_type": "code",
      "metadata": {
        "id": "nDsSqkTqi6AA",
        "colab_type": "code",
        "colab": {}
      },
      "source": [
        "import pandas as pd\n",
        "import geopandas as gpd\n",
        "import mapclassify\n",
        "import matplotlib.pyplot as plt\n",
        "from shapely.geometry import Point, Polygon, LineString"
      ],
      "execution_count": 0,
      "outputs": []
    },
    {
      "cell_type": "markdown",
      "metadata": {
        "id": "8ORbtTGb8vXm",
        "colab_type": "text"
      },
      "source": [
        "## While things are being installed\n",
        "\\\n",
        "Check out the https://dlab.berkeley.edu webpage for more info on\n",
        "\\\n",
        "consulting, working groups, workshops, etc\n",
        "\n",
        "\\\n",
        "Also, don't forget to **provide feedback** to improve our services\n",
        "\n",
        "\\"
      ]
    },
    {
      "cell_type": "markdown",
      "metadata": {
        "id": "Isp8KDswWMAr",
        "colab_type": "text"
      },
      "source": [
        "---"
      ]
    },
    {
      "cell_type": "markdown",
      "metadata": {
        "id": "d0Zj-OrsOjob",
        "colab_type": "text"
      },
      "source": [
        "# **1.- Geospatial Data**\n",
        "\n",
        "**LOCATION** --> Where\n",
        "\\\n",
        "**ATTRIBUTES** --> What\n",
        "\\\n",
        "**METADATA** --> When/Who/How\n",
        "\n",
        "Encode location geometrically with coordinates\n",
        "\n",
        "<img src=\"https://ucd3ed58a4a615469784742cf2ab.dl.dropboxusercontent.com/cd/0/inline/AsMIbQ0k28KFmyNfXcLTy-KvaAkTtFm6v5Ev6QdswOJS_kn__AiACDz2PsTk90UqSwmLZxf8I9CWaZskKMpGjny_Yg5UidjYUGF3t38yPwjrpifjqNwY5mxAKeBhZu8FXa0/file#\" width=\"800px\"></img>\n",
        "\n",
        "\\\n",
        "\n",
        "\\\n",
        "Geospatial information is represented using two types of data models: vector and raster.\n",
        "\n",
        "*   Vector data represents geographic information as points, lines or polygons.\n",
        "*   Raster data represents geographic information as a continuous surface of grid cells.\n",
        "\n",
        "\n",
        "\\\n",
        "<img src=\"https://uce1cd08627386c74cef5dd668ab.dl.dropboxusercontent.com/cd/0/inline/AsN6iS3Vs-xjLgWxPtR4g6HNFlZw22nyUiKj6jXHNtw3KIY6sM2hI59kS9b4k-KIpPLxOu-NStBaSiLywJG5-NRB8ATMDsLsQ7oVSyYza6AX3QYDqABOFqRQEwbKGaTPUBo/file#\" width=\"1000px\"></img>\n",
        "\n",
        "\n",
        "Take a look at the map below. Can you identify the types of geospatial data that are shown?\n",
        "<p>&nbsp;</p>\n",
        "<p>\n",
        "  <b>Geospatial Data for the City of Berkeley</b>\n",
        "<img src=\"https://raw.githubusercontent.com/dlab-berkeley/Geospatial-Fundamentals-in-Python/master/data/geospatial_data_berkeley.png\" width=\"800px\"></img>\n",
        "</p>\n",
        "\n",
        "<br>\n"
      ]
    },
    {
      "cell_type": "markdown",
      "metadata": {
        "id": "uenmnYiwKDPh",
        "colab_type": "text"
      },
      "source": [
        "\n",
        "## GeoPandas\n",
        "GeoPandas provides support for working with vector spatial data. If you are interested in working with raster data in Python, check out the rasterio package at <https://rasterio.readthedocs.io/en/stable>. This workshop only covers vector data.\n"
      ]
    },
    {
      "cell_type": "markdown",
      "metadata": {
        "id": "9MQ9ppDm90x6",
        "colab_type": "text"
      },
      "source": [
        "## About the Data \n",
        "\n",
        "This tutorial uses historical census data for the USA and the Orleans Territory, most of which is now called Louisiana, that were obtained from the `NHGIS`, or *National Historical Geographic Information System* website ([IPUMS NHGIS, University of Minnesota, www.nhgis.org](https://www.nhgis.org)).  A cartographic boundary file for the United States was obtained from the [US Census website](https://www.census.gov/geo/maps-data/data/tiger-cart-boundary.html).\n",
        "\n",
        "\n",
        "## Fetch the Data with `wget`\n",
        "\n",
        "The data and related notebooks for this tutorial are in this github repository: https://github.com/dlab-geo/geopandas_intro\n",
        "\n",
        "In the Google Colaboratory environment you can use the command **wget** to fetch the data from that repo and use it for the duration of this session.\n"
      ]
    },
    {
      "cell_type": "code",
      "metadata": {
        "id": "xzw08AFC-Ydk",
        "colab_type": "code",
        "colab": {}
      },
      "source": [
        "!wget 'https://raw.githubusercontent.com/dlab-geo/geopandas_intro/master/data/us_states.zip'\n",
        "!wget 'https://raw.githubusercontent.com/dlab-geo/geopandas_intro/master/data/uscounties_1810.zip'\n",
        "!wget 'https://raw.githubusercontent.com/dlab-geo/geopandas_intro/master/data/orleans_census_data1810.csv'\n",
        "!wget 'https://raw.githubusercontent.com/dlab-geo/geopandas_intro/master/data/lsc_points.csv'\n",
        "!wget 'https://raw.githubusercontent.com/dlab-geo/geopandas_intro/master/data/orleans_places.csv'\n"
      ],
      "execution_count": 0,
      "outputs": []
    },
    {
      "cell_type": "markdown",
      "metadata": {
        "id": "XlhACIIS_KEU",
        "colab_type": "text"
      },
      "source": [
        "### Take a look at the data files\n",
        "\n",
        "Make sure that all of the data has been transferred. You can look at the files using the **ls** system command (on mac) or the **dir()** command (on windows). \n",
        "\n",
        "* You can execute system commands within a juypter notebook by prepending the command with an exclamation mark (also called bang)."
      ]
    },
    {
      "cell_type": "code",
      "metadata": {
        "id": "E-btYxmG_Z3B",
        "colab_type": "code",
        "colab": {}
      },
      "source": [
        "!ls\n"
      ],
      "execution_count": 0,
      "outputs": []
    },
    {
      "cell_type": "markdown",
      "metadata": {
        "id": "jB5rXFGJdyO7",
        "colab_type": "text"
      },
      "source": [
        "Some of the files we just fetched are zipped. Let's take a look at those:"
      ]
    },
    {
      "cell_type": "markdown",
      "metadata": {
        "id": "QMKhDmQudgFV",
        "colab_type": "text"
      },
      "source": [
        "### Two ways of unzipping files\n"
      ]
    },
    {
      "cell_type": "markdown",
      "metadata": {
        "id": "-diGR9FIPggq",
        "colab_type": "text"
      },
      "source": [
        "####1 - Combining python commands with system commands"
      ]
    },
    {
      "cell_type": "code",
      "metadata": {
        "id": "lrps9tdjPN_7",
        "colab_type": "code",
        "colab": {}
      },
      "source": [
        "myfiles = !ls *.zip\n",
        "\n",
        "myfiles = myfiles[0].split()\n",
        "\n",
        "print(myfiles)"
      ],
      "execution_count": 0,
      "outputs": []
    },
    {
      "cell_type": "markdown",
      "metadata": {
        "id": "Wm79LhUcPzCZ",
        "colab_type": "text"
      },
      "source": [
        "Now, unzip the zipped files."
      ]
    },
    {
      "cell_type": "code",
      "metadata": {
        "id": "v73FH7IBPWXF",
        "colab_type": "code",
        "colab": {}
      },
      "source": [
        "for f in myfiles:\n",
        "  print(\"Unzipping: \", f)\n",
        "  !unzip {f}"
      ],
      "execution_count": 0,
      "outputs": []
    },
    {
      "cell_type": "markdown",
      "metadata": {
        "id": "QLPiOu28SdHX",
        "colab_type": "text"
      },
      "source": [
        "Take another look at our files."
      ]
    },
    {
      "cell_type": "code",
      "metadata": {
        "id": "24chnTLLSYQU",
        "colab_type": "code",
        "colab": {}
      },
      "source": [
        "!ls"
      ],
      "execution_count": 0,
      "outputs": []
    },
    {
      "cell_type": "markdown",
      "metadata": {
        "id": "oq6cbyeyeDzV",
        "colab_type": "text"
      },
      "source": [
        "####2 - Directly via geopandas (more on this below)"
      ]
    },
    {
      "cell_type": "markdown",
      "metadata": {
        "id": "DFhRGmbfXN2o",
        "colab_type": "text"
      },
      "source": [
        "## Spatial Data File Formats\n",
        "\n",
        "There are many different types of [vector geospatial data file formats](https://en.wikipedia.org/wiki/GIS_file_formats#Vector). You may have heard of Shapefiles, GeoJSON, KML, Spatialite files and others.\n",
        "\n",
        "Of all of the available formats the most commonly used ones are the [ESRI Shapefile](https://en.wikipedia.org/wiki/Shapefile) and the **CSV** file.\n",
        "\n",
        "Let's start with a brief discussion of the ESRI Shapefile.\n",
        "\n",
        "* **ESRI Shapefile**: a collection of 3 to 15 files that collectively make up the Shapefile.\n",
        "    * `.shp` - the spatial data encoded geometrically as points, lines or polygons\n",
        "    * `.shx` - the spatial data index\n",
        "    * `.dbf` - the attribute table that describes each feature\n",
        "    * `.prj` - a text file that identifies the coordinate reference system (CRS) for the data\n",
        "\n"
      ]
    },
    {
      "cell_type": "markdown",
      "metadata": {
        "id": "o7SyRyI5e3ob",
        "colab_type": "text"
      },
      "source": [
        "<img src=\"https://uce778cebd73ef35d88344dc080a.dl.dropboxusercontent.com/cd/0/inline/AsOibjlFvTuODXsQU_1ZRR0t2eMbW7rVGRkwM3TwIHguSRnYnDg4FyT0-tlqQ_FvBbqwB-z0Ai7QO7x98z2xh3mg8342GPHfuNn283yYlWwn2t8Zbwh3lA1_hS6OTMcrnqg/file#\" width=\"1000px\"></img>"
      ]
    },
    {
      "cell_type": "markdown",
      "metadata": {
        "id": "s0VoXbM-_f_Z",
        "colab_type": "text"
      },
      "source": [
        "## Reading in a Spatial Data from a Shapefile\n",
        "\n",
        "GeoPandas makes it easy to read in almost any kind of vector data file with the [read_file](http://geopandas.org/io.html) command. Let's use it to read in the data in the **usa1810** shapefile."
      ]
    },
    {
      "cell_type": "code",
      "metadata": {
        "id": "Vtg8x5F5_kcy",
        "colab_type": "code",
        "colab": {}
      },
      "source": [
        "usa1810 = gpd.read_file(\"./uscounties_1810.shp\")  #US counties in 1810"
      ],
      "execution_count": 0,
      "outputs": []
    },
    {
      "cell_type": "markdown",
      "metadata": {
        "id": "Mv9FRBqUI_r1",
        "colab_type": "text"
      },
      "source": [
        "Take a look at the first rows of data with the `head` method."
      ]
    },
    {
      "cell_type": "code",
      "metadata": {
        "id": "VzSnBqTeSoQz",
        "colab_type": "code",
        "colab": {}
      },
      "source": [
        "usa1810.head()"
      ],
      "execution_count": 0,
      "outputs": []
    },
    {
      "cell_type": "markdown",
      "metadata": {
        "id": "l15hbGSgqsBR",
        "colab_type": "text"
      },
      "source": [
        "GeoPandas can also read in a zipped shapefile. This can be quite convenient.\n",
        "\n",
        "* Note, the syntax for reading in a zipped file is slightly different."
      ]
    },
    {
      "cell_type": "code",
      "metadata": {
        "id": "pNWcC-jYqrXL",
        "colab_type": "code",
        "colab": {}
      },
      "source": [
        "# Read in the unzipped shapefile\n",
        "\n",
        "usa1810 = gpd.read_file(\"zip://./uscounties_1810.zip\")  #US counties in 1810\n",
        "\n",
        "# Take a look at the GeoDataFrame\n",
        "usa1810.head()"
      ],
      "execution_count": 0,
      "outputs": []
    },
    {
      "cell_type": "markdown",
      "metadata": {
        "id": "n7uII8b2cjb8",
        "colab_type": "text"
      },
      "source": [
        "*However, sometimes GeoPandas cannot read a zipped shapefile due to its content or the way it was created. If this is the case, unzip it and read it in directly.*\n"
      ]
    },
    {
      "cell_type": "markdown",
      "metadata": {
        "id": "gzRtuYUUATyO",
        "colab_type": "text"
      },
      "source": [
        "# **2.- GeoDataFrame**\n",
        "\n",
        "The `gpd.read_file` command returns a GeoPandas **GeoDataFrame** object.  We can double-check this with the `type` function.\n",
        "\n"
      ]
    },
    {
      "cell_type": "code",
      "metadata": {
        "id": "Z2Atdm9jrqRB",
        "colab_type": "code",
        "colab": {}
      },
      "source": [
        "type(usa1810)\n"
      ],
      "execution_count": 0,
      "outputs": []
    },
    {
      "cell_type": "markdown",
      "metadata": {
        "id": "L9OZJ1BUr6re",
        "colab_type": "text"
      },
      "source": [
        "The `GeoDataFrame` is a **pandas** DataFrame with extra geospatial capabilities. So if you know `pandas` then working with GeoPandas will be much, MUCH easier. \n",
        "\n",
        "Let's take a look at the GeoDataFrame again using the **head** method.\n",
        "\n",
        "- *Do you notice anything different about the GeoDataFrame compared to a regular DataFrame?*"
      ]
    },
    {
      "cell_type": "code",
      "metadata": {
        "id": "UDbIYsYCAqkr",
        "colab_type": "code",
        "colab": {}
      },
      "source": [
        "usa1810.sort_values(by=\"STATENAM\").head(20)"
      ],
      "execution_count": 0,
      "outputs": []
    },
    {
      "cell_type": "markdown",
      "metadata": {
        "colab_type": "text",
        "id": "EQGUWTGAr4B3"
      },
      "source": [
        "Because a GeoDataFrame is a pandas DataFrame you can use all the pandas DataFrame methods with it.  Some examples are shown below.\n"
      ]
    },
    {
      "cell_type": "code",
      "metadata": {
        "id": "wsYaEF_HnRcm",
        "colab_type": "code",
        "colab": {}
      },
      "source": [
        "# How many states or territories did the USA have in 1810?\n",
        "\n",
        "usa1810.STATENAM.nunique()  "
      ],
      "execution_count": 0,
      "outputs": []
    },
    {
      "cell_type": "code",
      "metadata": {
        "id": "D0ov7hp4VQbH",
        "colab_type": "code",
        "colab": {}
      },
      "source": [
        "# What states had the most counties in 1810?\n",
        "usa1810.STATENAM.value_counts()"
      ],
      "execution_count": 0,
      "outputs": []
    },
    {
      "cell_type": "markdown",
      "metadata": {
        "id": "vbDet05HKNmY",
        "colab_type": "text"
      },
      "source": [
        "**Suggestion**: If you don't know pandas or want to refresh your knowledge of it we recommend you take an online tutorial or D-Lab workshop to get familiar with its methods for data manipulation and analysis.  That will make it easier for you to get the most out of GeoPandas."
      ]
    },
    {
      "cell_type": "markdown",
      "metadata": {
        "id": "HBn1hs4gkNb6",
        "colab_type": "text"
      },
      "source": [
        "### Rename columns\n",
        "\n",
        "The columns that contain the county and state names are labeled `NHGISNAM` and `STATENAM`. Use the pandas `rename` method to rename the county and state name columns. This will make our work with the data more intuitive moving forward."
      ]
    },
    {
      "cell_type": "code",
      "metadata": {
        "id": "xlnEzCxlkk-b",
        "colab_type": "code",
        "colab": {}
      },
      "source": [
        "usa1810.rename(columns={'NHGISNAM' : 'COUNTY', 'STATENAM': 'STATE'}, inplace=True)\n",
        "usa1810.head()"
      ],
      "execution_count": 0,
      "outputs": []
    },
    {
      "cell_type": "markdown",
      "metadata": {
        "id": "DrVcke55JxSo",
        "colab_type": "text"
      },
      "source": [
        "## CSV Files as Geospatial Data File Format\n",
        "\n",
        "\n",
        "A **CSV** is a text file with a `.csv` file extension that contains rows of comma separated values where, typically, the first row has the column names.\n"
      ]
    },
    {
      "cell_type": "markdown",
      "metadata": {
        "id": "bRJfVPhiLTk6",
        "colab_type": "text"
      },
      "source": [
        "For example, take a look at the file `lsc_points.csv` which contains the names and locations of Louisiana Slave Conspiracies:"
      ]
    },
    {
      "cell_type": "code",
      "metadata": {
        "id": "vX-i6rNWLlbr",
        "colab_type": "code",
        "colab": {}
      },
      "source": [
        "!cat lsc_points.csv"
      ],
      "execution_count": 0,
      "outputs": []
    },
    {
      "cell_type": "markdown",
      "metadata": {
        "id": "1k59xjI0MYZ9",
        "colab_type": "text"
      },
      "source": [
        "It's a two step process for creating a GeoDataFrame from a CSV file:\n",
        "\n",
        "1. Read the csv file into a Pandas DataFrame.\n",
        "\n",
        "2. Convert the DataFrame to a GeoDataFrame.\n",
        "\n",
        "We show these steps below."
      ]
    },
    {
      "cell_type": "code",
      "metadata": {
        "id": "c030YbCDMxYU",
        "colab_type": "code",
        "colab": {}
      },
      "source": [
        "# Read the csv file into a Pandas DataFrame.\n",
        "lsc_df = pd.read_csv(\"./lsc_points.csv\")\n",
        " \n",
        "# Take a look at the data\n",
        "lsc_df"
      ],
      "execution_count": 0,
      "outputs": []
    },
    {
      "cell_type": "markdown",
      "metadata": {
        "id": "_pp8svkWNNzK",
        "colab_type": "text"
      },
      "source": [
        "Once we identify the columns in the dataframe that contain the geometry, here longitude and latitude, we can create a GeoDataFrame as follows."
      ]
    },
    {
      "cell_type": "code",
      "metadata": {
        "id": "E9JegomwNHT-",
        "colab_type": "code",
        "colab": {}
      },
      "source": [
        "#Convert the DataFrame to a GeoDataFrame.\n",
        "lsc_locs = gpd.GeoDataFrame(\n",
        "    lsc_df, geometry=gpd.points_from_xy(lsc_df.longitude, lsc_df.latitude))\n",
        "\n",
        "# Take a look\n",
        "lsc_locs.head()"
      ],
      "execution_count": 0,
      "outputs": []
    },
    {
      "cell_type": "markdown",
      "metadata": {
        "id": "LHQ7qHthNvlY",
        "colab_type": "text"
      },
      "source": [
        "### Challenge\n",
        "\n",
        "Read in the CSV file **orleans_places.csv** and create a GeoDataFrame from it called **orleans_places**.\n",
        "\n",
        "Then take a look at the GeoDataFrame."
      ]
    },
    {
      "cell_type": "code",
      "metadata": {
        "id": "6FnFNWsfN8fE",
        "colab_type": "code",
        "colab": {}
      },
      "source": [
        "## Your code here to read the csv file into a Pandas dataframe\n"
      ],
      "execution_count": 0,
      "outputs": []
    },
    {
      "cell_type": "code",
      "metadata": {
        "id": "FS3cJC29OgC5",
        "colab_type": "code",
        "colab": {}
      },
      "source": [
        "## Your code to create a gdf from the df and view it\n",
        "#Convert the DataFrame to a GeoDataFrame.\n",
        "\n",
        "\n",
        "# Take a look\n"
      ],
      "execution_count": 0,
      "outputs": []
    },
    {
      "cell_type": "markdown",
      "metadata": {
        "id": "itL3XIdsN-Gb",
        "colab_type": "text"
      },
      "source": [
        "### Challenge - Solution"
      ]
    },
    {
      "cell_type": "code",
      "metadata": {
        "id": "alTKmz2FOBF3",
        "colab_type": "code",
        "colab": {}
      },
      "source": [
        "# Read the csv file into a Pandas df.\n",
        "orleans_places_df = pd.read_csv(\"./orleans_places.csv\")\n",
        "\n",
        "#take a look\n",
        "orleans_places_df.head()"
      ],
      "execution_count": 0,
      "outputs": []
    },
    {
      "cell_type": "code",
      "metadata": {
        "id": "gsJzo83YOo86",
        "colab_type": "code",
        "colab": {}
      },
      "source": [
        "#Convert the df to a gdf.\n",
        "orleans_places = gpd.GeoDataFrame(\n",
        "    orleans_places_df, geometry=gpd.points_from_xy(orleans_places_df.longitude, orleans_places_df.latitude))\n",
        "\n",
        "# Take a look\n",
        "orleans_places.head()"
      ],
      "execution_count": 0,
      "outputs": []
    },
    {
      "cell_type": "markdown",
      "metadata": {
        "id": "jmWUm0vtJq_I",
        "colab_type": "text"
      },
      "source": [
        "# GeoDataFrame Deep Dive\n",
        "\n",
        "It's a good idea to get familiar with the GeoDataFrame structure and components. This will help you understand the different geospatial analysis methods that GeoPandas provides and to troubleshoot when you get stuck."
      ]
    },
    {
      "cell_type": "markdown",
      "metadata": {
        "id": "xn72HHHR9lVO",
        "colab_type": "text"
      },
      "source": [
        "## The GeoDataFrame Geometry Column\n",
        "\n",
        "All GeoPandas GeoDataFrames must have one *special* geometry column that contains the spatial data. \n",
        "\n",
        "This column is named **geometry** by default, but it could be something else. \n",
        "\n",
        "When you read in a spatial data file to create a new GeoDataFrame the `geometry` column is automatically created. \n",
        " \n",
        " \n",
        " You can always get the name of your special geometry column:"
      ]
    },
    {
      "cell_type": "code",
      "metadata": {
        "id": "E2VJ3z9254fE",
        "colab_type": "code",
        "colab": {}
      },
      "source": [
        "usa1810.geometry.name"
      ],
      "execution_count": 0,
      "outputs": []
    },
    {
      "cell_type": "code",
      "metadata": {
        "id": "8JCrdd4JO5sr",
        "colab_type": "code",
        "colab": {}
      },
      "source": [
        "lsc_locs.geometry.name"
      ],
      "execution_count": 0,
      "outputs": []
    },
    {
      "cell_type": "markdown",
      "metadata": {
        "id": "7DcQ1T0-yRod",
        "colab_type": "text"
      },
      "source": [
        "# **3.- GeoSeries**"
      ]
    },
    {
      "cell_type": "markdown",
      "metadata": {
        "id": "kYdHZUJ3Au2e",
        "colab_type": "text"
      },
      "source": [
        "\n",
        "The geometry column is of type **GeoSeries**, taking its name and its base functionality from the pandas **series** object.   \n",
        "\n",
        "\n",
        "\n"
      ]
    },
    {
      "cell_type": "code",
      "metadata": {
        "id": "orC67h90BDR4",
        "colab_type": "code",
        "colab": {}
      },
      "source": [
        "type(usa1810.geometry)"
      ],
      "execution_count": 0,
      "outputs": []
    },
    {
      "cell_type": "markdown",
      "metadata": {
        "id": "vSV9M7r7YaIX",
        "colab_type": "text"
      },
      "source": [
        "Not all columns in the GeoDataFrame are of type GeoSeries. What is the type of the COUNTY column?"
      ]
    },
    {
      "cell_type": "code",
      "metadata": {
        "id": "lPPpLnuGYVZd",
        "colab_type": "code",
        "colab": {}
      },
      "source": [
        "# Your code here"
      ],
      "execution_count": 0,
      "outputs": []
    },
    {
      "cell_type": "markdown",
      "metadata": {
        "id": "2eI4jtpoXg6k",
        "colab_type": "text"
      },
      "source": [
        "A **GeoDataFrame** is a tabular data structure comprised of GeoSeries and Series objects - these are the columns in the table.\n",
        "\n",
        "The data within each column also has a data type. You can check the type of data within the GeoSeries and Series columns using the **dtypes** method.\n",
        "\n"
      ]
    },
    {
      "cell_type": "code",
      "metadata": {
        "id": "LPK4jNtcXbRV",
        "colab_type": "code",
        "colab": {}
      },
      "source": [
        "usa1810.dtypes"
      ],
      "execution_count": 0,
      "outputs": []
    },
    {
      "cell_type": "markdown",
      "metadata": {
        "id": "aIXucWbjYBfO",
        "colab_type": "text"
      },
      "source": [
        "The `dtypes` method shows that the data in the geometry column are of type `geometry`. GeoPandas extends pandas by adding this data type.\n",
        "\n",
        "* Note, Python labels character string data as an \"object\"."
      ]
    },
    {
      "cell_type": "markdown",
      "metadata": {
        "id": "pCmatRQfYvzq",
        "colab_type": "text"
      },
      "source": [
        " \n",
        "\n",
        "\n",
        "\n",
        "## Any Questions?"
      ]
    },
    {
      "cell_type": "markdown",
      "metadata": {
        "id": "YcQuGOaYMFnv",
        "colab_type": "text"
      },
      "source": [
        "# **4.- Geometries: Points, Linestrings, and Polygons**\n",
        "\n",
        "The GeoDataFrame is a pandas DataFrame that contains a special geometry column. \n",
        "\n",
        "That geometry column itself is of type GeoSeries and it contains data of type geometry."
      ]
    },
    {
      "cell_type": "markdown",
      "metadata": {
        "id": "B4s8qJNuHibU",
        "colab_type": "text"
      },
      "source": [
        "GeoPandas supports three basic types of vector geometries:\n",
        "- **Points / MultiPoints**\n",
        "    - POINT( -122 38)\n",
        "\n",
        "    - MULTIPOINT((-122 38), (-123 39))\n",
        "    \n",
        "- **Lines / MultiLines**\n",
        "    - LINE (30 10, 10 30, 40 40)\n",
        "    \n",
        "    - MULTILINE((10 10, 20 20, 10 40),(40 40, 30 30, 40 20, 30 10))\n",
        "    \n",
        "- **Polygons / MultiPolygons**\n",
        "    - POLYGON ((35 10, 45 45, 15 40, 10 20, 35 10), (20 30, 35 35, 30 20, 20 30))\n",
        "    - MULTIPOLYGON (((30 20, 45 40, 10 40, 30 20)), ((15 5, 40 10, 10 20, 5 10, 15 5)))\n",
        "\n",
        " \n",
        "\n",
        " \n",
        "**Notes**\n",
        "\n",
        "* These geometries are displayed above and in the GeoDataFrame in what is called **Well-Known Text** format.\n",
        "\n",
        "* A GeoSeries can contain mixed geometry types. But that is not always a great idea.\n",
        "\n"
      ]
    },
    {
      "cell_type": "markdown",
      "metadata": {
        "id": "tpAVk6xDwTfK",
        "colab_type": "text"
      },
      "source": [
        "<img src=\"https://ucad11083bdd7ea2e7023d2559aa.dl.dropboxusercontent.com/cd/0/inline/AsNQWnwp-9gweXwcltxIRazE6AX29CP-I-Ip6fm9beT2LU7cZIta1IwXfDUiS3ExVIFbU68dm0_F71puELBvdueRUiRNtciawjwfEPZ3Bt3lXy6iNB3w8iKrnqOutDju0zo/file#\" width=\"400px\"></img>\n",
        "\n",
        "\n",
        "\n"
      ]
    },
    {
      "cell_type": "markdown",
      "metadata": {
        "id": "ZRYjOn6MnVWx",
        "colab_type": "text"
      },
      "source": [
        "Let's check the specific geometry type(s) in our GeoDataFrame."
      ]
    },
    {
      "cell_type": "code",
      "metadata": {
        "id": "x-wUsbzcIUTa",
        "colab_type": "code",
        "colab": {}
      },
      "source": [
        "set(usa1810.geom_type)  # set returns unique values"
      ],
      "execution_count": 0,
      "outputs": []
    },
    {
      "cell_type": "markdown",
      "metadata": {
        "id": "Mw43zbeZfDCe",
        "colab_type": "text"
      },
      "source": [
        "### Question\n",
        "Why would this dataframe of **counties** contain both Polygon and Multipolygon geometries?"
      ]
    },
    {
      "cell_type": "markdown",
      "metadata": {
        "id": "-zH3PGWRPC2q",
        "colab_type": "text"
      },
      "source": [
        "### Question\n",
        "\n",
        "What specific geometry types are in the orleans_places gdf?"
      ]
    },
    {
      "cell_type": "code",
      "metadata": {
        "id": "dltbGe9PPMBS",
        "colab_type": "code",
        "colab": {}
      },
      "source": [
        "# Your answer here...\n",
        "set(orleans_places.geom_type)"
      ],
      "execution_count": 0,
      "outputs": []
    },
    {
      "cell_type": "markdown",
      "metadata": {
        "id": "T1kmDBDT17Z6",
        "colab_type": "text"
      },
      "source": [
        "### Question\n",
        "What if your dataframe is lacking some data that can be added manually? \n",
        "Answer: Create/input your data via Shapely"
      ]
    },
    {
      "cell_type": "code",
      "metadata": {
        "id": "2PW8aiJY2NV7",
        "colab_type": "code",
        "colab": {}
      },
      "source": [
        "point_demo = Point(1,1)\n",
        "print(point_demo)"
      ],
      "execution_count": 0,
      "outputs": []
    },
    {
      "cell_type": "code",
      "metadata": {
        "id": "lrbEGY4Y2RZS",
        "colab_type": "code",
        "colab": {}
      },
      "source": [
        "polygon_demo = Polygon([(1, 1), (2,2), (2, 1)])\n",
        "print(polygon_demo)"
      ],
      "execution_count": 0,
      "outputs": []
    },
    {
      "cell_type": "markdown",
      "metadata": {
        "id": "UjH0P3RChAlB",
        "colab_type": "text"
      },
      "source": [
        "## **Progression: GeoDataFame, GeoSeries, Geometry**"
      ]
    },
    {
      "cell_type": "markdown",
      "metadata": {
        "id": "qcLojBBABZh7",
        "colab_type": "text"
      },
      "source": [
        "\n",
        "Let's take a look at a GeoDataFrame a bit more closely.\n",
        "\n",
        "First, let's subset the `usa1810` GeoDataFrame to select only the rows for the state of New York."
      ]
    },
    {
      "cell_type": "code",
      "metadata": {
        "id": "J5S9mTwYvlC9",
        "colab_type": "code",
        "colab": {}
      },
      "source": [
        "ny_gdf = usa1810[usa1810['STATE']=='New York']\n",
        "\n",
        "print(\"The ny_gdf object is of type: \", type(ny_gdf), \"\\n\")\n",
        "\n",
        "ny_gdf.head()"
      ],
      "execution_count": 0,
      "outputs": []
    },
    {
      "cell_type": "markdown",
      "metadata": {
        "id": "UdshKW9gSG9M",
        "colab_type": "text"
      },
      "source": [
        "Now let's create a GeoSeries from the geometry column in the GeoDataFrame."
      ]
    },
    {
      "cell_type": "code",
      "metadata": {
        "id": "ta4MeMKxHC7x",
        "colab_type": "code",
        "colab": {}
      },
      "source": [
        "ny_gs = ny_gdf.geometry\n",
        "\n",
        "print(\"The ny_gs object is of type: \", type(ny_gs), \"\\n\")\n",
        "\n",
        "ny_gs.head()"
      ],
      "execution_count": 0,
      "outputs": []
    },
    {
      "cell_type": "markdown",
      "metadata": {
        "id": "-c91wkP-SPMT",
        "colab_type": "text"
      },
      "source": [
        "Finally, let's get the geometry value itself.  \n",
        "\n",
        "To extract a single value from a Series or GeoSeries you use its row index. "
      ]
    },
    {
      "cell_type": "code",
      "metadata": {
        "id": "Q8Hk9KBuRoRx",
        "colab_type": "code",
        "colab": {}
      },
      "source": [
        "# Get the geometry for NY County\n",
        "\n",
        "#First get the index for the County\n",
        "NYC_index = ny_gdf[ny_gdf.COUNTY=='New York'].index.values[0]\n",
        "print(NYC_index)\n",
        "\n",
        "# Fetch the geometry\n",
        "ny_geom = ny_gs[NYC_index]\n",
        "\n",
        "print(\"The ny_geom object is of type: \", type(ny_geom), \"\\n\")\n",
        "\n",
        "ny_geom"
      ],
      "execution_count": 0,
      "outputs": []
    },
    {
      "cell_type": "markdown",
      "metadata": {
        "id": "q0BZVAb1VktE",
        "colab_type": "text"
      },
      "source": [
        "\n",
        "As shown above, when you return a single geometry, the object is plotted. To see the data  in  [well-known text](https://en.wikipedia.org/wiki/Well-known_text_representation_of_geometry) format, or WKT,  use the `print` function."
      ]
    },
    {
      "cell_type": "code",
      "metadata": {
        "id": "6MnbXLmcvdIF",
        "colab_type": "code",
        "colab": {}
      },
      "source": [
        "print(ny_geom)"
      ],
      "execution_count": 0,
      "outputs": []
    },
    {
      "cell_type": "code",
      "metadata": {
        "id": "-NJk9EfoXHel",
        "colab_type": "code",
        "colab": {}
      },
      "source": [
        "ny_gdf[ny_gdf.COUNTY=='New York'].index.values[0]\n",
        "ny_gs[ny_gdf[ny_gdf.COUNTY=='New York'].index.values[0]]"
      ],
      "execution_count": 0,
      "outputs": []
    },
    {
      "cell_type": "code",
      "metadata": {
        "id": "wG03auuJ6d4O",
        "colab_type": "code",
        "colab": {}
      },
      "source": [
        "ny_gdf[ny_gdf.COUNTY=='New York'].geometry.squeeze()\n",
        "#type(ny_gdf[ny_gdf.COUNTY=='New York'].geometry.squeeze())"
      ],
      "execution_count": 0,
      "outputs": []
    },
    {
      "cell_type": "markdown",
      "metadata": {
        "id": "5tzC3F-x9yxX",
        "colab_type": "text"
      },
      "source": [
        "## GeoPandas Attributes and Methods\n",
        "\n",
        "GeoPandas extends pandas with spatial attributes and methods that apply to the special `geometry` column.\n",
        "\n",
        "\n",
        "For example, the code in the following cell returns the **total_bounds** attribute. These are the coordinates for the minimum bounding box that contain all geometries in the `geometry` GeoSeries."
      ]
    },
    {
      "cell_type": "code",
      "metadata": {
        "id": "XeqJ-KGF-Et0",
        "colab_type": "code",
        "colab": {}
      },
      "source": [
        "usa1810.geometry.total_bounds"
      ],
      "execution_count": 0,
      "outputs": []
    },
    {
      "cell_type": "markdown",
      "metadata": {
        "id": "bqWCpXdDowlh",
        "colab_type": "text"
      },
      "source": [
        "GeoPandas will apply a spatial method to the geometry column even if you do not explicitly reference it."
      ]
    },
    {
      "cell_type": "code",
      "metadata": {
        "id": "7mHWQWWXMb5T",
        "colab_type": "code",
        "colab": {}
      },
      "source": [
        "usa1810.total_bounds"
      ],
      "execution_count": 0,
      "outputs": []
    },
    {
      "cell_type": "markdown",
      "metadata": {
        "id": "uhbzLYfE-sgb",
        "colab_type": "text"
      },
      "source": [
        "Most Geopandas geometry methods and attributes apply to **each** geometry in the GeoSeries rather than **all** in the aggregrate. \n",
        "\n",
        "For example, let's use the bounds attribute to see the bounding coordinates of each county in the usa1810 geodataframe."
      ]
    },
    {
      "cell_type": "code",
      "metadata": {
        "id": "hqLv3MTQ-2Bt",
        "colab_type": "code",
        "colab": {}
      },
      "source": [
        "usa1810.bounds.head()"
      ],
      "execution_count": 0,
      "outputs": []
    },
    {
      "cell_type": "markdown",
      "metadata": {
        "id": "zztVWkxYp1-4",
        "colab_type": "text"
      },
      "source": [
        "To see all of the attributes and methods of a GeoDataFrame, enter its name followed by a period and hit the tab key. Try that below."
      ]
    },
    {
      "cell_type": "code",
      "metadata": {
        "id": "Nb49fDOUpcFD",
        "colab_type": "code",
        "colab": {}
      },
      "source": [
        "#usa1810"
      ],
      "execution_count": 0,
      "outputs": []
    },
    {
      "cell_type": "markdown",
      "metadata": {
        "id": "jzIzy925mff9",
        "colab_type": "text"
      },
      "source": [
        "In the rest of this tutorial we will explore the basic GeoPandas methods for working with GeoDataFrames, GeoSeries and geometries."
      ]
    },
    {
      "cell_type": "markdown",
      "metadata": {
        "id": "9Pd-2mupfJ4r",
        "colab_type": "text"
      },
      "source": [
        "## Summary\n",
        "\n",
        "GeoPandas extends Pandas with attributes and methods for **GeoDataFrames**, **GeoSeries** and **geometry** objects.\n",
        "\n",
        "These objects have their own methods and the methods take arguments that may also be one of these types of objects.\n",
        "\n",
        "\\\n",
        "You can use the \"dot-tab\" command to what is available for each type of geospatial object. This is a great way to explore the data, when used along with the help page and the GeoPandas online documentation.\n",
        "\n",
        "\\\n",
        "As you work with GeoPandas and read through the [online documentation](http://geopandas.org) keep in mind which type of object you are working with and what type is required as input to a method or returned by a specific method or attribute.\n",
        "\n",
        "\n"
      ]
    },
    {
      "cell_type": "markdown",
      "metadata": {
        "id": "VnIHZrCnef5Q",
        "colab_type": "text"
      },
      "source": [
        "### Any Questions?\n",
        "\n",
        "---"
      ]
    },
    {
      "cell_type": "markdown",
      "metadata": {
        "id": "qvA7Od2i8ZcQ",
        "colab_type": "text"
      },
      "source": [
        "# **5.- Mapping GeoDataFrames**"
      ]
    },
    {
      "cell_type": "markdown",
      "metadata": {
        "id": "p5XrboksEbYO",
        "colab_type": "text"
      },
      "source": [
        "\n",
        "One of the first things to do with geographic data once you read it into GeoPandas is visualize it.\n",
        "\n",
        "The GeoPandas **plot** method will display the data in a GeoDataFrame or GeoSeries. \n",
        "\n",
        "This uses `matplotlib` and the matplotlib `pyplot` module under the hood."
      ]
    },
    {
      "cell_type": "code",
      "metadata": {
        "id": "n_h2zxUTEg-_",
        "colab_type": "code",
        "colab": {}
      },
      "source": [
        "# Plot a GeoDataFrame\n",
        "usa1810.plot()  # it's really that simple!\n",
        "plt.show()"
      ],
      "execution_count": 0,
      "outputs": []
    },
    {
      "cell_type": "markdown",
      "metadata": {
        "id": "ZWRNmvNqhJkN",
        "colab_type": "text"
      },
      "source": [
        "We can also plot a subset of the geodataframe."
      ]
    },
    {
      "cell_type": "code",
      "metadata": {
        "id": "cMXf0R8CJl-b",
        "colab_type": "code",
        "colab": {}
      },
      "source": [
        "# Plot all the 1810 counties in New York state\n",
        "usa1810[usa1810['STATE']=='New York'].plot()"
      ],
      "execution_count": 0,
      "outputs": []
    },
    {
      "cell_type": "markdown",
      "metadata": {
        "id": "1a7WuS-khTOw",
        "colab_type": "text"
      },
      "source": [
        "And we can plot a geoseries with plot()"
      ]
    },
    {
      "cell_type": "code",
      "metadata": {
        "id": "Vdf0xbXQb6BK",
        "colab_type": "code",
        "colab": {}
      },
      "source": [
        "# plot the geometry geoseries\n",
        "usa1810[usa1810['STATE']=='New York'].geometry.plot()"
      ],
      "execution_count": 0,
      "outputs": []
    },
    {
      "cell_type": "markdown",
      "metadata": {
        "id": "8RtVjNTuEm60",
        "colab_type": "text"
      },
      "source": [
        "Pretty cool to be able to make a map with a single command. However, there is always room for improvement. You can find out more about the plotting options for basic maps in the geopandas documentation and in the [matplotlib](https://matplotlib.org/) documentation.\n",
        "\n",
        "</br>\n",
        "\n",
        "For now, let's use some options to make a prettier map. Take a minute to consider what each option does."
      ]
    },
    {
      "cell_type": "code",
      "metadata": {
        "id": "Ho1eyzbQEpCk",
        "colab_type": "code",
        "colab": {}
      },
      "source": [
        "usa1810.plot(linewidth=0.5, edgecolor='grey', facecolor='pink',  figsize=(10,8) )\n",
        "plt.show()"
      ],
      "execution_count": 0,
      "outputs": []
    },
    {
      "cell_type": "markdown",
      "metadata": {
        "id": "O5KT2kwqj4Jz",
        "colab_type": "text"
      },
      "source": [
        "When you have time, take a look at the method documentation for **plot** to see all of the available options.\n"
      ]
    },
    {
      "cell_type": "code",
      "metadata": {
        "id": "Vu9AR8rAjmuT",
        "colab_type": "code",
        "colab": {}
      },
      "source": [
        "#gpd.GeoDataFrame.plot?\n",
        "#gpd.GeoSeries.plot?"
      ],
      "execution_count": 0,
      "outputs": []
    },
    {
      "cell_type": "markdown",
      "metadata": {
        "id": "AvpwpNkMbgS0",
        "colab_type": "text"
      },
      "source": [
        "## Question\n",
        "\n",
        "Can you think of why the options for plotting a GeoDataFrame are different from those for a GeoSeries?"
      ]
    },
    {
      "cell_type": "markdown",
      "metadata": {
        "id": "pK7G8Qg4E09x",
        "colab_type": "text"
      },
      "source": [
        "## Challenge\n",
        "\n",
        "Let's take a few minutes to practice some of what we have done so far with a different data set.\n",
        "\n",
        "- Read the **us_states** shapefile into a GeoPandas GeoDataFrame named **usa**.\n",
        "- Take a look at the data in this dataframe using `head`.\n",
        "- Then, make a map of the `usa`, \n",
        "    - setting the `figsize` to (14,10)\n",
        "    - the fill color to green,\n",
        "    - and the outline color to white"
      ]
    },
    {
      "cell_type": "code",
      "metadata": {
        "id": "oq3Oehm-dkal",
        "colab_type": "code",
        "colab": {}
      },
      "source": [
        "# your code here to load the data from the zip file into a geodataframe\n"
      ],
      "execution_count": 0,
      "outputs": []
    },
    {
      "cell_type": "code",
      "metadata": {
        "id": "kozgQ9EodqoM",
        "colab_type": "code",
        "colab": {}
      },
      "source": [
        "# your code here to plot the geodataframe\n"
      ],
      "execution_count": 0,
      "outputs": []
    },
    {
      "cell_type": "markdown",
      "metadata": {
        "id": "tjyHAq-TdvYd",
        "colab_type": "text"
      },
      "source": [
        "## Challenge - solution"
      ]
    },
    {
      "cell_type": "code",
      "metadata": {
        "id": "6RzDSyYeEpN2",
        "colab_type": "code",
        "colab": {}
      },
      "source": [
        "usa = gpd.read_file('zip://./us_states.zip')\n",
        "usa.head()"
      ],
      "execution_count": 0,
      "outputs": []
    },
    {
      "cell_type": "code",
      "metadata": {
        "id": "tKIhB9lEEpRQ",
        "colab_type": "code",
        "colab": {}
      },
      "source": [
        "usa.plot(linewidth=0.25, edgecolor='white', facecolor='green',figsize=(14,10))"
      ],
      "execution_count": 0,
      "outputs": []
    },
    {
      "cell_type": "markdown",
      "metadata": {
        "id": "8xaQfqPsGRvj",
        "colab_type": "text"
      },
      "source": [
        "# **6.- Spatial Subsetting**\n",
        "\n",
        "It's never easy to make a nice map of the entire US. Why is that? \n",
        "\n",
        "We can zoom in on the contiguous USA by spatially subsetting the data using the GeoPandas **cx** method.  This method takes the form:\n",
        ">usa1810.cx[xmin:xmax, ymin:ymax]\n",
        "\n",
        ">where:\n",
        "- **xmin** is the minimum X coordinate value\n",
        "- **xmax** is the maximum X coordinate value \n",
        "- **ymin** is the minimum Y coordinate value\n",
        "- **ymax** is the maximum Y coordinate value \n",
        "\n",
        "Since our date use geographic coordinates, X values are decimal degrees `longitude` and Y values are in decimal degrees `latitude`.\n",
        "\n",
        "Let's give it a try."
      ]
    },
    {
      "cell_type": "code",
      "metadata": {
        "id": "VxOHyxAuEpU2",
        "colab_type": "code",
        "colab": {}
      },
      "source": [
        "usa.cx[-130:-80, 25:45].plot(linewidth=0.25, edgecolor='white', facecolor='green',figsize=(14,10))"
      ],
      "execution_count": 0,
      "outputs": []
    },
    {
      "cell_type": "markdown",
      "metadata": {
        "id": "TQbIxIiAzhBH",
        "colab_type": "text"
      },
      "source": [
        "## Questions\n",
        "\n",
        "How did that last map turn out?\n",
        "\n",
        "What exactly is **cx** doing?  Let's explore it a bit more. \n",
        "\n",
        "- Change the minimum Y value to 30 and then 35. Do Texas and Florida get clipped?\n",
        "\n",
        "Take a second to uncomment the command below and read the documentation for `cx`. Then update the values in the previous code cell to get all states."
      ]
    },
    {
      "cell_type": "code",
      "metadata": {
        "id": "mh7Gg21VhvT2",
        "colab_type": "code",
        "colab": {}
      },
      "source": [
        "#usa.cx?"
      ],
      "execution_count": 0,
      "outputs": []
    },
    {
      "cell_type": "markdown",
      "metadata": {
        "id": "ipP-pBxYGzuV",
        "colab_type": "text"
      },
      "source": [
        "### Saving a spatial subset\n",
        "\n",
        "We can make that subset permanent."
      ]
    },
    {
      "cell_type": "code",
      "metadata": {
        "id": "sxi20V4WEpXt",
        "colab_type": "code",
        "colab": {}
      },
      "source": [
        "# FYI: conus is shorthand for contiguous USA\n",
        "conus= usa.cx[-130:-50, 20:50].copy().reset_index(drop=True)\n",
        "conus.head()"
      ],
      "execution_count": 0,
      "outputs": []
    },
    {
      "cell_type": "code",
      "metadata": {
        "id": "Cr2L3vlZEpbn",
        "colab_type": "code",
        "colab": {}
      },
      "source": [
        "# Plot the subset\n",
        "conus.plot()"
      ],
      "execution_count": 0,
      "outputs": []
    },
    {
      "cell_type": "code",
      "metadata": {
        "id": "ajb7pIahZlCl",
        "colab_type": "code",
        "colab": {}
      },
      "source": [
        "conus.STATE.nunique()"
      ],
      "execution_count": 0,
      "outputs": []
    },
    {
      "cell_type": "markdown",
      "metadata": {
        "id": "0FbJnHvUh62o",
        "colab_type": "text"
      },
      "source": [
        "## *Any questions?*\n",
        "\n",
        "\n",
        "\n",
        "---\n",
        "\n"
      ]
    },
    {
      "cell_type": "markdown",
      "metadata": {
        "id": "Vt6rItke5ib-",
        "colab_type": "text"
      },
      "source": [
        "# **7.- Map Overlays**"
      ]
    },
    {
      "cell_type": "markdown",
      "metadata": {
        "id": "tuNsnmxjIFBx",
        "colab_type": "text"
      },
      "source": [
        "\n",
        "\n",
        "A key strength of geospatial data analysis is the ability to overlay data that are located in the same coordinate space. Let's overlay the USA in 1810 on top of the USA in 2017 to visualize the change. Both of these data sets use the same coordinate reference system -  decimal degrees of latitude and longitude referenced to the **World Geodetic System of 1984**.  This is called the **WGS84** coordinate reference system (more about that in a minute). \n"
      ]
    },
    {
      "cell_type": "markdown",
      "metadata": {
        "id": "1R48RtD111TN",
        "colab_type": "text"
      },
      "source": [
        "The general process for creating map with multiple data layers is as follows:\n",
        "\n",
        "- First identify your base map - the layer to draw first, or at the bottom of the stack of layers.\n",
        "- Then you add one or more additional layers, referencing the base map as the **ax**."
      ]
    },
    {
      "cell_type": "code",
      "metadata": {
        "id": "LUdK6maEHnKw",
        "colab_type": "code",
        "colab": {}
      },
      "source": [
        "# Map the us states with the 1810 states and territories overlayed.\n",
        "base = conus.plot(color='white', edgecolor='black',  figsize=(14,10))\n",
        "usa1810.plot(ax=base, color=\"blue\", edgecolor=\"blue\", alpha=0.5)"
      ],
      "execution_count": 0,
      "outputs": []
    },
    {
      "cell_type": "markdown",
      "metadata": {
        "id": "WzHXMCtj2W3z",
        "colab_type": "text"
      },
      "source": [
        "We can add even more layers. These will draw in the order that you add them. Consider the following code."
      ]
    },
    {
      "cell_type": "code",
      "metadata": {
        "id": "Jf2APX2e2ele",
        "colab_type": "code",
        "colab": {}
      },
      "source": [
        "base = usa1810.plot(facecolor=\"blue\", edgecolor=\"blue\",  figsize=(14,10))\n",
        "conus.plot(ax=base, color='None', edgecolor='black')\n",
        "conus.centroid.plot(ax=base, color=\"red\")  # Hey - what's happening here?"
      ],
      "execution_count": 0,
      "outputs": []
    },
    {
      "cell_type": "markdown",
      "metadata": {
        "id": "ZGrQ7ZyJ2nJn",
        "colab_type": "text"
      },
      "source": [
        "What's different in the code for the previous two maps?\n",
        "\n",
        "</br>\n",
        "\n",
        "We can get even fancier with our maps by using the more **matplotlib** options. To access these you need to import mapplotlib."
      ]
    },
    {
      "cell_type": "code",
      "metadata": {
        "id": "cF1ScoOCHnNu",
        "colab_type": "code",
        "colab": {}
      },
      "source": [
        "# Mapping with advanced matplotlib settings\n",
        "\n",
        "fig, ax = plt.subplots(1, figsize=(14,10))  # Initialize the plot figure (drawing area) and axes (data area)\n",
        "\n",
        "ax.set_aspect('equal')   # set the aspect ratio for the x and y axes to be equal. \n",
        "                         # This is done automatically in gdf.plot()\n",
        "    \n",
        "base = usa1810.plot(ax=ax, color='grey', edgecolor='grey')  # Set the base map, or bottom map layer\n",
        "\n",
        "conus.plot(ax=base, color='None', edgecolor=\"blue\")  # draw the data with the base\n",
        "_ = ax.axis('off') # Don't show the x, y axes and labels in the plot\n",
        "ax.set_title(\"The Geographic Extent of the Contiguous USA 1810 and 2017\")  # Give the plot a title\n",
        "\n",
        "plt.show()"
      ],
      "execution_count": 0,
      "outputs": []
    },
    {
      "cell_type": "markdown",
      "metadata": {
        "id": "ts080FNJQEpU",
        "colab_type": "text"
      },
      "source": [
        "### Challenge\n",
        "\n",
        "Make a map that displays the `orleans_places` over the `Orleans Territory` in the usa1810 GeoDataFrame.\n",
        "\n",
        "- Color the points \"red\" so that they are visible."
      ]
    },
    {
      "cell_type": "code",
      "metadata": {
        "id": "8AYg2bmbQZ1V",
        "colab_type": "code",
        "colab": {}
      },
      "source": [
        "# Your code here\n"
      ],
      "execution_count": 0,
      "outputs": []
    },
    {
      "cell_type": "markdown",
      "metadata": {
        "id": "JNZujqGgQeje",
        "colab_type": "text"
      },
      "source": [
        "### Challenge - Solution"
      ]
    },
    {
      "cell_type": "code",
      "metadata": {
        "id": "2DZ9hnbSQdPg",
        "colab_type": "code",
        "colab": {}
      },
      "source": [
        "base = usa1810[usa1810['STATE']=='Orleans Territory'].plot()\n",
        "orleans_places.plot(ax=base, color=\"red\")"
      ],
      "execution_count": 0,
      "outputs": []
    },
    {
      "cell_type": "markdown",
      "metadata": {
        "id": "v3mByhvIJAs1",
        "colab_type": "text"
      },
      "source": [
        "## Any Questions?\n",
        "\n",
        "---"
      ]
    },
    {
      "cell_type": "markdown",
      "metadata": {
        "id": "fLoAaUQi5b6q",
        "colab_type": "text"
      },
      "source": [
        "#**8.- Coordinate Reference Systems (CRS)**"
      ]
    },
    {
      "cell_type": "markdown",
      "metadata": {
        "id": "DwQ_vmSYKBrW",
        "colab_type": "text"
      },
      "source": [
        "\n",
        "\n",
        "Did you notice anything funny about the **shape** of the USA as we mapped it above?  How does it differ from the shape of the US in the map below?\n",
        "\n",
        "\\\n",
        "<img src=\"https://upload.wikimedia.org/wikipedia/commons/thumb/a/a5/Map_of_USA_with_state_names.svg/640px-Map_of_USA_with_state_names.svg.png\" width=\"800px\"></img>\n"
      ]
    },
    {
      "cell_type": "markdown",
      "metadata": {
        "id": "KzcIXykqi_ZE",
        "colab_type": "text"
      },
      "source": [
        "#### Why does the shape differ? \n",
        "\n",
        "Here's why:\n",
        "\n",
        "<img src=\"http://tse3.mm.bing.net/th?id=OIP.lyDmHXX9VdoEOWDQlqppSAHaEy\" width=\"500px\"></img>\n",
        "\n",
        "When we map the shperoidal earth on a 2D plane like a computer screen we get distortion!\n",
        "\n",
        "## Map Projections and CRS Transformations\n",
        "\n",
        "In order to reduce distortion in maps we apply a map projection (math) to transform 3D geographic coordinates to 2D projected map coordinates.\n",
        "<img src=\"https://www.e-education.psu.edu/natureofgeoinfo/sites/www.e-education.psu.edu.natureofgeoinfo/files/image/projection.gif\"></img>\n",
        "\n",
        "\\\n",
        "- Seen differently \n",
        "\n",
        "\\\n",
        "\n",
        "<img src=\"https://ucb339e0d48d488fb3cbc37aa1df.dl.dropboxusercontent.com/cd/0/inline/AsMSu3gL6IIoMExcLjCruH9RV7-mpgshMfqQ9qK60XM2DYYz2x_Lew7JQotgsdcSguc5DjmyazWEGTnVNV_dHtDY5KdcSywSwgnvv6OBorlTp_150Gym6Cg_K5FtljLUmoc/file#\"></img>\n",
        "\n",
        "\\\n",
        "\n",
        "CRS transformations are often necessary for GeoPandas spatial operations like area and distance calculations which assume a 2D plane.\n",
        "\n",
        "\n"
      ]
    },
    {
      "cell_type": "markdown",
      "metadata": {
        "id": "n_4OZ1ROb82d",
        "colab_type": "text"
      },
      "source": [
        "## Transforming a CRS\n",
        "The process for transforming a CRS is:\n",
        "\n",
        "1. Make sure a **crs** is defined for the geopandas dataframe by checking the **crs** property. \n",
        "2. If it is not set, you can **define** it.\n",
        "3. Transform the coordinate geometry to a new CRS using the **to_crs** method.\n",
        "- This returns a new geodataframe with the new coordinate values and CRS.\n",
        "- You need to know what CRS to use!!\n"
      ]
    },
    {
      "cell_type": "markdown",
      "metadata": {
        "id": "0xcwGACJjM1F",
        "colab_type": "text"
      },
      "source": [
        "Let's check the CRS of our GeoDataFrames"
      ]
    },
    {
      "cell_type": "code",
      "metadata": {
        "id": "LxEoyB0ljLF8",
        "colab_type": "code",
        "colab": {}
      },
      "source": [
        "# Check the CRS of our gdfs\n",
        "print(\"The CRS of the conus geodata frame is: \" + str(conus.crs))\n",
        "print(\"The CRS of the usa1810 geodata frame is: \" + str(usa1810.crs))\n",
        "print(\"The CRS of the lsc_locs geodata frame is: \" + str(lsc_locs.crs))\n",
        "print(\"The CRS of the orleans_places geodata frame is: \" + str(orleans_places.crs))\n"
      ],
      "execution_count": 0,
      "outputs": []
    },
    {
      "cell_type": "markdown",
      "metadata": {
        "id": "mSAsiSNwjTV0",
        "colab_type": "text"
      },
      "source": [
        "### The good news and the bad news...\n",
        "\n",
        "The CRS of half of these GeoDataFrames is set!\n",
        "\n",
        "This is not surprising. \n",
        "\n",
        "* The two GeoDataFrames that were created from shapefiles have a CRS because the shapefile format included that information.\n",
        "\n",
        "* The two GeoDataFrames created from CSV files do not have CRSs because that info was not in the CSV file.\n",
        "\n",
        "\n",
        "### The confusing news\n",
        "\n",
        "The CRS of the first two GeoDataFrames is set to **epsg:4326** - what's that?\n",
        "\n",
        "### EPSG 4326\n",
        "\n",
        "**4326** is the [EPSG](http://www.epsg.org/) code for `WGS84`. This is the most common CRS for latitude and longitude data. It is the default CRS for most mapping software when the data does not have a defined CRS.\n",
        "\n",
        "* **EPSG** stands for European Petroleum Survey Group, the organization that created these codes.\n",
        "\n",
        "\n"
      ]
    },
    {
      "cell_type": "markdown",
      "metadata": {
        "id": "X3RLpIelR2Rd",
        "colab_type": "text"
      },
      "source": [
        "## Setting a CRS\n",
        "\n",
        "We can set, or define, the CRS of a GeoDataFrame if we know what it is. \n",
        "\n",
        "**Question:** What do you think is the CRS for the `lsc_locs` and `orleans_places` GeoDataFrames?\n",
        "\n",
        "\n"
      ]
    },
    {
      "cell_type": "markdown",
      "metadata": {
        "id": "RlxhSjnKU2kL",
        "colab_type": "text"
      },
      "source": [
        "Let's set the CRS for these gdfs to WGS84 since coordinates are longitude and latitude values."
      ]
    },
    {
      "cell_type": "code",
      "metadata": {
        "id": "L7HQegqBVcEw",
        "colab_type": "code",
        "colab": {}
      },
      "source": [
        "lsc_locs.crs = usa1810.crs"
      ],
      "execution_count": 0,
      "outputs": []
    },
    {
      "cell_type": "code",
      "metadata": {
        "id": "-YpKN8yTSFpE",
        "colab_type": "code",
        "colab": {}
      },
      "source": [
        "# Set it\n",
        "lsc_locs.crs = {'init' :'epsg:4326'}\n",
        "orleans_places.crs = {'init' :'epsg:4326'}\n",
        "\n",
        "# Check it\n",
        "print(\"The CRS of the lsc_locs geodata frame is: \" + str(lsc_locs.crs))\n",
        "print(\"The CRS of the orleans_places geodata frame is: \" + str(orleans_places.crs))"
      ],
      "execution_count": 0,
      "outputs": []
    },
    {
      "cell_type": "markdown",
      "metadata": {
        "id": "MvfKjuE7Uw73",
        "colab_type": "text"
      },
      "source": [
        "**Note**: Setting the CRS does not change any of the geometry data. It simply sets the value of this so that the software compare it against an internal database and  properly interpret it."
      ]
    },
    {
      "cell_type": "markdown",
      "metadata": {
        "id": "FfwQOQQsRqHK",
        "colab_type": "text"
      },
      "source": [
        "## Reprojecting a GeoDataFrame\n",
        "\n",
        "There are a number of reasons why you might one to transform your data to another CRS, including:\n",
        "\n",
        "- To make prettier maps\n",
        "- To make more accurate spatial measurements\n",
        "- To get all data in the same CRS for spatial analysis.\n",
        "\n",
        "This process is called **reprojecting** the data because the operation is mathematical transformation of the geometry based on a specific [map projection](https://en.wikipedia.org/wiki/Map_projection).\n",
        "\n",
        "\\\n",
        "\n",
        "<img src=\"https://ucd9cd5cb85cb2c0e6049e8ba1e7.dl.dropboxusercontent.com/cd/0/inline/AsMNnCV0L5bC869ivYiJC9V0z_6Fy2Z3hx9Po0rM2jI0RJ8dtO7F9vElWCiqoXk5pN1MGyg4C3_YyjYdjQzBRDIjqgPhnIVDgqIAidHRjzA1rwhZWjUBYlI3obtI7bx0Usw/file#\" width=\"1000px\"></img>\n",
        "\n",
        "\\\n",
        "\n",
        "\n",
        "### Improving our Maps\n",
        "\n",
        "For example, we can make our maps look better by transforming the data from geographic CRS (longitude and latitude) to a 2D projected `CRS`. \n",
        "\n",
        "\n",
        "Common map projections for data that spans the entire continguous USA and their EPSG codes include:\n",
        "\n",
        "- **Web Mercator** (epsg:3857)\n",
        "- **USA Contiguous Albers Equal Area** (epsg:5070)"
      ]
    },
    {
      "cell_type": "markdown",
      "metadata": {
        "id": "THCSvn9q5h5T",
        "colab_type": "text"
      },
      "source": [
        "Let's plot the conus GeoDataFrame using the Web Mercator projection."
      ]
    },
    {
      "cell_type": "code",
      "metadata": {
        "id": "PTXY6oQs5MFT",
        "colab_type": "code",
        "colab": {}
      },
      "source": [
        "conus.to_crs(3857).plot()"
      ],
      "execution_count": 0,
      "outputs": []
    },
    {
      "cell_type": "markdown",
      "metadata": {
        "id": "JKZ1wwZl5M9V",
        "colab_type": "text"
      },
      "source": [
        "The above code did not change the geodataframe. It dynamically transformed the geometry and then plotted it.\n",
        "\n",
        "Since these transformations can be computationally intensive and we often want to reuse the result, let's save the output to a new object."
      ]
    },
    {
      "cell_type": "code",
      "metadata": {
        "id": "COGBFQJejbit",
        "colab_type": "code",
        "colab": {}
      },
      "source": [
        "# Transform geographic crs to web mercator - 3857\n",
        "conus_3857 = conus.to_crs(epsg=3857)\n",
        "conus_3857.plot()"
      ],
      "execution_count": 0,
      "outputs": []
    },
    {
      "cell_type": "markdown",
      "metadata": {
        "id": "_5-rETLyLSO4",
        "colab_type": "text"
      },
      "source": [
        "## Challenge\n",
        "\n",
        "Now you try it! Transform the **conus** geodataframe to **USA Contiguous Albers** (5070) CRS and save the output GeoDataFrame as **conus_5070**.\n",
        "\n",
        "Then, map the output GeoDataFrame."
      ]
    },
    {
      "cell_type": "code",
      "metadata": {
        "id": "sEgy2JKvLcDf",
        "colab_type": "code",
        "colab": {}
      },
      "source": [
        "# Your code here\n"
      ],
      "execution_count": 0,
      "outputs": []
    },
    {
      "cell_type": "markdown",
      "metadata": {
        "id": "eFv_9q3VZnNU",
        "colab_type": "text"
      },
      "source": [
        "## Challenge Solution"
      ]
    },
    {
      "cell_type": "code",
      "metadata": {
        "id": "yKFhrrIgZqrd",
        "colab_type": "code",
        "colab": {},
        "cellView": "both"
      },
      "source": [
        "#@title\n",
        "# Transform the conus geodataframe to USA Albers (5070)\n",
        "conus_5070 = conus.to_crs(epsg=5070)\n",
        "conus_5070.plot()"
      ],
      "execution_count": 0,
      "outputs": []
    },
    {
      "cell_type": "markdown",
      "metadata": {
        "id": "xAMrQznnLSEo",
        "colab_type": "text"
      },
      "source": [
        "## Multiplots\n",
        "\n",
        "Let's plot all the data in all 3 CRS together."
      ]
    },
    {
      "cell_type": "markdown",
      "metadata": {
        "id": "mJWUtmczL9fN",
        "colab_type": "text"
      },
      "source": [
        "We get very different maps of the USA depending on the CRS. \n",
        "\n",
        "- **WGS84** is the most common CRS for longitude and latitude data. But it shouldn't be used for maps because of the distortion to shape. More commonly, these data are transformed before mapping or spatial analysis.\n",
        "\n",
        "- **Web Mercator** is often used for making maps of areas because it preserves shape. This is the CRS used by most online maps like Google Maps. BUT BEWARE - area distortion increases as you move away from equator and towards the poles.  Don't use this CRS for spatial analysis.\n",
        "\n",
        "- **USA Contiguous Albers** is used for the maps and area based analysis for the contiguous USA.  For smaller areas within the USA you should use a CRS that is more customized to a specific state or region.\n"
      ]
    },
    {
      "cell_type": "code",
      "metadata": {
        "id": "iEtkSgn5LPEa",
        "colab_type": "code",
        "colab": {}
      },
      "source": [
        "# RUN CODE - DO Not Change\n",
        "fig, ax = plt.subplots(ncols=3, figsize=(18,4), subplot_kw=dict(aspect='equal'))\n",
        "# Don't show the coordinate axis\n",
        "ax[0].axis('off')\n",
        "ax[1].axis('off')\n",
        "ax[2].axis('off')\n",
        "# Show a title\n",
        "ax[0].set_title('WGS 84 (4326)')\n",
        "ax[1].set_title('Web Mercator (3857)')\n",
        "ax[2].set_title('Albers EA (5070)')\n",
        "# display\n",
        "conus.plot(ax=ax[0])\n",
        "conus_3857.plot(ax=ax[1])\n",
        "conus_5070.plot(ax=ax[2])\n",
        "plt.show()"
      ],
      "execution_count": 0,
      "outputs": []
    },
    {
      "cell_type": "markdown",
      "metadata": {
        "id": "Ejit_9Kh8iqy",
        "colab_type": "text"
      },
      "source": [
        "## Challenge\n",
        "\n",
        "Update the following code to display the conus_3857 and conus_5070 GeoDataFrames in the same map. \n",
        "\n",
        "* Do they overlay?\n",
        "* Should you display data with different CRSs in the same map?"
      ]
    },
    {
      "cell_type": "code",
      "metadata": {
        "id": "qxq2wUkP8RmE",
        "colab_type": "code",
        "colab": {}
      },
      "source": [
        "# Update the code below to map the conus_3857 and conus_5070 geodataframes overlayed.\n",
        "base = conus_3857.plot(color=\"blue\", edgecolor=\"white\", alpha=0.50, figsize=(14,10)) # UPDATE this with Web Mercator geodataframe\n",
        "conus_5070.plot(ax=base, color=\"yellow\", edgecolor='black', alpha=0.50)       # Update this code with the Albers geodataframe\n"
      ],
      "execution_count": 0,
      "outputs": []
    },
    {
      "cell_type": "markdown",
      "metadata": {
        "id": "z3n5lx0RXXdu",
        "colab_type": "text"
      },
      "source": [
        "**Takeaway**\n",
        "\n",
        "GeoPandas.plot() does not dyamically transfrom data with different CRSs so that they overlay on a map. You need to do that transformation explicitly."
      ]
    },
    {
      "cell_type": "markdown",
      "metadata": {
        "id": "p0rvgG50eN9o",
        "colab_type": "text"
      },
      "source": [
        "\n",
        "### CRSs - The Fine Print\n",
        "\n",
        "1. GeoPandas data need to be in the same CRS in order to be mapped or analyzed together.\n",
        "2. The units of a CRS are part of the CRS definition. These are typically decimal degrees for geographic (lat/lon) data and meters or feet for projected data.\n",
        "\n",
        "    * You can use <https://spatialreference.org> to look up the units by EPSG code.\n",
        "\n",
        "3. It's not obvious what the best projected CRS is for your map or analysis. You need to review the recent literature (as these things change), try different CRSs and check your results.  Here is a good starting place, [epsg.io](http://epsg.io/).\n",
        "\n",
        "\n",
        "> A detailed discussion CRS and map projections is beyond the scope of this notebook. Understanding these, however, is **necessary** for working sucessfully with geospatial data! There are a number of online resources that can be found with a web search to help you get started.  Gaining this understanding takes time so be kind to yourself and ask for help if you need it."
      ]
    },
    {
      "cell_type": "markdown",
      "metadata": {
        "id": "_ys-ufVo44wh",
        "colab_type": "text"
      },
      "source": [
        "## More ad-hoc projections\n",
        "\n",
        "\n",
        "https://projectionwizard.org/#\n",
        "\n",
        "This can be useful to extract closer projections to the area of interest\n",
        "\n",
        "<img src=\"https://uc7d0845f9e0a2cc252f15af153e.dl.dropboxusercontent.com/cd/0/inline/AsMsFOWFJh7GEENp1spMizsV8unCfZ8eEUUnk2j5DZuQXuII140dLqYmnzCp09tgUJ80raYaPWDdwIlwhvE6DBs6_RGzJA2RJ6w-V91KLNXbZHMTpk0kyo2Vf2NQ8KqYJ-8/file#\" width=\"1000px\"></img>"
      ]
    },
    {
      "cell_type": "code",
      "metadata": {
        "id": "GD2Qhhgz6F8A",
        "colab_type": "code",
        "colab": {}
      },
      "source": [
        "#The use of this would be:\n",
        "#gpd_demo = usa1810.to_crs(\"+proj=stere +lat_0=35.460669951495305 +lon_0=-115.31249999999999\")\n",
        "#gpd_demo.plot()"
      ],
      "execution_count": 0,
      "outputs": []
    },
    {
      "cell_type": "markdown",
      "metadata": {
        "id": "4nJQVGVzZ7ON",
        "colab_type": "text"
      },
      "source": [
        "## Any Questions?\n",
        "\n",
        "\n",
        "---\n",
        "\n"
      ]
    },
    {
      "cell_type": "markdown",
      "metadata": {
        "id": "TtxfjSO070yG",
        "colab_type": "text"
      },
      "source": [
        "# **9.- Spatial Measurements**"
      ]
    },
    {
      "cell_type": "markdown",
      "metadata": {
        "id": "-s5tSCGVMDwm",
        "colab_type": "text"
      },
      "source": [
        "\n",
        "\n",
        "Geopandas uses the  [Shapely library](https://shapely.readthedocs.io/en/stable/manual.html) to compute spatial measurements like area and length for individual geometries or all the geometries in a geoseries.  The available measurements depend on the geometry type. For example, we can compute area and perimeter for polygons, length for lines, and distances between points.  Read the GeoPandas and Shapely documentation to get a sense of all the meausurements you can compute.\n"
      ]
    },
    {
      "cell_type": "markdown",
      "metadata": {
        "id": "7Zsd3qq1DSYG",
        "colab_type": "text"
      },
      "source": [
        "## Calculating Area\n",
        "\n",
        "Let's compute the area of a single state geometry in the `conus` GeoDataFrame."
      ]
    },
    {
      "cell_type": "code",
      "metadata": {
        "id": "-M4mxtCDWw08",
        "colab_type": "code",
        "colab": {}
      },
      "source": [
        "conus[conus['STATE']=='Utah'].area"
      ],
      "execution_count": 0,
      "outputs": []
    },
    {
      "cell_type": "markdown",
      "metadata": {
        "id": "kCGTAlbpNrMp",
        "colab_type": "text"
      },
      "source": [
        "Above, **area** is returned as a pandas series containing one item.  \n",
        "\n",
        "The item contains an index value, data value and a data type.\n",
        "\n",
        "You can retrieve the data value by referencing the index value as follows."
      ]
    },
    {
      "cell_type": "code",
      "metadata": {
        "id": "Jid8axIafTtH",
        "colab_type": "code",
        "colab": {}
      },
      "source": [
        "conus[conus['STATE']=='Utah'].area[26]"
      ],
      "execution_count": 0,
      "outputs": []
    },
    {
      "cell_type": "markdown",
      "metadata": {
        "id": "UGurH7KDe8w5",
        "colab_type": "text"
      },
      "source": [
        "You can also use the *squeeze* method to return just the data value when the GeoSeries only has one element.\n"
      ]
    },
    {
      "cell_type": "code",
      "metadata": {
        "id": "9GUYjVc1ntlV",
        "colab_type": "code",
        "colab": {}
      },
      "source": [
        "conus[conus['STATE']=='Utah'].area.squeeze()"
      ],
      "execution_count": 0,
      "outputs": []
    },
    {
      "cell_type": "code",
      "metadata": {
        "id": "JKjSUFlRVFUG",
        "colab_type": "code",
        "colab": {}
      },
      "source": [
        "conus.crs"
      ],
      "execution_count": 0,
      "outputs": []
    },
    {
      "cell_type": "markdown",
      "metadata": {
        "id": "qgEzhNIuzf_c",
        "colab_type": "text"
      },
      "source": [
        "### Question  - What are the units for the above area value?"
      ]
    },
    {
      "cell_type": "markdown",
      "metadata": {
        "id": "c3t2CrqmN_sz",
        "colab_type": "text"
      },
      "source": [
        "## Spatial Measurements and CRSs\n",
        "\n",
        "It doesn't make sense to compute spatial measurements using geographic coordinates (latitude and longitude) because the units are decimal degrees. \n",
        "\n",
        "Let's redo the above area measurement using the Albers GeoDataFrame `conus_5070`.  The units for this CRS are square meters.  \n",
        "\n",
        "We will convert the result to square kilometers by dividing by 1000 x 1000.\n",
        "\n",
        "* You can find the units for a CRS by looking it up by EPSG code on the website <https://spatialreference.org>."
      ]
    },
    {
      "cell_type": "code",
      "metadata": {
        "id": "zwjxlh5mEH8s",
        "colab_type": "code",
        "colab": {}
      },
      "source": [
        "# Area Utah in sq kilometers\n",
        "conus_5070[conus_5070['STATE']=='Utah'].area.squeeze() / (1000 *1000)"
      ],
      "execution_count": 0,
      "outputs": []
    },
    {
      "cell_type": "markdown",
      "metadata": {
        "id": "-4XiGwpMHIGE",
        "colab_type": "text"
      },
      "source": [
        "How close is that area measurement to what is reported in [Wikipedia](https://en.wikipedia.org/wiki/Utah) for the total area in square kilometers of Utah?"
      ]
    },
    {
      "cell_type": "markdown",
      "metadata": {
        "id": "vBcCoLusMN6j",
        "colab_type": "text"
      },
      "source": [
        "### Challenge\n",
        "Calculate the area of Utah using the web mercator GeoDataFrame. Does it give a similar result to the Albers dataframe. Note, the units are also meters for this CRS."
      ]
    },
    {
      "cell_type": "code",
      "metadata": {
        "id": "PcKiySZmMGIN",
        "colab_type": "code",
        "colab": {}
      },
      "source": [
        "# Your code here\n",
        "# Calculate the area of Utah in sq KM using the Web Mercator geodataframe\n"
      ],
      "execution_count": 0,
      "outputs": []
    },
    {
      "cell_type": "markdown",
      "metadata": {
        "id": "uh7kB29_Ynyf",
        "colab_type": "text"
      },
      "source": [
        "### Challenge - Solution"
      ]
    },
    {
      "cell_type": "code",
      "metadata": {
        "id": "nmNydRAeILwU",
        "colab_type": "code",
        "colab": {}
      },
      "source": [
        "# Calculate the area of Utah in sq KM using the Web Mercator geodataframe\n",
        "conus_3857[conus_3857['STATE']=='Utah'].area.squeeze() / (1000 *1000)"
      ],
      "execution_count": 0,
      "outputs": []
    },
    {
      "cell_type": "markdown",
      "metadata": {
        "id": "prrLF_3AXIss",
        "colab_type": "text"
      },
      "source": [
        "### Spatial Measurements and GeoDataFrames\n",
        "\n",
        "We can compute the area of all geometries in the geodataframe."
      ]
    },
    {
      "cell_type": "code",
      "metadata": {
        "id": "3JH5F3Y9XHs2",
        "colab_type": "code",
        "colab": {}
      },
      "source": [
        "#conus.geometry.area\n",
        "conus_5070.area"
      ],
      "execution_count": 0,
      "outputs": []
    },
    {
      "cell_type": "markdown",
      "metadata": {
        "id": "wzPdw_cXuGhm",
        "colab_type": "text"
      },
      "source": [
        "Above, we dynamically calculated area. But we can also adding it to a new column the GeoDataFrame."
      ]
    },
    {
      "cell_type": "code",
      "metadata": {
        "id": "70FHwbIIXp2p",
        "colab_type": "code",
        "colab": {}
      },
      "source": [
        "# Update the GeoDataFrame\n",
        "conus_5070['areaKM'] = conus_5070.area / (1000*1000)\n",
        "conus_5070.head(15)"
      ],
      "execution_count": 0,
      "outputs": []
    },
    {
      "cell_type": "markdown",
      "metadata": {
        "id": "5kAuH-2DXwu6",
        "colab_type": "text"
      },
      "source": [
        "## Calculating Length or Perimeter\n",
        "\n",
        "Similarly we can calculate the perimeter of one or all state polygons."
      ]
    },
    {
      "cell_type": "code",
      "metadata": {
        "id": "PN9FraL-XwJ8",
        "colab_type": "code",
        "colab": {}
      },
      "source": [
        "# Perimeter of all states in kilometers\n",
        "conus_5070['perimeterKM'] = conus_5070.length / 1000\n"
      ],
      "execution_count": 0,
      "outputs": []
    },
    {
      "cell_type": "code",
      "metadata": {
        "id": "O0N_t1t0KHCV",
        "colab_type": "code",
        "colab": {}
      },
      "source": [
        "conus_5070.head()"
      ],
      "execution_count": 0,
      "outputs": []
    },
    {
      "cell_type": "markdown",
      "metadata": {
        "colab_type": "text",
        "id": "oMYJjUv9z_4q"
      },
      "source": [
        "## Calculating Distance\n",
        "We can compute the shortest distance between geometries using the GeoSeries **distance** method.  This method calculates the shortest distance between two geometries or between a GeoSeries and a geometry."
      ]
    },
    {
      "cell_type": "markdown",
      "metadata": {
        "id": "QlM5LFPdZSzp",
        "colab_type": "text"
      },
      "source": [
        "### Computing the Distance between two points\n",
        "\n",
        "Let's compute the distance between two `orleans_places`: **Baton Rouge** and **New Orleans**"
      ]
    },
    {
      "cell_type": "code",
      "metadata": {
        "id": "UMl4t-FiZcWp",
        "colab_type": "code",
        "colab": {}
      },
      "source": [
        "# Compute the distance between Baton Rouge and NOLA\n",
        "baton_rouge = orleans_places[orleans_places.place == 'Baton Rouge'].geometry\n",
        "new_orleans = orleans_places[orleans_places.place == 'New Orleans'].geometry\n",
        "\n",
        "baton_rouge.distance(new_orleans.squeeze())"
      ],
      "execution_count": 0,
      "outputs": []
    },
    {
      "cell_type": "markdown",
      "metadata": {
        "id": "Wmngqubia90s",
        "colab_type": "text"
      },
      "source": [
        "As with area calculations, distance calculations require a GeoDataFrame with an appropriate CRS.  Let's dynamically convert to EPSG 5070 and check the result.\n"
      ]
    },
    {
      "cell_type": "code",
      "metadata": {
        "id": "kUx827-lbRJS",
        "colab_type": "code",
        "colab": {}
      },
      "source": [
        "baton_rouge.to_crs(5070).distance(new_orleans.to_crs(5070).squeeze()) / 1000"
      ],
      "execution_count": 0,
      "outputs": []
    },
    {
      "cell_type": "markdown",
      "metadata": {
        "id": "PBgnztW4cVUy",
        "colab_type": "text"
      },
      "source": [
        "You can check that on Google Maps to see if it is more or less correct."
      ]
    },
    {
      "cell_type": "markdown",
      "metadata": {
        "id": "okWF1H39eBwS",
        "colab_type": "text"
      },
      "source": [
        "We can extend this and calculate the distance between all places and New Orleans, the capital of the Orleans Territory."
      ]
    },
    {
      "cell_type": "code",
      "metadata": {
        "id": "RH0Hf29PeKmo",
        "colab_type": "code",
        "colab": {}
      },
      "source": [
        "orleans_places['dist2nola_km'] = orleans_places.to_crs(5070).distance(new_orleans.to_crs(5070).geometry.squeeze()) / 1000\n",
        "orleans_places"
      ],
      "execution_count": 0,
      "outputs": []
    },
    {
      "cell_type": "code",
      "metadata": {
        "id": "AMcEQx9Zi-mr",
        "colab_type": "code",
        "colab": {}
      },
      "source": [
        "orleans_places.to_crs(5070).distance(new_orleans.to_crs(5070).geometry.squeeze()) / 1000"
      ],
      "execution_count": 0,
      "outputs": []
    },
    {
      "cell_type": "markdown",
      "metadata": {
        "id": "kIq4e-yYgEtf",
        "colab_type": "text"
      },
      "source": [
        "We could also apply the distance function to the orleans_places gdf with `map`."
      ]
    },
    {
      "cell_type": "code",
      "metadata": {
        "id": "M7oDuI8Efnvn",
        "colab_type": "code",
        "colab": {}
      },
      "source": [
        "orleans_places.to_crs(5070).geometry.map(lambda g: g.distance(new_orleans.to_crs(5070).geometry.squeeze())/1000)"
      ],
      "execution_count": 0,
      "outputs": []
    },
    {
      "cell_type": "markdown",
      "metadata": {
        "id": "nQAJxvFDZXZ-",
        "colab_type": "text"
      },
      "source": [
        "### Computing the Distance between two polygons"
      ]
    },
    {
      "cell_type": "markdown",
      "metadata": {
        "id": "4Zj6lkstVrbA",
        "colab_type": "text"
      },
      "source": [
        "Distance calculations aren't limited to points or to points and polygons. \n",
        "\n",
        "We can also compute the shortest distance in kilometers between CA and Washington state.\n",
        "\n",
        "First, let's get the geometry for both states."
      ]
    },
    {
      "cell_type": "code",
      "metadata": {
        "id": "-4H5eGkmVD18",
        "colab_type": "code",
        "colab": {}
      },
      "source": [
        "#Extract the geometry for WA\n",
        "wa_geom = conus_5070[conus_5070['STATE']=='Washington'].geometry\n",
        "print(type(wa_geom))\n",
        "print(wa_geom)\n",
        "print()\n",
        "#Extract the geometry for CA \n",
        "ca_geom = conus_5070[conus_5070['STATE']=='California'].geometry\n",
        "print(type(ca_geom))\n",
        "print(ca_geom)\n",
        "\n"
      ],
      "execution_count": 0,
      "outputs": []
    },
    {
      "cell_type": "markdown",
      "metadata": {
        "id": "SXFqO0HzV8GG",
        "colab_type": "text"
      },
      "source": [
        "Now, compute the distance using the `distance` method.\n",
        "\n",
        "* Note the different implementations below.\n"
      ]
    },
    {
      "cell_type": "code",
      "metadata": {
        "id": "aQccKzApV8Uk",
        "colab_type": "code",
        "colab": {}
      },
      "source": [
        "# Compute the distance between the a GeoSeries and a geometry\n",
        "wa_geom.distance(ca_geom[3]) / 1000"
      ],
      "execution_count": 0,
      "outputs": []
    },
    {
      "cell_type": "code",
      "metadata": {
        "id": "60DrO7Jhc7Ut",
        "colab_type": "code",
        "colab": {}
      },
      "source": [
        "# Compute the distance between two geometries\n",
        "wa_geom[47].distance(ca_geom[3]) / 1000"
      ],
      "execution_count": 0,
      "outputs": []
    },
    {
      "cell_type": "code",
      "metadata": {
        "id": "A1FpLSLAbpCm",
        "colab_type": "code",
        "colab": {}
      },
      "source": [
        "# Doing it all on one line\n",
        "conus_5070[conus_5070['STATE']=='Washington'].geometry[47].distance(conus_5070[conus_5070['STATE']=='California'].geometry[3]) / 1000"
      ],
      "execution_count": 0,
      "outputs": []
    },
    {
      "cell_type": "markdown",
      "metadata": {
        "id": "FzhSl_U5W8Zo",
        "colab_type": "text"
      },
      "source": [
        "*How does the command in the next cell differ from the previous command?*"
      ]
    },
    {
      "cell_type": "code",
      "metadata": {
        "id": "lZHwNE81gopf",
        "colab_type": "code",
        "colab": {}
      },
      "source": [
        "conus_5070[conus_5070['STATE']=='Washington'].geometry[47].centroid.distance(conus_5070[conus_5070['STATE']=='California'].geometry[3].centroid) / 1000"
      ],
      "execution_count": 0,
      "outputs": []
    },
    {
      "cell_type": "markdown",
      "metadata": {
        "id": "r7vuQH0BWoZk",
        "colab_type": "text"
      },
      "source": [
        "Alternatively we can reset the indices so we know that the result will be in the first (zero indexed row)"
      ]
    },
    {
      "cell_type": "code",
      "metadata": {
        "id": "z6rsRPkrNKto",
        "colab_type": "code",
        "colab": {}
      },
      "source": [
        "wa_geom = conus_5070[conus_5070['STATE']=='Washington'].reset_index().geometry\n",
        "ca_geom = conus_5070[conus_5070['STATE']=='California'].reset_index().geometry\n",
        "wa_geom.distance(ca_geom) / 1000"
      ],
      "execution_count": 0,
      "outputs": []
    },
    {
      "cell_type": "markdown",
      "metadata": {
        "id": "K6LEcAj9XUCA",
        "colab_type": "text"
      },
      "source": [
        "### Apply Distance Calculation to all rows in a GeoDataFrame\n",
        "\n",
        "What state is the farthest from CA?"
      ]
    },
    {
      "cell_type": "code",
      "metadata": {
        "id": "sntnIkJJfQ4z",
        "colab_type": "code",
        "colab": {}
      },
      "source": [
        "# Calculate the distance between each state's geometry and CA geometry\n",
        "conus_5070['dist2cal'] = conus_5070.distance(ca_geom[0]) / 1000\n"
      ],
      "execution_count": 0,
      "outputs": []
    },
    {
      "cell_type": "code",
      "metadata": {
        "id": "LFI2GBjJhwBY",
        "colab_type": "code",
        "colab": {}
      },
      "source": [
        "# Display the 5 states farthest from CA\n",
        "conus_5070.sort_values(by='dist2cal', ascending=False).head()"
      ],
      "execution_count": 0,
      "outputs": []
    },
    {
      "cell_type": "markdown",
      "metadata": {
        "id": "BwdAZarzmaWd",
        "colab_type": "text"
      },
      "source": [
        "### Challenge\n",
        "\n",
        "Use the results from the previous distance calculations to view the states that border CA."
      ]
    },
    {
      "cell_type": "code",
      "metadata": {
        "id": "TnomafllmQZI",
        "colab_type": "code",
        "colab": {}
      },
      "source": [
        "# Your code here"
      ],
      "execution_count": 0,
      "outputs": []
    },
    {
      "cell_type": "markdown",
      "metadata": {
        "id": "lQeiysSAdDpt",
        "colab_type": "text"
      },
      "source": [
        "### Challenge - Solution"
      ]
    },
    {
      "cell_type": "code",
      "metadata": {
        "id": "pNtmNUP6dHxl",
        "colab_type": "code",
        "colab": {}
      },
      "source": [
        "# Display the 5 states NEAREST TO CA\n",
        "conus_5070.sort_values(by='dist2cal', ascending=True).head()"
      ],
      "execution_count": 0,
      "outputs": []
    },
    {
      "cell_type": "markdown",
      "metadata": {
        "id": "F_DwdZWscjia",
        "colab_type": "text"
      },
      "source": [
        "## CRSs and Distance Calculations\n",
        "\n",
        "Compute the minimum distance in KM between Washington & California using the Web Mercator GeoDataFrame `conus_3857`.\n",
        "\n",
        "* *Do you get the same result?*"
      ]
    },
    {
      "cell_type": "code",
      "metadata": {
        "id": "TW0hvht2LPNg",
        "colab_type": "code",
        "colab": {}
      },
      "source": [
        "# Your code here\n",
        "wm_dist_m = conus_3857[conus_3857['STATE']=='Washington'].squeeze().geometry.distance(conus_3857[conus_3857['STATE']=='California'].squeeze().geometry)\n",
        "wm_dist_km = wm_dist_m / 1000\n",
        "print(\"web mercator dist KM:\", wm_dist_km)\n",
        "#\n",
        "al_dist_m = conus_5070[conus_5070['STATE']=='Washington'].squeeze().geometry.distance(conus_5070[conus_5070['STATE']=='California'].squeeze().geometry)\n",
        "al_dist_km = al_dist_m / 1000\n",
        "print(\"Albers dist KM:\", al_dist_km)\n"
      ],
      "execution_count": 0,
      "outputs": []
    },
    {
      "cell_type": "markdown",
      "metadata": {
        "id": "27ZV3xrU1xJR",
        "colab_type": "text"
      },
      "source": [
        " ### Question\n",
        " \n",
        " Which of the above CRSs returned the best result?  Let's check it in [Google Maps](http://maps.google.com) to find out."
      ]
    },
    {
      "cell_type": "markdown",
      "metadata": {
        "id": "WDfsWkuSbwOk",
        "colab_type": "text"
      },
      "source": [
        "## Spatial Measurements and CRSs - Recap\n",
        "\n",
        "The output of spatial measurements depend on the CRS and is expressed in the units of the CRS. The Shapely library assumes a two dimensional planar coordinate system and makes no transformation on the data - that is left for the analyst.\n",
        "\n",
        "Key Takeaways: \n",
        "\n",
        "1. **Don't use geographic coordinates for spatial measurement queries**. The results in decimal degrees are meaningless!\n",
        "\n",
        "2. Use the CRS that is best for the type the spatial operation and geographic region. \n",
        "\n",
        "3. Always check your work.\n"
      ]
    },
    {
      "cell_type": "markdown",
      "metadata": {
        "id": "_lmaumH-5zkD",
        "colab_type": "text"
      },
      "source": [
        "## Any Questions?\n",
        "\n",
        "\n",
        "---\n",
        "\n"
      ]
    },
    {
      "cell_type": "markdown",
      "metadata": {
        "id": "BNd8WC5c5TZT",
        "colab_type": "text"
      },
      "source": [
        "# **10.- Spatial Relationship Queries**\n"
      ]
    },
    {
      "cell_type": "markdown",
      "metadata": {
        "id": "GBP2Co-TutCH",
        "colab_type": "text"
      },
      "source": [
        "\n",
        "[Spatial relationship queries](https://en.wikipedia.org/wiki/Spatial_relation) consider how two geometries or sets of geometries relate to one another in space. \n",
        "\n",
        "<img src=\"https://upload.wikimedia.org/wikipedia/commons/5/55/TopologicSpatialRelarions2.png\" height=\"400px\"></img>\n"
      ]
    },
    {
      "cell_type": "markdown",
      "metadata": {
        "id": "jgUkeehpCqnS",
        "colab_type": "text"
      },
      "source": [
        "Here is a list of the most commonly used GeoPandas methods to test spatial relationships.\n",
        "\n",
        "- [within](http://geopandas.org/reference.html?highlight=distance#geopandas.GeoSeries.within)\n",
        "- [contains](http://geopandas.org/reference.html?highlight=distance#geopandas.GeoSeries.contains) (the inverse of `within`)\n",
        "- [intersects](http://geopandas.org/reference.html?highlight=distance#geopandas.GeoSeries.intersects)\n",
        "\n",
        "<br>\n",
        "There several other GeoPandas spatial relationship predicates but they are more complex to properly employ. For example the following two operations only work with geometry that are completely aligned.\n",
        "\n",
        "- [touches](http://geopandas.org/reference.html?highlight=distance#geopandas.GeoSeries.touches)\n",
        "- [equals](http://geopandas.org/reference.html?highlight=distance#geopandas.GeoSeries.equals)\n",
        "\n",
        "\n",
        "All of these methods takes the form:\n",
        "\n",
        "    Geoseries.contains(geometry)"
      ]
    },
    {
      "cell_type": "markdown",
      "metadata": {
        "id": "MZZ35LpB9YhQ",
        "colab_type": "text"
      },
      "source": [
        "Let's consider some spatial relationship queries between GeoPandas geometries.\n",
        "\n",
        "To start, let's create some GeoPandas polygon objects that represent Louisiana geographies."
      ]
    },
    {
      "cell_type": "code",
      "metadata": {
        "id": "Hsy7DtBLF1x_",
        "colab_type": "code",
        "colab": {}
      },
      "source": [
        "# Louisiana today\n",
        "la_poly = conus[conus['STATE']=='Louisiana'].reset_index() \n",
        "\n",
        "# Louisiana in 1810 as the Orleans Territory\n",
        "orleans_poly = usa1810[usa1810['STATE']=='Orleans Territory'].reset_index() \n",
        "\n",
        "# The Parish (or county) of Pointe Coupee, Louisiana in 1810\n",
        "ptcoupee_poly = usa1810[usa1810['COUNTY']=='Pointe Coupee'].reset_index()\n"
      ],
      "execution_count": 0,
      "outputs": []
    },
    {
      "cell_type": "markdown",
      "metadata": {
        "id": "dBNjzSGkInl5",
        "colab_type": "text"
      },
      "source": [
        "### Questions\n",
        "\n",
        "What types of GeoPandas objects are these?"
      ]
    },
    {
      "cell_type": "markdown",
      "metadata": {
        "id": "Lz0jmRUkIZ0B",
        "colab_type": "text"
      },
      "source": [
        "Let's plot the three on the same map..."
      ]
    },
    {
      "cell_type": "code",
      "metadata": {
        "id": "eCA8kN7_t5ZT",
        "colab_type": "code",
        "colab": {}
      },
      "source": [
        "base = orleans_poly.plot(color=\"lightpink\", edgecolor=\"floralwhite\", figsize=(10,10))\n",
        "la_poly.plot(ax=base, color='none', edgecolor=\"black\", linewidth=2, alpha=0.5)\n",
        "ptcoupee_poly.plot(ax=base, color=\"grey\")\n",
        "plt.title('Louisiana in 1810 and Today, showing Pointe Coupee Parish')\n",
        "plt.show()"
      ],
      "execution_count": 0,
      "outputs": []
    },
    {
      "cell_type": "markdown",
      "metadata": {
        "id": "Q1tJjvEbJNln",
        "colab_type": "text"
      },
      "source": [
        "All but one of these three GeoDataFrames have a GeoSeries with just one geometry. \n",
        "\n",
        "* **Question** - Which one has more than one?"
      ]
    },
    {
      "cell_type": "code",
      "metadata": {
        "id": "YDDPm8lQQexk",
        "colab_type": "code",
        "colab": {}
      },
      "source": [
        "print(\"la_poly has this many geometries: \", len(la_poly.geometry))\n",
        "print(\"ptcoupee_poly has this many geometries: \", len(ptcoupee_poly.geometry))\n",
        "print(\"orleans_poly has this many geometries: \", len(orleans_poly.geometry))\n",
        "\n"
      ],
      "execution_count": 0,
      "outputs": []
    },
    {
      "cell_type": "markdown",
      "metadata": {
        "id": "ixqrCESLBaWz",
        "colab_type": "text"
      },
      "source": [
        "Let's consider a few simple spatial relationship queries.\n",
        "\n",
        "<br>\n",
        "\n",
        "Is Pointe Coupee Parish (ptcoupee_poly) within Louisiana (la_poly)?\n"
      ]
    },
    {
      "cell_type": "code",
      "metadata": {
        "id": "w6KvfMIpL_Ge",
        "colab_type": "code",
        "colab": {}
      },
      "source": [
        "ptcoupee_poly.within(la_poly)"
      ],
      "execution_count": 0,
      "outputs": []
    },
    {
      "cell_type": "markdown",
      "metadata": {
        "id": "2MzrJBELMSwS",
        "colab_type": "text"
      },
      "source": [
        "### Challenge\n",
        "\n",
        "Restate the above query using **contains**?"
      ]
    },
    {
      "cell_type": "code",
      "metadata": {
        "id": "NyJSomCZYdfD",
        "colab_type": "code",
        "colab": {}
      },
      "source": [
        "# Your code here"
      ],
      "execution_count": 0,
      "outputs": []
    },
    {
      "cell_type": "markdown",
      "metadata": {
        "id": "TyYv2l7HYfll",
        "colab_type": "text"
      },
      "source": [
        "### Challenge - Solution"
      ]
    },
    {
      "cell_type": "code",
      "metadata": {
        "id": "gufXKphqKSHo",
        "colab_type": "code",
        "colab": {}
      },
      "source": [
        "la_poly.contains(ptcoupee_poly)"
      ],
      "execution_count": 0,
      "outputs": []
    },
    {
      "cell_type": "markdown",
      "metadata": {
        "id": "kiD6xY-TX3bm",
        "colab_type": "text"
      },
      "source": [
        "### Check your work.\n",
        "\n",
        "These queries seem simple but can be tricky. Sometimes it is good to ask questions you know are not true just to test that your syntax is correct.\n",
        "\n",
        "* Does within Pointe Coupee Parish contain Louisiana?"
      ]
    },
    {
      "cell_type": "code",
      "metadata": {
        "id": "bsP0PLdkYHRF",
        "colab_type": "code",
        "colab": {}
      },
      "source": [
        "ptcoupee_poly.contains(la_poly)"
      ],
      "execution_count": 0,
      "outputs": []
    },
    {
      "cell_type": "markdown",
      "metadata": {
        "id": "om3koRQANPFz",
        "colab_type": "text"
      },
      "source": [
        "### Spatial Relationship queries with more complex GeoSeries\n",
        "\n",
        "\n",
        "In the above queries we compared geometries 1 to 1 - where each spatial object only contained one geometry.\n",
        "\n",
        "Now, let's ask more complex queries, comparing GeoSeries with more than 1 geometry\n",
        "\n",
        "Keep in mind:\n",
        "\n",
        "* la_poly has just one geometry - for the state of Louisiana.\n",
        "* ptcoupee_poly has one geometry - for Pointe Coupee Parish.\n",
        "* orleans_poly has 20 geometries, one for each parish in Orleans Territory\n",
        "* conus has 49 geometries, one for each US State in 2017.\n",
        "* usa1810 has many geometries, one for each county in all states and territories in 1810.\n"
      ]
    },
    {
      "cell_type": "markdown",
      "metadata": {
        "id": "a5OK1iT7Nvt6",
        "colab_type": "text"
      },
      "source": [
        "\n",
        "\n",
        "Even though we already know the answer, let's see how we ask the question:\n",
        "\n",
        "> *In what US state (conus) is Pointe Coupee Parish located?*\n",
        "\n",
        "\n",
        "First, let's check that `conus` contains Point Coupee Parish.\n"
      ]
    },
    {
      "cell_type": "code",
      "metadata": {
        "id": "LuxbfEqWQAtf",
        "colab_type": "code",
        "colab": {}
      },
      "source": [
        "conus.contains(ptcoupee_poly.geometry[0])"
      ],
      "execution_count": 0,
      "outputs": []
    },
    {
      "cell_type": "markdown",
      "metadata": {
        "id": "mN5tleOfe9zb",
        "colab_type": "text"
      },
      "source": [
        "### Question:\n",
        "\n",
        "*How does the above **contains** syntax and result differ from what we used earlier?*"
      ]
    },
    {
      "cell_type": "markdown",
      "metadata": {
        "id": "C6iXhs3shPky",
        "colab_type": "text"
      },
      "source": [
        "### Important\n",
        "\n",
        "When comparing one geometry (ptcoupee_poly) to a GeoSeries with more than one geometry (conus) you need to explicitly reference that one geometry.\n",
        "\n",
        "* GeoSeries geometry in `la_poly` is **implicitly** compared to the one geometry in the `ptcoupee_poly` GeoSeries:\n",
        "\n",
        "  `la_poly.contains(ptcoupee_poly)`\n",
        "\n",
        "<br>\n",
        "<p>\n",
        "  Compared to:\n",
        "</p>\n",
        "  \n",
        "\n",
        "* GeoSeries geometries in `conus` are **explicitly** compared to the one geometry in the **ptcoupee_poly** GeoSeries: \n",
        "\n",
        "  `conus.contains(ptcoupee_poly.geometry[0])`\n",
        " \n"
      ]
    },
    {
      "cell_type": "markdown",
      "metadata": {
        "id": "xFY_VgW63qhX",
        "colab_type": "text"
      },
      "source": [
        "### Answering questions with spatial relationship queries\n",
        "\n",
        "Use the results from the `contains` query to answer the question *what state contains Pointe Coupee Parish?*"
      ]
    },
    {
      "cell_type": "code",
      "metadata": {
        "id": "uCcXFLdFbmEq",
        "colab_type": "code",
        "colab": {}
      },
      "source": [
        "type(ptcoupee_poly.geometry[0])"
      ],
      "execution_count": 0,
      "outputs": []
    },
    {
      "cell_type": "code",
      "metadata": {
        "id": "hcOMKod3SU8A",
        "colab_type": "code",
        "colab": {}
      },
      "source": [
        "conus[conus.contains(ptcoupee_poly.geometry[0])== True]"
      ],
      "execution_count": 0,
      "outputs": []
    },
    {
      "cell_type": "markdown",
      "metadata": {
        "id": "8WzjeO2JYxiM",
        "colab_type": "text"
      },
      "source": [
        "\n",
        "### Challenge: \n",
        "\n",
        "1. Were all Orleans Territory Parishes within what is now Louisiana?\n",
        "\n",
        "2. If not, what parishes are not now in Louisiana?\n",
        "\n",
        "    * Hint: use the not operator (~)\n",
        "\n",
        "3. Make a map of those Parishes on top of Louisiana (la_poly)."
      ]
    },
    {
      "cell_type": "code",
      "metadata": {
        "id": "61jZuS1djXqA",
        "colab_type": "code",
        "colab": {}
      },
      "source": [
        "# Your code - were all Orleans Territory parishes in Louisiana?\n",
        "orleans_poly.within(la_poly.geometry[0])"
      ],
      "execution_count": 0,
      "outputs": []
    },
    {
      "cell_type": "code",
      "metadata": {
        "id": "TOeHjO1IjX5j",
        "colab_type": "code",
        "colab": {}
      },
      "source": [
        "# Your code - what parishes were not?"
      ],
      "execution_count": 0,
      "outputs": []
    },
    {
      "cell_type": "code",
      "metadata": {
        "id": "h_LZyEzHjYGX",
        "colab_type": "code",
        "colab": {}
      },
      "source": [
        "# Your code - map of those parishes?"
      ],
      "execution_count": 0,
      "outputs": []
    },
    {
      "cell_type": "markdown",
      "metadata": {
        "id": "yLrl9RT3wiRe",
        "colab_type": "text"
      },
      "source": [
        "### Challenge - Solution"
      ]
    },
    {
      "cell_type": "code",
      "metadata": {
        "id": "0l0fyjbIivDC",
        "colab_type": "code",
        "colab": {}
      },
      "source": [
        "# were all Orleans Territory parishes in Louisiana?\n",
        "orleans_poly.within(la_poly.geometry[0])"
      ],
      "execution_count": 0,
      "outputs": []
    },
    {
      "cell_type": "code",
      "metadata": {
        "id": "YlRbQaZqQvEb",
        "colab_type": "code",
        "colab": {}
      },
      "source": [
        "#what parishes were not?\n",
        "parishes_not_in_la= orleans_poly[~orleans_poly.within(la_poly.geometry[0])]\n",
        "parishes_not_in_la"
      ],
      "execution_count": 0,
      "outputs": []
    },
    {
      "cell_type": "code",
      "metadata": {
        "id": "oyidJ8p1juAE",
        "colab_type": "code",
        "colab": {}
      },
      "source": [
        "#map of those parishes?\n",
        "base = parishes_not_in_la.plot(color=\"pink\", edgecolor=\"white\",figsize=(10,10))\n",
        "la_poly.plot(ax=base, color=\"none\", edgecolor=\"black\", linewidth=2)\n",
        "plt.title('Louisiana in 1810 and Today, showing Pointe Coupee Parish and Settelment')\n",
        "plt.show()"
      ],
      "execution_count": 0,
      "outputs": []
    },
    {
      "cell_type": "markdown",
      "metadata": {
        "id": "uqMO7OjNllRi",
        "colab_type": "text"
      },
      "source": [
        "### Question\n",
        "\n",
        "Why does the [within](http://geopandas.org/reference.html?highlight=distance#geopandas.GeoSeries.within) operator indicate that there are several Orleans Territory parishes that are not within Louisiana?"
      ]
    },
    {
      "cell_type": "markdown",
      "metadata": {
        "id": "gJdjksyW4nQ6",
        "colab_type": "text"
      },
      "source": [
        "*Discussion*"
      ]
    },
    {
      "cell_type": "markdown",
      "metadata": {
        "id": "oXrlWtGwEgAS",
        "colab_type": "text"
      },
      "source": [
        "##  Intersects - the most general and therefore most useful spatial relationship query\n",
        "\n",
        "The most useful, fastest and most general purpose spatial relationship query is **intersects**. You don't need to worry about selecting the correct spatial relationship predicate for your query or differences due to the resolution and alignment of your geometries.\n",
        "\n",
        "</br>\n",
        "\n",
        "Below, we use `intersects` to ask again if all Orleans Territory parishes are in Louisiana?\n",
        "\n",
        "\n"
      ]
    },
    {
      "cell_type": "code",
      "metadata": {
        "id": "1mwZeva0mW9q",
        "colab_type": "code",
        "colab": {}
      },
      "source": [
        "orleans_poly.intersects(la_poly.geometry[0])"
      ],
      "execution_count": 0,
      "outputs": []
    },
    {
      "cell_type": "markdown",
      "metadata": {
        "id": "6v_M2pWzml_E",
        "colab_type": "text"
      },
      "source": [
        "\n",
        "Here's another example that demonstrates the flexibility of `intersects`. \n",
        "\n",
        "Let's use `intersects` to see what states border Louisiana."
      ]
    },
    {
      "cell_type": "code",
      "metadata": {
        "id": "46pX7eyME7hT",
        "colab_type": "code",
        "colab": {}
      },
      "source": [
        "conus[conus.intersects(la_poly.geometry[0])]"
      ],
      "execution_count": 0,
      "outputs": []
    },
    {
      "cell_type": "markdown",
      "metadata": {
        "id": "Zm8M_jXaLeVr",
        "colab_type": "text"
      },
      "source": [
        "Intersects is not a directional operator like contains or withins. You can compare two geometries in any order and get the same result."
      ]
    },
    {
      "cell_type": "code",
      "metadata": {
        "id": "_xkFqyG7Lp3j",
        "colab_type": "code",
        "colab": {}
      },
      "source": [
        "print(ptcoupee_poly.intersects(la_poly))\n",
        "\n",
        "print(la_poly.intersects(ptcoupee_poly))"
      ],
      "execution_count": 0,
      "outputs": []
    },
    {
      "cell_type": "markdown",
      "metadata": {
        "id": "3d_WT7zO4nYb",
        "colab_type": "text"
      },
      "source": [
        "## More Complex Spatial Relationship Queries\n",
        "\n",
        "Spatial relationship queries can get complex very quickly.  Consider this question:\n",
        "\n",
        "What Orleans Parish contains each of the `orleans_places`?\n",
        "\n",
        "* This is a tough one! We are comparing two GeoSeries each with many geometries.\n",
        "* This requires more or more for loops or apply functions"
      ]
    },
    {
      "cell_type": "code",
      "metadata": {
        "id": "ZwzFNyxCiUvH",
        "colab_type": "code",
        "colab": {}
      },
      "source": [
        "for index, row in orleans_places.iterrows():\n",
        "  p_geom = row['geometry']\n",
        "  p_name = row['place']\n",
        "  \n",
        "  for index2,row2 in orleans_poly.iterrows():\n",
        "    o_geom = row2['geometry']\n",
        "    o_name = row2['COUNTY']\n",
        "    \n",
        "    if o_geom.contains(p_geom):\n",
        "      print(p_name, \" was in\", o_name, \"Parish\")\n"
      ],
      "execution_count": 0,
      "outputs": []
    },
    {
      "cell_type": "markdown",
      "metadata": {
        "id": "GoeWDm10s2AS",
        "colab_type": "text"
      },
      "source": [
        "When your queries start to get that hairy it's a good time to ask *is there another way*?  There often is!\n",
        "\n",
        "We will turn to this in our next section on Spatial Joins."
      ]
    },
    {
      "cell_type": "markdown",
      "metadata": {
        "id": "yhBFozRztTVg",
        "colab_type": "text"
      },
      "source": [
        "## Any Questions?\n",
        "\n",
        "\n",
        "\n",
        "---\n",
        "\n"
      ]
    },
    {
      "cell_type": "markdown",
      "metadata": {
        "id": "cNZLiG3FB0_S",
        "colab_type": "text"
      },
      "source": [
        "# **11.- Combining Data: via Attributes & Spatial Joins**\n",
        "\n",
        "Joins are used to combine data in different tables.\n",
        "\n",
        "* **Attribute joins** combine data based on common values.\n",
        "\n",
        "* **Spatial joins** combine data based on location.\n",
        "\n"
      ]
    },
    {
      "cell_type": "markdown",
      "metadata": {
        "id": "vqlHx1E4UMxY",
        "colab_type": "text"
      },
      "source": [
        "# Attribute Joins\n",
        "\n",
        "Attribute joins combine data from different tables based on a column with shared values.  Although these are not spatial they are widely used in geospatial analysis and in all data analysis.  We use the **merge** command for geopandas attribute joins.\n",
        "\n",
        "<br>\n",
        "Let's use an attribute join to join some census data for Orleans Territory to a subset of the usa1810 data."
      ]
    },
    {
      "cell_type": "markdown",
      "metadata": {
        "id": "RGNTYrqBbA93",
        "colab_type": "text"
      },
      "source": [
        "First, read in the CSV file to a Pandas DataFrame named **orleans_census1810**\n",
        "\n"
      ]
    },
    {
      "cell_type": "code",
      "metadata": {
        "id": "gSKicQLZbJYV",
        "colab_type": "code",
        "colab": {}
      },
      "source": [
        "orleans_census1810 = pd.read_csv('./orleans_census_data1810.csv')\n",
        "orleans_census1810.head()"
      ],
      "execution_count": 0,
      "outputs": []
    },
    {
      "cell_type": "markdown",
      "metadata": {
        "id": "LGdUO48qbQyT",
        "colab_type": "text"
      },
      "source": [
        "Then, subset `usa1810` to a new GeoDataFrame keeping only the data where the STATE is Orleans Territory - name this gdf  **orleans**.\n"
      ]
    },
    {
      "cell_type": "code",
      "metadata": {
        "id": "S9GgCGo2bUsB",
        "colab_type": "code",
        "colab": {}
      },
      "source": [
        "orleans = usa1810[usa1810['STATE'] == 'Orleans Territory']\n",
        "\n",
        "orleans.plot()"
      ],
      "execution_count": 0,
      "outputs": []
    },
    {
      "cell_type": "markdown",
      "metadata": {
        "id": "wpLzlUtpbfn_",
        "colab_type": "text"
      },
      "source": [
        "\n",
        "First, let's take a look at the values in the **orleans** GeoDataFrame.  Compare it to the **orleans_census1810** data frame.\n",
        "\n",
        "- What column should we use for the join?"
      ]
    },
    {
      "cell_type": "code",
      "metadata": {
        "id": "NADl_rGebuNn",
        "colab_type": "code",
        "colab": {}
      },
      "source": [
        "orleans.head()"
      ],
      "execution_count": 0,
      "outputs": []
    },
    {
      "cell_type": "markdown",
      "metadata": {
        "id": "9_SG12v6bwBT",
        "colab_type": "text"
      },
      "source": [
        "Join the attribute data in **orleans_census1810** to the **orleans** GeoDataFrame using the **merge** command."
      ]
    },
    {
      "cell_type": "code",
      "metadata": {
        "id": "BElCwxyQb58J",
        "colab_type": "code",
        "colab": {}
      },
      "source": [
        "orleans_popdata = orleans.merge(orleans_census1810, on='GISJOIN')\n",
        "orleans_popdata.head()"
      ],
      "execution_count": 0,
      "outputs": []
    },
    {
      "cell_type": "markdown",
      "metadata": {
        "id": "OiHuOJYocJ7p",
        "colab_type": "text"
      },
      "source": [
        "You can see that we now have a number of population related attributes in the geodataframe.\n",
        "\n",
        "What happened to the columns that were in both dataframes?"
      ]
    },
    {
      "cell_type": "markdown",
      "metadata": {
        "id": "KOsmRgV_cgYv",
        "colab_type": "text"
      },
      "source": [
        "## Questions?\n",
        "\n",
        "\n",
        "\n",
        "---\n",
        "\n"
      ]
    },
    {
      "cell_type": "markdown",
      "metadata": {
        "id": "aP3yyDYTtSQY",
        "colab_type": "text"
      },
      "source": [
        "# Spatial Joins\n",
        "\n",
        "We can use a spatial join to combine attributes from different GeoDataFrames for objects that are colocated in space.\n",
        "\n",
        "In `geopandas` this is done with the **sjoin** operator.  \n",
        "\n",
        "First take a quick look at the documentation for **sjoin**."
      ]
    },
    {
      "cell_type": "code",
      "metadata": {
        "id": "yuLVfF75uDKw",
        "colab_type": "code",
        "colab": {}
      },
      "source": [
        "#gpd.sjoin?"
      ],
      "execution_count": 0,
      "outputs": []
    },
    {
      "cell_type": "markdown",
      "metadata": {
        "id": "XuZi5h8aRUQA",
        "colab_type": "text"
      },
      "source": [
        "Let's explore spatial joins revisiting the question we asked in the last section.\n",
        "\n",
        "* What Orleans Parish contains each of the orleans_places?\n",
        "\n",
        "Here the goal is to add the parish name to the GeoDataFrame orleans_places."
      ]
    },
    {
      "cell_type": "markdown",
      "metadata": {
        "id": "JsZC8qH2SfLm",
        "colab_type": "text"
      },
      "source": [
        "### SJOIN\n",
        "\n",
        "We are now ready to use **sjoin** to add the parish (county) for each conspiracy."
      ]
    },
    {
      "cell_type": "code",
      "metadata": {
        "id": "6zAZs4ZRnFM8",
        "colab_type": "code",
        "colab": {}
      },
      "source": [
        "# sjoin syntax - for reference\n",
        "## gpd.sjoin(left_df, right_df, how='inner', op='intersects', lsuffix='left', rsuffix='right') \n",
        "\n",
        "# sjoin in action\n",
        "orleans_places2 = gpd.sjoin(orleans_places, orleans_poly)\n",
        "\n",
        "orleans_places2.head()"
      ],
      "execution_count": 0,
      "outputs": []
    },
    {
      "cell_type": "markdown",
      "metadata": {
        "id": "Dfu1chdSxcPE",
        "colab_type": "text"
      },
      "source": [
        "The result of this `sjoin` is a new `GeoDataFrame` that has one row for each orleans_place and additional columns of attribute data from the orleans_poly GeoDataFrame for the geometries spatially *interesected*.\n",
        "\n",
        "* Check the number of rows in `orleans_places` and `orleans_places2` - to they match?"
      ]
    },
    {
      "cell_type": "code",
      "metadata": {
        "id": "H8LhpSnuyhfz",
        "colab_type": "code",
        "colab": {}
      },
      "source": [
        "print(len(orleans_places))\n",
        "print(len(orleans_places2))"
      ],
      "execution_count": 0,
      "outputs": []
    },
    {
      "cell_type": "markdown",
      "metadata": {
        "id": "73AYjckiy_XS",
        "colab_type": "text"
      },
      "source": [
        "By default, `sjoin` only returns rows where an intersection was found. This is determined by the **how=** function parameter which defaults to `inner`.\n",
        "\n",
        "If we set this to **how='left'** we will keep all the rows for the GeoDataFrame named on the left, here orleans_places.\n",
        "\n",
        "This way we can see what places are not within Orleans Territory."
      ]
    },
    {
      "cell_type": "code",
      "metadata": {
        "id": "fgSCeLQVysZY",
        "colab_type": "code",
        "colab": {}
      },
      "source": [
        "orleans_places2 = gpd.sjoin(orleans_places, orleans_poly, how=\"left\")\n",
        "\n",
        "orleans_places2.head()"
      ],
      "execution_count": 0,
      "outputs": []
    },
    {
      "cell_type": "code",
      "metadata": {
        "id": "9JRrjm9MjUlu",
        "colab_type": "code",
        "colab": {}
      },
      "source": [
        "len(orleans_places2)"
      ],
      "execution_count": 0,
      "outputs": []
    },
    {
      "cell_type": "markdown",
      "metadata": {
        "id": "ca73VjyH01ih",
        "colab_type": "text"
      },
      "source": [
        "We can use some Pandas to massage our results..."
      ]
    },
    {
      "cell_type": "code",
      "metadata": {
        "id": "WhnTuTrZ0_AE",
        "colab_type": "code",
        "colab": {}
      },
      "source": [
        "# How many orleans_places do not have COUNTY data?\n",
        "orleans_places2[orleans_places2.COUNTY.isnull()]"
      ],
      "execution_count": 0,
      "outputs": []
    },
    {
      "cell_type": "markdown",
      "metadata": {
        "id": "h-11MAfhzr76",
        "colab_type": "text"
      },
      "source": [
        "We can make a quick plot to check the results visually."
      ]
    },
    {
      "cell_type": "code",
      "metadata": {
        "id": "7-VKMxjQ16PY",
        "colab_type": "code",
        "colab": {}
      },
      "source": [
        "base=orleans_poly.plot(figsize=(14,14))\n",
        "orleans_places.plot(ax=base, color=\"black\")\n",
        "orleans_places2[orleans_places2.COUNTY.isnull()].plot(ax=base, color=\"red\")"
      ],
      "execution_count": 0,
      "outputs": []
    },
    {
      "cell_type": "markdown",
      "metadata": {
        "id": "2h6f382O3IYm",
        "colab_type": "text"
      },
      "source": [
        "Finally, we can subset out the columns we want to keep."
      ]
    },
    {
      "cell_type": "code",
      "metadata": {
        "id": "U435lxIu3RiO",
        "colab_type": "code",
        "colab": {}
      },
      "source": [
        "orleans_places2[['place','COUNTY']]"
      ],
      "execution_count": 0,
      "outputs": []
    },
    {
      "cell_type": "markdown",
      "metadata": {
        "id": "agXqyBRmk4P-",
        "colab_type": "text"
      },
      "source": [
        "#### NEW Challenge\n",
        "\n",
        "What do you get when you reverse this join?\n",
        "So that instead of joining the county data to the places points\n",
        "you join the places points to the county data?"
      ]
    },
    {
      "cell_type": "code",
      "metadata": {
        "id": "y3sWpmTyjh8n",
        "colab_type": "code",
        "colab": {}
      },
      "source": [
        "#joining places to orleans counties (in the orleans_poly gdf)\n",
        "counties_with_places_data = gpd.sjoin(orleans_poly, orleans_places, how=\"left\")\n",
        "counties_with_places_data.head()"
      ],
      "execution_count": 0,
      "outputs": []
    },
    {
      "cell_type": "code",
      "metadata": {
        "id": "0AGgJUtXf7WC",
        "colab_type": "code",
        "colab": {}
      },
      "source": [
        "type(counties_with_places_data.geometry[0])"
      ],
      "execution_count": 0,
      "outputs": []
    },
    {
      "cell_type": "markdown",
      "metadata": {
        "id": "613VfdSrgKS1",
        "colab_type": "text"
      },
      "source": [
        ""
      ]
    },
    {
      "cell_type": "code",
      "metadata": {
        "id": "eMt0oI3QkE68",
        "colab_type": "code",
        "colab": {}
      },
      "source": [
        "# Are the input and output county gdfs the same length?\n",
        "print(len(counties_with_places_data))\n",
        "print(len(orleans_poly))\n",
        "counties_with_places_data[['COUNTY','place']]"
      ],
      "execution_count": 0,
      "outputs": []
    },
    {
      "cell_type": "markdown",
      "metadata": {
        "id": "UGP5vrvg2gXc",
        "colab_type": "text"
      },
      "source": [
        "### Challenge\n",
        "\n",
        "Use a spatial join to identify the parishes in which the three LSC slave conspiracies (lsc_locs) took place."
      ]
    },
    {
      "cell_type": "code",
      "metadata": {
        "id": "9-F6UsBO2g16",
        "colab_type": "code",
        "colab": {}
      },
      "source": [
        "# Your code here\n",
        "lsc_locs\n",
        "gpd.sjoin(lsc_locs,orleans_poly)"
      ],
      "execution_count": 0,
      "outputs": []
    },
    {
      "cell_type": "markdown",
      "metadata": {
        "id": "bgpCkH382hJu",
        "colab_type": "text"
      },
      "source": [
        "### Challenge - Solution"
      ]
    },
    {
      "cell_type": "code",
      "metadata": {
        "id": "ktSsYvSe2hYn",
        "colab_type": "code",
        "colab": {}
      },
      "source": [
        "lsc_with_parish = gpd.sjoin(lsc_locs, usa1810, how=\"left\")\n",
        "lsc_with_parish[['name','COUNTY']]"
      ],
      "execution_count": 0,
      "outputs": []
    },
    {
      "cell_type": "markdown",
      "metadata": {
        "id": "9qtauMjVxRFA",
        "colab_type": "text"
      },
      "source": [
        "### Any Questions?\n",
        "\n",
        "---"
      ]
    },
    {
      "cell_type": "markdown",
      "metadata": {
        "id": "qTUr7qE98ADk",
        "colab_type": "text"
      },
      "source": [
        "# **12.- Data Driven Mapping**"
      ]
    },
    {
      "cell_type": "markdown",
      "metadata": {
        "id": "OSJi-MxM014T",
        "colab_type": "text"
      },
      "source": [
        "\n",
        "\n",
        "Data driven mapping refers to the process of creating thematic maps by using data values to determine the symbology of mapped features - including their color, shape, size.  This is in contrast to setting the same symbology for all features as we have done above.\n",
        "\n",
        "### Mapping categorical data\n",
        "We can symbolize the color of our features by a categorical data value."
      ]
    },
    {
      "cell_type": "code",
      "metadata": {
        "id": "PoO_O12-hwdi",
        "colab_type": "code",
        "colab": {}
      },
      "source": [
        "conus.plot(color=\"pink\", edgecolor=\"blue\")"
      ],
      "execution_count": 0,
      "outputs": []
    },
    {
      "cell_type": "code",
      "metadata": {
        "id": "234vxZGO10if",
        "colab_type": "code",
        "colab": {}
      },
      "source": [
        "conus.plot(column=\"STATE\", edgecolor=\"white\")"
      ],
      "execution_count": 0,
      "outputs": []
    },
    {
      "cell_type": "markdown",
      "metadata": {
        "id": "0qSOY4TX1CN0",
        "colab_type": "text"
      },
      "source": [
        "\n",
        "### Mapping quantitative data\n",
        "\n",
        "We can also color areas by quantitave data values. \n",
        "\n",
        "</br>\n",
        "\n",
        "Let's map the parishes in Orleans Territory by the number of non-white slaves. These values are in the column `nwslave_pop`.\n"
      ]
    },
    {
      "cell_type": "code",
      "metadata": {
        "id": "2ptJwGToQN9T",
        "colab_type": "code",
        "colab": {}
      },
      "source": [
        "orleans_popdata.plot(column='nwslave_pop', cmap=\"Reds\",edgecolor='grey', legend=True, figsize=(8,6))\n",
        "plt.show()"
      ],
      "execution_count": 0,
      "outputs": []
    },
    {
      "cell_type": "markdown",
      "metadata": {
        "id": "tEuJCDJbjUpT",
        "colab_type": "text"
      },
      "source": [
        "### cmaps - colormaps\n",
        "\n",
        "Note the use of the **cmap** option to set the matplotlib color palette for mapping the data.  Take a look at the [documumentation](https://matplotlib.org/users/colormaps.html) for these colormaps and rerun the previous code with a different value for **cmap**.   I strongly recommend that you read this documentation to improve your use of colormaps to effectively map data values. "
      ]
    },
    {
      "cell_type": "markdown",
      "metadata": {
        "id": "aXuyGdTPnMMt",
        "colab_type": "text"
      },
      "source": [
        "### Discussion\n",
        "\n",
        "Above, the plot option **column=** tells the plot command to use the values in the **nwslave_pop** column to determine the geometry colors based on the colormap specified by the **cmap** option. You can see the list of available [color maps here](https://matplotlib.org/users/colormaps.html). The full range of values in the `nwslave_pop` column is being scaled to the color palette called **Reds**.  This is called an `unclassified` or `classless` map. This map is a good first effort as it imposses no grouping on the data, thus making it easier to spot trends and outliers. But it is harder to interpret the data values within an area. \n",
        "\n",
        "\n",
        "### Graduated Color Maps\n",
        "\n",
        "A more common practice is to use a **classification scheme** to bin data values into 4-7 classes and map those classes to a color palette.  This type of map is called a **graduated color map** or a **choropleth map**.\n",
        "\n",
        "</br>\n",
        "\n",
        "Let's try that below with **quantile** classification which is the most commonly used scheme when mapping data."
      ]
    },
    {
      "cell_type": "code",
      "metadata": {
        "id": "64-HCdCpcNWn",
        "colab_type": "code",
        "colab": {}
      },
      "source": [
        "\n",
        "orleans_popdata.plot(column='nwslave_pop', cmap='Reds', edgecolor='black', \n",
        "                     legend=True, figsize=(8,6), scheme='equal_interval')\n",
        "plt.show()"
      ],
      "execution_count": 0,
      "outputs": []
    },
    {
      "cell_type": "markdown",
      "metadata": {
        "id": "5O8abVwyqp0p",
        "colab_type": "text"
      },
      "source": [
        "Wow that gives a very different looking map!"
      ]
    },
    {
      "cell_type": "code",
      "metadata": {
        "id": "r_aWFr2Bjt-s",
        "colab_type": "code",
        "colab": {}
      },
      "source": [
        "orleans_popdata.plot?"
      ],
      "execution_count": 0,
      "outputs": []
    },
    {
      "cell_type": "markdown",
      "metadata": {
        "id": "3dXPO1Qbqh_p",
        "colab_type": "text"
      },
      "source": [
        "## Challenge\n",
        "\n",
        "In the code cell below recreate the above map with the classification schemes **equal_interval** and **fisher_jenks** to see how the look of the map changes.\n"
      ]
    },
    {
      "cell_type": "code",
      "metadata": {
        "id": "AEUPu5naquiY",
        "colab_type": "code",
        "colab": {}
      },
      "source": [
        "# Your code here"
      ],
      "execution_count": 0,
      "outputs": []
    },
    {
      "cell_type": "markdown",
      "metadata": {
        "id": "ARUshaUcqzWq",
        "colab_type": "text"
      },
      "source": [
        "## Choropleth Maps\n",
        "\n",
        "The maps we just made are called `choropleth maps`. A [choropleth map](https://en.wikipedia.org/wiki/Choropleth_map) is a data map that colors areas by data values.  This are the most common type of data map. It is also sometimes called a **heatmap**.\n",
        "\n",
        "<br>\n",
        "\n",
        "**Important**, when the areas being mapped vary in size it is not considered good cartographic practice to map **counts**.  Why do you think this is so?\n",
        "\n",
        "Instead, choropleth maps typically symbolize ares by area weighted densites, ratios or rates that can compared across the different sized areas.\n",
        "\n",
        "<br>\n",
        "\n",
        "Let's map the ratio of non-white slaves (nwslave_pop) to free whites (white_pop)."
      ]
    },
    {
      "cell_type": "code",
      "metadata": {
        "id": "9-ef23waq1Dj",
        "colab_type": "code",
        "colab": {}
      },
      "source": [
        "# Create a new column that is the ratio of non-white slaves (nwslave_pop) to free whites (white_pop)\n",
        "orleans_popdata['slave2white_ratio'] = orleans_popdata['nwslave_pop'] / orleans_popdata['white_pop']\n",
        "\n",
        "# Map the ratio\n",
        "orleans_popdata.plot(column='slave2white_ratio', cmap='Reds', edgecolor='black', \n",
        "                     legend=True, figsize=(8,6), scheme='quantiles')\n",
        "\n",
        "plt.show()"
      ],
      "execution_count": 0,
      "outputs": []
    },
    {
      "cell_type": "markdown",
      "metadata": {
        "id": "R8J1m_1_q6U8",
        "colab_type": "text"
      },
      "source": [
        "Let's redo the above map by adding labels and a few more niceties.\n",
        "\n",
        "We will also use **fisher_jenks** classification to minimize within bin variance and maximize between bin variance. This creates groupings that better reflect the data."
      ]
    },
    {
      "cell_type": "code",
      "metadata": {
        "id": "7uWUN9xmq6if",
        "colab_type": "code",
        "colab": {}
      },
      "source": [
        "fig, ax = plt.subplots(1, figsize=(12,12))\n",
        "\n",
        "orleans_popdata.plot(ax=ax, column='slave2white_ratio', cmap='OrRd', edgecolor='black', legend=True, scheme='fisher_jenks')\n",
        "\n",
        "for polygon, name in zip(orleans_popdata.geometry, orleans_popdata.COUNTY_x):\n",
        "    ax.annotate(xy=(polygon.centroid.x, polygon.centroid.y), s=name)\n",
        "\n",
        "_ = ax.axis('off')\n",
        "\n",
        "ax.set_title(\"Ratio of Non-White Slaves to Free Whites, Orleans Territory, 1810\")\n",
        "plt.show()"
      ],
      "execution_count": 0,
      "outputs": []
    },
    {
      "cell_type": "markdown",
      "metadata": {
        "id": "9tUlWR2drFJA",
        "colab_type": "text"
      },
      "source": [
        "Needless to say, labels are a bit tricky, regardless of the software you use to make a map!\n"
      ]
    },
    {
      "cell_type": "markdown",
      "metadata": {
        "id": "T3lP3uMarNs-",
        "colab_type": "text"
      },
      "source": [
        "## Question\n",
        "\n",
        "In 1791 and 1795 two slave revolts were planned in the same parish in Orleans Territory. Although these plots involved different people and had different orgins, both were discovered and thwarted, leading to the trial and execution or emprisonment of many enslaved persons. Soon thereafter, the [German Coast Uprising of 1811](https://en.wikipedia.org/wiki/1811_German_Coast_uprising), which was the largest slave revolt in US history, occured in a different Orleans parish. \n",
        "\n",
        "- *Does the map symbology indicate the two parishes in which these three events occured?*"
      ]
    },
    {
      "cell_type": "markdown",
      "metadata": {
        "id": "Dpady1kLrTOT",
        "colab_type": "text"
      },
      "source": [
        "As a check, we can add the **lsc_locs** points to the map above."
      ]
    },
    {
      "cell_type": "code",
      "metadata": {
        "id": "zcnDhgWmrcEP",
        "colab_type": "code",
        "colab": {}
      },
      "source": [
        "fig, ax = plt.subplots(1, figsize=(12,12))\n",
        "\n",
        "orleans_popdata.plot(ax=ax, column='slave2white_ratio', cmap='OrRd', edgecolor='black', legend=True, scheme='fisher_jenks')\n",
        "\n",
        "lsc_locs.plot(ax=ax, color='white', edgecolor=\"black\", linewidth=3, markersize=100)\n",
        "\n",
        "for polygon, name in zip(orleans_popdata.geometry, orleans_popdata.COUNTY_x):\n",
        "    ax.annotate(xy=(polygon.centroid.x, polygon.centroid.y), s=name)\n",
        "\n",
        "_ = ax.axis('off')\n",
        "\n",
        "ax.set_title(\"Ratio of Non-White Slaves to Free Whites, Orleans Territory, 1810\")\n",
        "plt.show()"
      ],
      "execution_count": 0,
      "outputs": []
    },
    {
      "cell_type": "markdown",
      "metadata": {
        "id": "uCoHF0E0rgHU",
        "colab_type": "text"
      },
      "source": [
        "###  Any Questions?\n",
        "\n",
        "\n",
        "\n",
        "---\n",
        "\n"
      ]
    },
    {
      "cell_type": "markdown",
      "metadata": {
        "id": "hdrjdpQ05AC-",
        "colab_type": "text"
      },
      "source": [
        "# Interactive Mapping with Folium"
      ]
    },
    {
      "cell_type": "markdown",
      "metadata": {
        "id": "tO90iSJumtRI",
        "colab_type": "text"
      },
      "source": [
        "[Folium](https://python-visualization.github.io/folium/) is the most commonly used Python library for creating interactive maps.  See the online documentation for details. \n",
        "\n",
        "Below are a few examples for you to consider. Just a taste!"
      ]
    },
    {
      "cell_type": "markdown",
      "metadata": {
        "id": "8B4CnRzKv_ke",
        "colab_type": "text"
      },
      "source": [
        "First load the library. Install it if necessary."
      ]
    },
    {
      "cell_type": "code",
      "metadata": {
        "id": "MLE6iYtorjRS",
        "colab_type": "code",
        "colab": {}
      },
      "source": [
        "#!pip install folium\n",
        "import folium\n",
        "from folium import Choropleth, Circle, Marker\n"
      ],
      "execution_count": 0,
      "outputs": []
    },
    {
      "cell_type": "code",
      "metadata": {
        "id": "QxPIjUaQsceG",
        "colab_type": "code",
        "colab": {}
      },
      "source": [
        "# Create a simple point from the ptcoupee_poly\n",
        "ptcoupee_pt = ptcoupee_poly.centroid\n",
        "\n",
        "# note how we extract the coordinate value, which is what folium needs\n",
        "ptcoupee_pt.y.squeeze()\n"
      ],
      "execution_count": 0,
      "outputs": []
    },
    {
      "cell_type": "code",
      "metadata": {
        "id": "CfClmgpG6YHI",
        "colab_type": "code",
        "colab": {}
      },
      "source": [
        "# Create a map centered on Point Coupee\n",
        "map1 = folium.Map(location=[ptcoupee_pt.y.squeeze(), ptcoupee_pt.x.squeeze()], tiles='Stamen Toner',\n",
        "    zoom_start=10)\n",
        "\n",
        "#display the map\n",
        "map1"
      ],
      "execution_count": 0,
      "outputs": []
    },
    {
      "cell_type": "markdown",
      "metadata": {
        "id": "mFfdeuKwww1U",
        "colab_type": "text"
      },
      "source": [
        "### Point markers with Popups\n",
        "\n",
        "First, need to make sure the coordinates are numeric!"
      ]
    },
    {
      "cell_type": "code",
      "metadata": {
        "id": "13NjqdrzWpIy",
        "colab_type": "code",
        "colab": {}
      },
      "source": [
        "lsc_locs.dtypes"
      ],
      "execution_count": 0,
      "outputs": []
    },
    {
      "cell_type": "code",
      "metadata": {
        "id": "uANzopY0Be9i",
        "colab_type": "code",
        "colab": {}
      },
      "source": [
        "lsc_locs['latitude'] = pd.to_numeric(lsc_locs[\"latitude\"])\n",
        "lsc_locs['longitude'] = pd.to_numeric(lsc_locs[\"longitude\"])"
      ],
      "execution_count": 0,
      "outputs": []
    },
    {
      "cell_type": "code",
      "metadata": {
        "id": "ixZ8u9hM7ZPi",
        "colab_type": "code",
        "colab": {}
      },
      "source": [
        "map2 = folium.Map(location=[ptcoupee_pt.y.squeeze(), ptcoupee_pt.x.squeeze()], tiles='Stamen Toner',\n",
        "    zoom_start=9)\n",
        "\n",
        "for i in lsc_locs.index:\n",
        "  folium.CircleMarker(\n",
        "    location=[lsc_locs.latitude[i], lsc_locs.longitude[i]],\n",
        "    radius= 10,\n",
        "    popup= lsc_locs.name[i],\n",
        "    color='red',\n",
        "    fill=True,\n",
        "    fill_color='red'\n",
        ").add_to(map2)\n",
        "\n",
        "\n",
        "map2"
      ],
      "execution_count": 0,
      "outputs": []
    },
    {
      "cell_type": "markdown",
      "metadata": {
        "id": "ADaW8gxOw9kO",
        "colab_type": "text"
      },
      "source": [
        "### Challenge\n",
        "\n",
        "Create a Folium map of all of the places in the orleand_places geodataframe.\n",
        "\n",
        "* Add a popup with the place name or description"
      ]
    },
    {
      "cell_type": "code",
      "metadata": {
        "id": "BmtBkW4Jvbn7",
        "colab_type": "code",
        "colab": {}
      },
      "source": [
        "# Your code here"
      ],
      "execution_count": 0,
      "outputs": []
    },
    {
      "cell_type": "code",
      "metadata": {
        "id": "Ms-Vuhp5MCJ0",
        "colab_type": "code",
        "colab": {}
      },
      "source": [
        "%who"
      ],
      "execution_count": 0,
      "outputs": []
    },
    {
      "cell_type": "code",
      "metadata": {
        "id": "BU09v6iYPnlN",
        "colab_type": "code",
        "colab": {}
      },
      "source": [
        "#orleans_popdata.head()\n",
        "popdata2map = orleans_popdata[['GISJOIN','geometry']].set_index('GISJOIN')\n",
        "#popdata2map.head()\n",
        "popdata2color=orleans_popdata[['GISJOIN','slave2white_ratio']].set_index('GISJOIN')\n",
        "#popdata2color.head()"
      ],
      "execution_count": 0,
      "outputs": []
    },
    {
      "cell_type": "code",
      "metadata": {
        "id": "BD1_RriTTt5z",
        "colab_type": "code",
        "colab": {}
      },
      "source": [
        ""
      ],
      "execution_count": 0,
      "outputs": []
    },
    {
      "cell_type": "code",
      "metadata": {
        "id": "m5W-mvcWOxAW",
        "colab_type": "code",
        "colab": {}
      },
      "source": [
        "#folium.Map?\n",
        "#folium.Choropleth?\n",
        "#folium.Choropleth(geo_data, data=None, columns=None, key_on=None, bins=6, fill_color='blue', \n",
        "#                  nan_fill_color='black', fill_opacity=0.6, nan_fill_opacity=None, line_color='black', \n",
        "#                  line_weight=1, line_opacity=1, name=None, legend_name='', \n",
        "#                  overlay=True, control=True, show=True, topojson=None, smooth_factor=None, highlight=None, **kwargs)"
      ],
      "execution_count": 0,
      "outputs": []
    },
    {
      "cell_type": "code",
      "metadata": {
        "id": "uLlcHREWK5kA",
        "colab_type": "code",
        "colab": {}
      },
      "source": [
        "\n",
        "\n",
        "map3 = folium.Map(location=[ptcoupee_pt.y.squeeze(), ptcoupee_pt.x.squeeze()], \n",
        "                  tiles='Stamen Toner',\n",
        "                  width=800,height=600,zoom_start=7)\n",
        "\n",
        "folium.Choropleth(geo_data=popdata2map.__geo_interface__,\n",
        "           data=popdata2color.slave2white_ratio,\n",
        "           fill_color=\"Reds\",\n",
        "           fill_opacity=0.8,\n",
        "           line_color=\"grey\",\n",
        "           key_on=\"feature.id\",\n",
        "           legend=True,\n",
        "           legend_name=\"stuff\"\n",
        "          ).add_to(map3)\n",
        "\n",
        "for i in lsc_locs.index:\n",
        "  folium.CircleMarker(\n",
        "    location=[lsc_locs.latitude[i], lsc_locs.longitude[i]],\n",
        "    radius= 8,\n",
        "    popup= lsc_locs.name[i],\n",
        "    color='red',\n",
        "    fill=True,\n",
        "    fill_color='blac',\n",
        "    fill_opacity=1\n",
        ").add_to(map3)\n",
        "\n",
        "map3"
      ],
      "execution_count": 0,
      "outputs": []
    },
    {
      "cell_type": "markdown",
      "metadata": {
        "id": "d47b9mrs5AK4",
        "colab_type": "text"
      },
      "source": [
        "## Any Questions?\n",
        "\n",
        "---"
      ]
    },
    {
      "cell_type": "markdown",
      "metadata": {
        "id": "-NSu5JxIeFz8",
        "colab_type": "text"
      },
      "source": [
        "## Lastly, to download data from Google Colab into your Google Drive, you should adapt the following code:"
      ]
    },
    {
      "cell_type": "code",
      "metadata": {
        "id": "0FSuchUXegyM",
        "colab_type": "code",
        "colab": {}
      },
      "source": [
        "# Code to read files into Colaboratory:\n",
        "!pip install -U -q PyDrive\n",
        "from pydrive.auth import GoogleAuth\n",
        "from pydrive.drive import GoogleDrive\n",
        "from google.colab import auth\n",
        "from google.colab import files\n",
        "from oauth2client.client import GoogleCredentials\n",
        "\n",
        "# Authenticate and create the PyDrive client.\n",
        "auth.authenticate_user()\n",
        "gauth = GoogleAuth()\n",
        "gauth.credentials = GoogleCredentials.get_application_default()\n",
        "drive = GoogleDrive(gauth)"
      ],
      "execution_count": 0,
      "outputs": []
    },
    {
      "cell_type": "code",
      "metadata": {
        "id": "WQKV3j9Ee8lE",
        "colab_type": "code",
        "colab": {}
      },
      "source": [
        "# To have a working memory to date, let's save this as a shapefile for now\n",
        "# The files can be observed on the menu on the left hand side \n",
        "# under the \"Files\" menu (next to \"Table of contents\", and \"Code snippets\")\n",
        "\n",
        "geopandasFile.to_file(\"geopandasFileAsShapefile.shp\")\n"
      ],
      "execution_count": 0,
      "outputs": []
    },
    {
      "cell_type": "code",
      "metadata": {
        "id": "lIKpE2ndg3Z9",
        "colab_type": "code",
        "colab": {}
      },
      "source": [
        "# In theory you could right click and download the files in .shp,.shx,.prj,.dbf,.cpg\n",
        "# But if that doesn't work then run the code below and these will be saved in \n",
        "# your google drive folder\n",
        "\n",
        "# Files with format: .shp\n",
        "uploaded = drive.CreateFile({'name_of_gdf': 'name_of_gdf.shp'})\n",
        "uploaded.SetContentFile('name_of_gdf.shp')\n",
        "uploaded.Upload()\n",
        "print('Uploaded file with ID {}'.format(uploaded.get('id')))\n",
        "\n",
        "# Repeat the above process (.shp) to files with format:\n",
        "# .shx\n",
        "# .prj\n",
        "# .dbf\n",
        "# .cpg\n"
      ],
      "execution_count": 0,
      "outputs": []
    },
    {
      "cell_type": "markdown",
      "metadata": {
        "id": "uDvk-vYZ7q2Z",
        "colab_type": "text"
      },
      "source": [
        "# Spatial Data Processing\n",
        "\n",
        "\n",
        "\n",
        "Spatial relationship queries return `True` or `False` when comparing geometries based on a spatial relationship predicate. \n",
        "\n",
        "Geometric processing operations, on the other hand, construct new geometries from one or more input geometries. \n",
        "\n",
        "These transformations, which are also called **geoprocessing**, make up the bulk of spatial preprocessing operations - the work you do to prepare your data for analysis!\n",
        "\n",
        "## Common Types of Geoprocessing operations\n",
        "\n",
        "Below is a list of some common types of geoprocessing operations.\n",
        "\n",
        "- Coordinate system transformations\n",
        "- Dimensionality transformations (points to polygons, polygons to points or lines, lines to polygons or points)\n",
        "- Geometric Aggregations (simplify, dissolve / groupby operations on geometries)\n",
        "- Spatial overlay operations that perform set operations on input geometries and return new geometries that are the set intersection, union, difference.\n",
        "\n",
        "An in-depth review of all of the types of and methods for geoprocessing is beyond the scope of this workshop.   A good way to get an overview is to work through the different sections of the Geopandas documentation.\n",
        "\n",
        "Instead, we will work through a few of these as we explore our historical Louisiana data.\n",
        "\n",
        "### Question\n",
        "\n",
        "What types of geoprocesing operations we have explored so far?\n",
        "\n",
        "\n",
        "## End Note\n",
        "\n",
        "We encourage you to explore the resources listed below to learn more about geoprocessing and other operations in GeoPandas!\n",
        "\n",
        "### Any Questions?\n",
        "---\n"
      ]
    },
    {
      "cell_type": "markdown",
      "metadata": {
        "id": "IH8_CSxX8KAA",
        "colab_type": "text"
      },
      "source": [
        "# Next Steps"
      ]
    },
    {
      "cell_type": "markdown",
      "metadata": {
        "id": "ufmzZTsHVQWd",
        "colab_type": "text"
      },
      "source": [
        "\n",
        "\n",
        "### Start with the Package Documentation\n",
        "\n",
        "- [GeoPandas Documentation](http://geopandas.org/)\n",
        "- [Shapely Documentation(https://shapely.readthedocs.io/en/stable/)]\n",
        "\n",
        "### Check out the excellent Kaggle Tutorial on Geospatial Analysis  \n",
        "- <https://www.kaggle.com/learn/geospatial-analysis>\n",
        "- They also have a great Pandas tutorial.\n",
        "\n",
        "### For a deep dive check out the SciPy 2018 workshop on geopandas.\n",
        "\n",
        "- The notebooks are [here](https://github.com/geopandas/scipy2018-geospatial-data).\n",
        "- And be sure to watch the [youtube video](https://www.youtube.com/watch?v=kJXUUO5M4ok). \n",
        "\n",
        "### More Geopandas Practice\n",
        "\n",
        "- Try this [Geopandas tutorial](https://www.datacamp.com/community/tutorials/geospatial-data-python) on plotting the path of Hurricane Florence.\n",
        "\n",
        "\n",
        "\n",
        "### Interactive mapping \n",
        "\n",
        "- The [mplleaflet](https://github.com/jwass/mplleaflet) and [folium](https://github.com/python-visualization/folium) packages are very popular for creating interactive web maps in python notebooks. Check out the online documentation and do a web search for an online tutorial to get started.\n"
      ]
    },
    {
      "cell_type": "markdown",
      "metadata": {
        "id": "-oZIWVk5VlZu",
        "colab_type": "text"
      },
      "source": [
        "# Thank you!\n",
        "\n",
        "\n",
        "---\n",
        "\n",
        "Last updated 11/12/2019 by Sergio Castellanos (sergioc [at] berkeley [dot] edu)"
      ]
    },
    {
      "cell_type": "code",
      "metadata": {
        "id": "t0IfMLxdVssn",
        "colab_type": "code",
        "colab": {}
      },
      "source": [
        ""
      ],
      "execution_count": 0,
      "outputs": []
    }
  ]
}