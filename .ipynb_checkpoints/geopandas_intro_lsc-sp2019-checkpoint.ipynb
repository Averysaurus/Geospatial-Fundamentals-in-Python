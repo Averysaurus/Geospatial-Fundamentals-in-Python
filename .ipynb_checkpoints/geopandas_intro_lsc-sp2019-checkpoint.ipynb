{
 "cells": [
  {
   "cell_type": "markdown",
   "metadata": {
    "colab_type": "text",
    "id": "K8ZIWrYoA98X"
   },
   "source": [
    "# Geospatial Data in Python with GeoPandas \n",
    "\n",
    "## Introduction\n",
    "\n",
    "The goal of this notebook is to give you an **introduction** to working with geospatial data in Python using the `geopandas` package.  The sample data and use cases are related to a UC Berkeley research a project that I have been working on called **The Louisiana Slave Conspiracies**. This project explores several slave conspiracies that occured in colonial Louisiana during the late 1700s and early 1800s. Since very little data exist for this time period, we begin with an exploration of US Census data from the early 1800s, shortly after the Orleans Territory became part of the United States.\n",
    "\n",
    "### Assumptions\n",
    "\n",
    "This tutorial assumptions you have basic working knowledge of Python and of geospatial data.   If you need a geospatial refresher, we can start with this a **very** [Brief Introduction to Geospatial Data](https://docs.google.com/presentation/d/1d9GNcLDsnLxfLmrNRNZE976sHN5qNfkU9Rl2gabUsWc/edit?usp=sharing)."
   ]
  },
  {
   "cell_type": "markdown",
   "metadata": {
    "colab_type": "text",
    "id": "woj-KLR-LtKA"
   },
   "source": [
    "## Setup\n",
    "\n",
    "\n"
   ]
  },
  {
   "cell_type": "markdown",
   "metadata": {
    "colab_type": "text",
    "id": "F_tRn16Vzv_X"
   },
   "source": [
    "### Tutorial Files\n",
    "\n",
    "\n",
    "\n",
    "The files for this tutorial are located in this github repo: https://github.com/dlab-geo\n",
    "\n",
    "- The notebook file: **geopandas_intro_lsc.ipynb**\n",
    "\n",
    "- The data are in the folder **data**\n",
    "\n",
    "\n",
    "#### Tutorial Notebook\n",
    "If you are running the notebook locally on your computer you can clone or download the files from github.  \n",
    "\n",
    "- Then navigate to the folder that contains the notebook file and open it.\n",
    "\n",
    "If you are running the notebook on **Google Collaboratory** you can open the notebook by clicking on the <img src=\"https://colab.research.google.com/assets/colab-badge.svg\" alt=\"Open In Colab\"/> badge shown in the Github repo.\n",
    "\n",
    "- Then, **File > Save in Drive** so you can make and save changes."
   ]
  },
  {
   "cell_type": "markdown",
   "metadata": {
    "colab_type": "text",
    "id": "UD2q760KPbN9"
   },
   "source": [
    "#### Tutorial Data\n",
    "\n",
    "If you downloaded or cloned the github repo to your local computer the data files for this tutorial will be in the **data** folder which should be located in the same folder as the notebook.  If this is the case, set the variable **my_folder** to the current working directory which is referenced as **./**  (a period followed by a forward slash in a linux/unix/MacOS). "
   ]
  },
  {
   "cell_type": "code",
   "execution_count": 1,
   "metadata": {
    "colab": {},
    "colab_type": "code",
    "collapsed": true,
    "id": "4w-1sERPPS8v"
   },
   "outputs": [],
   "source": [
    "# Where are the notebook files?\n",
    "my_folder = \"./\""
   ]
  },
  {
   "cell_type": "markdown",
   "metadata": {
    "colab_type": "text",
    "id": "otgskh_P3cSC"
   },
   "source": [
    "If you are working in **Google Collaboratory** you will need to clone the repo into the collaboratory cloud space. This will only store the files temporarily while your session is active.  If this is the case, uncomment the git command below and run the cell."
   ]
  },
  {
   "cell_type": "code",
   "execution_count": 2,
   "metadata": {
    "colab": {},
    "colab_type": "code",
    "collapsed": true,
    "id": "nmtPwkpU34Ce"
   },
   "outputs": [],
   "source": [
    "#Clone the files from Github so that we can access the data directory\n",
    "#!git clone https://github.com/dlab-geo/geopandas_intro\n"
   ]
  },
  {
   "cell_type": "markdown",
   "metadata": {
    "colab_type": "text",
    "id": "FiEyGZnA4ROi"
   },
   "source": [
    "Take a look at your files with the **ls** command on a mac or in the cloud or **dir()** command on a Windows PC."
   ]
  },
  {
   "cell_type": "code",
   "execution_count": 3,
   "metadata": {
    "colab": {},
    "colab_type": "code",
    "id": "w4s_vUpc4kI1"
   },
   "outputs": [
    {
     "name": "stdout",
     "output_type": "stream",
     "text": [
      "LICENSE                          geopandas_intro_lsc-sp2019.ipynb\r\n",
      "README.md                        geopandas_intro_lsc.ipynb\r\n",
      "\u001b[34mdata\u001b[m\u001b[m                             geoparse_spacy-folium.ipynb\r\n",
      "\u001b[34mdata0\u001b[m\u001b[m                            \u001b[34molder_versions\u001b[m\u001b[m\r\n",
      "environment.yml.bak              requirements.txt\r\n"
     ]
    }
   ],
   "source": [
    "!ls\n",
    "#!ls data\n",
    "#!ls geopandas_intro\n",
    "#!ls geopandas_intro/data"
   ]
  },
  {
   "cell_type": "markdown",
   "metadata": {
    "colab_type": "text",
    "id": "C8DbM8Mc4nlF"
   },
   "source": [
    "If you see a **geopandas_intro** folder (directory) then update the value of **my_folder** by uncommenting the line below and executing the code."
   ]
  },
  {
   "cell_type": "code",
   "execution_count": 4,
   "metadata": {
    "colab": {},
    "colab_type": "code",
    "id": "TJWSfwp74-fV"
   },
   "outputs": [
    {
     "name": "stdout",
     "output_type": "stream",
     "text": [
      "./\n"
     ]
    }
   ],
   "source": [
    "# Where are the notebook files?\n",
    "#my_folder = \"./geopandas_intro/\"\n",
    "print(my_folder)"
   ]
  },
  {
   "cell_type": "markdown",
   "metadata": {
    "colab_type": "text",
    "id": "8HX0Z_BWO-6-"
   },
   "source": [
    "###  Geospatial libraries\n",
    "\n",
    "We will be using a number of libraries that support working with geospatial data in Python, the most important of which is **Geopandas**.\n",
    "\n",
    "#### GeoPandas\n",
    "\n",
    "[GeoPandas](http://geopandas.org/) is a relatively new Python for working with geospatial data. In the last few years it has grown more powerful and stable. This really is great because previously it was quite complex to work with geospatial data in Python.  GeoPandas is now the go to package for working with geospatial data. \n",
    "\n",
    "`GeoPandas` provides convenient, unified access to the functionality of the [pandas](https://pandas.pydata.org/) package and the functionality provided by a number of lower level spatial data packages including [shapely](https://pypi.python.org/pypi/Shapely) for geometry processing, [fiona](https://pypi.python.org/pypi/Fiona) for spatial data file IO and[ pyproj](https://github.com/jswhit/pyproj) for map projections and coordinate systems.  These libraries should be installed along with Geopandas but if for any reason they are not you can and should manually install them.\n",
    "\n",
    "We will also be using a few other geospatial libraries including:\n",
    "\n",
    "- **pysal** for spatial analysis functions such as data classification methods.\n",
    "- **Descartes** for ploting Shapelygeometric objects with Matplotlib.\n",
    "- **mplleaflet** for converting matplotlib plots to interactive leaflet web maps\n",
    "\n",
    "Finally, we will use a number of standard Python libraries including pandas, numpy, and matplotlib.\n",
    "\n",
    "If you are missing any libraries or you are working in the **Google Collaborary** environment you can install the packages with the following `pip install` commands."
   ]
  },
  {
   "cell_type": "code",
   "execution_count": 5,
   "metadata": {
    "colab": {},
    "colab_type": "code",
    "collapsed": true,
    "id": "hB7qzjMlNBQ_"
   },
   "outputs": [],
   "source": [
    "# Install packages need to work with geospatial data objects and methods\n",
    "#!pip install geopandas                    \n",
    "#!pip install descartes   \n",
    "#!pip install pysal \n",
    "#!pip install mplleaflet\n"
   ]
  },
  {
   "cell_type": "markdown",
   "metadata": {
    "colab_type": "text",
    "id": "tCzrDoU_P3rJ"
   },
   "source": [
    "**Setup complete - you are ready to run!**"
   ]
  },
  {
   "cell_type": "markdown",
   "metadata": {
    "colab_type": "text",
    "id": "8leJm45QA98b"
   },
   "source": [
    "## Import libraries"
   ]
  },
  {
   "cell_type": "code",
   "execution_count": 6,
   "metadata": {
    "colab": {},
    "colab_type": "code",
    "collapsed": true,
    "id": "MsXXfcR0A98f"
   },
   "outputs": [],
   "source": [
    "%matplotlib inline\n",
    "import matplotlib\n",
    "import numpy as np\n",
    "import matplotlib.pyplot as plt\n",
    "import pandas as pd\n",
    "\n",
    "import mplleaflet\n",
    "\n",
    "from shapely.wkt import loads\n",
    "from shapely.geometry import Point, Polygon\n",
    "import geopandas as gpd\n",
    "#from geopandas import GeoSeries, GeoDataFrame"
   ]
  },
  {
   "cell_type": "code",
   "execution_count": 38,
   "metadata": {},
   "outputs": [
    {
     "name": "stdout",
     "output_type": "stream",
     "text": [
      "geopandas 0.4.0\n",
      "shapely 1.6.4.post2\n",
      "pandas 0.23.4\n",
      "rtree 0.8.3\n",
      "numpy 1.14.2\n"
     ]
    }
   ],
   "source": [
    "import shapely\n",
    "import rtree\n",
    "print(\"geopandas\",gpd.__version__)\n",
    "print(\"shapely\", shapely.__version__)\n",
    "print(\"pandas\", pd.__version__)\n",
    "print(\"rtree\", rtree.__version__)\n",
    "print(\"numpy\", np.__version__)"
   ]
  },
  {
   "cell_type": "code",
   "execution_count": 39,
   "metadata": {},
   "outputs": [
    {
     "name": "stdout",
     "output_type": "stream",
     "text": [
      "\u001b[33mYou are using pip version 18.1, however version 19.0.3 is available.\r\n",
      "You should consider upgrading via the 'pip install --upgrade pip' command.\u001b[0m\r\n"
     ]
    }
   ],
   "source": [
    "# pandas was 0.20\n",
    "# updating to 0.24 to see if that gets rid of my problems\n",
    "#!pip install --upgrade pandas==0.23.4\n",
    "!pip list -o | grep -i geopandas"
   ]
  },
  {
   "cell_type": "code",
   "execution_count": null,
   "metadata": {},
   "outputs": [],
   "source": [
    "#datahub versions\n",
    "#geopandas 0.3.0 - diff\n",
    "#shapely 1.6.4 - diff\n",
    "#pandas 0.23.4  - same\n",
    "#rtree 0.8.3 - same\n",
    "#numpy 1.16.0\n"
   ]
  },
  {
   "cell_type": "markdown",
   "metadata": {
    "colab_type": "text",
    "id": "I20h7FEyA98i"
   },
   "source": [
    "## About the Data \n",
    "\n",
    "This tutorial uses historical census data for the USA and the Orleans Territory, most of which is now called Louisiana, that were obtained from the `NHGIS`, or *National Historical Geographic Information System* website ([IPUMS NHGIS, University of Minnesota, www.nhgis.org](https://www.nhgis.org)).  A cartographic boundary file for the United States was obtained from the [US Census website](https://www.census.gov/geo/maps-data/data/tiger-cart-boundary.html).\n",
    "\n",
    "Data for rivers in the US was downloaded from [Natural Earth](https://www.naturalearthdata.com/), a public domain source of mapping data.\n",
    "\n",
    "Take a look at the data we will use with the **ls** or **dir()** command."
   ]
  },
  {
   "cell_type": "code",
   "execution_count": 7,
   "metadata": {
    "colab": {},
    "colab_type": "code",
    "id": "BkqJY3eWHJZz"
   },
   "outputs": [
    {
     "name": "stdout",
     "output_type": "stream",
     "text": [
      "LICENSE                          geopandas_intro_lsc-sp2019.ipynb\r\n",
      "README.md                        geopandas_intro_lsc.ipynb\r\n",
      "\u001b[34mdata\u001b[m\u001b[m                             geoparse_spacy-folium.ipynb\r\n",
      "\u001b[34mdata0\u001b[m\u001b[m                            \u001b[34molder_versions\u001b[m\u001b[m\r\n",
      "environment.yml.bak              requirements.txt\r\n"
     ]
    }
   ],
   "source": [
    "!ls\n",
    "#!ls data\n",
    "#!ls geopandas_intro/data"
   ]
  },
  {
   "cell_type": "markdown",
   "metadata": {
    "colab_type": "text",
    "id": "YMtUUdpoA98n"
   },
   "source": [
    "## Reading in a Spatial Data\n",
    "\n",
    "Geopandas makes it easy to read in almost any kind of vector data file including the [ESRI Shapefile](https://en.wikipedia.org/wiki/Shapefile) with the [read_file](http://geopandas.org/io.html) command.  You simply put the name of the file in quotes and assign the resulting object to a simple yet informative variable name, here `usa1810`."
   ]
  },
  {
   "cell_type": "code",
   "execution_count": 8,
   "metadata": {
    "colab": {},
    "colab_type": "code",
    "collapsed": true,
    "id": "68MWKjNdA98o"
   },
   "outputs": [],
   "source": [
    "#usa1810 = gpd.read_file(\"data/uscounties_1810.shp\")  #US counties in 1810\n",
    "usa1810 = gpd.read_file(my_folder + \"data/uscounties_1810.shp\")  #US counties in 1810\n"
   ]
  },
  {
   "cell_type": "markdown",
   "metadata": {
    "colab_type": "text",
    "id": "7UvRy4MXA98q"
   },
   "source": [
    "The `read_file` command returns a geopandas `GeoDataFrame` object, or `gdf` for short. "
   ]
  },
  {
   "cell_type": "code",
   "execution_count": 9,
   "metadata": {
    "colab": {},
    "colab_type": "code",
    "id": "f8QIQrf3A98r"
   },
   "outputs": [
    {
     "data": {
      "text/plain": [
       "geopandas.geodataframe.GeoDataFrame"
      ]
     },
     "execution_count": 9,
     "metadata": {},
     "output_type": "execute_result"
    }
   ],
   "source": [
    "type(usa1810)"
   ]
  },
  {
   "cell_type": "code",
   "execution_count": 10,
   "metadata": {},
   "outputs": [
    {
     "data": {
      "text/plain": [
       "{'init': 'epsg:4326'}"
      ]
     },
     "execution_count": 10,
     "metadata": {},
     "output_type": "execute_result"
    }
   ],
   "source": [
    "usa1810.crs"
   ]
  },
  {
   "cell_type": "code",
   "execution_count": null,
   "metadata": {
    "collapsed": true
   },
   "outputs": [],
   "source": []
  },
  {
   "cell_type": "markdown",
   "metadata": {
    "colab_type": "text",
    "id": "hcu06iJOA98u"
   },
   "source": [
    "Take a look at the `usa1810` gdf with the **head** command, just like you would look at a `pandas` dataframe. Because it is a pandas dataframe, but with geo super powers! \n"
   ]
  },
  {
   "cell_type": "code",
   "execution_count": null,
   "metadata": {
    "colab": {},
    "colab_type": "code",
    "id": "shkKXmpbA98u"
   },
   "outputs": [],
   "source": [
    "usa1810.head()"
   ]
  },
  {
   "cell_type": "markdown",
   "metadata": {},
   "source": [
    "#### *Can you identify the name of the column that contains the  coordinate data?*"
   ]
  },
  {
   "cell_type": "markdown",
   "metadata": {
    "colab_type": "text",
    "id": "Qvk-7kmhA98y"
   },
   "source": [
    "You can access the  coordinate data directy via the `geometry` column."
   ]
  },
  {
   "cell_type": "code",
   "execution_count": null,
   "metadata": {
    "colab": {},
    "colab_type": "code",
    "id": "Tt-X7H03A98y"
   },
   "outputs": [],
   "source": [
    "usa1810.geometry.head()"
   ]
  },
  {
   "cell_type": "markdown",
   "metadata": {
    "colab_type": "text",
    "id": "cyTpdXWuA981"
   },
   "source": [
    "\n",
    "What happens if you access just one geometry?"
   ]
  },
  {
   "cell_type": "code",
   "execution_count": null,
   "metadata": {
    "colab": {},
    "colab_type": "code",
    "id": "I8VckOeOA982"
   },
   "outputs": [],
   "source": [
    "usa1810.geometry[3]"
   ]
  },
  {
   "cell_type": "markdown",
   "metadata": {
    "colab_type": "text",
    "id": "aPP7GJaPDMAd"
   },
   "source": [
    "### Challenge\n",
    "\n",
    "How can you display the geometry for the county New York, New York?  \n",
    "\n",
    "- Hint: take a look at the rows for New York state."
   ]
  },
  {
   "cell_type": "code",
   "execution_count": null,
   "metadata": {
    "colab": {},
    "colab_type": "code",
    "id": "7jv3tAI5Chnl"
   },
   "outputs": [],
   "source": [
    "usa1810[usa1810['STATENAM']=='New York']"
   ]
  },
  {
   "cell_type": "code",
   "execution_count": 11,
   "metadata": {
    "collapsed": true
   },
   "outputs": [],
   "source": [
    "world = gpd.read_file(gpd.datasets.get_path('naturalearth_lowres'))"
   ]
  },
  {
   "cell_type": "code",
   "execution_count": 12,
   "metadata": {},
   "outputs": [
    {
     "data": {
      "text/html": [
       "<div>\n",
       "<style scoped>\n",
       "    .dataframe tbody tr th:only-of-type {\n",
       "        vertical-align: middle;\n",
       "    }\n",
       "\n",
       "    .dataframe tbody tr th {\n",
       "        vertical-align: top;\n",
       "    }\n",
       "\n",
       "    .dataframe thead th {\n",
       "        text-align: right;\n",
       "    }\n",
       "</style>\n",
       "<table border=\"1\" class=\"dataframe\">\n",
       "  <thead>\n",
       "    <tr style=\"text-align: right;\">\n",
       "      <th></th>\n",
       "      <th>pop_est</th>\n",
       "      <th>continent</th>\n",
       "      <th>name</th>\n",
       "      <th>iso_a3</th>\n",
       "      <th>gdp_md_est</th>\n",
       "      <th>geometry</th>\n",
       "    </tr>\n",
       "  </thead>\n",
       "  <tbody>\n",
       "    <tr>\n",
       "      <th>0</th>\n",
       "      <td>28400000.0</td>\n",
       "      <td>Asia</td>\n",
       "      <td>Afghanistan</td>\n",
       "      <td>AFG</td>\n",
       "      <td>22270.0</td>\n",
       "      <td>POLYGON ((61.21081709172574 35.65007233330923,...</td>\n",
       "    </tr>\n",
       "    <tr>\n",
       "      <th>1</th>\n",
       "      <td>12799293.0</td>\n",
       "      <td>Africa</td>\n",
       "      <td>Angola</td>\n",
       "      <td>AGO</td>\n",
       "      <td>110300.0</td>\n",
       "      <td>(POLYGON ((16.32652835456705 -5.87747039146621...</td>\n",
       "    </tr>\n",
       "    <tr>\n",
       "      <th>2</th>\n",
       "      <td>3639453.0</td>\n",
       "      <td>Europe</td>\n",
       "      <td>Albania</td>\n",
       "      <td>ALB</td>\n",
       "      <td>21810.0</td>\n",
       "      <td>POLYGON ((20.59024743010491 41.85540416113361,...</td>\n",
       "    </tr>\n",
       "    <tr>\n",
       "      <th>3</th>\n",
       "      <td>4798491.0</td>\n",
       "      <td>Asia</td>\n",
       "      <td>United Arab Emirates</td>\n",
       "      <td>ARE</td>\n",
       "      <td>184300.0</td>\n",
       "      <td>POLYGON ((51.57951867046327 24.24549713795111,...</td>\n",
       "    </tr>\n",
       "    <tr>\n",
       "      <th>4</th>\n",
       "      <td>40913584.0</td>\n",
       "      <td>South America</td>\n",
       "      <td>Argentina</td>\n",
       "      <td>ARG</td>\n",
       "      <td>573900.0</td>\n",
       "      <td>(POLYGON ((-65.50000000000003 -55.199999999999...</td>\n",
       "    </tr>\n",
       "  </tbody>\n",
       "</table>\n",
       "</div>"
      ],
      "text/plain": [
       "      pop_est      continent                  name iso_a3  gdp_md_est  \\\n",
       "0  28400000.0           Asia           Afghanistan    AFG     22270.0   \n",
       "1  12799293.0         Africa                Angola    AGO    110300.0   \n",
       "2   3639453.0         Europe               Albania    ALB     21810.0   \n",
       "3   4798491.0           Asia  United Arab Emirates    ARE    184300.0   \n",
       "4  40913584.0  South America             Argentina    ARG    573900.0   \n",
       "\n",
       "                                            geometry  \n",
       "0  POLYGON ((61.21081709172574 35.65007233330923,...  \n",
       "1  (POLYGON ((16.32652835456705 -5.87747039146621...  \n",
       "2  POLYGON ((20.59024743010491 41.85540416113361,...  \n",
       "3  POLYGON ((51.57951867046327 24.24549713795111,...  \n",
       "4  (POLYGON ((-65.50000000000003 -55.199999999999...  "
      ]
     },
     "execution_count": 12,
     "metadata": {},
     "output_type": "execute_result"
    }
   ],
   "source": [
    "world.head()"
   ]
  },
  {
   "cell_type": "code",
   "execution_count": 13,
   "metadata": {},
   "outputs": [
    {
     "data": {
      "text/plain": [
       "<matplotlib.axes._subplots.AxesSubplot at 0x119784160>"
      ]
     },
     "execution_count": 13,
     "metadata": {},
     "output_type": "execute_result"
    },
    {
     "data": {
      "image/png": "[encoded data removed]",
      "text/plain": [
       "<matplotlib.figure.Figure at 0x10ef44358>"
      ]
     },
     "metadata": {},
     "output_type": "display_data"
    }
   ],
   "source": [
    "world.plot()"
   ]
  },
  {
   "cell_type": "code",
   "execution_count": 36,
   "metadata": {},
   "outputs": [
    {
     "data": {
      "text/html": [
       "<div>\n",
       "<style scoped>\n",
       "    .dataframe tbody tr th:only-of-type {\n",
       "        vertical-align: middle;\n",
       "    }\n",
       "\n",
       "    .dataframe tbody tr th {\n",
       "        vertical-align: top;\n",
       "    }\n",
       "\n",
       "    .dataframe thead th {\n",
       "        text-align: right;\n",
       "    }\n",
       "</style>\n",
       "<table border=\"1\" class=\"dataframe\">\n",
       "  <thead>\n",
       "    <tr style=\"text-align: right;\">\n",
       "      <th></th>\n",
       "      <th>continent</th>\n",
       "      <th>geometry</th>\n",
       "    </tr>\n",
       "  </thead>\n",
       "  <tbody>\n",
       "    <tr>\n",
       "      <th>1</th>\n",
       "      <td>Africa</td>\n",
       "      <td>(POLYGON ((16.32652835456705 -5.87747039146621...</td>\n",
       "    </tr>\n",
       "    <tr>\n",
       "      <th>11</th>\n",
       "      <td>Africa</td>\n",
       "      <td>POLYGON ((29.33999759290035 -4.499983412294092...</td>\n",
       "    </tr>\n",
       "    <tr>\n",
       "      <th>13</th>\n",
       "      <td>Africa</td>\n",
       "      <td>POLYGON ((2.691701694356254 6.258817246928629,...</td>\n",
       "    </tr>\n",
       "    <tr>\n",
       "      <th>14</th>\n",
       "      <td>Africa</td>\n",
       "      <td>POLYGON ((-2.827496303712707 9.642460842319778...</td>\n",
       "    </tr>\n",
       "    <tr>\n",
       "      <th>25</th>\n",
       "      <td>Africa</td>\n",
       "      <td>POLYGON ((25.64916344575016 -18.53602589281899...</td>\n",
       "    </tr>\n",
       "  </tbody>\n",
       "</table>\n",
       "</div>"
      ],
      "text/plain": [
       "   continent                                           geometry\n",
       "1     Africa  (POLYGON ((16.32652835456705 -5.87747039146621...\n",
       "11    Africa  POLYGON ((29.33999759290035 -4.499983412294092...\n",
       "13    Africa  POLYGON ((2.691701694356254 6.258817246928629,...\n",
       "14    Africa  POLYGON ((-2.827496303712707 9.642460842319778...\n",
       "25    Africa  POLYGON ((25.64916344575016 -18.53602589281899..."
      ]
     },
     "execution_count": 36,
     "metadata": {},
     "output_type": "execute_result"
    }
   ],
   "source": [
    "world2 = world[world['continent']== 'Africa']\n",
    "world2 = world2[['continent', 'geometry']]\n",
    "world2.head()"
   ]
  },
  {
   "cell_type": "code",
   "execution_count": 20,
   "metadata": {
    "collapsed": true
   },
   "outputs": [],
   "source": [
    "def multi2single(gpdf):\n",
    "    gpdf_singlepoly = gpdf[gpdf.geometry.type == 'Polygon']\n",
    "    gpdf_multipoly = gpdf[gpdf.geometry.type == 'MultiPolygon']\n",
    "\n",
    "    for i, row in gpdf_multipoly.iterrows():\n",
    "        Series_geometries = pd.Series(row.geometry)\n",
    "        df = pd.concat([gpd.GeoDataFrame(row, crs=gpdf_multipoly.crs).T]*len(Series_geometries), ignore_index=True)\n",
    "        df['geometry']  = Series_geometries\n",
    "        gpdf_singlepoly = pd.concat([gpdf_singlepoly, df])\n",
    "\n",
    "    gpdf_singlepoly.reset_index(inplace=True, drop=True)\n",
    "    return gpdf_singlepoly"
   ]
  },
  {
   "cell_type": "code",
   "execution_count": 29,
   "metadata": {},
   "outputs": [
    {
     "data": {
      "text/plain": [
       "<matplotlib.axes._subplots.AxesSubplot at 0x121e8cba8>"
      ]
     },
     "execution_count": 29,
     "metadata": {},
     "output_type": "execute_result"
    },
    {
     "data": {
      "image/png": "[encoded data removed]",
      "text/plain": [
       "<matplotlib.figure.Figure at 0x122148588>"
      ]
     },
     "metadata": {},
     "output_type": "display_data"
    }
   ],
   "source": [
    "world3 = multi2single(world2)\n",
    "world3.plot()"
   ]
  },
  {
   "cell_type": "code",
   "execution_count": null,
   "metadata": {
    "collapsed": true
   },
   "outputs": [],
   "source": [
    "#cols = ['pfaf_6', 'pfaf_7', 'geometry']\n",
    "#hydrobas_ww_p7 = hydrobas_ww[cols].dissolve(by='pfaf_7', aggfunc='first', as_index=False)\n",
    "#len(hydrobas_ww_p7)"
   ]
  },
  {
   "cell_type": "code",
   "execution_count": 31,
   "metadata": {},
   "outputs": [],
   "source": [
    "world3['geometry'] = world3.buffer(0.0001)"
   ]
  },
  {
   "cell_type": "code",
   "execution_count": 37,
   "metadata": {},
   "outputs": [
    {
     "data": {
      "text/html": [
       "<div>\n",
       "<style scoped>\n",
       "    .dataframe tbody tr th:only-of-type {\n",
       "        vertical-align: middle;\n",
       "    }\n",
       "\n",
       "    .dataframe tbody tr th {\n",
       "        vertical-align: top;\n",
       "    }\n",
       "\n",
       "    .dataframe thead th {\n",
       "        text-align: right;\n",
       "    }\n",
       "</style>\n",
       "<table border=\"1\" class=\"dataframe\">\n",
       "  <thead>\n",
       "    <tr style=\"text-align: right;\">\n",
       "      <th></th>\n",
       "      <th>geometry</th>\n",
       "    </tr>\n",
       "    <tr>\n",
       "      <th>continent</th>\n",
       "      <th></th>\n",
       "    </tr>\n",
       "  </thead>\n",
       "  <tbody>\n",
       "    <tr>\n",
       "      <th>Africa</th>\n",
       "      <td>()</td>\n",
       "    </tr>\n",
       "  </tbody>\n",
       "</table>\n",
       "</div>"
      ],
      "text/plain": [
       "          geometry\n",
       "continent         \n",
       "Africa          ()"
      ]
     },
     "execution_count": 37,
     "metadata": {},
     "output_type": "execute_result"
    }
   ],
   "source": [
    "continents = world2.dissolve(by='continent')\n",
    "continents"
   ]
  },
  {
   "cell_type": "code",
   "execution_count": 33,
   "metadata": {},
   "outputs": [
    {
     "data": {
      "text/plain": [
       "<matplotlib.axes._subplots.AxesSubplot at 0x12221aac8>"
      ]
     },
     "execution_count": 33,
     "metadata": {},
     "output_type": "execute_result"
    },
    {
     "data": {
      "image/png": "[encoded data removed]",
      "text/plain": [
       "<matplotlib.figure.Figure at 0x122265978>"
      ]
     },
     "metadata": {},
     "output_type": "display_data"
    }
   ],
   "source": [
    "continents.plot()"
   ]
  },
  {
   "cell_type": "code",
   "execution_count": null,
   "metadata": {
    "colab": {},
    "colab_type": "code",
    "id": "gzU9FzAIzRzJ"
   },
   "outputs": [],
   "source": [
    "# Your code here - display geometry for the county NY, NY\n",
    "#x=usa1810[usa1810['STATENAM']=='New York']\n",
    "x=usa1810[['STATENAM','geometry']] #.dissolve(by='STATENAM')\n",
    "x.head()#y=x.dissolve(by='STATENAM')\n",
    "#y"
   ]
  },
  {
   "cell_type": "code",
   "execution_count": null,
   "metadata": {},
   "outputs": [],
   "source": [
    "usa1810[usa1810['STATENAM']=='New York'].dissolve"
   ]
  },
  {
   "cell_type": "markdown",
   "metadata": {
    "colab_type": "text",
    "id": "Y0g8-UwUA986"
   },
   "source": [
    "### Challenge\n",
    "\n",
    "In the cell below, rename the column NHGISNAM to 'county', which is a lot more intuitive!\n",
    "\n",
    "Hint: here is an example using a hypothetical pandas dataframe.\n",
    "\n",
    ">`unemployment.rename(columns={'month' : 'year_month'}, inplace=True)`"
   ]
  },
  {
   "cell_type": "code",
   "execution_count": null,
   "metadata": {
    "colab": {},
    "colab_type": "code",
    "collapsed": true,
    "id": "HGoDOzqdA987"
   },
   "outputs": [],
   "source": [
    "# Your code here\n",
    "#usa1810.rename(...)\n",
    "\n",
    "usa1810.head()  # check results"
   ]
  },
  {
   "cell_type": "markdown",
   "metadata": {
    "colab_type": "text",
    "id": "NFtZ47HvA989"
   },
   "source": [
    "## Mapping with GeoPandas"
   ]
  },
  {
   "cell_type": "markdown",
   "metadata": {
    "colab_type": "text",
    "id": "jKl2eJcqA98-"
   },
   "source": [
    "Plot the `usa1810` data with the geopandas **plot** method, which uses `matplotlib` and the matplotlib `pyplot` module under the hood."
   ]
  },
  {
   "cell_type": "code",
   "execution_count": null,
   "metadata": {
    "colab": {},
    "colab_type": "code",
    "id": "qhJ6DGH2A98_"
   },
   "outputs": [],
   "source": [
    "usa1810.plot()"
   ]
  },
  {
   "cell_type": "markdown",
   "metadata": {
    "colab_type": "text",
    "id": "mhT-8ex6A99B"
   },
   "source": [
    "Pretty cool to be able to make a map with a single command.  However, there is always room for improvement. \n",
    "You can find out more about the plotting options for basic maps in the [geopandas documentation](http://geopandas.org/mapping.html) and in the [matplotlib documentation](http://matplotlib.org/api/pyplot_api.html). \n",
    "\n",
    "We can use some options to make a prettier map. Take a minute to consider what each option does.\n",
    "\n"
   ]
  },
  {
   "cell_type": "code",
   "execution_count": null,
   "metadata": {
    "colab": {},
    "colab_type": "code",
    "id": "6JgFoD29A99F"
   },
   "outputs": [],
   "source": [
    "# make blue counties pink\n",
    "usa1810.plot(linewidth=0.25, edgecolor='black', facecolor='pink',  figsize=(14,10))"
   ]
  },
  {
   "cell_type": "code",
   "execution_count": null,
   "metadata": {
    "collapsed": true
   },
   "outputs": [],
   "source": [
    "usa.cx[]"
   ]
  },
  {
   "cell_type": "markdown",
   "metadata": {
    "colab_type": "text",
    "id": "V6m2lapmA99I"
   },
   "source": [
    "## Challenge\n",
    "\n",
    "Let's compare the extent of the USA in 1810 to the USA in 2017.\n",
    "\n",
    "- Read the file `usa_outline.shp` into a geopandas dataframe named `usa`.\n",
    "- Then, make a map of the `usa`, setting the `figsize` to (14,10)."
   ]
  },
  {
   "cell_type": "code",
   "execution_count": null,
   "metadata": {
    "colab": {},
    "colab_type": "code",
    "collapsed": true,
    "id": "0prPeMHyA99J"
   },
   "outputs": [],
   "source": [
    "## Your code here\n",
    "\n",
    "# first read in the file\n",
    "\n",
    "# then plot the gdf"
   ]
  },
  {
   "cell_type": "markdown",
   "metadata": {
    "colab_type": "text",
    "id": "iupVAyhwA99L"
   },
   "source": [
    "### Question\n",
    "\n",
    "Any idea why the map of the plot looks so wide?"
   ]
  },
  {
   "cell_type": "code",
   "execution_count": null,
   "metadata": {
    "colab": {},
    "colab_type": "code",
    "id": "QOz_IOGQA99M"
   },
   "outputs": [],
   "source": [
    "# Let's read in and plot the usa shapefile\n",
    "\n",
    "#usa = gpd.read_file('data/usa_outline.shp')\n",
    "usa = gpd.read_file(my_folder + 'data/us_states.shp')\n",
    "#usa = gpd.read_file(\"zip://\" + my_folder + 'data/usa_border.zip')\n",
    "\n",
    "usa.plot()"
   ]
  },
  {
   "cell_type": "code",
   "execution_count": null,
   "metadata": {},
   "outputs": [],
   "source": [
    "usa.cx[-150:-50, 25:48].plot()"
   ]
  },
  {
   "cell_type": "code",
   "execution_count": null,
   "metadata": {},
   "outputs": [],
   "source": [
    "# Indexing\n",
    "#conus = usa.copy()\n",
    "conus = conus.cx[-150:-50, 25:48].copy()\n",
    "conus.head()"
   ]
  },
  {
   "cell_type": "code",
   "execution_count": null,
   "metadata": {},
   "outputs": [],
   "source": [
    "print(len(conus.index))\n",
    "print(len(usa.index))"
   ]
  },
  {
   "cell_type": "code",
   "execution_count": null,
   "metadata": {},
   "outputs": [],
   "source": [
    "conus.plot()"
   ]
  },
  {
   "cell_type": "code",
   "execution_count": null,
   "metadata": {},
   "outputs": [],
   "source": [
    "#conus.reset_index(inplace=True) #data1.reset_index(inplace=True)\n",
    "conus['country'] = 'usa'\n",
    "conus.head()"
   ]
  },
  {
   "cell_type": "code",
   "execution_count": null,
   "metadata": {},
   "outputs": [],
   "source": [
    "#ca.dissolve(by='STATE', as_index=False).geometry[0]\n",
    "conus_outline = conus[[\"country\",\"geometry\"]]\n",
    "#conus_outline = conus_outline.dissolve(by='country')\n",
    "conus_outline.geometry.unary_union()"
   ]
  },
  {
   "cell_type": "code",
   "execution_count": null,
   "metadata": {},
   "outputs": [],
   "source": [
    "c2 = us_states.unary_union\n",
    "c2"
   ]
  },
  {
   "cell_type": "markdown",
   "metadata": {
    "colab_type": "text",
    "id": "hoscC6U_A99O"
   },
   "source": [
    "## Overlays\n",
    "\n",
    "A key strength of geospatial data analysis is the ability to overlay data that are located in the same coordinate space. Let's overlay the USA in 1810 on top of the USA in 2017 to visualize the change. Both of these data sets use the same coordinate reference system -  decimal degrees of latitude and longitude referenced to the **World Geodetic System of 1984**, or **WGS84** coordinate reference system (more about that in a minute).\n",
    "\n",
    "We will explore two methods for doing this, as shown in the [GeoPandas documentation](http://geopandas.org/mapping.html)"
   ]
  },
  {
   "cell_type": "code",
   "execution_count": null,
   "metadata": {
    "colab": {},
    "colab_type": "code",
    "id": "9mFpQ0XFA99P"
   },
   "outputs": [],
   "source": [
    "# Method 1. Simple geopandas plot overlay\n",
    "\n",
    "base = usa.plot(color='white', edgecolor='black',  figsize=(14,10))\n",
    "usa1810.plot(ax=base)"
   ]
  },
  {
   "cell_type": "code",
   "execution_count": null,
   "metadata": {
    "colab": {},
    "colab_type": "code",
    "id": "Im3f4Ui7A99S"
   },
   "outputs": [],
   "source": [
    "# Method 2. Setting Matplot lib options\n",
    "\n",
    "fig, ax = plt.subplots(1, figsize=(14,10))  # Initialize the plot figure (drawing area) and axes (data area)\n",
    "ax.set_xlim([-180, -60]) # Set the x axis limit on the axes\n",
    "ax.set_aspect('equal')   # set the aspect ratio for the x and y axes to be equal. \n",
    "                         # This is done automatically in gdf.plot()\n",
    "    \n",
    "base = usa.plot(ax=ax, color='black')  # Set the base map, or bottom map layer\n",
    "usa1810.plot(ax=base, color='white', edgecolor=\"black\")  # draw the data with the base\n",
    "_ = ax.axis('off') # Don't show the x, y axes and labels in the plot\n",
    "ax.set_title(\"USA 2017 and 1810\")  # Give the plot a title\n"
   ]
  },
  {
   "cell_type": "markdown",
   "metadata": {
    "colab_type": "text",
    "id": "Yb6L1kfzA99W"
   },
   "source": [
    "## Questions?\n",
    "\n",
    "If your lost, don't worry. Many folks, myself included, scratch their head and copy matplotlib code, amazed and mystified when it works. Gradually it sinks in. You can expediate the process by reviewing any of a number of good online tutorials, like this one from [DataCamp](https://www.datacamp.com/community/tutorials/matplotlib-tutorial-python)."
   ]
  },
  {
   "cell_type": "code",
   "execution_count": null,
   "metadata": {},
   "outputs": [],
   "source": [
    "\n",
    "conus.head()"
   ]
  },
  {
   "cell_type": "code",
   "execution_count": null,
   "metadata": {},
   "outputs": [],
   "source": [
    "conus['country'] = 'usa'\n",
    "#conus.head()"
   ]
  },
  {
   "cell_type": "markdown",
   "metadata": {
    "colab_type": "text",
    "id": "RaDCcxBSA99X"
   },
   "source": [
    "# Coordinate Reference Systems (CRS) "
   ]
  },
  {
   "cell_type": "markdown",
   "metadata": {
    "colab_type": "text",
    "id": "ZDTTAI5SA99Y"
   },
   "source": [
    "Did you notice anything funny about the shape of the USA as mapped above?  How does it differ from this?\n",
    "\n",
    "<img src=\"https://upload.wikimedia.org/wikipedia/commons/thumb/a/a5/Map_of_USA_with_state_names.svg/640px-Map_of_USA_with_state_names.svg.png\" width=\"800px\"></img>"
   ]
  },
  {
   "cell_type": "markdown",
   "metadata": {
    "colab_type": "text",
    "id": "FCLduU5rA99Y"
   },
   "source": [
    "Why does it differ? Here's why:\n",
    "\n",
    "<img src=\"http://tse3.mm.bing.net/th?id=OIP.lyDmHXX9VdoEOWDQlqppSAHaEy\" width=\"500px\"></img>\n",
    "\n",
    "When we map data encoded with a spheriodal coordinates (longitude & latitude) on a 2D plane like a computer screen we get distortion!\n",
    "\n",
    "## Map Projections and CRS Transformations\n",
    "\n",
    "In order to reduce distortion in 2D maps we transform geographic coordinates to projected map coordinates.\n",
    "\n",
    "- This transformation is also necessary for many geometric operations like area and distance calculations that assume a 2D plane.\n",
    "\n",
    "The process for transforming a CRS is:\n",
    "\n",
    "1. Make sure a **crs** is defined for the geopandas dataframe by checking the **crs** property. \n",
    "2. If it is not set, you can set it with the **crs** method.\n",
    "3. Transform it using the **to_crs** method."
   ]
  },
  {
   "cell_type": "code",
   "execution_count": null,
   "metadata": {
    "colab": {},
    "colab_type": "code",
    "id": "THZe7LcaA99Z"
   },
   "outputs": [],
   "source": [
    "# Check the CRS of our gdfs\n",
    "print(\"The CRS of the USA outline geodataframe is: \" + str(usa.crs))\n",
    "print(\"The CRS of the US1810 counties geodataframe is: \" + str(usa1810.crs))"
   ]
  },
  {
   "cell_type": "markdown",
   "metadata": {
    "colab_type": "text",
    "id": "F0OyDdfMA99b"
   },
   "source": [
    "What's an **epsg:4326**?  That's an [EPSG](http://www.epsg.org/) code for the geographic CRS known as the [World Geodectic System of 1984](https://en.wikipedia.org/wiki/World_Geodetic_System#WGS84), or `WGS84`. This is the most commonly used CRS for latitude and longitude coordinate data and is the default CRS for most mapping software when the data does not have a defined CRS.\n",
    "\n",
    "We can make our map look better by transforming it to a 2D projected `CRS`. A projected CRS applies a mathematical transformation to the data based on a [map projection](https://en.wikipedia.org/wiki/Map_projection)\n",
    "\n",
    "Common map projections for USA data and their EPSG codes include:\n",
    "\n",
    "- `Web Mercator` (epsg:3857)\n",
    "- `USA Contiguious Albers` (epsg:7603)\n",
    "\n",
    "Let's try these."
   ]
  },
  {
   "cell_type": "code",
   "execution_count": null,
   "metadata": {
    "colab": {},
    "colab_type": "code",
    "collapsed": true,
    "id": "dp4ZzBNFA99c"
   },
   "outputs": [],
   "source": [
    "# Transform geographic crs to web mercator\n",
    "usa_3857 = usa.to_crs(epsg=3857)\n",
    "usa_3857.plot(figsize=(14,8))"
   ]
  },
  {
   "cell_type": "code",
   "execution_count": null,
   "metadata": {
    "colab": {},
    "colab_type": "code",
    "collapsed": true,
    "id": "qo29tIcIA99e"
   },
   "outputs": [],
   "source": [
    "# Transform geographic crs to USA Contiguous Albers\n",
    "usa_7603 = usa.to_crs(epsg=7603)\n",
    "usa_7603.plot(figsize=(14,8))"
   ]
  },
  {
   "cell_type": "markdown",
   "metadata": {
    "colab_type": "text",
    "id": "Izr5v_zXA99h"
   },
   "source": [
    "You can see we get very different maps of the USA depending on the CRS. Web Mercator is best suited for large geographic extents between +-60 degrees (i.e. distortion increases as you move away from equator and towards the poles). USA Contiguous Albers is best for the continental USA.  We could subset the data to remove Alaska, Hawaii and Puerto Rico.\n",
    "\n",
    "### Important Notes\n",
    "\n",
    "1. Data need to be in the same CRS in order to be mapped or analyzed together.\n",
    "2. The units of a CRS are part of the CRS definition. These are typically decimal degrees for geographic (lat/lon) data or meters for projected data.\n",
    "3. It's not obvious what the best projected CRS is for your map or analysis. You need to review the recent literature (as these things change) and try different ones.  Here is a good starting place, [epsg.io](http://epsg.io/).\n",
    "\n",
    "\n",
    "> A detailed discussion CRS and map projections is beyond the scope of this notebook. Understanding these, however, is **necessary** for working sucessfully with geospatial data! There are a number of online resources that can be found with a web search to help you get started."
   ]
  },
  {
   "cell_type": "markdown",
   "metadata": {
    "colab_type": "text",
    "id": "dpeTaK6dA99i"
   },
   "source": [
    "# Mapping Data\n",
    "\n",
    "By default maps show locations in space. Data maps, also called thematic maps, convey data values at specific locations by associating those values with map symbology like color, shape and size. \n",
    "\n",
    "In this section we will explore population data in the `Orleans Territory` from the US Census of 1810.  If you didn't rename the column containing the county names do so now!\n"
   ]
  },
  {
   "cell_type": "code",
   "execution_count": null,
   "metadata": {
    "colab": {},
    "colab_type": "code",
    "collapsed": true,
    "id": "JboaMbAWEpci"
   },
   "outputs": [],
   "source": [
    "usa1810.rename(columns={'NHGISNAM': 'county'}, inplace=True)\n",
    "usa1810.head(2)"
   ]
  },
  {
   "cell_type": "markdown",
   "metadata": {
    "colab_type": "text",
    "id": "NezA2CF0A99j"
   },
   "source": [
    "### Subsetting Geopandas Dataframes\n",
    "\n",
    "Since we are only interested in the `Orleans Territory` let's subset the `usa1810` data.  Since a geopandas dataframe is a superpowered pandas dataframe we can use pandas methods to subset it. Take another look at the geopandas dataframe to identify the column we can subset the data."
   ]
  },
  {
   "cell_type": "code",
   "execution_count": null,
   "metadata": {
    "colab": {},
    "colab_type": "code",
    "collapsed": true,
    "id": "Ibr7gDs2A99k"
   },
   "outputs": [],
   "source": [
    "usa1810.head()"
   ]
  },
  {
   "cell_type": "markdown",
   "metadata": {
    "colab_type": "text",
    "id": "oyPtFCDuA99m"
   },
   "source": [
    "The `STATENAM` column includes a reference to the territory so let's use that.  Then map the result to check it."
   ]
  },
  {
   "cell_type": "code",
   "execution_count": null,
   "metadata": {
    "colab": {},
    "colab_type": "code",
    "collapsed": true,
    "id": "184E79hpA99o"
   },
   "outputs": [],
   "source": [
    "orleans = usa1810[usa1810['STATENAM'] == 'Orleans Territory']\n",
    "orleans.plot()"
   ]
  },
  {
   "cell_type": "markdown",
   "metadata": {
    "colab_type": "text",
    "id": "xY0nni05A99q"
   },
   "source": [
    "Nice! Orleans Territory looks alot like the state of Louisiana.\n",
    "\n",
    "## Attribute Joins\n",
    "\n",
    "As we noted above, mapping geometries is useful for getting a sense of the size and relative position of locations. But more often we want to map attribute data that describe a location, such as the population density of a region.\n",
    "\n",
    "In order to map attribute data we need to have it associated with the locations. However, the geopandas dataframes `usa1810` and `orleans` do not contain any interesting attribute data.\n",
    "\n",
    "In a separate file named **orleans_census_data1810.csv** we have 1810 population data for the Orleans Territory that was downloaded from the NHGIS.  We can read the file into a `pandas` dataframe and then join the contents of that dataframe to the geopandas dataframe `orleans` based on a column with common data value.  This process is called an `attribute join` and is a common operation when working with geospatial data."
   ]
  },
  {
   "cell_type": "markdown",
   "metadata": {
    "colab_type": "text",
    "id": "q6CpUGM9A99r"
   },
   "source": [
    "First, read in the population data from the 1810 census that we want to map. "
   ]
  },
  {
   "cell_type": "code",
   "execution_count": null,
   "metadata": {
    "colab": {},
    "colab_type": "code",
    "collapsed": true,
    "id": "NX0-k0fcA99r"
   },
   "outputs": [],
   "source": [
    "#orleans_census1810 = pd.read_csv('data/orleans_census_data1810.csv')\n",
    "orleans_census1810 = pd.read_csv(my_folder + 'data/orleans_census_data1810.csv')"
   ]
  },
  {
   "cell_type": "code",
   "execution_count": null,
   "metadata": {
    "colab": {},
    "colab_type": "code",
    "collapsed": true,
    "id": "Ra6Xf00VA99u"
   },
   "outputs": [],
   "source": [
    "orleans_census1810.head()  # take a look at the data"
   ]
  },
  {
   "cell_type": "markdown",
   "metadata": {
    "colab_type": "text",
    "id": "DBm0v1L9A99w"
   },
   "source": [
    "Compare the **orleans_census1810** dataframe above with the **orleans** geopandas dataframe. What columns do these have in common?"
   ]
  },
  {
   "cell_type": "code",
   "execution_count": null,
   "metadata": {
    "colab": {},
    "colab_type": "code",
    "collapsed": true,
    "id": "EsFFmhEnA99w"
   },
   "outputs": [],
   "source": [
    "orleans.head()\n"
   ]
  },
  {
   "cell_type": "markdown",
   "metadata": {
    "colab_type": "text",
    "id": "bb_Emn45A99z"
   },
   "source": [
    "Use the geopandas **merge** command to join the two dataframes by the columns with common data values.  Then take a look at the output which we call **orleans_popdata** below."
   ]
  },
  {
   "cell_type": "code",
   "execution_count": null,
   "metadata": {
    "colab": {},
    "colab_type": "code",
    "collapsed": true,
    "id": "IWWBLdg34b7G"
   },
   "outputs": [],
   "source": [
    "# You can read the docs for more guidance on table joins using the merge command\n",
    "# orleans.merge?"
   ]
  },
  {
   "cell_type": "code",
   "execution_count": null,
   "metadata": {
    "colab": {},
    "colab_type": "code",
    "collapsed": true,
    "id": "QyBK3LEjA99z"
   },
   "outputs": [],
   "source": [
    "orleans_popdata = orleans.merge(orleans_census1810, on='GISJOIN')\n",
    "orleans_popdata.head()"
   ]
  },
  {
   "cell_type": "markdown",
   "metadata": {
    "colab_type": "text",
    "id": "4W-2nhd-A992"
   },
   "source": [
    "We can now add options to the `plot` command to use data values to determine map symbology. Consider how this is done below with the data in the `nwslave_pop` (non-white slave population) column."
   ]
  },
  {
   "cell_type": "code",
   "execution_count": null,
   "metadata": {
    "colab": {},
    "colab_type": "code",
    "collapsed": true,
    "id": "aiLx_DLUA995"
   },
   "outputs": [],
   "source": [
    "orleans_popdata.plot(column='nwslave_pop', cmap='Reds', edgecolor='black', legend=True, figsize=(8,6))"
   ]
  },
  {
   "cell_type": "markdown",
   "metadata": {
    "colab_type": "text",
    "id": "GzceCCjwA997"
   },
   "source": [
    "Above, the plot option **column=** tells the plot command to use the values in the **nwslave_pop** column to determine the geometry colors based on the colormap specified by the **cmap** option. You can see the list of available [color maps here](https://matplotlib.org/users/colormaps.html). The full range of values in the `nwslave_pop` column is being scaled to the color palette called **Reds**.  This is called an `unclassified` or `classless` map. This map is a good first effort as it imposses no grouping on the data, thus making it easier to spot trends and outliers. But it is harder to interpret the data values within an area. \n",
    "\n",
    "\n",
    "A more common practice is to use a classification scheme to bin the data into classes and map those classes to a color palette. Let's try that below with `quantile` classification which is the most commonly used scheme when mapping data."
   ]
  },
  {
   "cell_type": "code",
   "execution_count": null,
   "metadata": {
    "colab": {},
    "colab_type": "code",
    "collapsed": true,
    "id": "DD2Rff5PA998"
   },
   "outputs": [],
   "source": [
    "orleans_popdata.plot(column='nwslave_pop', cmap='Reds', edgecolor='black', \n",
    "                     legend=True, figsize=(8,6), scheme='quantiles')"
   ]
  },
  {
   "cell_type": "markdown",
   "metadata": {
    "colab_type": "text",
    "id": "1caXG6KPA99-"
   },
   "source": [
    "Wow that gives a very different looking map!\n",
    "\n",
    "## Challenge\n",
    "\n",
    "In the code cell below recreate the above map with the classification schemes **equal_interval** and **fisher_jenks** to see how the look of the map changes.\n",
    "\n",
    "> Bonus challenge: try a different colormap."
   ]
  },
  {
   "cell_type": "code",
   "execution_count": null,
   "metadata": {
    "colab": {},
    "colab_type": "code",
    "collapsed": true,
    "id": "5JTungRcA9-A"
   },
   "outputs": [],
   "source": [
    "# Your code here"
   ]
  },
  {
   "cell_type": "markdown",
   "metadata": {
    "colab_type": "text",
    "id": "hveJxIFLA9-D"
   },
   "source": [
    "## Choropleth maps\n",
    "\n",
    "The maps we just made are called `choropleth maps`. A [choropleth maps](https://en.wikipedia.org/wiki/Choropleth_map) is a data map that colors areas by data values.  This are the most common type of data map. It is also sometimes called a **heatmap**.\n",
    "\n",
    "**HOWEVER**, when the areas being mapped vary in size it is not considered good cartographic practice to map **counts**.  Why do you think this is so?\n",
    "\n",
    "Instead, choropleth maps typically symbolize ares by densites, ratios or rates that can compared across the different sized areas.\n",
    "\n",
    "Let's map the ratio of non-white slaves (nwslave_pop) to free whites (white_pop)."
   ]
  },
  {
   "cell_type": "code",
   "execution_count": null,
   "metadata": {
    "colab": {},
    "colab_type": "code",
    "collapsed": true,
    "id": "Zn1xevquLsp6"
   },
   "outputs": [],
   "source": [
    "# Create a new column that is the ratio of non-white slaves (nwslave_pop) to free whites (white_pop)\n",
    "orleans_popdata['slave2white_ratio'] = orleans_popdata['nwslave_pop'] / orleans_popdata['white_pop']\n",
    "\n",
    "# Map the ratio\n",
    "orleans_popdata.plot(column='slave2white_ratio', cmap='Reds', edgecolor='black', \n",
    "                     legend=True, figsize=(8,6), scheme='quantiles')"
   ]
  },
  {
   "cell_type": "markdown",
   "metadata": {
    "colab_type": "text",
    "id": "RLEae5KZA9-E"
   },
   "source": [
    "We can get fancy with our choropleth maps..."
   ]
  },
  {
   "cell_type": "code",
   "execution_count": null,
   "metadata": {
    "colab": {},
    "colab_type": "code",
    "collapsed": true,
    "id": "rTxTdbOzA9-E"
   },
   "outputs": [],
   "source": [
    "fig, ax = plt.subplots(1, figsize=(12,12))\n",
    "\n",
    "orleans_popdata.plot(ax=ax, column='slave2white_ratio', cmap='OrRd', edgecolor='black', legend=True, scheme='fisher_jenks')\n",
    "\n",
    "for polygon, name in zip(orleans_popdata.geometry, orleans_popdata.COUNTY):\n",
    "    ax.annotate(xy=(polygon.centroid.x, polygon.centroid.y), s=name)\n",
    "\n",
    "_ = ax.axis('off')\n",
    "\n",
    "ax.set_title(\"Ratio of Non-White Slaves to Free Whites, Orleans Territory, 1810\")"
   ]
  },
  {
   "cell_type": "markdown",
   "metadata": {
    "colab_type": "text",
    "id": "NrMzvBiZA9-G"
   },
   "source": [
    "Needless to say, labels are a bit tricky, regardless of the software you use to make a map!\n"
   ]
  },
  {
   "cell_type": "markdown",
   "metadata": {
    "colab_type": "text",
    "id": "bcGtsm3-A9-H"
   },
   "source": [
    "### Challenge\n",
    "\n",
    "In 1791 and 1795 two slave revolts where planned in the same parish in Orleans Territory. Although these plots involved different people and had different orgins, both were discovered and thwarted, leading to the trial and execution or emprisonment of many enslaved persons. Soon thereafter, the [German Coast Uprising of 1811](https://en.wikipedia.org/wiki/1811_German_Coast_uprising), which was the largest slave revolt in US history, occured in a different Orleans parish. Can you use the map above to guess the two parishes in which these three events occured? "
   ]
  },
  {
   "cell_type": "markdown",
   "metadata": {
    "colab_type": "text",
    "id": "bL4VSBnpA9-I"
   },
   "source": [
    "# Mapping Points"
   ]
  },
  {
   "cell_type": "markdown",
   "metadata": {
    "colab_type": "text",
    "id": "MAaBVqSbA9-J"
   },
   "source": [
    "Mapping data to polygons is commonly done, but sometimes point maps are preferred. Why? Because when polygons vary greatly in size, as the US states and counties do, the size of the areas can distract from interpretting the data. Large areas pop out and small ones hide in the map.\n",
    "\n",
    "GeoPandas makes it easy to transform polygon data to point data."
   ]
  },
  {
   "cell_type": "code",
   "execution_count": null,
   "metadata": {
    "colab": {},
    "colab_type": "code",
    "collapsed": true,
    "id": "kOpklvZDA9-L"
   },
   "outputs": [],
   "source": [
    "# First, copy the polygon geodataframe to new geodataframe\n",
    "orleans_popdata_pts = orleans_popdata.copy()\n",
    "\n",
    "# Transform the geometry of the new geodataframe from polygons to points\n",
    "orleans_popdata_pts.geometry = orleans_popdata_pts['geometry'].centroid\n",
    "\n",
    "# Take a look at the data - especially the values in the geometry column\n",
    "orleans_popdata_pts.head()"
   ]
  },
  {
   "cell_type": "markdown",
   "metadata": {
    "colab_type": "text",
    "id": "vYXQqaN4A9-N"
   },
   "source": [
    "That was relatively easy! Take a look at the format of the data in the **geometry** column above and note how it differs for that of `orleans_popdata`.\n",
    "\n",
    "Make a quick plot of the data to make sure it looks right."
   ]
  },
  {
   "cell_type": "code",
   "execution_count": null,
   "metadata": {
    "colab": {},
    "colab_type": "code",
    "collapsed": true,
    "id": "8j-pwvC3A9-N"
   },
   "outputs": [],
   "source": [
    "orleans_popdata_pts.plot()"
   ]
  },
  {
   "cell_type": "markdown",
   "metadata": {
    "colab_type": "text",
    "id": "lFvhHRZdA9-R"
   },
   "source": [
    "To get geographic context, we can plot those points on top of the polygons. Consider the code below for doing this and the resultant plot."
   ]
  },
  {
   "cell_type": "code",
   "execution_count": null,
   "metadata": {
    "colab": {},
    "colab_type": "code",
    "collapsed": true,
    "id": "H-91UxXpA9-R"
   },
   "outputs": [],
   "source": [
    "fig, ax = plt.subplots(1, figsize=(14,14))  # Initialize the plot figure (drawing area) and axes (data area)\n",
    "fig.patch.set_facecolor('white') # set the plot background to white\n",
    "\n",
    "ax.set_aspect('equal')   # set the aspect ratio for the x and y axes to be equal. \n",
    "                         # This is done automatically in gdf.plot()\n",
    "\n",
    "    \n",
    "base = orleans_popdata.plot(ax=ax, facecolor='white', edgecolor='grey', linewidth=0.25,)   \n",
    "orleans_popdata_pts.plot(ax=base, column='nwslave_pop', cmap='OrRd', edgecolor='black', scheme='fisher_jenks',\n",
    "                         markersize=80, legend=True,  legend_kwds={'title':'Number of Slaves'})\n",
    "_ = ax.axis('off')  \n",
    "\n",
    "for polygon, name in zip(orleans_popdata.geometry, orleans_popdata.COUNTY):\n",
    "    ax.annotate(xy=(polygon.centroid.x+0.05, polygon.centroid.y), s=name, color='black')\n",
    "    \n",
    "ax.set_title(\"Non-White Slave Population, Orleans Territory, 1810\", fontname=\"Times New Roman\",fontweight=\"bold\")"
   ]
  },
  {
   "cell_type": "markdown",
   "metadata": {
    "colab_type": "text",
    "id": "g0Z8fg51A9-T"
   },
   "source": [
    "### Challenge\n",
    "\n",
    "Redo the map above with the data in the column **slave2white_ratio** (the ratio of non-white slaves to whites.)"
   ]
  },
  {
   "cell_type": "code",
   "execution_count": null,
   "metadata": {
    "colab": {},
    "colab_type": "code",
    "collapsed": true,
    "id": "fX4z5AkeA9-V"
   },
   "outputs": [],
   "source": [
    "## Your Code Here\n"
   ]
  },
  {
   "cell_type": "markdown",
   "metadata": {
    "colab_type": "text",
    "id": "-Xta09iQRNoR"
   },
   "source": [
    "### Mapping Point Data from a CSV file\n",
    "\n",
    "We can also read in point data from a **CSV** file. This simple file format is commonly used to store point data when the location is encoded with latitude and longitude values.\n",
    "\n",
    "Let's read in point data for the locations of the Louisiana slave conspiracies."
   ]
  },
  {
   "cell_type": "code",
   "execution_count": null,
   "metadata": {
    "colab": {},
    "colab_type": "code",
    "collapsed": true,
    "id": "tonZ50mvROD3"
   },
   "outputs": [],
   "source": [
    "# Read in a csv file that has lat/lon values\n",
    "lsc_locs = gpd.read_file(my_folder + \"data/lsc_points.csv\")\n",
    " \n",
    "#take a look at the data\n",
    "lsc_locs\n",
    "\n"
   ]
  },
  {
   "cell_type": "markdown",
   "metadata": {
    "colab_type": "text",
    "id": "9XGN2NOGSKPo"
   },
   "source": [
    "#### Adding Geometry Data\n",
    "\n",
    "The **lsc_locs** geopandas dataframe is not complete  - it is missing geometry data.  We can create this from the values in the lat & lon columns."
   ]
  },
  {
   "cell_type": "code",
   "execution_count": null,
   "metadata": {
    "colab": {},
    "colab_type": "code",
    "collapsed": true,
    "id": "SG1UZYThSFY6"
   },
   "outputs": [],
   "source": [
    "# populate geometry column from lat/lon data\n",
    "lsc_locs['geometry'] = lsc_locs.apply(lambda row: Point(float(row['longitude']), float(row['latitude'])), axis = 1)\n",
    "\n",
    "# Take a look\n",
    "lsc_locs\n"
   ]
  },
  {
   "cell_type": "markdown",
   "metadata": {
    "colab_type": "text",
    "id": "xjep-RkOSiEI"
   },
   "source": [
    "#### Adding a CRS\n",
    "\n",
    "A geodataframe is not complete without a value for the CRS. Since these data are geographic coordinates we can make the standard assumption (usually correct) that the CRS is **WGS84**, with the EPSG code 4326."
   ]
  },
  {
   "cell_type": "code",
   "execution_count": null,
   "metadata": {
    "colab": {},
    "colab_type": "code",
    "collapsed": true,
    "id": "TSh11eCwSgxv"
   },
   "outputs": [],
   "source": [
    "# Check the crs\n",
    "print(\"The CRS of the lsc_locs geodataframe is: \" + str(lsc_locs.crs))\n",
    "\n",
    "# Compare it to a related gpd that has the same CRS\n",
    "print(\"The CRS of the orleans geodataframe is: \" + str(orleans.crs))\n",
    "\n",
    "# Define the CRS\n",
    "lsc_locs.crs = {'init' :'epsg:4326'}\n",
    "\n",
    "# We could also define it like this\n",
    "#lsc_locs.crs = orleans.crs\n",
    "\n",
    "# Check the crs again\n",
    "print(\"The CRS of the lsc_locs geodataframe is: \" + str(lsc_locs.crs))"
   ]
  },
  {
   "cell_type": "markdown",
   "metadata": {
    "colab_type": "text",
    "id": "f9Pps-qL8Nb-"
   },
   "source": [
    "We can now plot the locations of the Lousiana slave conspiracies overlayed on top of our county data."
   ]
  },
  {
   "cell_type": "code",
   "execution_count": null,
   "metadata": {
    "colab": {},
    "colab_type": "code",
    "collapsed": true,
    "id": "HxcpFQFRUA2Q"
   },
   "outputs": [],
   "source": [
    "fig, ax = plt.subplots(1, figsize=(12,12))\n",
    "\n",
    "orleans_popdata.plot(ax=ax, column='slave2white_ratio', cmap='OrRd', edgecolor='black', scheme='fisher_jenks')\n",
    "\n",
    "for polygon, name in zip(orleans_popdata.geometry, orleans_popdata.COUNTY):\n",
    "    ax.annotate(xy=(polygon.centroid.x, polygon.centroid.y), s=name)\n",
    "\n",
    "lsc_locs.plot(ax=ax, color=\"black\", edgecolor=\"white\", marker=\",\", linewidth=2, markersize=100)\n",
    "\n",
    "_ = ax.axis('off')\n",
    "\n",
    "ax.set_title(\"Ratio of Non-White Slaves to Free Whites, Orleans Territory, 1810\")"
   ]
  },
  {
   "cell_type": "markdown",
   "metadata": {
    "colab_type": "text",
    "id": "c7ALQsPwWMJl"
   },
   "source": [
    "The above map confirms our thinking that the parishes with the highest slave to white ratio were  the ones in which the conspiracies took place. But its hard to view the data at this map scale.\n",
    "\n",
    "### From Static to Interactive Maps with mplleaflet\n",
    "\n",
    "You can use **mplleaflet** to make a quick interactive Leaflet map from a matplotlib plot.  The results allow you to zoom in and explore the data.  It's quick and simple but but not a very finished web map product. For more customizations, see the Python **folium** library.\n"
   ]
  },
  {
   "cell_type": "code",
   "execution_count": null,
   "metadata": {
    "colab": {},
    "colab_type": "code",
    "collapsed": true,
    "id": "nLxTa4LEVJni"
   },
   "outputs": [],
   "source": [
    "mplleaflet.display(fig=ax.figure, crs=lsc_locs.crs, tiles='cartodb_positron')"
   ]
  },
  {
   "cell_type": "markdown",
   "metadata": {
    "colab_type": "text",
    "id": "rfk3k0rOXdrf"
   },
   "source": [
    "## Geometric Manipulations\n",
    "\n",
    "Geopandas provides a number of methods for querying and manipulating geometries, using the Shapely library under the hood.  Let's consider a few of these that might be helpful in this project."
   ]
  },
  {
   "cell_type": "markdown",
   "metadata": {
    "colab_type": "text",
    "id": "BiV_u0UYcCkt"
   },
   "source": [
    "#### Dissolve\n",
    "\n",
    "Dissolve is a method for aggregating geometries by a common value. The **usa1810** and **orleans** data represent county boundaries. If we want to display state outlines instead we can **dissolve** the geometries by the values in the **STATENAM** column. "
   ]
  },
  {
   "cell_type": "code",
   "execution_count": null,
   "metadata": {
    "colab": {},
    "colab_type": "code",
    "collapsed": true,
    "id": "q9apgVelJIG1"
   },
   "outputs": [],
   "source": [
    "orleans_outline = orleans.dissolve(by=\"STATENAM\")\n",
    "orleans_outline.plot(color=\"blue\")"
   ]
  },
  {
   "cell_type": "code",
   "execution_count": null,
   "metadata": {
    "colab": {},
    "colab_type": "code",
    "collapsed": true,
    "id": "3pn1NlBeZjfm"
   },
   "outputs": [],
   "source": [
    "# Here is another example of dissolving county data to state boundaries\n",
    "states1810=usa1810.dissolve(by=\"STATENAM\")\n",
    "states1810.plot()"
   ]
  },
  {
   "cell_type": "markdown",
   "metadata": {
    "colab_type": "text",
    "id": "GSfIo5U4dc0z"
   },
   "source": [
    "#### Area\n",
    "\n",
    "We can compute the area of a polygon geometry. However, the **CRS** of the gpd should be appropriate for area calculations.\n"
   ]
  },
  {
   "cell_type": "code",
   "execution_count": null,
   "metadata": {
    "colab": {},
    "colab_type": "code",
    "collapsed": true,
    "id": "3rOfDmQ-lKZx"
   },
   "outputs": [],
   "source": [
    "# What was the area of the Orleans Territory in 1810?\n",
    "orleans_outline.to_crs(epsg=7603).area / 10**6  # Area in sq kilometers"
   ]
  },
  {
   "cell_type": "code",
   "execution_count": null,
   "metadata": {
    "colab": {},
    "colab_type": "code",
    "collapsed": true,
    "id": "2SphfnjJcqyy"
   },
   "outputs": [],
   "source": [
    "# What was the area of US States & Territories in 1810\n",
    "states1810.to_crs(epsg=7603).area / 10**6  # NY State area in sq kilometers: 141,300 km2 (wikipedia)"
   ]
  },
  {
   "cell_type": "markdown",
   "metadata": {
    "colab_type": "text",
    "id": "k4gzKI_hdbl9"
   },
   "source": [
    "### Distance\n",
    "\n",
    "What is the approximate distance between the slave conspiracy locations and New Orleans?  As with area, geopandas distance calculations require a projected CRS.  For this tutorial we will use the Web Mercator CRS, epsg=3857.\n",
    "\n",
    "First create objects that represent the center points, or centroids, of each parish."
   ]
  },
  {
   "cell_type": "code",
   "execution_count": null,
   "metadata": {
    "colab": {},
    "colab_type": "code",
    "collapsed": true,
    "id": "iROsx5ElYHqO"
   },
   "outputs": [],
   "source": [
    "# New Orleans center point (centroid)\n",
    "new_orleans_ctr = orleans_popdata[orleans_popdata['county']=='Orleans'].geometry.centroid\n",
    "print(new_orleans_ctr)\n",
    "\n",
    "# Point Coupee center point\n",
    "pt_coupee_ctr = orleans_popdata[orleans_popdata['county']=='Pointe Coupee'].geometry.centroid\n",
    "print(pt_coupee_ctr)\n",
    "\n"
   ]
  },
  {
   "cell_type": "markdown",
   "metadata": {
    "colab_type": "text",
    "id": "dHDy3gAxGitN"
   },
   "source": [
    "Note,  you need to use the **index** to reference the geometry (16 for New Orleans and 1 for Pointe Coupee, shown above) - this makes the code hard to read.  The reason for this is:\n",
    "\n",
    "- **geometry.centroid** returns an object of type geopandas.geoseriesGeo.Series\n",
    "- the **distance()** method calculates the distance between two Shapely Point objects - these are within the geoseries object and can be referenced by the index value."
   ]
  },
  {
   "cell_type": "code",
   "execution_count": null,
   "metadata": {
    "colab": {},
    "colab_type": "code",
    "collapsed": true,
    "id": "4A3zvJ1IFHO1"
   },
   "outputs": [],
   "source": [
    "# Print the different object types\n",
    "print(type(pt_coupee_ctr))\n",
    "\n",
    "print(type(pt_coupee_ctr.to_crs(epsg=3857).geometry[1]))\n",
    "\n",
    "# What does a Shapely Point look like?\n",
    "print(pt_coupee_ctr.to_crs(epsg=3857).geometry[1])"
   ]
  },
  {
   "cell_type": "markdown",
   "metadata": {
    "colab_type": "text",
    "id": "KkBy3IZLGmmT"
   },
   "source": [
    "Now we can calculate the distance between the two points."
   ]
  },
  {
   "cell_type": "code",
   "execution_count": null,
   "metadata": {
    "colab": {},
    "colab_type": "code",
    "collapsed": true,
    "id": "k-VY0Rzn_tO5"
   },
   "outputs": [],
   "source": [
    "# Calculate the distance in miles\n",
    "the_dist = pt_coupee_ctr.to_crs(epsg=3857).geometry[1].distance(new_orleans_ctr.to_crs(epsg=3857).geometry[16]) / 1609.344\n",
    "\n",
    "# print it\n",
    "print(\"Pointe Coupee is approximately \" + str(the_dist) + \" miles north of New Orleans.\")"
   ]
  },
  {
   "cell_type": "markdown",
   "metadata": {
    "colab_type": "text",
    "id": "PHSDQ6qV_01E"
   },
   "source": [
    "We can also calculate the distance for all rows in a geodatafame."
   ]
  },
  {
   "cell_type": "code",
   "execution_count": null,
   "metadata": {
    "colab": {},
    "colab_type": "code",
    "collapsed": true,
    "id": "5V8C83L0gSUU"
   },
   "outputs": [],
   "source": [
    "# Save the center point (centroid) to make the code more readable\n",
    "ctr_pt = new_orleans_ctr.to_crs(epsg=3857).geometry[16]\n",
    "\n",
    "#distances between parish centers and New orleans Centroid\n",
    "distances = {}\n",
    "for row in orleans_popdata.to_crs(epsg=3857).iterrows():\n",
    "  vals = row[1]\n",
    "  key = vals['county']\n",
    "  the_geom = vals['geometry'].centroid\n",
    "  distances[key] = the_geom.distance(ctr_pt) /  1609.344  # distance in miles\n",
    "print(distances)"
   ]
  },
  {
   "cell_type": "markdown",
   "metadata": {
    "colab_type": "text",
    "id": "cczyJr3uhC-2"
   },
   "source": [
    "### Spatial Relationships\n",
    "\n",
    "We can query the relationship between geometries to answer questions about location.  For example, let's consider how we would address the spatial query *In what Orleans Territory parishes did the Louisiana slave conspiracies take place?*"
   ]
  },
  {
   "cell_type": "code",
   "execution_count": null,
   "metadata": {
    "colab": {},
    "colab_type": "code",
    "collapsed": true,
    "id": "Opp6COehiHRU"
   },
   "outputs": [],
   "source": [
    "# Take another look at the geodataframe\n",
    "lsc_locs"
   ]
  },
  {
   "cell_type": "code",
   "execution_count": null,
   "metadata": {
    "colab": {},
    "colab_type": "code",
    "collapsed": true,
    "id": "yfVvXqiThky_"
   },
   "outputs": [],
   "source": [
    "# What county (parish) contains the conspiracy at index 2 (German Coast Uprising)?\n",
    "orleans[orleans.geometry.contains(lsc_locs.geometry[2])]['county'].get_values()[0]"
   ]
  },
  {
   "cell_type": "code",
   "execution_count": null,
   "metadata": {
    "colab": {},
    "colab_type": "code",
    "collapsed": true,
    "id": "4H9Z-aYOiu8n"
   },
   "outputs": [],
   "source": [
    "# Now do this for all rows in the geodataframe\n",
    "for row in lsc_locs.iterrows():\n",
    "  vals = row[1]\n",
    "  conspiracy = vals['name']\n",
    "  year = vals['date']\n",
    "  parish = orleans[orleans.geometry.contains(vals['geometry'])]['county'].get_values()[0]\n",
    "  print(\"The \" + conspiracy + \" took place in \" + parish + \" Parish in \" + year + \".\")"
   ]
  },
  {
   "cell_type": "code",
   "execution_count": null,
   "metadata": {
    "colab": {},
    "colab_type": "code",
    "collapsed": true,
    "id": "sPCxKPziU5Bg"
   },
   "outputs": [],
   "source": []
  },
  {
   "cell_type": "markdown",
   "metadata": {
    "colab_type": "text",
    "id": "UnghhIX-RV7A"
   },
   "source": [
    "## Going Further\n",
    "\n",
    "\n",
    "### More Geopandas Practice\n",
    "\n",
    "- Try this [Geopandas tutorial](https://www.datacamp.com/community/tutorials/geospatial-data-python) on plotting the path of Hurricane Florence.\n",
    "\n",
    "### For a longer course\n",
    "\n",
    "- Try the datacamp course [Visualizing Geospatial Data in Python](https://www.datacamp.com/courses/visualizing-geospatial-data-in-python), the first chapter is FREE!\n",
    "\n",
    "### Interactive mapping \n",
    "\n",
    "- Try a folium tutorial, there are several online. Find a recent one though as the library has changed a lot in the last  year!\n"
   ]
  },
  {
   "cell_type": "markdown",
   "metadata": {
    "colab_type": "text",
    "id": "aITFsqx3A9-X"
   },
   "source": [
    "# Summary\n",
    "We have just touched the tip of the iceberg here in terms of mapping, manipulating and analyzing geospatial data. I hope this encourages you to check out the GeoPandas in more detail and to continue working with geospatial data in Python or in another software tool. Happy mapping!"
   ]
  },
  {
   "cell_type": "markdown",
   "metadata": {
    "colab_type": "text",
    "id": "JHaKDdt8EBOC"
   },
   "source": [
    "# Thank you!"
   ]
  },
  {
   "cell_type": "markdown",
   "metadata": {
    "colab_type": "text",
    "id": "zYHomrrYA9-X"
   },
   "source": [
    "---\n",
    "\n",
    "Created by: Patty Frontiera (pattyf [at] berkeley [dot] edu), on 6/5/2018\n",
    "    \n",
    "Last Updated: 11/27/2018"
   ]
  },
  {
   "cell_type": "code",
   "execution_count": null,
   "metadata": {
    "colab": {},
    "colab_type": "code",
    "collapsed": true,
    "id": "A4uY581zRfik"
   },
   "outputs": [],
   "source": []
  }
 ],
 "metadata": {
  "colab": {
   "collapsed_sections": [
    "Yb6L1kfzA99W",
    "Izr5v_zXA99h",
    "bcGtsm3-A9-H"
   ],
   "name": "Copy of Geopandas_intro_lsc.ipynb",
   "provenance": [],
   "toc_visible": true,
   "version": "0.3.2"
  },
  "kernelspec": {
   "display_name": "Python 3",
   "language": "python",
   "name": "python3"
  },
  "language_info": {
   "codemirror_mode": {
    "name": "ipython",
    "version": 3
   },
   "file_extension": ".py",
   "mimetype": "text/x-python",
   "name": "python",
   "nbconvert_exporter": "python",
   "pygments_lexer": "ipython3",
   "version": "3.6.3"
  }
 },
 "nbformat": 4,
 "nbformat_minor": 1
}
