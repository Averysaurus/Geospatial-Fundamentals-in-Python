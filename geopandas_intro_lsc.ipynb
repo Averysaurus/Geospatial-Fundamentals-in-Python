{
  "nbformat": 4,
  "nbformat_minor": 0,
  "metadata": {
    "colab": {
      "name": "Geopandas_intro_for_gcollab.ipynb",
      "version": "0.3.2",
      "provenance": [],
      "collapsed_sections": [
        "Yb6L1kfzA99W",
        "Izr5v_zXA99h",
        "NrMzvBiZA9-G",
        "bcGtsm3-A9-H"
      ],
      "toc_visible": true
    },
    "kernelspec": {
      "display_name": "Python 3",
      "language": "python",
      "name": "python3"
    }
  },
  "cells": [
    {
      "metadata": {
        "id": "K8ZIWrYoA98X",
        "colab_type": "text"
      },
      "cell_type": "markdown",
      "source": [
        "# Geospatial Data in Python with GeoPandas \n",
        "\n",
        "## Introduction\n",
        "\n",
        "The goal of this notebook is to give you an **introduction** to working with geospatial data in Python using the `geopandas` package.  The sample data and use cases are related to a UC Berkeley research a project that I have been working on called **The Louisiana Slave Conspiracies**. This project explores several slave conspiracies that occured in colonial Louisiana during the late 1700s and early 1800s. Since very little data exist for this time period, we begin with an exploration of US Census data from the early 1800s, shortly after the Orleans Territory became part of the United States.\n",
        "\n",
        "But first, we will start with a **very** [Brief Introduction to Geospatial Data](https://docs.google.com/presentation/d/1d9GNcLDsnLxfLmrNRNZE976sHN5qNfkU9Rl2gabUsWc/edit?usp=sharing)."
      ]
    },
    {
      "metadata": {
        "id": "woj-KLR-LtKA",
        "colab_type": "text"
      },
      "cell_type": "markdown",
      "source": [
        "## Setup\n",
        "\n",
        "\n"
      ]
    },
    {
      "metadata": {
        "id": "F_tRn16Vzv_X",
        "colab_type": "text"
      },
      "cell_type": "markdown",
      "source": [
        "### Tutorial Files\n",
        "\n",
        "\n",
        "\n",
        "The files for this tutorial are located in this github repo: https://github.com/dlab-geo\n",
        "\n",
        "- The notebook file: **geopandas_intro_lsc.ipynb**\n",
        "\n",
        "- The data are in the folder **data**\n",
        "\n",
        "\n",
        "#### Tutorial Notebook\n",
        "If you are running the notebook locally on your computer you can clone or download the files from github.  \n",
        "\n",
        "- Then navigate to the folder that contains the notebook file and open it.\n",
        "\n",
        "If you are running the notebook on **Google Collaboratory** you can open the notebook by clicking on the <img src=\"https://colab.research.google.com/assets/colab-badge.svg\" alt=\"Open In Colab\"/> badge shown in the Github repo.\n",
        "\n",
        "- Then, **File > Save in Drive** so you can make and save changes."
      ]
    },
    {
      "metadata": {
        "id": "UD2q760KPbN9",
        "colab_type": "text"
      },
      "cell_type": "markdown",
      "source": [
        "#### Tutorial Data\n",
        "\n",
        "If you downloaded or cloned the github repo to your local computer the data files for this tutorial will be in the **data** folder which should be located in the same folder as the notebook.  If this is the case, set the variable `my_folder` to the current working directory which is referenced as **./**  (a period followed by a forward slash in a linux/unix/MacOS). "
      ]
    },
    {
      "metadata": {
        "id": "4w-1sERPPS8v",
        "colab_type": "code",
        "colab": {}
      },
      "cell_type": "code",
      "source": [
        "# Where are the notebook files?\n",
        "my_folder = \"./\""
      ],
      "execution_count": 0,
      "outputs": []
    },
    {
      "metadata": {
        "id": "otgskh_P3cSC",
        "colab_type": "text"
      },
      "cell_type": "markdown",
      "source": [
        "If you are working in **Google Collaboratory** you will need to clone the repo into the collaboratory cloud space. This will only store the files temporarily while your session is active.  If this is the case, uncomment the git command below and run the cell."
      ]
    },
    {
      "metadata": {
        "id": "nmtPwkpU34Ce",
        "colab_type": "code",
        "colab": {}
      },
      "cell_type": "code",
      "source": [
        "#Clone the files from Github so that we can access the data directory\n",
        "#!git clone https://github.com/dlab-geo/geopandas_intro\n"
      ],
      "execution_count": 0,
      "outputs": []
    },
    {
      "metadata": {
        "id": "FiEyGZnA4ROi",
        "colab_type": "text"
      },
      "cell_type": "markdown",
      "source": [
        "Take a look at your files with the **ls** command on a mac or in the cloud or **dir()** command on a Windows PC."
      ]
    },
    {
      "metadata": {
        "id": "w4s_vUpc4kI1",
        "colab_type": "code",
        "colab": {}
      },
      "cell_type": "code",
      "source": [
        "!ls\n",
        "#!ls data\n",
        "#!ls geopandas_intro\n",
        "#!ls geopandas_intro/data"
      ],
      "execution_count": 0,
      "outputs": []
    },
    {
      "metadata": {
        "id": "C8DbM8Mc4nlF",
        "colab_type": "text"
      },
      "cell_type": "markdown",
      "source": [
        "If you see a **geopandas_intro** folder (directory) then update the value of **my_folder** by uncommenting the line below and executing the code."
      ]
    },
    {
      "metadata": {
        "id": "TJWSfwp74-fV",
        "colab_type": "code",
        "colab": {}
      },
      "cell_type": "code",
      "source": [
        "# Where are the notebook files?\n",
        "my_folder = \"./geopandas_intro/\""
      ],
      "execution_count": 0,
      "outputs": []
    },
    {
      "metadata": {
        "id": "8HX0Z_BWO-6-",
        "colab_type": "text"
      },
      "cell_type": "markdown",
      "source": [
        "###  Geospatial libraries\n",
        "\n",
        "We will be using a number of libraries that support working with geospatial data in Python, the most important of which is **Geopandas**.\n",
        "\n",
        "#### GeoPandas\n",
        "\n",
        "[GeoPandas](http://geopandas.org/) is a relatively new Python for working with geospatial data. In the last few years it has grown more powerful and stable. This really is great because previously it was quite complex to work with geospatial data in Python.  GeoPandas is now the go to package for working with geospatial data. \n",
        "\n",
        "`GeoPandas` provides convenient, unified access to the functionality of the [pandas](https://pandas.pydata.org/) package and the functionality provided by a number of lower level spatial data packages including [shapely](https://pypi.python.org/pypi/Shapely) for geometry processing, [fiona](https://pypi.python.org/pypi/Fiona) for spatial data file IO and[ pyproj](https://github.com/jswhit/pyproj) for map projections and coordinate systems.  These libraries should be installed along with Geopandas but if for any reason they are not you can and should manually install them.\n",
        "\n",
        "We will also be using a few other geospatial libraries including:\n",
        "\n",
        "- **pysal** for spatial analysis functions such as data classification methods.\n",
        "- **Descartes** for ploting Shapelygeometric objects with Matplotlib.\n",
        "- **mplleaflet** for converting matplotlib plots to interactive leaflet web maps\n",
        "\n",
        "Finally, we will use a number of standard Python libraries including pandas, numpy, and matplotlib.\n",
        "\n",
        "If you are missing any libraries or you are working in the **Google Collaborary** environment you can install the packages with the following `pip install` commands."
      ]
    },
    {
      "metadata": {
        "id": "hB7qzjMlNBQ_",
        "colab_type": "code",
        "colab": {}
      },
      "cell_type": "code",
      "source": [
        "# Install packages need to work with geospatial data objects and methods\n",
        "#!pip install geopandas                    \n",
        "#!pip install descartes   \n",
        "#!pip install pysal \n",
        "#!pip install mplleaflet\n"
      ],
      "execution_count": 0,
      "outputs": []
    },
    {
      "metadata": {
        "id": "-cCnpi1dA98Z",
        "colab_type": "code",
        "colab": {}
      },
      "cell_type": "code",
      "source": [
        ""
      ],
      "execution_count": 0,
      "outputs": []
    },
    {
      "metadata": {
        "id": "tCzrDoU_P3rJ",
        "colab_type": "text"
      },
      "cell_type": "markdown",
      "source": [
        "**Setup complete - you are ready to run!**"
      ]
    },
    {
      "metadata": {
        "id": "8leJm45QA98b",
        "colab_type": "text"
      },
      "cell_type": "markdown",
      "source": [
        "## Import libraries"
      ]
    },
    {
      "metadata": {
        "id": "MsXXfcR0A98f",
        "colab_type": "code",
        "colab": {}
      },
      "cell_type": "code",
      "source": [
        "%matplotlib inline\n",
        "import matplotlib\n",
        "import numpy as np\n",
        "import matplotlib.pyplot as plt\n",
        "import pandas as pd\n",
        "import geopandas as gpd\n",
        "\n",
        "\n",
        "from shapely.wkt import loads\n",
        "from shapely.geometry import Point"
      ],
      "execution_count": 0,
      "outputs": []
    },
    {
      "metadata": {
        "id": "I20h7FEyA98i",
        "colab_type": "text"
      },
      "cell_type": "markdown",
      "source": [
        "## About the Data \n",
        "\n",
        "This tutorial uses historical census data for the USA and the Orleans Territory, most of which is now called Louisiana, that were obtained from the `NHGIS`, or *National Historical Geographic Information System* website ([IPUMS NHGIS, University of Minnesota, www.nhgis.org](https://www.nhgis.org)).  A cartographic boundary file for the United States was obtained from the [US Census website](https://www.census.gov/geo/maps-data/data/tiger-cart-boundary.html).\n",
        "\n",
        "Data for rivers in the US was downloaded from [Natural Earth](https://www.naturalearthdata.com/), a public domain source of mapping data.\n",
        "\n",
        "Take a look at the data we will use with the **ls** or **dir()** command."
      ]
    },
    {
      "metadata": {
        "id": "BkqJY3eWHJZz",
        "colab_type": "code",
        "colab": {}
      },
      "cell_type": "code",
      "source": [
        "!ls\n",
        "#!ls data\n",
        "#!ls geopandas_intro/data"
      ],
      "execution_count": 0,
      "outputs": []
    },
    {
      "metadata": {
        "id": "YMtUUdpoA98n",
        "colab_type": "text"
      },
      "cell_type": "markdown",
      "source": [
        "## Reading in a Spatial Data\n",
        "\n",
        "Geopandas makes it easy to read in almost any kind of vector data file including the [ESRI Shapefile](https://en.wikipedia.org/wiki/Shapefile) with the [read_file](http://geopandas.org/io.html) command.  You simply put the name of the file in quotes and assign the resulting object to a simple yet informative variable name, here `usa1810`."
      ]
    },
    {
      "metadata": {
        "id": "68MWKjNdA98o",
        "colab_type": "code",
        "colab": {}
      },
      "cell_type": "code",
      "source": [
        "#usa1810 = gpd.read_file(\"data/uscounties_1810.shp\")  #US counties in 1810\n",
        "usa1810 = gpd.read_file(my_folder + \"data/uscounties_1810.shp\")  #US counties in 1810\n"
      ],
      "execution_count": 0,
      "outputs": []
    },
    {
      "metadata": {
        "id": "7UvRy4MXA98q",
        "colab_type": "text"
      },
      "cell_type": "markdown",
      "source": [
        "The `read_file` command returns a geopandas `GeoDataFrame` object, or `gdf` for short. "
      ]
    },
    {
      "metadata": {
        "id": "f8QIQrf3A98r",
        "colab_type": "code",
        "colab": {}
      },
      "cell_type": "code",
      "source": [
        "type(usa1810)"
      ],
      "execution_count": 0,
      "outputs": []
    },
    {
      "metadata": {
        "id": "hcu06iJOA98u",
        "colab_type": "text"
      },
      "cell_type": "markdown",
      "source": [
        "Take a look at the `usa1810` gdf with the **head** command, just like you would look at a `pandas` dataframe. Because it is a pandas dataframe, but with geo super powers! \n",
        "\n",
        "Can you identify the name of the column that contains the  coordinate data?"
      ]
    },
    {
      "metadata": {
        "id": "shkKXmpbA98u",
        "colab_type": "code",
        "colab": {}
      },
      "cell_type": "code",
      "source": [
        "usa1810.head()"
      ],
      "execution_count": 0,
      "outputs": []
    },
    {
      "metadata": {
        "id": "Qvk-7kmhA98y",
        "colab_type": "text"
      },
      "cell_type": "markdown",
      "source": [
        "You can access the  coordinate data directy via the `geometry` column."
      ]
    },
    {
      "metadata": {
        "id": "Tt-X7H03A98y",
        "colab_type": "code",
        "colab": {}
      },
      "cell_type": "code",
      "source": [
        "usa1810.geometry.head()"
      ],
      "execution_count": 0,
      "outputs": []
    },
    {
      "metadata": {
        "id": "cyTpdXWuA981",
        "colab_type": "text"
      },
      "cell_type": "markdown",
      "source": [
        "\n",
        "What happens if you access just one geometry?"
      ]
    },
    {
      "metadata": {
        "id": "I8VckOeOA982",
        "colab_type": "code",
        "colab": {}
      },
      "cell_type": "code",
      "source": [
        "usa1810.geometry[0]"
      ],
      "execution_count": 0,
      "outputs": []
    },
    {
      "metadata": {
        "id": "aPP7GJaPDMAd",
        "colab_type": "text"
      },
      "cell_type": "markdown",
      "source": [
        "### Challenge\n",
        "\n",
        "How can you display the geometry for the county New York, New York?  \n",
        "\n",
        "- Hint: take a look at the rows for New York state."
      ]
    },
    {
      "metadata": {
        "id": "7jv3tAI5Chnl",
        "colab_type": "code",
        "colab": {}
      },
      "cell_type": "code",
      "source": [
        "usa1810[usa1810['STATENAM']=='New York']"
      ],
      "execution_count": 0,
      "outputs": []
    },
    {
      "metadata": {
        "id": "Y0g8-UwUA986",
        "colab_type": "text"
      },
      "cell_type": "markdown",
      "source": [
        "### Challenge\n",
        "\n",
        "In the cell below, rename the column NHGISNAM to 'county', which is a lot more intuitive!\n",
        "\n",
        "Hint: here is an example using a hypothetical pandas dataframe.\n",
        "\n",
        ">`unemployment.rename(columns={'month' : 'year_month'}, inplace=True)`"
      ]
    },
    {
      "metadata": {
        "id": "HGoDOzqdA987",
        "colab_type": "code",
        "colab": {}
      },
      "cell_type": "code",
      "source": [
        "# Your code here\n",
        "#usa1810.rename(...)\n",
        "usa1810.head()"
      ],
      "execution_count": 0,
      "outputs": []
    },
    {
      "metadata": {
        "id": "NFtZ47HvA989",
        "colab_type": "text"
      },
      "cell_type": "markdown",
      "source": [
        "## Mapping with GeoPandas"
      ]
    },
    {
      "metadata": {
        "id": "jKl2eJcqA98-",
        "colab_type": "text"
      },
      "cell_type": "markdown",
      "source": [
        "Plot the `usa1810` data with the geopandas **plot** method, which uses `matplotlib` and the matplotlib `pyplot` module under the hood."
      ]
    },
    {
      "metadata": {
        "id": "qhJ6DGH2A98_",
        "colab_type": "code",
        "colab": {}
      },
      "cell_type": "code",
      "source": [
        "usa1810.plot()"
      ],
      "execution_count": 0,
      "outputs": []
    },
    {
      "metadata": {
        "id": "mhT-8ex6A99B",
        "colab_type": "text"
      },
      "cell_type": "markdown",
      "source": [
        "Pretty cool to be able to make a map with a single command.  However, there is always room for improvement. \n",
        "You can find out more about the plotting options for basic maps in the [geopandas documentation](http://geopandas.org/mapping.html) and in the [matplotlib documentation](http://matplotlib.org/api/pyplot_api.html). \n",
        "\n",
        "We can use some options to make a prettier map. Take a minute to consider what each option does.\n",
        "\n"
      ]
    },
    {
      "metadata": {
        "id": "6JgFoD29A99F",
        "colab_type": "code",
        "colab": {}
      },
      "cell_type": "code",
      "source": [
        "# make blue counties red\n",
        "usa1810.plot(linewidth=0.25, edgecolor='black', facecolor='red',  figsize=(14,10))"
      ],
      "execution_count": 0,
      "outputs": []
    },
    {
      "metadata": {
        "id": "V6m2lapmA99I",
        "colab_type": "text"
      },
      "cell_type": "markdown",
      "source": [
        "## Challenge\n",
        "\n",
        "Let's compare the extent of the USA in 1810 to the USA in 2017.\n",
        "\n",
        "- Read the file `usa_outline.shp` into a geopandas dataframe named `usa`.\n",
        "- Then, make a map of the `usa`, setting the `figsize` to (14,10)."
      ]
    },
    {
      "metadata": {
        "id": "0prPeMHyA99J",
        "colab_type": "code",
        "colab": {}
      },
      "cell_type": "code",
      "source": [
        "## Your code here\n",
        "\n",
        "# first read in the file\n",
        "\n",
        "# then plot the gdf"
      ],
      "execution_count": 0,
      "outputs": []
    },
    {
      "metadata": {
        "id": "iupVAyhwA99L",
        "colab_type": "text"
      },
      "cell_type": "markdown",
      "source": [
        "### Question\n",
        "\n",
        "Any idea why the map of the plot looks so wide?"
      ]
    },
    {
      "metadata": {
        "id": "QOz_IOGQA99M",
        "colab_type": "code",
        "colab": {}
      },
      "cell_type": "code",
      "source": [
        "# Let's read in and plot the usa shapefile\n",
        "\n",
        "#usa = gpd.read_file('data/usa_outline.shp')\n",
        "usa = gpd.read_file(my_folder + 'data/usa_outline.shp')\n",
        "usa.plot()"
      ],
      "execution_count": 0,
      "outputs": []
    },
    {
      "metadata": {
        "id": "hoscC6U_A99O",
        "colab_type": "text"
      },
      "cell_type": "markdown",
      "source": [
        "## Overlays\n",
        "\n",
        "A key strength of geospatial data analysis is the ability to overlay data that are located in the same coordinate space. Let's overlay the USA in 1810 on top of the USA in 2017 to visualize the change.  We will explore two methods for doing this, as shown in the [GeoPandas documentation](http://geopandas.org/mapping.html)"
      ]
    },
    {
      "metadata": {
        "id": "9mFpQ0XFA99P",
        "colab_type": "code",
        "colab": {}
      },
      "cell_type": "code",
      "source": [
        "# Method 1. Simple geopandas plot overlay\n",
        "\n",
        "base = usa.plot(color='white', edgecolor='black',  figsize=(14,10))\n",
        "usa1810.plot(ax=base)"
      ],
      "execution_count": 0,
      "outputs": []
    },
    {
      "metadata": {
        "id": "Im3f4Ui7A99S",
        "colab_type": "code",
        "colab": {}
      },
      "cell_type": "code",
      "source": [
        "# Method 2. Setting Matplot lib options\n",
        "\n",
        "fig, ax = plt.subplots(1, figsize=(14,10))  # Initialize the plot figure (drawing area) and axes (data area)\n",
        "ax.set_xlim([-180, -60]) # Set the x axis limit on the axes\n",
        "ax.set_aspect('equal')   # set the aspect ratio for the x and y axes to be equal. \n",
        "                         # This is done automatically in gdf.plot()\n",
        "    \n",
        "base = usa.plot(ax=ax, color='black')  # Set the base map, or bottom map layer\n",
        "usa1810.plot(ax=base, color='white', edgecolor=\"black\")  # draw the data with the base\n",
        "_ = ax.axis('off') # Don't show the x, y axes and labels in the plot\n",
        "ax.set_title(\"USA 2017 and 1810\")  # Give the plot a title\n"
      ],
      "execution_count": 0,
      "outputs": []
    },
    {
      "metadata": {
        "id": "Yb6L1kfzA99W",
        "colab_type": "text"
      },
      "cell_type": "markdown",
      "source": [
        "## Questions?\n",
        "\n",
        "If your lost, don't worry. Many folks, myself included, scratch their head and copy matplotlib code, amazed and mystified when it works. Gradually it sinks in. You can expediate the process by reviewing any of a number of good online tutorials, like this one from [DataCamp](https://www.datacamp.com/community/tutorials/matplotlib-tutorial-python)."
      ]
    },
    {
      "metadata": {
        "id": "RaDCcxBSA99X",
        "colab_type": "text"
      },
      "cell_type": "markdown",
      "source": [
        "# Coordinate Reference Systems (CRS) "
      ]
    },
    {
      "metadata": {
        "id": "ZDTTAI5SA99Y",
        "colab_type": "text"
      },
      "cell_type": "markdown",
      "source": [
        "Did you notice anything funny about the shape of the USA as mapped above?  How does it differ from this?\n",
        "\n",
        "<img src=\"https://upload.wikimedia.org/wikipedia/commons/thumb/a/a5/Map_of_USA_with_state_names.svg/640px-Map_of_USA_with_state_names.svg.png\" width=\"800px\"></img>"
      ]
    },
    {
      "metadata": {
        "id": "FCLduU5rA99Y",
        "colab_type": "text"
      },
      "cell_type": "markdown",
      "source": [
        "Why does it differ? Here's why:\n",
        "\n",
        "<img src=\"http://tse3.mm.bing.net/th?id=OIP.lyDmHXX9VdoEOWDQlqppSAHaEy\" width=\"500px\"></img>\n",
        "\n",
        "When we map data encoded with a spheriodal coordinate reference system (longitude & latitude) as though it were two dimension x,y coordinate data we get distortion!\n",
        "\n",
        "## Map Projections and CRS Transformations\n",
        "\n",
        "In order to reduce distortion in 2D maps we transform geographic coordinates to projected map coordinates.\n",
        "\n",
        "> This transformation is also necessary for may geometric calculations like area and distance that assume a 2D plane.\n",
        "\n",
        "The process for CRS transformations is:\n",
        "\n",
        "1. Make sure a **crs** is defined for the geopandas dataframe by checking the **crs** property. \n",
        "2. If it is not set, you can set it with the **crs** method.\n",
        "3. Transform it using the **to_crs** method."
      ]
    },
    {
      "metadata": {
        "id": "THZe7LcaA99Z",
        "colab_type": "code",
        "colab": {}
      },
      "cell_type": "code",
      "source": [
        "# Check the CRS of our gdfs\n",
        "usa.crs\n",
        "usa1810.crs"
      ],
      "execution_count": 0,
      "outputs": []
    },
    {
      "metadata": {
        "id": "F0OyDdfMA99b",
        "colab_type": "text"
      },
      "cell_type": "markdown",
      "source": [
        "What's an **epsg:4326**?  That's an [EPSG](http://www.epsg.org/) code for the geographic CRS known as the [World Geodectic System of 1984](https://en.wikipedia.org/wiki/World_Geodetic_System#WGS84), or `WGS84`. This is the most commonly used CRS for latitude and longitude coordinate data and is the default CRS for most mapping software when the data does not have a defined CRS.\n",
        "\n",
        "We can make our map look better by transforming it to a 2D projected `CRS`. A projected CRS applies a mathematical transformation to the data based on a [map projection](https://en.wikipedia.org/wiki/Map_projection)\n",
        "\n",
        "Common map projections for USA data and their EPSG codes include:\n",
        "\n",
        "- `Web Mercator` (epsg:3857)\n",
        "- `USA Contiguious Albers` (epsg:7603)\n",
        "\n",
        "Let's try these."
      ]
    },
    {
      "metadata": {
        "id": "dp4ZzBNFA99c",
        "colab_type": "code",
        "colab": {}
      },
      "cell_type": "code",
      "source": [
        "# Transform geographic crs to web mercator\n",
        "usa_3857 = usa.to_crs(epsg=3857)\n",
        "usa_3857.plot(figsize=(14,8))"
      ],
      "execution_count": 0,
      "outputs": []
    },
    {
      "metadata": {
        "id": "qo29tIcIA99e",
        "colab_type": "code",
        "colab": {}
      },
      "cell_type": "code",
      "source": [
        "# Transform geographic crs to USA Contiguous Albers\n",
        "usa_7603 = usa.to_crs(epsg=7603)\n",
        "usa_7603.plot(figsize=(14,8))"
      ],
      "execution_count": 0,
      "outputs": []
    },
    {
      "metadata": {
        "id": "Izr5v_zXA99h",
        "colab_type": "text"
      },
      "cell_type": "markdown",
      "source": [
        "You can see we get very different maps of the USA depending on the CRS. Web Mercator is best suited for large geographic extents between +-60 degrees (i.e. distortion increases as you move away from equator and towards the poles). USA Contiguous Albers is best for the continental USA.  We could subset the data to remove Alaska, Hawaii and Puerto Rico.\n",
        "\n",
        "### Important Notes\n",
        "\n",
        "1. Data need to be in the same CRS in order to be mapped or analyzed together.\n",
        "2. The units of a CRS are part of the CRS definition. These are typically decimal degrees for geographic (lat/lon) data or meters for projected data.\n",
        "3. It's not obvious what the best projected CRS is for your map or analysis. You need to review the recent literature (as these things change) and try different ones.  Here is a good starting place, [epsg.io](http://epsg.io/).\n",
        "\n",
        "\n",
        "> A detailed discussion CRS and map projections is beyond the scope of this notebook. Understanding these, however, is **necessary** for working sucessfully with geospatial data! There are a number of online resources that can be found with a web search to help you get started."
      ]
    },
    {
      "metadata": {
        "id": "dpeTaK6dA99i",
        "colab_type": "text"
      },
      "cell_type": "markdown",
      "source": [
        "# Mapping Data\n",
        "\n",
        "By default maps show locations in space. Data maps, also called thematic maps, convey data values at specific locations by associating those values with map symbology like color, shape and size. \n",
        "\n",
        "In this section we will explore population data in the `Orleans Territory` from the US Census of 1810.  If you didn't rename the column containing the county names do so now!\n"
      ]
    },
    {
      "metadata": {
        "id": "JboaMbAWEpci",
        "colab_type": "code",
        "colab": {}
      },
      "cell_type": "code",
      "source": [
        "usa1810.rename(columns={'NHGISNAM': 'county'}, inplace=True)\n",
        "usa1810.head(2)"
      ],
      "execution_count": 0,
      "outputs": []
    },
    {
      "metadata": {
        "id": "NezA2CF0A99j",
        "colab_type": "text"
      },
      "cell_type": "markdown",
      "source": [
        "### Subsetting Geopandas Dataframes\n",
        "\n",
        "Since we are only interested in the `Orleans Territory` let's subset the `usa1810` data.  Since a geopandas dataframe is a superpowered pandas dataframe we can use pandas methods to subset it. Take another look at the geopandas dataframe to identify the column we can subset the data."
      ]
    },
    {
      "metadata": {
        "id": "Ibr7gDs2A99k",
        "colab_type": "code",
        "colab": {}
      },
      "cell_type": "code",
      "source": [
        "usa1810.head()"
      ],
      "execution_count": 0,
      "outputs": []
    },
    {
      "metadata": {
        "id": "oyPtFCDuA99m",
        "colab_type": "text"
      },
      "cell_type": "markdown",
      "source": [
        "The `STATENAM` column includes a reference to the territory so let's use that.  Then map the result to check it."
      ]
    },
    {
      "metadata": {
        "id": "184E79hpA99o",
        "colab_type": "code",
        "colab": {}
      },
      "cell_type": "code",
      "source": [
        "orleans = usa1810[usa1810['STATENAM'] == 'Orleans Territory']\n",
        "orleans.plot()"
      ],
      "execution_count": 0,
      "outputs": []
    },
    {
      "metadata": {
        "id": "xY0nni05A99q",
        "colab_type": "text"
      },
      "cell_type": "markdown",
      "source": [
        "Nice! Orleans Territory looks alot like the state of Louisiana.\n",
        "\n",
        "## Attribute Joins\n",
        "\n",
        "Mapping geometries is often useful for getting a sense of the size and relative position of locations. But more often we want to map attribute data that describe a location, such as the population density of a region.\n",
        "\n",
        "In order to map attribute data we need to have it associated with the locations. However, the geopandas dataframes `usa1810` and `orleans` do not contain any interesting attribute data.\n",
        "\n",
        "In a separate file named **orleans_census_data1810.csv** we have 1810 population data for the Orleans Territory that was downloaded from the NHGIS.  We can read the file into a `pandas` dataframe and then join the contents of that dataframe to the geopandas dataframe `orleans` based on a column with common data value.  This process is called an `attribute join` and is a common operation when working with geospatial data."
      ]
    },
    {
      "metadata": {
        "id": "q6CpUGM9A99r",
        "colab_type": "text"
      },
      "cell_type": "markdown",
      "source": [
        "First, read in the population data from the 1810 census that we want to map. "
      ]
    },
    {
      "metadata": {
        "id": "NX0-k0fcA99r",
        "colab_type": "code",
        "colab": {}
      },
      "cell_type": "code",
      "source": [
        "#orleans_census1810 = pd.read_csv('data/orleans_census_data1810.csv')\n",
        "orleans_census1810 = pd.read_csv(my_folder + 'data/orleans_census_data1810.csv')"
      ],
      "execution_count": 0,
      "outputs": []
    },
    {
      "metadata": {
        "id": "Ra6Xf00VA99u",
        "colab_type": "code",
        "colab": {}
      },
      "cell_type": "code",
      "source": [
        "orleans_census1810.head()  # take a look at the data"
      ],
      "execution_count": 0,
      "outputs": []
    },
    {
      "metadata": {
        "id": "DBm0v1L9A99w",
        "colab_type": "text"
      },
      "cell_type": "markdown",
      "source": [
        "Compare the `orleans_census1810` data with the `orleans` geopandas dataframe. What columns in these two data objects have common values on which the data frames can be joined?"
      ]
    },
    {
      "metadata": {
        "id": "EsFFmhEnA99w",
        "colab_type": "code",
        "colab": {}
      },
      "cell_type": "code",
      "source": [
        "orleans.head()\n"
      ],
      "execution_count": 0,
      "outputs": []
    },
    {
      "metadata": {
        "id": "bb_Emn45A99z",
        "colab_type": "text"
      },
      "cell_type": "markdown",
      "source": [
        "Use the geopandas `merge` command to join the two dataframes.  Then take a look at the output which we call `orleans_popdata` since it contains population data."
      ]
    },
    {
      "metadata": {
        "id": "QyBK3LEjA99z",
        "colab_type": "code",
        "colab": {}
      },
      "cell_type": "code",
      "source": [
        "orleans_popdata = orleans.merge(orleans_census1810, on='GISJOIN')\n",
        "orleans_popdata.head()"
      ],
      "execution_count": 0,
      "outputs": []
    },
    {
      "metadata": {
        "id": "4W-2nhd-A992",
        "colab_type": "text"
      },
      "cell_type": "markdown",
      "source": [
        "We can add options to the `plot` command to map the data values to the map symbology. Consider how this is done below with the data in the `nwslave_pop` (non-white slave population) column."
      ]
    },
    {
      "metadata": {
        "id": "aiLx_DLUA995",
        "colab_type": "code",
        "colab": {}
      },
      "cell_type": "code",
      "source": [
        "orleans_popdata.plot(column='nwslave_pop', cmap='Reds', edgecolor='black', legend=True, figsize=(8,6))"
      ],
      "execution_count": 0,
      "outputs": []
    },
    {
      "metadata": {
        "id": "GzceCCjwA997",
        "colab_type": "text"
      },
      "cell_type": "markdown",
      "source": [
        "Above, the parameter **cmap** stands for colormap. You can see the list of available [color maps here](https://matplotlib.org/users/colormaps.html). The full range of values in the `nwslave_pop` column is being scaled to the color palette called **Reds**.  This is called an `unclassified` or `classless` map. This map is a good first effort as it imposses no grouping on the data, thus making it easier to spot trends and outliers. But it is harder to interpret the data values within an area.\n",
        "\n",
        "A more common practice is to use a classification scheme to bin the data into classes and map those classes to a color palette. Let's try that below with `quantile` classification which is the most commonly used scheme when mapping data."
      ]
    },
    {
      "metadata": {
        "id": "DD2Rff5PA998",
        "colab_type": "code",
        "colab": {}
      },
      "cell_type": "code",
      "source": [
        "orleans_popdata.plot(column='nwslave_pop', cmap='Reds', edgecolor='black', \n",
        "                     legend=True, figsize=(8,6), scheme='quantiles')"
      ],
      "execution_count": 0,
      "outputs": []
    },
    {
      "metadata": {
        "id": "1caXG6KPA99-",
        "colab_type": "text"
      },
      "cell_type": "markdown",
      "source": [
        "Wow that gives a very different looking map!\n",
        "\n",
        "## Challenge\n",
        "\n",
        "In the code cell below recreate the above map with the classification schemes **equal_interval** and **fisher_jenks** to see how the look of the map changes.\n",
        "\n",
        "> Bonus challenge: try a different colormap."
      ]
    },
    {
      "metadata": {
        "id": "5JTungRcA9-A",
        "colab_type": "code",
        "colab": {}
      },
      "cell_type": "code",
      "source": [
        "# Your code here"
      ],
      "execution_count": 0,
      "outputs": []
    },
    {
      "metadata": {
        "id": "hveJxIFLA9-D",
        "colab_type": "text"
      },
      "cell_type": "markdown",
      "source": [
        "## Choropleth maps\n",
        "\n",
        "The maps we just made are called `choropleth maps`. A [choropleth maps](https://en.wikipedia.org/wiki/Choropleth_map) is a data map that colors areas, here polygons, by data values.  This are the most common type of data map. It is also sometimes called a **heatmap**.\n",
        "\n",
        "**HOWEVER**, when areas have different sizes it is not considered good cartographic practice to map **counts**.  Why do you think this is so?\n",
        "\n",
        "Instead, choropleth maps typically symbolize ares by densites, ratios or rates that can compared across the different areas.\n",
        "\n",
        "Let's map the ration of non-white slaves (nwslave_pop) to free whites (white_pop)."
      ]
    },
    {
      "metadata": {
        "id": "Zn1xevquLsp6",
        "colab_type": "code",
        "colab": {}
      },
      "cell_type": "code",
      "source": [
        "orleans_popdata['slave2white_ratio'] = orleans_popdata['nwslave_pop'] / orleans_popdata['white_pop']\n",
        "orleans_popdata.plot(column='slave2white_ratio', cmap='Reds', edgecolor='black', \n",
        "                     legend=True, figsize=(8,6), scheme='quantiles')"
      ],
      "execution_count": 0,
      "outputs": []
    },
    {
      "metadata": {
        "id": "RLEae5KZA9-E",
        "colab_type": "text"
      },
      "cell_type": "markdown",
      "source": [
        "We can get fancy with our choropleth maps..."
      ]
    },
    {
      "metadata": {
        "id": "rTxTdbOzA9-E",
        "colab_type": "code",
        "colab": {}
      },
      "cell_type": "code",
      "source": [
        "fig, ax = plt.subplots(1, figsize=(12,12))\n",
        "\n",
        "orleans_popdata.plot(ax=ax, column='slave2white_ratio', cmap='OrRd', edgecolor='black', legend=True, scheme='fisher_jenks')\n",
        "\n",
        "for polygon, name in zip(orleans_popdata.geometry, orleans_popdata.COUNTY):\n",
        "    ax.annotate(xy=(polygon.centroid.x, polygon.centroid.y), s=name)\n",
        "\n",
        "_ = ax.axis('off')\n",
        "\n",
        "ax.set_title(\"Ratio of Non-White Slaves to Free Whites, Orleans Territory, 1810\")"
      ],
      "execution_count": 0,
      "outputs": []
    },
    {
      "metadata": {
        "id": "NrMzvBiZA9-G",
        "colab_type": "text"
      },
      "cell_type": "markdown",
      "source": [
        "Needless to say, labels are a bit tricky, regardless of the software you use to make a map!\n"
      ]
    },
    {
      "metadata": {
        "id": "bcGtsm3-A9-H",
        "colab_type": "text"
      },
      "cell_type": "markdown",
      "source": [
        "### Challenge\n",
        "\n",
        "In 1791 and 1795 two slave revolts where planned in the same parish in Orleans Territory. Although these plots involved different people and had different orgins, both were discovered and thwarted, leading to the trial and execution or emprisonment of many enslaved persons. Soon thereafter, the [German Coast Uprising of 1811](https://en.wikipedia.org/wiki/1811_German_Coast_uprising), which was the largest slave revolt in US history, occured in a different Orleans parish. Can you use the map above to guess the two parishes in which these three events occured? "
      ]
    },
    {
      "metadata": {
        "id": "bL4VSBnpA9-I",
        "colab_type": "text"
      },
      "cell_type": "markdown",
      "source": [
        "# Mapping Points"
      ]
    },
    {
      "metadata": {
        "id": "MAaBVqSbA9-J",
        "colab_type": "text"
      },
      "cell_type": "markdown",
      "source": [
        "Mapping data to polygons is commonly done, but sometimes point maps are preferred. Why? Because when polygons vary greatly in size, as the US states and counties do, the size of the areas can distract from interpretting the data. Large areas pop out and small ones hide in the map.\n",
        "\n",
        "GeoPandas makes it easy to transform polygon data to point data."
      ]
    },
    {
      "metadata": {
        "id": "kOpklvZDA9-L",
        "colab_type": "code",
        "colab": {}
      },
      "cell_type": "code",
      "source": [
        "# copy polygon data to new GeoDataFrame\n",
        "orleans_popdata_pts = orleans_popdata.copy()\n",
        "\n",
        "# transform the geometry to points\n",
        "orleans_popdata_pts.geometry = orleans_popdata_pts['geometry'].centroid\n",
        "\n",
        "# take a look at the data\n",
        "orleans_popdata_pts.head()"
      ],
      "execution_count": 0,
      "outputs": []
    },
    {
      "metadata": {
        "id": "vYXQqaN4A9-N",
        "colab_type": "text"
      },
      "cell_type": "markdown",
      "source": [
        "That was relatively easy! Take a look at the format of the data in the **geometry** column above and note how it differs for that of `orleans_popdata`.\n",
        "\n",
        "Make a quick plot of the data to make sure it looks right."
      ]
    },
    {
      "metadata": {
        "id": "8j-pwvC3A9-N",
        "colab_type": "code",
        "colab": {}
      },
      "cell_type": "code",
      "source": [
        "orleans_popdata_pts.plot()"
      ],
      "execution_count": 0,
      "outputs": []
    },
    {
      "metadata": {
        "id": "lFvhHRZdA9-R",
        "colab_type": "text"
      },
      "cell_type": "markdown",
      "source": [
        "To get geographic context, we can plot those points on top of the polygons. Consider the code below for doing this and the resultant plot."
      ]
    },
    {
      "metadata": {
        "id": "H-91UxXpA9-R",
        "colab_type": "code",
        "colab": {}
      },
      "cell_type": "code",
      "source": [
        "fig, ax = plt.subplots(1, figsize=(14,14))  # Initialize the plot figure (drawing area) and axes (data area)\n",
        "fig.patch.set_facecolor('white') # set the plot background to white\n",
        "\n",
        "ax.set_aspect('equal')   # set the aspect ratio for the x and y axes to be equal. \n",
        "                         # This is done automatically in gdf.plot()\n",
        "\n",
        "    \n",
        "base = orleans_popdata.plot(ax=ax, facecolor='white', edgecolor='grey', linewidth=0.25,)   \n",
        "orleans_popdata_pts.plot(ax=base, column='nwslave_pop', cmap='OrRd', edgecolor='black', scheme='fisher_jenks',\n",
        "                         markersize=80, legend=True,  legend_kwds={'title':'Number of Slaves'})\n",
        "_ = ax.axis('off')  \n",
        "\n",
        "for polygon, name in zip(orleans_popdata.geometry, orleans_popdata.COUNTY):\n",
        "    ax.annotate(xy=(polygon.centroid.x+0.05, polygon.centroid.y), s=name, color='black')\n",
        "    \n",
        "ax.set_title(\"Non-White Slave Population, Orleans Territory, 1810\", fontname=\"Times New Roman\",fontweight=\"bold\")"
      ],
      "execution_count": 0,
      "outputs": []
    },
    {
      "metadata": {
        "id": "g0Z8fg51A9-T",
        "colab_type": "text"
      },
      "cell_type": "markdown",
      "source": [
        "### Challenge\n",
        "\n",
        "Redo the map above with the data in the column **slave2white_ratio** (the ratio of non-white slaves to whites.)"
      ]
    },
    {
      "metadata": {
        "id": "fX4z5AkeA9-V",
        "colab_type": "code",
        "colab": {}
      },
      "cell_type": "code",
      "source": [
        "## Your Code Here\n"
      ],
      "execution_count": 0,
      "outputs": []
    },
    {
      "metadata": {
        "id": "-Xta09iQRNoR",
        "colab_type": "text"
      },
      "cell_type": "markdown",
      "source": [
        "### Mapping Point Data from a CSV file\n",
        "\n",
        "We can also read in point data from a **CSV** file. This simple file format is commonly used to store point data when the location is encoded with latitude and longitude values.\n",
        "\n",
        "Let's read in point data for the locations of the Louisiana slave conspiracies."
      ]
    },
    {
      "metadata": {
        "id": "tonZ50mvROD3",
        "colab_type": "code",
        "colab": {}
      },
      "cell_type": "code",
      "source": [
        "# Read in a csv file that has lat/lon values\n",
        "lsc_locs = gpd.read_file(\"lsc_points.csv\")\n",
        " \n",
        "#take a look at the data\n",
        "lsc_locs\n",
        "\n"
      ],
      "execution_count": 0,
      "outputs": []
    },
    {
      "metadata": {
        "id": "9XGN2NOGSKPo",
        "colab_type": "text"
      },
      "cell_type": "markdown",
      "source": [
        "#### Adding Geometry Data\n",
        "\n",
        "This geopandas dataframe is not complete  - it is missing geometry data.  We can create this from the values in the lat & lon columns."
      ]
    },
    {
      "metadata": {
        "id": "SG1UZYThSFY6",
        "colab_type": "code",
        "colab": {}
      },
      "cell_type": "code",
      "source": [
        "# populate geometry column from lat/lon data\n",
        "lsc_locs['geometry'] = lsc_locs.apply(lambda row: Point(float(row['longitude']), float(row['latitude'])), axis = 1)\n",
        "lsc_locs\n"
      ],
      "execution_count": 0,
      "outputs": []
    },
    {
      "metadata": {
        "id": "xjep-RkOSiEI",
        "colab_type": "text"
      },
      "cell_type": "markdown",
      "source": [
        "#### Adding a CRS\n",
        "\n",
        "A geopandas dataframe is not complete without a value for the CRS. Since these data are geographic coordinates we can make the standard assumption (usually correct) that the CRS is **WGS84**, with the EPSG code 4326."
      ]
    },
    {
      "metadata": {
        "id": "TSh11eCwSgxv",
        "colab_type": "code",
        "colab": {}
      },
      "cell_type": "code",
      "source": [
        "# Check the crs\n",
        "print(lsc_locs.crs)\n",
        "\n",
        "# Compare it to a related gpd\n",
        "print(orleans.crs)\n",
        "\n",
        "# Define the CRS\n",
        "lsc_locs.crs = {'init' :'epsg:4326'}\n",
        "\n",
        "# We could also define it like this\n",
        "#lsc_locs.crs = orleands.crs\n",
        "\n",
        "# Check the crs again\n",
        "print(lsc_locs.crs)"
      ],
      "execution_count": 0,
      "outputs": []
    },
    {
      "metadata": {
        "id": "XQZg-M27Sde7",
        "colab_type": "code",
        "colab": {}
      },
      "cell_type": "code",
      "source": [
        "#plot it\n",
        "ax=orleans_popdata_pts.plot(column='nwslave_pop', cmap='OrRd', edgecolor='black', scheme='fisher_jenks',\n",
        "                         markersize=100)\n",
        "ax=lsc_locs.plot(ax=ax, color=\"black\", edgecolor=\"white\", marker=\"+\", markersize=80)"
      ],
      "execution_count": 0,
      "outputs": []
    },
    {
      "metadata": {
        "id": "A22epCIZUrJp",
        "colab_type": "code",
        "colab": {}
      },
      "cell_type": "code",
      "source": [
        "lsc_locs.plot?"
      ],
      "execution_count": 0,
      "outputs": []
    },
    {
      "metadata": {
        "id": "HxcpFQFRUA2Q",
        "colab_type": "code",
        "colab": {}
      },
      "cell_type": "code",
      "source": [
        "fig, ax = plt.subplots(1, figsize=(12,12))\n",
        "\n",
        "orleans_popdata.plot(ax=ax, column='slave2white_ratio', cmap='OrRd', edgecolor='black', scheme='fisher_jenks')\n",
        "\n",
        "for polygon, name in zip(orleans_popdata.geometry, orleans_popdata.COUNTY):\n",
        "    ax.annotate(xy=(polygon.centroid.x, polygon.centroid.y), s=name)\n",
        "\n",
        "lsc_locs.plot(ax=ax, color=\"black\", edgecolor=\"white\", marker=\",\", linewidth=2, markersize=100)\n",
        "\n",
        "_ = ax.axis('off')\n",
        "\n",
        "ax.set_title(\"Ratio of Non-White Slaves to Free Whites, Orleans Territory, 1810\")"
      ],
      "execution_count": 0,
      "outputs": []
    },
    {
      "metadata": {
        "id": "c7ALQsPwWMJl",
        "colab_type": "text"
      },
      "cell_type": "markdown",
      "source": [
        "### From Static to Interactive Maps with mplleaflet\n",
        "\n",
        "You can use **mplleaflet** to make a quick interactive Leaflet map from a matplotlib plot.  The results allow you to zoom in and explore the data.  It's quick and simple but but not a very finished web map product. For more customizations, see the Python **folium** library.\n"
      ]
    },
    {
      "metadata": {
        "id": "nLxTa4LEVJni",
        "colab_type": "code",
        "colab": {}
      },
      "cell_type": "code",
      "source": [
        "mplleaflet.display(fig=ax.figure, crs=lsc_locs.crs, tiles='cartodb_positron')"
      ],
      "execution_count": 0,
      "outputs": []
    },
    {
      "metadata": {
        "id": "rfk3k0rOXdrf",
        "colab_type": "text"
      },
      "cell_type": "markdown",
      "source": [
        "### Geometric Manipulations\n",
        "\n",
        "Geopandas provides a number of methods for querying and manipulating geometries, using the Shapely library under the hood.  Let's consider a few of these that might be helpful in this project."
      ]
    },
    {
      "metadata": {
        "id": "BiV_u0UYcCkt",
        "colab_type": "text"
      },
      "cell_type": "markdown",
      "source": [
        "#### Dissolve\n",
        "\n",
        "The **usa1810** and **orleans** data represent county boundaries. If we want to display state outlines instead we can **dissolve** the geometries by the values in the **STATENAM** column. "
      ]
    },
    {
      "metadata": {
        "id": "q9apgVelJIG1",
        "colab_type": "code",
        "colab": {}
      },
      "cell_type": "code",
      "source": [
        "orleans_outline = orleans.dissolve(by=\"STATENAM\")\n",
        "orleans_outline.plot(color=\"blue\")"
      ],
      "execution_count": 0,
      "outputs": []
    },
    {
      "metadata": {
        "id": "3rOfDmQ-lKZx",
        "colab_type": "code",
        "colab": {}
      },
      "cell_type": "code",
      "source": [
        "orleans_outline.to_crs(epsg=7603).area / 10**6  # NY State area in sq kilometers: 141,300 km2"
      ],
      "execution_count": 0,
      "outputs": []
    },
    {
      "metadata": {
        "id": "3pn1NlBeZjfm",
        "colab_type": "code",
        "colab": {}
      },
      "cell_type": "code",
      "source": [
        "states1810=usa1810.dissolve(by=\"STATENAM\")\n",
        "states1810.plot()"
      ],
      "execution_count": 0,
      "outputs": []
    },
    {
      "metadata": {
        "id": "GSfIo5U4dc0z",
        "colab_type": "text"
      },
      "cell_type": "markdown",
      "source": [
        "#### Area\n",
        "\n",
        "We can compute the area of a polygon geometry. However, the **CRS** of the gpd should be appropriate for area calculations.\n"
      ]
    },
    {
      "metadata": {
        "id": "2SphfnjJcqyy",
        "colab_type": "code",
        "colab": {}
      },
      "cell_type": "code",
      "source": [
        "states1810.head()\n",
        "states1810.to_crs(epsg=7603).area / 10**6  # NY State area in sq kilometers: 141,300 km2"
      ],
      "execution_count": 0,
      "outputs": []
    },
    {
      "metadata": {
        "id": "k4gzKI_hdbl9",
        "colab_type": "text"
      },
      "cell_type": "markdown",
      "source": [
        "### Distance\n",
        "\n",
        "What is the approximate distance between the slave conspiracy locations and New Orleans?  As with area, geopandas distance calculations require a projected CRS.\n"
      ]
    },
    {
      "metadata": {
        "id": "iROsx5ElYHqO",
        "colab_type": "code",
        "colab": {}
      },
      "cell_type": "code",
      "source": [
        "pt_coupee.to_crs(epsg=3857).geometry.centroid[1].distance(new_orleans.to_crs(epsg=3857).geometry.centroid[16]) / 1609.344"
      ],
      "execution_count": 0,
      "outputs": []
    },
    {
      "metadata": {
        "id": "5V8C83L0gSUU",
        "colab_type": "code",
        "colab": {}
      },
      "cell_type": "code",
      "source": [
        "new_orleans_ctr = orleans_popdata[orleans_popdata['county']=='Orleans'].geometry.centroid\n",
        "ctr = new_orleans_ctr.to_crs(epsg=3857).geometry[16]\n",
        "print(ctr)\n",
        "orleans_pts_3857 = orleans_popdata_pts.to_crs(epsg=3857)\n",
        "orleans_pts_3857.head()\n",
        "#distances between parish centers and New orleans Center\n",
        "distances = {}\n",
        "for row in orleans_pts_3857.iterrows():\n",
        "  vals = row[1]\n",
        "  key = vals['county']\n",
        "  distances[key] = vals['geometry'].distance(ctr) /  1609.344  # distance in miles\n",
        "#pprint.pprint(distances)\n",
        "print(distances)"
      ],
      "execution_count": 0,
      "outputs": []
    },
    {
      "metadata": {
        "id": "cczyJr3uhC-2",
        "colab_type": "text"
      },
      "cell_type": "markdown",
      "source": [
        "### Spatial Relationships\n",
        "\n",
        "We can query the relationship between geometries to answer questions about location.  For example, let's consider how we would address the spatial query *In what Orleans Territory parishes did the Louisiana slave conspiracies take place?*"
      ]
    },
    {
      "metadata": {
        "id": "Opp6COehiHRU",
        "colab_type": "code",
        "colab": {}
      },
      "cell_type": "code",
      "source": [
        "print(lsc_locs)"
      ],
      "execution_count": 0,
      "outputs": []
    },
    {
      "metadata": {
        "id": "yfVvXqiThky_",
        "colab_type": "code",
        "colab": {}
      },
      "cell_type": "code",
      "source": [
        "# What county (parish) contains the conspiracy at index 2 (German Coast Uprising)?\n",
        "orleans[orleans.geometry.contains(lsc_locs.geometry[2])]['county'].get_values()[0]"
      ],
      "execution_count": 0,
      "outputs": []
    },
    {
      "metadata": {
        "id": "4H9Z-aYOiu8n",
        "colab_type": "code",
        "colab": {}
      },
      "cell_type": "code",
      "source": [
        "\n",
        "for row in lsc_locs.iterrows():\n",
        "  vals = row[1]\n",
        "  conspiracy = vals['name']\n",
        "  year = vals['date']\n",
        "  parish = orleans[orleans.geometry.contains(vals['geometry'])]['county'].get_values()[0]\n",
        "  print(\"The \" + conspiracy + \" took place in \" + parish + \" Parish in \" + year + \".\")"
      ],
      "execution_count": 0,
      "outputs": []
    },
    {
      "metadata": {
        "id": "sPCxKPziU5Bg",
        "colab_type": "code",
        "colab": {}
      },
      "cell_type": "code",
      "source": [
        ""
      ],
      "execution_count": 0,
      "outputs": []
    },
    {
      "metadata": {
        "id": "UnghhIX-RV7A",
        "colab_type": "text"
      },
      "cell_type": "markdown",
      "source": [
        "## Going Further\n",
        "\n",
        "### Interactive mapping \n",
        "\n",
        "- try a folium tutorial\n",
        "\n",
        "### More Geopandas Practice\n",
        "\n",
        "- Try this tutorial\n",
        "\n",
        "### For a longer course\n",
        "\n",
        "- Try this datacamp course"
      ]
    },
    {
      "metadata": {
        "id": "aITFsqx3A9-X",
        "colab_type": "text"
      },
      "cell_type": "markdown",
      "source": [
        "# Summary\n",
        "We have just touched the tip of the iceberg here in terms of mapping, manipulating and analyzing geospatial data. I hope this encourages you to check out the GeoPandas in more detail and to continue working with geospatial data in Python or in another software tool. Happy mapping!"
      ]
    },
    {
      "metadata": {
        "id": "zYHomrrYA9-X",
        "colab_type": "text"
      },
      "cell_type": "markdown",
      "source": [
        "---\n",
        "\n",
        "Created by: Patty Frontiera (pattyf [at] berkeley [dot] edu), on 6/5/2018\n",
        "    \n",
        "Last Updated: 11/27/2018"
      ]
    },
    {
      "metadata": {
        "id": "A4uY581zRfik",
        "colab_type": "code",
        "colab": {}
      },
      "cell_type": "code",
      "source": [
        ""
      ],
      "execution_count": 0,
      "outputs": []
    }
  ]
}
