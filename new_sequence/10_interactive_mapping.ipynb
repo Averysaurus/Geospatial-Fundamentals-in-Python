{
 "cells": [
  {
   "cell_type": "markdown",
   "metadata": {},
   "source": [
    "# 10. Interactive Mapping with Folium\n",
    "\n",
    "In previous lessons we  used `Geopandas` and `matplotlib` to create choropleth and point maps of our data. In this notebook we will take it to the next level by creating `interactive maps` with the **folium** library. \n",
    "\n",
    "\n",
    "\n",
    ">### References\n",
    ">\n",
    ">This notebook provides an introduction to `folium`. To see what else you can do, check out the references listed below.\n",
    ">\n",
    "> - [Folium web site](https://github.com/python-visualization/folium)\n",
    ">\n",
    "> - [Folium notebook examples](https://nbviewer.jupyter.org/github/python-visualization/folium/tree/master/examples/)\n",
    "\n",
    "### Import Libraries"
   ]
  },
  {
   "cell_type": "code",
   "execution_count": 1,
   "metadata": {},
   "outputs": [],
   "source": [
    "import pandas as pd\n",
    "import geopandas as gpd\n",
    "\n",
    "import matplotlib # base python plotting library\n",
    "import matplotlib.pyplot as plt # submodule of matplotlib\n",
    "\n",
    "# To display plots, maps, charts etc in the notebook\n",
    "%matplotlib inline  \n",
    "\n",
    "import folium # popular python web mapping tool for creating Leaflet maps\n",
    "import folium.plugins\n",
    "\n",
    "# Supress minor warnings about the syntax of CRS definitions, \n",
    "# ie \"init=epsg:4269\" vs \"epsg:4269\"\n",
    "import warnings\n",
    "warnings.simplefilter(action='ignore', category=FutureWarning)"
   ]
  },
  {
   "cell_type": "markdown",
   "metadata": {},
   "source": [
    "#### Check your version of `folium` and `geopandas`.\n",
    "\n",
    "Folium is a new and evolving Python library so make sure you have version 0.10.1 or later installed."
   ]
  },
  {
   "cell_type": "code",
   "execution_count": 62,
   "metadata": {
    "scrolled": true
   },
   "outputs": [
    {
     "name": "stdout",
     "output_type": "stream",
     "text": [
      "0.11.0\n",
      "0.11.0\n"
     ]
    }
   ],
   "source": [
    "print(folium.__version__) # Make sure you have version 0.10.1 or later of folium!"
   ]
  },
  {
   "cell_type": "code",
   "execution_count": 63,
   "metadata": {},
   "outputs": [
    {
     "name": "stdout",
     "output_type": "stream",
     "text": [
      "0.8.1\n",
      "0.8.1\n"
     ]
    }
   ],
   "source": [
    "print(gpd.__version__) # Make sure you have version 0.7.0 or later of GeoPandas!"
   ]
  },
  {
   "cell_type": "markdown",
   "metadata": {},
   "source": [
    "## 10.1 Introduction\n",
    "\n",
    "Interactive maps serve two very important purposes in geospatial analysis. First, they provde new tools for exploratory data analysis. With an interactive map you can:\n",
    "- `pan` over the mapped data, \n",
    "- `zoom` into a smaller arear that is not easily visible when the full extent of the map is displayed, and \n",
    "- `click` on or `hover` over a feature to see more information about it.\n",
    "\n",
    "Second, when saved and shared, interactive maps provide a new tool for communicating the results of your analysis and for inviting your online audience to actively explore your work.\n",
    "\n",
    "For those of you who work with tools like ArcGIS or QGIS, interactive maps also make working in the jupyter notebook environment a bit more like working in a desktop GIS.\n",
    "\n",
    "The goal of this notebook is to show you how to create an interactive map with your geospatial data so that you can better analyze your data and save your output to share with others. \n",
    "\n",
    "After completing this lesson you will be able to create an interactive map like the one shown below."
   ]
  },
  {
   "cell_type": "code",
   "execution_count": null,
   "metadata": {},
   "outputs": [],
   "source": [
    "# Insert example map"
   ]
  },
  {
   "cell_type": "code",
   "execution_count": null,
   "metadata": {},
   "outputs": [],
   "source": []
  },
  {
   "cell_type": "code",
   "execution_count": null,
   "metadata": {},
   "outputs": [],
   "source": []
  },
  {
   "cell_type": "code",
   "execution_count": null,
   "metadata": {},
   "outputs": [],
   "source": []
  },
  {
   "cell_type": "markdown",
   "metadata": {},
   "source": [
    "#### Extra Challenge\n",
    "\n",
    "Check out the notebook examples and find one to try with the data we have used in this notebook. I recommend the following.\n",
    "\n",
    "- [Mini-maps](https://nbviewer.jupyter.org/github/python-visualization/folium/blob/master/examples/MiniMap.ipynb)\n",
    "- [Dual-map](https://nbviewer.jupyter.org/github/python-visualization/folium/blob/master/examples/plugin-DualMap.ipynb) (choropleth maps two census tract vars)\n",
    "- [Search](https://nbviewer.jupyter.org/github/python-visualization/folium/blob/master/examples/plugin-Search.ipynb) (e.g., for a Bart Station by name)"
   ]
  },
  {
   "cell_type": "markdown",
   "metadata": {},
   "source": [
    "<a id=\"section6\"></a>\n",
    "## 4.6 Recap\n",
    "Here we learned about the wonderful world of `Folium`! We created interactive maps-- whether it be choropleth, points, lines, symbols... we mapped it all. \n",
    "\n",
    "Below you'll find a list of key functionalities we learned:\n",
    "- Interactive mapping\n",
    "\t- `folium.Map()`\n",
    "- Adding a map layer\n",
    "\t- `.add_to()`\n",
    "\t- `folium.Choropleth()`\n",
    "\t\t- `geo_data`\n",
    "\t\t- `columns`\n",
    "\t\t- `fill_color`\n",
    "\t- `folium.GeoJson()`\n",
    "\t\t- `style_function`\n",
    "\t- `folium.Marker()`\n",
    "\t\t- `icon`\n",
    "\t- `folium.CircleMarker()`\n",
    "\t\t- `radius`\n",
    "- Adding a Tooltip\n",
    "\t- `folium.GeoJsonTooltip`\n",
    "\t- `folium.features.GeoJsonTooltip`\n",
    "- Adding layer control\n",
    "\t- `folium.LayerControl()`"
   ]
  },
  {
   "cell_type": "markdown",
   "metadata": {},
   "source": [
    "## Important note\n",
    "\n",
    "The folium library changes often so I recommend you update your package frequently. This will give you increased functionality and may make future code easier to write. However, it might cause your existing code to break."
   ]
  },
  {
   "cell_type": "markdown",
   "metadata": {},
   "source": [
    "---\n",
    "<div style=\"display:inline-block;vertical-align:middle;\">\n",
    "<a href=\"https://dlab.berkeley.edu/\" target=\"_blank\"><img src =\"../assets/images/dlab_logo.png\" width=\"75\" align=\"left\">\n",
    "</a>\n",
    "</div>\n",
    "\n",
    "<div style=\"display:inline-block;vertical-align:middle;\">\n",
    "    <div style=\"font-size:larger\">&nbsp;D-Lab @ University of California - Berkeley</div>\n",
    "    <div>&nbsp;Team Geo<div>\n",
    "</div>\n",
    "        \n",
    "\n",
    "\n",
    "\n"
   ]
  }
 ],
 "metadata": {
  "kernelspec": {
   "display_name": "Python 3",
   "language": "python",
   "name": "python3"
  },
  "language_info": {
   "codemirror_mode": {
    "name": "ipython",
    "version": 3
   },
   "file_extension": ".py",
   "mimetype": "text/x-python",
   "name": "python",
   "nbconvert_exporter": "python",
   "pygments_lexer": "ipython3",
   "version": "3.8.3"
  }
 },
 "nbformat": 4,
 "nbformat_minor": 4
}
