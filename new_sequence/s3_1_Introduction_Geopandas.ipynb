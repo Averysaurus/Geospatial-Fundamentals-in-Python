{
 "cells": [
  {
   "cell_type": "markdown",
   "metadata": {},
   "source": [
    "# 1. Introduction to GeoPandas\n",
    "\n",
    "Welcome back! We're diving into using a popular Python package, `GeoPandas`, so we can start looking at our data spatially! In this notebook we'll be covering the following topics:\n",
    "\n",
    "- [1.1 Introduction](#section1)\n",
    "    - GeoPandas and Geospatial Data in Python\n",
    "- [1.2 Data Preparation](#section2)\n",
    "    - Reading in and writing out data as csv\n",
    "    - Preprocessing the ACS 5 year data\n",
    "- [1.3 Mapping Census Tracts](#section3)\n",
    "    - Learning about census tracts data\n",
    "    - Reading in shapefiles with Geopandas\n",
    "    - Exploring a GeoDataFrame\n",
    "    - Mapping geospatial data stored in a GeoDataFrame\n",
    "- [1.4 Spatial Subsetting](#section4)\n",
    "    - Subsetting by bounding box coordinates\n",
    "- [1.5 Attribute Joins](#section5)\n",
    "    - Joining a pandas DataFrame to a GeoPandas GeoDataFrame\n",
    "- [1.6 Data Driven Mapping](#section6)\n",
    "    - Types of thematic mapping\n",
    "    - Reading in and writing out spatial data in different file formats (e.g., shapefile, csv, geojson)\n",
    "- [1.7 Coordinate Reference Systems (CRS)](#section7)\n",
    "    - Handling CRS in GeoPandas (i.e., getting, setting, transforming)\n",
    "    - Spatial measurement calculations (area, length)\n",
    "- [1.8 Recap](#section8)\n",
    "- [1.9 Homework](#section9)\n",
    "- [1.10 References](#section10)\n",
    "    \n",
    "\n",
    "\n",
    "\n",
    "**INSTRUCTOR NOTES**:\n",
    "- Datasets used:\n",
    "    - \"../notebook_data/census/ACS5yr/census_variables_CA.csv\"\n",
    "    - \"../notebook_data/census/Tracts/cb_2018_06_tract_500k.zip\"\n",
    "\n",
    "\n",
    "- Expected time to complete:\n",
    "    - Lecture + Questions: 1.5 hours\n",
    "    - Homework: 40 minutes\n",
    "    \n",
    "---\n"
   ]
  },
  {
   "cell_type": "markdown",
   "metadata": {},
   "source": [
    "<a id=\"section1\"></a>\n",
    "## 1.1 Introduction"
   ]
  },
  {
   "cell_type": "markdown",
   "metadata": {},
   "source": [
    "The goal of this notebook is to give you a **tip of the iceberg introduction** to working with geospatial data in Python using the **GeoPandas** package.  \n",
    "\n",
    "> #### Assumptions\n",
    "> This lesson assumes you have basic working knowledge of Python and of geospatial data. If you need a geospatial refresher, we refer you to these freely available online resources:\n",
    "> - The Open Textbook Library: [Essentials of Geographic Information Systems by Jonathan E. Campbell and Michael Shin](http://open.umn.edu/opentextbooks/BookDetail.aspx?bookId=67)\n",
    "> - The Open Textbook Library: [Nature of Geographic Information Systems by David DiBiase](http://open.umn.edu/opentextbooks/BookDetail.aspx?bookId=428) from Esri.\n",
    "> - Online Gitbook: [Intro to GIS and Spatial Analysis by Manuel Gimond](https://mgimond.github.io/Spatial/index.html)\n",
    "\n",
    "\n",
    "#### Terminology\n",
    "\n",
    "Just so we are on the same page..\n",
    "\n",
    "- `Geographic data` is data about locations on or near the surface of the Earth.\n",
    "\n",
    "- `Geospatial data`  is geographic data that can be explictly located on the surface of the Earth because it contains coordinates like latitude and longitude.\n",
    "\n",
    "- `Spatial data` is a more generic term that includes geospatial data as well as other kinds of spatial data.\n",
    " \n",
    " \n",
    "### GeoPandas and related Geospatial Packages\n",
    "\n",
    "[GeoPandas](http://geopandas.org/) is a relatively new package that makes it easier to work with geospatial data in Python. In the last few years it has grown more powerful and stable. This really is great because previously it was quite complex to work with geospatial data in Python. GeoPandas is now the go to package for working with `vector` geospatial data in Python. \n",
    "\n",
    "> **Pro-tip**: If you work with `raster` data you will want to checkout the [rasterio](https://rasterio.readthedocs.io/en/latest/) package. We will not cover raster data in this tutorial.\n",
    "\n",
    "### GeoPandas = pandas + geo\n",
    "GeoPandas gives you access to all of the functionality of [pandas](https://pandas.pydata.org/), which is the primary data analysis tool for working with tabular data in Python. GeoPandas extends pandas with attributes and methods for working with geospatial data.\n"
   ]
  },
  {
   "cell_type": "markdown",
   "metadata": {},
   "source": [
    "### Import Libraries\n",
    "\n",
    "Let's start by importing the libraries that we will use."
   ]
  },
  {
   "cell_type": "code",
   "execution_count": null,
   "metadata": {},
   "outputs": [],
   "source": [
    "import pandas as pd\n",
    "import geopandas as gpd\n",
    "\n",
    "import matplotlib # base python plotting library\n",
    "import matplotlib.pyplot as plt # submodule of matplotlib\n",
    "\n",
    "# To display plots, maps, charts etc in the notebook\n",
    "%matplotlib inline  \n"
   ]
  },
  {
   "cell_type": "markdown",
   "metadata": {},
   "source": [
    "<a id=\"section2\"></a>\n",
    "## 1.2 Data preparation\n",
    "\n",
    "In this lesson we will use ACS and census tract data to demonstrate how to work GeoPandas. Data for Alameda County as our primary example."
   ]
  },
  {
   "cell_type": "markdown",
   "metadata": {},
   "source": [
    "\n",
    "<img src =\"https://upload.wikimedia.org/wikipedia/commons/thumb/9/95/CampanileMtTamalpiasSunset-original.jpg/1280px-CampanileMtTamalpiasSunset-original.jpg\" height=\"100\" width=\"400\"> \n",
    "        "
   ]
  },
  {
   "cell_type": "markdown",
   "metadata": {},
   "source": [
    "As you are probably aware, Berkeley (and of course the University) are located in Alameda County. "
   ]
  },
  {
   "cell_type": "markdown",
   "metadata": {},
   "source": [
    "### American Community Survey 5 Year Data (or ACS5)\n",
    "\n",
    "To get started, let's read the ACS 5 year data for California tracts into a `dataframe` using the  `pandas read_csv` method. \n",
    "\n",
    "As we read in the ACS data we will tell pandas to make sure that the data in the column `FIPS_11_digit` is read in as a string to preserve leading zeros in the census tract identifiers."
   ]
  },
  {
   "cell_type": "code",
   "execution_count": null,
   "metadata": {},
   "outputs": [],
   "source": [
    "# Read in the ACS5 data for CA into a pandas DataFrame.\n",
    "# Note: We force the FIPS_11_digit to be read in as a string to preserve any leading zeroes.\n",
    "acs5data_df = pd.read_csv(\"../notebook_data/census/ACS5yr/census_variables_CA.csv\", dtype={'FIPS_11_digit':str})"
   ]
  },
  {
   "cell_type": "markdown",
   "metadata": {},
   "source": [
    "Pandas provides a number of methods to view information about a dataframe."
   ]
  },
  {
   "cell_type": "markdown",
   "metadata": {},
   "source": [
    "The pandas dataframe attribute `shape` tells us the number of rows and columns in the dataframe."
   ]
  },
  {
   "cell_type": "code",
   "execution_count": null,
   "metadata": {},
   "outputs": [],
   "source": [
    "# Take a look at the shape of the dataframe\n",
    "acs5data_df.shape"
   ]
  },
  {
   "cell_type": "markdown",
   "metadata": {},
   "source": [
    "Each row in our dataframe is an observation. For the ACS5 data each observation is about a census tract.\n",
    "\n",
    "Each column in our dataframe is a variable for that observation."
   ]
  },
  {
   "cell_type": "markdown",
   "metadata": {},
   "source": [
    "Let's use `head` to take a look at the first 5 rows in the dataframe."
   ]
  },
  {
   "cell_type": "code",
   "execution_count": null,
   "metadata": {
    "scrolled": true
   },
   "outputs": [],
   "source": [
    "# Take a look at the data\n",
    "acs5data_df.head()"
   ]
  },
  {
   "cell_type": "markdown",
   "metadata": {},
   "source": [
    "A `...` in the middle of the top row indicates that there are two many columns to display.\n",
    "\n",
    "The pandas dataframe `columns` attribute returns a list of the column names."
   ]
  },
  {
   "cell_type": "code",
   "execution_count": null,
   "metadata": {},
   "outputs": [],
   "source": [
    "acs5data_df.columns"
   ]
  },
  {
   "cell_type": "markdown",
   "metadata": {},
   "source": [
    "We can see more information about the variables included in our ACS5 year data using the `info` method. This method tells us at a glance what variables (or columns) are included in the data, the data type of each variable, and which variables have values for all rows."
   ]
  },
  {
   "cell_type": "code",
   "execution_count": null,
   "metadata": {},
   "outputs": [],
   "source": [
    "acs5data_df.info()"
   ]
  },
  {
   "cell_type": "markdown",
   "metadata": {},
   "source": [
    "### Brief review of the ACS data"
   ]
  },
  {
   "cell_type": "markdown",
   "metadata": {},
   "source": [
    "These variables were combined from different ACS 5 year tables. We have information for the following:\n",
    "\n",
    "- `c_race` - Total population\n",
    "- `c_white` - Total white non-Latinx\n",
    "- `c_black` - Total black and African American non-Latinx\n",
    "- `c_asian` - Total Asian non-Latinx\n",
    "- `c_latinx` - Total Latinx\n",
    "- `state_fips` - State level FIPS code\n",
    "- `county_fips` - County level FIPS code\n",
    "- `tract_fips` - Tracts level FIPS code\n",
    "- `med_rent` - Median rent\n",
    "- `med_hhinc` - Median household income\n",
    "- `c_tenants` - Total tenants\n",
    "- `c_owners` - Total owners\n",
    "- `c_renters` - Total renters\n",
    "- `c_movers` - Total number of people who moved\n",
    "- `c_stay` - Total number of people who stayed\n",
    "- `c_movelocal` - Number of people who moved locally\n",
    "- `c_movecounty` - Number of people who moved counties\n",
    "- `c_movestate` - Number of people who moved states\n",
    "- `c_moveabroad` - Number of people who moved abroad\n",
    "- `c_commute` - Total number of commuters\n",
    "- `c_car` - Number of commuters who use a car\n",
    "- `c_carpool` - Number of commuters who carpool\n",
    "- `c_transit` - Number of commuters who use public transit\n",
    "- `c_bike` - Number of commuters who bike\n",
    "- `c_walk` - Number of commuters who bike\n",
    "- `year` - ACS data year\n",
    "- `FIPS_11_digit` - 11-digit FIPS code\n",
    "\n",
    "The ACS variables that start with `c_` are counts, those that start with `med_` are medians.  Variables that end in `_moe` denote margin of error. There are also a number of derived variables that start with `p_`. These are proportions calcuated from the counts divided by the table denominator (the total count for whom that variable was assessed)."
   ]
  },
  {
   "cell_type": "markdown",
   "metadata": {},
   "source": [
    "We're going to drop all of our `moe` columns by identifying all of those that end with `_moe`. We can do that in two steps, first by using `filter` to identify columns that contain the string `_moe`."
   ]
  },
  {
   "cell_type": "code",
   "execution_count": null,
   "metadata": {},
   "outputs": [],
   "source": [
    "moe_cols = acs5data_df.filter(like='_moe',axis=1).columns\n",
    "moe_cols"
   ]
  },
  {
   "cell_type": "markdown",
   "metadata": {},
   "source": [
    "Note how we set the filter `like=` to a value that matches the pattern of the names of the columns we want to drop. You need to make sure you get all but only the columns that you want to drop.\n",
    "\n",
    "<div style=\"display:inline-block;vertical-align:top;\">\n",
    "    <img src=\"http://www.pngall.com/wp-content/uploads/2016/03/Light-Bulb-Free-PNG-Image.png\" width=\"30\" align=left > \n",
    "</div>  \n",
    "<div style=\"display:inline-block;\">\n",
    "\n",
    "#### Question\n",
    "</div>\n",
    "\n",
    "What do you think happens if you match `_mo` instead of `_moe` in the filter?"
   ]
  },
  {
   "cell_type": "markdown",
   "metadata": {},
   "source": [
    "Now that we've got our list of moe columns, we can use `.drop()` to remove them from the dataframe. "
   ]
  },
  {
   "cell_type": "code",
   "execution_count": null,
   "metadata": {},
   "outputs": [],
   "source": [
    "# Drop MOE columns\n",
    "acs5data_df.drop(moe_cols, axis=1, inplace=True)"
   ]
  },
  {
   "cell_type": "markdown",
   "metadata": {},
   "source": [
    "Check that you no longer have the moe columns in the dataframe."
   ]
  },
  {
   "cell_type": "code",
   "execution_count": null,
   "metadata": {},
   "outputs": [],
   "source": [
    "acs5data_df.columns"
   ]
  },
  {
   "cell_type": "markdown",
   "metadata": {},
   "source": [
    "### Select data for our county and year of interest\n",
    "\n",
    "Our ACS5 data contains observations for all CA counties and two ACS 5 year periods.\n",
    "\n",
    "The counties are identified by a unique Census FIPS code. \n",
    "- You can see the list of all CA Counties and their FIPS codes [here](https://en.wikipedia.org/wiki/List_of_counties_in_California).\n",
    "\n",
    "Let's use the `.unique` to check the unique set of county FIPS codes included in our dataframe."
   ]
  },
  {
   "cell_type": "code",
   "execution_count": null,
   "metadata": {},
   "outputs": [],
   "source": [
    "acs5data_df['county_fips'].unique()  #what counties are in our dataframe"
   ]
  },
  {
   "cell_type": "markdown",
   "metadata": {},
   "source": [
    "Now use `.unique` to see what years are included."
   ]
  },
  {
   "cell_type": "code",
   "execution_count": null,
   "metadata": {
    "scrolled": true
   },
   "outputs": [],
   "source": [
    "acs5data_df['year'].unique()"
   ]
  },
  {
   "cell_type": "markdown",
   "metadata": {},
   "source": [
    "We are interested in Alameda County, which has the FIPS code `001`.  Moreover, we are only interested in the 2018 ACS 5 year data.  Let's filter the data to keep only the rows that match these two conditions.\n"
   ]
  },
  {
   "cell_type": "code",
   "execution_count": null,
   "metadata": {},
   "outputs": [],
   "source": [
    "acs5data_df_ac = acs5data_df[(acs5data_df['year']==2018) & (acs5data_df['county_fips']==1)]"
   ]
  },
  {
   "cell_type": "markdown",
   "metadata": {},
   "source": [
    "<div style=\"display:inline-block;vertical-align:top;\">\n",
    "    <img src=\"http://www.pngall.com/wp-content/uploads/2016/03/Light-Bulb-Free-PNG-Image.png\" width=\"30\" align=left > \n",
    "</div>  \n",
    "<div style=\"display:inline-block;\">\n",
    "\n",
    "#### Question\n",
    "</div>\n",
    "\n",
    "Why do we filter on `county_fips==1` instead of `county_fips==001` or `county_fips=='001'`?"
   ]
  },
  {
   "cell_type": "code",
   "execution_count": null,
   "metadata": {},
   "outputs": [],
   "source": [
    "# Write your thoughts here"
   ]
  },
  {
   "cell_type": "markdown",
   "metadata": {},
   "source": [
    "Now, check the contents of our dataframe again."
   ]
  },
  {
   "cell_type": "code",
   "execution_count": null,
   "metadata": {},
   "outputs": [],
   "source": [
    "# now what is the shape of the data when filtered for Alameda County?\n",
    "print(acs5data_df_ac.shape)"
   ]
  },
  {
   "cell_type": "code",
   "execution_count": null,
   "metadata": {},
   "outputs": [],
   "source": [
    "# Take a look at the first 5 rows\n",
    "acs5data_df_ac.head()"
   ]
  },
  {
   "cell_type": "markdown",
   "metadata": {},
   "source": [
    ">**Pro-tip:** Checking your row and column counts and values often with `.shape` and values with `.head` help to make sure that these values are consistent with your understanding of the data."
   ]
  },
  {
   "cell_type": "markdown",
   "metadata": {},
   "source": [
    "### Saving our output"
   ]
  },
  {
   "cell_type": "markdown",
   "metadata": {},
   "source": [
    "It's a good idea to save your data if you have done any major processing on it. Let's save our Alameda County sub-setted ACS5 data to a CSV file."
   ]
  },
  {
   "cell_type": "code",
   "execution_count": null,
   "metadata": {},
   "outputs": [],
   "source": [
    "# Save processed data to a csv file - give it a name that is meaningful\n",
    "acs5data_df_ac.to_csv('../outdata/acs5data_2018_AC.csv')"
   ]
  },
  {
   "cell_type": "markdown",
   "metadata": {},
   "source": [
    "Confirm that the file was saved with a [shell command](https://jakevdp.github.io/PythonDataScienceHandbook/01.05-ipython-and-shell-commands.html#Shell-Commands-in-IPython).  Shell commands are prefaced by a `!` and allow you to access the file system and run commands like you would from a terminal window. (This may differ if you are on a windows computer)"
   ]
  },
  {
   "cell_type": "code",
   "execution_count": null,
   "metadata": {},
   "outputs": [],
   "source": [
    "!ls ../outdata"
   ]
  },
  {
   "cell_type": "markdown",
   "metadata": {},
   "source": [
    "#### Exercise\n",
    "\n",
    "Now do this for the SF ACS data:\n",
    "1. Find the FIPS code for [SF county](https://en.wikipedia.org/wiki/List_of_counties_in_California)\n",
    "2. Subset the ACS data to keep only rows for SF county in 2018 and assign to `acs5data_df_sf`\n",
    "3. Save out ACS data as `acs5data_2018_SF.csv`\n",
    "\n",
    "\n"
   ]
  },
  {
   "cell_type": "code",
   "execution_count": null,
   "metadata": {},
   "outputs": [],
   "source": [
    "# Your code here"
   ]
  },
  {
   "cell_type": "markdown",
   "metadata": {},
   "source": [
    "\n",
    "*Click here for solution*\n",
    "\n",
    "<!--- \n",
    "    # SOLUTION\n",
    "    # 1 & 2 Subset ACS data for SF\n",
    "    acs5data_df_sf = acs5data_df[(acs5data_df['county_fips']==75) & (acs5data_df.year==2018)]\n",
    "\n",
    "    # SOLUTION\n",
    "    acs5data_df_sf.head()\n",
    "\n",
    "    # SOLUTION\n",
    "    # 3. Save out ACS data as 'acs5data_2018_SF.csv'\n",
    "    acs5data_df_sf.to_csv('../outdata/acs5data_2018_SF.csv')\n",
    "--->"
   ]
  },
  {
   "cell_type": "markdown",
   "metadata": {},
   "source": [
    "<a id=\"section3\"></a>\n",
    "## 1.3 Mapping the ACS Data\n",
    "\n",
    "In order to map the ACS data it needs to be geospatial data. Since the data are aggregated to census tracts, we will join the ACS data with the census tract geographic data for our county."
   ]
  },
  {
   "cell_type": "markdown",
   "metadata": {},
   "source": [
    "### About Census Geographic Data:\n",
    "\n",
    "There are two main types of census geographic data products: \n",
    "- TIGER/Line Files \n",
    "  - contain detailed geometry, big files\n",
    "  - not pretty for mapping\n",
    "  - good for spatial analysis\n",
    "  - have a `tl` (as in `T`IGER/`L`ine) in the filename when downloaded from Census web or FTP site.\n",
    "    - e.g., tl_2018_06_tract.zip\n",
    "    \n",
    "  \n",
    "- [Cartographic Boundary files](https://www.census.gov/programs-surveys/geography/technical-documentation/naming-convention/cartographic-boundary-file.html): \n",
    "  - smaller file sizes, \n",
    "  - made specifically for mapping,\n",
    "  - have a `cb` in the file name when downloaded from Census web or FTP site\n",
    "      - e.g., cb_2018_06_tract_500k.zip\n",
    "  - have a mapping resolution at the end of the file name, \n",
    "    - eg `_500k` files look best around 1:500K map scale\n",
    "  \n",
    "### Several ways to obtain Census Geographic data\n",
    "\n",
    "1. Fetch via API - although not all years may be available.\n",
    "2. Download from Census website or FTP site\n",
    "3. Download from another website like [NHGIS.org](https://nhgis.org)\n",
    "\n",
    "### What files should you download?\n",
    "\n",
    "Census tract geographic data files are updated frequently to improve the quality of the spatial data, but the most significant updates happen for all census geographies just before the decennial census.\n",
    "\n",
    "When mapping or spatially analyzing ACS 5 year data, download the geographic files with the same year as the end date as the ACS5 year data you are analyzing.\n",
    "\n",
    "For example, we can use the following URLs to download 2013 and 2018 census tracts for California.\n",
    "\n",
    "- Cartographic Boundary File for CA Census Tracts, 2013: [https://www2.census.gov/geo/tiger/GENZ2013/cb_2013_06_tract_500k.zip](https://www2.census.gov/geo/tiger/GENZ2013/cb_2013_06_tract_500k.zip)\n",
    "  - suitable for mapping ACS 5 year 2009 - 2013 data: \n",
    "\n",
    "\n",
    "- Cartographic Boundary File for CA Census Tracts, 2018: [https://www2.census.gov/geo/tiger/GENZ2018/shp/cb_2018_06_tract_500k.zip](https://www2.census.gov/geo/tiger/GENZ2018/shp/cb_2018_06_tract_500k.zip)\n",
    "  - suitable for mapping ACS 5 year 2014 - 2018 data: \n"
   ]
  },
  {
   "cell_type": "markdown",
   "metadata": {},
   "source": [
    "#### ESRI Shapefiles\n",
    "\n",
    "These census tract files are made available in the [ESRI Shapefile](https://en.wikipedia.org/wiki/Shapefile) format, along with other formats.\n",
    "\n",
    "An ESRI Shapefile is actually a collection of 3 to 9+ files that together are called a shapefile. Although this is a old file format with numerous limitations, it remains the most commonly used file format for vector spatial data. \n"
   ]
  },
  {
   "cell_type": "markdown",
   "metadata": {},
   "source": [
    "### Census tract data\n",
    "\n",
    "We are ready to read in the census tract data for CA using the Geopandas `read_file` function.\n",
    "\n",
    "- Specifially, we will read in the `2018 cartographic boundary files` for CA census tracts. "
   ]
  },
  {
   "cell_type": "code",
   "execution_count": null,
   "metadata": {},
   "outputs": [],
   "source": [
    "# Import CA census tracts data\n",
    "tracts_gdf = gpd.read_file(\"zip://../notebook_data/census/Tracts/cb_2018_06_tract_500k.zip\")"
   ]
  },
  {
   "cell_type": "markdown",
   "metadata": {},
   "source": [
    "And take a look..."
   ]
  },
  {
   "cell_type": "code",
   "execution_count": null,
   "metadata": {},
   "outputs": [],
   "source": [
    "tracts_gdf.head(2)"
   ]
  },
  {
   "cell_type": "markdown",
   "metadata": {},
   "source": [
    "### The GeoPandas GeoDataFrame\n",
    "\n",
    "A [GeoPandas GeoDataFrame](https://geopandas.org/data_structures.html#geodataframe), or `gdf` for short, is just like a pandas dataframe (`df`) but with an extra geometry column and methods & attributes that work on that column. I repeat because it's important:\n",
    "\n",
    "> `A GeoPandas GeoDataFrame is a pandas DataFrame with a geometry column and methods & attributes that work on that column.`\n",
    "\n",
    "> This means all the methods and attributes of a pandas DataFrame also work on a Geopandas GeoDataFrame!!\n"
   ]
  },
  {
   "cell_type": "markdown",
   "metadata": {},
   "source": [
    "How cool is that to see the geometry! Desktop GIS software like `QGIS` and `ArcGIS` hide the geometry from the user. Not so with GeoPandas. \n",
    "\n",
    "### Geopandas Geometries\n",
    "There are main types of geometries that can be associated with your geodataframe: points, lines and polygons:\n",
    "\n",
    "<img src =\"https://datacarpentry.org/organization-geospatial/fig/dc-spatial-vector/pnt_line_poly.png\" width=\"450\"></img>\n",
    "\n",
    "In the geodataframe these geometries are encoded in a format known as [Well-Known Text (WKT)](https://en.wikipedia.org/wiki/Well-known_text_representation_of_geometry). For example:\n",
    "\n",
    "> - POINT (30 10)\n",
    "> - LINESTRING (30 10, 10 30, 40 40)\n",
    "> - POLYGON ((30 10, 40 40, 20 40, 10 20, 30 10))\n",
    ">\n",
    "> *where coordinates are separated by a space and coordinate pairs by a comma*\n",
    "\n",
    "Your geodataframe may also include the variants **multipoints, multilines and multipolgyons** if the row-level feature of interest is comprised of multiple parts. For example, a geodataframe of states, where one row represents one state, would have POLYGON geometry for Utah but MULTIPOLYGON for Rhode Island, which includes many small islands.\n",
    "\n",
    "> It's ok to mix and match geometries of the same family, e.g., POLYGON and MULTIPOLYGON, in the same geodatafame.\n",
    "\n",
    "You can check the types of geometries in a geodataframe or a subset of the geodataframe by combining the `type` and `unique` methods.\n"
   ]
  },
  {
   "cell_type": "code",
   "execution_count": null,
   "metadata": {},
   "outputs": [],
   "source": [
    "tracts_gdf['geometry'].type.unique()"
   ]
  },
  {
   "cell_type": "markdown",
   "metadata": {},
   "source": [
    "### Plotting a Geodataframe\n",
    "Let's now go ahead and use the GeoPandas gdf `plot` method to map all of our tracts."
   ]
  },
  {
   "cell_type": "code",
   "execution_count": null,
   "metadata": {},
   "outputs": [],
   "source": [
    "# Plot the gdf\n",
    "tracts_gdf.plot()"
   ]
  },
  {
   "cell_type": "markdown",
   "metadata": {},
   "source": [
    "> ### Wow! How cool is that?"
   ]
  },
  {
   "cell_type": "markdown",
   "metadata": {},
   "source": [
    "### Select Census Tracts for Alameda County\n",
    "\n",
    "We want to subset the tracts to get the data for Alameda county. In order to do this, let's first check what variables we have and what the data looks like."
   ]
  },
  {
   "cell_type": "code",
   "execution_count": null,
   "metadata": {},
   "outputs": [],
   "source": [
    "tracts_gdf.head(3)"
   ]
  },
  {
   "cell_type": "code",
   "execution_count": null,
   "metadata": {},
   "outputs": [],
   "source": [
    "tracts_gdf.columns"
   ]
  },
  {
   "cell_type": "markdown",
   "metadata": {},
   "source": [
    "Here's what each variable means:\n",
    "- `STATEFP`: State FIPS code \n",
    "- `COUNTYFP`: County FIPS code\n",
    "- `TRACTCE`: Census tract code\n",
    "- `AFFGEOID`: Summary level code + geovariant code + '00US' + GEOID\n",
    "- `GEOID`:  Census tract identifier; a concatenation of Current state FIPS code, county FIPS code, and census tract code\n",
    "- `NAME`:  Census tract name\n",
    "- `LSAD`:  Legal/statistical description with the census tract name\n",
    "- `ALAND`: Area that is land, in square meters\n",
    "- `AWATER`:  Area that is water, in square meters\n",
    "- `geometry`: Geometry of tract"
   ]
  },
  {
   "cell_type": "markdown",
   "metadata": {},
   "source": [
    "Let's take a closer look at the county identifiers."
   ]
  },
  {
   "cell_type": "code",
   "execution_count": null,
   "metadata": {},
   "outputs": [],
   "source": [
    "# Are the county codes\n",
    "tracts_gdf['COUNTYFP'].unique()"
   ]
  },
  {
   "cell_type": "markdown",
   "metadata": {},
   "source": [
    "Since the county code for Alameda County is `001`, let's subset our data using that knowledge so we can focus on our area of interest."
   ]
  },
  {
   "cell_type": "code",
   "execution_count": null,
   "metadata": {
    "scrolled": true
   },
   "outputs": [],
   "source": [
    "tracts_gdf_ac = tracts_gdf[tracts_gdf['COUNTYFP']=='001']\n",
    "tracts_gdf_ac.plot()\n",
    "plt.show()"
   ]
  },
  {
   "cell_type": "markdown",
   "metadata": {},
   "source": [
    "Nice! Looks like we have what we were looking for.\n",
    "\n",
    "*FYI*: You can also make dynamic plots of one or more county without saving to a new gdf."
   ]
  },
  {
   "cell_type": "code",
   "execution_count": null,
   "metadata": {},
   "outputs": [],
   "source": [
    "# Dynamic plot of the census tracts for the 10 County Bay Area\n",
    "# Alameda, Contra Costa, Marin, Napa, San Francisco, San Mateo, Santa Clara, Santa Cruz, Solano, Sonoma\n",
    "tracts_gdf[tracts_gdf['COUNTYFP'].isin(['001','013','041','055','075','081', '085','087','095','097'])].plot()"
   ]
  },
  {
   "cell_type": "markdown",
   "metadata": {},
   "source": [
    "<img src =\"https://i.ytimg.com/vi/C9J1p6kO9VA/maxresdefault.jpg\" height=\"200\" width=\"800\">\n",
    "\n",
    "\n",
    "#### Exercise\n",
    "\n",
    "Now do this for the SF tracts data:\n",
    "1. Subset to SF county, assign to `tracts_gdf_sf`\n",
    "2. Plot the tracts \n",
    "3. <img src=\"http://www.pngall.com/wp-content/uploads/2016/03/Light-Bulb-Free-PNG-Image.png\" width=\"20\" align=left >  Answer this question: What's weird about our plot?"
   ]
  },
  {
   "cell_type": "code",
   "execution_count": null,
   "metadata": {},
   "outputs": [],
   "source": [
    "# Your code here"
   ]
  },
  {
   "cell_type": "markdown",
   "metadata": {},
   "source": [
    "*Click here for solution*\n",
    "\n",
    "<!--- \n",
    "    # SOLUTION\n",
    "    # 1. Subset to SF county, assign to `tracts_gdf_sf'\n",
    "    tracts_gdf_sf = tracts_gdf[tracts_gdf['COUNTYFP']=='075']\n",
    "    # 2. Plot\n",
    "    tracts_gdf_sf.plot()\n",
    "    plt.show()\n",
    "\n",
    "    # 3. Answer this question: What's weird about our plot?\n",
    "--->"
   ]
  },
  {
   "cell_type": "markdown",
   "metadata": {},
   "source": [
    "<img src =\"https://s.hdnux.com/photos/61/50/04/13009196/3/920x920.jpg\" height=\"400\" width=\"400\">\n",
    "\n",
    "Our SF tract map seems off because it includes the [Farallon Islands](https://en.wikipedia.org/wiki/Farallon_Islands). These are not inhabitated (so population=0)!"
   ]
  },
  {
   "cell_type": "code",
   "execution_count": null,
   "metadata": {},
   "outputs": [],
   "source": [
    "# 1. Subset to SF county, assign to `tracts_gdf_sf'\n",
    "tracts_gdf_sf = tracts_gdf[tracts_gdf['COUNTYFP']=='075']\n",
    "\n",
    "# 2. Plot\n",
    "tracts_gdf_sf.plot()\n"
   ]
  },
  {
   "cell_type": "markdown",
   "metadata": {},
   "source": [
    "Take a look at the gdf with `head` to see if we have a column to use to filter out the Farrallon Islands."
   ]
  },
  {
   "cell_type": "code",
   "execution_count": null,
   "metadata": {},
   "outputs": [],
   "source": [
    "tracts_gdf_sf.head(2)"
   ]
  },
  {
   "cell_type": "markdown",
   "metadata": {},
   "source": [
    "Once we combine our tract data with the ACS data we can subset the data based on population greater than zero. \n",
    "\n",
    "But, with just the census tract columns, what could we use to subset the data to remove those tracts?"
   ]
  },
  {
   "cell_type": "markdown",
   "metadata": {},
   "source": [
    "<a id=\"section4\"></a>\n",
    "## 1.4 Spatial Subsetting\n",
    "\n",
    "We could filter the Farallon Islands out if we knew their census tract geographic identifier, or `GEOID`.\n",
    "\n",
    "Geopandas offers another way. We can use the values in the `geometry` column to `spatially subset` our data.\n",
    "\n",
    "One way to do this with the geodataframe [cx](https://geopandas.org/indexing.html) method which spatially selects rows whose geometry intersects a specified bounding box."
   ]
  },
  {
   "cell_type": "code",
   "execution_count": null,
   "metadata": {},
   "outputs": [],
   "source": [
    "# Uncomment to view help docs\n",
    "#tracts_gdf_sf.cx?"
   ]
  },
  {
   "cell_type": "markdown",
   "metadata": {},
   "source": [
    "For the `cx` method we need to specify the bounding coordinates as follows:\n",
    "<pre>\n",
    "tracts_gdf_sf.cx[xmin:xmax, ymin:ymax]\n",
    "</pre>\n",
    "We can define a bounding box around the city of San Francisco to select only those census tracts.\n",
    "- You can find the coordinates for this bounding box by making a quick plot of the gdf."
   ]
  },
  {
   "cell_type": "code",
   "execution_count": null,
   "metadata": {},
   "outputs": [],
   "source": [
    "tracts_gdf_sf.plot()"
   ]
  },
  {
   "cell_type": "markdown",
   "metadata": {},
   "source": [
    "The coordinate bounds of the data are shown on the map X and Y axes.\n",
    "- The ymin (south) and ymax (north) coordinates look good, as does the xmax (east) coordinate. \n",
    "\n",
    "- The xmin (west) coordinate needs to be adjusted. \n",
    "\n",
    "You can try a few values before you spatially subset the data."
   ]
  },
  {
   "cell_type": "code",
   "execution_count": null,
   "metadata": {},
   "outputs": [],
   "source": [
    "tracts_gdf_sf.cx[-122.45:-122.35, 37.65:37.85].plot()"
   ]
  },
  {
   "cell_type": "markdown",
   "metadata": {},
   "source": [
    "That's not great. But what does it tell you about how `cx` works?\n",
    "\n",
    "Try this.."
   ]
  },
  {
   "cell_type": "code",
   "execution_count": null,
   "metadata": {},
   "outputs": [],
   "source": [
    "tracts_gdf_sf.cx[-122.8:-122.35, 37.65:37.85].plot()"
   ]
  },
  {
   "cell_type": "markdown",
   "metadata": {},
   "source": [
    "That looks good. When you are ready to subset, you can overwrite the input dataset.\n",
    "- If you make a mistake, that's ok. Just rerun the previous code to get the SF census tract data.\n",
    "\n",
    "When you are ready to save the clip..."
   ]
  },
  {
   "cell_type": "code",
   "execution_count": null,
   "metadata": {},
   "outputs": [],
   "source": [
    "tracts_gdf_sf= tracts_gdf_sf.cx[-122.8:-122.35, 37.65:37.85].copy().reset_index(drop=True)"
   ]
  },
  {
   "cell_type": "code",
   "execution_count": null,
   "metadata": {},
   "outputs": [],
   "source": [
    "# Take a look\n",
    "tracts_gdf_sf.plot()\n",
    "plt.show()"
   ]
  },
  {
   "cell_type": "markdown",
   "metadata": {},
   "source": [
    "Beautiful! Now our SF county tract and ACS data are ready too.\n",
    "\n",
    "<a id=\"section5\"></a>\n",
    "## 1.5 Attribute Joins  between Geodataframes and  Dataframes\n",
    "\n",
    "We just mapped the census tracts. But what makes a map powerful is when you map the data associated with the locations.\n",
    "\n",
    "In order to map the ACS data we need to associate it with the tracts. We have polygon data in the `tracts_gdf_ac` geodataframe but no attributes of interest.\n",
    "\n",
    "In a separate file we have our ACS 5-year data for 2018 `census_variables_CA.csv` that we just imported and read in as a `pandas` dataframe. We're now going to join the columns from that data to the `tracts_gdf_ac` with a common key. This process is called an `attribute join`, which we covered in an earlier notebook.\n",
    "\n",
    "We're going to be conducting an inner join here -- think about why we do one type of join over another. You can read more about merging in `geopandas` [here](http://geopandas.org/mergingdata.html#attribute-joins)."
   ]
  },
  {
   "cell_type": "markdown",
   "metadata": {},
   "source": [
    "<img src=\"https://shanelynnwebsite-mid9n9g1q9y8tt.netdna-ssl.com/wp-content/uploads/2017/03/join-types-merge-names.jpg\">\n",
    "\n"
   ]
  },
  {
   "cell_type": "markdown",
   "metadata": {},
   "source": [
    "Let's talk about the data and the different join operations. What kind of join do we want to do?"
   ]
  },
  {
   "cell_type": "code",
   "execution_count": null,
   "metadata": {},
   "outputs": [],
   "source": [
    "# write any notes here"
   ]
  },
  {
   "cell_type": "markdown",
   "metadata": {},
   "source": [
    "Let's take another look at the two data objects that we have -- do we see any columns that we can join on between the two?"
   ]
  },
  {
   "cell_type": "code",
   "execution_count": null,
   "metadata": {},
   "outputs": [],
   "source": [
    "# ACS 5 year data\n",
    "acs5data_df.columns"
   ]
  },
  {
   "cell_type": "markdown",
   "metadata": {},
   "source": [
    "Since its hard to see all of our variables and know what types they are, let's use the `info` method instead."
   ]
  },
  {
   "cell_type": "code",
   "execution_count": null,
   "metadata": {},
   "outputs": [],
   "source": [
    "acs5data_df.info()"
   ]
  },
  {
   "cell_type": "markdown",
   "metadata": {},
   "source": [
    "Okay, awesome! Now let's go ahead and check our our tracts data."
   ]
  },
  {
   "cell_type": "code",
   "execution_count": null,
   "metadata": {},
   "outputs": [],
   "source": [
    "# Tracts data\n",
    "tracts_gdf_ac.head(2)"
   ]
  },
  {
   "cell_type": "markdown",
   "metadata": {},
   "source": [
    "So it seems like `GEOID` in our tracts data and `FIPS_11_digit` are going to be the keys in our join. \n",
    "\n",
    "<img src=\"http://www.pngall.com/wp-content/uploads/2016/03/Light-Bulb-Free-PNG-Image.png\" width=\"20\" align=left >  Let's check those variables-- do you see any differences?"
   ]
  },
  {
   "cell_type": "code",
   "execution_count": null,
   "metadata": {
    "scrolled": true
   },
   "outputs": [],
   "source": [
    "tracts_gdf_ac['GEOID'].head()"
   ]
  },
  {
   "cell_type": "code",
   "execution_count": null,
   "metadata": {
    "scrolled": true
   },
   "outputs": [],
   "source": [
    "acs5data_df['FIPS_11_digit'].head()"
   ]
  },
  {
   "cell_type": "markdown",
   "metadata": {},
   "source": [
    "A `join` requires data to be of the same type and same values. Are we good to go?"
   ]
  },
  {
   "cell_type": "code",
   "execution_count": null,
   "metadata": {},
   "outputs": [],
   "source": [
    "# Write your thoughts here"
   ]
  },
  {
   "cell_type": "markdown",
   "metadata": {},
   "source": [
    "Use the `geopandas` `merge` command to join the two dataframes by matching the values in the `GEOID` and `FIPS_11_digit` columns. Then take a look at the output since it should contain our ACS data for Alameda County."
   ]
  },
  {
   "cell_type": "code",
   "execution_count": null,
   "metadata": {},
   "outputs": [],
   "source": [
    "# Uncomment to view documentation \n",
    "#acs5data_df_ac.merge?"
   ]
  },
  {
   "cell_type": "markdown",
   "metadata": {},
   "source": [
    "Let's do a `left` join to keep all of the census tracts in Alameda County and only the ACS data for those tracts."
   ]
  },
  {
   "cell_type": "code",
   "execution_count": null,
   "metadata": {},
   "outputs": [],
   "source": [
    "# Left join keeps all tracts and the acs data for those tracts\n",
    "tracts_acs_gdf_ac = tracts_gdf_ac.merge(acs5data_df_ac, left_on='GEOID',right_on=\"FIPS_11_digit\", how='left')\n",
    "tracts_acs_gdf_ac.head(2)"
   ]
  },
  {
   "cell_type": "markdown",
   "metadata": {},
   "source": [
    "Let's see all the variables we have in our dataset now."
   ]
  },
  {
   "cell_type": "code",
   "execution_count": null,
   "metadata": {},
   "outputs": [],
   "source": [
    "list(tracts_acs_gdf_ac.columns)"
   ]
  },
  {
   "cell_type": "markdown",
   "metadata": {},
   "source": [
    "How many rows and columns should we have? Think about this before you run the next lines of code."
   ]
  },
  {
   "cell_type": "code",
   "execution_count": null,
   "metadata": {},
   "outputs": [],
   "source": [
    "print(\"Rows and columns in the Alameda County Census tract gdf:\", tracts_gdf_ac.shape)\n",
    "print(\"Rows and columns in the Alameda County Census tract gdf joined to the ACS data:\", tracts_acs_gdf_ac.shape)"
   ]
  },
  {
   "cell_type": "markdown",
   "metadata": {},
   "source": [
    "<div style=\"display:inline-block;vertical-align:top;\">\n",
    "    <img src=\"http://www.pngall.com/wp-content/uploads/2016/03/Light-Bulb-Free-PNG-Image.png\" width=\"30\" align=left > \n",
    "</div>  \n",
    "<div style=\"display:inline-block;\">\n",
    "\n",
    "#### Question\n",
    "</div>\n",
    "\n",
    "1. What would happen if we did a inner join instead of a left join? A right join? \n",
    "2. What is data type of output of the merge?"
   ]
  },
  {
   "cell_type": "code",
   "execution_count": null,
   "metadata": {},
   "outputs": [],
   "source": [
    "# Put your thoughts here"
   ]
  },
  {
   "cell_type": "code",
   "execution_count": null,
   "metadata": {},
   "outputs": [],
   "source": [
    "# Check the data type of the join output\n",
    "type(tracts_acs_gdf_ac)"
   ]
  },
  {
   "cell_type": "markdown",
   "metadata": {},
   "source": [
    "### Join Order Matters!\n",
    "\n",
    "Above, we lefted joined the ACS5 dataframe to the tracts geodataframe. The ouput was a geodataframe of all census tracts and the ACS data for those tracts.\n",
    "\n",
    "We can do do a similar operation by joining the tracts geodataframe to the ACS dataframe.  However, if we change the order of inputs we get a different type of output!\n",
    "\n",
    "Let's check that out"
   ]
  },
  {
   "cell_type": "code",
   "execution_count": null,
   "metadata": {},
   "outputs": [],
   "source": [
    "tracts_acs_df_ac = acs5data_df_ac.merge(tracts_gdf_ac, right_on='GEOID', left_on=\"FIPS_11_digit\", how='right')"
   ]
  },
  {
   "cell_type": "code",
   "execution_count": null,
   "metadata": {},
   "outputs": [],
   "source": [
    "type(tracts_acs_df_ac)"
   ]
  },
  {
   "cell_type": "code",
   "execution_count": null,
   "metadata": {},
   "outputs": [],
   "source": [
    "print(tracts_acs_gdf_ac.shape)\n",
    "print(tracts_acs_df_ac.shape)"
   ]
  },
  {
   "cell_type": "code",
   "execution_count": null,
   "metadata": {},
   "outputs": [],
   "source": [
    "tracts_acs_df_ac.columns"
   ]
  },
  {
   "cell_type": "markdown",
   "metadata": {},
   "source": [
    "The number of rows and columns in the output is the same for both joins but the output type is different - even though the pandas dataframe contains a geometry column.\n",
    "\n",
    "So be careful when joining Geopandas geodataframes and Pandas dataframes. Always check your outputs to make sure they are what you expect."
   ]
  },
  {
   "cell_type": "markdown",
   "metadata": {},
   "source": [
    "<a id=\"section6\"></a>\n",
    "## 1.6 Data Driven Mapping\n",
    "\n",
    "Data driven mapping refers to the process of using data values to determine the symbology of mapped features. Color, shape, and size and the three most common symbology types used in data driven mapping. \n",
    "\n",
    "Data driven maps are often refered to as `thematic maps`.\n",
    "\n",
    "### Types of Thematic Maps\n",
    "\n",
    "There are two primary types of maps used to convey data values:\n",
    "\n",
    "- `Choropleth maps`: set the color of areas (polygons) by data value\n",
    "- `Point symbol maps`: set the color or size of points by data value\n",
    "\n",
    "We will discuss both of these types of maps in more detail in the next lesson. But let's take a quick look at choropleth maps. "
   ]
  },
  {
   "cell_type": "markdown",
   "metadata": {},
   "source": [
    "### Choropleth Maps\n",
    "\n",
    "Choropleth maps are the most common type of thematic map.\n",
    "\n",
    "Let's take a look at how we can use a geodataframe to make a choropleth map.\n",
    "\n",
    "First a basic map of a geodataframe using the `plot` method, which we did above..."
   ]
  },
  {
   "cell_type": "code",
   "execution_count": null,
   "metadata": {},
   "outputs": [],
   "source": [
    "tracts_acs_gdf_ac.plot()"
   ]
  },
  {
   "cell_type": "markdown",
   "metadata": {},
   "source": [
    "Now, let's create a choropleth map by setting the color of the census tracts based on the values in the population (c_race) column."
   ]
  },
  {
   "cell_type": "code",
   "execution_count": null,
   "metadata": {},
   "outputs": [],
   "source": [
    "tracts_acs_gdf_ac.plot(column='c_race')"
   ]
  },
  {
   "cell_type": "markdown",
   "metadata": {},
   "source": [
    "That's really the heart of it. To set the color of the features based on the values in a column, set the `column` argument to the column name in the gdf.\n",
    "> **Pro-tips:** \n",
    "- If you want to get rid of the matplotlib text output, add `plt.show()` or a semi-colon after the plot method.\n",
    "- You can quickly right-click on the plot and save to a file or open in a new browser window."
   ]
  },
  {
   "cell_type": "code",
   "execution_count": null,
   "metadata": {},
   "outputs": [],
   "source": [
    "tracts_acs_gdf_ac.plot(column='c_race')\n",
    "plt.show()"
   ]
  },
  {
   "cell_type": "markdown",
   "metadata": {},
   "source": [
    "Let's make this map a bit more informative now-- start by adding a legend."
   ]
  },
  {
   "cell_type": "code",
   "execution_count": null,
   "metadata": {},
   "outputs": [],
   "source": [
    "tracts_acs_gdf_ac.plot(column='c_race', \n",
    "                    legend=True)\n",
    "plt.show()"
   ]
  },
  {
   "cell_type": "markdown",
   "metadata": {},
   "source": [
    "Aesthetically, we could put the color bar on the bottom. Let's do that and make this more informative by adding a label to our color bar."
   ]
  },
  {
   "cell_type": "code",
   "execution_count": null,
   "metadata": {},
   "outputs": [],
   "source": [
    "# add a legend but put it on the bottom\n",
    "tracts_acs_gdf_ac.plot(column='c_race', \n",
    "                    legend=True,\n",
    "                    legend_kwds={'label': \"Population by County\",\n",
    "                                 'orientation': \"horizontal\"}\n",
    "                    )\n",
    "plt.show()"
   ]
  },
  {
   "cell_type": "markdown",
   "metadata": {},
   "source": [
    "Now let's make this chart bigger so we can see our tracts more clearly.\n",
    "\n",
    "You can use [matplotlib](https://matplotlib.org) commands directly to customize our maps.\n",
    "- matplotlib is the primary python plotting library"
   ]
  },
  {
   "cell_type": "code",
   "execution_count": null,
   "metadata": {},
   "outputs": [],
   "source": [
    "## Change the size by adding in some more matplotlib commands\n",
    "fig, ax = plt.subplots(figsize = (10,10)) \n",
    "tracts_acs_gdf_ac.plot(column='c_race', \n",
    "                    legend=True,\n",
    "                    legend_kwds={'label': \"Population by County\",\n",
    "                                 'orientation': \"horizontal\"},\n",
    "                    ax=ax)\n",
    "plt.show()"
   ]
  },
  {
   "cell_type": "markdown",
   "metadata": {},
   "source": [
    "### About Choropleth maps\n",
    "\n",
    "There are several types of quantitative data variables that can be used to create a choropleth map. Let's consider these in terms of our ACS data.\n",
    "\n",
    "- `Counts`: display the count of observations aggregated by a feature, for example, the population within a census tract.\n",
    "\n",
    "- `Density`: express the count within a feature by the of area of the feature, for example, population per square mile within a census tract, \n",
    "\n",
    "- `Proportions / Percentages`: compare the value of a part to the whole. For example, the proportion of the tract population that is white compared to the total tract population.\n",
    "\n",
    "- `Rates/ratios`: compare the relationship of one observation to another. For example the homeowner to renter ratio would be calculated as the number of homeowners (c_owners/ c_renters).\n",
    "\n",
    "\n",
    "The goal of a choropleth map is to use color to visualize the spatial distribution of a quantitative variable.\n",
    "\n",
    "- Brighter or richer colors are typically used to signify higher values.\n",
    "\n",
    "A big problem with choropleth maps is that our eyes are drawn to the color of larger areas, even even if the value being mapped is more significant in one or more smaller areas.\n",
    "\n",
    "This problem is exacerbated when the variable being mapped is a `count` rather than a standardized variable like density or percent. Large areas often have higher counts than smaller areas but not necessary higher densities, percents, or rates.\n",
    "\n",
    "For this reason it is considered best practice to create choropleth maps of standardized variables and not raw counts!"
   ]
  },
  {
   "cell_type": "markdown",
   "metadata": {},
   "source": [
    "### Mapping Population density\n",
    "\n",
    "With that said, we're now going to create density variables for population per square kilometer (km^2) and square mile (mi^2) and create choropleth maps of these. We can use our total population (`c_race`) and land area (`ALAND`) columns. \n",
    "\n",
    "> `Area` is present in all census geographic data \n",
    "- in the [ALAND](https://www.census.gov/quickfacts/fact/note/US/LND110210) column as the land area per sq meter.\n",
    "- and in the `AWATER` column as water area per sq meter"
   ]
  },
  {
   "cell_type": "code",
   "execution_count": null,
   "metadata": {},
   "outputs": [],
   "source": [
    "# Create population density variable\n",
    "# Land area measurements are originally recorded as whole square meters \n",
    "# To convert square meters to square kilometers, divide by 1,000,000; \n",
    "# To convert square meters to square miles, divide by 2,589,988.\n",
    "SQMETER_PER_SQKM = 1000000\n",
    "SQMETER_PER_SQMILE = 2589988\n",
    "\n",
    "tracts_acs_gdf_ac['pop_dens_km2'] = tracts_acs_gdf_ac['c_race']/ (tracts_acs_gdf_ac['ALAND']/SQMETER_PER_SQKM)\n",
    "tracts_acs_gdf_ac['pop_dens_mi2'] = tracts_acs_gdf_ac['c_race']/ (tracts_acs_gdf_ac['ALAND']/SQMETER_PER_SQMILE)"
   ]
  },
  {
   "cell_type": "markdown",
   "metadata": {},
   "source": [
    "We can check our geodataframe to make sure our new variables have been incorporated."
   ]
  },
  {
   "cell_type": "code",
   "execution_count": null,
   "metadata": {},
   "outputs": [],
   "source": [
    "tracts_acs_gdf_ac.head(3)"
   ]
  },
  {
   "cell_type": "markdown",
   "metadata": {},
   "source": [
    "#### Always check your calculations!\n",
    "You can compare the land area of [Alameda County](https://en.wikipedia.org/wiki/Alameda_County,_California) to that listed in Wikipedia to check your math (739 sq mi / 1,910 km2)."
   ]
  },
  {
   "cell_type": "code",
   "execution_count": null,
   "metadata": {},
   "outputs": [],
   "source": [
    "print(\"Land area of Alameda county in square km:\", (tracts_acs_gdf_ac['ALAND']/SQMETER_PER_SQKM).sum().round())\n",
    "print(\"Land area of Alameda county in square miles:\", (tracts_acs_gdf_ac\n",
    "                                                       ['ALAND']/SQMETER_PER_SQMILE).sum().round())"
   ]
  },
  {
   "cell_type": "markdown",
   "metadata": {},
   "source": [
    "Now let's plot population density per sq kilometer ('pop_dens_km2').\n",
    "\n",
    "- Consider how it differs from the map of population count that we made above."
   ]
  },
  {
   "cell_type": "code",
   "execution_count": null,
   "metadata": {},
   "outputs": [],
   "source": [
    "# Plot population density - km^2\n",
    "fig, ax = plt.subplots(figsize = (10,10)) \n",
    "tracts_acs_gdf_ac.plot(column='pop_dens_km2', legend=True,\n",
    "                    legend_kwds={'label': \"Population per Sq KM\",\n",
    "                                 'orientation': \"horizontal\"},\n",
    "                    ax=ax)\n",
    "plt.show()"
   ]
  },
  {
   "cell_type": "markdown",
   "metadata": {},
   "source": [
    "#### Exercise \n",
    "\n",
    "Now you try it! Map population density per sq miles."
   ]
  },
  {
   "cell_type": "code",
   "execution_count": null,
   "metadata": {},
   "outputs": [],
   "source": [
    "# Plot population density - miles^2"
   ]
  },
  {
   "cell_type": "markdown",
   "metadata": {},
   "source": [
    "Our population maps look dark blue for the most part. What does that mean? Write what you think below"
   ]
  },
  {
   "cell_type": "code",
   "execution_count": null,
   "metadata": {},
   "outputs": [],
   "source": [
    "# Put your thoughts here "
   ]
  },
  {
   "cell_type": "markdown",
   "metadata": {},
   "source": [
    "When color bunching occurs it's best to see what the distribution of your data is like. In fact it is always a good idea to explore your data values as you prepare your maps.\n",
    "\n",
    "#### Exercise \n",
    "Plot a histogram of your `pop_dens_km2` below and consider how the distribution of values impacts the colors in the choropleth map."
   ]
  },
  {
   "cell_type": "code",
   "execution_count": null,
   "metadata": {},
   "outputs": [],
   "source": [
    "# histogram of pop_dens_km2"
   ]
  },
  {
   "cell_type": "markdown",
   "metadata": {},
   "source": [
    "*Click here for answers*\n",
    "\n",
    "<!--- \n",
    "# # SOLUTION\n",
    "# # histogram of pop_dens_km2\n",
    "# tracts_acs_gdf_ac['pop_dens_km2'].hist()\n",
    "--->"
   ]
  },
  {
   "cell_type": "markdown",
   "metadata": {},
   "source": [
    "#### Looking Ahead\n",
    "\n",
    "In the next lesson we'll take a deeper dive into mapping and learn about `classification schemes` and `color palettes` so we can avoid color bunching."
   ]
  },
  {
   "cell_type": "markdown",
   "metadata": {},
   "source": [
    "### Saving a geodataframe to a file"
   ]
  },
  {
   "cell_type": "markdown",
   "metadata": {},
   "source": [
    "Let's not forget to save out our Alameda County geodataframe `tracts_acs_gdf_ac`. By saving it we will not need to repeat the processing steps and attribute join we did above.\n",
    "\n",
    "We can save to a shapefile."
   ]
  },
  {
   "cell_type": "code",
   "execution_count": null,
   "metadata": {},
   "outputs": [],
   "source": [
    "tracts_acs_gdf_ac.to_file(\"../outdata/tracts_acs_ac.shp\")"
   ]
  },
  {
   "cell_type": "markdown",
   "metadata": {},
   "source": [
    "One of the problems of saving to a shapefile is that our column names get truncated to 10 characters (a shapefile limitation.) \n",
    "\n",
    "Instead of renaming all columns with obscure names that are less than 10 characters, we can save our geodatafraem to a spatial data file format that does not have this limation - [GeoJSON](https://en.wikipedia.org/wiki/GeoJSON) or [GPKG](https://en.wikipedia.org/wiki/GeoPackage) (geopackage) file.\n",
    "- These formats have the added benefit of outputting only one file in contrast tothe multi-file shapefile format."
   ]
  },
  {
   "cell_type": "code",
   "execution_count": null,
   "metadata": {},
   "outputs": [],
   "source": [
    "tracts_acs_gdf_ac.to_file(\"../outdata/tracts_acs_gdf_ac.json\", driver=\"GeoJSON\")"
   ]
  },
  {
   "cell_type": "code",
   "execution_count": null,
   "metadata": {},
   "outputs": [],
   "source": [
    "tracts_acs_gdf_ac.to_file(\"../outdata/tracts_acs_gdf_ac.gpkg\", driver=\"GPKG\")"
   ]
  },
  {
   "cell_type": "markdown",
   "metadata": {},
   "source": [
    "We can also save out our data as a csv, dropping the geometry column."
   ]
  },
  {
   "cell_type": "code",
   "execution_count": null,
   "metadata": {},
   "outputs": [],
   "source": [
    "tracts_acs_gdf_ac.drop('geometry',axis=1).to_csv(\"../outdata/tracts_acs_gdf_ac.csv\") "
   ]
  },
  {
   "cell_type": "markdown",
   "metadata": {},
   "source": [
    "We can also save just the tract data we subsetted earlier into its own shapefile"
   ]
  },
  {
   "cell_type": "code",
   "execution_count": null,
   "metadata": {},
   "outputs": [],
   "source": [
    "tracts_gdf_ac.to_file(\"../outdata/tracts_ac.shp\")"
   ]
  },
  {
   "cell_type": "markdown",
   "metadata": {},
   "source": [
    "#### Exercise\n",
    "Go ahead and save your SF county tracts geodataframe (`tracts_gdf_sf`) as a shapefile, GeoJSON, and csv file."
   ]
  },
  {
   "cell_type": "code",
   "execution_count": null,
   "metadata": {},
   "outputs": [],
   "source": [
    "# Your code here"
   ]
  },
  {
   "cell_type": "markdown",
   "metadata": {},
   "source": [
    "*Click here for answers*\n",
    "\n",
    "<!--- \n",
    "    # SOLUTION\n",
    "    # shapefile\n",
    "    tracts_gdf_sf.to_file(\"../outdata/tracts_sf.shp\")\n",
    "\n",
    "    # SOLUTION\n",
    "    # GeoJSON\n",
    "    tracts_acs_gdf_sf.to_file(\"../outdata/tracts_acs_gdf_sf.json\", driver=\"GeoJSON\")\n",
    "\n",
    "    # SOLUTION\n",
    "    # csv\n",
    "    tracts_acs_gdf_sf.drop('geometry',axis=1).to_csv(\"../outdata/tracts_acs_gdf_sf.csv\") \n",
    "--->"
   ]
  },
  {
   "cell_type": "markdown",
   "metadata": {},
   "source": [
    "<a id=\"section7\"></a>\n",
    "## 1.7 Coordinate Reference Systems (CRS) and Map Projections\n",
    "\n",
    "Before moving onto our next lesson, let's about how talk coordinate reference systems (CRS) and Map Projections are handled by GeoPandas.\n",
    "\n",
    "In fact, we have gotten pretty far without talking about these!\n",
    "\n",
    "<img src=\"http://www.pngall.com/wp-content/uploads/2016/03/Light-Bulb-Free-PNG-Image.png\" width=\"20\" align=left >  Do you have experience with Coordinate Reference Systems?\n",
    "\n",
    "As a refresher, a CRS describes how the coordinates in a geospatial dataset relate to locations on the surface of the earth. \n",
    "\n",
    "A `geographic CRS` consists of: \n",
    "- a 3D model of the shape of the earth (a `datum`), approximated as a sphere or spheroid (aka ellipsoid)\n",
    "- the `units` of the coordinate system (e.g, decimal degrees, meters, feet) and \n",
    "- the `origin `(0,0 location), specified as the `equator` and the `prime meridian`\n",
    "\n",
    "A `projected CRS` consists of\n",
    "- a geographic CRS\n",
    "- a **map projection** and related parameters used to transform the geographic coordinates to `2D` space.\n",
    "  - a map projection is a mathematical model used to transform coordinate data\n",
    "\n",
    "### A Geographic vs Projected CRS\n",
    "<img src =\"https://www.e-education.psu.edu/natureofgeoinfo/sites/www.e-education.psu.edu.natureofgeoinfo/files/image/projection.gif\" height=\"100\" width=\"500\">"
   ]
  },
  {
   "cell_type": "markdown",
   "metadata": {},
   "source": [
    "### There are many, many CRSs\n",
    "\n",
    "Theoretically the number of CRSs is unlimited!\n",
    "\n",
    "Why? Primariy, because there are many different definitions of the shape of the earth. Our understanding of its shape and our ability to measure it has changed greatly over time.\n",
    "\n",
    "### Why are CRSs Important?\n",
    "\n",
    "- You need to know the data about your data (or `metadata`) to use it appropriately.\n",
    "\n",
    "\n",
    "- All projected CRSs introduce distortion in shape, area, and/or distance. So understanding what CRS best maintains the characteristics you need for your area of interest and your analysis is important.\n",
    "\n",
    "\n",
    "- Some analysis methods expect geospatial data to be in a projected CRS\n",
    "  - For example, `geopandas` expects a geodataframe to be in a projected CRS for area or distance based analyses.\n",
    "\n",
    "\n",
    "- Some Python libraries, but not all, implement dynamic reprojection from the input CRS to the required CRS and assume a specific CRS (WGS84) when a CRS is not explicitly defined.\n",
    "\n",
    "\n",
    "- Most Python spatial libraries, including Geopandas, require geospatial data to be in the same CRS if they are being analysed together.\n",
    "\n",
    "### What you need to know when working with CRSs\n",
    "\n",
    "- What CRSs used in your study area and their main characteristics\n",
    "- How to identify, or `get`, the CRS of a geodataframe\n",
    "- How to `set` the CRS of geodataframe (i.e. define the projection)\n",
    "- Hot to `transform` the CRS of a geodataframe (i.e. reproject the data)"
   ]
  },
  {
   "cell_type": "markdown",
   "metadata": {},
   "source": [
    "### Codes for CRSs commonly used with CA data\n",
    "\n",
    "CRSs are typically referenced by an [EPSG code](http://wiki.gis.com/wiki/index.php/European_Petroleum_Survey_Group).  \n",
    "\n",
    "It's important to know the commonly used CRSs and their EPSG codes for your geographic area of interest.  \n",
    "\n",
    "For example, below is a list of commonly used CRSs for California geospatial data along with their EPSG codes.\n",
    "\n",
    "##### Geographic CRSs\n",
    "-`4326: WGS84` (units decimal degrees) - the most commonly used geographic CRS\n",
    "\n",
    "-`4269: NAD83` (units decimal degrees) - the geographic CRS customized to best fit the USA. This is used by all Census geographic data.\n",
    "\n",
    ">  `NAD83 (epsg:4269)` are approximately the same as `WGS84(epsg:4326)` although locations can differ by up to 1 meter in the continental USA and elsewhere up to 3m. That is not a big issue with census tract data as these data are only accurate within +/-7meters.\n",
    "##### Projected CRSs\n",
    "\n",
    "-`5070: CONUS NAD83` (units meters) projected CRS for mapping the entire contiguous USA (CONUS)\n",
    "\n",
    "-`3857: Web Mercator` (units meters) conformal (shape preserving) CRS used as the default in web mapping\n",
    "\n",
    "-`3310: CA Albers Equal Area, NAD83` (units meters)  projected CRS for CA statewide mapping and spatial analysis\n",
    "\n",
    "-`26910: UTM Zone 10N, NAD83` (units meters) projected CRS for northern CA mapping & analysis\n",
    "\n",
    "-`26911: UTM Zone 11N, NAD83` (units meters) projected CRS for Southern CA mapping & analysis\n",
    "\n",
    "-`102641 to 102646: CA State Plane zones 1-6, NAD83` (units feet) projected CRS used for local analysis.\n",
    "\n",
    "You can find the full CRS details on the website https://www.spatialreference.org"
   ]
  },
  {
   "cell_type": "markdown",
   "metadata": {},
   "source": [
    "### Getting the CRS of a gdf\n",
    "\n",
    "GeoPandas GeoDataFrames have a `crs` attribute that returns the CRS of the data."
   ]
  },
  {
   "cell_type": "code",
   "execution_count": null,
   "metadata": {},
   "outputs": [],
   "source": [
    "# Check the CRS of our gdf\n",
    "tracts_acs_gdf_ac.crs"
   ]
  },
  {
   "cell_type": "markdown",
   "metadata": {},
   "source": [
    "The above CRS definition specifies \n",
    "- the name of the CRS (`NAD83`), \n",
    "- the axis units (`latitude` and `longitude`)\n",
    "- the shape (`datum`),\n",
    "- and the origin (`Prime Meridian`, and the equator)\n",
    "- and the area for which it is best suited (`North America`)\n",
    "\n",
    "> Notes:\n",
    ">    - `geocentric` latitude and longitude assume a spherical (round) model of the shape of the earth\n",
    ">    - `geodetic` latitude and longitude assume a spheriodal (ellipsoidal) model, which is closer to the true shape.\n",
    ">    - `geodesy` is the study of the shape of the earth."
   ]
  },
  {
   "cell_type": "markdown",
   "metadata": {},
   "source": [
    "Note that the ouput looks very different if you print it."
   ]
  },
  {
   "cell_type": "code",
   "execution_count": null,
   "metadata": {},
   "outputs": [],
   "source": [
    "print(tracts_acs_gdf_ac.crs)"
   ]
  },
  {
   "cell_type": "markdown",
   "metadata": {},
   "source": [
    "Printing the crs is useful because it outputs the code you should use if you want to `set` the CRS.\n"
   ]
  },
  {
   "cell_type": "markdown",
   "metadata": {},
   "source": [
    "### Setting the CRS\n",
    "\n",
    "You can set the CRS of a gdf with the `crs` method.  You would set the CRS if is not defined or if you think it is incorrectly defined.\n",
    "\n",
    "> In desktop GIS terminology setting the CRS is called `defining the projection`\n",
    "\n",
    "As an example, let's set the CRS of our data to `None`"
   ]
  },
  {
   "cell_type": "code",
   "execution_count": null,
   "metadata": {},
   "outputs": [],
   "source": [
    "# first set the CRS to None\n",
    "tracts_acs_gdf_ac.crs = None"
   ]
  },
  {
   "cell_type": "code",
   "execution_count": null,
   "metadata": {},
   "outputs": [],
   "source": [
    "# Check it again\n",
    "tracts_acs_gdf_ac.crs"
   ]
  },
  {
   "cell_type": "markdown",
   "metadata": {},
   "source": [
    "...hummm...\n",
    "\n",
    "If a variable has a null value (None) then displaying it without printing it won't display anything!"
   ]
  },
  {
   "cell_type": "code",
   "execution_count": null,
   "metadata": {},
   "outputs": [],
   "source": [
    "# Check it again\n",
    "print(tracts_acs_gdf_ac.crs)"
   ]
  },
  {
   "cell_type": "code",
   "execution_count": null,
   "metadata": {},
   "outputs": [],
   "source": [
    "# Set it to 4326\n",
    "tracts_acs_gdf_ac.crs = \"epsg:4326\""
   ]
  },
  {
   "cell_type": "code",
   "execution_count": null,
   "metadata": {},
   "outputs": [],
   "source": [
    "# Show it\n",
    "tracts_acs_gdf_ac.crs"
   ]
  },
  {
   "cell_type": "markdown",
   "metadata": {},
   "source": [
    "Opps, that was wrong, the CRS is `4269`"
   ]
  },
  {
   "cell_type": "code",
   "execution_count": null,
   "metadata": {},
   "outputs": [],
   "source": [
    "# Set it to 4269\n",
    "tracts_acs_gdf_ac.crs = \"epsg:4326\""
   ]
  },
  {
   "cell_type": "markdown",
   "metadata": {},
   "source": [
    "> #### Important note\n",
    "> - You can `set` the CRS to anything you like - that doesn't make it correct!\n",
    "> - Setting the CRS does not change the coordinate data. It just tells the software how to interpret it."
   ]
  },
  {
   "cell_type": "markdown",
   "metadata": {},
   "source": [
    "### Transforming or Reprojecting the CRS\n",
    "You can transform the CRS of a geodataframe with the `to_crs` method.\n",
    "\n",
    "\n",
    "> In desktop GIS terminology transforming the CRS is called `projecting the data`\n",
    "\n",
    "When you do this you want to save the output to a new geodataframe."
   ]
  },
  {
   "cell_type": "code",
   "execution_count": null,
   "metadata": {},
   "outputs": [],
   "source": [
    "tracts_acs_ac_utm10 = tracts_acs_gdf_ac.to_crs('epsg:26910')"
   ]
  },
  {
   "cell_type": "markdown",
   "metadata": {},
   "source": [
    "Now take a look at the CRS."
   ]
  },
  {
   "cell_type": "code",
   "execution_count": null,
   "metadata": {},
   "outputs": [],
   "source": [
    "tracts_acs_ac_utm10.crs"
   ]
  },
  {
   "cell_type": "markdown",
   "metadata": {},
   "source": [
    "You can see the result immediately by plotting the data.\n",
    "\n",
    "- What two key differences do you see?"
   ]
  },
  {
   "cell_type": "code",
   "execution_count": null,
   "metadata": {},
   "outputs": [],
   "source": [
    "# plot geographic gdf\n",
    "tracts_acs_gdf_ac.plot();\n",
    "\n",
    "# plot utm gdf\n",
    "tracts_acs_ac_utm10.plot();"
   ]
  },
  {
   "cell_type": "markdown",
   "metadata": {},
   "source": [
    "#### Exercise\n",
    "\n",
    "In the code cell below:\n",
    "1. transform the CRS of the `tracts_acs_gdf_ac` geodataframe to the `CA Albers Equal Area` CRS and save it to a new geodataframe\n",
    "2. display the CRS defintion of the output geodataframe\n",
    "3. plot the data to see if how the shape and range of coordinate values differ from those for the tracts_acs_gdf_ac and tracts_acs_gdf_ac_3310 geodataframes.\n",
    "\n",
    "\n",
    "\n"
   ]
  },
  {
   "cell_type": "code",
   "execution_count": null,
   "metadata": {},
   "outputs": [],
   "source": [
    "# Your code here"
   ]
  },
  {
   "cell_type": "markdown",
   "metadata": {},
   "source": [
    "*Double-click here to view the solution*\n",
    "\n",
    "<!--\n",
    "tracts_acs_gdf_ac_3310 = tracts_acs_gdf_ac.to_crs('epsg:3310')\n",
    "tracts_acs_gdf_ac_3310.crs\n",
    "tracts_acs_gdf_ac_3310.plot()\n",
    "-->"
   ]
  },
  {
   "cell_type": "markdown",
   "metadata": {},
   "source": [
    "### Geopandas for Spatial Measurement Calculations\n",
    "\n",
    "To see the immediate usefulness of this transformation from a geographic to a projected CRS, let's consider our calculation of population density above.\n",
    "\n",
    "That calculation was based on the ALAND column, or land area in sq meters, that is included in the census tract data.\n",
    "\n",
    "- What if the data did not contain that column?\n",
    "\n",
    "If your geodataframe is in a projected CRS that is appropriate for area or distance calculations you can calculate these values for each feature using the `area` or `length` attributes. \n",
    "\n",
    "For geodatraframes with polygon geometry,\n",
    "- `geodataframe_name.area` will return the area of each row's geometry\n",
    "\n",
    "For geodatraframes with line or polygon geometry,\n",
    "- `geodataframe_name.length` will return the length (or perimeter) of each row's geometry\n",
    "\n",
    "\n",
    "The output units will be the units of the CRS."
   ]
  },
  {
   "cell_type": "code",
   "execution_count": null,
   "metadata": {},
   "outputs": [],
   "source": [
    "tracts_acs_ac_utm10.area # returns the area of each feature"
   ]
  },
  {
   "cell_type": "code",
   "execution_count": null,
   "metadata": {},
   "outputs": [],
   "source": [
    "tracts_acs_ac_utm10.length # returns the perimeter of each feature in meters"
   ]
  },
  {
   "cell_type": "markdown",
   "metadata": {},
   "source": [
    "We can also get the total area or length."
   ]
  },
  {
   "cell_type": "code",
   "execution_count": null,
   "metadata": {},
   "outputs": [],
   "source": [
    "tracts_acs_ac_utm10.area.sum()"
   ]
  },
  {
   "cell_type": "markdown",
   "metadata": {},
   "source": [
    "So if we want to calculate the area of Alameda County, we could do so as follows.\n",
    "\n",
    "- *Below we use the constants we defined earlier.*"
   ]
  },
  {
   "cell_type": "code",
   "execution_count": null,
   "metadata": {},
   "outputs": [],
   "source": [
    "tracts_acs_ac_utm10.area.sum()  / SQMETER_PER_SQKM"
   ]
  },
  {
   "cell_type": "markdown",
   "metadata": {},
   "source": [
    "How do this value compare to we get above using the column `ALAND`?"
   ]
  },
  {
   "cell_type": "code",
   "execution_count": null,
   "metadata": {},
   "outputs": [],
   "source": [
    "tracts_acs_ac_utm10.ALAND.sum() / SQMETER_PER_SQKM"
   ]
  },
  {
   "cell_type": "markdown",
   "metadata": {},
   "source": [
    "### Getting Help with CRSs and Map Projections\n",
    "\n",
    "See the [GeoPandas](https://geopandas.org/projections.html) website for more info on managing projections of geodataframes.\n",
    "\n",
    "As you work with geospatial data in GeoPandas or in any software you will want to transform you data to the CRS that is most appropriate for you work.  \n",
    "\n",
    "Most spatial analysis operations will assume a projected CRS. For example, you would not want to compute area using a geographic CRS.\n",
    "\n",
    "For more introductory materials on CRSs and Map Projections see the references listed at the end of ths notebook.\n"
   ]
  },
  {
   "cell_type": "markdown",
   "metadata": {},
   "source": [
    "<a id=\"section8\"></a>\n",
    "## 1.8 Recap\n",
    "This lesson provided a broad overview to using [GeoPandas](http://geopandas.org/) to work with geospatial data in Python. \n",
    "\n",
    "Below is a quick recap of the GeoPandas capabilities and geospatial concepts we covered:\n",
    "\n",
    "- Reading and writing spatial data to/from Geopandas (gpd) GeoDataFrames (gdf), with a focus on ESRI Shapefiles and geojson files.\n",
    "\t- `gpd.read_file()`\n",
    "    - `gdf.to_file()`\n",
    "- Plotting a geodataframe \n",
    "\t- `gdf.GeoDataFrame.plot()`\n",
    "- Spatially subsetting a geodataframe\n",
    "\t- `gdf.cx()`\n",
    "- Using attribute joins to merge Geopandas GeoDataFrames with pandas DataFrames (df)\n",
    "\t- `gdf.merge(df)`\n",
    "- Choropleth mapping \n",
    "\t- `.plot(column='<column_name>')`\n",
    "- Adding columns to a GeoDataFrame to transform counts to densities\n",
    "\t- `tracts_acs_gdf_ac['pop_dens_km2'] = tracts_acs_gdf_ac['c_race']/ (tracts_acs_gdf_ac['ALAND']/SQMETER_PER_SQKM)`\n",
    "\n",
    "- Getting, setting (defining), and transforming (projecting) a CRS using `EPSG` codes\n",
    "\t- `.crs`\n",
    "\t- `.to_crs()`\n",
    "- Spatial measurements: accessing the spatial attributed of GeoDataFrame geometries\n",
    "\t- `.area` \n",
    "\t- `.length`"
   ]
  },
  {
   "cell_type": "markdown",
   "metadata": {},
   "source": [
    "<a id=\"section9\"></a>\n",
    "## 1.9 Homework"
   ]
  },
  {
   "cell_type": "markdown",
   "metadata": {},
   "source": [
    "#### Exercise 1\n",
    "1. Compare the values in the `GEOID` column of the tracts gdf and `FIPS_11_digit` in the ACS dataframe.\n",
    "2. Join the two datasets and name the output geodataframe `tracts_acs_gdf_sf`\n",
    "3. Check your output data - type, columns, shape, data values, etc. "
   ]
  },
  {
   "cell_type": "code",
   "execution_count": null,
   "metadata": {},
   "outputs": [],
   "source": [
    "# Your code here"
   ]
  },
  {
   "cell_type": "markdown",
   "metadata": {},
   "source": [
    "*Click here for answers*\n",
    "\n",
    "<!--- \n",
    "    # SOLUTION\n",
    "    # 1.a - look at census tract identifiers in the tract data\n",
    "    tracts_gdf_sf['GEOID']\n",
    "\n",
    "    # SOLUTION\n",
    "    # 1.b - look at census tract identifiers in the ACS data\n",
    "    acs5data_df_sf['FIPS_11_digit'].head()\n",
    "\n",
    "    # SOLUTION\n",
    "    # 2. Join the two datasets and name the output tracts_acs_gdf_sf\n",
    "    tracts_acs_gdf_sf = tracts_gdf_sf.merge(acs5data_df_sf, left_on='GEOID',right_on=\"FIPS_11_digit\", how='inner')\n",
    "    tracts_acs_gdf_sf.head(2)\n",
    "\n",
    "    # SOLUTION\n",
    "    # 3. Check your output data\n",
    "    print(tracts_gdf_sf.shape)\n",
    "    print(tracts_acs_gdf_sf.shape)\n",
    "--->"
   ]
  },
  {
   "cell_type": "markdown",
   "metadata": {},
   "source": [
    "#### Exercise 2\n",
    "\n",
    "Plot population density for SF county. Here are the steps you'll need to take:\n",
    "1. Create a population density per km2 variable and add it to the data frame\n",
    "2. Repeat but for population density per mile2\n",
    "3. Create choropleth maps for both variables"
   ]
  },
  {
   "cell_type": "code",
   "execution_count": null,
   "metadata": {},
   "outputs": [],
   "source": [
    "# Your code here"
   ]
  },
  {
   "cell_type": "markdown",
   "metadata": {},
   "source": [
    "*Click here for answers*\n",
    "\n",
    "<!--- \n",
    "    # SOLUTION\n",
    "    # 1. Create a population density per km2 variable and add it to the data frame\n",
    "    tracts_acs_gdf_sf['pop_dens_km2'] = tracts_acs_gdf_sf['c_race']/ (tracts_acs_gdf_sf['ALAND']/SQMETER_PER_SQKM)\n",
    "\n",
    "    # SOLUTION\n",
    "    # 2. Repeat but for population density per mile2\n",
    "    tracts_acs_gdf_sf['pop_dens_mi2'] = tracts_acs_gdf_sf['c_race']/ (tracts_acs_gdf_sf['ALAND']/SQMETER_PER_SQMILE)\n",
    "\n",
    "    # SOLUTION\n",
    "    # 3. Plot population density - km^2\n",
    "    fig, ax = plt.subplots(figsize = (10,10)) \n",
    "    tracts_acs_gdf_sf.plot(column='pop_dens_km2', legend=True,\n",
    "                        legend_kwds={'label': \"Population per Sq KM\",\n",
    "                                     'orientation': \"horizontal\"},\n",
    "                        ax=ax)\n",
    "    plt.show()\n",
    "--->"
   ]
  },
  {
   "cell_type": "markdown",
   "metadata": {},
   "source": [
    "#### Exercise 3\n",
    "\n",
    "Do you remember how to read in data from a file to a geodataframe? Test that below by completing the code."
   ]
  },
  {
   "cell_type": "code",
   "execution_count": null,
   "metadata": {},
   "outputs": [],
   "source": [
    "# read in Alameda county Geojson file to a geodataframe\n",
    "ac_tracts_from_geojson = ...\n",
    "\n",
    "# Uncomment line below and plot\n",
    "#ac_tracts_from_geojson.plot(column='pop_dens_mi2')"
   ]
  },
  {
   "cell_type": "code",
   "execution_count": null,
   "metadata": {},
   "outputs": [],
   "source": [
    "# read in Alameda county Geojson file to a geodataframe\n",
    "ac_tracts_from_gpkg = ...\n",
    "# Uncomment line below and plot\n",
    "#ac_tracts_from_gpkg.plot(column='pop_dens_mi2')"
   ]
  },
  {
   "cell_type": "markdown",
   "metadata": {},
   "source": [
    "*Click here for answers*\n",
    "\n",
    "<!--- \n",
    "    # SOLUTION\n",
    "    # read in Alameda county Geojson file to a geodataframe\n",
    "    ac_tracts_from_geojson = gpd.read_file(\"../outdata/tracts_acs_gdf_ac.json\")\n",
    "    ac_tracts_from_geojson.plot(column='pop_dens_mi2')\n",
    "\n",
    "    # SOLUTION\n",
    "    # read in Alameda county Geojson file to a geodataframe\n",
    "    ac_tracts_from_gpkg = gpd.read_file(\"../outdata/tracts_acs_gdf_ac.json\", driver=\"GeoJSON\")\n",
    "    ac_tracts_from_gpkg.plot(column='pop_dens_mi2')\n",
    "--->"
   ]
  },
  {
   "cell_type": "markdown",
   "metadata": {},
   "source": [
    "#### Exercise 4\n",
    "1. Check the CRS of the geodataframe `tracts_acs_gdf_sf` \n",
    "2. Transform the CRS of `tracts_acs_gdf_sf` to UTM Zone 10N, NAD83 and call it `tracts_acs_sf_utm10`\n",
    "3. Display and compare your two CRS definitions.\n",
    "4. Use plot to make a map of the data in both CRSs\n",
    "3. Calculate the area of SF using the `.area` geodataframe attribute and the `ALAND` column"
   ]
  },
  {
   "cell_type": "code",
   "execution_count": null,
   "metadata": {},
   "outputs": [],
   "source": [
    "# Your code here"
   ]
  },
  {
   "cell_type": "markdown",
   "metadata": {},
   "source": [
    "*Click here for answers*\n",
    "\n",
    "<!--- \n",
    "# 1. Check the CRS \n",
    "tracts_acs_gdf_sf.crs\n",
    "# 2. transform the crs of your SF tracts ACS data data \n",
    "tracts_acs_sf_utm10 = tracts_acs_gdf_sf.to_crs('epsg:26910')\n",
    "# 3. Display the CRS definitions\n",
    "tracts_acs_gdf_sf.crs\n",
    "tracts_acs_sf_utm10.crs\n",
    "\n",
    "# 3. Plot and compare your two CRSs\n",
    "\n",
    "# plot geographic gdf\n",
    "tracts_acs_gdf_sf.plot();\n",
    "# plot utm gdf\n",
    "tracts_acs_sf_utm10.plot();\n",
    "\n",
    "# 4. Calculate the area of SF using the 2 above methods\n",
    "tracts_acs_sf_utm10.area.sum()  / SQMETER_PER_SQKM\n",
    "tracts_acs_sf_utm10.ALAND.sum()/SQMETER_PER_SQKM\n",
    "--->"
   ]
  },
  {
   "cell_type": "markdown",
   "metadata": {},
   "source": [
    "<a id=\"section10\"></a>\n",
    "## References\n",
    "\n",
    "- [Kaggle Learn: Geospatial Analysis in Python](https://www.kaggle.com/learn/geospatial-analysis), an online interactive tutorial\n",
    "\n",
    "- [Campbell & Shin, Geographic Information System Basics, v1.0](https://2012books.lardbucket.org/books/geographic-information-system-basics/index.html)\n",
    "\n",
    "- [Intro to Python GIS: Map Projections and Coordinate Reference Systems](https://automating-gis-processes.github.io/CSC/notebooks/L2/projections.html)\n",
    "\n",
    "- [ESRI \n",
    "Coordinate systems, map projections, and geographic (datum) transformations](http://resources.esri.com/help/9.3/arcgisengine/dotnet/89b720a5-7339-44b0-8b58-0f5bf2843393.htm)\n",
    "\n",
    "#### Installing GeoPandas on Your Computer\n",
    "\n",
    "To install GeoPandas on your own computer, see the instructions in this file [s0_0_Geopandas_Installation.md](https://github.com/dataforhousing/curriculum_dev/blob/master/code/s0_0_Geopandas_Installation.md) or on the [GeoPandas.org](https://geopandas.org/install.html) website.\n",
    "\n",
    "The geospatial functionality of GeoPandas is provided by several lower level spatial data packages that are included in GeoPandas and which you may have used previously. These include:\n",
    "- [shapely](https://pypi.python.org/pypi/Shapely) - for geometry processing\n",
    "- [fiona](https://pypi.python.org/pypi/Fiona) - for spatial data file IO\n",
    "- [GDAL/Ogr](https://gdal.org) - for spatial data file IO\n",
    "- [pyproj](https://github.com/jswhit/pyproj) - for map projections and coordinate systems\n",
    "- [PROJ.4](https://proj.org) - for map projections and coordinate systems\n",
    "- [geopy](https://geopy.readthedocs.io/en/stable/) for geocoding and for geodesic distance calculations,\n",
    "- [pysal](https://pysal.org/) for spatial analysis functions such as data classification methods and spatial autocorrelation,\n",
    "- [descartes](https://bitbucket.org/sgillies/descartes/src/default/) for plotting Shapely geometric objects with Matplotlib\n",
    "\n",
    "These packages may be installed as dependencies when you install Geopandas or you may need to install these directly.  We list the packages above for reference only in case you have questions about what is being installed on your system or need help getting Geopandas to run.\n"
   ]
  },
  {
   "cell_type": "markdown",
   "metadata": {},
   "source": [
    "## Congrats you're done with GeoPandas part 1!\n",
    "</br>"
   ]
  },
  {
   "cell_type": "markdown",
   "metadata": {},
   "source": [
    "\n",
    "---\n",
    "<div style=\"display:inline-block;vertical-align:middle;\">\n",
    "<a href=\"https://dataforhousing.org/\" target=\"_blank\"><img src =\"https://media-exp1.licdn.com/dms/image/C560BAQELkt35AxeIeA/company-logo_200_200/0?e=1597881600&v=beta&t=irZ1tYCA9A2biVzCguvCXzsfzanSYDFuF22IUFNY5Sg\" width=\"75\" align=\"left\">\n",
    "</a>\n",
    "</div>\n",
    "\n",
    "<div style=\"display:inline-block;vertical-align:middle;\">\n",
    "    <div style=\"font-size:larger\">&nbsp;Data Science for Housing Workshop, University of California Berkeley</div>\n",
    "    <div>&nbsp;Tim Thomas, Patty Frontiera, Emmanuel Lopez, Ethan Ebinger, Hikari Murayama, Karen Chapple, Claudia von Vacano<div>\n",
    "    <div>&copy; UC Regents, 2019-2020</div>\n",
    "</div>"
   ]
  },
  {
   "cell_type": "code",
   "execution_count": null,
   "metadata": {},
   "outputs": [],
   "source": []
  }
 ],
 "metadata": {
  "kernelspec": {
   "display_name": "Python 3",
   "language": "python",
   "name": "python3"
  },
  "language_info": {
   "codemirror_mode": {
    "name": "ipython",
    "version": 3
   },
   "file_extension": ".py",
   "mimetype": "text/x-python",
   "name": "python",
   "nbconvert_exporter": "python",
   "pygments_lexer": "ipython3",
   "version": "3.7.6"
  }
 },
 "nbformat": 4,
 "nbformat_minor": 4
}
