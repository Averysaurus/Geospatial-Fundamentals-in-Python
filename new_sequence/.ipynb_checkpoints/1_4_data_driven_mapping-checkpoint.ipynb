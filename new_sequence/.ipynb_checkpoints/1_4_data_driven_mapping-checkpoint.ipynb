{
 "cells": [
  {
   "cell_type": "markdown",
   "metadata": {},
   "source": [
    "<a id=\"section6\"></a>\n",
    "## 1.6 Data Driven Mapping\n",
    "\n",
    "Data driven mapping refers to the process of using data values to determine the symbology of mapped features. Color, shape, and size and the three most common symbology types used in data driven mapping. \n",
    "\n",
    "Data driven maps are often refered to as `thematic maps`.\n",
    "\n",
    "### Types of Thematic Maps\n",
    "\n",
    "There are two primary types of maps used to convey data values:\n",
    "\n",
    "- `Choropleth maps`: set the color of areas (polygons) by data value\n",
    "- `Point symbol maps`: set the color or size of points by data value\n",
    "\n",
    "We will discuss both of these types of maps in more detail in the next lesson. But let's take a quick look at choropleth maps. "
   ]
  },
  {
   "cell_type": "markdown",
   "metadata": {},
   "source": [
    "### Choropleth Maps\n",
    "\n",
    "Choropleth maps are the most common type of thematic map.\n",
    "\n",
    "Let's take a look at how we can use a geodataframe to make a choropleth map.\n",
    "\n",
    "First a basic map of a geodataframe using the `plot` method, which we did above..."
   ]
  },
  {
   "cell_type": "code",
   "execution_count": null,
   "metadata": {},
   "outputs": [],
   "source": [
    "tracts_acs_gdf_ac.plot()"
   ]
  },
  {
   "cell_type": "markdown",
   "metadata": {},
   "source": [
    "Now, let's create a choropleth map by setting the color of the census tracts based on the values in the population (c_race) column."
   ]
  },
  {
   "cell_type": "code",
   "execution_count": null,
   "metadata": {},
   "outputs": [],
   "source": [
    "tracts_acs_gdf_ac.plot(column='c_race')"
   ]
  },
  {
   "cell_type": "markdown",
   "metadata": {},
   "source": [
    "That's really the heart of it. To set the color of the features based on the values in a column, set the `column` argument to the column name in the gdf.\n",
    "> **Pro-tips:** \n",
    "- If you want to get rid of the matplotlib text output, add `plt.show()` or a semi-colon after the plot method.\n",
    "- You can quickly right-click on the plot and save to a file or open in a new browser window."
   ]
  },
  {
   "cell_type": "code",
   "execution_count": null,
   "metadata": {},
   "outputs": [],
   "source": [
    "tracts_acs_gdf_ac.plot(column='c_race')\n",
    "plt.show()"
   ]
  },
  {
   "cell_type": "markdown",
   "metadata": {},
   "source": [
    "Let's make this map a bit more informative now-- start by adding a legend."
   ]
  },
  {
   "cell_type": "code",
   "execution_count": null,
   "metadata": {},
   "outputs": [],
   "source": [
    "tracts_acs_gdf_ac.plot(column='c_race', \n",
    "                    legend=True)\n",
    "plt.show()"
   ]
  },
  {
   "cell_type": "markdown",
   "metadata": {},
   "source": [
    "Aesthetically, we could put the color bar on the bottom. Let's do that and make this more informative by adding a label to our color bar."
   ]
  },
  {
   "cell_type": "code",
   "execution_count": null,
   "metadata": {},
   "outputs": [],
   "source": [
    "# add a legend but put it on the bottom\n",
    "tracts_acs_gdf_ac.plot(column='c_race', \n",
    "                    legend=True,\n",
    "                    legend_kwds={'label': \"Population by County\",\n",
    "                                 'orientation': \"horizontal\"}\n",
    "                    )\n",
    "plt.show()"
   ]
  },
  {
   "cell_type": "markdown",
   "metadata": {},
   "source": [
    "Now let's make this chart bigger so we can see our tracts more clearly.\n",
    "\n",
    "You can use [matplotlib](https://matplotlib.org) commands directly to customize our maps.\n",
    "- matplotlib is the primary python plotting library"
   ]
  },
  {
   "cell_type": "code",
   "execution_count": null,
   "metadata": {},
   "outputs": [],
   "source": [
    "## Change the size by adding in some more matplotlib commands\n",
    "fig, ax = plt.subplots(figsize = (10,10)) \n",
    "tracts_acs_gdf_ac.plot(column='c_race', \n",
    "                    legend=True,\n",
    "                    legend_kwds={'label': \"Population by County\",\n",
    "                                 'orientation': \"horizontal\"},\n",
    "                    ax=ax)\n",
    "plt.show()"
   ]
  },
  {
   "cell_type": "markdown",
   "metadata": {},
   "source": [
    "### About Choropleth maps\n",
    "\n",
    "There are several types of quantitative data variables that can be used to create a choropleth map. Let's consider these in terms of our ACS data.\n",
    "\n",
    "- `Counts`: display the count of observations aggregated by a feature, for example, the population within a census tract.\n",
    "\n",
    "- `Density`: express the count within a feature by the of area of the feature, for example, population per square mile within a census tract, \n",
    "\n",
    "- `Proportions / Percentages`: compare the value of a part to the whole. For example, the proportion of the tract population that is white compared to the total tract population.\n",
    "\n",
    "- `Rates/ratios`: compare the relationship of one observation to another. For example the homeowner to renter ratio would be calculated as the number of homeowners (c_owners/ c_renters).\n",
    "\n",
    "\n",
    "The goal of a choropleth map is to use color to visualize the spatial distribution of a quantitative variable.\n",
    "\n",
    "- Brighter or richer colors are typically used to signify higher values.\n",
    "\n",
    "A big problem with choropleth maps is that our eyes are drawn to the color of larger areas, even even if the value being mapped is more significant in one or more smaller areas.\n",
    "\n",
    "This problem is exacerbated when the variable being mapped is a `count` rather than a standardized variable like density or percent. Large areas often have higher counts than smaller areas but not necessary higher densities, percents, or rates.\n",
    "\n",
    "For this reason it is considered best practice to create choropleth maps of standardized variables and not raw counts!"
   ]
  },
  {
   "cell_type": "markdown",
   "metadata": {},
   "source": [
    "### Mapping Population density\n",
    "\n",
    "With that said, we're now going to create density variables for population per square kilometer (km^2) and square mile (mi^2) and create choropleth maps of these. We can use our total population (`c_race`) and land area (`ALAND`) columns. \n",
    "\n",
    "> `Area` is present in all census geographic data \n",
    "- in the [ALAND](https://www.census.gov/quickfacts/fact/note/US/LND110210) column as the land area per sq meter.\n",
    "- and in the `AWATER` column as water area per sq meter"
   ]
  },
  {
   "cell_type": "code",
   "execution_count": null,
   "metadata": {},
   "outputs": [],
   "source": [
    "# Create population density variable\n",
    "# Land area measurements are originally recorded as whole square meters \n",
    "# To convert square meters to square kilometers, divide by 1,000,000; \n",
    "# To convert square meters to square miles, divide by 2,589,988.\n",
    "SQMETER_PER_SQKM = 1000000\n",
    "SQMETER_PER_SQMILE = 2589988\n",
    "\n",
    "tracts_acs_gdf_ac['pop_dens_km2'] = tracts_acs_gdf_ac['c_race']/ (tracts_acs_gdf_ac['ALAND']/SQMETER_PER_SQKM)\n",
    "tracts_acs_gdf_ac['pop_dens_mi2'] = tracts_acs_gdf_ac['c_race']/ (tracts_acs_gdf_ac['ALAND']/SQMETER_PER_SQMILE)"
   ]
  },
  {
   "cell_type": "markdown",
   "metadata": {},
   "source": [
    "We can check our geodataframe to make sure our new variables have been incorporated."
   ]
  },
  {
   "cell_type": "code",
   "execution_count": null,
   "metadata": {},
   "outputs": [],
   "source": [
    "tracts_acs_gdf_ac.head(3)"
   ]
  },
  {
   "cell_type": "markdown",
   "metadata": {},
   "source": [
    "#### Always check your calculations!\n",
    "You can compare the land area of [Alameda County](https://en.wikipedia.org/wiki/Alameda_County,_California) to that listed in Wikipedia to check your math (739 sq mi / 1,910 km2)."
   ]
  },
  {
   "cell_type": "code",
   "execution_count": null,
   "metadata": {},
   "outputs": [],
   "source": [
    "print(\"Land area of Alameda county in square km:\", (tracts_acs_gdf_ac['ALAND']/SQMETER_PER_SQKM).sum().round())\n",
    "print(\"Land area of Alameda county in square miles:\", (tracts_acs_gdf_ac\n",
    "                                                       ['ALAND']/SQMETER_PER_SQMILE).sum().round())"
   ]
  },
  {
   "cell_type": "markdown",
   "metadata": {},
   "source": [
    "Now let's plot population density per sq kilometer ('pop_dens_km2').\n",
    "\n",
    "- Consider how it differs from the map of population count that we made above."
   ]
  },
  {
   "cell_type": "code",
   "execution_count": null,
   "metadata": {},
   "outputs": [],
   "source": [
    "# Plot population density - km^2\n",
    "fig, ax = plt.subplots(figsize = (10,10)) \n",
    "tracts_acs_gdf_ac.plot(column='pop_dens_km2', legend=True,\n",
    "                    legend_kwds={'label': \"Population per Sq KM\",\n",
    "                                 'orientation': \"horizontal\"},\n",
    "                    ax=ax)\n",
    "plt.show()"
   ]
  },
  {
   "cell_type": "markdown",
   "metadata": {},
   "source": [
    "#### Exercise \n",
    "\n",
    "Now you try it! Map population density per sq miles."
   ]
  },
  {
   "cell_type": "code",
   "execution_count": null,
   "metadata": {},
   "outputs": [],
   "source": [
    "# Plot population density - miles^2"
   ]
  },
  {
   "cell_type": "markdown",
   "metadata": {},
   "source": [
    "Our population maps look dark blue for the most part. What does that mean? Write what you think below"
   ]
  },
  {
   "cell_type": "code",
   "execution_count": null,
   "metadata": {},
   "outputs": [],
   "source": [
    "# Put your thoughts here "
   ]
  },
  {
   "cell_type": "markdown",
   "metadata": {},
   "source": [
    "When color bunching occurs it's best to see what the distribution of your data is like. In fact it is always a good idea to explore your data values as you prepare your maps.\n",
    "\n",
    "#### Exercise \n",
    "Plot a histogram of your `pop_dens_km2` below and consider how the distribution of values impacts the colors in the choropleth map."
   ]
  },
  {
   "cell_type": "code",
   "execution_count": null,
   "metadata": {},
   "outputs": [],
   "source": [
    "# histogram of pop_dens_km2"
   ]
  },
  {
   "cell_type": "markdown",
   "metadata": {},
   "source": [
    "*Click here for answers*\n",
    "\n",
    "<!--- \n",
    "# # SOLUTION\n",
    "# # histogram of pop_dens_km2\n",
    "# tracts_acs_gdf_ac['pop_dens_km2'].hist()\n",
    "--->"
   ]
  },
  {
   "cell_type": "markdown",
   "metadata": {},
   "source": [
    "#### Looking Ahead\n",
    "\n",
    "In the next lesson we'll take a deeper dive into mapping and learn about `classification schemes` and `color palettes` so we can avoid color bunching."
   ]
  },
  {
   "cell_type": "markdown",
   "metadata": {},
   "source": [
    "### Saving a geodataframe to a file"
   ]
  },
  {
   "cell_type": "markdown",
   "metadata": {},
   "source": [
    "Let's not forget to save out our Alameda County geodataframe `tracts_acs_gdf_ac`. By saving it we will not need to repeat the processing steps and attribute join we did above.\n",
    "\n",
    "We can save to a shapefile."
   ]
  },
  {
   "cell_type": "code",
   "execution_count": null,
   "metadata": {},
   "outputs": [],
   "source": [
    "tracts_acs_gdf_ac.to_file(\"../outdata/tracts_acs_ac.shp\")"
   ]
  },
  {
   "cell_type": "markdown",
   "metadata": {},
   "source": [
    "One of the problems of saving to a shapefile is that our column names get truncated to 10 characters (a shapefile limitation.) \n",
    "\n",
    "Instead of renaming all columns with obscure names that are less than 10 characters, we can save our geodatafraem to a spatial data file format that does not have this limation - [GeoJSON](https://en.wikipedia.org/wiki/GeoJSON) or [GPKG](https://en.wikipedia.org/wiki/GeoPackage) (geopackage) file.\n",
    "- These formats have the added benefit of outputting only one file in contrast tothe multi-file shapefile format."
   ]
  },
  {
   "cell_type": "code",
   "execution_count": null,
   "metadata": {},
   "outputs": [],
   "source": [
    "tracts_acs_gdf_ac.to_file(\"../outdata/tracts_acs_gdf_ac.json\", driver=\"GeoJSON\")"
   ]
  },
  {
   "cell_type": "code",
   "execution_count": null,
   "metadata": {},
   "outputs": [],
   "source": [
    "tracts_acs_gdf_ac.to_file(\"../outdata/tracts_acs_gdf_ac.gpkg\", driver=\"GPKG\")"
   ]
  },
  {
   "cell_type": "markdown",
   "metadata": {},
   "source": [
    "We can also save out our data as a csv, dropping the geometry column."
   ]
  },
  {
   "cell_type": "code",
   "execution_count": null,
   "metadata": {},
   "outputs": [],
   "source": [
    "tracts_acs_gdf_ac.drop('geometry',axis=1).to_csv(\"../outdata/tracts_acs_gdf_ac.csv\") "
   ]
  },
  {
   "cell_type": "markdown",
   "metadata": {},
   "source": [
    "We can also save just the tract data we subsetted earlier into its own shapefile"
   ]
  },
  {
   "cell_type": "code",
   "execution_count": null,
   "metadata": {},
   "outputs": [],
   "source": [
    "tracts_gdf_ac.to_file(\"../outdata/tracts_ac.shp\")"
   ]
  },
  {
   "cell_type": "markdown",
   "metadata": {},
   "source": [
    "#### Exercise\n",
    "Go ahead and save your SF county tracts geodataframe (`tracts_gdf_sf`) as a shapefile, GeoJSON, and csv file."
   ]
  },
  {
   "cell_type": "code",
   "execution_count": null,
   "metadata": {},
   "outputs": [],
   "source": [
    "# Your code here"
   ]
  },
  {
   "cell_type": "markdown",
   "metadata": {},
   "source": [
    "*Click here for answers*\n",
    "\n",
    "<!--- \n",
    "    # SOLUTION\n",
    "    # shapefile\n",
    "    tracts_gdf_sf.to_file(\"../outdata/tracts_sf.shp\")\n",
    "\n",
    "    # SOLUTION\n",
    "    # GeoJSON\n",
    "    tracts_acs_gdf_sf.to_file(\"../outdata/tracts_acs_gdf_sf.json\", driver=\"GeoJSON\")\n",
    "\n",
    "    # SOLUTION\n",
    "    # csv\n",
    "    tracts_acs_gdf_sf.drop('geometry',axis=1).to_csv(\"../outdata/tracts_acs_gdf_sf.csv\") \n",
    "--->"
   ]
  },
  {
   "cell_type": "code",
   "execution_count": null,
   "metadata": {},
   "outputs": [],
   "source": []
  }
 ],
 "metadata": {
  "kernelspec": {
   "display_name": "Python 3",
   "language": "python",
   "name": "python3"
  },
  "language_info": {
   "codemirror_mode": {
    "name": "ipython",
    "version": 3
   },
   "file_extension": ".py",
   "mimetype": "text/x-python",
   "name": "python",
   "nbconvert_exporter": "python",
   "pygments_lexer": "ipython3",
   "version": "3.7.4"
  }
 },
 "nbformat": 4,
 "nbformat_minor": 2
}
