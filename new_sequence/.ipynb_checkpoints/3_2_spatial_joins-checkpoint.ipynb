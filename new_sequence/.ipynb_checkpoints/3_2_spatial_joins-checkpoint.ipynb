{
 "cells": [
  {
   "cell_type": "markdown",
   "metadata": {},
   "source": [
    "<a id=\"section4\"></a>\n",
    "## 3.4 Spatial join\n",
    "\n",
    "Previously, we joined permits and parcels based on a shared attribute - APN - which is included in both datasets. This is called an `attribute join`.\n",
    "\n",
    "- *What other datasets did we join by attribute?*\n",
    "\n",
    "But what if our datasets do not have a shared attribute?\n",
    "\n",
    "If two geodataframes have the same CRS we can do a **spatial join** to join attributes by shared location. \n",
    "\n",
    "We do this with the Geopandas [**sjoin**](https://geopandas.org/reference/geopandas.sjoin.html) function."
   ]
  },
  {
   "cell_type": "markdown",
   "metadata": {},
   "source": [
    "Before we begin make sure your two input geodataframes have the same CRS."
   ]
  },
  {
   "cell_type": "code",
   "execution_count": null,
   "metadata": {},
   "outputs": [],
   "source": [
    "permit_parcel_point_gdf.crs == tracts_acs_gdf.crs"
   ]
  },
  {
   "cell_type": "markdown",
   "metadata": {},
   "source": [
    "If they do not have the same CRS, transform one gdf to match the other."
   ]
  },
  {
   "cell_type": "code",
   "execution_count": null,
   "metadata": {},
   "outputs": [],
   "source": [
    "print(permit_parcel_point_gdf.crs)\n",
    "print(tracts_acs_gdf.crs)"
   ]
  },
  {
   "cell_type": "code",
   "execution_count": null,
   "metadata": {},
   "outputs": [],
   "source": [
    "# Transform ther permit points to match the CRS of the Census data (4269)\n",
    "permit_parcel_point_gdf.to_crs(tracts_acs_gdf.crs, inplace=True)\n",
    "permit_parcel_point_gdf.crs == tracts_acs_gdf.crs"
   ]
  },
  {
   "cell_type": "code",
   "execution_count": null,
   "metadata": {},
   "outputs": [],
   "source": [
    "# And for good measure...\n",
    "print(permit_parcel_point_gdf.crs)\n",
    "print(tracts_acs_gdf.crs)"
   ]
  },
  {
   "cell_type": "markdown",
   "metadata": {},
   "source": [
    "Next, read the help documentation for `sjoin` and let's take a few minutes to discuss it."
   ]
  },
  {
   "cell_type": "code",
   "execution_count": null,
   "metadata": {},
   "outputs": [],
   "source": [
    "# Take a look at the function documentation\n",
    "help(gpd.sjoin)"
   ]
  },
  {
   "cell_type": "markdown",
   "metadata": {},
   "source": [
    "Now, let's spatially join the permit data to the census data so that we can sum the number of permitted units in each census tract.  "
   ]
  },
  {
   "cell_type": "code",
   "execution_count": null,
   "metadata": {},
   "outputs": [],
   "source": [
    "# Spatially join permit data to census tract data\n",
    "tracts_and_permits_gdf = gpd.sjoin(tracts_acs_gdf, permit_parcel_point_gdf)"
   ]
  },
  {
   "cell_type": "markdown",
   "metadata": {},
   "source": [
    "Now let's take a look at the output of the spatial join."
   ]
  },
  {
   "cell_type": "code",
   "execution_count": null,
   "metadata": {},
   "outputs": [],
   "source": [
    "tracts_and_permits_gdf.head(2)"
   ]
  },
  {
   "cell_type": "markdown",
   "metadata": {},
   "source": [
    "By default `sjoin` is an inner join. It keeps the data from both geodataframes only where the locations spatially intersect. For our join, this means we maintain only those Alameda County census tracts that contain Oakland permit points.\n",
    "\n",
    "By default `sjoin` maintains the geometry of first geodataframe input to the operation, here census tracts. \n",
    "\n",
    "The output of the our `sjoin` operation is the geodataframe `tracts_and_permits_gdf` which has \n",
    "- a row for each permit application that is located within a census tract (all of which are)\n",
    "- the **polygon geometry** of the census tract in which the permit is located\n",
    "- all of the atribute data columns (non-geometry columns) from both input geodataframes.\n",
    "\n",
    "\n",
    "To confirm this, let's map the ouput geodataframe."
   ]
  },
  {
   "cell_type": "code",
   "execution_count": null,
   "metadata": {},
   "outputs": [],
   "source": [
    "tracts_and_permits_gdf.plot()"
   ]
  },
  {
   "cell_type": "markdown",
   "metadata": {},
   "source": [
    "We are missing some census tracts because not all census tracts contain permit activity **AND** we did an `inner join`\n",
    "- Where was the inner join specified?"
   ]
  },
  {
   "cell_type": "markdown",
   "metadata": {},
   "source": [
    "Take a look at the input and ouput the geometry types:"
   ]
  },
  {
   "cell_type": "code",
   "execution_count": null,
   "metadata": {},
   "outputs": [],
   "source": [
    "print(\"Permits input geometry:\", permit_parcel_point_gdf.geometry.type.unique())\n",
    "print(\"Tracts input geometry:\" , tracts_acs_gdf.geometry.type.unique())\n",
    "print(\"Tracts and permits join output geometry:\", tracts_and_permits_gdf.geometry.type.unique())"
   ]
  },
  {
   "cell_type": "markdown",
   "metadata": {},
   "source": [
    "We joined point data to polygon/multipolygon data and our join output has polygon geometry. Why, because of the order of the inputs to `sjoin` - the polygon geodataframe (census tracts) was listed first."
   ]
  },
  {
   "cell_type": "markdown",
   "metadata": {},
   "source": [
    "Now, check out the shape of the input geodataframes and output geodataframes."
   ]
  },
  {
   "cell_type": "code",
   "execution_count": null,
   "metadata": {},
   "outputs": [],
   "source": [
    "print(\"Permits:\", permit_parcel_point_gdf.shape)\n",
    "print(\"Tracts:\" , tracts_acs_gdf.shape)\n",
    "print(\"Tracts and permits:\", tracts_and_permits_gdf.shape)"
   ]
  },
  {
   "cell_type": "markdown",
   "metadata": {},
   "source": [
    "Our output geodataframe has the same number of rows as the permits geodataframe. This is because all permits fall within an Oakland census tract and thus are included in the join output."
   ]
  },
  {
   "cell_type": "markdown",
   "metadata": {},
   "source": [
    "However, the output geodataframe  has duplicate census tract data because there are tracts that contain more than one permit application. \n",
    "\n",
    "For example, let's look at the rows for one census tract:"
   ]
  },
  {
   "cell_type": "code",
   "execution_count": null,
   "metadata": {},
   "outputs": [],
   "source": [
    "tracts_and_permits_gdf[tracts_and_permits_gdf['GEOID'] == '06001400600'][['GEOID','APN','units_permit']]"
   ]
  },
  {
   "cell_type": "markdown",
   "metadata": {},
   "source": [
    "Let's look just at the number of permitted units for this census tract."
   ]
  },
  {
   "cell_type": "markdown",
   "metadata": {},
   "source": [
    "So, our sjoin output is not map ready. We first need to aggregate the number of permitted units by census tract, grouping the data by `GEOID` which is a unique identifier.\n",
    "\n",
    "Ok, let's sum `units_permit` in each census tract.  We can do this using a pandas `groupby` operation."
   ]
  },
  {
   "cell_type": "code",
   "execution_count": null,
   "metadata": {},
   "outputs": [],
   "source": [
    "tract_permit_counts_df = tracts_and_permits_gdf[['GEOID','units_permit']].groupby('GEOID', as_index=False).sum()\n",
    "print(\"Rows and columns:\", tract_permit_counts_df.shape)\n",
    "\n",
    "# take a look at the data\n",
    "tract_permit_counts_df.head(7)"
   ]
  },
  {
   "cell_type": "markdown",
   "metadata": {},
   "source": [
    "Now we can verify that the sum of permitted units for census tract `06001400600` (at row index 5) is seven.\n",
    "\n",
    "The above `groupby` and sum operations give us the counts that we are looking for:\n",
    "- We have identified the 105 census tracts that contain permit application locations.\n",
    "- We have the number of `units_permit` within those census tracts. \n",
    "\n",
    "But the output of `groupby` is a dataframe not a geodataframe.\n",
    "\n",
    "If we want to output a spatial geodataframe we can to do one of two things:\n",
    "1. join the `groupby` output to the tracts_acs_gdf by the attribute `GEOID`\n",
    "or\n",
    "2. use the geodataframe [**dissolve**](https://geopandas.org/aggregation_with_dissolve.html) method, which you can think of as a spatial `groupby`. \n",
    "\n",
    "Since we already know how to do an attribute join, let's do the `dissolve`."
   ]
  },
  {
   "cell_type": "code",
   "execution_count": null,
   "metadata": {},
   "outputs": [],
   "source": [
    "tract_permit_counts_gdf=tracts_and_permits_gdf[['GEOID','geometry','units_permit']].dissolve(by='GEOID', aggfunc=\"sum\", as_index=False)\n",
    "print(\"Rows and columns: \", tract_permit_counts_gdf.shape)\n",
    "\n",
    "# take a look\n",
    "tract_permit_counts_gdf.head(7)"
   ]
  },
  {
   "cell_type": "markdown",
   "metadata": {},
   "source": [
    "Let's break that down.\n",
    "\n",
    "- The `dissolve` operation requires a geometry column and a grouping column, which above is GEOID. Any geometries within the **same group** will be dissolved if they have the same geometry or nested geometries. \n",
    " \n",
    "- The `aggfunc`, or aggregation function, of the dissolve operation will be applied to all numeric columns in the input geodataframe (unless the function is `count` in which case it will count rows.)  \n",
    "\n",
    "Check out the Geopandas documentation on [dissolve](https://geopandas.org/aggregation_with_dissolve.html?highlight=dissolve) for more information.\n",
    "\n",
    "Above we selected three columns from the input geodataframe to create a subset as input to the dissolve operation. Can you think of why we did that?"
   ]
  },
  {
   "cell_type": "markdown",
   "metadata": {},
   "source": [
    "### Mapping our Spatial Join Output"
   ]
  },
  {
   "cell_type": "markdown",
   "metadata": {},
   "source": [
    "Because our `sjoin` plus `dissolve` operation outputs a geodataframe, we can map the count of `units_permit` by census tract."
   ]
  },
  {
   "cell_type": "code",
   "execution_count": null,
   "metadata": {},
   "outputs": [],
   "source": [
    "fig, ax = plt.subplots(figsize = (14,8)) \n",
    "\n",
    "# Display the output of our spatial join\n",
    "tract_permit_counts_gdf.plot(ax=ax,column='units_permit', \n",
    "                             scheme=\"quantiles\", \n",
    "                             cmap=\"YlGnBu\",\n",
    "                             edgecolor=\"grey\",\n",
    "                             legend=True, \n",
    "                             legend_kwds={'title':'Permited units'})\n",
    "\n",
    "plt.show()"
   ]
  },
  {
   "cell_type": "markdown",
   "metadata": {},
   "source": [
    "\n",
    "<div style=\"display:inline-block;vertical-align:top;\">\n",
    "    <img src=\"https://image.flaticon.com/icons/svg/87/87705.svg\" width=\"30\" align=left > \n",
    "</div>  \n",
    "<div style=\"display:inline-block;\">\n",
    "\n",
    "#### Questions\n",
    "</div>\n",
    "\n",
    "- How does the above map convey the distribution of `units_permit` in Oakland differently compared to the point of `units_permit` we created previously? \n",
    "- What does the above map tell you about the spatial distribution of permits in Oakland?\n",
    "- Does the output geodataframe include all census tracts in Oakland?\n",
    "\n",
    "- Why does the output include census tracts with zero permitted units?\n",
    "\n",
    "- What addition(s) could improve the above map?\n",
    "\n",
    "<img align=\"left\" width=500 src=\"https://upload.wikimedia.org/wikipedia/commons/f/ff/Cat_on_laptop_-_Just_Browsing.jpg\"></img>\n"
   ]
  },
  {
   "cell_type": "markdown",
   "metadata": {},
   "source": [
    "#### Exercise\n",
    "\n",
    "1. Use `dissolve` with the `tracts_and_permits_gdf` geodataframe to **count** the number of permit applications by census tract.\n",
    "  - Hint, group by the column that is unique to permit apps (APN). This will also be the name of the output column\n",
    "\n",
    "\n",
    "2. Use `dissolve` with the `tracts_and_permits_gdf` geodataframe to calculate the **mean** median household income (`med_hhinc`) in census tracts with more than one permitted unit by census tract.\n",
    "\n",
    "\n",
    "3. Make choropleth maps of the two variables `applications by tract` and `median household income`."
   ]
  },
  {
   "cell_type": "code",
   "execution_count": null,
   "metadata": {},
   "outputs": [],
   "source": [
    "# Your code here\n",
    "\n",
    "# 1. Count of Permit Applications by census tract\n",
    "app_count_gdf=...\n",
    "#app_count_gdf.head()"
   ]
  },
  {
   "cell_type": "code",
   "execution_count": null,
   "metadata": {},
   "outputs": [],
   "source": [
    "# 2. Mean median household income in tracts with more than one permit application by census tract\n",
    "mean_hhinc_gdf=...\n",
    "#mean_hhinc_gdf.head()"
   ]
  },
  {
   "cell_type": "code",
   "execution_count": null,
   "metadata": {},
   "outputs": [],
   "source": [
    "# 3. Maps (uncomment and complete)\n",
    "#app_count_gdf.plot(...)\n",
    "#mean_hhinc_gdf.plot(...)"
   ]
  },
  {
   "cell_type": "markdown",
   "metadata": {},
   "source": [
    "*Click here for answers*\n",
    "\n",
    "<!---\n",
    "# SOLUTION 1\n",
    "# Count of Permit Applications by census tract\n",
    "app_count_gdf=tracts_and_permits_gdf[['GEOID','geometry','APN']].dissolve(by='GEOID', aggfunc=\"count\", as_index=False)\n",
    "app_count_gdf.head()\n",
    "\n",
    "# SOLUTION 2\n",
    "# Mean median household income in tracts with more than one permit application by census tract\n",
    "mean_hhinc_gdf=tracts_and_permits_gdf[['GEOID','geometry','med_hhinc']].dissolve(by='GEOID', aggfunc=\"mean\", as_index=False)\n",
    "mean_hhinc_gdf()\n",
    "\n",
    "## SOULTION 3\n",
    "app_count_gdf.plot(column='APN', legend=True, legend_kwds={'label': 'Count of aps'});\n",
    "mean_hhinc_gdf.plot(column='med_hhinc', legend=True, legend_kwds={'label': 'Avg med hhinc'});\n",
    "--->\n"
   ]
  },
  {
   "cell_type": "code",
   "execution_count": null,
   "metadata": {},
   "outputs": [],
   "source": []
  }
 ],
 "metadata": {
  "kernelspec": {
   "display_name": "Python 3",
   "language": "python",
   "name": "python3"
  },
  "language_info": {
   "codemirror_mode": {
    "name": "ipython",
    "version": 3
   },
   "file_extension": ".py",
   "mimetype": "text/x-python",
   "name": "python",
   "nbconvert_exporter": "python",
   "pygments_lexer": "ipython3",
   "version": "3.7.4"
  }
 },
 "nbformat": 4,
 "nbformat_minor": 2
}
