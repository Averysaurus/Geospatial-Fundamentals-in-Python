{
 "cells": [
  {
   "cell_type": "markdown",
   "metadata": {},
   "source": [
    "# 5. Proximity Calculations\n",
    "Phew! We're going to continue building off what we've learned!\n",
    "\n",
    "- [5.1 Introduction  ](#section1)\n",
    "- [5.2 Proximity Analysis ](#section2)\n",
    "    - Load and Prepare the Permit data\n",
    "    - Create Buffer Polygons around Permit Points\n",
    "    - Load and Prepare the BART stations Data\n",
    "    - Spatial Join\n",
    "    - Count the number of BART stations within walking distance\n",
    "- [5.3 Exploratory Analysis ](#section3)\n",
    "   - Map overlays\n",
    "   - Interactive mapping\n",
    "- [5.4 Recap](#section4)\n",
    "- [5.5 Homework](#section5)\n",
    "\n",
    "**INSTRUCTOR NOTES**:\n",
    "- Datasets used:\n",
    "    - \"../notebook_data/outdata/tracts_and_permits_gdf.json\"\n",
    "    - \"../notebook_data/outdata/permits_and_tracts_gdf.json\"\n",
    "    \n",
    "\n",
    "- Expected time to complete:\n",
    "    - Lecture + Questions: 45 minutes\n",
    "    - Homework: 45 minutes"
   ]
  },
  {
   "cell_type": "markdown",
   "metadata": {},
   "source": [
    "<a id=\"section1\"></a>\n",
    "## 5.1 Introduction\n",
    "\n",
    "In `s3_3` we explored how to enhance a data set with spatial joins with the Geopandas `sjoin` operation.\n",
    "\n",
    "Specifically, we joined the permit application data to census tract ACS data by spatial location so that we could summarize the permit data by census tract and the ACS data for tracts that contain approved permits.\n",
    "  \n",
    "- We did the sjoin twice, outputting:\n",
    "  - `tracts_and_permits_gdf`, a polygon geodataframe  \n",
    "  - `permits_and_tracts_gdf`, a point geodataframe\n",
    "  \n",
    "We also output a geodataframe of the City of Oakland boundary\n",
    "  - `oakland_gdf`\n",
    "  \n",
    "In this notebook we build on that effort to further enhance our permit data.\n",
    "\n",
    "- First, we introduce buffers as a way to identify permit application locations within walking distance to BART. \n",
    "- Then, we will create some maps from this data.\n"
   ]
  },
  {
   "cell_type": "markdown",
   "metadata": {},
   "source": [
    "### Set-Up\n",
    "Let's import the packages we need before we get started."
   ]
  },
  {
   "cell_type": "code",
   "execution_count": null,
   "metadata": {},
   "outputs": [],
   "source": [
    "import math\n",
    "import numpy as np\n",
    "import pandas as pd\n",
    "import collections\n",
    "import requests \n",
    "from urllib.request import urlopen, Request\n",
    "\n",
    "import json # for working with JSON data\n",
    "import geojson # ditto for GeoJSON data - an extension of JSON with support for geographic data\n",
    "import geopandas as gpd\n",
    "import mapclassify # to classify data values\n",
    "\n",
    "import matplotlib # base python plotting library\n",
    "%matplotlib inline  \n",
    "import matplotlib.pyplot as plt # more plotting stuff\n",
    "\n",
    "import folium # popular python web mapping tool for creating Leaflet maps\n",
    "import folium.plugins\n",
    "from folium.plugins import MeasureControl"
   ]
  },
  {
   "cell_type": "code",
   "execution_count": null,
   "metadata": {},
   "outputs": [],
   "source": [
    "# We are getting futurewarning errors about the syntax of CRS definitions, ie \"init=epsg:4269\" vs \"epsg:4269\"\n",
    "# so suppress as these are minor\n",
    "import warnings\n",
    "warnings.simplefilter(action='ignore', category=FutureWarning)"
   ]
  },
  {
   "cell_type": "markdown",
   "metadata": {},
   "source": [
    "<a id=\"section2\"></a>\n",
    "## 5.2 Proximity Analysis Buffers\n",
    "\n",
    "Proximity analysis is a key part of spatial analysis. It considers what is nearby, in accordance with [Tobler's first law of geography](https://en.wikipedia.org/wiki/Tobler%27s_first_law_of_geography) which we paraphrase as \"*Everything is related but nearby things are more related*.\"\n",
    "\n",
    "In practice, distance-based buffer polygons around geospatial features are often used to examine proximal relationships. For example, one may want to consider how many parks are within walking distance of schools in order to identify underserved schools. This could be implemented using the following \"recipe\":\n",
    "\n",
    "1. define walking distance, eg 500 meters or 1/3 mile\n",
    "2. create buffer polygons around park features with a radious of `walking distance`\n",
    "3. use a spatial join to associate schools with parks\n",
    "4. count the number of parks with the school buffers.\n",
    "\n",
    "Buffers can take on different shapes according to your original geometries (\"input\"). Putting a buffer around these can result in what you see in the second row of the image. The third row would result if we decided to find the entire regions the buffers would cover.\n",
    "\n",
    "<img src = \"https://pro.arcgis.com/en/pro-app/tool-reference/analysis/GUID-267CF0D1-DB92-456F-A8FE-F819981F5467-web.png\" height=\"500\" width=\"500\">\n",
    "\n",
    "\n",
    " \n",
    "In this section we will use buffers to enhance our permit data as we ask *\"how many BART stations are within walking distance of each permit location?\"*\n",
    "\n",
    "\n",
    "<div style=\"display:inline-block;vertical-align:top;\">\n",
    "    <img src=\"http://www.pngall.com/wp-content/uploads/2016/03/Light-Bulb-Free-PNG-Image.png\" width=\"30\" align=left > \n",
    "</div>  \n",
    "<div style=\"display:inline-block;\">\n",
    "\n",
    "#### Questions\n",
    "</div>\n",
    "\n",
    "- What is the geometry of our permit data? \n",
    "- What will the buffers look like?\n",
    "- What do we need to do to the geodataframes before we can spatial join them?\n"
   ]
  },
  {
   "cell_type": "code",
   "execution_count": null,
   "metadata": {},
   "outputs": [],
   "source": [
    "# Write your thoughts here"
   ]
  },
  {
   "cell_type": "markdown",
   "metadata": {},
   "source": [
    "### Step 1. Prepare the Data\n",
    "\n",
    "#### Load the Permit data\n",
    "First up, we will read in the permit data from a previous lesson. If you recall, a spatial join enhanced the permit data with census tract information and other ACS data. "
   ]
  },
  {
   "cell_type": "code",
   "execution_count": null,
   "metadata": {},
   "outputs": [],
   "source": [
    "permits_gdf = gpd.read_file(\"../notebook_data/outdata/permits_and_tracts_gdf.json\", driver=\"GeoJSON\")\n",
    "permits_gdf.plot()"
   ]
  },
  {
   "cell_type": "markdown",
   "metadata": {},
   "source": [
    "If we look at the permit data we will see that it is enhanced with ACS data for the tract within which it resides."
   ]
  },
  {
   "cell_type": "code",
   "execution_count": null,
   "metadata": {},
   "outputs": [],
   "source": [
    "permits_gdf.head()"
   ]
  },
  {
   "cell_type": "code",
   "execution_count": null,
   "metadata": {},
   "outputs": [],
   "source": [
    "permits_gdf.shape"
   ]
  },
  {
   "cell_type": "markdown",
   "metadata": {},
   "source": [
    "#### Load the BART Station Data\n",
    "\n",
    "If we look inside our notebook_data transportation folder we see a `bart_stations.csv` file. Let's check it out."
   ]
  },
  {
   "cell_type": "code",
   "execution_count": null,
   "metadata": {},
   "outputs": [],
   "source": [
    "!ls ../notebook_data/transportation"
   ]
  },
  {
   "cell_type": "markdown",
   "metadata": {},
   "source": [
    "Since this is a CSV file and not a shapefile or another geographic file format, we will read it in with pandas to a dataframe."
   ]
  },
  {
   "cell_type": "code",
   "execution_count": null,
   "metadata": {},
   "outputs": [],
   "source": [
    "# Read in bart stations\n",
    "# Read in CSV file\n",
    "df = pd.read_csv(\"../notebook_data/transportation/bart_stations.csv\")\n",
    "df.head()"
   ]
  },
  {
   "cell_type": "markdown",
   "metadata": {},
   "source": [
    "Oops! that didnt work well. Let's specify the delimiter / column separator character"
   ]
  },
  {
   "cell_type": "code",
   "execution_count": null,
   "metadata": {},
   "outputs": [],
   "source": [
    "# Read in bart stations\n",
    "# Read in CSV file\n",
    "df = pd.read_csv(\"../notebook_data/transportation/bart_stations.csv\", sep=\";\")\n",
    "df.head()"
   ]
  },
  {
   "cell_type": "markdown",
   "metadata": {},
   "source": [
    "It's a common workflow to get point data in a CSV file. \n",
    "\n",
    "Then we convert it to a geodataframe by identifying the columns that contain the point geometry."
   ]
  },
  {
   "cell_type": "code",
   "execution_count": null,
   "metadata": {},
   "outputs": [],
   "source": [
    "#Convert the DataFrame to a GeoDataFrame. \n",
    "bart_gdf = gpd.GeoDataFrame( df, geometry=gpd.points_from_xy(df.lon, df.lat)) \n",
    "\n",
    "# and take a look\n",
    "bart_gdf.plot();"
   ]
  },
  {
   "cell_type": "markdown",
   "metadata": {},
   "source": [
    "Humm.... what's odd about that?"
   ]
  },
  {
   "cell_type": "code",
   "execution_count": null,
   "metadata": {},
   "outputs": [],
   "source": [
    "#Convert the DataFrame to a GeoDataFrame. \n",
    "bart_gdf = gpd.GeoDataFrame( df, geometry=gpd.points_from_xy(df.lat, df.lon)) \n",
    "\n",
    "# and take a look\n",
    "bart_gdf.plot()"
   ]
  },
  {
   "cell_type": "code",
   "execution_count": null,
   "metadata": {},
   "outputs": [],
   "source": [
    "# Take a look \n",
    "bart_gdf.head()"
   ]
  },
  {
   "cell_type": "markdown",
   "metadata": {},
   "source": [
    "Since a CSV file doesn't have a CRS we need to define it."
   ]
  },
  {
   "cell_type": "code",
   "execution_count": null,
   "metadata": {},
   "outputs": [],
   "source": [
    "# Check it out\n",
    "print(\"Here is our CRS after reading in the CSV file: \", bart_gdf.crs)\n",
    "\n",
    "# Define the CRS\n",
    "bart_gdf.crs = 'epsg:4326'\n",
    "\n",
    "# Check it out\n",
    "print(\"Here is our CRS now: \", bart_gdf.crs)\n"
   ]
  },
  {
   "cell_type": "markdown",
   "metadata": {},
   "source": [
    "### Step 2. Define Walking distance\n",
    "\n",
    "Our goal is to add to the `permit_gdf` geodataframe a column with the number of BART stations within walking distance.\n",
    "\n",
    "The first step in doing this is to define walking distance. We can read the planning literature for ideas but let's assume for this exercise that it is 500 meters, which is about 1/3 mile."
   ]
  },
  {
   "cell_type": "code",
   "execution_count": null,
   "metadata": {},
   "outputs": [],
   "source": [
    "walking_distance_meters = 500;  # setting walking distance initially to 500 meters"
   ]
  },
  {
   "cell_type": "markdown",
   "metadata": {},
   "source": [
    "### Step 3. Prepare data for Buffer Analysis\n",
    "\n",
    "In order to create buffer polygons around our permit locations we need to transform our permit geodataframe to a 2D CRS where the units set are meters.  If you recall from our first Geopandas lesson there are a number of these CRSs for California.\n",
    "\n",
    "Let's use the `California Albers CRS, NAD83 (epsg:3310`) since that can be used for any city in CA.\n"
   ]
  },
  {
   "cell_type": "markdown",
   "metadata": {},
   "source": [
    "Now check the CRS of the permits geodataframe."
   ]
  },
  {
   "cell_type": "code",
   "execution_count": null,
   "metadata": {
    "scrolled": true
   },
   "outputs": [],
   "source": [
    "permits_gdf.crs"
   ]
  },
  {
   "cell_type": "markdown",
   "metadata": {},
   "source": [
    "Create a new permits geodataframe that has the CRS 3310."
   ]
  },
  {
   "cell_type": "code",
   "execution_count": null,
   "metadata": {},
   "outputs": [],
   "source": [
    "permits_3310 = permits_gdf.to_crs('epsg:3310')"
   ]
  },
  {
   "cell_type": "markdown",
   "metadata": {},
   "source": [
    "Now that we've transformed, or reprojected, the permit data, let's plot it. Notice the different coordinate values."
   ]
  },
  {
   "cell_type": "code",
   "execution_count": null,
   "metadata": {},
   "outputs": [],
   "source": [
    "permits_3310.plot(figsize=(8,10)) # note the different coordinate values - no longer lat/lon!\n",
    "plt.show()"
   ]
  },
  {
   "cell_type": "markdown",
   "metadata": {},
   "source": [
    "Ok, now create a new version of the bart data with the CAL Albers CRS (3310)"
   ]
  },
  {
   "cell_type": "code",
   "execution_count": null,
   "metadata": {},
   "outputs": [],
   "source": [
    "# transform the crS\n",
    "bart_3310 = ..."
   ]
  },
  {
   "cell_type": "code",
   "execution_count": null,
   "metadata": {},
   "outputs": [],
   "source": [
    "# plot it\n"
   ]
  },
  {
   "cell_type": "code",
   "execution_count": null,
   "metadata": {},
   "outputs": [],
   "source": [
    "# Take a look at the geodataframe\n"
   ]
  },
  {
   "cell_type": "markdown",
   "metadata": {},
   "source": [
    "### Step 4.  Create Buffer Polygons\n",
    "\n",
    "With that we can go on to actually making our buffers around the BART Stations that have the `walking distance` as the radius. We do this with the Geopandas geodataframe `.buffer()` method."
   ]
  },
  {
   "cell_type": "code",
   "execution_count": null,
   "metadata": {},
   "outputs": [],
   "source": [
    "# Make sure\n",
    "bart_3310 = bart_gdf.to_crs('epsg:3310')\n",
    "\n",
    "bart_buf = bart_3310.buffer(distance=walking_distance_meters)"
   ]
  },
  {
   "cell_type": "markdown",
   "metadata": {},
   "source": [
    "Now let's map the output."
   ]
  },
  {
   "cell_type": "code",
   "execution_count": null,
   "metadata": {
    "scrolled": false
   },
   "outputs": [],
   "source": [
    "fig, ax = plt.subplots(figsize=(20,20))\n",
    "bart_buf.plot(ax=ax, color=\"pink\", edgecolor=\"green\")\n",
    "bart_3310.plot(ax=ax, color='black')\n",
    "plt.show()"
   ]
  },
  {
   "cell_type": "markdown",
   "metadata": {},
   "source": [
    "Let's add the permit points to the map"
   ]
  },
  {
   "cell_type": "code",
   "execution_count": null,
   "metadata": {},
   "outputs": [],
   "source": [
    "# Map it\n",
    "fig, ax = plt.subplots(figsize = (20,20)) \n",
    "\n",
    "# Display the buffer output\n",
    "bart_buf.plot(ax=ax,color=\"pink\", edgecolor=\"green\")\n",
    "\n",
    "# Overlay the permit points\n",
    "permits_3310.plot(ax=ax, color=\"blue\", alpha=0.5, markersize=5)\n",
    "\n",
    "plt.show()"
   ]
  },
  {
   "cell_type": "markdown",
   "metadata": {},
   "source": [
    "You can see from the map above that each BART station now has a buffer polygon.\n",
    "\n",
    "You also get a sense that some but not all permit locations are near Bart stations.\n",
    "\n",
    "Let's take a quick look at the data in the buffer output `bart_buf`."
   ]
  },
  {
   "cell_type": "code",
   "execution_count": null,
   "metadata": {},
   "outputs": [],
   "source": [
    "bart_buf.head()"
   ]
  },
  {
   "cell_type": "markdown",
   "metadata": {},
   "source": [
    "What type of data is that?"
   ]
  },
  {
   "cell_type": "code",
   "execution_count": null,
   "metadata": {},
   "outputs": [],
   "source": [
    "type(bart_buf)"
   ]
  },
  {
   "cell_type": "markdown",
   "metadata": {},
   "source": [
    "The output of the `buffer` operation is a Geopandas `GeoSeries` NOT a geodataframe. Before we can proceed we need to create a geodataframe.\n",
    "\n",
    "We can create a geodataframe by combining a few key columns from the permit data with the buffer geometry."
   ]
  },
  {
   "cell_type": "code",
   "execution_count": null,
   "metadata": {},
   "outputs": [],
   "source": [
    "# Create a permit_buf geodataframe\n",
    "bart_buf_gdf = gpd.GeoDataFrame(data=bart_3310[['station_name']],\n",
    "                                  geometry=bart_buf)"
   ]
  },
  {
   "cell_type": "code",
   "execution_count": null,
   "metadata": {},
   "outputs": [],
   "source": [
    "# Take a look at our permit buffer geodataframe\n",
    "bart_buf_gdf.head()"
   ]
  },
  {
   "cell_type": "markdown",
   "metadata": {},
   "source": [
    "Nice work! We now have a geodataframe with all of our bart 500m buffer polygons and our permit geodataframe."
   ]
  },
  {
   "cell_type": "markdown",
   "metadata": {},
   "source": [
    "<div style=\"display:inline-block;vertical-align:top;\">\n",
    "    <img src=\"http://www.pngall.com/wp-content/uploads/2016/03/Light-Bulb-Free-PNG-Image.png\" width=\"30\" align=left > \n",
    "</div>  \n",
    "<div style=\"display:inline-block;\">\n",
    "\n",
    "#### Question\n",
    "</div>\n",
    "How would you go from a buffer polygon geodataframe back to a point geodataframe?"
   ]
  },
  {
   "cell_type": "code",
   "execution_count": null,
   "metadata": {},
   "outputs": [],
   "source": [
    "# Write your thoughts"
   ]
  },
  {
   "cell_type": "markdown",
   "metadata": {},
   "source": [
    "Next we want to join them so that we can identify the permits that are within walking distance of BART."
   ]
  },
  {
   "cell_type": "markdown",
   "metadata": {},
   "source": [
    "In order to be able to identify those permits after our `spatial join` we first want to create a new variable called `bart_count`. Since each row is for one Bart station, we're going to set our variable to 1 for every entry.  \n",
    "\n",
    "> This type of variable is often called a `dichotomous variable`, `binary variable` or `dummy_variable`."
   ]
  },
  {
   "cell_type": "code",
   "execution_count": null,
   "metadata": {},
   "outputs": [],
   "source": [
    "bart_buf_gdf['bart_count'] = 1\n",
    "bart_buf_gdf.head(5)"
   ]
  },
  {
   "cell_type": "markdown",
   "metadata": {},
   "source": [
    "### Step 5. Spatially join the Permit buffers and BART data\n",
    "\n",
    "Great, now that we have our data in the right CRS with our new BART count variable, we're going to go ahead and identify the permit point locations within waking distance of a BART station.\n",
    "\n",
    "To do that, we're going to do a **spatial join** using the geopandas **sjoin** function. "
   ]
  },
  {
   "cell_type": "code",
   "execution_count": null,
   "metadata": {},
   "outputs": [],
   "source": [
    "help(gpd.sjoin)"
   ]
  },
  {
   "cell_type": "markdown",
   "metadata": {},
   "source": [
    "Before proceeding, consider this:\n",
    "\n",
    "- What geodataframe should be listed first in the spatial join as the `left_df`? Why does this matter?\n",
    "- Do we want to do a default inner join or a left join?\n",
    "- What will the output geometry type be? What do we want it to be?\n",
    "\n",
    "\n",
    "\n",
    "<img align=\"left\" width=500 src=\"https://upload.wikimedia.org/wikipedia/commons/f/ff/Cat_on_laptop_-_Just_Browsing.jpg\"></img>"
   ]
  },
  {
   "cell_type": "markdown",
   "metadata": {},
   "source": [
    "\n",
    "OK, spatial join time!"
   ]
  },
  {
   "cell_type": "code",
   "execution_count": null,
   "metadata": {
    "scrolled": true
   },
   "outputs": [],
   "source": [
    "# Join the bart data to the permit data to identify permit locations near bart\n",
    "permits_near_bart_gdf = gpd.sjoin(permits_3310,bart_buf_gdf)\n",
    "permit_near_bart_gdf.head()"
   ]
  },
  {
   "cell_type": "markdown",
   "metadata": {},
   "source": [
    "<img align=\"left\" width=500 src=\"https://upload.wikimedia.org/wikipedia/commons/thumb/8/8f/Sad_Lucy.jpg/640px-Sad_Lucy.jpg\"></img>"
   ]
  },
  {
   "cell_type": "markdown",
   "metadata": {},
   "source": [
    "Our permit geodataframe has a little artifact left over from a previous spatial join - the `index_right` column. This needs to be dropped."
   ]
  },
  {
   "cell_type": "code",
   "execution_count": null,
   "metadata": {},
   "outputs": [],
   "source": [
    "#list(permits_3310.columns)\n",
    "permits_3310.drop(columns=['index_right'], inplace=True)"
   ]
  },
  {
   "cell_type": "markdown",
   "metadata": {},
   "source": [
    "Now try that spatial join again!"
   ]
  },
  {
   "cell_type": "code",
   "execution_count": null,
   "metadata": {
    "scrolled": true
   },
   "outputs": [],
   "source": [
    "permits_near_bart_gdf = gpd.sjoin(permits_3310, bart_buf_gdf)\n",
    "permits_near_bart_gdf.head()"
   ]
  },
  {
   "cell_type": "markdown",
   "metadata": {},
   "source": [
    "Before diving too deep into our results. We can start by double checking the shape of our input and output geodataframes to make sure they seem reasonable."
   ]
  },
  {
   "cell_type": "code",
   "execution_count": null,
   "metadata": {},
   "outputs": [],
   "source": [
    "print(\"Number of permit buffers\",len(permits_3310))\n",
    "print(\"Number of BART stations:\",len(bart_buf_gdf))\n",
    "print(\"Number of Permits in BART bufs\",len(permits_near_bart_gdf))\n",
    "\n",
    "#print(\"Number of instances BART stations are within Permit Buffers:\",len(permit_buf_bart_gdf))"
   ]
  },
  {
   "cell_type": "markdown",
   "metadata": {},
   "source": [
    "\n",
    "### Step 6. Count the number of Bart Stations within walking Distance of Permit Locations\n",
    "\n",
    "Now that we have done our spatial join, we can sum the count of BART stations within walking distance of permit locations. We will dissolve duplicate geometries that share the same `jurisdiction_id`, assuming this to be a unique ID for the permit applications."
   ]
  },
  {
   "cell_type": "code",
   "execution_count": null,
   "metadata": {},
   "outputs": [],
   "source": [
    "permit_bart_counts_gdf =permits_near_bart_gdf[['jurisdiction_id','geometry','bart_count']].dissolve(by='jurisdiction_id', aggfunc=\"sum\", as_index=False)\n",
    "permit_bart_counts_gdf"
   ]
  },
  {
   "cell_type": "markdown",
   "metadata": {},
   "source": [
    "We can combine this output with our sjoin input permit geodataframe (`permits_3310`) to enhance the permit information."
   ]
  },
  {
   "cell_type": "code",
   "execution_count": null,
   "metadata": {},
   "outputs": [],
   "source": [
    "permits_gdf_enhanced = permits_3310.merge(permit_bart_counts_gdf[['jurisdiction_id','bart_count']], on=\"jurisdiction_id\", how=\"left\")"
   ]
  },
  {
   "cell_type": "code",
   "execution_count": null,
   "metadata": {},
   "outputs": [],
   "source": [
    "# Take a look\n",
    "permits_gdf_enhanced.sort_values(by=\"bart_count\", ascending=False).head()"
   ]
  },
  {
   "cell_type": "code",
   "execution_count": null,
   "metadata": {},
   "outputs": [],
   "source": [
    "permits_gdf_enhanced.shape"
   ]
  },
  {
   "cell_type": "markdown",
   "metadata": {},
   "source": [
    "Now let's use `value_counts` to check the distribution of values in the `bart_count` column."
   ]
  },
  {
   "cell_type": "code",
   "execution_count": null,
   "metadata": {},
   "outputs": [],
   "source": [
    "permits_gdf_enhanced.bart_count.value_counts(dropna=False)"
   ]
  },
  {
   "cell_type": "markdown",
   "metadata": {},
   "source": [
    "You can see above that after the merge the `bart_count` column is NaN (not a number/null) for permit locations that were not within walking distance to BART.\n",
    "\n",
    "We can use the `fillna()` method to set those values to zero."
   ]
  },
  {
   "cell_type": "code",
   "execution_count": null,
   "metadata": {},
   "outputs": [],
   "source": [
    "permits_gdf_enhanced.bart_count.fillna(0, inplace=True)\n",
    "\n",
    "# And check the counts again\n",
    "permits_gdf_enhanced.bart_count.value_counts(dropna=False)"
   ]
  },
  {
   "cell_type": "markdown",
   "metadata": {},
   "source": [
    "Phew! now let's map our output. The ultimate sanity check."
   ]
  },
  {
   "cell_type": "code",
   "execution_count": null,
   "metadata": {},
   "outputs": [],
   "source": [
    "# Map it\n",
    "fig, ax = plt.subplots(figsize = (10,10)) \n",
    "\n",
    "# Display the buffer output in PINK\n",
    "bart_buf_gdf.plot(ax=ax, edgecolor=\"black\",color=\"pink\", alpha=0.5)\n",
    "\n",
    "# Overlay the bart points in RED\n",
    "permits_gdf_enhanced.sort_values(by=\"bart_count\").plot(ax=ax, column='bart_count', categorical=True, legend=True)\n",
    "\n",
    "# Set x and y limits to zoom into Oakland\n",
    "ax.set_xlim([-203000,-185000])\n",
    "ax.set_ylim([-31000,-14000])\n",
    "\n",
    "ax.set_title('Oakland Permit Application locations by Number of BART Stations within Walking Distance')\n",
    "plt.show()"
   ]
  },
  {
   "cell_type": "markdown",
   "metadata": {},
   "source": [
    "<a id=\"section3\"></a>\n",
    "## 5.3. Exploratory Analysis\n",
    "\n",
    "Once you have enhanced your spatial data the next step is to explore relationships and build and test hypothesis about the data.\n",
    "\n",
    "For example, let's explore whether or not these locations are in census tracts with a high number of approved units.\n",
    "\n",
    "First, let's read in the tract polygon with permit data file that we created in a previous lesson."
   ]
  },
  {
   "cell_type": "code",
   "execution_count": null,
   "metadata": {},
   "outputs": [],
   "source": [
    "# Read in census tract ACS data with joined permit data\n",
    "tracts_with_permits = gpd.read_file(\"../notebook_data/outdata/tracts_and_permits_gdf.json\", drive=\"GeoJSON\")"
   ]
  },
  {
   "cell_type": "markdown",
   "metadata": {},
   "source": [
    "As we did in a previous lesson, let's sum the number of approved permit units by census tract"
   ]
  },
  {
   "cell_type": "code",
   "execution_count": null,
   "metadata": {},
   "outputs": [],
   "source": [
    "tract_permit_counts_gdf=tracts_with_permits[['GEOID','geometry','units_permit']].dissolve(by='GEOID', aggfunc=\"sum\", as_index=False)\n",
    "tract_permit_counts_gdf"
   ]
  },
  {
   "cell_type": "markdown",
   "metadata": {},
   "source": [
    "And let's plot it to see what we have"
   ]
  },
  {
   "cell_type": "code",
   "execution_count": null,
   "metadata": {},
   "outputs": [],
   "source": [
    "fig, ax = plt.subplots(figsize = (24,12)) \n",
    "\n",
    "# Display the output of our spatial join\n",
    "tract_permit_counts_gdf.plot(ax=ax,\n",
    "                             column='units_permit', \n",
    "                             scheme=\"quantiles\", \n",
    "                             cmap=\"YlGnBu\",\n",
    "                             edgecolor=\"grey\",\n",
    "                             legend=True,\n",
    "                             legend_kwds={'title': \"Permitted units by Tract\"}\n",
    "                            )\n",
    "\n",
    "\n",
    "\n",
    "plt.show()"
   ]
  },
  {
   "cell_type": "markdown",
   "metadata": {},
   "source": [
    "Now we can create a map that allows us to explore the relationship between BART stations and permitted units.\n",
    "\n",
    "> Take a close look at how we add the permits data. What's new here?"
   ]
  },
  {
   "cell_type": "code",
   "execution_count": null,
   "metadata": {},
   "outputs": [],
   "source": [
    "fig, ax = plt.subplots(figsize = (24,12)) \n",
    "\n",
    "# Display the output of our spatial join\n",
    "tract_permit_counts_gdf.plot(ax=ax,\n",
    "                             column='units_permit', \n",
    "                             scheme=\"quantiles\", \n",
    "                             cmap=\"YlGnBu\",\n",
    "                             edgecolor=\"grey\",\n",
    "                             legend=True,\n",
    "                             legend_kwds={'title': \"Permitted units by Tract\"}\n",
    "                             )\n",
    "\n",
    "# Add permit locs within walking distance to bart\n",
    "permits_gdf_enhanced.to_crs(tract_permit_counts_gdf.crs).sort_values(by=\"bart_count\").plot(ax=ax, \n",
    "                                                            column='bart_count', \n",
    "                                                            edgecolor='grey', \n",
    "                                                            legend=True, \n",
    "                                                            cmap='Reds',\n",
    "                                                            markersize=25,\n",
    "                                                            legend_kwds={'label': \"Count of BART Stations w/in Walking Distance\"}\n",
    "                                                            )\n",
    "\n",
    "\n",
    "ax.set_title(\"Oakland Permit Application Data\")\n",
    "plt.show()"
   ]
  },
  {
   "cell_type": "markdown",
   "metadata": {},
   "source": [
    "<div style=\"display:inline-block;vertical-align:top;\">\n",
    "    <img src=\"https://image.flaticon.com/icons/svg/87/87705.svg\" width=\"30\" align=left > \n",
    "</div>  \n",
    "<div style=\"display:inline-block;\">\n",
    "\n",
    "#### Question\n",
    "</div>\n",
    "\n",
    "Does there appear to be a relationship between the number of nearby BART stations and the number of permitted units?"
   ]
  },
  {
   "cell_type": "markdown",
   "metadata": {},
   "source": [
    "\n",
    "### Interactive Map Review\n",
    "\n",
    "We just did a lot of complex spatial joins, dissolves and aggregations. Let's create an interactive map to check our work and do a sanity check.\n",
    "\n",
    "We will add the BART stations, buffers, and the permit points with the count of bart stations within walking distance (500 meters).\n",
    "\n",
    "Finally we will add a `folium.MeasureControl` to check the size of the virtual buffers and the Bart counts for the permit locations.\n"
   ]
  },
  {
   "cell_type": "code",
   "execution_count": null,
   "metadata": {},
   "outputs": [],
   "source": [
    "# Define the basemap\n",
    "buf_map = folium.Map(location=[37.809142, -122.268228],   # lat, lon around which to center the map\n",
    "                 tiles='CartoDB Positron',\n",
    "                 width=900,                        # the width & height of the output map\n",
    "                 height=600,                       # in pixels\n",
    "                 zoom_start=15)  \n",
    "\n",
    "# Add BART Stations buffers\n",
    "folium.GeoJson(bart_buf.to_crs('epsg:4286')).add_to(buf_map)\n",
    "   \n",
    "\n",
    "\n",
    "# Add Bart stations as Markers (default with GeoJson when data are points)\n",
    "folium.GeoJson(bart_gdf,\n",
    "              tooltip=folium.GeoJsonTooltip(fields=['station_name' ], \n",
    "                   aliases=['station_namae'],\n",
    "                   labels=True,\n",
    "                   localize=True\n",
    "               ),\n",
    "              ).add_to(buf_map)\n",
    "\n",
    "# Add permit locations\n",
    "permits_gdf_enhanced.to_crs('epsg:4326').apply(lambda row: folium.Circle(location=[row['geometry'].y,row['geometry'].x],\n",
    "                                  tooltip= row['bart_count'],\n",
    "                                  radius=20,\n",
    "                                  color='purple',\n",
    "                                  fill=True,\n",
    "                                  fill_color='purple'\n",
    "                                 ).add_to(buf_map),\n",
    "                             axis=1)\n",
    "\n",
    "buf_map.add_child(MeasureControl())\n",
    "\n",
    "buf_map # wait for it..."
   ]
  },
  {
   "cell_type": "markdown",
   "metadata": {},
   "source": [
    "<a id=\"section4\"></a>\n",
    "## 5.4 Recap\n",
    "In this notebook we answered the question \"How many BART stations are within walking distance from a permit?\" and \"What is the relationship between the number of approved permits and walkable BART stations for a tract?\" We learned how to create buffer and overlay points over a choropleth map. We also revisited how to create an interactive map\n",
    "\n",
    "Below you'll find a list of key functionalities we learned and practiced:\n",
    "- Create a buffer of specified size\n",
    "    - `.buffer()`\n",
    "- Spatial joins\n",
    "    - `.sjoin()`\n",
    "- CRS transformations\n",
    "    - `.to_crs()`\n",
    "- Creating an interactive map with a measurement widget on a Folium map\n",
    "    - `folium.MeasureControl`"
   ]
  },
  {
   "cell_type": "markdown",
   "metadata": {},
   "source": [
    "---\n",
    "<a id=\"section5\"></a>\n",
    "## 5.5 Homework"
   ]
  },
  {
   "cell_type": "markdown",
   "metadata": {},
   "source": [
    "####  Exercise\n",
    "\n",
    "Do another buffer analysis, this time use any of the following data that you find in the folders:\n",
    "\n",
    ">`notebook_data/transportation`\n",
    "> - `sfmta_stations.zip` - SF MTA station locations\n",
    "> - `regional_bike_facilities.zip` - Off-street shared use path, bike lanes, and on-street bike routes\n",
    "> - `baywheels_stations.zip` - Baywheel station locations\n",
    "\n",
    "> `notebook_data/other`\n",
    "> - `ca_grocery_stores_2019_wgs84.zip` - Grocery store locations\n",
    "\n",
    "You'll need to execute the following steps:\n",
    "1. Load the data and check the columns, geometry type and CRS\n",
    "2. Check and update the crs if needed\n",
    "3. Spatially join your dataset with the buffer polygons of the permits data\n",
    "4. Dissolve and aggregate the values of interest\n",
    "5. Join the data back to the permits dataset\n",
    "6. Replace null values with zero\n",
    "7. Map the results\n",
    "6. Create an interactive map with your new data as a layer and check your results\n"
   ]
  },
  {
   "cell_type": "code",
   "execution_count": null,
   "metadata": {},
   "outputs": [],
   "source": [
    "# Your code here"
   ]
  },
  {
   "cell_type": "markdown",
   "metadata": {},
   "source": [
    "*Click here for answers*\n",
    "\n",
    "<!---\n",
    "    # SOLUTION\n",
    "    # Load the data and check the columns, geometry type and CRS\n",
    "    baywheels_stations_gdf = gpd.read_file(\"zip://../notebook_data/transportation/baywheels_stations.zip\")\n",
    "    # Check and update the crs if needed\n",
    "    baywheels_3310 = baywheels_stations_gdf.to_crs('epsg:3310')\n",
    "    baywheels_3310['bike_count_dv'] = 1\n",
    "    baywheels_3310.head()\n",
    "\n",
    "    # SOLUTION\n",
    "\n",
    "    # Spatially join your dataset with the buffer polygons of the permits data\n",
    "    permit_buf_bike_gdf = gpd.sjoin(permit_buf_gdf, baywheels_3310)\n",
    "    permit_buf_bike_gdf.head()\n",
    "\n",
    "    # Dissolve and aggregate the values of interest\n",
    "    permit_bike_counts_gdf=permit_buf_bike_gdf[['jurisdiction_id','geometry','bike_count_dv']].dissolve(by='jurisdiction_id', aggfunc=\"sum\", as_index=False)\n",
    "    permit_bike_counts_gdf.head()\n",
    "    permit_bike_counts_gdf.shape\n",
    "\n",
    "    # Join the data back to the permits dataset\n",
    "    permits_gdf_enhanced = permits_gdf_enhanced.merge(permit_bike_counts_gdf[['jurisdiction_id','bike_count_dv']], on=\"jurisdiction_id\", how=\"left\")\n",
    "    permits_gdf_enhanced.head()\n",
    "\n",
    "    # SOLUTION\n",
    "\n",
    "    # Replace null values with zero\n",
    "    permits_gdf_enhanced['bike_count_dv'].fillna(0, inplace=True)\n",
    "    permits_gdf_enhanced.head()\n",
    "\n",
    "    # Map the results\n",
    "    # Plot\n",
    "    fig, ax = plt.subplots(figsize = (24,12)) \n",
    "\n",
    "    #Add permit locs within walking distance to bart\n",
    "    permits_gdf_enhanced.sort_values(by=\"bike_count_dv\").plot(ax=ax, \n",
    "                                                                column=\"bike_count_dv\", \n",
    "                                                                edgecolor='grey', \n",
    "                                                                legend=True, \n",
    "                                                                cmap='Greens',\n",
    "                                                                markersize=25)\n",
    "\n",
    "    ax.set_title('Oakland Permit locations by Number of Bike Stations within Walking Distance')\n",
    "    plt.show()\n",
    "\n",
    "    # SOLUTION\n",
    "\n",
    "    # Create an interactive map with your new data as a layer and check your results\n",
    "    # Define the basemap\n",
    "    buf_map = folium.Map(location=[37.809142, -122.268228],   # lat, lon around which to center the map\n",
    "                     tiles='CartoDB Positron',\n",
    "                     width=900,                        # the width & height of the output map\n",
    "                     height=600,                       # in pixels\n",
    "                     zoom_start=15)  \n",
    "\n",
    "    # Add Bike Stations as Circle Markers - you can set radius\n",
    "    for i in baywheels_stations_gdf.index:\n",
    "        folium.Circle(\n",
    "            location=[baywheels_stations_gdf['geometry'].y[i], baywheels_stations_gdf['geometry'].x[i]],\n",
    "            radius= 500,\n",
    "            popup= baywheels_stations_gdf['name'][i],\n",
    "            color='green',\n",
    "            fill=True,\n",
    "            fill_color='green'\n",
    "    ).add_to(buf_map)\n",
    "\n",
    "    # Add Bike stations as Markers (default with GeoJson when data are points)\n",
    "    folium.GeoJson(baywheels_stations_gdf,\n",
    "                  tooltip=folium.GeoJsonTooltip(fields=['name' ], \n",
    "                       aliases=['Location'],\n",
    "                       labels=True,\n",
    "                       localize=True\n",
    "                   ),\n",
    "                  ).add_to(buf_map)\n",
    "\n",
    "    # Add permit locations\n",
    "    permits_gdf_enhanced.apply(lambda row: folium.Circle(location=[row['geometry'].y,row['geometry'].x],\n",
    "                                      tooltip= row['bike_count_dv'],\n",
    "                                      radius=5,\n",
    "                                     ).add_to(buf_map),\n",
    "                                 axis=1)\n",
    "\n",
    "    buf_map.add_child(MeasureControl())\n",
    "\n",
    "    buf_map # wait for it...\n",
    "--->"
   ]
  },
  {
   "cell_type": "markdown",
   "metadata": {},
   "source": [
    "\n",
    "## Congrats you're done with part 5!\n",
    "\n",
    "\n",
    "\n",
    "</br>\n",
    "\n",
    "---\n",
    "<div style=\"display:inline-block;vertical-align:middle;\">\n",
    "<a href=\"https://dataforhousing.org/\" target=\"_blank\"><img src =\"https://media-exp1.licdn.com/dms/image/C560BAQELkt35AxeIeA/company-logo_200_200/0?e=1597881600&v=beta&t=irZ1tYCA9A2biVzCguvCXzsfzanSYDFuF22IUFNY5Sg\" width=\"75\" align=\"left\">\n",
    "</a>\n",
    "</div>\n",
    "\n",
    "<div style=\"display:inline-block;vertical-align:middle;\">\n",
    "    <div style=\"font-size:larger\">&nbsp;Data Science for Housing Workshop, University of California Berkeley</div>\n",
    "    <div>&nbsp;Tim Thomas, Patty Frontiera, Emmanuel Lopez, Ethan Ebinger, Hikari Murayama, Karen Chapple, Claudia von Vacano<div>\n",
    "    <div>&copy; UC Regents, 2019-2020</div>\n",
    "</div>"
   ]
  }
 ],
 "metadata": {
  "kernelspec": {
   "display_name": "Python 3",
   "language": "python",
   "name": "python3"
  },
  "language_info": {
   "codemirror_mode": {
    "name": "ipython",
    "version": 3
   },
   "file_extension": ".py",
   "mimetype": "text/x-python",
   "name": "python",
   "nbconvert_exporter": "python",
   "pygments_lexer": "ipython3",
   "version": "3.7.4"
  }
 },
 "nbformat": 4,
 "nbformat_minor": 4
}
