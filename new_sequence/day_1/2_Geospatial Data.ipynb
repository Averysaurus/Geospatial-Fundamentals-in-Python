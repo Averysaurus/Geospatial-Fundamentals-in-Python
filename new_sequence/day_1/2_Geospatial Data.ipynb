{
 "cells": [
  {
   "cell_type": "markdown",
   "metadata": {},
   "source": [
    "# 2 Introduction to Geospatial Data\n",
    "\n",
    "\n",
    "\n",
    "## 2.1 What is Geospatial data?\n",
    "<br>\n",
    "<div style=\"display:inline-block;vertical-align:top;\">\n",
    "    <img src=\"../../assets/images/light_bulb.png\" width=\"30\" align=left > \n",
    "</div>  \n",
    "<div style=\"display:inline-block;\">\n",
    "\n",
    "\n",
    "#### Question\n",
    "</div>\n",
    "\n",
    "On a scale of 1 (total newbie) to 5 (I do it in my sleep), how comfortable are you in...\n",
    "1. Geospatial concepts?\n",
    "2. Geospatial analyses in Python?\n",
    "\n",
    "\n",
    "#### Terminology\n",
    "\n",
    "Just so we are on the same page..\n",
    "\n",
    "- `Geographic data` is data about locations on or near the surface of the Earth.\n",
    "\n",
    "- `Geospatial data`  is geographic data that can be explictly located on the surface of the Earth because it contains coordinates like latitude and longitude.\n",
    "\n",
    "- `Spatial data` is a more generic term that includes geospatial data as well as other kinds of spatial data.\n",
    "\n",
    "\n",
    "## 2.2 GeoPandas\n",
    "\n",
    "### GeoPandas and related Geospatial Packages\n",
    "\n",
    "[GeoPandas](http://geopandas.org/) is a relatively new package that makes it easier to work with geospatial data in Python. In the last few years it has grown more powerful and stable. This really is great because previously it was quite complex to work with geospatial data in Python. GeoPandas is now the go to package for working with `vector` geospatial data in Python. \n",
    "\n",
    "> **Pro-tip**: If you work with `raster` data you will want to checkout the [rasterio](https://rasterio.readthedocs.io/en/latest/) package. We will not cover raster data in this tutorial.\n",
    "\n",
    "### GeoPandas = pandas + geo\n",
    "GeoPandas gives you access to all of the functionality of [pandas](https://pandas.pydata.org/), which is the primary data analysis tool for working with tabular data in Python. GeoPandas extends pandas with attributes and methods for working with geospatial data.\n",
    "\n"
   ]
  },
  {
   "cell_type": "markdown",
   "metadata": {},
   "source": [
    "### Import Libraries\n",
    "\n",
    "Let's start by importing the libraries that we will use."
   ]
  },
  {
   "cell_type": "code",
   "execution_count": 1,
   "metadata": {},
   "outputs": [],
   "source": [
    "import pandas as pd\n",
    "import geopandas as gpd\n",
    "\n",
    "import matplotlib # base python plotting library\n",
    "import matplotlib.pyplot as plt # submodule of matplotlib\n",
    "\n",
    "# To display plots, maps, charts etc in the notebook\n",
    "%matplotlib inline  "
   ]
  },
  {
   "cell_type": "markdown",
   "metadata": {},
   "source": [
    "<a id=\"section3\"></a>\n",
    "## 2.3 Census tracts\n",
    "\n",
    "The first geospatial data we're going to bring in are the Census tract data."
   ]
  },
  {
   "cell_type": "markdown",
   "metadata": {},
   "source": [
    "### About Census Geographic Data:\n",
    "\n",
    "There are two main types of census geographic data products: \n",
    "- TIGER/Line Files \n",
    "  - contain detailed geometry, big files\n",
    "  - not pretty for mapping\n",
    "  - good for spatial analysis\n",
    "  - have a `tl` (as in `T`IGER/`L`ine) in the filename when downloaded from Census web or FTP site.\n",
    "    - e.g., tl_2018_06_tract.zip\n",
    "    \n",
    "  \n",
    "- [Cartographic Boundary files](https://www.census.gov/programs-surveys/geography/technical-documentation/naming-convention/cartographic-boundary-file.html): \n",
    "  - smaller file sizes, \n",
    "  - made specifically for mapping,\n",
    "  - have a `cb` in the file name when downloaded from Census web or FTP site\n",
    "      - e.g., cb_2018_06_tract_500k.zip\n",
    "  - have a mapping resolution at the end of the file name, \n",
    "    - eg `_500k` files look best around 1:500K map scale\n",
    "  \n",
    "### Several ways to obtain Census Geographic data\n",
    "\n",
    "1. Fetch via API - although not all years may be available.\n",
    "2. Download from Census website or FTP site\n",
    "3. Download from another website like [NHGIS.org](https://nhgis.org)\n",
    "\n",
    "### What files should you download?\n",
    "\n",
    "Census tract geographic data files are updated frequently to improve the quality of the spatial data, but the most significant updates happen for all census geographies just before the decennial census.\n",
    "\n",
    "When mapping or spatially analyzing ACS 5 year data, download the geographic files with the same year as the end date as the ACS5 year data you are analyzing.\n",
    "\n",
    "For example, we can use the following URLs to download 2013 and 2018 census tracts for California.\n",
    "\n",
    "- Cartographic Boundary File for CA Census Tracts, 2013: [https://www2.census.gov/geo/tiger/GENZ2013/cb_2013_06_tract_500k.zip](https://www2.census.gov/geo/tiger/GENZ2013/cb_2013_06_tract_500k.zip)\n",
    "  - suitable for mapping ACS 5 year 2009 - 2013 data: \n",
    "\n",
    "\n",
    "- Cartographic Boundary File for CA Census Tracts, 2018: [https://www2.census.gov/geo/tiger/GENZ2018/shp/cb_2018_06_tract_500k.zip](https://www2.census.gov/geo/tiger/GENZ2018/shp/cb_2018_06_tract_500k.zip)\n",
    "  - suitable for mapping ACS 5 year 2014 - 2018 data: \n"
   ]
  },
  {
   "cell_type": "markdown",
   "metadata": {
    "colab_type": "text",
    "id": "DFhRGmbfXN2o"
   },
   "source": [
    "## Spatial Data File Formats\n",
    "\n",
    "There are many different types of [vector geospatial data file formats](https://en.wikipedia.org/wiki/GIS_file_formats#Vector). You may have heard of Shapefiles, GeoJSON, KML, Spatialite files and others.\n",
    "\n",
    "Of all of the available formats the most commonly used ones are the [ESRI Shapefile](https://en.wikipedia.org/wiki/Shapefile) and the **CSV** file.\n",
    "\n",
    "Let's start with a brief discussion of the ESRI Shapefile.\n",
    "\n",
    "* **ESRI Shapefile**: a collection of 3 to 15 files that collectively make up the Shapefile.\n",
    "    * `.shp` - the spatial data encoded geometrically as points, lines or polygons\n",
    "    * `.shx` - the spatial data index\n",
    "    * `.dbf` - the attribute table that describes each feature\n",
    "    * `.prj` - a text file that identifies the coordinate reference system (CRS) for the data\n",
    "\n"
   ]
  },
  {
   "cell_type": "markdown",
   "metadata": {},
   "source": [
    "#### ESRI Shapefiles\n",
    "\n",
    "These census tract files are made available in the [ESRI Shapefile](https://en.wikipedia.org/wiki/Shapefile) format, along with other formats.\n",
    "\n",
    "An ESRI Shapefile is actually a collection of 3 to 9+ files that together are called a shapefile. Although this is a old file format with numerous limitations, it remains the most commonly used file format for vector spatial data. \n"
   ]
  },
  {
   "cell_type": "markdown",
   "metadata": {
    "colab_type": "text",
    "id": "s0VoXbM-_f_Z"
   },
   "source": [
    "## Reading in a Spatial Data from a Shapefile\n",
    "\n",
    "GeoPandas makes it easy to read in almost any kind of vector data file with the [read_file](http://geopandas.org/io.html) command. "
   ]
  },
  {
   "cell_type": "markdown",
   "metadata": {},
   "source": [
    "We are ready to read in the census tract data for CA using the Geopandas `read_file` function.\n",
    "\n",
    "- Specifially, we will read in the `2018 cartographic boundary files` for CA census tracts. "
   ]
  },
  {
   "cell_type": "code",
   "execution_count": 0,
   "metadata": {
    "colab": {},
    "colab_type": "code",
    "id": "Vtg8x5F5_kcy"
   },
   "outputs": [],
   "source": [
    "tracts_gdf = gpd.read_file(\"./cb_2018_06_tract_500k.shp\")  #US counties in 1810"
   ]
  },
  {
   "cell_type": "markdown",
   "metadata": {
    "colab_type": "text",
    "id": "Mv9FRBqUI_r1"
   },
   "source": [
    "Take a look at the first rows of data with the `head` method."
   ]
  },
  {
   "cell_type": "code",
   "execution_count": 0,
   "metadata": {
    "colab": {},
    "colab_type": "code",
    "id": "VzSnBqTeSoQz"
   },
   "outputs": [],
   "source": [
    "tracts_gdf.head()"
   ]
  },
  {
   "cell_type": "markdown",
   "metadata": {
    "colab_type": "text",
    "id": "l15hbGSgqsBR"
   },
   "source": [
    "GeoPandas can also read in a zipped shapefile. This can be quite convenient.\n",
    "\n",
    "* Note, the syntax for reading in a zipped file is slightly different."
   ]
  },
  {
   "cell_type": "code",
   "execution_count": 12,
   "metadata": {},
   "outputs": [],
   "source": [
    "# Import CA census tracts data\n",
    "tracts_gdf = gpd.read_file(\"zip://../notebook_data/census/Tracts/cb_2018_06_tract_500k.zip\")"
   ]
  },
  {
   "cell_type": "markdown",
   "metadata": {},
   "source": [
    "And take a look..."
   ]
  },
  {
   "cell_type": "code",
   "execution_count": 4,
   "metadata": {},
   "outputs": [
    {
     "data": {
      "text/html": [
       "<div>\n",
       "<style scoped>\n",
       "    .dataframe tbody tr th:only-of-type {\n",
       "        vertical-align: middle;\n",
       "    }\n",
       "\n",
       "    .dataframe tbody tr th {\n",
       "        vertical-align: top;\n",
       "    }\n",
       "\n",
       "    .dataframe thead th {\n",
       "        text-align: right;\n",
       "    }\n",
       "</style>\n",
       "<table border=\"1\" class=\"dataframe\">\n",
       "  <thead>\n",
       "    <tr style=\"text-align: right;\">\n",
       "      <th></th>\n",
       "      <th>STATEFP</th>\n",
       "      <th>COUNTYFP</th>\n",
       "      <th>TRACTCE</th>\n",
       "      <th>AFFGEOID</th>\n",
       "      <th>GEOID</th>\n",
       "      <th>NAME</th>\n",
       "      <th>LSAD</th>\n",
       "      <th>ALAND</th>\n",
       "      <th>AWATER</th>\n",
       "      <th>geometry</th>\n",
       "    </tr>\n",
       "  </thead>\n",
       "  <tbody>\n",
       "    <tr>\n",
       "      <td>0</td>\n",
       "      <td>06</td>\n",
       "      <td>009</td>\n",
       "      <td>000300</td>\n",
       "      <td>1400000US06009000300</td>\n",
       "      <td>06009000300</td>\n",
       "      <td>3</td>\n",
       "      <td>CT</td>\n",
       "      <td>457009794</td>\n",
       "      <td>394122</td>\n",
       "      <td>POLYGON ((-120.76399 38.21389, -120.76197 38.2...</td>\n",
       "    </tr>\n",
       "    <tr>\n",
       "      <td>1</td>\n",
       "      <td>06</td>\n",
       "      <td>011</td>\n",
       "      <td>000300</td>\n",
       "      <td>1400000US06011000300</td>\n",
       "      <td>06011000300</td>\n",
       "      <td>3</td>\n",
       "      <td>CT</td>\n",
       "      <td>952744514</td>\n",
       "      <td>195376</td>\n",
       "      <td>POLYGON ((-122.50006 39.12232, -122.50022 39.1...</td>\n",
       "    </tr>\n",
       "  </tbody>\n",
       "</table>\n",
       "</div>"
      ],
      "text/plain": [
       "  STATEFP COUNTYFP TRACTCE              AFFGEOID        GEOID NAME LSAD  \\\n",
       "0      06      009  000300  1400000US06009000300  06009000300    3   CT   \n",
       "1      06      011  000300  1400000US06011000300  06011000300    3   CT   \n",
       "\n",
       "       ALAND  AWATER                                           geometry  \n",
       "0  457009794  394122  POLYGON ((-120.76399 38.21389, -120.76197 38.2...  \n",
       "1  952744514  195376  POLYGON ((-122.50006 39.12232, -122.50022 39.1...  "
      ]
     },
     "execution_count": 4,
     "metadata": {},
     "output_type": "execute_result"
    }
   ],
   "source": [
    "tracts_gdf.head(2)"
   ]
  },
  {
   "cell_type": "markdown",
   "metadata": {},
   "source": [
    "### The GeoPandas GeoDataFrame\n",
    "\n",
    "A [GeoPandas GeoDataFrame](https://geopandas.org/data_structures.html#geodataframe), or `gdf` for short, is just like a pandas dataframe (`df`) but with an extra geometry column and methods & attributes that work on that column. I repeat because it's important:\n",
    "\n",
    "> `A GeoPandas GeoDataFrame is a pandas DataFrame with a geometry column and methods & attributes that work on that column.`\n",
    "\n",
    "> This means all the methods and attributes of a pandas DataFrame also work on a Geopandas GeoDataFrame!!\n"
   ]
  },
  {
   "cell_type": "markdown",
   "metadata": {},
   "source": [
    "How cool is that to see the geometry! Desktop GIS software like `QGIS` and `ArcGIS` hide the geometry from the user. Not so with GeoPandas. \n",
    "\n",
    "### Geopandas Geometries\n",
    "There are main types of geometries that can be associated with your geodataframe: points, lines and polygons:\n",
    "\n",
    "<img src =\"https://datacarpentry.org/organization-geospatial/fig/dc-spatial-vector/pnt_line_poly.png\" width=\"450\"></img>\n",
    "\n",
    "In the geodataframe these geometries are encoded in a format known as [Well-Known Text (WKT)](https://en.wikipedia.org/wiki/Well-known_text_representation_of_geometry). For example:\n",
    "\n",
    "> - POINT (30 10)\n",
    "> - LINESTRING (30 10, 10 30, 40 40)\n",
    "> - POLYGON ((30 10, 40 40, 20 40, 10 20, 30 10))\n",
    ">\n",
    "> *where coordinates are separated by a space and coordinate pairs by a comma*\n",
    "\n",
    "Your geodataframe may also include the variants **multipoints, multilines and multipolgyons** if the row-level feature of interest is comprised of multiple parts. For example, a geodataframe of states, where one row represents one state, would have POLYGON geometry for Utah but MULTIPOLYGON for Rhode Island, which includes many small islands.\n",
    "\n",
    "> It's ok to mix and match geometries of the same family, e.g., POLYGON and MULTIPOLYGON, in the same geodatafame.\n",
    "\n",
    "You can check the types of geometries in a geodataframe or a subset of the geodataframe by combining the `type` and `unique` methods.\n"
   ]
  },
  {
   "cell_type": "code",
   "execution_count": 5,
   "metadata": {},
   "outputs": [
    {
     "data": {
      "text/plain": [
       "array(['Polygon', 'MultiPolygon'], dtype=object)"
      ]
     },
     "execution_count": 5,
     "metadata": {},
     "output_type": "execute_result"
    }
   ],
   "source": [
    "tracts_gdf['geometry'].type.unique()"
   ]
  },
  {
   "cell_type": "markdown",
   "metadata": {},
   "source": [
    "### Plotting a Geodataframe\n",
    "Let's now go ahead and use the GeoPandas gdf `plot` method to map all of our tracts."
   ]
  },
  {
   "cell_type": "code",
   "execution_count": 6,
   "metadata": {},
   "outputs": [
    {
     "data": {
      "text/plain": [
       "<matplotlib.axes._subplots.AxesSubplot at 0x7fbb74c54050>"
      ]
     },
     "execution_count": 6,
     "metadata": {},
     "output_type": "execute_result"
    },
    {
     "data": {
      "image/png": "[encoded data removed]",
      "text/plain": [
       "<Figure size 432x288 with 1 Axes>"
      ]
     },
     "metadata": {
      "needs_background": "light"
     },
     "output_type": "display_data"
    }
   ],
   "source": [
    "# Plot the gdf\n",
    "tracts_gdf.plot()"
   ]
  },
  {
   "cell_type": "markdown",
   "metadata": {},
   "source": [
    "> ### Wow! How cool is that?"
   ]
  },
  {
   "cell_type": "markdown",
   "metadata": {},
   "source": [
    "### Select Census Tracts for Alameda County\n",
    "\n",
    "We want to subset the tracts to get the data for Alameda county. In order to do this, let's first check what variables we have and what the data looks like."
   ]
  },
  {
   "cell_type": "code",
   "execution_count": 7,
   "metadata": {},
   "outputs": [
    {
     "data": {
      "text/html": [
       "<div>\n",
       "<style scoped>\n",
       "    .dataframe tbody tr th:only-of-type {\n",
       "        vertical-align: middle;\n",
       "    }\n",
       "\n",
       "    .dataframe tbody tr th {\n",
       "        vertical-align: top;\n",
       "    }\n",
       "\n",
       "    .dataframe thead th {\n",
       "        text-align: right;\n",
       "    }\n",
       "</style>\n",
       "<table border=\"1\" class=\"dataframe\">\n",
       "  <thead>\n",
       "    <tr style=\"text-align: right;\">\n",
       "      <th></th>\n",
       "      <th>STATEFP</th>\n",
       "      <th>COUNTYFP</th>\n",
       "      <th>TRACTCE</th>\n",
       "      <th>AFFGEOID</th>\n",
       "      <th>GEOID</th>\n",
       "      <th>NAME</th>\n",
       "      <th>LSAD</th>\n",
       "      <th>ALAND</th>\n",
       "      <th>AWATER</th>\n",
       "      <th>geometry</th>\n",
       "    </tr>\n",
       "  </thead>\n",
       "  <tbody>\n",
       "    <tr>\n",
       "      <td>0</td>\n",
       "      <td>06</td>\n",
       "      <td>009</td>\n",
       "      <td>000300</td>\n",
       "      <td>1400000US06009000300</td>\n",
       "      <td>06009000300</td>\n",
       "      <td>3</td>\n",
       "      <td>CT</td>\n",
       "      <td>457009794</td>\n",
       "      <td>394122</td>\n",
       "      <td>POLYGON ((-120.76399 38.21389, -120.76197 38.2...</td>\n",
       "    </tr>\n",
       "    <tr>\n",
       "      <td>1</td>\n",
       "      <td>06</td>\n",
       "      <td>011</td>\n",
       "      <td>000300</td>\n",
       "      <td>1400000US06011000300</td>\n",
       "      <td>06011000300</td>\n",
       "      <td>3</td>\n",
       "      <td>CT</td>\n",
       "      <td>952744514</td>\n",
       "      <td>195376</td>\n",
       "      <td>POLYGON ((-122.50006 39.12232, -122.50022 39.1...</td>\n",
       "    </tr>\n",
       "    <tr>\n",
       "      <td>2</td>\n",
       "      <td>06</td>\n",
       "      <td>013</td>\n",
       "      <td>303102</td>\n",
       "      <td>1400000US06013303102</td>\n",
       "      <td>06013303102</td>\n",
       "      <td>3031.02</td>\n",
       "      <td>CT</td>\n",
       "      <td>6507019</td>\n",
       "      <td>0</td>\n",
       "      <td>POLYGON ((-121.72937 37.96884, -121.71409 37.9...</td>\n",
       "    </tr>\n",
       "  </tbody>\n",
       "</table>\n",
       "</div>"
      ],
      "text/plain": [
       "  STATEFP COUNTYFP TRACTCE              AFFGEOID        GEOID     NAME LSAD  \\\n",
       "0      06      009  000300  1400000US06009000300  06009000300        3   CT   \n",
       "1      06      011  000300  1400000US06011000300  06011000300        3   CT   \n",
       "2      06      013  303102  1400000US06013303102  06013303102  3031.02   CT   \n",
       "\n",
       "       ALAND  AWATER                                           geometry  \n",
       "0  457009794  394122  POLYGON ((-120.76399 38.21389, -120.76197 38.2...  \n",
       "1  952744514  195376  POLYGON ((-122.50006 39.12232, -122.50022 39.1...  \n",
       "2    6507019       0  POLYGON ((-121.72937 37.96884, -121.71409 37.9...  "
      ]
     },
     "execution_count": 7,
     "metadata": {},
     "output_type": "execute_result"
    }
   ],
   "source": [
    "tracts_gdf.head(3)"
   ]
  },
  {
   "cell_type": "code",
   "execution_count": 8,
   "metadata": {},
   "outputs": [
    {
     "data": {
      "text/plain": [
       "Index(['STATEFP', 'COUNTYFP', 'TRACTCE', 'AFFGEOID', 'GEOID', 'NAME', 'LSAD',\n",
       "       'ALAND', 'AWATER', 'geometry'],\n",
       "      dtype='object')"
      ]
     },
     "execution_count": 8,
     "metadata": {},
     "output_type": "execute_result"
    }
   ],
   "source": [
    "tracts_gdf.columns"
   ]
  },
  {
   "cell_type": "markdown",
   "metadata": {},
   "source": [
    "Here's what each variable means:\n",
    "- `STATEFP`: State FIPS code \n",
    "- `COUNTYFP`: County FIPS code\n",
    "- `TRACTCE`: Census tract code\n",
    "- `AFFGEOID`: Summary level code + geovariant code + '00US' + GEOID\n",
    "- `GEOID`:  Census tract identifier; a concatenation of Current state FIPS code, county FIPS code, and census tract code\n",
    "- `NAME`:  Census tract name\n",
    "- `LSAD`:  Legal/statistical description with the census tract name\n",
    "- `ALAND`: Area that is land, in square meters\n",
    "- `AWATER`:  Area that is water, in square meters\n",
    "- `geometry`: Geometry of tract"
   ]
  },
  {
   "cell_type": "markdown",
   "metadata": {},
   "source": [
    "Let's take a closer look at the county identifiers."
   ]
  },
  {
   "cell_type": "code",
   "execution_count": 9,
   "metadata": {},
   "outputs": [
    {
     "data": {
      "text/plain": [
       "array(['009', '011', '013', '037', '017', '019', '001', '005', '007',\n",
       "       '039', '041', '043', '045', '047', '049', '051', '053', '023',\n",
       "       '025', '027', '029', '031', '057', '059', '071', '073', '067',\n",
       "       '069', '065', '055', '061', '085', '081', '083', '063', '111',\n",
       "       '113', '075', '077', '079', '089', '093', '095', '097', '099',\n",
       "       '101', '103', '105', '107', '087', '109', '115', '021', '015',\n",
       "       '033', '035', '091', '003'], dtype=object)"
      ]
     },
     "execution_count": 9,
     "metadata": {},
     "output_type": "execute_result"
    }
   ],
   "source": [
    "# Are the county codes\n",
    "tracts_gdf['COUNTYFP'].unique()"
   ]
  },
  {
   "cell_type": "markdown",
   "metadata": {},
   "source": [
    "Since the county code for Alameda County is `001`, let's subset our data using that knowledge so we can focus on our area of interest."
   ]
  },
  {
   "cell_type": "code",
   "execution_count": 10,
   "metadata": {
    "scrolled": true
   },
   "outputs": [
    {
     "data": {
      "image/png": "[encoded data removed]",
      "text/plain": [
       "<Figure size 432x288 with 1 Axes>"
      ]
     },
     "metadata": {
      "needs_background": "light"
     },
     "output_type": "display_data"
    }
   ],
   "source": [
    "tracts_gdf_ac = tracts_gdf[tracts_gdf['COUNTYFP']=='001']\n",
    "tracts_gdf_ac.plot()\n",
    "plt.show()"
   ]
  },
  {
   "cell_type": "markdown",
   "metadata": {},
   "source": [
    "Nice! Looks like we have what we were looking for.\n",
    "\n",
    "*FYI*: You can also make dynamic plots of one or more county without saving to a new gdf."
   ]
  },
  {
   "cell_type": "code",
   "execution_count": 11,
   "metadata": {},
   "outputs": [
    {
     "data": {
      "text/plain": [
       "<matplotlib.axes._subplots.AxesSubplot at 0x7fbb74ce5590>"
      ]
     },
     "execution_count": 11,
     "metadata": {},
     "output_type": "execute_result"
    },
    {
     "data": {
      "image/png": "[encoded data removed]",
      "text/plain": [
       "<Figure size 432x288 with 1 Axes>"
      ]
     },
     "metadata": {
      "needs_background": "light"
     },
     "output_type": "display_data"
    }
   ],
   "source": [
    "# Dynamic plot of the census tracts for the 10 County Bay Area\n",
    "# Alameda, Contra Costa, Marin, Napa, San Francisco, San Mateo, Santa Clara, Santa Cruz, Solano, Sonoma\n",
    "tracts_gdf[tracts_gdf['COUNTYFP'].isin(['001','013','041','055','075','081', '085','087','095','097'])].plot()"
   ]
  },
  {
   "cell_type": "markdown",
   "metadata": {},
   "source": [
    "## 2.4 Challenge\n",
    "\n",
    "Subset `tracts_gdf` to be for Contra Costa County and plot it."
   ]
  },
  {
   "cell_type": "code",
   "execution_count": null,
   "metadata": {},
   "outputs": [],
   "source": [
    "# Your code here"
   ]
  },
  {
   "cell_type": "markdown",
   "metadata": {},
   "source": [
    "## Other Resources\n",
    "> - The Open Textbook Library: [Essentials of Geographic Information Systems by Jonathan E. Campbell and Michael Shin](http://open.umn.edu/opentextbooks/BookDetail.aspx?bookId=67)\n",
    "> - The Open Textbook Library: [Nature of Geographic Information Systems by David DiBiase](http://open.umn.edu/opentextbooks/BookDetail.aspx?bookId=428) from Esri.\n",
    "> - Online Gitbook: [Intro to GIS and Spatial Analysis by Manuel Gimond](https://mgimond.github.io/Spatial/index.html)"
   ]
  },
  {
   "cell_type": "markdown",
   "metadata": {},
   "source": [
    "---\n",
    "<div style=\"display:inline-block;vertical-align:middle;\">\n",
    "<a href=\"https://dataforhousing.org/\" target=\"_blank\"><img src =\"../../assets/images/dlab_logo.png\" width=\"75\" align=\"left\">\n",
    "</a>\n",
    "</div>\n",
    "\n",
    "<div style=\"display:inline-block;vertical-align:middle;\">\n",
    "    <div style=\"font-size:larger\">&nbsp;D-Lab, University of California - Berkeley</div>\n",
    "    <div>Hikari Murayama, Patty Frontiera<div>\n",
    "</div>\n",
    "        \n"
   ]
  }
 ],
 "metadata": {
  "kernelspec": {
   "display_name": "Python 3",
   "language": "python",
   "name": "python3"
  },
  "language_info": {
   "codemirror_mode": {
    "name": "ipython",
    "version": 3
   },
   "file_extension": ".py",
   "mimetype": "text/x-python",
   "name": "python",
   "nbconvert_exporter": "python",
   "pygments_lexer": "ipython3",
   "version": "3.7.4"
  }
 },
 "nbformat": 4,
 "nbformat_minor": 2
}
