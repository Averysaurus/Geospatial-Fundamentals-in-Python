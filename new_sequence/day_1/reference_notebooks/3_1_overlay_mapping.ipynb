{
 "cells": [
  {
   "cell_type": "markdown",
   "metadata": {},
   "source": [
    "# 3. Spatial Joins and Calculations\n",
    "With all of the data, spatial data, and mapping we've learned so far we're ready to add more data to our arsenal! We're going to learn new methods for linking and transforming our data.\n",
    "\n",
    "- [3.1 Introduction ](#section1)\n",
    "- [3.2  Permit and Parcel Data](#section2)\n",
    "  - transforming polygons to points\n",
    "- [3.3 Mapping Permit data with Census Tracts](#section3)\n",
    "- [3.4 Spatial Join](#section4)\n",
    "- [3.5 Analyzing the results of our Spatial Joins](#section5)\n",
    "    - Dissolving\n",
    "    - Clipping\n",
    "\n",
    "**INSTRUCTOR NOTES**:\n",
    "- Datasets used:\n",
    "    - \"../notebook_data/outdata/Permit_HousingApp_Parcel_Merge_Oakland.geojson\"\n",
    "    - \"../notebook_data/outdata/Permit_ActivityReport_Parcel_Merge_Oakland.geojson\" \n",
    "    - \"../notebook_data/outdata/tracts_acs_gdf_ac.json\"\n",
    "    - \"../notebook_data/notebook_data/census/Places/cb_2018_06_place_500k.zip\"\n",
    " \n",
    " \n",
    "- Expected time to complete:\n",
    "    - Lecture + Questions: 1 hour\n",
    "    - Homework: 45 minutes"
   ]
  },
  {
   "cell_type": "markdown",
   "metadata": {},
   "source": [
    "### Set-Up\n",
    "\n",
    "Let's import the packages we need before we get started."
   ]
  },
  {
   "cell_type": "code",
   "execution_count": null,
   "metadata": {},
   "outputs": [],
   "source": [
    "import numpy as np\n",
    "import pandas as pd\n",
    "import geopandas as gpd\n",
    "\n",
    "import matplotlib # base python plotting library\n",
    "%matplotlib inline  \n",
    "import matplotlib.pyplot as plt # more plotting stuff \n",
    "\n",
    "# We are getting futurewarning errors about the syntax of CRS definitions, ie \"init=epsg:4269\" vs \"epsg:4269\"\n",
    "# so suppress as these are minor\n",
    "import warnings\n",
    "warnings.simplefilter(action='ignore', category=FutureWarning)"
   ]
  },
  {
   "cell_type": "markdown",
   "metadata": {},
   "source": [
    "<a id=\"section0\"></a>\n",
    "## 3.0 Warmup Exercise\n",
    "\n",
    "Looking at the table of contents shown above, what types of questions do you think you will be able to answer by learning the introduced data and new techniques?"
   ]
  },
  {
   "cell_type": "code",
   "execution_count": null,
   "metadata": {},
   "outputs": [],
   "source": [
    "# Write your thoughts here"
   ]
  },
  {
   "cell_type": "markdown",
   "metadata": {},
   "source": [
    "Awesome! We'll also be reviewing attribute joins here, but the goal is to be able to **join data in a different way - by location - and begin to learn how to spatially summarize data**."
   ]
  },
  {
   "cell_type": "markdown",
   "metadata": {},
   "source": [
    "<a id=\"section1\"></a>\n",
    "## 3.1 Introduction\n",
    "\n",
    "Geospatial data *is* special. Because all geospatial data is referenced to the Earth, geospatially data can be dynamically joined by location even if they share no common attributes. This is called a **spatial join**. This is in contrast to an `attribute join` where the join attribute must already exist in the data. For example, we were able to merge permit and parcel data because both contain an APN column. \n",
    "\n",
    "In this lesson we will explore `spatial joins` with our permit and census tract data. \n",
    "\n",
    "We will also take a look at a few useful and common spatial transformations. First, we will transform the polygon parcel geomtries to point geometries. Second, we will use the Geopandas **dissolve** operation to aggregate geometries."
   ]
  },
  {
   "cell_type": "markdown",
   "metadata": {},
   "source": [
    "<a id=\"section2\"></a>\n",
    "## 3.2 Permit and Parcel data\n",
    "\n",
    "Let's create an initial map of our joined permit and parcel point data, and check how it looks in combination with our ACS and tracts data.\n",
    "\n",
    "First let's import our `permit_parcel_gdf` and then map it. Remember from `notebook s2_3` that this is the dataset where you joined together the Oakland parcels and permit activity report."
   ]
  },
  {
   "cell_type": "code",
   "execution_count": null,
   "metadata": {},
   "outputs": [],
   "source": [
    "permit_parcel_gdf = gpd.read_file(\"../notebook_data/outdata/Permit_ActivityReport_Parcel_Merge_Oakland.geojson\")"
   ]
  },
  {
   "cell_type": "code",
   "execution_count": null,
   "metadata": {},
   "outputs": [],
   "source": [
    "# Check the shape of the gdf\n",
    "permit_parcel_gdf.shape"
   ]
  },
  {
   "cell_type": "code",
   "execution_count": null,
   "metadata": {},
   "outputs": [],
   "source": [
    "# Check columns available\n",
    "permit_parcel_gdf.columns"
   ]
  },
  {
   "cell_type": "code",
   "execution_count": null,
   "metadata": {},
   "outputs": [],
   "source": [
    "# Double check and make sure no APN values are empty\n",
    "permit_parcel_gdf['APN'].isnull().value_counts()"
   ]
  },
  {
   "cell_type": "markdown",
   "metadata": {},
   "source": [
    "Let's try mapping the permit data by `units_permit` which is the sum of building permits issued for very-low, low, moderate, and above moderate income units."
   ]
  },
  {
   "cell_type": "code",
   "execution_count": null,
   "metadata": {},
   "outputs": [],
   "source": [
    "fig, ax = plt.subplots(figsize = (12,8)) \n",
    "permit_parcel_gdf.plot(column='units_permit',legend=True, cmap=\"winter\",ax=ax)\n",
    "plt.tight_layout()\n",
    "plt.show()"
   ]
  },
  {
   "cell_type": "markdown",
   "metadata": {},
   "source": [
    "Let's zoom in to get a better look at the data. We can do this by setting the x and y limits of the plot."
   ]
  },
  {
   "cell_type": "code",
   "execution_count": null,
   "metadata": {},
   "outputs": [],
   "source": [
    "fig, ax = plt.subplots(figsize = (10,8)) \n",
    "permit_parcel_gdf.plot(column='units_permit',cmap=\"winter\",ax=ax)\n",
    "\n",
    "# Set x and y limits to zoom in\n",
    "# We can get the values from the coordinates on the x and y axis of the previous map.\n",
    "ax.set_xlim([-122.275,-122.250])\n",
    "ax.set_ylim([37.82,37.80])\n",
    "\n",
    "plt.tight_layout()\n",
    "plt.show()"
   ]
  },
  {
   "cell_type": "markdown",
   "metadata": {},
   "source": [
    "The map above shows the permit locations as the parcel polygons. Since we are unlikley to zoom in that closely on the permit locations, let's `transform` the parcel polygons to points rather than tiny (relative to the area) polygon geometries that are difficult to visualize and take up a lot of memory and disk space, and thus are slower to work with. Point geometry will work at any scale for these data. \n",
    "\n",
    "To do this we create a point dataset similar to what we did for some of our tracts and ACS data.\n",
    "\n",
    "Let's start by reminding ourselves of how to find the centroid of a polygon shape. We can do this by finding x and y coordinates of the polygon centroid separately...\n",
    "> A `centroid` is the center of a bounding box around a polygon feature. Given an irregularly shaped polygon, e.g. Florida, the centroid may not be within the polygon. If you want a point that is sure to be within the polygon you can use the `gdf.representative_point()` method."
   ]
  },
  {
   "cell_type": "code",
   "execution_count": null,
   "metadata": {
    "scrolled": true
   },
   "outputs": [],
   "source": [
    "# Get X coordinate of the parcel centroids as a list, showing first 5 values\n",
    "permit_parcel_gdf.centroid.x[0:5]"
   ]
  },
  {
   "cell_type": "code",
   "execution_count": null,
   "metadata": {
    "scrolled": true
   },
   "outputs": [],
   "source": [
    "# Get Y coordinate of the parcel centroids as a list, showing first 5 values\n",
    "permit_parcel_gdf.centroid.y[0:5]"
   ]
  },
  {
   "cell_type": "markdown",
   "metadata": {},
   "source": [
    "Or, you can find both with one line of code."
   ]
  },
  {
   "cell_type": "code",
   "execution_count": null,
   "metadata": {
    "scrolled": true
   },
   "outputs": [],
   "source": [
    "# Get the centroids of the permit parcel polygon data\n",
    "permit_parcel_gdf.centroid"
   ]
  },
  {
   "cell_type": "markdown",
   "metadata": {},
   "source": [
    "We can use the centroid to create a new point data set called `permit_parcel_point_gdf`.\n",
    "To do this we use the geopandas function `GeoDataFrame`, which returns a new geodataframe by combining a pandas dataframe and a geometry column. \n",
    "- the pandas dataframe is the the permit_parcel_gdf with the geometry column dropped\n",
    "- the geometry column is the centroid of the permit_parcel_gdf polygons"
   ]
  },
  {
   "cell_type": "code",
   "execution_count": null,
   "metadata": {},
   "outputs": [],
   "source": [
    "permit_parcel_point_gdf = gpd.GeoDataFrame(permit_parcel_gdf.drop('geometry',axis=1), \n",
    "                            geometry=permit_parcel_gdf.centroid)"
   ]
  },
  {
   "cell_type": "code",
   "execution_count": null,
   "metadata": {},
   "outputs": [],
   "source": [
    "permit_parcel_point_gdf.head()"
   ]
  },
  {
   "cell_type": "markdown",
   "metadata": {},
   "source": [
    "Let's map those points now to see how they compare to the polygon data."
   ]
  },
  {
   "cell_type": "code",
   "execution_count": null,
   "metadata": {},
   "outputs": [],
   "source": [
    "fig, ax = plt.subplots(figsize = (10,8)) \n",
    "permit_parcel_gdf.plot(color=\"white\", edgecolor=\"black\",ax=ax)\n",
    "permit_parcel_point_gdf.plot(column='units_permit',cmap=\"winter\",ax=ax)\n",
    "\n",
    "# Set x and y limits to zoom in\n",
    "# We can get the values from the coordinates on the x and y axis of the previous map.\n",
    "ax.set_xlim([-122.275,-122.250])\n",
    "ax.set_ylim([37.82,37.80])\n",
    "\n",
    "plt.tight_layout()\n",
    "plt.show()"
   ]
  },
  {
   "cell_type": "markdown",
   "metadata": {},
   "source": [
    "<a id=\"section3\"></a>\n",
    "## 3.3 Mapping Permit data with Census Tracts\n",
    "\n",
    "The first method of spatial analysis is mapping. We overlay our data in a map to visualize and explore locations and relationships. \n",
    "\n",
    "In this section we will consider the permit data in the context of our ACS 2018 5-year data, aggregated to census tracts. So let's load that data for Alameda County and create an overlay map."
   ]
  },
  {
   "cell_type": "code",
   "execution_count": null,
   "metadata": {},
   "outputs": [],
   "source": [
    "tracts_acs_gdf = gpd.read_file(\"../notebook_data/outdata/tracts_acs_gdf_ac.json\")"
   ]
  },
  {
   "cell_type": "markdown",
   "metadata": {},
   "source": [
    "Now let's map the permit points overlayed on top of the census tracts, visualizing the points by the sum of he sum of units that were permitted for very-low, low, moderate, and above moderate income (`units_permit`)"
   ]
  },
  {
   "cell_type": "code",
   "execution_count": null,
   "metadata": {
    "scrolled": false
   },
   "outputs": [],
   "source": [
    "# Map counts of permits within tracts\n",
    "fig, ax = plt.subplots(figsize = (18,8)) \n",
    "tracts_acs_gdf.plot(ax=ax,color='lightgrey',edgecolor='white')  # Add the census tracts\n",
    "permit_parcel_point_gdf.plot(column='units_permit', legend=True, cmap=\"winter\",ax=ax)  # Add the permit points\n",
    "\n",
    "# Set x and y limits to Zoom map into Oakland\n",
    "ax.set_xlim([-122.35,-122.1])\n",
    "ax.set_ylim([37.7,37.87])\n",
    "\n",
    "plt.show()"
   ]
  },
  {
   "cell_type": "markdown",
   "metadata": {},
   "source": [
    "In the above map the number of `unit_permits` is not obvious because so many of the permit applications have zero  units that have yet to be issued a building permit.\n",
    "\n",
    "We can make the data convey the variable of interest more clearly by setting the color of the locations with no approved building permits to grey.  Take a look at how this is done."
   ]
  },
  {
   "cell_type": "code",
   "execution_count": null,
   "metadata": {},
   "outputs": [],
   "source": [
    "my_cmap = matplotlib.cm.get_cmap('winter')\n",
    "my_cmap.set_under('grey') # Set color to be used for low out-of-range values.\n",
    "\n",
    "# Map counts of permits within tracts\n",
    "fig, ax = plt.subplots(figsize = (18,8)) \n",
    "\n",
    "# Add the census tracts\n",
    "tracts_acs_gdf.plot(ax=ax,color='lightgrey',edgecolor='white')  \n",
    "\n",
    "# Add the permit data\n",
    "permit_parcel_point_gdf.sort_values(by=\"units_permit\").plot(ax=ax, \n",
    "                                                            column='units_permit', \n",
    "                                                            legend=True, \n",
    "                                                            cmap=\"winter\",\n",
    "                                                            alpha=0.75,\n",
    "                                                            markersize=50,\n",
    "                                                            vmin=1)  # Set a value for the low vis value\n",
    "\n",
    "# Set x and y limits to Zoom map into Oakland\n",
    "ax.set_xlim([-122.35,-122.1])\n",
    "ax.set_ylim([37.7,37.87])\n",
    "\n",
    "plt.show()"
   ]
  },
  {
   "cell_type": "markdown",
   "metadata": {},
   "source": [
    " \n",
    "<div style=\"display:inline-block;vertical-align:top;\">\n",
    "    <img src=\"http://www.pngall.com/wp-content/uploads/2016/03/Light-Bulb-Free-PNG-Image.png\" width=\"30\" align=left > \n",
    "</div>  \n",
    "<div style=\"display:inline-block;\">\n",
    " \n",
    " \n",
    "\n",
    "#### Question\n",
    "</div>\n",
    "\n",
    "Why do you think we added the `sort_values(by=\"units_permit\")` to the plot command above?"
   ]
  },
  {
   "cell_type": "code",
   "execution_count": null,
   "metadata": {},
   "outputs": [],
   "source": [
    "# Your thoughts here"
   ]
  },
  {
   "cell_type": "markdown",
   "metadata": {},
   "source": [
    "In the map above we can better see areas where a lot of units have received building permits. But the map is still too busy. There are too many overlapping permit points and the cummulative number of permitted units is not obvious.\n",
    "\n",
    "A common workflow is to aggregate point data to an area unit and then create a choropleth map. For example, if we had a geodataframe of city neighborhoods we could sum permitted units by neighborhood.\n",
    "\n",
    "We don't have a neighborhood geodataframe but we do have census tract polygons to which we can aggregate the points and create a choropleth map. Moreover, by aggregating a permit variable by census tract we can also link that variable to the wealth of demographic, social and economic data!\n",
    "\n",
    "Let's get started."
   ]
  },
  {
   "cell_type": "markdown",
   "metadata": {},
   "source": [
    "## 3.5 Recap\n",
    "In this lesson we introduces some important ways to spatially join and transform geospatial data.\n",
    "\n",
    "In the process we learned how to use the following:\n",
    "- Spatial Join\t-`gpd.sjoin()`\n",
    "- Dissolve `gdf.dissolve()`\n",
    "- Clip. `gpd.clip`\n"
   ]
  },
  {
   "cell_type": "markdown",
   "metadata": {},
   "source": [
    "<img align=\"left\" width=500 src=\"https://upload.wikimedia.org/wikipedia/commons/thumb/7/7b/Quite_the_happy_dog.jpg/640px-Quite_the_happy_dog.jpg\"></img>"
   ]
  },
  {
   "cell_type": "markdown",
   "metadata": {},
   "source": [
    "\n",
    "---\n",
    "\n",
    "## 3.6 Homework"
   ]
  },
  {
   "cell_type": "markdown",
   "metadata": {},
   "source": [
    "#### Exercise 1\n",
    "\n",
    "Let's pull in the other permit data table we have: `Permit_HousingApp_Parcel_Merge_Oakland.geojson`\n",
    "Try the following:\n",
    "1. Import the geojson as `housingapp_parcel_gdf`. Check your geodataframe’s columns.\n",
    "2. Convert to a point dataset\n",
    "3. Create a map that colors the points by the values in the column `approved` (number of approved units) \n",
    "4. Overlay these points on the Alameda County tracts data\n",
    "5. Zoom to Oakland\n"
   ]
  },
  {
   "cell_type": "code",
   "execution_count": null,
   "metadata": {},
   "outputs": [],
   "source": [
    "# Your code here"
   ]
  },
  {
   "cell_type": "markdown",
   "metadata": {},
   "source": [
    "*Click here for answers*\n",
    "\n",
    "<!--- cut and paste below---\n",
    " \n",
    "# SOLUTION\n",
    "# 1. Check your geodataframe’s columns\n",
    "housingapp_parcel_gdf = gpd.read_file(\"../notebook_data/outdata/Permit_HousingApp_Parcel_Merge_Oakland.geojson\")\n",
    "housingapp_parcel_gdf.columns\n",
    "\n",
    "housingapp_parcel_gdf[['APN2','proposed','approved']]\n",
    "\n",
    "# SOLUTION\n",
    "housingapp_parcel_point_gdf =  gpd.GeoDataFrame(housingapp_parcel_gdf.drop('geometry',axis=1), \n",
    "                            geometry=housingapp_parcel_gdf.centroid)\n",
    "\n",
    "\n",
    "# SOLUTION\n",
    "\n",
    "my_cmap = matplotlib.cm.get_cmap('summer')\n",
    "my_cmap.set_under('grey')\n",
    "\n",
    "# Map counts of permits within tracts\n",
    "fig, ax = plt.subplots(figsize = (18,8)) \n",
    "\n",
    "tracts_acs_gdf.plot(ax=ax,color='lightgrey', edgecolor='white')\n",
    "housingapp_parcel_point_gdf.plot(ax=ax,\n",
    "                                 column='approved', \n",
    "                                 legend=True, \n",
    "                                 cmap=my_cmap,\n",
    "                                 vmin=1\n",
    "                                 )\n",
    "\n",
    "# Set x and y limits\n",
    "ax.set_xlim([-122.35,-122.1])\n",
    "ax.set_ylim([37.7,37.87])\n",
    "\n",
    "plt.show()\n",
    "\n",
    "--- cut and paste above code --->"
   ]
  },
  {
   "cell_type": "markdown",
   "metadata": {},
   "source": [
    "#### Exercise 2\n",
    "\n",
    "In the code cell below.\n",
    "\n",
    "1. Spatially join the `housingapp_parcel_point_gdf` data to the census ACS data (`tracts_acs_gdf`). Make sure the CRSs match first! Save the output to a geodataframe called `tracts_and_apps_gdf`.\n",
    "  \n",
    "  \n",
    "2. Use the `dissolve` operation on the output of the spatial join (`tracts_and_apps_gdf`) and sum the number of **proposed** permits by census tract. Name the output geodataframe `tract_proposed_counts_gdf`.\n",
    "\n",
    "\n",
    "3. Create a map of the `count` of proposed units per census tract in  `tract_proposed_counts_gdf`.\n",
    "\n",
    "\n",
    "4. Save your work\n",
    "  1. your sjoin output\n",
    "  1. your dissolve output\n",
    "  1. your map"
   ]
  },
  {
   "cell_type": "code",
   "execution_count": null,
   "metadata": {},
   "outputs": [],
   "source": [
    "## YOUR CODE HERE\n",
    " \n",
    "# Drop rows with no geometry - don't change this next line - it is needed bc not all rows have geometry\n",
    "# housingapp_parcel_point_gdf=housingapp_parcel_point_gdf[~housingapp_parcel_point_gdf.geometry.isna()]\n",
    "\n",
    "# Transform CRSs so they match\n",
    "\n",
    "# sjoin housing apps to tracts\n",
    "\n",
    "# Dissolve and sum proprosed units\n",
    "\n",
    "# Map it\n",
    " \n",
    "# Save your work"
   ]
  },
  {
   "cell_type": "markdown",
   "metadata": {},
   "source": [
    "*Click here for answers*\n",
    "\n",
    "<!--- Cut and paste below ---\n",
    "\n",
    "# SOLUTION\n",
    "\n",
    "# Drop rows with no geometry\n",
    "housingapp_parcel_point_gdf = housingapp_parcel_point_gdf[~housingapp_parcel_point_gdf.geometry.isna()]\n",
    "housingapp_parcel_point_gdf.head()\n",
    "\n",
    "# Transform CRSs so they match\n",
    "housingapp_parcel_point_gdf = housingapp_parcel_point_gdf.to_crs(tracts_acs_gdf.crs)\n",
    "\n",
    "# sjoin housing apps to tracts\n",
    "tracts_and_apps_gdf = gpd.sjoin(tracts_acs_gdf, housingapp_parcel_point_gdf)\n",
    "\n",
    "# Dissolve and sum proprosed units\n",
    "tract_proposed_counts_gdf=tracts_and_apps_gdf[['GEOID','geometry','proposed']].dissolve(by='GEOID', aggfunc=\"sum\", as_index=False)\n",
    "#tract_proposed_counts_gdf\n",
    "\n",
    "# Map it\n",
    "fig, ax = plt.subplots(figsize = (14,8)) \n",
    "\n",
    "# Display the output of our spatial join\n",
    "tract_proposed_counts_gdf.plot(ax=ax,column='proposed', \n",
    "                             scheme=\"quantiles\", \n",
    "                             cmap=\"YlGnBu\",\n",
    "                             edgecolor=\"grey\",\n",
    "                             legend=True, )\n",
    "\n",
    "plt.show()\n",
    "\n",
    "--- cut and paste above --->"
   ]
  },
  {
   "cell_type": "markdown",
   "metadata": {},
   "source": [
    "## Congrats you're done with part 3!\n",
    "</br>\n",
    "\n",
    "---\n",
    "<div style=\"display:inline-block;vertical-align:middle;\">\n",
    "<a href=\"https://dataforhousing.org/\" target=\"_blank\"><img src =\"https://media-exp1.licdn.com/dms/image/C560BAQELkt35AxeIeA/company-logo_200_200/0?e=1597881600&v=beta&t=irZ1tYCA9A2biVzCguvCXzsfzanSYDFuF22IUFNY5Sg\" width=\"75\" align=\"left\">\n",
    "</a>\n",
    "</div>\n",
    "\n",
    "<div style=\"display:inline-block;vertical-align:middle;\">\n",
    "    <div style=\"font-size:larger\">&nbsp;Data Science for Housing Workshop, University of California Berkeley</div>\n",
    "    <div>&nbsp;Tim Thomas, Patty Frontiera, Emmanuel Lopez, Ethan Ebinger, Hikari Murayama, Karen Chapple, Claudia von Vacano<div>\n",
    "    <div>&copy; UC Regents, 2019-2020</div>\n",
    "</div>"
   ]
  }
 ],
 "metadata": {
  "kernelspec": {
   "display_name": "Python 3",
   "language": "python",
   "name": "python3"
  },
  "language_info": {
   "codemirror_mode": {
    "name": "ipython",
    "version": 3
   },
   "file_extension": ".py",
   "mimetype": "text/x-python",
   "name": "python",
   "nbconvert_exporter": "python",
   "pygments_lexer": "ipython3",
   "version": "3.8.3"
  }
 },
 "nbformat": 4,
 "nbformat_minor": 4
}
