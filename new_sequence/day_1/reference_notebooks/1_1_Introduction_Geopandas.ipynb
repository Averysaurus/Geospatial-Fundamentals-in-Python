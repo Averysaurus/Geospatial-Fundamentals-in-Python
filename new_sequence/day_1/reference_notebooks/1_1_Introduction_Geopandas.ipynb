{
 "cells": [
  {
   "cell_type": "markdown",
   "metadata": {},
   "source": [
    "# 1. Introduction to GeoPandas\n",
    "\n",
    "\n",
    "### HOMEWORK AND RECAP ARE STILL IN THIS FILE\n",
    "\n",
    "Welcome back! We're diving into using a popular Python package, `GeoPandas`, so we can start looking at our data spatially! In this notebook we'll be covering the following topics:\n",
    "\n",
    "- [1.1 Introduction](#section1)\n",
    "    - GeoPandas and Geospatial Data in Python\n",
    "- [1.2 Data Preparation](#section2)\n",
    "    - Reading in and writing out data as csv\n",
    "    - Preprocessing the ACS 5 year data\n",
    "- [1.3 Mapping Census Tracts](#section3)\n",
    "    - Learning about census tracts data\n",
    "    - Reading in shapefiles with Geopandas\n",
    "    - Exploring a GeoDataFrame\n",
    "    - Mapping geospatial data stored in a GeoDataFrame\n",
    "- [1.4 Spatial Subsetting](#section4)\n",
    "    - Subsetting by bounding box coordinates\n",
    "- [1.5 Attribute Joins](#section5)\n",
    "    - Joining a pandas DataFrame to a GeoPandas GeoDataFrame\n",
    "- [1.6 Data Driven Mapping](#section6)\n",
    "    - Types of thematic mapping\n",
    "    - Reading in and writing out spatial data in different file formats (e.g., shapefile, csv, geojson)\n",
    "- [1.7 Coordinate Reference Systems (CRS)](#section7)\n",
    "    - Handling CRS in GeoPandas (i.e., getting, setting, transforming)\n",
    "    - Spatial measurement calculations (area, length)\n",
    "- [1.8 Recap](#section8)\n",
    "- [1.9 Homework](#section9)\n",
    "- [1.10 References](#section10)\n",
    "    \n",
    "\n",
    "\n",
    "\n",
    "**INSTRUCTOR NOTES**:\n",
    "- Datasets used:\n",
    "    - \"../notebook_data/census/ACS5yr/census_variables_CA.csv\"\n",
    "    - \"../notebook_data/census/Tracts/cb_2018_06_tract_500k.zip\"\n",
    "\n",
    "\n",
    "- Expected time to complete:\n",
    "    - Lecture + Questions: 1.5 hours\n",
    "    - Homework: 40 minutes\n",
    "    \n",
    "---\n"
   ]
  },
  {
   "cell_type": "markdown",
   "metadata": {},
   "source": [
    "<a id=\"section1\"></a>\n",
    "## 1.1 Introduction"
   ]
  },
  {
   "cell_type": "markdown",
   "metadata": {},
   "source": [
    "The goal of this notebook is to give you a **tip of the iceberg introduction** to working with geospatial data in Python using the **GeoPandas** package.  \n",
    "\n",
    "> #### Assumptions\n",
    "> This lesson assumes you have basic working knowledge of Python and of geospatial data. If you need a geospatial refresher, we refer you to these freely available online resources:\n",
    "> - The Open Textbook Library: [Essentials of Geographic Information Systems by Jonathan E. Campbell and Michael Shin](http://open.umn.edu/opentextbooks/BookDetail.aspx?bookId=67)\n",
    "> - The Open Textbook Library: [Nature of Geographic Information Systems by David DiBiase](http://open.umn.edu/opentextbooks/BookDetail.aspx?bookId=428) from Esri.\n",
    "> - Online Gitbook: [Intro to GIS and Spatial Analysis by Manuel Gimond](https://mgimond.github.io/Spatial/index.html)\n",
    "\n",
    "\n",
    "#### Terminology\n",
    "\n",
    "Just so we are on the same page..\n",
    "\n",
    "- `Geographic data` is data about locations on or near the surface of the Earth.\n",
    "\n",
    "- `Geospatial data`  is geographic data that can be explictly located on the surface of the Earth because it contains coordinates like latitude and longitude.\n",
    "\n",
    "- `Spatial data` is a more generic term that includes geospatial data as well as other kinds of spatial data.\n",
    " \n",
    " \n",
    "### GeoPandas and related Geospatial Packages\n",
    "\n",
    "[GeoPandas](http://geopandas.org/) is a relatively new package that makes it easier to work with geospatial data in Python. In the last few years it has grown more powerful and stable. This really is great because previously it was quite complex to work with geospatial data in Python. GeoPandas is now the go to package for working with `vector` geospatial data in Python. \n",
    "\n",
    "> **Pro-tip**: If you work with `raster` data you will want to checkout the [rasterio](https://rasterio.readthedocs.io/en/latest/) package. We will not cover raster data in this tutorial.\n",
    "\n",
    "### GeoPandas = pandas + geo\n",
    "GeoPandas gives you access to all of the functionality of [pandas](https://pandas.pydata.org/), which is the primary data analysis tool for working with tabular data in Python. GeoPandas extends pandas with attributes and methods for working with geospatial data.\n"
   ]
  },
  {
   "cell_type": "markdown",
   "metadata": {},
   "source": [
    "### Import Libraries\n",
    "\n",
    "Let's start by importing the libraries that we will use."
   ]
  },
  {
   "cell_type": "code",
   "execution_count": null,
   "metadata": {},
   "outputs": [],
   "source": [
    "import pandas as pd\n",
    "import geopandas as gpd\n",
    "\n",
    "import matplotlib # base python plotting library\n",
    "import matplotlib.pyplot as plt # submodule of matplotlib\n",
    "\n",
    "# To display plots, maps, charts etc in the notebook\n",
    "%matplotlib inline  \n"
   ]
  },
  {
   "cell_type": "markdown",
   "metadata": {},
   "source": [
    "<a id=\"section2\"></a>\n",
    "## 1.2 Data preparation\n",
    "\n",
    "In this lesson we will use ACS and census tract data to demonstrate how to work GeoPandas. Data for Alameda County as our primary example."
   ]
  },
  {
   "cell_type": "markdown",
   "metadata": {},
   "source": [
    "\n",
    "<img src =\"https://upload.wikimedia.org/wikipedia/commons/thumb/9/95/CampanileMtTamalpiasSunset-original.jpg/1280px-CampanileMtTamalpiasSunset-original.jpg\" height=\"100\" width=\"400\"> \n",
    "        "
   ]
  },
  {
   "cell_type": "markdown",
   "metadata": {},
   "source": [
    "As you are probably aware, Berkeley (and of course the University) are located in Alameda County. "
   ]
  },
  {
   "cell_type": "markdown",
   "metadata": {},
   "source": [
    "### American Community Survey 5 Year Data (or ACS5)\n",
    "\n",
    "To get started, let's read the ACS 5 year data for California tracts into a `dataframe` using the  `pandas read_csv` method. \n",
    "\n",
    "As we read in the ACS data we will tell pandas to make sure that the data in the column `FIPS_11_digit` is read in as a string to preserve leading zeros in the census tract identifiers."
   ]
  },
  {
   "cell_type": "code",
   "execution_count": null,
   "metadata": {},
   "outputs": [],
   "source": [
    "# Read in the ACS5 data for CA into a pandas DataFrame.\n",
    "# Note: We force the FIPS_11_digit to be read in as a string to preserve any leading zeroes.\n",
    "acs5data_df = pd.read_csv(\"../notebook_data/census/ACS5yr/census_variables_CA.csv\", dtype={'FIPS_11_digit':str})"
   ]
  },
  {
   "cell_type": "markdown",
   "metadata": {},
   "source": [
    "Pandas provides a number of methods to view information about a dataframe."
   ]
  },
  {
   "cell_type": "markdown",
   "metadata": {},
   "source": [
    "The pandas dataframe attribute `shape` tells us the number of rows and columns in the dataframe."
   ]
  },
  {
   "cell_type": "code",
   "execution_count": null,
   "metadata": {},
   "outputs": [],
   "source": [
    "# Take a look at the shape of the dataframe\n",
    "acs5data_df.shape"
   ]
  },
  {
   "cell_type": "markdown",
   "metadata": {},
   "source": [
    "Each row in our dataframe is an observation. For the ACS5 data each observation is about a census tract.\n",
    "\n",
    "Each column in our dataframe is a variable for that observation."
   ]
  },
  {
   "cell_type": "markdown",
   "metadata": {},
   "source": [
    "Let's use `head` to take a look at the first 5 rows in the dataframe."
   ]
  },
  {
   "cell_type": "code",
   "execution_count": null,
   "metadata": {
    "scrolled": true
   },
   "outputs": [],
   "source": [
    "# Take a look at the data\n",
    "acs5data_df.head()"
   ]
  },
  {
   "cell_type": "markdown",
   "metadata": {},
   "source": [
    "A `...` in the middle of the top row indicates that there are two many columns to display.\n",
    "\n",
    "The pandas dataframe `columns` attribute returns a list of the column names."
   ]
  },
  {
   "cell_type": "code",
   "execution_count": null,
   "metadata": {},
   "outputs": [],
   "source": [
    "acs5data_df.columns"
   ]
  },
  {
   "cell_type": "markdown",
   "metadata": {},
   "source": [
    "We can see more information about the variables included in our ACS5 year data using the `info` method. This method tells us at a glance what variables (or columns) are included in the data, the data type of each variable, and which variables have values for all rows."
   ]
  },
  {
   "cell_type": "code",
   "execution_count": null,
   "metadata": {},
   "outputs": [],
   "source": [
    "acs5data_df.info()"
   ]
  },
  {
   "cell_type": "markdown",
   "metadata": {},
   "source": [
    "### Brief review of the ACS data"
   ]
  },
  {
   "cell_type": "markdown",
   "metadata": {},
   "source": [
    "These variables were combined from different ACS 5 year tables. We have information for the following:\n",
    "\n",
    "- `c_race` - Total population\n",
    "- `c_white` - Total white non-Latinx\n",
    "- `c_black` - Total black and African American non-Latinx\n",
    "- `c_asian` - Total Asian non-Latinx\n",
    "- `c_latinx` - Total Latinx\n",
    "- `state_fips` - State level FIPS code\n",
    "- `county_fips` - County level FIPS code\n",
    "- `tract_fips` - Tracts level FIPS code\n",
    "- `med_rent` - Median rent\n",
    "- `med_hhinc` - Median household income\n",
    "- `c_tenants` - Total tenants\n",
    "- `c_owners` - Total owners\n",
    "- `c_renters` - Total renters\n",
    "- `c_movers` - Total number of people who moved\n",
    "- `c_stay` - Total number of people who stayed\n",
    "- `c_movelocal` - Number of people who moved locally\n",
    "- `c_movecounty` - Number of people who moved counties\n",
    "- `c_movestate` - Number of people who moved states\n",
    "- `c_moveabroad` - Number of people who moved abroad\n",
    "- `c_commute` - Total number of commuters\n",
    "- `c_car` - Number of commuters who use a car\n",
    "- `c_carpool` - Number of commuters who carpool\n",
    "- `c_transit` - Number of commuters who use public transit\n",
    "- `c_bike` - Number of commuters who bike\n",
    "- `c_walk` - Number of commuters who bike\n",
    "- `year` - ACS data year\n",
    "- `FIPS_11_digit` - 11-digit FIPS code\n",
    "\n",
    "The ACS variables that start with `c_` are counts, those that start with `med_` are medians.  Variables that end in `_moe` denote margin of error. There are also a number of derived variables that start with `p_`. These are proportions calcuated from the counts divided by the table denominator (the total count for whom that variable was assessed)."
   ]
  },
  {
   "cell_type": "markdown",
   "metadata": {},
   "source": [
    "We're going to drop all of our `moe` columns by identifying all of those that end with `_moe`. We can do that in two steps, first by using `filter` to identify columns that contain the string `_moe`."
   ]
  },
  {
   "cell_type": "code",
   "execution_count": null,
   "metadata": {},
   "outputs": [],
   "source": [
    "moe_cols = acs5data_df.filter(like='_moe',axis=1).columns\n",
    "moe_cols"
   ]
  },
  {
   "cell_type": "markdown",
   "metadata": {},
   "source": [
    "Note how we set the filter `like=` to a value that matches the pattern of the names of the columns we want to drop. You need to make sure you get all but only the columns that you want to drop.\n",
    "\n",
    "<div style=\"display:inline-block;vertical-align:top;\">\n",
    "    <img src=\"http://www.pngall.com/wp-content/uploads/2016/03/Light-Bulb-Free-PNG-Image.png\" width=\"30\" align=left > \n",
    "</div>  \n",
    "<div style=\"display:inline-block;\">\n",
    "\n",
    "#### Question\n",
    "</div>\n",
    "\n",
    "What do you think happens if you match `_mo` instead of `_moe` in the filter?"
   ]
  },
  {
   "cell_type": "markdown",
   "metadata": {},
   "source": [
    "Now that we've got our list of moe columns, we can use `.drop()` to remove them from the dataframe. "
   ]
  },
  {
   "cell_type": "code",
   "execution_count": null,
   "metadata": {},
   "outputs": [],
   "source": [
    "# Drop MOE columns\n",
    "acs5data_df.drop(moe_cols, axis=1, inplace=True)"
   ]
  },
  {
   "cell_type": "markdown",
   "metadata": {},
   "source": [
    "Check that you no longer have the moe columns in the dataframe."
   ]
  },
  {
   "cell_type": "code",
   "execution_count": null,
   "metadata": {},
   "outputs": [],
   "source": [
    "acs5data_df.columns"
   ]
  },
  {
   "cell_type": "markdown",
   "metadata": {},
   "source": [
    "### Select data for our county and year of interest\n",
    "\n",
    "Our ACS5 data contains observations for all CA counties and two ACS 5 year periods.\n",
    "\n",
    "The counties are identified by a unique Census FIPS code. \n",
    "- You can see the list of all CA Counties and their FIPS codes [here](https://en.wikipedia.org/wiki/List_of_counties_in_California).\n",
    "\n",
    "Let's use the `.unique` to check the unique set of county FIPS codes included in our dataframe."
   ]
  },
  {
   "cell_type": "code",
   "execution_count": null,
   "metadata": {},
   "outputs": [],
   "source": [
    "acs5data_df['county_fips'].unique()  #what counties are in our dataframe"
   ]
  },
  {
   "cell_type": "markdown",
   "metadata": {},
   "source": [
    "Now use `.unique` to see what years are included."
   ]
  },
  {
   "cell_type": "code",
   "execution_count": null,
   "metadata": {
    "scrolled": true
   },
   "outputs": [],
   "source": [
    "acs5data_df['year'].unique()"
   ]
  },
  {
   "cell_type": "markdown",
   "metadata": {},
   "source": [
    "We are interested in Alameda County, which has the FIPS code `001`.  Moreover, we are only interested in the 2018 ACS 5 year data.  Let's filter the data to keep only the rows that match these two conditions.\n"
   ]
  },
  {
   "cell_type": "code",
   "execution_count": null,
   "metadata": {},
   "outputs": [],
   "source": [
    "acs5data_df_ac = acs5data_df[(acs5data_df['year']==2018) & (acs5data_df['county_fips']==1)]"
   ]
  },
  {
   "cell_type": "markdown",
   "metadata": {},
   "source": [
    "<div style=\"display:inline-block;vertical-align:top;\">\n",
    "    <img src=\"http://www.pngall.com/wp-content/uploads/2016/03/Light-Bulb-Free-PNG-Image.png\" width=\"30\" align=left > \n",
    "</div>  \n",
    "<div style=\"display:inline-block;\">\n",
    "\n",
    "#### Question\n",
    "</div>\n",
    "\n",
    "Why do we filter on `county_fips==1` instead of `county_fips==001` or `county_fips=='001'`?"
   ]
  },
  {
   "cell_type": "code",
   "execution_count": null,
   "metadata": {},
   "outputs": [],
   "source": [
    "# Write your thoughts here"
   ]
  },
  {
   "cell_type": "markdown",
   "metadata": {},
   "source": [
    "Now, check the contents of our dataframe again."
   ]
  },
  {
   "cell_type": "code",
   "execution_count": null,
   "metadata": {},
   "outputs": [],
   "source": [
    "# now what is the shape of the data when filtered for Alameda County?\n",
    "print(acs5data_df_ac.shape)"
   ]
  },
  {
   "cell_type": "code",
   "execution_count": null,
   "metadata": {},
   "outputs": [],
   "source": [
    "# Take a look at the first 5 rows\n",
    "acs5data_df_ac.head()"
   ]
  },
  {
   "cell_type": "markdown",
   "metadata": {},
   "source": [
    ">**Pro-tip:** Checking your row and column counts and values often with `.shape` and values with `.head` help to make sure that these values are consistent with your understanding of the data."
   ]
  },
  {
   "cell_type": "markdown",
   "metadata": {},
   "source": [
    "### Saving our output"
   ]
  },
  {
   "cell_type": "markdown",
   "metadata": {},
   "source": [
    "It's a good idea to save your data if you have done any major processing on it. Let's save our Alameda County sub-setted ACS5 data to a CSV file."
   ]
  },
  {
   "cell_type": "code",
   "execution_count": null,
   "metadata": {},
   "outputs": [],
   "source": [
    "# Save processed data to a csv file - give it a name that is meaningful\n",
    "acs5data_df_ac.to_csv('../outdata/acs5data_2018_AC.csv')"
   ]
  },
  {
   "cell_type": "markdown",
   "metadata": {},
   "source": [
    "Confirm that the file was saved with a [shell command](https://jakevdp.github.io/PythonDataScienceHandbook/01.05-ipython-and-shell-commands.html#Shell-Commands-in-IPython).  Shell commands are prefaced by a `!` and allow you to access the file system and run commands like you would from a terminal window. (This may differ if you are on a windows computer)"
   ]
  },
  {
   "cell_type": "code",
   "execution_count": null,
   "metadata": {},
   "outputs": [],
   "source": [
    "!ls ../outdata"
   ]
  },
  {
   "cell_type": "markdown",
   "metadata": {},
   "source": [
    "#### Exercise\n",
    "\n",
    "Now do this for the SF ACS data:\n",
    "1. Find the FIPS code for [SF county](https://en.wikipedia.org/wiki/List_of_counties_in_California)\n",
    "2. Subset the ACS data to keep only rows for SF county in 2018 and assign to `acs5data_df_sf`\n",
    "3. Save out ACS data as `acs5data_2018_SF.csv`\n",
    "\n",
    "\n"
   ]
  },
  {
   "cell_type": "code",
   "execution_count": null,
   "metadata": {},
   "outputs": [],
   "source": [
    "# Your code here"
   ]
  },
  {
   "cell_type": "markdown",
   "metadata": {},
   "source": [
    "\n",
    "*Click here for solution*\n",
    "\n",
    "<!--- \n",
    "    # SOLUTION\n",
    "    # 1 & 2 Subset ACS data for SF\n",
    "    acs5data_df_sf = acs5data_df[(acs5data_df['county_fips']==75) & (acs5data_df.year==2018)]\n",
    "\n",
    "    # SOLUTION\n",
    "    acs5data_df_sf.head()\n",
    "\n",
    "    # SOLUTION\n",
    "    # 3. Save out ACS data as 'acs5data_2018_SF.csv'\n",
    "    acs5data_df_sf.to_csv('../outdata/acs5data_2018_SF.csv')\n",
    "--->"
   ]
  },
  {
   "cell_type": "markdown",
   "metadata": {},
   "source": [
    "<a id=\"section8\"></a>\n",
    "## 1.8 Recap\n",
    "This lesson provided a broad overview to using [GeoPandas](http://geopandas.org/) to work with geospatial data in Python. \n",
    "\n",
    "Below is a quick recap of the GeoPandas capabilities and geospatial concepts we covered:\n",
    "\n",
    "- Reading and writing spatial data to/from Geopandas (gpd) GeoDataFrames (gdf), with a focus on ESRI Shapefiles and geojson files.\n",
    "\t- `gpd.read_file()`\n",
    "    - `gdf.to_file()`\n",
    "- Plotting a geodataframe \n",
    "\t- `gdf.GeoDataFrame.plot()`\n",
    "- Spatially subsetting a geodataframe\n",
    "\t- `gdf.cx()`\n",
    "- Using attribute joins to merge Geopandas GeoDataFrames with pandas DataFrames (df)\n",
    "\t- `gdf.merge(df)`\n",
    "- Choropleth mapping \n",
    "\t- `.plot(column='<column_name>')`\n",
    "- Adding columns to a GeoDataFrame to transform counts to densities\n",
    "\t- `tracts_acs_gdf_ac['pop_dens_km2'] = tracts_acs_gdf_ac['c_race']/ (tracts_acs_gdf_ac['ALAND']/SQMETER_PER_SQKM)`\n",
    "\n",
    "- Getting, setting (defining), and transforming (projecting) a CRS using `EPSG` codes\n",
    "\t- `.crs`\n",
    "\t- `.to_crs()`\n",
    "- Spatial measurements: accessing the spatial attributed of GeoDataFrame geometries\n",
    "\t- `.area` \n",
    "\t- `.length`"
   ]
  },
  {
   "cell_type": "markdown",
   "metadata": {},
   "source": [
    "<a id=\"section9\"></a>\n",
    "## 1.9 Homework"
   ]
  },
  {
   "cell_type": "markdown",
   "metadata": {},
   "source": [
    "#### Exercise 1\n",
    "1. Compare the values in the `GEOID` column of the tracts gdf and `FIPS_11_digit` in the ACS dataframe.\n",
    "2. Join the two datasets and name the output geodataframe `tracts_acs_gdf_sf`\n",
    "3. Check your output data - type, columns, shape, data values, etc. "
   ]
  },
  {
   "cell_type": "code",
   "execution_count": null,
   "metadata": {},
   "outputs": [],
   "source": [
    "# Your code here"
   ]
  },
  {
   "cell_type": "markdown",
   "metadata": {},
   "source": [
    "*Click here for answers*\n",
    "\n",
    "<!--- \n",
    "    # SOLUTION\n",
    "    # 1.a - look at census tract identifiers in the tract data\n",
    "    tracts_gdf_sf['GEOID']\n",
    "\n",
    "    # SOLUTION\n",
    "    # 1.b - look at census tract identifiers in the ACS data\n",
    "    acs5data_df_sf['FIPS_11_digit'].head()\n",
    "\n",
    "    # SOLUTION\n",
    "    # 2. Join the two datasets and name the output tracts_acs_gdf_sf\n",
    "    tracts_acs_gdf_sf = tracts_gdf_sf.merge(acs5data_df_sf, left_on='GEOID',right_on=\"FIPS_11_digit\", how='inner')\n",
    "    tracts_acs_gdf_sf.head(2)\n",
    "\n",
    "    # SOLUTION\n",
    "    # 3. Check your output data\n",
    "    print(tracts_gdf_sf.shape)\n",
    "    print(tracts_acs_gdf_sf.shape)\n",
    "--->"
   ]
  },
  {
   "cell_type": "markdown",
   "metadata": {},
   "source": [
    "#### Exercise 2\n",
    "\n",
    "Plot population density for SF county. Here are the steps you'll need to take:\n",
    "1. Create a population density per km2 variable and add it to the data frame\n",
    "2. Repeat but for population density per mile2\n",
    "3. Create choropleth maps for both variables"
   ]
  },
  {
   "cell_type": "code",
   "execution_count": null,
   "metadata": {},
   "outputs": [],
   "source": [
    "# Your code here"
   ]
  },
  {
   "cell_type": "markdown",
   "metadata": {},
   "source": [
    "*Click here for answers*\n",
    "\n",
    "<!--- \n",
    "    # SOLUTION\n",
    "    # 1. Create a population density per km2 variable and add it to the data frame\n",
    "    tracts_acs_gdf_sf['pop_dens_km2'] = tracts_acs_gdf_sf['c_race']/ (tracts_acs_gdf_sf['ALAND']/SQMETER_PER_SQKM)\n",
    "\n",
    "    # SOLUTION\n",
    "    # 2. Repeat but for population density per mile2\n",
    "    tracts_acs_gdf_sf['pop_dens_mi2'] = tracts_acs_gdf_sf['c_race']/ (tracts_acs_gdf_sf['ALAND']/SQMETER_PER_SQMILE)\n",
    "\n",
    "    # SOLUTION\n",
    "    # 3. Plot population density - km^2\n",
    "    fig, ax = plt.subplots(figsize = (10,10)) \n",
    "    tracts_acs_gdf_sf.plot(column='pop_dens_km2', legend=True,\n",
    "                        legend_kwds={'label': \"Population per Sq KM\",\n",
    "                                     'orientation': \"horizontal\"},\n",
    "                        ax=ax)\n",
    "    plt.show()\n",
    "--->"
   ]
  },
  {
   "cell_type": "markdown",
   "metadata": {},
   "source": [
    "#### Exercise 3\n",
    "\n",
    "Do you remember how to read in data from a file to a geodataframe? Test that below by completing the code."
   ]
  },
  {
   "cell_type": "code",
   "execution_count": null,
   "metadata": {},
   "outputs": [],
   "source": [
    "# read in Alameda county Geojson file to a geodataframe\n",
    "ac_tracts_from_geojson = ...\n",
    "\n",
    "# Uncomment line below and plot\n",
    "#ac_tracts_from_geojson.plot(column='pop_dens_mi2')"
   ]
  },
  {
   "cell_type": "code",
   "execution_count": null,
   "metadata": {},
   "outputs": [],
   "source": [
    "# read in Alameda county Geojson file to a geodataframe\n",
    "ac_tracts_from_gpkg = ...\n",
    "# Uncomment line below and plot\n",
    "#ac_tracts_from_gpkg.plot(column='pop_dens_mi2')"
   ]
  },
  {
   "cell_type": "markdown",
   "metadata": {},
   "source": [
    "*Click here for answers*\n",
    "\n",
    "<!--- \n",
    "    # SOLUTION\n",
    "    # read in Alameda county Geojson file to a geodataframe\n",
    "    ac_tracts_from_geojson = gpd.read_file(\"../outdata/tracts_acs_gdf_ac.json\")\n",
    "    ac_tracts_from_geojson.plot(column='pop_dens_mi2')\n",
    "\n",
    "    # SOLUTION\n",
    "    # read in Alameda county Geojson file to a geodataframe\n",
    "    ac_tracts_from_gpkg = gpd.read_file(\"../outdata/tracts_acs_gdf_ac.json\", driver=\"GeoJSON\")\n",
    "    ac_tracts_from_gpkg.plot(column='pop_dens_mi2')\n",
    "--->"
   ]
  },
  {
   "cell_type": "markdown",
   "metadata": {},
   "source": [
    "#### Exercise 4\n",
    "1. Check the CRS of the geodataframe `tracts_acs_gdf_sf` \n",
    "2. Transform the CRS of `tracts_acs_gdf_sf` to UTM Zone 10N, NAD83 and call it `tracts_acs_sf_utm10`\n",
    "3. Display and compare your two CRS definitions.\n",
    "4. Use plot to make a map of the data in both CRSs\n",
    "3. Calculate the area of SF using the `.area` geodataframe attribute and the `ALAND` column"
   ]
  },
  {
   "cell_type": "code",
   "execution_count": null,
   "metadata": {},
   "outputs": [],
   "source": [
    "# Your code here"
   ]
  },
  {
   "cell_type": "markdown",
   "metadata": {},
   "source": [
    "*Click here for answers*\n",
    "\n",
    "<!--- \n",
    "# 1. Check the CRS \n",
    "tracts_acs_gdf_sf.crs\n",
    "# 2. transform the crs of your SF tracts ACS data data \n",
    "tracts_acs_sf_utm10 = tracts_acs_gdf_sf.to_crs('epsg:26910')\n",
    "# 3. Display the CRS definitions\n",
    "tracts_acs_gdf_sf.crs\n",
    "tracts_acs_sf_utm10.crs\n",
    "\n",
    "# 3. Plot and compare your two CRSs\n",
    "\n",
    "# plot geographic gdf\n",
    "tracts_acs_gdf_sf.plot();\n",
    "# plot utm gdf\n",
    "tracts_acs_sf_utm10.plot();\n",
    "\n",
    "# 4. Calculate the area of SF using the 2 above methods\n",
    "tracts_acs_sf_utm10.area.sum()  / SQMETER_PER_SQKM\n",
    "tracts_acs_sf_utm10.ALAND.sum()/SQMETER_PER_SQKM\n",
    "--->"
   ]
  },
  {
   "cell_type": "markdown",
   "metadata": {},
   "source": [
    "<a id=\"section10\"></a>\n",
    "## References\n",
    "\n",
    "- [Kaggle Learn: Geospatial Analysis in Python](https://www.kaggle.com/learn/geospatial-analysis), an online interactive tutorial\n",
    "\n",
    "- [Campbell & Shin, Geographic Information System Basics, v1.0](https://2012books.lardbucket.org/books/geographic-information-system-basics/index.html)\n",
    "\n",
    "- [Intro to Python GIS: Map Projections and Coordinate Reference Systems](https://automating-gis-processes.github.io/CSC/notebooks/L2/projections.html)\n",
    "\n",
    "- [ESRI \n",
    "Coordinate systems, map projections, and geographic (datum) transformations](http://resources.esri.com/help/9.3/arcgisengine/dotnet/89b720a5-7339-44b0-8b58-0f5bf2843393.htm)\n",
    "\n",
    "#### Installing GeoPandas on Your Computer\n",
    "\n",
    "To install GeoPandas on your own computer, see the instructions in this file [s0_0_Geopandas_Installation.md](https://github.com/dataforhousing/curriculum_dev/blob/master/code/s0_0_Geopandas_Installation.md) or on the [GeoPandas.org](https://geopandas.org/install.html) website.\n",
    "\n",
    "The geospatial functionality of GeoPandas is provided by several lower level spatial data packages that are included in GeoPandas and which you may have used previously. These include:\n",
    "- [shapely](https://pypi.python.org/pypi/Shapely) - for geometry processing\n",
    "- [fiona](https://pypi.python.org/pypi/Fiona) - for spatial data file IO\n",
    "- [GDAL/Ogr](https://gdal.org) - for spatial data file IO\n",
    "- [pyproj](https://github.com/jswhit/pyproj) - for map projections and coordinate systems\n",
    "- [PROJ.4](https://proj.org) - for map projections and coordinate systems\n",
    "- [geopy](https://geopy.readthedocs.io/en/stable/) for geocoding and for geodesic distance calculations,\n",
    "- [pysal](https://pysal.org/) for spatial analysis functions such as data classification methods and spatial autocorrelation,\n",
    "- [descartes](https://bitbucket.org/sgillies/descartes/src/default/) for plotting Shapely geometric objects with Matplotlib\n",
    "\n",
    "These packages may be installed as dependencies when you install Geopandas or you may need to install these directly.  We list the packages above for reference only in case you have questions about what is being installed on your system or need help getting Geopandas to run.\n"
   ]
  },
  {
   "cell_type": "markdown",
   "metadata": {},
   "source": [
    "## Congrats you're done with GeoPandas part 1!\n",
    "</br>"
   ]
  },
  {
   "cell_type": "markdown",
   "metadata": {},
   "source": [
    "\n",
    "---\n",
    "<div style=\"display:inline-block;vertical-align:middle;\">\n",
    "<a href=\"https://dlab.berkeley.edu\" target=\"_blank\"><img src =\"\" width=\"75\" align=\"left\">\n",
    "</a>\n",
    "</div>\n",
    "\n",
    "<div style=\"display:inline-block;vertical-align:middle;\">\n",
    "    <div style=\"font-size:larger\">&nbsp;Data Science for Housing Workshop, University of California Berkeley</div>\n",
    "    <div>&nbsp;Tim Thomas, Patty Frontiera, Emmanuel Lopez, Ethan Ebinger, Hikari Murayama, Karen Chapple, Claudia von Vacano<div>\n",
    "    <div>&copy; UC Regents, 2019-2020</div>\n",
    "</div>"
   ]
  },
  {
   "cell_type": "code",
   "execution_count": null,
   "metadata": {},
   "outputs": [],
   "source": []
  }
 ],
 "metadata": {
  "kernelspec": {
   "display_name": "Python 3",
   "language": "python",
   "name": "python3"
  },
  "language_info": {
   "codemirror_mode": {
    "name": "ipython",
    "version": 3
   },
   "file_extension": ".py",
   "mimetype": "text/x-python",
   "name": "python",
   "nbconvert_exporter": "python",
   "pygments_lexer": "ipython3",
   "version": "3.7.4"
  }
 },
 "nbformat": 4,
 "nbformat_minor": 4
}
