{
 "cells": [
  {
   "cell_type": "markdown",
   "metadata": {},
   "source": [
    "# 5. Coordinate Reference System (CRS)"
   ]
  },
  {
   "cell_type": "code",
   "execution_count": 1,
   "metadata": {},
   "outputs": [],
   "source": [
    "import pandas as pd\n",
    "import geopandas as gpd\n",
    "\n",
    "import matplotlib # base python plotting library\n",
    "import matplotlib.pyplot as plt # submodule of matplotlib\n",
    "\n",
    "# To display plots, maps, charts etc in the notebook\n",
    "%matplotlib inline  "
   ]
  },
  {
   "cell_type": "markdown",
   "metadata": {},
   "source": [
    "Let's about how talk coordinate reference systems (CRS) and Map Projections are handled by GeoPandas.\n",
    "\n",
    "In fact, we have gotten pretty far without talking about these!\n",
    "\n",
    "<img src=\"http://www.pngall.com/wp-content/uploads/2016/03/Light-Bulb-Free-PNG-Image.png\" width=\"20\" align=left >  Do you have experience with Coordinate Reference Systems?\n",
    "\n",
    "As a refresher, a CRS describes how the coordinates in a geospatial dataset relate to locations on the surface of the earth. \n",
    "\n",
    "A `geographic CRS` consists of: \n",
    "- a 3D model of the shape of the earth (a `datum`), approximated as a sphere or spheroid (aka ellipsoid)\n",
    "- the `units` of the coordinate system (e.g, decimal degrees, meters, feet) and \n",
    "- the `origin `(0,0 location), specified as the `equator` and the `prime meridian`\n",
    "\n",
    "A `projected CRS` consists of\n",
    "- a geographic CRS\n",
    "- a **map projection** and related parameters used to transform the geographic coordinates to `2D` space.\n",
    "  - a map projection is a mathematical model used to transform coordinate data\n",
    "\n",
    "### A Geographic vs Projected CRS\n",
    "<img src =\"https://www.e-education.psu.edu/natureofgeoinfo/sites/www.e-education.psu.edu.natureofgeoinfo/files/image/projection.gif\" height=\"100\" width=\"500\">"
   ]
  },
  {
   "cell_type": "markdown",
   "metadata": {},
   "source": [
    "### There are many, many CRSs\n",
    "\n",
    "Theoretically the number of CRSs is unlimited!\n",
    "\n",
    "Why? Primariy, because there are many different definitions of the shape of the earth. Our understanding of its shape and our ability to measure it has changed greatly over time.\n",
    "\n",
    "### Why are CRSs Important?\n",
    "\n",
    "- You need to know the data about your data (or `metadata`) to use it appropriately.\n",
    "\n",
    "\n",
    "- All projected CRSs introduce distortion in shape, area, and/or distance. So understanding what CRS best maintains the characteristics you need for your area of interest and your analysis is important.\n",
    "\n",
    "\n",
    "- Some analysis methods expect geospatial data to be in a projected CRS\n",
    "  - For example, `geopandas` expects a geodataframe to be in a projected CRS for area or distance based analyses.\n",
    "\n",
    "\n",
    "- Some Python libraries, but not all, implement dynamic reprojection from the input CRS to the required CRS and assume a specific CRS (WGS84) when a CRS is not explicitly defined.\n",
    "\n",
    "\n",
    "- Most Python spatial libraries, including Geopandas, require geospatial data to be in the same CRS if they are being analysed together.\n",
    "\n",
    "### What you need to know when working with CRSs\n",
    "\n",
    "- What CRSs used in your study area and their main characteristics\n",
    "- How to identify, or `get`, the CRS of a geodataframe\n",
    "- How to `set` the CRS of geodataframe (i.e. define the projection)\n",
    "- Hot to `transform` the CRS of a geodataframe (i.e. reproject the data)"
   ]
  },
  {
   "cell_type": "markdown",
   "metadata": {},
   "source": [
    "### Codes for CRSs commonly used with CA data\n",
    "\n",
    "CRSs are typically referenced by an [EPSG code](http://wiki.gis.com/wiki/index.php/European_Petroleum_Survey_Group).  \n",
    "\n",
    "It's important to know the commonly used CRSs and their EPSG codes for your geographic area of interest.  \n",
    "\n",
    "For example, below is a list of commonly used CRSs for California geospatial data along with their EPSG codes.\n",
    "\n",
    "##### Geographic CRSs\n",
    "-`4326: WGS84` (units decimal degrees) - the most commonly used geographic CRS\n",
    "\n",
    "-`4269: NAD83` (units decimal degrees) - the geographic CRS customized to best fit the USA. This is used by all Census geographic data.\n",
    "\n",
    ">  `NAD83 (epsg:4269)` are approximately the same as `WGS84(epsg:4326)` although locations can differ by up to 1 meter in the continental USA and elsewhere up to 3m. That is not a big issue with census tract data as these data are only accurate within +/-7meters.\n",
    "##### Projected CRSs\n",
    "\n",
    "-`5070: CONUS NAD83` (units meters) projected CRS for mapping the entire contiguous USA (CONUS)\n",
    "\n",
    "-`3857: Web Mercator` (units meters) conformal (shape preserving) CRS used as the default in web mapping\n",
    "\n",
    "-`3310: CA Albers Equal Area, NAD83` (units meters)  projected CRS for CA statewide mapping and spatial analysis\n",
    "\n",
    "-`26910: UTM Zone 10N, NAD83` (units meters) projected CRS for northern CA mapping & analysis\n",
    "\n",
    "-`26911: UTM Zone 11N, NAD83` (units meters) projected CRS for Southern CA mapping & analysis\n",
    "\n",
    "-`102641 to 102646: CA State Plane zones 1-6, NAD83` (units feet) projected CRS used for local analysis.\n",
    "\n",
    "You can find the full CRS details on the website https://www.spatialreference.org"
   ]
  },
  {
   "cell_type": "markdown",
   "metadata": {},
   "source": [
    "### Getting the CRS of a gdf\n",
    "\n",
    "GeoPandas GeoDataFrames have a `crs` attribute that returns the CRS of the data."
   ]
  },
  {
   "cell_type": "code",
   "execution_count": 18,
   "metadata": {},
   "outputs": [
    {
     "data": {
      "text/plain": [
       "<matplotlib.axes._subplots.AxesSubplot at 0x7fdea5fa29d0>"
      ]
     },
     "execution_count": 18,
     "metadata": {},
     "output_type": "execute_result"
    },
    {
     "data": {
      "image/png": "[encoded data removed]",
      "text/plain": [
       "<Figure size 432x288 with 1 Axes>"
      ]
     },
     "metadata": {
      "needs_background": "light"
     },
     "output_type": "display_data"
    }
   ],
   "source": [
    "berkeley_outline = gpd.read_file(\"zip://../qgis_workshop_data/BerkeleyCityLimits.zip\")\n",
    "berkeley_outline.plot()"
   ]
  },
  {
   "cell_type": "code",
   "execution_count": 19,
   "metadata": {},
   "outputs": [
    {
     "data": {
      "text/plain": [
       "<Projected CRS: EPSG:32610>\n",
       "Name: WGS 84 / UTM zone 10N\n",
       "Axis Info [cartesian]:\n",
       "- E[east]: Easting (metre)\n",
       "- N[north]: Northing (metre)\n",
       "Area of Use:\n",
       "- name: World - N hemisphere - 126°W to 120°W - by country\n",
       "- bounds: (-126.0, 0.0, -120.0, 84.0)\n",
       "Coordinate Operation:\n",
       "- name: UTM zone 10N\n",
       "- method: Transverse Mercator\n",
       "Datum: World Geodetic System 1984\n",
       "- Ellipsoid: WGS 84\n",
       "- Prime Meridian: Greenwich"
      ]
     },
     "execution_count": 19,
     "metadata": {},
     "output_type": "execute_result"
    }
   ],
   "source": [
    "# Check the CRS of our gdf\n",
    "berkeley_outline.crs"
   ]
  },
  {
   "cell_type": "markdown",
   "metadata": {},
   "source": [
    "The above CRS definition specifies \n",
    "- the name of the CRS (`WGS84`), \n",
    "- the axis units (`metre`)\n",
    "- the shape (`datum`),\n",
    "- and the origin (`Prime Meridian`, and the equator)\n",
    "- and the area for which it is best suited (`Northern hemisphere`)\n",
    "\n",
    "> Notes:\n",
    ">    - `geocentric` latitude and longitude assume a spherical (round) model of the shape of the earth\n",
    ">    - `geodetic` latitude and longitude assume a spheriodal (ellipsoidal) model, which is closer to the true shape.\n",
    ">    - `geodesy` is the study of the shape of the earth."
   ]
  },
  {
   "cell_type": "markdown",
   "metadata": {},
   "source": [
    "Note that the ouput looks very different if you print it."
   ]
  },
  {
   "cell_type": "code",
   "execution_count": 20,
   "metadata": {},
   "outputs": [
    {
     "name": "stdout",
     "output_type": "stream",
     "text": [
      "epsg:32610\n"
     ]
    }
   ],
   "source": [
    "print(berkeley_outline.crs)"
   ]
  },
  {
   "cell_type": "markdown",
   "metadata": {},
   "source": [
    "Printing the crs is useful because it outputs the code you should use if you want to `set` the CRS.\n"
   ]
  },
  {
   "cell_type": "markdown",
   "metadata": {},
   "source": [
    "### Setting the CRS\n",
    "\n",
    "You can set the CRS of a gdf with the `crs` method.  You would set the CRS if is not defined or if you think it is incorrectly defined.\n",
    "\n",
    "> In desktop GIS terminology setting the CRS is called `defining the projection`\n",
    "\n",
    "As an example, let's set the CRS of our data to `None`"
   ]
  },
  {
   "cell_type": "code",
   "execution_count": 21,
   "metadata": {},
   "outputs": [],
   "source": [
    "# first set the CRS to None\n",
    "berkeley_outline.crs = None"
   ]
  },
  {
   "cell_type": "code",
   "execution_count": 23,
   "metadata": {},
   "outputs": [],
   "source": [
    "# Check it again\n",
    "berkeley_outline.crs"
   ]
  },
  {
   "cell_type": "markdown",
   "metadata": {},
   "source": [
    "...hummm...\n",
    "\n",
    "If a variable has a null value (None) then displaying it without printing it won't display anything!"
   ]
  },
  {
   "cell_type": "code",
   "execution_count": 24,
   "metadata": {},
   "outputs": [
    {
     "name": "stdout",
     "output_type": "stream",
     "text": [
      "None\n"
     ]
    }
   ],
   "source": [
    "# Check it again\n",
    "print(berkeley_outline.crs)"
   ]
  },
  {
   "cell_type": "code",
   "execution_count": 25,
   "metadata": {},
   "outputs": [],
   "source": [
    "# Set it to 4326\n",
    "berkeley_outline.crs = \"epsg:4326\""
   ]
  },
  {
   "cell_type": "code",
   "execution_count": 26,
   "metadata": {},
   "outputs": [
    {
     "data": {
      "text/plain": [
       "<Geographic 2D CRS: EPSG:4326>\n",
       "Name: WGS 84\n",
       "Axis Info [ellipsoidal]:\n",
       "- Lat[north]: Geodetic latitude (degree)\n",
       "- Lon[east]: Geodetic longitude (degree)\n",
       "Area of Use:\n",
       "- name: World\n",
       "- bounds: (-180.0, -90.0, 180.0, 90.0)\n",
       "Datum: World Geodetic System 1984\n",
       "- Ellipsoid: WGS 84\n",
       "- Prime Meridian: Greenwich"
      ]
     },
     "execution_count": 26,
     "metadata": {},
     "output_type": "execute_result"
    }
   ],
   "source": [
    "# Show it\n",
    "berkeley_outline.crs"
   ]
  },
  {
   "cell_type": "markdown",
   "metadata": {},
   "source": [
    "Opps, that was wrong, the CRS is `4269`"
   ]
  },
  {
   "cell_type": "code",
   "execution_count": 27,
   "metadata": {},
   "outputs": [],
   "source": [
    "# Set it to 4269\n",
    "berkeley_outline.crs = \"epsg:4326\""
   ]
  },
  {
   "cell_type": "markdown",
   "metadata": {},
   "source": [
    "> #### Important note\n",
    "> - You can `set` the CRS to anything you like - that doesn't make it correct!\n",
    "> - Setting the CRS does not change the coordinate data. It just tells the software how to interpret it."
   ]
  },
  {
   "cell_type": "markdown",
   "metadata": {},
   "source": [
    "### Transforming or Reprojecting the CRS\n",
    "You can transform the CRS of a geodataframe with the `to_crs` method.\n",
    "\n",
    "\n",
    "> In desktop GIS terminology transforming the CRS is called `projecting the data`\n",
    "\n",
    "When you do this you want to save the output to a new geodataframe."
   ]
  },
  {
   "cell_type": "code",
   "execution_count": null,
   "metadata": {},
   "outputs": [],
   "source": [
    "# epsg:26910 doesnt work??"
   ]
  },
  {
   "cell_type": "code",
   "execution_count": 55,
   "metadata": {},
   "outputs": [],
   "source": [
    "berkeley_outline_utm10 = berkeley_outline.to_crs( \"epsg:4326\")"
   ]
  },
  {
   "cell_type": "markdown",
   "metadata": {},
   "source": [
    "Now take a look at the CRS."
   ]
  },
  {
   "cell_type": "code",
   "execution_count": 56,
   "metadata": {},
   "outputs": [
    {
     "data": {
      "text/plain": [
       "<Projected CRS: EPSG:26910>\n",
       "Name: NAD83 / UTM zone 10N\n",
       "Axis Info [cartesian]:\n",
       "- E[east]: Easting (metre)\n",
       "- N[north]: Northing (metre)\n",
       "Area of Use:\n",
       "- name: North America - 126°W to 120°W and NAD83 by country\n",
       "- bounds: (-126.0, 30.54, -119.99, 81.8)\n",
       "Coordinate Operation:\n",
       "- name: UTM zone 10N\n",
       "- method: Transverse Mercator\n",
       "Datum: North American Datum 1983\n",
       "- Ellipsoid: GRS 1980\n",
       "- Prime Meridian: Greenwich"
      ]
     },
     "execution_count": 56,
     "metadata": {},
     "output_type": "execute_result"
    }
   ],
   "source": [
    "berkeley_outline_utm10.crs"
   ]
  },
  {
   "cell_type": "markdown",
   "metadata": {},
   "source": [
    "You can see the result immediately by plotting the data.\n",
    "\n",
    "- What two key differences do you see?"
   ]
  },
  {
   "cell_type": "code",
   "execution_count": 57,
   "metadata": {},
   "outputs": [
    {
     "data": {
      "text/plain": [
       "(-0.05500000000000001,\n",
       " 0.05500000000000001,\n",
       " -0.05500000000000001,\n",
       " 0.05500000000000001)"
      ]
     },
     "execution_count": 57,
     "metadata": {},
     "output_type": "execute_result"
    },
    {
     "data": {
      "image/png": "[encoded data removed]",
      "text/plain": [
       "<Figure size 432x288 with 1 Axes>"
      ]
     },
     "metadata": {
      "needs_background": "light"
     },
     "output_type": "display_data"
    },
    {
     "data": {
      "image/png": "[encoded data removed]",
      "text/plain": [
       "<Figure size 432x288 with 1 Axes>"
      ]
     },
     "metadata": {
      "needs_background": "light"
     },
     "output_type": "display_data"
    }
   ],
   "source": [
    "# plot geographic gdf\n",
    "berkeley_outline.plot();\n",
    "plt.axis('square');\n",
    "\n",
    "# plot utm gdf\n",
    "berkeley_outline_utm10.plot();\n",
    "plt.axis('square')"
   ]
  },
  {
   "cell_type": "markdown",
   "metadata": {},
   "source": [
    "#### Exercise\n",
    "\n",
    "In the code cell below:\n",
    "1. Transform the CRS of the `berkeley_outline` geodataframe to the `CA Albers Equal Area` CRS and save it to a new geodataframe\n",
    "2. Display the CRS defintion of the output geodataframe\n",
    "3. Plot the data to see if how the shape and range of coordinate values differ from those for the `berkeley_outline` and `berkeley_outline_3310` geodataframes.\n",
    "\n",
    "\n",
    "\n"
   ]
  },
  {
   "cell_type": "code",
   "execution_count": null,
   "metadata": {},
   "outputs": [],
   "source": [
    "# Your code here"
   ]
  },
  {
   "cell_type": "markdown",
   "metadata": {},
   "source": [
    "---\n",
    "<div style=\"display:inline-block;vertical-align:middle;\">\n",
    "<a href=\"https://dlab.berkeley.edu/\" target=\"_blank\"><img src =\"../../assets/images/dlab_logo.png\" width=\"75\" align=\"left\">\n",
    "</a>\n",
    "</div>\n",
    "\n",
    "<div style=\"display:inline-block;vertical-align:middle;\">\n",
    "    <div style=\"font-size:larger\">&nbsp;D-Lab, University of California - Berkeley</div>\n",
    "    <div>&nbsp;Hikari Murayama, Patty Frontiera<div>\n",
    "</div>"
   ]
  }
 ],
 "metadata": {
  "kernelspec": {
   "display_name": "Python 3",
   "language": "python",
   "name": "python3"
  },
  "language_info": {
   "codemirror_mode": {
    "name": "ipython",
    "version": 3
   },
   "file_extension": ".py",
   "mimetype": "text/x-python",
   "name": "python",
   "nbconvert_exporter": "python",
   "pygments_lexer": "ipython3",
   "version": "3.8.3"
  }
 },
 "nbformat": 4,
 "nbformat_minor": 4
}
