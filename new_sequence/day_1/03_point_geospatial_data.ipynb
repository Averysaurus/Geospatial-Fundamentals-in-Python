{
 "cells": [
  {
   "cell_type": "markdown",
   "metadata": {},
   "source": [
    "# 3. Point geospatial data\n",
    "\n",
    "Now that we know how to import and map shapefiles, we'll move onto *point geospatial data*.\n",
    "\n",
    "    \n",
    "**INSTRUCTOR NOTES**:\n",
    "- Datasets used:\n",
    "    - \"../notebook_data/parcels/parcel_pts_rand30pct.geojson\"\n",
    "\n",
    "- Expected time to complete:\n",
    "    - Lecture + Questions: 10 minutes\n",
    "    - Challenges: 5 minutes\n"
   ]
  },
  {
   "cell_type": "markdown",
   "metadata": {},
   "source": [
    "### Import packages"
   ]
  },
  {
   "cell_type": "code",
   "execution_count": 1,
   "metadata": {},
   "outputs": [],
   "source": [
    "import pandas as pd\n",
    "import geopandas as gpd\n",
    "\n",
    "import matplotlib # base python plotting library\n",
    "import matplotlib.pyplot as plt # submodule of matplotlib\n",
    "\n",
    "# To display plots, maps, charts etc in the notebook\n",
    "%matplotlib inline  "
   ]
  },
  {
   "cell_type": "markdown",
   "metadata": {},
   "source": [
    "## 3.1 Alameda County Parcels\n",
    "\n",
    "We'll be working the Alameda County Parcels data here. We'll start by pulling in the `geojson` file."
   ]
  },
  {
   "cell_type": "code",
   "execution_count": 2,
   "metadata": {},
   "outputs": [],
   "source": [
    "alameda_parcels_gdf = gpd.read_file(\"../notebook_data/parcels/parcel_pts_rand30pct.geojson\")"
   ]
  },
  {
   "cell_type": "markdown",
   "metadata": {},
   "source": [
    "Let's check what information we have in here."
   ]
  },
  {
   "cell_type": "code",
   "execution_count": 3,
   "metadata": {
    "scrolled": true
   },
   "outputs": [
    {
     "data": {
      "text/html": [
       "<div>\n",
       "<style scoped>\n",
       "    .dataframe tbody tr th:only-of-type {\n",
       "        vertical-align: middle;\n",
       "    }\n",
       "\n",
       "    .dataframe tbody tr th {\n",
       "        vertical-align: top;\n",
       "    }\n",
       "\n",
       "    .dataframe thead th {\n",
       "        text-align: right;\n",
       "    }\n",
       "</style>\n",
       "<table border=\"1\" class=\"dataframe\">\n",
       "  <thead>\n",
       "    <tr style=\"text-align: right;\">\n",
       "      <th></th>\n",
       "      <th>APN</th>\n",
       "      <th>APN2</th>\n",
       "      <th>STATE</th>\n",
       "      <th>COUNTY</th>\n",
       "      <th>FIPS</th>\n",
       "      <th>SIT_HSE_NU</th>\n",
       "      <th>SIT_DIR</th>\n",
       "      <th>SIT_STR_NA</th>\n",
       "      <th>SIT_STR_SF</th>\n",
       "      <th>SIT_FULL_S</th>\n",
       "      <th>SIT_CITY</th>\n",
       "      <th>SIT_STATE</th>\n",
       "      <th>SIT_ZIP</th>\n",
       "      <th>SIT_ZIP4</th>\n",
       "      <th>LAND_VALUE</th>\n",
       "      <th>IMPR_VALUE</th>\n",
       "      <th>TOT_VALUE</th>\n",
       "      <th>totvalue2</th>\n",
       "      <th>geometry</th>\n",
       "    </tr>\n",
       "  </thead>\n",
       "  <tbody>\n",
       "    <tr>\n",
       "      <th>0</th>\n",
       "      <td>1-111-1</td>\n",
       "      <td>001 011100100</td>\n",
       "      <td>CA</td>\n",
       "      <td>Alameda</td>\n",
       "      <td>06001</td>\n",
       "      <td>229</td>\n",
       "      <td>None</td>\n",
       "      <td>Brush</td>\n",
       "      <td>St</td>\n",
       "      <td>229 BRUSH ST</td>\n",
       "      <td>Oakland</td>\n",
       "      <td>CA</td>\n",
       "      <td>94607</td>\n",
       "      <td>3009</td>\n",
       "      <td>22057</td>\n",
       "      <td>38064</td>\n",
       "      <td>60121</td>\n",
       "      <td>60121</td>\n",
       "      <td>POINT (-122.28340 37.79949)</td>\n",
       "    </tr>\n",
       "    <tr>\n",
       "      <th>1</th>\n",
       "      <td>1-113-2-2</td>\n",
       "      <td>001 011300202</td>\n",
       "      <td>CA</td>\n",
       "      <td>Alameda</td>\n",
       "      <td>06001</td>\n",
       "      <td>400</td>\n",
       "      <td>None</td>\n",
       "      <td>Market</td>\n",
       "      <td>St</td>\n",
       "      <td>400 MARKET ST</td>\n",
       "      <td>Oakland</td>\n",
       "      <td>CA</td>\n",
       "      <td>94607</td>\n",
       "      <td>3034</td>\n",
       "      <td>375012</td>\n",
       "      <td>349588</td>\n",
       "      <td>724600</td>\n",
       "      <td>724600</td>\n",
       "      <td>POINT (-122.28308 37.80071)</td>\n",
       "    </tr>\n",
       "    <tr>\n",
       "      <th>2</th>\n",
       "      <td>1-115-20</td>\n",
       "      <td>001 011502000</td>\n",
       "      <td>CA</td>\n",
       "      <td>Alameda</td>\n",
       "      <td>06001</td>\n",
       "      <td>724</td>\n",
       "      <td>None</td>\n",
       "      <td>4th</td>\n",
       "      <td>St</td>\n",
       "      <td>724 4TH ST</td>\n",
       "      <td>Oakland</td>\n",
       "      <td>CA</td>\n",
       "      <td>94607</td>\n",
       "      <td>3018</td>\n",
       "      <td>20825</td>\n",
       "      <td>9193</td>\n",
       "      <td>30018</td>\n",
       "      <td>30018</td>\n",
       "      <td>POINT (-122.28185 37.80021)</td>\n",
       "    </tr>\n",
       "    <tr>\n",
       "      <th>3</th>\n",
       "      <td>1-115-26</td>\n",
       "      <td>001 011502600</td>\n",
       "      <td>CA</td>\n",
       "      <td>Alameda</td>\n",
       "      <td>06001</td>\n",
       "      <td>410</td>\n",
       "      <td>None</td>\n",
       "      <td>Brush</td>\n",
       "      <td>St</td>\n",
       "      <td>410 BRUSH ST</td>\n",
       "      <td>Oakland</td>\n",
       "      <td>CA</td>\n",
       "      <td>94607</td>\n",
       "      <td>3014</td>\n",
       "      <td>10484</td>\n",
       "      <td>0</td>\n",
       "      <td>10484</td>\n",
       "      <td>10484</td>\n",
       "      <td>POINT (-122.28225 37.80034)</td>\n",
       "    </tr>\n",
       "    <tr>\n",
       "      <th>4</th>\n",
       "      <td>1-115-28</td>\n",
       "      <td>001 011502800</td>\n",
       "      <td>CA</td>\n",
       "      <td>Alameda</td>\n",
       "      <td>06001</td>\n",
       "      <td>725</td>\n",
       "      <td>None</td>\n",
       "      <td>4th</td>\n",
       "      <td>St</td>\n",
       "      <td>725 4TH ST</td>\n",
       "      <td>Oakland</td>\n",
       "      <td>CA</td>\n",
       "      <td>94607</td>\n",
       "      <td>3017</td>\n",
       "      <td>38865</td>\n",
       "      <td>298480</td>\n",
       "      <td>337345</td>\n",
       "      <td>337345</td>\n",
       "      <td>POINT (-122.28227 37.79983)</td>\n",
       "    </tr>\n",
       "    <tr>\n",
       "      <th>...</th>\n",
       "      <td>...</td>\n",
       "      <td>...</td>\n",
       "      <td>...</td>\n",
       "      <td>...</td>\n",
       "      <td>...</td>\n",
       "      <td>...</td>\n",
       "      <td>...</td>\n",
       "      <td>...</td>\n",
       "      <td>...</td>\n",
       "      <td>...</td>\n",
       "      <td>...</td>\n",
       "      <td>...</td>\n",
       "      <td>...</td>\n",
       "      <td>...</td>\n",
       "      <td>...</td>\n",
       "      <td>...</td>\n",
       "      <td>...</td>\n",
       "      <td>...</td>\n",
       "      <td>...</td>\n",
       "    </tr>\n",
       "    <tr>\n",
       "      <th>34626</th>\n",
       "      <td>9-746-16</td>\n",
       "      <td>009 074601600</td>\n",
       "      <td>CA</td>\n",
       "      <td>Alameda</td>\n",
       "      <td>06001</td>\n",
       "      <td>467</td>\n",
       "      <td>None</td>\n",
       "      <td>34th</td>\n",
       "      <td>St</td>\n",
       "      <td>467 34TH ST</td>\n",
       "      <td>Oakland</td>\n",
       "      <td>CA</td>\n",
       "      <td>94609</td>\n",
       "      <td>2833</td>\n",
       "      <td>105817</td>\n",
       "      <td>94935</td>\n",
       "      <td>204370</td>\n",
       "      <td>204370</td>\n",
       "      <td>POINT (-122.26493 37.82184)</td>\n",
       "    </tr>\n",
       "    <tr>\n",
       "      <th>34627</th>\n",
       "      <td>9-746-27</td>\n",
       "      <td>009 074602700</td>\n",
       "      <td>CA</td>\n",
       "      <td>Alameda</td>\n",
       "      <td>06001</td>\n",
       "      <td>450</td>\n",
       "      <td>None</td>\n",
       "      <td>30th</td>\n",
       "      <td>St</td>\n",
       "      <td>450 30TH ST</td>\n",
       "      <td>Oakland</td>\n",
       "      <td>CA</td>\n",
       "      <td>94609</td>\n",
       "      <td>3302</td>\n",
       "      <td>749959</td>\n",
       "      <td>1121120</td>\n",
       "      <td>1871079</td>\n",
       "      <td>1871079</td>\n",
       "      <td>POINT (-122.26650 37.81966)</td>\n",
       "    </tr>\n",
       "    <tr>\n",
       "      <th>34628</th>\n",
       "      <td>9-746-29</td>\n",
       "      <td>009 074602900</td>\n",
       "      <td>CA</td>\n",
       "      <td>Alameda</td>\n",
       "      <td>06001</td>\n",
       "      <td>418</td>\n",
       "      <td>None</td>\n",
       "      <td>30th</td>\n",
       "      <td>St</td>\n",
       "      <td>418 30TH ST</td>\n",
       "      <td>Oakland</td>\n",
       "      <td>CA</td>\n",
       "      <td>94609</td>\n",
       "      <td>3309</td>\n",
       "      <td>653683</td>\n",
       "      <td>879728</td>\n",
       "      <td>1533411</td>\n",
       "      <td>1533411</td>\n",
       "      <td>POINT (-122.26507 37.81932)</td>\n",
       "    </tr>\n",
       "    <tr>\n",
       "      <th>34629</th>\n",
       "      <td>9-746-38</td>\n",
       "      <td>009 074603800</td>\n",
       "      <td>CA</td>\n",
       "      <td>Alameda</td>\n",
       "      <td>06001</td>\n",
       "      <td>365</td>\n",
       "      <td>None</td>\n",
       "      <td>Hawthorne</td>\n",
       "      <td>Ave</td>\n",
       "      <td>365 HAWTHORNE AVE</td>\n",
       "      <td>Oakland</td>\n",
       "      <td>CA</td>\n",
       "      <td>94609</td>\n",
       "      <td>3107</td>\n",
       "      <td>629529</td>\n",
       "      <td>4766769</td>\n",
       "      <td>5396298</td>\n",
       "      <td>5396298</td>\n",
       "      <td>POINT (-122.26333 37.82060)</td>\n",
       "    </tr>\n",
       "    <tr>\n",
       "      <th>34630</th>\n",
       "      <td>9-746-7</td>\n",
       "      <td>009 074600700</td>\n",
       "      <td>CA</td>\n",
       "      <td>Alameda</td>\n",
       "      <td>06001</td>\n",
       "      <td>485</td>\n",
       "      <td>None</td>\n",
       "      <td>34th</td>\n",
       "      <td>St</td>\n",
       "      <td>485 34TH ST</td>\n",
       "      <td>Oakland</td>\n",
       "      <td>CA</td>\n",
       "      <td>94609</td>\n",
       "      <td>2823</td>\n",
       "      <td>1020951</td>\n",
       "      <td>421697</td>\n",
       "      <td>1442648</td>\n",
       "      <td>1442648</td>\n",
       "      <td>POINT (-122.26560 37.82201)</td>\n",
       "    </tr>\n",
       "  </tbody>\n",
       "</table>\n",
       "<p>34631 rows × 19 columns</p>\n",
       "</div>"
      ],
      "text/plain": [
       "             APN           APN2 STATE   COUNTY   FIPS SIT_HSE_NU SIT_DIR  \\\n",
       "0        1-111-1  001 011100100    CA  Alameda  06001        229    None   \n",
       "1      1-113-2-2  001 011300202    CA  Alameda  06001        400    None   \n",
       "2       1-115-20  001 011502000    CA  Alameda  06001        724    None   \n",
       "3       1-115-26  001 011502600    CA  Alameda  06001        410    None   \n",
       "4       1-115-28  001 011502800    CA  Alameda  06001        725    None   \n",
       "...          ...            ...   ...      ...    ...        ...     ...   \n",
       "34626   9-746-16  009 074601600    CA  Alameda  06001        467    None   \n",
       "34627   9-746-27  009 074602700    CA  Alameda  06001        450    None   \n",
       "34628   9-746-29  009 074602900    CA  Alameda  06001        418    None   \n",
       "34629   9-746-38  009 074603800    CA  Alameda  06001        365    None   \n",
       "34630    9-746-7  009 074600700    CA  Alameda  06001        485    None   \n",
       "\n",
       "      SIT_STR_NA SIT_STR_SF         SIT_FULL_S SIT_CITY SIT_STATE SIT_ZIP  \\\n",
       "0          Brush         St       229 BRUSH ST  Oakland        CA   94607   \n",
       "1         Market         St      400 MARKET ST  Oakland        CA   94607   \n",
       "2            4th         St         724 4TH ST  Oakland        CA   94607   \n",
       "3          Brush         St       410 BRUSH ST  Oakland        CA   94607   \n",
       "4            4th         St         725 4TH ST  Oakland        CA   94607   \n",
       "...          ...        ...                ...      ...       ...     ...   \n",
       "34626       34th         St        467 34TH ST  Oakland        CA   94609   \n",
       "34627       30th         St        450 30TH ST  Oakland        CA   94609   \n",
       "34628       30th         St        418 30TH ST  Oakland        CA   94609   \n",
       "34629  Hawthorne        Ave  365 HAWTHORNE AVE  Oakland        CA   94609   \n",
       "34630       34th         St        485 34TH ST  Oakland        CA   94609   \n",
       "\n",
       "      SIT_ZIP4 LAND_VALUE IMPR_VALUE TOT_VALUE  totvalue2  \\\n",
       "0         3009      22057      38064     60121      60121   \n",
       "1         3034     375012     349588    724600     724600   \n",
       "2         3018      20825       9193     30018      30018   \n",
       "3         3014      10484          0     10484      10484   \n",
       "4         3017      38865     298480    337345     337345   \n",
       "...        ...        ...        ...       ...        ...   \n",
       "34626     2833     105817      94935    204370     204370   \n",
       "34627     3302     749959    1121120   1871079    1871079   \n",
       "34628     3309     653683     879728   1533411    1533411   \n",
       "34629     3107     629529    4766769   5396298    5396298   \n",
       "34630     2823    1020951     421697   1442648    1442648   \n",
       "\n",
       "                          geometry  \n",
       "0      POINT (-122.28340 37.79949)  \n",
       "1      POINT (-122.28308 37.80071)  \n",
       "2      POINT (-122.28185 37.80021)  \n",
       "3      POINT (-122.28225 37.80034)  \n",
       "4      POINT (-122.28227 37.79983)  \n",
       "...                            ...  \n",
       "34626  POINT (-122.26493 37.82184)  \n",
       "34627  POINT (-122.26650 37.81966)  \n",
       "34628  POINT (-122.26507 37.81932)  \n",
       "34629  POINT (-122.26333 37.82060)  \n",
       "34630  POINT (-122.26560 37.82201)  \n",
       "\n",
       "[34631 rows x 19 columns]"
      ]
     },
     "execution_count": 3,
     "metadata": {},
     "output_type": "execute_result"
    }
   ],
   "source": [
    "alameda_parcels_gdf"
   ]
  },
  {
   "cell_type": "markdown",
   "metadata": {},
   "source": [
    "<div style=\"display:inline-block;vertical-align:top;\">\n",
    "    <img src=\"../../assets/images/light_bulb.png\" width=\"30\" align=left > \n",
    "</div>  \n",
    "<div style=\"display:inline-block;\">\n",
    "\n",
    "\n",
    "#### Question\n",
    "</div>\n",
    "\n",
    "BEFORE you run the next line of code...\n",
    "What kind of dataframe is this?\n",
    "1. Geospatial data with polygon geometries\n",
    "2. Geospatial data with point geoemetries\n",
    "3. Non-geospatial data"
   ]
  },
  {
   "cell_type": "code",
   "execution_count": 4,
   "metadata": {
    "scrolled": true
   },
   "outputs": [
    {
     "data": {
      "text/plain": [
       "array(['Point'], dtype=object)"
      ]
     },
     "execution_count": 4,
     "metadata": {},
     "output_type": "execute_result"
    }
   ],
   "source": [
    "alameda_parcels_gdf['geometry'].type.unique()"
   ]
  },
  {
   "cell_type": "markdown",
   "metadata": {},
   "source": [
    "What information do we have in this geodataframe?"
   ]
  },
  {
   "cell_type": "code",
   "execution_count": 5,
   "metadata": {},
   "outputs": [
    {
     "data": {
      "text/plain": [
       "Index(['APN', 'APN2', 'STATE', 'COUNTY', 'FIPS', 'SIT_HSE_NU', 'SIT_DIR',\n",
       "       'SIT_STR_NA', 'SIT_STR_SF', 'SIT_FULL_S', 'SIT_CITY', 'SIT_STATE',\n",
       "       'SIT_ZIP', 'SIT_ZIP4', 'LAND_VALUE', 'IMPR_VALUE', 'TOT_VALUE',\n",
       "       'totvalue2', 'geometry'],\n",
       "      dtype='object')"
      ]
     },
     "execution_count": 5,
     "metadata": {},
     "output_type": "execute_result"
    }
   ],
   "source": [
    "alameda_parcels_gdf.columns"
   ]
  },
  {
   "cell_type": "markdown",
   "metadata": {},
   "source": [
    "Here's what each variable means:\n",
    "- `APN` and `APN2` are different forms of the assessor's parcel number (APN). It is a number assigned to parcels of  property by the jurisdiction's tax assessor.\n",
    "\n",
    "\n",
    "- `STATE` and `COUNTY` are pretty straight forward descriptions, as these columns contain strings with the state (2 letter abbreviation) and county that the parcel is in.\n",
    "\n",
    "\n",
    "- `FIPS` stands for Federal Information Processing Standards and should be familiar because we have been using them to identify records in the ACS dataset. The FIPS code in this dataframe only contains the 5 number code for the state and county.\n",
    "    - e.g. `06001` stands for `06`=California and `001`=Alameda County\n",
    "    \n",
    "    \n",
    "- All of the fields that begin with `SIT_` describe the specific address for the parcel. `SIT_FULL_S`, `SIT_CITY`, `SIT_STATE`, and `SIT_ZIP` together represent the full address for the parcel. The other fields are either subsets of that address (`SIT_HSE_NU`, `SIT_DIR`, `SIT_STR_NA`, `SIT_STR_SF`) or contain additional location descriptions (`SIT_ZIP4`, `SIT_POST`).\n",
    "\n",
    "\n",
    "- `LAND_VALUE` is the value of the parcel in 2016 USD\n",
    "- `IMPR_VALUE` is the value of the market improvement value on the parcel in 2016 USD\n",
    "- `TOT_VALUE` is the sum of `LAND_VALUE` and `IMPR_VALUE`\n",
    "\n",
    "\n",
    "- `geometry` is a column associated with geospatial data. Do not delete this column. We will discuss details on this column in more detail in subsequent notebooks.\n",
    "\n"
   ]
  },
  {
   "cell_type": "markdown",
   "metadata": {},
   "source": [
    "## 3.2 Point data mapping\n",
    "\n",
    "So now we know that we have a point geodataframe, we can plot it with `plot` as we did with the shapefile we pulled oin earlier."
   ]
  },
  {
   "cell_type": "code",
   "execution_count": 6,
   "metadata": {
    "scrolled": true
   },
   "outputs": [
    {
     "data": {
      "text/plain": [
       "<matplotlib.axes._subplots.AxesSubplot at 0x7f8dfc751a90>"
      ]
     },
     "execution_count": 6,
     "metadata": {},
     "output_type": "execute_result"
    },
    {
     "data": {
      "image/png": "[encoded data removed]",
      "text/plain": [
       "<Figure size 432x288 with 1 Axes>"
      ]
     },
     "metadata": {
      "needs_background": "light"
     },
     "output_type": "display_data"
    }
   ],
   "source": [
    "alameda_parcels_gdf.plot()"
   ]
  },
  {
   "cell_type": "markdown",
   "metadata": {},
   "source": [
    "## 3.3 Challenge\n",
    "Subset the parcels data to be for Berkeley and plot it!"
   ]
  },
  {
   "cell_type": "code",
   "execution_count": 7,
   "metadata": {},
   "outputs": [],
   "source": [
    "# Your code here"
   ]
  },
  {
   "cell_type": "markdown",
   "metadata": {},
   "source": [
    "---\n",
    "<div style=\"display:inline-block;vertical-align:middle;\">\n",
    "<a href=\"https://dlab.berkeley.edu/\" target=\"_blank\"><img src =\"../../assets/images/dlab_logo.png\" width=\"75\" align=\"left\">\n",
    "</a>\n",
    "</div>\n",
    "\n",
    "<div style=\"display:inline-block;vertical-align:middle;\">\n",
    "    <div style=\"font-size:larger\">&nbsp;D-Lab @ University of California - Berkeley</div>\n",
    "    <div>&nbsp;Team Geo<div>\n",
    "</div>\n",
    "        \n"
   ]
  }
 ],
 "metadata": {
  "kernelspec": {
   "display_name": "Python 3",
   "language": "python",
   "name": "python3"
  },
  "language_info": {
   "codemirror_mode": {
    "name": "ipython",
    "version": 3
   },
   "file_extension": ".py",
   "mimetype": "text/x-python",
   "name": "python",
   "nbconvert_exporter": "python",
   "pygments_lexer": "ipython3",
   "version": "3.8.3"
  }
 },
 "nbformat": 4,
 "nbformat_minor": 2
}
