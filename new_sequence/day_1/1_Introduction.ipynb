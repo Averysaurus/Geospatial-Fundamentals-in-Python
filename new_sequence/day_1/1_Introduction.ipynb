{
 "cells": [
  {
   "cell_type": "markdown",
   "metadata": {},
   "source": [
    "# 1. Getting Started"
   ]
  },
  {
   "cell_type": "markdown",
   "metadata": {},
   "source": [
    "Welcome! We're excited that you've decided to join us for *Geospatial Fundamentals in Python*. \n",
    "\n",
    "In this notebook we'll be covering the following topics:\n",
    "- [1.1 Getting Started](#section1)\n",
    "- [1.3 Introduce Geographic Data](#section3)\n",
    "- [1.4 Introduce GeoPandas](#section4)\n",
    "- [1.5 Recap](#section5)\n",
    "- [1.6 Challenges](#section6)\n",
    "- [1.7 Other Resources](#section7)\n",
    "\n",
    "**INSTRUCTOR NOTES**:\n",
    "- Datasets used:\n",
    "    - \n",
    "\n",
    "- Expected time to complete:\n",
    "    - Lecture + Questions: \n",
    "    - Homework: "
   ]
  },
  {
   "cell_type": "markdown",
   "metadata": {},
   "source": [
    "<div style=\"display:inline-block;vertical-align:top;\">\n",
    "    <img src=\"../../assets/images/discussion.png\" width=\"30\" align=left > \n",
    "</div>  \n",
    "<div style=\"display:inline-block;\">\n",
    "\n",
    "#### Icebreaker\n",
    "</div>\n",
    "\n",
    "In your breakout room quickly introduce yourself:\n",
    "\n",
    "1. Name and pronouns\n",
    "2. Year and major/department\n",
    "3. Why you're here"
   ]
  },
  {
   "cell_type": "markdown",
   "metadata": {},
   "source": [
    "## 1.1 Getting Started\n",
    "\n",
    "The goal of this workshop is to give you a **tip of the iceberg introduction** to working with geospatial data in Python using the **geopandas** package. We'll be working with Berkeley and Alameda County Data.\n",
    "\n",
    "\n",
    "> ### Assumptions\n",
    "> This tutorial assumptions you have basic working knowledge of Python, Jupyter Notebooks, and of geospatial data.\n",
    "> - If you need more Python practice, you can try the [D-Lab's Python Fundamentals workshop](https://github.com/dlab-berkeley/python-fundamentals).\n",
    "> - If you need a geospatial refresher, we can start with this a **very** [Brief Introduction to Geospatial Data](https://docs.google.com/presentation/d/1d9GNcLDsnLxfLmrNRNZE976sHN5qNfkU9Rl2gabUsWc/edit?usp=sharing)."
   ]
  },
  {
   "cell_type": "markdown",
   "metadata": {},
   "source": [
    "<div style=\"display:inline-block;vertical-align:top;\">\n",
    "    <img src=\"../../assets/images/light_bulb.png\" width=\"30\" align=left > \n",
    "</div>  \n",
    "<div style=\"display:inline-block;\">\n",
    "\n",
    "#### Question\n",
    "</div>\n",
    "\n",
    "On a scale of 1 (total newbie) to 10 (I do it in my sleep), how comfortable are you in...\n",
    "1. Python?\n",
    "2. Jupyter Notebooks?\n",
    "3. Geospatial concepts?\n",
    "4. Geospatial analyses in Python?"
   ]
  },
  {
   "cell_type": "markdown",
   "metadata": {},
   "source": [
    "### Download the training material\n",
    "\n",
    "1. Go to our GitHub repo. The URL is https://github.com/dlab-berkeley/Geospatial-Fundamentals-in-Python\n",
    "2. Click on the green button in the top right that says \"Clone or download\".\n",
    "3. Click \"Download ZIP\".\n",
    "4. Unzip the file.\n",
    "5. Move the unzipped 'Geospatial-Fundamentals-in-Python' to your Desktop or folder of choice."
   ]
  },
  {
   "cell_type": "markdown",
   "metadata": {},
   "source": [
    "### Open Jupyter Notebook\n",
    "\n",
    "1. Open the Anaconda Navigator program on your computer.\n",
    "2. Open Jupyter Notebook from there.\n",
    "3. Navigate to the 'Geospatial-Fundamentals-in-Python' folder. Depending on what your home directory is, this most likely mean clicking the \"Desktop\" folder, at which point python-fundamentals-master should be visible.\n",
    "4. Click on Geospatial-Fundamentals-in-Python.\n",
    "5. Click on day_1.\n",
    "6. This will start a Jupyter Notebook server and open your default web browser."
   ]
  },
  {
   "cell_type": "markdown",
   "metadata": {},
   "source": [
    "## Install needed packages"
   ]
  },
  {
   "cell_type": "code",
   "execution_count": null,
   "metadata": {},
   "outputs": [],
   "source": []
  },
  {
   "cell_type": "markdown",
   "metadata": {},
   "source": [
    "---\n",
    "<div style=\"display:inline-block;vertical-align:middle;\">\n",
    "<a href=\"https://dataforhousing.org/\" target=\"_blank\"><img src =\"../../assets/images/dlab_logo.png\" width=\"75\" align=\"left\">\n",
    "</a>\n",
    "</div>\n",
    "\n",
    "<div style=\"display:inline-block;vertical-align:middle;\">\n",
    "    <div style=\"font-size:larger\">&nbsp;D-Lab, University of California - Berkeley</div>\n",
    "    <div>Hikari Murayama, Patty Frontiera<div>\n",
    "</div>\n",
    "        \n",
    "Thank you to the Python fundamentals team for the snippets on downloading the folder from GitHub and starting Jupyter Notebooks"
   ]
  }
 ],
 "metadata": {
  "kernelspec": {
   "display_name": "Python 3",
   "language": "python",
   "name": "python3"
  },
  "language_info": {
   "codemirror_mode": {
    "name": "ipython",
    "version": 3
   },
   "file_extension": ".py",
   "mimetype": "text/x-python",
   "name": "python",
   "nbconvert_exporter": "python",
   "pygments_lexer": "ipython3",
   "version": "3.7.4"
  }
 },
 "nbformat": 4,
 "nbformat_minor": 2
}
