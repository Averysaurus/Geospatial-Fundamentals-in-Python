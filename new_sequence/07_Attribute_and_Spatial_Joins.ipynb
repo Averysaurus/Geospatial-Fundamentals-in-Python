{
 "cells": [
  {
   "cell_type": "markdown",
   "metadata": {},
   "source": [
    "# Lesson 7. Attribute and Spatial Joins\n",
    "\n",
    "- Attribute join\n",
    "    - Join census acs data to census tracts for Alameda county\n",
    "- Spatial join\n",
    "    - What city is each bart station in? Add it to the bart station data layer\n",
    "    - How many schools are in Berkeley, Oakland & Piedmont?\n",
    "        - Add that info to these cities (places)\n",
    "    - What is the average API score in these cites\n",
    "- PRACTICE Spatial Join\n",
    "    - Using parcel point data (sample)"
   ]
  },
  {
   "cell_type": "code",
   "execution_count": 1,
   "metadata": {},
   "outputs": [],
   "source": [
    "import pandas as pd\n",
    "import geopandas as gpd\n",
    "\n",
    "import matplotlib # base python plotting library\n",
    "import matplotlib.pyplot as plt # submodule of matplotlib\n",
    "\n",
    "# To display plots, maps, charts etc in the notebook\n",
    "%matplotlib inline  "
   ]
  },
  {
   "cell_type": "markdown",
   "metadata": {},
   "source": [
    "## 7.1 Attribute Join"
   ]
  },
  {
   "cell_type": "code",
   "execution_count": 2,
   "metadata": {},
   "outputs": [
    {
     "data": {
      "text/html": [
       "<div>\n",
       "<style scoped>\n",
       "    .dataframe tbody tr th:only-of-type {\n",
       "        vertical-align: middle;\n",
       "    }\n",
       "\n",
       "    .dataframe tbody tr th {\n",
       "        vertical-align: top;\n",
       "    }\n",
       "\n",
       "    .dataframe thead th {\n",
       "        text-align: right;\n",
       "    }\n",
       "</style>\n",
       "<table border=\"1\" class=\"dataframe\">\n",
       "  <thead>\n",
       "    <tr style=\"text-align: right;\">\n",
       "      <th></th>\n",
       "      <th>NAME</th>\n",
       "      <th>c_race</th>\n",
       "      <th>c_white</th>\n",
       "      <th>c_black</th>\n",
       "      <th>c_asian</th>\n",
       "      <th>c_latinx</th>\n",
       "      <th>c_race_moe</th>\n",
       "      <th>c_white_moe</th>\n",
       "      <th>c_black_moe</th>\n",
       "      <th>c_asian_moe</th>\n",
       "      <th>...</th>\n",
       "      <th>p_stay</th>\n",
       "      <th>p_movelocal</th>\n",
       "      <th>p_movecounty</th>\n",
       "      <th>p_movestate</th>\n",
       "      <th>p_moveabroad</th>\n",
       "      <th>p_car</th>\n",
       "      <th>p_carpool</th>\n",
       "      <th>p_transit</th>\n",
       "      <th>p_bike</th>\n",
       "      <th>p_walk</th>\n",
       "    </tr>\n",
       "  </thead>\n",
       "  <tbody>\n",
       "    <tr>\n",
       "      <th>0</th>\n",
       "      <td>Census Tract 4012, Alameda County, California</td>\n",
       "      <td>2456</td>\n",
       "      <td>1287</td>\n",
       "      <td>476</td>\n",
       "      <td>259</td>\n",
       "      <td>283</td>\n",
       "      <td>213</td>\n",
       "      <td>191</td>\n",
       "      <td>116</td>\n",
       "      <td>124</td>\n",
       "      <td>...</td>\n",
       "      <td>0.814951</td>\n",
       "      <td>0.103350</td>\n",
       "      <td>0.058415</td>\n",
       "      <td>0.010212</td>\n",
       "      <td>0.013072</td>\n",
       "      <td>0.551370</td>\n",
       "      <td>0.064384</td>\n",
       "      <td>0.189041</td>\n",
       "      <td>0.083562</td>\n",
       "      <td>0.058219</td>\n",
       "    </tr>\n",
       "    <tr>\n",
       "      <th>1</th>\n",
       "      <td>Census Tract 4013, Alameda County, California</td>\n",
       "      <td>3983</td>\n",
       "      <td>845</td>\n",
       "      <td>1348</td>\n",
       "      <td>827</td>\n",
       "      <td>796</td>\n",
       "      <td>680</td>\n",
       "      <td>186</td>\n",
       "      <td>411</td>\n",
       "      <td>283</td>\n",
       "      <td>...</td>\n",
       "      <td>0.611865</td>\n",
       "      <td>0.280040</td>\n",
       "      <td>0.063348</td>\n",
       "      <td>0.022624</td>\n",
       "      <td>0.022122</td>\n",
       "      <td>0.341153</td>\n",
       "      <td>0.108993</td>\n",
       "      <td>0.391496</td>\n",
       "      <td>0.018084</td>\n",
       "      <td>0.104594</td>\n",
       "    </tr>\n",
       "    <tr>\n",
       "      <th>2</th>\n",
       "      <td>Census Tract 4014, Alameda County, California</td>\n",
       "      <td>4340</td>\n",
       "      <td>713</td>\n",
       "      <td>1902</td>\n",
       "      <td>593</td>\n",
       "      <td>981</td>\n",
       "      <td>644</td>\n",
       "      <td>314</td>\n",
       "      <td>440</td>\n",
       "      <td>198</td>\n",
       "      <td>...</td>\n",
       "      <td>0.807683</td>\n",
       "      <td>0.163739</td>\n",
       "      <td>0.017803</td>\n",
       "      <td>0.006325</td>\n",
       "      <td>0.004451</td>\n",
       "      <td>0.470846</td>\n",
       "      <td>0.021317</td>\n",
       "      <td>0.255799</td>\n",
       "      <td>0.116614</td>\n",
       "      <td>0.102194</td>\n",
       "    </tr>\n",
       "    <tr>\n",
       "      <th>3</th>\n",
       "      <td>Census Tract 4015, Alameda County, California</td>\n",
       "      <td>2080</td>\n",
       "      <td>563</td>\n",
       "      <td>1064</td>\n",
       "      <td>215</td>\n",
       "      <td>190</td>\n",
       "      <td>369</td>\n",
       "      <td>222</td>\n",
       "      <td>283</td>\n",
       "      <td>116</td>\n",
       "      <td>...</td>\n",
       "      <td>0.841346</td>\n",
       "      <td>0.101442</td>\n",
       "      <td>0.053846</td>\n",
       "      <td>0.003365</td>\n",
       "      <td>0.000000</td>\n",
       "      <td>0.502037</td>\n",
       "      <td>0.090631</td>\n",
       "      <td>0.230143</td>\n",
       "      <td>0.047862</td>\n",
       "      <td>0.017312</td>\n",
       "    </tr>\n",
       "    <tr>\n",
       "      <th>4</th>\n",
       "      <td>Census Tract 4016, Alameda County, California</td>\n",
       "      <td>1889</td>\n",
       "      <td>324</td>\n",
       "      <td>960</td>\n",
       "      <td>247</td>\n",
       "      <td>274</td>\n",
       "      <td>400</td>\n",
       "      <td>135</td>\n",
       "      <td>376</td>\n",
       "      <td>164</td>\n",
       "      <td>...</td>\n",
       "      <td>0.830645</td>\n",
       "      <td>0.079570</td>\n",
       "      <td>0.082258</td>\n",
       "      <td>0.002151</td>\n",
       "      <td>0.005376</td>\n",
       "      <td>0.570481</td>\n",
       "      <td>0.122720</td>\n",
       "      <td>0.177446</td>\n",
       "      <td>0.063018</td>\n",
       "      <td>0.000000</td>\n",
       "    </tr>\n",
       "  </tbody>\n",
       "</table>\n",
       "<p>5 rows × 66 columns</p>\n",
       "</div>"
      ],
      "text/plain": [
       "                                            NAME  c_race  c_white  c_black  \\\n",
       "0  Census Tract 4012, Alameda County, California    2456     1287      476   \n",
       "1  Census Tract 4013, Alameda County, California    3983      845     1348   \n",
       "2  Census Tract 4014, Alameda County, California    4340      713     1902   \n",
       "3  Census Tract 4015, Alameda County, California    2080      563     1064   \n",
       "4  Census Tract 4016, Alameda County, California    1889      324      960   \n",
       "\n",
       "   c_asian  c_latinx  c_race_moe  c_white_moe  c_black_moe  c_asian_moe  ...  \\\n",
       "0      259       283         213          191          116          124  ...   \n",
       "1      827       796         680          186          411          283  ...   \n",
       "2      593       981         644          314          440          198  ...   \n",
       "3      215       190         369          222          283          116  ...   \n",
       "4      247       274         400          135          376          164  ...   \n",
       "\n",
       "     p_stay  p_movelocal  p_movecounty  p_movestate  p_moveabroad     p_car  \\\n",
       "0  0.814951     0.103350      0.058415     0.010212      0.013072  0.551370   \n",
       "1  0.611865     0.280040      0.063348     0.022624      0.022122  0.341153   \n",
       "2  0.807683     0.163739      0.017803     0.006325      0.004451  0.470846   \n",
       "3  0.841346     0.101442      0.053846     0.003365      0.000000  0.502037   \n",
       "4  0.830645     0.079570      0.082258     0.002151      0.005376  0.570481   \n",
       "\n",
       "   p_carpool  p_transit    p_bike    p_walk  \n",
       "0   0.064384   0.189041  0.083562  0.058219  \n",
       "1   0.108993   0.391496  0.018084  0.104594  \n",
       "2   0.021317   0.255799  0.116614  0.102194  \n",
       "3   0.090631   0.230143  0.047862  0.017312  \n",
       "4   0.122720   0.177446  0.063018  0.000000  \n",
       "\n",
       "[5 rows x 66 columns]"
      ]
     },
     "execution_count": 2,
     "metadata": {},
     "output_type": "execute_result"
    }
   ],
   "source": [
    "# Read in the ACS5 data for CA into a pandas DataFrame.\n",
    "# Note: We force the FIPS_11_digit to be read in as a string to preserve any leading zeroes.\n",
    "acs5data_df = pd.read_csv(\"notebook_data/census/ACS5yr/census_variables_CA.csv\", dtype={'FIPS_11_digit':str})\n",
    "acs5data_df.head()"
   ]
  },
  {
   "cell_type": "markdown",
   "metadata": {},
   "source": [
    "### Brief review of the ACS data"
   ]
  },
  {
   "cell_type": "markdown",
   "metadata": {},
   "source": [
    "These variables were combined from different ACS 5 year tables. We have information for the following:\n",
    "\n",
    "- `c_race` - Total population\n",
    "- `c_white` - Total white non-Latinx\n",
    "- `c_black` - Total black and African American non-Latinx\n",
    "- `c_asian` - Total Asian non-Latinx\n",
    "- `c_latinx` - Total Latinx\n",
    "- `state_fips` - State level FIPS code\n",
    "- `county_fips` - County level FIPS code\n",
    "- `tract_fips` - Tracts level FIPS code\n",
    "- `med_rent` - Median rent\n",
    "- `med_hhinc` - Median household income\n",
    "- `c_tenants` - Total tenants\n",
    "- `c_owners` - Total owners\n",
    "- `c_renters` - Total renters\n",
    "- `c_movers` - Total number of people who moved\n",
    "- `c_stay` - Total number of people who stayed\n",
    "- `c_movelocal` - Number of people who moved locally\n",
    "- `c_movecounty` - Number of people who moved counties\n",
    "- `c_movestate` - Number of people who moved states\n",
    "- `c_moveabroad` - Number of people who moved abroad\n",
    "- `c_commute` - Total number of commuters\n",
    "- `c_car` - Number of commuters who use a car\n",
    "- `c_carpool` - Number of commuters who carpool\n",
    "- `c_transit` - Number of commuters who use public transit\n",
    "- `c_bike` - Number of commuters who bike\n",
    "- `c_walk` - Number of commuters who bike\n",
    "- `year` - ACS data year\n",
    "- `FIPS_11_digit` - 11-digit FIPS code\n",
    "\n",
    "The ACS variables that start with `c_` are counts, those that start with `med_` are medians.  Variables that end in `_moe` denote margin of error. There are also a number of derived variables that start with `p_`. These are proportions calcuated from the counts divided by the table denominator (the total count for whom that variable was assessed)."
   ]
  },
  {
   "cell_type": "markdown",
   "metadata": {},
   "source": [
    "We're going to drop all of our `moe` columns by identifying all of those that end with `_moe`. We can do that in two steps, first by using `filter` to identify columns that contain the string `_moe`."
   ]
  },
  {
   "cell_type": "code",
   "execution_count": 3,
   "metadata": {},
   "outputs": [
    {
     "data": {
      "text/plain": [
       "Index(['c_race_moe', 'c_white_moe', 'c_black_moe', 'c_asian_moe',\n",
       "       'c_latinx_moe', 'med_rent_moe', 'med_hhinc_moe', 'c_tenants_moe',\n",
       "       'c_owners_moe', 'c_renters_moe', 'c_movers_moe', 'c_stay_moe',\n",
       "       'c_movelocal_moe', 'c_movecounty_moe', 'c_movestate_moe',\n",
       "       'c_moveabroad_moe', 'c_commute_moe', 'c_car_moe', 'c_carpool_moe',\n",
       "       'c_transit_moe', 'c_bike_moe', 'c_walk_moe'],\n",
       "      dtype='object')"
      ]
     },
     "execution_count": 3,
     "metadata": {},
     "output_type": "execute_result"
    }
   ],
   "source": [
    "moe_cols = acs5data_df.filter(like='_moe',axis=1).columns\n",
    "moe_cols"
   ]
  },
  {
   "cell_type": "code",
   "execution_count": 4,
   "metadata": {},
   "outputs": [],
   "source": [
    "acs5data_df.drop(moe_cols, axis=1, inplace=True)"
   ]
  },
  {
   "cell_type": "code",
   "execution_count": 5,
   "metadata": {},
   "outputs": [],
   "source": [
    "acs5data_df_ac = acs5data_df[(acs5data_df['year']==2018) & (acs5data_df['county_fips']==1)]"
   ]
  },
  {
   "cell_type": "code",
   "execution_count": 6,
   "metadata": {},
   "outputs": [],
   "source": [
    "tracts_gdf = gpd.read_file(\"zip://notebook_data/census/Tracts/cb_2013_06_tract_500k.zip\")"
   ]
  },
  {
   "cell_type": "code",
   "execution_count": 7,
   "metadata": {},
   "outputs": [
    {
     "data": {
      "image/png": "[encoded data removed]",
      "text/plain": [
       "<Figure size 432x288 with 1 Axes>"
      ]
     },
     "metadata": {
      "needs_background": "light"
     },
     "output_type": "display_data"
    }
   ],
   "source": [
    "tracts_gdf_ac = tracts_gdf[tracts_gdf['COUNTYFP']=='001']\n",
    "tracts_gdf_ac.plot()\n",
    "plt.show()"
   ]
  },
  {
   "cell_type": "markdown",
   "metadata": {},
   "source": [
    "## Attribute Joins  between Geodataframes and  Dataframes\n",
    "\n",
    "We just mapped the census tracts. But what makes a map powerful is when you map the data associated with the locations.\n",
    "\n",
    "In order to map the ACS data we need to associate it with the tracts. We have polygon data in the `tracts_gdf_ac` geodataframe but no attributes of interest.\n",
    "\n",
    "In a separate file we have our ACS 5-year data for 2018 `census_variables_CA.csv` that we just imported and read in as a `pandas` dataframe. We're now going to join the columns from that data to the `tracts_gdf_ac` with a common key. This process is called an `attribute join`, which we covered in an earlier notebook.\n",
    "\n",
    "We're going to be conducting an inner join here -- think about why we do one type of join over another. You can read more about merging in `geopandas` [here](http://geopandas.org/mergingdata.html#attribute-joins).\n",
    "\n",
    "<img src=\"https://shanelynnwebsite-mid9n9g1q9y8tt.netdna-ssl.com/wp-content/uploads/2017/03/join-types-merge-names.jpg\">\n",
    "\n",
    "\n"
   ]
  },
  {
   "cell_type": "code",
   "execution_count": 8,
   "metadata": {},
   "outputs": [
    {
     "data": {
      "text/plain": [
       "0    06001400300\n",
       "1    06001400900\n",
       "2    06001402200\n",
       "3    06001402800\n",
       "4    06001404800\n",
       "Name: GEOID, dtype: object"
      ]
     },
     "execution_count": 8,
     "metadata": {},
     "output_type": "execute_result"
    }
   ],
   "source": [
    "tracts_gdf_ac['GEOID'].head()"
   ]
  },
  {
   "cell_type": "code",
   "execution_count": 9,
   "metadata": {},
   "outputs": [
    {
     "data": {
      "text/plain": [
       "0    06001401200\n",
       "1    06001401300\n",
       "2    06001401400\n",
       "3    06001401500\n",
       "4    06001401600\n",
       "Name: FIPS_11_digit, dtype: object"
      ]
     },
     "execution_count": 9,
     "metadata": {},
     "output_type": "execute_result"
    }
   ],
   "source": [
    "acs5data_df['FIPS_11_digit'].head()"
   ]
  },
  {
   "cell_type": "markdown",
   "metadata": {},
   "source": [
    "Let's do a `left` join to keep all of the census tracts in Alameda County and only the ACS data for those tracts."
   ]
  },
  {
   "cell_type": "code",
   "execution_count": 10,
   "metadata": {},
   "outputs": [
    {
     "data": {
      "text/html": [
       "<div>\n",
       "<style scoped>\n",
       "    .dataframe tbody tr th:only-of-type {\n",
       "        vertical-align: middle;\n",
       "    }\n",
       "\n",
       "    .dataframe tbody tr th {\n",
       "        vertical-align: top;\n",
       "    }\n",
       "\n",
       "    .dataframe thead th {\n",
       "        text-align: right;\n",
       "    }\n",
       "</style>\n",
       "<table border=\"1\" class=\"dataframe\">\n",
       "  <thead>\n",
       "    <tr style=\"text-align: right;\">\n",
       "      <th></th>\n",
       "      <th>STATEFP</th>\n",
       "      <th>COUNTYFP</th>\n",
       "      <th>TRACTCE</th>\n",
       "      <th>AFFGEOID</th>\n",
       "      <th>GEOID</th>\n",
       "      <th>NAME_x</th>\n",
       "      <th>LSAD</th>\n",
       "      <th>ALAND</th>\n",
       "      <th>AWATER</th>\n",
       "      <th>geometry</th>\n",
       "      <th>...</th>\n",
       "      <th>p_stay</th>\n",
       "      <th>p_movelocal</th>\n",
       "      <th>p_movecounty</th>\n",
       "      <th>p_movestate</th>\n",
       "      <th>p_moveabroad</th>\n",
       "      <th>p_car</th>\n",
       "      <th>p_carpool</th>\n",
       "      <th>p_transit</th>\n",
       "      <th>p_bike</th>\n",
       "      <th>p_walk</th>\n",
       "    </tr>\n",
       "  </thead>\n",
       "  <tbody>\n",
       "    <tr>\n",
       "      <th>0</th>\n",
       "      <td>06</td>\n",
       "      <td>001</td>\n",
       "      <td>400300</td>\n",
       "      <td>1400000US06001400300</td>\n",
       "      <td>06001400300</td>\n",
       "      <td>4003</td>\n",
       "      <td>CT</td>\n",
       "      <td>1105329</td>\n",
       "      <td>0</td>\n",
       "      <td>POLYGON ((-122.26416 37.84000, -122.26186 37.8...</td>\n",
       "      <td>...</td>\n",
       "      <td>0.840542</td>\n",
       "      <td>0.045069</td>\n",
       "      <td>0.058407</td>\n",
       "      <td>0.031528</td>\n",
       "      <td>0.024454</td>\n",
       "      <td>0.420840</td>\n",
       "      <td>0.059496</td>\n",
       "      <td>0.280672</td>\n",
       "      <td>0.067899</td>\n",
       "      <td>0.057479</td>\n",
       "    </tr>\n",
       "    <tr>\n",
       "      <th>1</th>\n",
       "      <td>06</td>\n",
       "      <td>001</td>\n",
       "      <td>400900</td>\n",
       "      <td>1400000US06001400900</td>\n",
       "      <td>06001400900</td>\n",
       "      <td>4009</td>\n",
       "      <td>CT</td>\n",
       "      <td>420877</td>\n",
       "      <td>0</td>\n",
       "      <td>POLYGON ((-122.28558 37.83978, -122.28319 37.8...</td>\n",
       "      <td>...</td>\n",
       "      <td>0.906161</td>\n",
       "      <td>0.065687</td>\n",
       "      <td>0.005712</td>\n",
       "      <td>0.022440</td>\n",
       "      <td>0.000000</td>\n",
       "      <td>0.555718</td>\n",
       "      <td>0.068915</td>\n",
       "      <td>0.213343</td>\n",
       "      <td>0.060850</td>\n",
       "      <td>0.044721</td>\n",
       "    </tr>\n",
       "  </tbody>\n",
       "</table>\n",
       "<p>2 rows × 54 columns</p>\n",
       "</div>"
      ],
      "text/plain": [
       "  STATEFP COUNTYFP TRACTCE              AFFGEOID        GEOID NAME_x LSAD  \\\n",
       "0      06      001  400300  1400000US06001400300  06001400300   4003   CT   \n",
       "1      06      001  400900  1400000US06001400900  06001400900   4009   CT   \n",
       "\n",
       "     ALAND  AWATER                                           geometry  ...  \\\n",
       "0  1105329       0  POLYGON ((-122.26416 37.84000, -122.26186 37.8...  ...   \n",
       "1   420877       0  POLYGON ((-122.28558 37.83978, -122.28319 37.8...  ...   \n",
       "\n",
       "     p_stay  p_movelocal  p_movecounty  p_movestate  p_moveabroad     p_car  \\\n",
       "0  0.840542     0.045069      0.058407     0.031528      0.024454  0.420840   \n",
       "1  0.906161     0.065687      0.005712     0.022440      0.000000  0.555718   \n",
       "\n",
       "   p_carpool  p_transit    p_bike    p_walk  \n",
       "0   0.059496   0.280672  0.067899  0.057479  \n",
       "1   0.068915   0.213343  0.060850  0.044721  \n",
       "\n",
       "[2 rows x 54 columns]"
      ]
     },
     "execution_count": 10,
     "metadata": {},
     "output_type": "execute_result"
    }
   ],
   "source": [
    "# Left join keeps all tracts and the acs data for those tracts\n",
    "tracts_acs_gdf_ac = tracts_gdf_ac.merge(acs5data_df_ac, left_on='GEOID',right_on=\"FIPS_11_digit\", how='left')\n",
    "tracts_acs_gdf_ac.head(2)"
   ]
  },
  {
   "cell_type": "markdown",
   "metadata": {},
   "source": [
    "Let's see all the variables we have in our dataset now."
   ]
  },
  {
   "cell_type": "code",
   "execution_count": 11,
   "metadata": {},
   "outputs": [
    {
     "data": {
      "text/plain": [
       "['STATEFP',\n",
       " 'COUNTYFP',\n",
       " 'TRACTCE',\n",
       " 'AFFGEOID',\n",
       " 'GEOID',\n",
       " 'NAME_x',\n",
       " 'LSAD',\n",
       " 'ALAND',\n",
       " 'AWATER',\n",
       " 'geometry',\n",
       " 'NAME_y',\n",
       " 'c_race',\n",
       " 'c_white',\n",
       " 'c_black',\n",
       " 'c_asian',\n",
       " 'c_latinx',\n",
       " 'state_fips',\n",
       " 'county_fips',\n",
       " 'tract_fips',\n",
       " 'med_rent',\n",
       " 'med_hhinc',\n",
       " 'c_tenants',\n",
       " 'c_owners',\n",
       " 'c_renters',\n",
       " 'c_movers',\n",
       " 'c_stay',\n",
       " 'c_movelocal',\n",
       " 'c_movecounty',\n",
       " 'c_movestate',\n",
       " 'c_moveabroad',\n",
       " 'c_commute',\n",
       " 'c_car',\n",
       " 'c_carpool',\n",
       " 'c_transit',\n",
       " 'c_bike',\n",
       " 'c_walk',\n",
       " 'year',\n",
       " 'FIPS_11_digit',\n",
       " 'p_white',\n",
       " 'p_black',\n",
       " 'p_asian',\n",
       " 'p_latinx',\n",
       " 'p_owners',\n",
       " 'p_renters',\n",
       " 'p_stay',\n",
       " 'p_movelocal',\n",
       " 'p_movecounty',\n",
       " 'p_movestate',\n",
       " 'p_moveabroad',\n",
       " 'p_car',\n",
       " 'p_carpool',\n",
       " 'p_transit',\n",
       " 'p_bike',\n",
       " 'p_walk']"
      ]
     },
     "execution_count": 11,
     "metadata": {},
     "output_type": "execute_result"
    }
   ],
   "source": [
    "list(tracts_acs_gdf_ac.columns)"
   ]
  },
  {
   "cell_type": "markdown",
   "metadata": {},
   "source": [
    "How many rows and columns should we have? Think about this before you run the next lines of code."
   ]
  },
  {
   "cell_type": "code",
   "execution_count": 12,
   "metadata": {},
   "outputs": [
    {
     "name": "stdout",
     "output_type": "stream",
     "text": [
      "Rows and columns in the Alameda County Census tract gdf: (361, 10)\n",
      "Rows and columns in the Alameda County Census tract gdf joined to the ACS data: (361, 54)\n"
     ]
    }
   ],
   "source": [
    "print(\"Rows and columns in the Alameda County Census tract gdf:\", tracts_gdf_ac.shape)\n",
    "print(\"Rows and columns in the Alameda County Census tract gdf joined to the ACS data:\", tracts_acs_gdf_ac.shape)"
   ]
  },
  {
   "cell_type": "code",
   "execution_count": 13,
   "metadata": {},
   "outputs": [],
   "source": [
    "# can make choropleths for this now! exercise to make one?"
   ]
  },
  {
   "cell_type": "markdown",
   "metadata": {},
   "source": [
    "## 7.2 Spatial Join"
   ]
  },
  {
   "cell_type": "code",
   "execution_count": 14,
   "metadata": {},
   "outputs": [
    {
     "data": {
      "text/html": [
       "<div>\n",
       "<style scoped>\n",
       "    .dataframe tbody tr th:only-of-type {\n",
       "        vertical-align: middle;\n",
       "    }\n",
       "\n",
       "    .dataframe tbody tr th {\n",
       "        vertical-align: top;\n",
       "    }\n",
       "\n",
       "    .dataframe thead th {\n",
       "        text-align: right;\n",
       "    }\n",
       "</style>\n",
       "<table border=\"1\" class=\"dataframe\">\n",
       "  <thead>\n",
       "    <tr style=\"text-align: right;\">\n",
       "      <th></th>\n",
       "      <th>STATEFP</th>\n",
       "      <th>PLACEFP</th>\n",
       "      <th>PLACENS</th>\n",
       "      <th>AFFGEOID</th>\n",
       "      <th>GEOID</th>\n",
       "      <th>NAME</th>\n",
       "      <th>LSAD</th>\n",
       "      <th>ALAND</th>\n",
       "      <th>AWATER</th>\n",
       "      <th>geometry</th>\n",
       "    </tr>\n",
       "  </thead>\n",
       "  <tbody>\n",
       "    <tr>\n",
       "      <th>0</th>\n",
       "      <td>06</td>\n",
       "      <td>46492</td>\n",
       "      <td>02411054</td>\n",
       "      <td>1600000US0646492</td>\n",
       "      <td>0646492</td>\n",
       "      <td>Maywood</td>\n",
       "      <td>25</td>\n",
       "      <td>3052102</td>\n",
       "      <td>0</td>\n",
       "      <td>POLYGON ((-118.20416 33.98952, -118.20433 33.9...</td>\n",
       "    </tr>\n",
       "    <tr>\n",
       "      <th>1</th>\n",
       "      <td>06</td>\n",
       "      <td>17750</td>\n",
       "      <td>02410282</td>\n",
       "      <td>1600000US0617750</td>\n",
       "      <td>0617750</td>\n",
       "      <td>Cypress</td>\n",
       "      <td>25</td>\n",
       "      <td>17127728</td>\n",
       "      <td>21850</td>\n",
       "      <td>POLYGON ((-118.06332 33.83153, -118.06123 33.8...</td>\n",
       "    </tr>\n",
       "    <tr>\n",
       "      <th>2</th>\n",
       "      <td>06</td>\n",
       "      <td>56938</td>\n",
       "      <td>02411418</td>\n",
       "      <td>1600000US0656938</td>\n",
       "      <td>0656938</td>\n",
       "      <td>Piedmont</td>\n",
       "      <td>25</td>\n",
       "      <td>4402167</td>\n",
       "      <td>0</td>\n",
       "      <td>POLYGON ((-122.24930 37.82372, -122.24812 37.8...</td>\n",
       "    </tr>\n",
       "    <tr>\n",
       "      <th>3</th>\n",
       "      <td>06</td>\n",
       "      <td>69088</td>\n",
       "      <td>02411819</td>\n",
       "      <td>1600000US0669088</td>\n",
       "      <td>0669088</td>\n",
       "      <td>Santa Clarita</td>\n",
       "      <td>25</td>\n",
       "      <td>170638259</td>\n",
       "      <td>162849</td>\n",
       "      <td>MULTIPOLYGON (((-118.56481 34.35969, -118.5591...</td>\n",
       "    </tr>\n",
       "    <tr>\n",
       "      <th>4</th>\n",
       "      <td>06</td>\n",
       "      <td>13392</td>\n",
       "      <td>02409461</td>\n",
       "      <td>1600000US0613392</td>\n",
       "      <td>0613392</td>\n",
       "      <td>Chula Vista</td>\n",
       "      <td>25</td>\n",
       "      <td>128547314</td>\n",
       "      <td>6380537</td>\n",
       "      <td>POLYGON ((-117.12399 32.64636, -117.11707 32.6...</td>\n",
       "    </tr>\n",
       "  </tbody>\n",
       "</table>\n",
       "</div>"
      ],
      "text/plain": [
       "  STATEFP PLACEFP   PLACENS          AFFGEOID    GEOID           NAME LSAD  \\\n",
       "0      06   46492  02411054  1600000US0646492  0646492        Maywood   25   \n",
       "1      06   17750  02410282  1600000US0617750  0617750        Cypress   25   \n",
       "2      06   56938  02411418  1600000US0656938  0656938       Piedmont   25   \n",
       "3      06   69088  02411819  1600000US0669088  0669088  Santa Clarita   25   \n",
       "4      06   13392  02409461  1600000US0613392  0613392    Chula Vista   25   \n",
       "\n",
       "       ALAND   AWATER                                           geometry  \n",
       "0    3052102        0  POLYGON ((-118.20416 33.98952, -118.20433 33.9...  \n",
       "1   17127728    21850  POLYGON ((-118.06332 33.83153, -118.06123 33.8...  \n",
       "2    4402167        0  POLYGON ((-122.24930 37.82372, -122.24812 37.8...  \n",
       "3  170638259   162849  MULTIPOLYGON (((-118.56481 34.35969, -118.5591...  \n",
       "4  128547314  6380537  POLYGON ((-117.12399 32.64636, -117.11707 32.6...  "
      ]
     },
     "execution_count": 14,
     "metadata": {},
     "output_type": "execute_result"
    }
   ],
   "source": [
    "california_places = gpd.read_file('zip://notebook_data/census/Places/cb_2018_06_place_500k.zip')\n",
    "california_places.head()"
   ]
  },
  {
   "cell_type": "code",
   "execution_count": 15,
   "metadata": {},
   "outputs": [
    {
     "data": {
      "text/plain": [
       "<matplotlib.axes._subplots.AxesSubplot at 0x7fbb16a8fb50>"
      ]
     },
     "execution_count": 15,
     "metadata": {},
     "output_type": "execute_result"
    },
    {
     "data": {
      "image/png": "[encoded data removed]",
      "text/plain": [
       "<Figure size 432x288 with 1 Axes>"
      ]
     },
     "metadata": {
      "needs_background": "light"
     },
     "output_type": "display_data"
    }
   ],
   "source": [
    "places_list = ['Berkeley','Oakland','Piedmont']\n",
    "berk_oak_pied = california_places.loc[california_places['NAME'].isin(places_list)].copy().reset_index(drop=True)\n",
    "berk_oak_pied.plot(column='NAME', categorical=True)"
   ]
  },
  {
   "cell_type": "code",
   "execution_count": 16,
   "metadata": {},
   "outputs": [
    {
     "data": {
      "text/plain": [
       "<Geographic 2D CRS: EPSG:4269>\n",
       "Name: NAD83\n",
       "Axis Info [ellipsoidal]:\n",
       "- Lat[north]: Geodetic latitude (degree)\n",
       "- Lon[east]: Geodetic longitude (degree)\n",
       "Area of Use:\n",
       "- name: North America - NAD83\n",
       "- bounds: (167.65, 14.92, -47.74, 86.46)\n",
       "Datum: North American Datum 1983\n",
       "- Ellipsoid: GRS 1980\n",
       "- Prime Meridian: Greenwich"
      ]
     },
     "execution_count": 16,
     "metadata": {},
     "output_type": "execute_result"
    }
   ],
   "source": [
    "berk_oak_pied.crs"
   ]
  },
  {
   "cell_type": "code",
   "execution_count": 17,
   "metadata": {},
   "outputs": [],
   "source": [
    "schools_df = pd.read_csv('notebook_data/alco_schools.csv')\n",
    "schools_gdf = gpd.GeoDataFrame(schools_df, \n",
    "                               geometry=gpd.points_from_xy(schools_df.X, schools_df.Y))\n",
    "schools_gdf.crs = \"epsg:4326\""
   ]
  },
  {
   "cell_type": "code",
   "execution_count": 18,
   "metadata": {},
   "outputs": [],
   "source": [
    "schools_gdf = schools_gdf.to_crs('epsg:4269')"
   ]
  },
  {
   "cell_type": "code",
   "execution_count": 19,
   "metadata": {},
   "outputs": [],
   "source": [
    "schools_gdf['number_of_schools'] = 1"
   ]
  },
  {
   "cell_type": "code",
   "execution_count": 20,
   "metadata": {},
   "outputs": [
    {
     "data": {
      "text/plain": [
       "<matplotlib.axes._subplots.AxesSubplot at 0x7fbb170264c0>"
      ]
     },
     "execution_count": 20,
     "metadata": {},
     "output_type": "execute_result"
    },
    {
     "data": {
      "image/png": "[encoded data removed]",
      "text/plain": [
       "<Figure size 720x720 with 1 Axes>"
      ]
     },
     "metadata": {
      "needs_background": "light"
     },
     "output_type": "display_data"
    }
   ],
   "source": [
    "fig, ax = plt.subplots(figsize=(10,10))\n",
    "berk_oak_pied.plot(color='lightgrey',ax=ax)\n",
    "schools_gdf.plot(ax=ax)"
   ]
  },
  {
   "cell_type": "code",
   "execution_count": 21,
   "metadata": {},
   "outputs": [
    {
     "name": "stdout",
     "output_type": "stream",
     "text": [
      "Help on function sjoin in module geopandas.tools.sjoin:\n",
      "\n",
      "sjoin(left_df, right_df, how='inner', op='intersects', lsuffix='left', rsuffix='right')\n",
      "    Spatial join of two GeoDataFrames.\n",
      "    \n",
      "    Parameters\n",
      "    ----------\n",
      "    left_df, right_df : GeoDataFrames\n",
      "    how : string, default 'inner'\n",
      "        The type of join:\n",
      "    \n",
      "        * 'left': use keys from left_df; retain only left_df geometry column\n",
      "        * 'right': use keys from right_df; retain only right_df geometry column\n",
      "        * 'inner': use intersection of keys from both dfs; retain only\n",
      "          left_df geometry column\n",
      "    op : string, default 'intersects'\n",
      "        Binary predicate, one of {'intersects', 'contains', 'within'}.\n",
      "        See http://shapely.readthedocs.io/en/latest/manual.html#binary-predicates.\n",
      "    lsuffix : string, default 'left'\n",
      "        Suffix to apply to overlapping column names (left GeoDataFrame).\n",
      "    rsuffix : string, default 'right'\n",
      "        Suffix to apply to overlapping column names (right GeoDataFrame).\n",
      "\n"
     ]
    }
   ],
   "source": [
    "# Take a look at the function documentation\n",
    "help(gpd.sjoin)"
   ]
  },
  {
   "cell_type": "markdown",
   "metadata": {},
   "source": [
    "Now, let's spatially join the permit data to the census data so that we can sum the number of permitted units in each census tract.  "
   ]
  },
  {
   "cell_type": "code",
   "execution_count": 22,
   "metadata": {},
   "outputs": [],
   "source": [
    "# Spatially join permit data to census tract data\n",
    "places_schools_gdf = gpd.sjoin(berk_oak_pied, schools_gdf)"
   ]
  },
  {
   "cell_type": "markdown",
   "metadata": {},
   "source": [
    "Now let's take a look at the output of the spatial join."
   ]
  },
  {
   "cell_type": "code",
   "execution_count": 23,
   "metadata": {},
   "outputs": [
    {
     "data": {
      "text/html": [
       "<div>\n",
       "<style scoped>\n",
       "    .dataframe tbody tr th:only-of-type {\n",
       "        vertical-align: middle;\n",
       "    }\n",
       "\n",
       "    .dataframe tbody tr th {\n",
       "        vertical-align: top;\n",
       "    }\n",
       "\n",
       "    .dataframe thead th {\n",
       "        text-align: right;\n",
       "    }\n",
       "</style>\n",
       "<table border=\"1\" class=\"dataframe\">\n",
       "  <thead>\n",
       "    <tr style=\"text-align: right;\">\n",
       "      <th></th>\n",
       "      <th>STATEFP</th>\n",
       "      <th>PLACEFP</th>\n",
       "      <th>PLACENS</th>\n",
       "      <th>AFFGEOID</th>\n",
       "      <th>GEOID</th>\n",
       "      <th>NAME</th>\n",
       "      <th>LSAD</th>\n",
       "      <th>ALAND</th>\n",
       "      <th>AWATER</th>\n",
       "      <th>geometry</th>\n",
       "      <th>...</th>\n",
       "      <th>X</th>\n",
       "      <th>Y</th>\n",
       "      <th>Site</th>\n",
       "      <th>Address</th>\n",
       "      <th>City</th>\n",
       "      <th>State</th>\n",
       "      <th>Type</th>\n",
       "      <th>API</th>\n",
       "      <th>Org</th>\n",
       "      <th>number_of_schools</th>\n",
       "    </tr>\n",
       "  </thead>\n",
       "  <tbody>\n",
       "    <tr>\n",
       "      <th>0</th>\n",
       "      <td>06</td>\n",
       "      <td>56938</td>\n",
       "      <td>02411418</td>\n",
       "      <td>1600000US0656938</td>\n",
       "      <td>0656938</td>\n",
       "      <td>Piedmont</td>\n",
       "      <td>25</td>\n",
       "      <td>4402167</td>\n",
       "      <td>0</td>\n",
       "      <td>POLYGON ((-122.24930 37.82372, -122.24812 37.8...</td>\n",
       "      <td>...</td>\n",
       "      <td>-122.211319</td>\n",
       "      <td>37.818373</td>\n",
       "      <td>Zion Lutheran</td>\n",
       "      <td>5201 Park Boulevard</td>\n",
       "      <td>Piedmont</td>\n",
       "      <td>CA</td>\n",
       "      <td>K-8</td>\n",
       "      <td>0</td>\n",
       "      <td>private</td>\n",
       "      <td>1</td>\n",
       "    </tr>\n",
       "    <tr>\n",
       "      <th>0</th>\n",
       "      <td>06</td>\n",
       "      <td>56938</td>\n",
       "      <td>02411418</td>\n",
       "      <td>1600000US0656938</td>\n",
       "      <td>0656938</td>\n",
       "      <td>Piedmont</td>\n",
       "      <td>25</td>\n",
       "      <td>4402167</td>\n",
       "      <td>0</td>\n",
       "      <td>POLYGON ((-122.24930 37.82372, -122.24812 37.8...</td>\n",
       "      <td>...</td>\n",
       "      <td>-122.234950</td>\n",
       "      <td>37.819717</td>\n",
       "      <td>Wildwood Elementary</td>\n",
       "      <td>301 Wildwood Avenue</td>\n",
       "      <td>Piedmont</td>\n",
       "      <td>CA</td>\n",
       "      <td>ES</td>\n",
       "      <td>964</td>\n",
       "      <td>Public</td>\n",
       "      <td>1</td>\n",
       "    </tr>\n",
       "  </tbody>\n",
       "</table>\n",
       "<p>2 rows × 21 columns</p>\n",
       "</div>"
      ],
      "text/plain": [
       "  STATEFP PLACEFP   PLACENS          AFFGEOID    GEOID      NAME LSAD  \\\n",
       "0      06   56938  02411418  1600000US0656938  0656938  Piedmont   25   \n",
       "0      06   56938  02411418  1600000US0656938  0656938  Piedmont   25   \n",
       "\n",
       "     ALAND  AWATER                                           geometry  ...  \\\n",
       "0  4402167       0  POLYGON ((-122.24930 37.82372, -122.24812 37.8...  ...   \n",
       "0  4402167       0  POLYGON ((-122.24930 37.82372, -122.24812 37.8...  ...   \n",
       "\n",
       "            X          Y                 Site              Address      City  \\\n",
       "0 -122.211319  37.818373        Zion Lutheran  5201 Park Boulevard  Piedmont   \n",
       "0 -122.234950  37.819717  Wildwood Elementary  301 Wildwood Avenue  Piedmont   \n",
       "\n",
       "  State Type  API      Org number_of_schools  \n",
       "0    CA  K-8    0  private                 1  \n",
       "0    CA   ES  964   Public                 1  \n",
       "\n",
       "[2 rows x 21 columns]"
      ]
     },
     "execution_count": 23,
     "metadata": {},
     "output_type": "execute_result"
    }
   ],
   "source": [
    "places_schools_gdf.head(2)"
   ]
  },
  {
   "cell_type": "markdown",
   "metadata": {},
   "source": [
    "By default `sjoin` is an inner join. It keeps the data from both geodataframes only where the locations spatially intersect. For our join, this means we maintain only those Alameda County census tracts that contain Oakland permit points.\n",
    "\n",
    "By default `sjoin` maintains the geometry of first geodataframe input to the operation, here census tracts. \n",
    "\n",
    "The output of the our `sjoin` operation is the geodataframe `tracts_and_permits_gdf` which has \n",
    "- a row for each permit application that is located within a census tract (all of which are)\n",
    "- the **polygon geometry** of the census tract in which the permit is located\n",
    "- all of the atribute data columns (non-geometry columns) from both input geodataframes.\n",
    "\n",
    "\n",
    "To confirm this, let's map the ouput geodataframe."
   ]
  },
  {
   "cell_type": "code",
   "execution_count": 24,
   "metadata": {},
   "outputs": [
    {
     "data": {
      "text/plain": [
       "<matplotlib.axes._subplots.AxesSubplot at 0x7fbb17207b80>"
      ]
     },
     "execution_count": 24,
     "metadata": {},
     "output_type": "execute_result"
    },
    {
     "data": {
      "image/png": "[encoded data removed]",
      "text/plain": [
       "<Figure size 432x288 with 1 Axes>"
      ]
     },
     "metadata": {
      "needs_background": "light"
     },
     "output_type": "display_data"
    }
   ],
   "source": [
    "places_schools_gdf.plot()"
   ]
  },
  {
   "cell_type": "markdown",
   "metadata": {},
   "source": [
    "We are missing some census tracts because not all census tracts contain permit activity **AND** we did an `inner join`\n",
    "- Where was the inner join specified?"
   ]
  },
  {
   "cell_type": "markdown",
   "metadata": {},
   "source": [
    "Take a look at the input and ouput the geometry types:"
   ]
  },
  {
   "cell_type": "code",
   "execution_count": 25,
   "metadata": {},
   "outputs": [
    {
     "name": "stdout",
     "output_type": "stream",
     "text": [
      "Schools input geometry: ['Point']\n",
      "Places input geometry: ['Polygon']\n",
      "Places and schools join output geometry: ['Polygon']\n"
     ]
    }
   ],
   "source": [
    "print(\"Schools input geometry:\", schools_gdf.geometry.type.unique())\n",
    "print(\"Places input geometry:\" , berk_oak_pied.geometry.type.unique())\n",
    "print(\"Places and schools join output geometry:\", places_schools_gdf.geometry.type.unique())"
   ]
  },
  {
   "cell_type": "markdown",
   "metadata": {},
   "source": [
    "We joined point data to polygon/multipolygon data and our join output has polygon geometry. Why, because of the order of the inputs to `sjoin` - the polygon geodataframe (census tracts) was listed first."
   ]
  },
  {
   "cell_type": "markdown",
   "metadata": {},
   "source": [
    "Now, check out the shape of the input geodataframes and output geodataframes."
   ]
  },
  {
   "cell_type": "code",
   "execution_count": 26,
   "metadata": {},
   "outputs": [
    {
     "name": "stdout",
     "output_type": "stream",
     "text": [
      "Schools: (550, 11)\n",
      "Places: (3, 10)\n",
      "Places and schools: (228, 21)\n"
     ]
    }
   ],
   "source": [
    "print(\"Schools:\", schools_gdf.shape)\n",
    "print(\"Places:\" , berk_oak_pied.shape)\n",
    "print(\"Places and schools:\", places_schools_gdf.shape)"
   ]
  },
  {
   "cell_type": "markdown",
   "metadata": {},
   "source": [
    "Let's look just at the number of permitted units for this census tract."
   ]
  },
  {
   "cell_type": "markdown",
   "metadata": {},
   "source": [
    "So, our sjoin output is not map ready. We first need to aggregate the number of permitted units by census tract, grouping the data by `GEOID` which is a unique identifier.\n",
    "\n",
    "Ok, let's sum `units_permit` in each census tract.  We can do this using a pandas `groupby` operation."
   ]
  },
  {
   "cell_type": "code",
   "execution_count": 27,
   "metadata": {},
   "outputs": [
    {
     "data": {
      "text/html": [
       "<div>\n",
       "<style scoped>\n",
       "    .dataframe tbody tr th:only-of-type {\n",
       "        vertical-align: middle;\n",
       "    }\n",
       "\n",
       "    .dataframe tbody tr th {\n",
       "        vertical-align: top;\n",
       "    }\n",
       "\n",
       "    .dataframe thead th {\n",
       "        text-align: right;\n",
       "    }\n",
       "</style>\n",
       "<table border=\"1\" class=\"dataframe\">\n",
       "  <thead>\n",
       "    <tr style=\"text-align: right;\">\n",
       "      <th></th>\n",
       "      <th>STATEFP</th>\n",
       "      <th>PLACEFP</th>\n",
       "      <th>PLACENS</th>\n",
       "      <th>AFFGEOID</th>\n",
       "      <th>GEOID</th>\n",
       "      <th>NAME</th>\n",
       "      <th>LSAD</th>\n",
       "      <th>ALAND</th>\n",
       "      <th>AWATER</th>\n",
       "      <th>geometry</th>\n",
       "      <th>...</th>\n",
       "      <th>X</th>\n",
       "      <th>Y</th>\n",
       "      <th>Site</th>\n",
       "      <th>Address</th>\n",
       "      <th>City</th>\n",
       "      <th>State</th>\n",
       "      <th>Type</th>\n",
       "      <th>API</th>\n",
       "      <th>Org</th>\n",
       "      <th>number_of_schools</th>\n",
       "    </tr>\n",
       "  </thead>\n",
       "  <tbody>\n",
       "    <tr>\n",
       "      <th>0</th>\n",
       "      <td>06</td>\n",
       "      <td>56938</td>\n",
       "      <td>02411418</td>\n",
       "      <td>1600000US0656938</td>\n",
       "      <td>0656938</td>\n",
       "      <td>Piedmont</td>\n",
       "      <td>25</td>\n",
       "      <td>4402167</td>\n",
       "      <td>0</td>\n",
       "      <td>POLYGON ((-122.24930 37.82372, -122.24812 37.8...</td>\n",
       "      <td>...</td>\n",
       "      <td>-122.211319</td>\n",
       "      <td>37.818373</td>\n",
       "      <td>Zion Lutheran</td>\n",
       "      <td>5201 Park Boulevard</td>\n",
       "      <td>Piedmont</td>\n",
       "      <td>CA</td>\n",
       "      <td>K-8</td>\n",
       "      <td>0</td>\n",
       "      <td>private</td>\n",
       "      <td>1</td>\n",
       "    </tr>\n",
       "    <tr>\n",
       "      <th>0</th>\n",
       "      <td>06</td>\n",
       "      <td>56938</td>\n",
       "      <td>02411418</td>\n",
       "      <td>1600000US0656938</td>\n",
       "      <td>0656938</td>\n",
       "      <td>Piedmont</td>\n",
       "      <td>25</td>\n",
       "      <td>4402167</td>\n",
       "      <td>0</td>\n",
       "      <td>POLYGON ((-122.24930 37.82372, -122.24812 37.8...</td>\n",
       "      <td>...</td>\n",
       "      <td>-122.234950</td>\n",
       "      <td>37.819717</td>\n",
       "      <td>Wildwood Elementary</td>\n",
       "      <td>301 Wildwood Avenue</td>\n",
       "      <td>Piedmont</td>\n",
       "      <td>CA</td>\n",
       "      <td>ES</td>\n",
       "      <td>964</td>\n",
       "      <td>Public</td>\n",
       "      <td>1</td>\n",
       "    </tr>\n",
       "    <tr>\n",
       "      <th>0</th>\n",
       "      <td>06</td>\n",
       "      <td>56938</td>\n",
       "      <td>02411418</td>\n",
       "      <td>1600000US0656938</td>\n",
       "      <td>0656938</td>\n",
       "      <td>Piedmont</td>\n",
       "      <td>25</td>\n",
       "      <td>4402167</td>\n",
       "      <td>0</td>\n",
       "      <td>POLYGON ((-122.24930 37.82372, -122.24812 37.8...</td>\n",
       "      <td>...</td>\n",
       "      <td>-122.233495</td>\n",
       "      <td>37.823117</td>\n",
       "      <td>Piedmont Middle</td>\n",
       "      <td>740 Magnolia Ave</td>\n",
       "      <td>Piedmont</td>\n",
       "      <td>CA</td>\n",
       "      <td>MS</td>\n",
       "      <td>930</td>\n",
       "      <td>Public</td>\n",
       "      <td>1</td>\n",
       "    </tr>\n",
       "    <tr>\n",
       "      <th>0</th>\n",
       "      <td>06</td>\n",
       "      <td>56938</td>\n",
       "      <td>02411418</td>\n",
       "      <td>1600000US0656938</td>\n",
       "      <td>0656938</td>\n",
       "      <td>Piedmont</td>\n",
       "      <td>25</td>\n",
       "      <td>4402167</td>\n",
       "      <td>0</td>\n",
       "      <td>POLYGON ((-122.24930 37.82372, -122.24812 37.8...</td>\n",
       "      <td>...</td>\n",
       "      <td>-122.233084</td>\n",
       "      <td>37.823418</td>\n",
       "      <td>Millennium High Alternative</td>\n",
       "      <td>760 Magnolia Ave</td>\n",
       "      <td>Piedmont</td>\n",
       "      <td>CA</td>\n",
       "      <td>ASAM</td>\n",
       "      <td>0</td>\n",
       "      <td>Public</td>\n",
       "      <td>1</td>\n",
       "    </tr>\n",
       "    <tr>\n",
       "      <th>0</th>\n",
       "      <td>06</td>\n",
       "      <td>56938</td>\n",
       "      <td>02411418</td>\n",
       "      <td>1600000US0656938</td>\n",
       "      <td>0656938</td>\n",
       "      <td>Piedmont</td>\n",
       "      <td>25</td>\n",
       "      <td>4402167</td>\n",
       "      <td>0</td>\n",
       "      <td>POLYGON ((-122.24930 37.82372, -122.24812 37.8...</td>\n",
       "      <td>...</td>\n",
       "      <td>-122.232863</td>\n",
       "      <td>37.823655</td>\n",
       "      <td>Piedmont High</td>\n",
       "      <td>800 Magnolia Ave</td>\n",
       "      <td>Piedmont</td>\n",
       "      <td>CA</td>\n",
       "      <td>HS</td>\n",
       "      <td>904</td>\n",
       "      <td>Public</td>\n",
       "      <td>1</td>\n",
       "    </tr>\n",
       "  </tbody>\n",
       "</table>\n",
       "<p>5 rows × 21 columns</p>\n",
       "</div>"
      ],
      "text/plain": [
       "  STATEFP PLACEFP   PLACENS          AFFGEOID    GEOID      NAME LSAD  \\\n",
       "0      06   56938  02411418  1600000US0656938  0656938  Piedmont   25   \n",
       "0      06   56938  02411418  1600000US0656938  0656938  Piedmont   25   \n",
       "0      06   56938  02411418  1600000US0656938  0656938  Piedmont   25   \n",
       "0      06   56938  02411418  1600000US0656938  0656938  Piedmont   25   \n",
       "0      06   56938  02411418  1600000US0656938  0656938  Piedmont   25   \n",
       "\n",
       "     ALAND  AWATER                                           geometry  ...  \\\n",
       "0  4402167       0  POLYGON ((-122.24930 37.82372, -122.24812 37.8...  ...   \n",
       "0  4402167       0  POLYGON ((-122.24930 37.82372, -122.24812 37.8...  ...   \n",
       "0  4402167       0  POLYGON ((-122.24930 37.82372, -122.24812 37.8...  ...   \n",
       "0  4402167       0  POLYGON ((-122.24930 37.82372, -122.24812 37.8...  ...   \n",
       "0  4402167       0  POLYGON ((-122.24930 37.82372, -122.24812 37.8...  ...   \n",
       "\n",
       "            X          Y                         Site              Address  \\\n",
       "0 -122.211319  37.818373                Zion Lutheran  5201 Park Boulevard   \n",
       "0 -122.234950  37.819717          Wildwood Elementary  301 Wildwood Avenue   \n",
       "0 -122.233495  37.823117              Piedmont Middle     740 Magnolia Ave   \n",
       "0 -122.233084  37.823418  Millennium High Alternative     760 Magnolia Ave   \n",
       "0 -122.232863  37.823655                Piedmont High     800 Magnolia Ave   \n",
       "\n",
       "       City State  Type  API      Org number_of_schools  \n",
       "0  Piedmont    CA   K-8    0  private                 1  \n",
       "0  Piedmont    CA    ES  964   Public                 1  \n",
       "0  Piedmont    CA    MS  930   Public                 1  \n",
       "0  Piedmont    CA  ASAM    0   Public                 1  \n",
       "0  Piedmont    CA    HS  904   Public                 1  \n",
       "\n",
       "[5 rows x 21 columns]"
      ]
     },
     "execution_count": 27,
     "metadata": {},
     "output_type": "execute_result"
    }
   ],
   "source": [
    "places_schools_gdf.head()"
   ]
  },
  {
   "cell_type": "code",
   "execution_count": 28,
   "metadata": {},
   "outputs": [
    {
     "name": "stdout",
     "output_type": "stream",
     "text": [
      "Rows and columns: (3, 2)\n"
     ]
    },
    {
     "data": {
      "text/html": [
       "<div>\n",
       "<style scoped>\n",
       "    .dataframe tbody tr th:only-of-type {\n",
       "        vertical-align: middle;\n",
       "    }\n",
       "\n",
       "    .dataframe tbody tr th {\n",
       "        vertical-align: top;\n",
       "    }\n",
       "\n",
       "    .dataframe thead th {\n",
       "        text-align: right;\n",
       "    }\n",
       "</style>\n",
       "<table border=\"1\" class=\"dataframe\">\n",
       "  <thead>\n",
       "    <tr style=\"text-align: right;\">\n",
       "      <th></th>\n",
       "      <th>GEOID</th>\n",
       "      <th>number_of_schools</th>\n",
       "    </tr>\n",
       "  </thead>\n",
       "  <tbody>\n",
       "    <tr>\n",
       "      <th>0</th>\n",
       "      <td>0606000</td>\n",
       "      <td>32</td>\n",
       "    </tr>\n",
       "    <tr>\n",
       "      <th>1</th>\n",
       "      <td>0653000</td>\n",
       "      <td>189</td>\n",
       "    </tr>\n",
       "    <tr>\n",
       "      <th>2</th>\n",
       "      <td>0656938</td>\n",
       "      <td>7</td>\n",
       "    </tr>\n",
       "  </tbody>\n",
       "</table>\n",
       "</div>"
      ],
      "text/plain": [
       "     GEOID  number_of_schools\n",
       "0  0606000                 32\n",
       "1  0653000                189\n",
       "2  0656938                  7"
      ]
     },
     "execution_count": 28,
     "metadata": {},
     "output_type": "execute_result"
    }
   ],
   "source": [
    "places_schools_counts_df = places_schools_gdf[['GEOID','number_of_schools']].groupby('GEOID', as_index=False).sum()\n",
    "print(\"Rows and columns:\", places_schools_counts_df.shape)\n",
    "\n",
    "# take a look at the data\n",
    "places_schools_counts_df.head(7)"
   ]
  },
  {
   "cell_type": "markdown",
   "metadata": {},
   "source": [
    "The above `groupby` and sum operations give us the counts that we are looking for:\n",
    "- We have identified the 105 census tracts that contain permit application locations.\n",
    "- We have the number of `units_permit` within those census tracts. \n",
    "\n",
    "But the output of `groupby` is a dataframe not a geodataframe.\n",
    "\n",
    "If we want to output a spatial geodataframe we can to do one of two things:\n",
    "1. join the `groupby` output to the tracts_acs_gdf by the attribute `GEOID`\n",
    "or\n",
    "2. use the geodataframe [**dissolve**](https://geopandas.org/aggregation_with_dissolve.html) method, which you can think of as a spatial `groupby`. \n",
    "\n",
    "Since we already know how to do an attribute join, let's do the `dissolve`."
   ]
  },
  {
   "cell_type": "code",
   "execution_count": 29,
   "metadata": {},
   "outputs": [
    {
     "name": "stdout",
     "output_type": "stream",
     "text": [
      "Rows and columns:  (3, 3)\n"
     ]
    },
    {
     "data": {
      "text/html": [
       "<div>\n",
       "<style scoped>\n",
       "    .dataframe tbody tr th:only-of-type {\n",
       "        vertical-align: middle;\n",
       "    }\n",
       "\n",
       "    .dataframe tbody tr th {\n",
       "        vertical-align: top;\n",
       "    }\n",
       "\n",
       "    .dataframe thead th {\n",
       "        text-align: right;\n",
       "    }\n",
       "</style>\n",
       "<table border=\"1\" class=\"dataframe\">\n",
       "  <thead>\n",
       "    <tr style=\"text-align: right;\">\n",
       "      <th></th>\n",
       "      <th>GEOID</th>\n",
       "      <th>geometry</th>\n",
       "      <th>number_of_schools</th>\n",
       "    </tr>\n",
       "  </thead>\n",
       "  <tbody>\n",
       "    <tr>\n",
       "      <th>0</th>\n",
       "      <td>0606000</td>\n",
       "      <td>POLYGON ((-122.32519 37.87428, -122.31866 37.8...</td>\n",
       "      <td>32</td>\n",
       "    </tr>\n",
       "    <tr>\n",
       "      <th>1</th>\n",
       "      <td>0653000</td>\n",
       "      <td>POLYGON ((-122.34225 37.80556, -122.33412 37.8...</td>\n",
       "      <td>189</td>\n",
       "    </tr>\n",
       "    <tr>\n",
       "      <th>2</th>\n",
       "      <td>0656938</td>\n",
       "      <td>POLYGON ((-122.24930 37.82372, -122.24812 37.8...</td>\n",
       "      <td>7</td>\n",
       "    </tr>\n",
       "  </tbody>\n",
       "</table>\n",
       "</div>"
      ],
      "text/plain": [
       "     GEOID                                           geometry  \\\n",
       "0  0606000  POLYGON ((-122.32519 37.87428, -122.31866 37.8...   \n",
       "1  0653000  POLYGON ((-122.34225 37.80556, -122.33412 37.8...   \n",
       "2  0656938  POLYGON ((-122.24930 37.82372, -122.24812 37.8...   \n",
       "\n",
       "   number_of_schools  \n",
       "0                 32  \n",
       "1                189  \n",
       "2                  7  "
      ]
     },
     "execution_count": 29,
     "metadata": {},
     "output_type": "execute_result"
    }
   ],
   "source": [
    "places_schools_counts_gdf= places_schools_gdf[['GEOID','geometry','number_of_schools']].dissolve(by='GEOID', aggfunc=\"sum\", as_index=False)\n",
    "print(\"Rows and columns: \", places_schools_counts_gdf.shape)\n",
    "\n",
    "# take a look\n",
    "places_schools_counts_gdf.head(7)"
   ]
  },
  {
   "cell_type": "markdown",
   "metadata": {},
   "source": [
    "Let's break that down.\n",
    "\n",
    "- The `dissolve` operation requires a geometry column and a grouping column, which above is GEOID. Any geometries within the **same group** will be dissolved if they have the same geometry or nested geometries. \n",
    " \n",
    "- The `aggfunc`, or aggregation function, of the dissolve operation will be applied to all numeric columns in the input geodataframe (unless the function is `count` in which case it will count rows.)  \n",
    "\n",
    "Check out the Geopandas documentation on [dissolve](https://geopandas.org/aggregation_with_dissolve.html?highlight=dissolve) for more information.\n",
    "\n",
    "Above we selected three columns from the input geodataframe to create a subset as input to the dissolve operation. Can you think of why we did that?"
   ]
  },
  {
   "cell_type": "markdown",
   "metadata": {},
   "source": [
    "### Mapping our Spatial Join Output"
   ]
  },
  {
   "cell_type": "markdown",
   "metadata": {},
   "source": [
    "Because our `sjoin` plus `dissolve` operation outputs a geodataframe, we can map the count of `units_permit` by census tract."
   ]
  },
  {
   "cell_type": "code",
   "execution_count": 30,
   "metadata": {},
   "outputs": [
    {
     "data": {
      "image/png": "[encoded data removed]",
      "text/plain": [
       "<Figure size 1008x576 with 1 Axes>"
      ]
     },
     "metadata": {
      "needs_background": "light"
     },
     "output_type": "display_data"
    }
   ],
   "source": [
    "fig, ax = plt.subplots(figsize = (14,8)) \n",
    "\n",
    "# Display the output of our spatial join\n",
    "places_schools_counts_gdf.plot(ax=ax,column='number_of_schools', \n",
    "                             scheme=\"quantiles\", \n",
    "                             cmap=\"YlGnBu\",\n",
    "                             edgecolor=\"grey\",\n",
    "                             legend=True, \n",
    "                             legend_kwds={'title':'Permited units'})\n",
    "\n",
    "plt.show()"
   ]
  },
  {
   "cell_type": "markdown",
   "metadata": {},
   "source": [
    "## 7.3 Exercise\n",
    "How many grocery stores in our dataset are in Berkeley, Oakland & Piedmont? "
   ]
  },
  {
   "cell_type": "code",
   "execution_count": 43,
   "metadata": {},
   "outputs": [
    {
     "data": {
      "text/html": [
       "<div>\n",
       "<style scoped>\n",
       "    .dataframe tbody tr th:only-of-type {\n",
       "        vertical-align: middle;\n",
       "    }\n",
       "\n",
       "    .dataframe tbody tr th {\n",
       "        vertical-align: top;\n",
       "    }\n",
       "\n",
       "    .dataframe thead th {\n",
       "        text-align: right;\n",
       "    }\n",
       "</style>\n",
       "<table border=\"1\" class=\"dataframe\">\n",
       "  <thead>\n",
       "    <tr style=\"text-align: right;\">\n",
       "      <th></th>\n",
       "      <th>X</th>\n",
       "      <th>Y</th>\n",
       "      <th>OBJECTID</th>\n",
       "      <th>LOCNUM</th>\n",
       "      <th>CONAME</th>\n",
       "      <th>STREET</th>\n",
       "      <th>CITY</th>\n",
       "      <th>STATE</th>\n",
       "      <th>STATE_NAME</th>\n",
       "      <th>ZIP</th>\n",
       "      <th>...</th>\n",
       "      <th>FRNCOD</th>\n",
       "      <th>ISCODE</th>\n",
       "      <th>SQFTCODE</th>\n",
       "      <th>LOC_NAME</th>\n",
       "      <th>STATUS</th>\n",
       "      <th>SCORE</th>\n",
       "      <th>SOURCE</th>\n",
       "      <th>REC_TYPE</th>\n",
       "      <th>number_of_stores</th>\n",
       "      <th>geometry</th>\n",
       "    </tr>\n",
       "  </thead>\n",
       "  <tbody>\n",
       "    <tr>\n",
       "      <th>0</th>\n",
       "      <td>-121.9200</td>\n",
       "      <td>36.5479</td>\n",
       "      <td>3302270</td>\n",
       "      <td>414460173</td>\n",
       "      <td>BIO-CHEK LLC</td>\n",
       "      <td>JUNIPERO AVE</td>\n",
       "      <td>CARMEL</td>\n",
       "      <td>CA</td>\n",
       "      <td>California</td>\n",
       "      <td>93923</td>\n",
       "      <td>...</td>\n",
       "      <td>NaN</td>\n",
       "      <td>NaN</td>\n",
       "      <td>4.0</td>\n",
       "      <td>StreetName</td>\n",
       "      <td>M</td>\n",
       "      <td>100.0</td>\n",
       "      <td>INFOGROUP</td>\n",
       "      <td>0</td>\n",
       "      <td>1</td>\n",
       "      <td>POINT (-121.92000 36.54790)</td>\n",
       "    </tr>\n",
       "    <tr>\n",
       "      <th>1</th>\n",
       "      <td>-121.9227</td>\n",
       "      <td>36.5530</td>\n",
       "      <td>11234928</td>\n",
       "      <td>729045978</td>\n",
       "      <td>OLIVIER NAPA VALLEY</td>\n",
       "      <td>NW SAN CARLOS ON OCEAN</td>\n",
       "      <td>CARMEL</td>\n",
       "      <td>CA</td>\n",
       "      <td>California</td>\n",
       "      <td>93921</td>\n",
       "      <td>...</td>\n",
       "      <td>NaN</td>\n",
       "      <td>NaN</td>\n",
       "      <td>3.0</td>\n",
       "      <td>Postal</td>\n",
       "      <td>M</td>\n",
       "      <td>100.0</td>\n",
       "      <td>INFOGROUP</td>\n",
       "      <td>0</td>\n",
       "      <td>1</td>\n",
       "      <td>POINT (-121.92270 36.55300)</td>\n",
       "    </tr>\n",
       "    <tr>\n",
       "      <th>2</th>\n",
       "      <td>-121.8099</td>\n",
       "      <td>36.5236</td>\n",
       "      <td>12186144</td>\n",
       "      <td>830486544</td>\n",
       "      <td>SAFEWAY</td>\n",
       "      <td>MID VALLEY CTR</td>\n",
       "      <td>CARMEL</td>\n",
       "      <td>CA</td>\n",
       "      <td>California</td>\n",
       "      <td>93923</td>\n",
       "      <td>...</td>\n",
       "      <td>V</td>\n",
       "      <td>NaN</td>\n",
       "      <td>7.0</td>\n",
       "      <td>StreetAddress</td>\n",
       "      <td>M</td>\n",
       "      <td>100.0</td>\n",
       "      <td>INFOGROUP</td>\n",
       "      <td>0</td>\n",
       "      <td>1</td>\n",
       "      <td>POINT (-121.80990 36.52360)</td>\n",
       "    </tr>\n",
       "    <tr>\n",
       "      <th>3</th>\n",
       "      <td>-121.9105</td>\n",
       "      <td>36.5367</td>\n",
       "      <td>76567</td>\n",
       "      <td>101734812</td>\n",
       "      <td>SAFEWAY</td>\n",
       "      <td>THE CROSSROADS BLVD</td>\n",
       "      <td>CARMEL</td>\n",
       "      <td>CA</td>\n",
       "      <td>California</td>\n",
       "      <td>93923</td>\n",
       "      <td>...</td>\n",
       "      <td>V</td>\n",
       "      <td>NaN</td>\n",
       "      <td>7.0</td>\n",
       "      <td>StreetAddress</td>\n",
       "      <td>M</td>\n",
       "      <td>100.0</td>\n",
       "      <td>INFOGROUP</td>\n",
       "      <td>0</td>\n",
       "      <td>1</td>\n",
       "      <td>POINT (-121.91050 36.53670)</td>\n",
       "    </tr>\n",
       "    <tr>\n",
       "      <th>4</th>\n",
       "      <td>-121.9050</td>\n",
       "      <td>36.5426</td>\n",
       "      <td>1352100</td>\n",
       "      <td>259197937</td>\n",
       "      <td>SAVE MART</td>\n",
       "      <td>CARMEL RANCHO BLVD</td>\n",
       "      <td>CARMEL</td>\n",
       "      <td>CA</td>\n",
       "      <td>California</td>\n",
       "      <td>93923</td>\n",
       "      <td>...</td>\n",
       "      <td>2</td>\n",
       "      <td>NaN</td>\n",
       "      <td>8.0</td>\n",
       "      <td>StreetAddress</td>\n",
       "      <td>M</td>\n",
       "      <td>100.0</td>\n",
       "      <td>INFOGROUP</td>\n",
       "      <td>0</td>\n",
       "      <td>1</td>\n",
       "      <td>POINT (-121.90500 36.54260)</td>\n",
       "    </tr>\n",
       "  </tbody>\n",
       "</table>\n",
       "<p>5 rows × 28 columns</p>\n",
       "</div>"
      ],
      "text/plain": [
       "          X        Y  OBJECTID     LOCNUM               CONAME  \\\n",
       "0 -121.9200  36.5479   3302270  414460173         BIO-CHEK LLC   \n",
       "1 -121.9227  36.5530  11234928  729045978  OLIVIER NAPA VALLEY   \n",
       "2 -121.8099  36.5236  12186144  830486544              SAFEWAY   \n",
       "3 -121.9105  36.5367     76567  101734812              SAFEWAY   \n",
       "4 -121.9050  36.5426   1352100  259197937            SAVE MART   \n",
       "\n",
       "                   STREET    CITY STATE  STATE_NAME    ZIP  ...  FRNCOD  \\\n",
       "0            JUNIPERO AVE  CARMEL    CA  California  93923  ...     NaN   \n",
       "1  NW SAN CARLOS ON OCEAN  CARMEL    CA  California  93921  ...     NaN   \n",
       "2          MID VALLEY CTR  CARMEL    CA  California  93923  ...       V   \n",
       "3     THE CROSSROADS BLVD  CARMEL    CA  California  93923  ...       V   \n",
       "4      CARMEL RANCHO BLVD  CARMEL    CA  California  93923  ...       2   \n",
       "\n",
       "   ISCODE  SQFTCODE       LOC_NAME  STATUS  SCORE     SOURCE  REC_TYPE  \\\n",
       "0     NaN       4.0     StreetName       M  100.0  INFOGROUP         0   \n",
       "1     NaN       3.0         Postal       M  100.0  INFOGROUP         0   \n",
       "2     NaN       7.0  StreetAddress       M  100.0  INFOGROUP         0   \n",
       "3     NaN       7.0  StreetAddress       M  100.0  INFOGROUP         0   \n",
       "4     NaN       8.0  StreetAddress       M  100.0  INFOGROUP         0   \n",
       "\n",
       "  number_of_stores                     geometry  \n",
       "0                1  POINT (-121.92000 36.54790)  \n",
       "1                1  POINT (-121.92270 36.55300)  \n",
       "2                1  POINT (-121.80990 36.52360)  \n",
       "3                1  POINT (-121.91050 36.53670)  \n",
       "4                1  POINT (-121.90500 36.54260)  \n",
       "\n",
       "[5 rows x 28 columns]"
      ]
     },
     "execution_count": 43,
     "metadata": {},
     "output_type": "execute_result"
    }
   ],
   "source": [
    "# SOLUTION\n",
    "grocery_pts_df = pd.read_csv('notebook_data/other/ca_grocery_stores_2019_wgs84.csv')\n",
    "grocery_pts_df['number_of_stores'] = 1\n",
    "\n",
    "\n",
    "grocery_pts_gdf = gpd.GeoDataFrame(grocery_pts_df, \n",
    "                               geometry=gpd.points_from_xy(grocery_pts_df.X, grocery_pts_df.Y))\n",
    "grocery_pts_gdf.crs = \"epsg:4326\"\n",
    "grocery_pts_gdf.to_crs('epsg:4269',inplace=True)\n",
    "grocery_pts_gdf.head()"
   ]
  },
  {
   "cell_type": "code",
   "execution_count": 45,
   "metadata": {},
   "outputs": [],
   "source": [
    "# SOLUTION\n",
    "places_grocery_gdf = gpd.sjoin(berk_oak_pied, grocery_pts_gdf)\n",
    "\n",
    "places_grocery_counts_gdf= places_grocery_gdf[['GEOID','geometry','number_of_stores']].dissolve(by='GEOID', aggfunc=\"sum\", as_index=False)\n",
    "\n"
   ]
  },
  {
   "cell_type": "code",
   "execution_count": 46,
   "metadata": {},
   "outputs": [
    {
     "data": {
      "image/png": "[encoded data removed]",
      "text/plain": [
       "<Figure size 1008x576 with 1 Axes>"
      ]
     },
     "metadata": {
      "needs_background": "light"
     },
     "output_type": "display_data"
    }
   ],
   "source": [
    "# SOLUTION\n",
    "\n",
    "fig, ax = plt.subplots(figsize = (14,8)) \n",
    "\n",
    "# Display the output of our spatial join\n",
    "places_grocery_counts_gdf.plot(ax=ax,column='number_of_stores', \n",
    "                             scheme=\"quantiles\", \n",
    "                             cmap=\"PuBuGn\",\n",
    "                             edgecolor=\"grey\",\n",
    "                             legend=True, \n",
    "                             legend_kwds={'title':'Number of grocery stores'})\n",
    "\n",
    "plt.show()\n",
    "\n"
   ]
  },
  {
   "cell_type": "markdown",
   "metadata": {},
   "source": [
    "---\n",
    "<div style=\"display:inline-block;vertical-align:middle;\">\n",
    "<a href=\"https://dlab.berkeley.edu/\" target=\"_blank\"><img src =\"../assets/images/dlab_logo.png\" width=\"75\" align=\"left\">\n",
    "</a>\n",
    "</div>\n",
    "\n",
    "<div style=\"display:inline-block;vertical-align:middle;\">\n",
    "    <div style=\"font-size:larger\">&nbsp;D-Lab @ University of California - Berkeley</div>\n",
    "    <div>&nbsp;Team Geo<div>\n",
    "</div>\n",
    "        \n",
    "\n",
    "\n"
   ]
  }
 ],
 "metadata": {
  "kernelspec": {
   "display_name": "Python 3",
   "language": "python",
   "name": "python3"
  },
  "language_info": {
   "codemirror_mode": {
    "name": "ipython",
    "version": 3
   },
   "file_extension": ".py",
   "mimetype": "text/x-python",
   "name": "python",
   "nbconvert_exporter": "python",
   "pygments_lexer": "ipython3",
   "version": "3.8.3"
  }
 },
 "nbformat": 4,
 "nbformat_minor": 4
}
