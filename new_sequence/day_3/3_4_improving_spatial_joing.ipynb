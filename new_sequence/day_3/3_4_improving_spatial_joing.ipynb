{
 "cells": [
  {
   "cell_type": "markdown",
   "metadata": {},
   "source": [
    "## Improving our Spatial Join output Maps\n",
    "\n",
    "In some of the maps we made above we have add to address the issue that the census tract data are for all of Alameda County while the Permit data is for the City of Oakland.  We have worked with this by **zooming** into Oakland in our maps. However, the data for locations outside of Oakland are still displayed.\n",
    "\n",
    "Another way to address this is by reading in a boundary file for the city of Oakland and then mapping our data on top of that."
   ]
  },
  {
   "cell_type": "markdown",
   "metadata": {},
   "source": [
    "### City of Oakland data\n",
    "\n",
    "To do this we will load the boundary file for all census places in California."
   ]
  },
  {
   "cell_type": "code",
   "execution_count": null,
   "metadata": {
    "scrolled": true
   },
   "outputs": [],
   "source": [
    "places_gdf =  gpd.read_file(\"zip://../notebook_data/census/Places/cb_2018_06_place_500k.zip\")\n",
    "places_gdf.head(3)"
   ]
  },
  {
   "cell_type": "markdown",
   "metadata": {},
   "source": [
    "Subset the data to Oakland..."
   ]
  },
  {
   "cell_type": "code",
   "execution_count": null,
   "metadata": {},
   "outputs": [],
   "source": [
    "oakland_gdf = places_gdf.loc[places_gdf['NAME']=='Oakland'].copy().reset_index(drop=True) #subset\n"
   ]
  },
  {
   "cell_type": "markdown",
   "metadata": {},
   "source": [
    "And plot the data"
   ]
  },
  {
   "cell_type": "code",
   "execution_count": null,
   "metadata": {},
   "outputs": [],
   "source": [
    "oakland_gdf.plot();"
   ]
  },
  {
   "cell_type": "markdown",
   "metadata": {},
   "source": [
    "Now we can recreate our map of tracts with permits and display these on top of the city boundary. This will remove any gaps in the city where we do not have census tracts that contain permit locations."
   ]
  },
  {
   "cell_type": "code",
   "execution_count": null,
   "metadata": {},
   "outputs": [],
   "source": [
    "fig, ax = plt.subplots(figsize = (14,8)) \n",
    "\n",
    "# add city boundary\n",
    "oakland_gdf.plot(ax=ax, color=\"grey\", alpha=0.6) \n",
    "\n",
    "# Display the output of our spatial join\n",
    "tract_permit_counts_gdf.plot(ax=ax,column='units_permit', \n",
    "                             scheme=\"quantiles\", \n",
    "                             cmap=\"YlGnBu\",\n",
    "                             edgecolor=\"grey\",\n",
    "                             legend=True, )\n",
    "\n",
    "ax.set_title(\"Count of Permitted Units in Oakland by Census Tract\")\n",
    "ax.set_axis_off() \n",
    "plt.show()"
   ]
  },
  {
   "cell_type": "markdown",
   "metadata": {},
   "source": [
    "Now that we have are permit data aggregated to census tract, let's see how we can explore the relationship between the ACS data and the permit data.\n",
    "\n",
    "For example, let's see if there is any spatial relationship between the count of permitted units and the percent homeowners (`p_owners`) in the census tract.\n",
    "\n",
    "First, let's create a point dataset of our census tracts."
   ]
  },
  {
   "cell_type": "code",
   "execution_count": null,
   "metadata": {},
   "outputs": [],
   "source": [
    "tracts_acs_gdf_point = gpd.GeoDataFrame(tracts_acs_gdf.loc[:,tracts_acs_gdf.columns!='geometry'], \n",
    "                            geometry=tracts_acs_gdf.centroid)"
   ]
  },
  {
   "cell_type": "markdown",
   "metadata": {},
   "source": [
    "Now map the census tract points on top of our tract polygons symbolized by our variables of interest."
   ]
  },
  {
   "cell_type": "code",
   "execution_count": null,
   "metadata": {},
   "outputs": [],
   "source": [
    "fig, ax = plt.subplots(figsize = (14,8)) \n",
    "\n",
    "# add city boundary\n",
    "oakland_gdf.plot(ax=ax, color=\"grey\", alpha=0.6) \n",
    "\n",
    "# Display the output of our spatial join\n",
    "tract_permit_counts_gdf.plot(ax=ax,column='units_permit', \n",
    "                             scheme=\"quantiles\", \n",
    "                             cmap=\"YlGnBu\",\n",
    "                             edgecolor=\"grey\",\n",
    "                             legend=True, )\n",
    "\n",
    "# Display percent home owners\n",
    "tracts_acs_gdf_point.plot(ax=ax,column='p_owners', \n",
    "                             cmap=\"hot\",\n",
    "                             edgecolor=\"grey\",\n",
    "                             markersize=60,\n",
    "                             legend=True, )\n",
    "\n",
    "ax.set_title(\"Count of Permitted Units in Oakland by Census Tract\")\n",
    "ax.set_axis_off() \n",
    "plt.show()"
   ]
  },
  {
   "cell_type": "markdown",
   "metadata": {},
   "source": [
    "Well that's not as good as it could be!\n",
    "\n",
    "The census tract points are for the entire county but our tract polygons, output from `sjoin`, are only in Oakland.\n",
    "\n",
    "Let's **clip** the census tract points to the boundary of Oakland.\n",
    "\n",
    "### Clipping GeoDataFrames\n",
    "\n",
    "Clipping involves cutting out the features (or rows) in one geospatial dataset that spatially intersect the features of a polygon geospatial dataset. It is often called a cookie cutter operation. This is useful if we limit the information to a certain region. For example, if we want the census tracts for the city of Oakland we can clip the census tracts for the state to the boundary of that city.\n",
    "\n",
    "First, take a look at the Geopandas `clip` function documentation.\n",
    "- Clip requires both datasets to be in the same CRS. "
   ]
  },
  {
   "cell_type": "code",
   "execution_count": null,
   "metadata": {},
   "outputs": [],
   "source": [
    "# Uncomment to read\n",
    "#help(gpd.clip)"
   ]
  },
  {
   "cell_type": "markdown",
   "metadata": {},
   "source": [
    "Clip the census tract points to the boundary of Oakland."
   ]
  },
  {
   "cell_type": "code",
   "execution_count": null,
   "metadata": {},
   "outputs": [],
   "source": [
    "tracts_acs_gdf_point_clipped = gpd.clip(tracts_acs_gdf_point, oakland_gdf).reset_index(drop=True)"
   ]
  },
  {
   "cell_type": "markdown",
   "metadata": {},
   "source": [
    "Now, let's try that map again."
   ]
  },
  {
   "cell_type": "code",
   "execution_count": null,
   "metadata": {},
   "outputs": [],
   "source": [
    "fig, ax = plt.subplots(figsize = (14,8)) \n",
    "\n",
    "# add city boundary\n",
    "oakland_gdf.plot(ax=ax, color=\"grey\", alpha=0.6) \n",
    "\n",
    "# Display the output of our spatial join\n",
    "tract_permit_counts_gdf.plot(ax=ax,column='units_permit', \n",
    "                             scheme=\"quantiles\", \n",
    "                             cmap=\"Blues\",\n",
    "                             edgecolor=\"grey\",\n",
    "                             legend=True, \n",
    "                             legend_kwds={'title':'Permitted Units'})\n",
    "\n",
    "# Display percent home owners\n",
    "tracts_acs_gdf_point_clipped.plot(ax=ax,column='p_owners', \n",
    "                             cmap=\"Reds\",\n",
    "                             edgecolor=\"grey\",\n",
    "                             markersize=60,\n",
    "                             legend=True, \n",
    "                             legend_kwds={'label': 'Proportion of Home Owners'})\n",
    "\n",
    "ax.set_title(\"Count of Permitted Units in Oakland by Census Tract\")\n",
    "ax.set_axis_off() \n",
    "plt.show()"
   ]
  },
  {
   "cell_type": "markdown",
   "metadata": {},
   "source": [
    "Now that's better! This map seems to indicate that a larger number of permitted units can be found in areas with lower rates of home ownership.\n",
    "\n",
    "> `Clip` is a very common geometric data transformation. Check out the optional `Spatial Interpolation notebook` if you want to learn more."
   ]
  },
  {
   "cell_type": "markdown",
   "metadata": {},
   "source": [
    "### Any Questions?"
   ]
  },
  {
   "cell_type": "markdown",
   "metadata": {},
   "source": [
    "### Save your work!\n",
    "Save the files we created so we can reuse in subsequent notebooks."
   ]
  },
  {
   "cell_type": "code",
   "execution_count": null,
   "metadata": {},
   "outputs": [],
   "source": [
    "# Permit data joined to census tract ACS data\n",
    "tracts_and_permits_gdf.to_file(\"../outdata/tracts_and_permits_gdf.json\", driver=\"GeoJSON\")"
   ]
  },
  {
   "cell_type": "code",
   "execution_count": null,
   "metadata": {},
   "outputs": [],
   "source": [
    "# Tract ACS data joined to Permit date\n",
    "permits_and_tracts_gdf.to_file(\"../outdata/permits_and_tracts_gdf.json\",driver=\"GeoJSON\")"
   ]
  },
  {
   "cell_type": "code",
   "execution_count": null,
   "metadata": {},
   "outputs": [],
   "source": [
    "# City of Oakland boundary file\n",
    "oakland_gdf.to_file(\"../outdata/oakland_gdf.json\", driver=\"GeoJSON\")"
   ]
  },
  {
   "cell_type": "code",
   "execution_count": null,
   "metadata": {},
   "outputs": [],
   "source": [
    "## Improving our Spatial Join output Maps\n",
    "\n",
    "In some of the maps we made above we have add to address the issue that the census tract data are for all of Alameda County while the Permit data is for the City of Oakland.  We have worked with this by **zooming** into Oakland in our maps. However, the data for locations outside of Oakland are still displayed.\n",
    "\n",
    "Another way to address this is by reading in a boundary file for the city of Oakland and then mapping our data on top of that.\n",
    "\n",
    "### City of Oakland data\n",
    "\n",
    "To do this we will load the boundary file for all census places in California.\n",
    "\n",
    "places_gdf =  gpd.read_file(\"zip://../notebook_data/census/Places/cb_2018_06_place_500k.zip\")\n",
    "places_gdf.head(3)\n",
    "\n",
    "Subset the data to Oakland...\n",
    "\n",
    "oakland_gdf = places_gdf.loc[places_gdf['NAME']=='Oakland'].copy().reset_index(drop=True) #subset\n",
    "\n",
    "\n",
    "And plot the data\n",
    "\n",
    "oakland_gdf.plot();\n",
    "\n",
    "Now we can recreate our map of tracts with permits and display these on top of the city boundary. This will remove any gaps in the city where we do not have census tracts that contain permit locations.\n",
    "\n",
    "fig, ax = plt.subplots(figsize = (14,8)) \n",
    "\n",
    "# add city boundary\n",
    "oakland_gdf.plot(ax=ax, color=\"grey\", alpha=0.6) \n",
    "\n",
    "# Display the output of our spatial join\n",
    "tract_permit_counts_gdf.plot(ax=ax,column='units_permit', \n",
    "                             scheme=\"quantiles\", \n",
    "                             cmap=\"YlGnBu\",\n",
    "                             edgecolor=\"grey\",\n",
    "                             legend=True, )\n",
    "\n",
    "ax.set_title(\"Count of Permitted Units in Oakland by Census Tract\")\n",
    "ax.set_axis_off() \n",
    "plt.show()\n",
    "\n",
    "Now that we have are permit data aggregated to census tract, let's see how we can explore the relationship between the ACS data and the permit data.\n",
    "\n",
    "For example, let's see if there is any spatial relationship between the count of permitted units and the percent homeowners (`p_owners`) in the census tract.\n",
    "\n",
    "First, let's create a point dataset of our census tracts.\n",
    "\n",
    "tracts_acs_gdf_point = gpd.GeoDataFrame(tracts_acs_gdf.loc[:,tracts_acs_gdf.columns!='geometry'], \n",
    "                            geometry=tracts_acs_gdf.centroid)\n",
    "\n",
    "Now map the census tract points on top of our tract polygons symbolized by our variables of interest.\n",
    "\n",
    "fig, ax = plt.subplots(figsize = (14,8)) \n",
    "\n",
    "# add city boundary\n",
    "oakland_gdf.plot(ax=ax, color=\"grey\", alpha=0.6) \n",
    "\n",
    "# Display the output of our spatial join\n",
    "tract_permit_counts_gdf.plot(ax=ax,column='units_permit', \n",
    "                             scheme=\"quantiles\", \n",
    "                             cmap=\"YlGnBu\",\n",
    "                             edgecolor=\"grey\",\n",
    "                             legend=True, )\n",
    "\n",
    "# Display percent home owners\n",
    "tracts_acs_gdf_point.plot(ax=ax,column='p_owners', \n",
    "                             cmap=\"hot\",\n",
    "                             edgecolor=\"grey\",\n",
    "                             markersize=60,\n",
    "                             legend=True, )\n",
    "\n",
    "ax.set_title(\"Count of Permitted Units in Oakland by Census Tract\")\n",
    "ax.set_axis_off() \n",
    "plt.show()\n",
    "\n",
    "Well that's not as good as it could be!\n",
    "\n",
    "The census tract points are for the entire county but our tract polygons, output from `sjoin`, are only in Oakland.\n",
    "\n",
    "Let's **clip** the census tract points to the boundary of Oakland.\n",
    "\n",
    "### Clipping GeoDataFrames\n",
    "\n",
    "Clipping involves cutting out the features (or rows) in one geospatial dataset that spatially intersect the features of a polygon geospatial dataset. It is often called a cookie cutter operation. This is useful if we limit the information to a certain region. For example, if we want the census tracts for the city of Oakland we can clip the census tracts for the state to the boundary of that city.\n",
    "\n",
    "First, take a look at the Geopandas `clip` function documentation.\n",
    "- Clip requires both datasets to be in the same CRS. \n",
    "\n",
    "# Uncomment to read\n",
    "#help(gpd.clip)\n",
    "\n",
    "Clip the census tract points to the boundary of Oakland.\n",
    "\n",
    "tracts_acs_gdf_point_clipped = gpd.clip(tracts_acs_gdf_point, oakland_gdf).reset_index(drop=True)\n",
    "\n",
    "Now, let's try that map again.\n",
    "\n",
    "fig, ax = plt.subplots(figsize = (14,8)) \n",
    "\n",
    "# add city boundary\n",
    "oakland_gdf.plot(ax=ax, color=\"grey\", alpha=0.6) \n",
    "\n",
    "# Display the output of our spatial join\n",
    "tract_permit_counts_gdf.plot(ax=ax,column='units_permit', \n",
    "                             scheme=\"quantiles\", \n",
    "                             cmap=\"Blues\",\n",
    "                             edgecolor=\"grey\",\n",
    "                             legend=True, \n",
    "                             legend_kwds={'title':'Permitted Units'})\n",
    "\n",
    "# Display percent home owners\n",
    "tracts_acs_gdf_point_clipped.plot(ax=ax,column='p_owners', \n",
    "                             cmap=\"Reds\",\n",
    "                             edgecolor=\"grey\",\n",
    "                             markersize=60,\n",
    "                             legend=True, \n",
    "                             legend_kwds={'label': 'Proportion of Home Owners'})\n",
    "\n",
    "ax.set_title(\"Count of Permitted Units in Oakland by Census Tract\")\n",
    "ax.set_axis_off() \n",
    "plt.show()\n",
    "\n",
    "Now that's better! This map seems to indicate that a larger number of permitted units can be found in areas with lower rates of home ownership.\n",
    "\n",
    "> `Clip` is a very common geometric data transformation. Check out the optional `Spatial Interpolation notebook` if you want to learn more.\n",
    "\n",
    "### Any Questions?\n",
    "\n",
    "### Save your work!\n",
    "Save the files we created so we can reuse in subsequent notebooks.\n",
    "\n",
    "# Permit data joined to census tract ACS data\n",
    "tracts_and_permits_gdf.to_file(\"../outdata/tracts_and_permits_gdf.json\", driver=\"GeoJSON\")\n",
    "\n",
    "# Tract ACS data joined to Permit date\n",
    "permits_and_tracts_gdf.to_file(\"../outdata/permits_and_tracts_gdf.json\",driver=\"GeoJSON\")\n",
    "\n",
    "# City of Oakland boundary file\n",
    "oakland_gdf.to_file(\"../outdata/oakland_gdf.json\", driver=\"GeoJSON\")"
   ]
  }
 ],
 "metadata": {
  "kernelspec": {
   "display_name": "Python 3",
   "language": "python",
   "name": "python3"
  },
  "language_info": {
   "codemirror_mode": {
    "name": "ipython",
    "version": 3
   },
   "file_extension": ".py",
   "mimetype": "text/x-python",
   "name": "python",
   "nbconvert_exporter": "python",
   "pygments_lexer": "ipython3",
   "version": "3.7.4"
  }
 },
 "nbformat": 4,
 "nbformat_minor": 2
}
