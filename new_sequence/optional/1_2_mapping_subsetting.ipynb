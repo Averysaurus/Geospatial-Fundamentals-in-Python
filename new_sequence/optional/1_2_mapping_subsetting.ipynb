{
 "cells": [
  {
   "cell_type": "markdown",
   "metadata": {},
   "source": [
    "<a id=\"section3\"></a>\n",
    "## 1.3 Mapping the ACS Data\n",
    "\n",
    "In order to map the ACS data it needs to be geospatial data. Since the data are aggregated to census tracts, we will join the ACS data with the census tract geographic data for our county."
   ]
  },
  {
   "cell_type": "markdown",
   "metadata": {},
   "source": [
    "### About Census Geographic Data:\n",
    "\n",
    "There are two main types of census geographic data products: \n",
    "- TIGER/Line Files \n",
    "  - contain detailed geometry, big files\n",
    "  - not pretty for mapping\n",
    "  - good for spatial analysis\n",
    "  - have a `tl` (as in `T`IGER/`L`ine) in the filename when downloaded from Census web or FTP site.\n",
    "    - e.g., tl_2018_06_tract.zip\n",
    "    \n",
    "  \n",
    "- [Cartographic Boundary files](https://www.census.gov/programs-surveys/geography/technical-documentation/naming-convention/cartographic-boundary-file.html): \n",
    "  - smaller file sizes, \n",
    "  - made specifically for mapping,\n",
    "  - have a `cb` in the file name when downloaded from Census web or FTP site\n",
    "      - e.g., cb_2018_06_tract_500k.zip\n",
    "  - have a mapping resolution at the end of the file name, \n",
    "    - eg `_500k` files look best around 1:500K map scale\n",
    "  \n",
    "### Several ways to obtain Census Geographic data\n",
    "\n",
    "1. Fetch via API - although not all years may be available.\n",
    "2. Download from Census website or FTP site\n",
    "3. Download from another website like [NHGIS.org](https://nhgis.org)\n",
    "\n",
    "### What files should you download?\n",
    "\n",
    "Census tract geographic data files are updated frequently to improve the quality of the spatial data, but the most significant updates happen for all census geographies just before the decennial census.\n",
    "\n",
    "When mapping or spatially analyzing ACS 5 year data, download the geographic files with the same year as the end date as the ACS5 year data you are analyzing.\n",
    "\n",
    "For example, we can use the following URLs to download 2013 and 2018 census tracts for California.\n",
    "\n",
    "- Cartographic Boundary File for CA Census Tracts, 2013: [https://www2.census.gov/geo/tiger/GENZ2013/cb_2013_06_tract_500k.zip](https://www2.census.gov/geo/tiger/GENZ2013/cb_2013_06_tract_500k.zip)\n",
    "  - suitable for mapping ACS 5 year 2009 - 2013 data: \n",
    "\n",
    "\n",
    "- Cartographic Boundary File for CA Census Tracts, 2018: [https://www2.census.gov/geo/tiger/GENZ2018/shp/cb_2018_06_tract_500k.zip](https://www2.census.gov/geo/tiger/GENZ2018/shp/cb_2018_06_tract_500k.zip)\n",
    "  - suitable for mapping ACS 5 year 2014 - 2018 data: \n"
   ]
  },
  {
   "cell_type": "markdown",
   "metadata": {},
   "source": [
    "#### ESRI Shapefiles\n",
    "\n",
    "These census tract files are made available in the [ESRI Shapefile](https://en.wikipedia.org/wiki/Shapefile) format, along with other formats.\n",
    "\n",
    "An ESRI Shapefile is actually a collection of 3 to 9+ files that together are called a shapefile. Although this is a old file format with numerous limitations, it remains the most commonly used file format for vector spatial data. \n"
   ]
  },
  {
   "cell_type": "markdown",
   "metadata": {},
   "source": [
    "### Census tract data\n",
    "\n",
    "We are ready to read in the census tract data for CA using the Geopandas `read_file` function.\n",
    "\n",
    "- Specifially, we will read in the `2018 cartographic boundary files` for CA census tracts. "
   ]
  },
  {
   "cell_type": "code",
   "execution_count": null,
   "metadata": {},
   "outputs": [],
   "source": [
    "# Import CA census tracts data\n",
    "tracts_gdf = gpd.read_file(\"zip://../notebook_data/census/Tracts/cb_2018_06_tract_500k.zip\")"
   ]
  },
  {
   "cell_type": "markdown",
   "metadata": {},
   "source": [
    "And take a look..."
   ]
  },
  {
   "cell_type": "code",
   "execution_count": null,
   "metadata": {},
   "outputs": [],
   "source": [
    "tracts_gdf.head(2)"
   ]
  },
  {
   "cell_type": "markdown",
   "metadata": {},
   "source": [
    "### The GeoPandas GeoDataFrame\n",
    "\n",
    "A [GeoPandas GeoDataFrame](https://geopandas.org/data_structures.html#geodataframe), or `gdf` for short, is just like a pandas dataframe (`df`) but with an extra geometry column and methods & attributes that work on that column. I repeat because it's important:\n",
    "\n",
    "> `A GeoPandas GeoDataFrame is a pandas DataFrame with a geometry column and methods & attributes that work on that column.`\n",
    "\n",
    "> This means all the methods and attributes of a pandas DataFrame also work on a Geopandas GeoDataFrame!!\n"
   ]
  },
  {
   "cell_type": "markdown",
   "metadata": {},
   "source": [
    "How cool is that to see the geometry! Desktop GIS software like `QGIS` and `ArcGIS` hide the geometry from the user. Not so with GeoPandas. \n",
    "\n",
    "### Geopandas Geometries\n",
    "There are main types of geometries that can be associated with your geodataframe: points, lines and polygons:\n",
    "\n",
    "<img src =\"https://datacarpentry.org/organization-geospatial/fig/dc-spatial-vector/pnt_line_poly.png\" width=\"450\"></img>\n",
    "\n",
    "In the geodataframe these geometries are encoded in a format known as [Well-Known Text (WKT)](https://en.wikipedia.org/wiki/Well-known_text_representation_of_geometry). For example:\n",
    "\n",
    "> - POINT (30 10)\n",
    "> - LINESTRING (30 10, 10 30, 40 40)\n",
    "> - POLYGON ((30 10, 40 40, 20 40, 10 20, 30 10))\n",
    ">\n",
    "> *where coordinates are separated by a space and coordinate pairs by a comma*\n",
    "\n",
    "Your geodataframe may also include the variants **multipoints, multilines and multipolgyons** if the row-level feature of interest is comprised of multiple parts. For example, a geodataframe of states, where one row represents one state, would have POLYGON geometry for Utah but MULTIPOLYGON for Rhode Island, which includes many small islands.\n",
    "\n",
    "> It's ok to mix and match geometries of the same family, e.g., POLYGON and MULTIPOLYGON, in the same geodatafame.\n",
    "\n",
    "You can check the types of geometries in a geodataframe or a subset of the geodataframe by combining the `type` and `unique` methods.\n"
   ]
  },
  {
   "cell_type": "code",
   "execution_count": null,
   "metadata": {},
   "outputs": [],
   "source": [
    "tracts_gdf['geometry'].type.unique()"
   ]
  },
  {
   "cell_type": "markdown",
   "metadata": {},
   "source": [
    "### Plotting a Geodataframe\n",
    "Let's now go ahead and use the GeoPandas gdf `plot` method to map all of our tracts."
   ]
  },
  {
   "cell_type": "code",
   "execution_count": null,
   "metadata": {},
   "outputs": [],
   "source": [
    "# Plot the gdf\n",
    "tracts_gdf.plot()"
   ]
  },
  {
   "cell_type": "markdown",
   "metadata": {},
   "source": [
    "> ### Wow! How cool is that?"
   ]
  },
  {
   "cell_type": "markdown",
   "metadata": {},
   "source": [
    "### Select Census Tracts for Alameda County\n",
    "\n",
    "We want to subset the tracts to get the data for Alameda county. In order to do this, let's first check what variables we have and what the data looks like."
   ]
  },
  {
   "cell_type": "code",
   "execution_count": null,
   "metadata": {},
   "outputs": [],
   "source": [
    "tracts_gdf.head(3)"
   ]
  },
  {
   "cell_type": "code",
   "execution_count": null,
   "metadata": {},
   "outputs": [],
   "source": [
    "tracts_gdf.columns"
   ]
  },
  {
   "cell_type": "markdown",
   "metadata": {},
   "source": [
    "Here's what each variable means:\n",
    "- `STATEFP`: State FIPS code \n",
    "- `COUNTYFP`: County FIPS code\n",
    "- `TRACTCE`: Census tract code\n",
    "- `AFFGEOID`: Summary level code + geovariant code + '00US' + GEOID\n",
    "- `GEOID`:  Census tract identifier; a concatenation of Current state FIPS code, county FIPS code, and census tract code\n",
    "- `NAME`:  Census tract name\n",
    "- `LSAD`:  Legal/statistical description with the census tract name\n",
    "- `ALAND`: Area that is land, in square meters\n",
    "- `AWATER`:  Area that is water, in square meters\n",
    "- `geometry`: Geometry of tract"
   ]
  },
  {
   "cell_type": "markdown",
   "metadata": {},
   "source": [
    "Let's take a closer look at the county identifiers."
   ]
  },
  {
   "cell_type": "code",
   "execution_count": null,
   "metadata": {},
   "outputs": [],
   "source": [
    "# Are the county codes\n",
    "tracts_gdf['COUNTYFP'].unique()"
   ]
  },
  {
   "cell_type": "markdown",
   "metadata": {},
   "source": [
    "Since the county code for Alameda County is `001`, let's subset our data using that knowledge so we can focus on our area of interest."
   ]
  },
  {
   "cell_type": "code",
   "execution_count": null,
   "metadata": {
    "scrolled": true
   },
   "outputs": [],
   "source": [
    "tracts_gdf_ac = tracts_gdf[tracts_gdf['COUNTYFP']=='001']\n",
    "tracts_gdf_ac.plot()\n",
    "plt.show()"
   ]
  },
  {
   "cell_type": "markdown",
   "metadata": {},
   "source": [
    "Nice! Looks like we have what we were looking for.\n",
    "\n",
    "*FYI*: You can also make dynamic plots of one or more county without saving to a new gdf."
   ]
  },
  {
   "cell_type": "code",
   "execution_count": null,
   "metadata": {},
   "outputs": [],
   "source": [
    "# Dynamic plot of the census tracts for the 10 County Bay Area\n",
    "# Alameda, Contra Costa, Marin, Napa, San Francisco, San Mateo, Santa Clara, Santa Cruz, Solano, Sonoma\n",
    "tracts_gdf[tracts_gdf['COUNTYFP'].isin(['001','013','041','055','075','081', '085','087','095','097'])].plot()"
   ]
  },
  {
   "cell_type": "markdown",
   "metadata": {},
   "source": [
    "<img src =\"https://i.ytimg.com/vi/C9J1p6kO9VA/maxresdefault.jpg\" height=\"200\" width=\"800\">\n",
    "\n",
    "\n",
    "#### Exercise\n",
    "\n",
    "Now do this for the SF tracts data:\n",
    "1. Subset to SF county, assign to `tracts_gdf_sf`\n",
    "2. Plot the tracts \n",
    "3. <img src=\"http://www.pngall.com/wp-content/uploads/2016/03/Light-Bulb-Free-PNG-Image.png\" width=\"20\" align=left >  Answer this question: What's weird about our plot?"
   ]
  },
  {
   "cell_type": "code",
   "execution_count": null,
   "metadata": {},
   "outputs": [],
   "source": [
    "# Your code here"
   ]
  },
  {
   "cell_type": "markdown",
   "metadata": {},
   "source": [
    "*Click here for solution*\n",
    "\n",
    "<!--- \n",
    "    # SOLUTION\n",
    "    # 1. Subset to SF county, assign to `tracts_gdf_sf'\n",
    "    tracts_gdf_sf = tracts_gdf[tracts_gdf['COUNTYFP']=='075']\n",
    "    # 2. Plot\n",
    "    tracts_gdf_sf.plot()\n",
    "    plt.show()\n",
    "\n",
    "    # 3. Answer this question: What's weird about our plot?\n",
    "--->"
   ]
  },
  {
   "cell_type": "markdown",
   "metadata": {},
   "source": [
    "<img src =\"https://s.hdnux.com/photos/61/50/04/13009196/3/920x920.jpg\" height=\"400\" width=\"400\">\n",
    "\n",
    "Our SF tract map seems off because it includes the [Farallon Islands](https://en.wikipedia.org/wiki/Farallon_Islands). These are not inhabitated (so population=0)!"
   ]
  },
  {
   "cell_type": "code",
   "execution_count": null,
   "metadata": {},
   "outputs": [],
   "source": [
    "# 1. Subset to SF county, assign to `tracts_gdf_sf'\n",
    "tracts_gdf_sf = tracts_gdf[tracts_gdf['COUNTYFP']=='075']\n",
    "\n",
    "# 2. Plot\n",
    "tracts_gdf_sf.plot()\n"
   ]
  },
  {
   "cell_type": "markdown",
   "metadata": {},
   "source": [
    "Take a look at the gdf with `head` to see if we have a column to use to filter out the Farrallon Islands."
   ]
  },
  {
   "cell_type": "code",
   "execution_count": null,
   "metadata": {},
   "outputs": [],
   "source": [
    "tracts_gdf_sf.head(2)"
   ]
  },
  {
   "cell_type": "markdown",
   "metadata": {},
   "source": [
    "<a id=\"section4\"></a>\n",
    "## 1.4 Spatial Subsetting\n",
    "\n",
    "We could filter the Farallon Islands out if we knew their census tract geographic identifier, or `GEOID`.\n",
    "\n",
    "Geopandas offers another way. We can use the values in the `geometry` column to `spatially subset` our data.\n",
    "\n",
    "One way to do this with the geodataframe [cx](https://geopandas.org/indexing.html) method which spatially selects rows whose geometry intersects a specified bounding box."
   ]
  },
  {
   "cell_type": "code",
   "execution_count": null,
   "metadata": {},
   "outputs": [],
   "source": [
    "# Uncomment to view help docs\n",
    "#tracts_gdf_sf.cx?"
   ]
  },
  {
   "cell_type": "markdown",
   "metadata": {},
   "source": [
    "For the `cx` method we need to specify the bounding coordinates as follows:\n",
    "<pre>\n",
    "tracts_gdf_sf.cx[xmin:xmax, ymin:ymax]\n",
    "</pre>\n",
    "We can define a bounding box around the city of San Francisco to select only those census tracts.\n",
    "- You can find the coordinates for this bounding box by making a quick plot of the gdf."
   ]
  },
  {
   "cell_type": "code",
   "execution_count": null,
   "metadata": {},
   "outputs": [],
   "source": [
    "tracts_gdf_sf.plot()"
   ]
  },
  {
   "cell_type": "markdown",
   "metadata": {},
   "source": [
    "The coordinate bounds of the data are shown on the map X and Y axes.\n",
    "- The ymin (south) and ymax (north) coordinates look good, as does the xmax (east) coordinate. \n",
    "\n",
    "- The xmin (west) coordinate needs to be adjusted. \n",
    "\n",
    "You can try a few values before you spatially subset the data."
   ]
  },
  {
   "cell_type": "code",
   "execution_count": null,
   "metadata": {},
   "outputs": [],
   "source": [
    "tracts_gdf_sf.cx[-122.45:-122.35, 37.65:37.85].plot()"
   ]
  },
  {
   "cell_type": "markdown",
   "metadata": {},
   "source": [
    "That's not great. But what does it tell you about how `cx` works?\n",
    "\n",
    "Try this.."
   ]
  },
  {
   "cell_type": "code",
   "execution_count": null,
   "metadata": {},
   "outputs": [],
   "source": [
    "tracts_gdf_sf.cx[-122.8:-122.35, 37.65:37.85].plot()"
   ]
  },
  {
   "cell_type": "markdown",
   "metadata": {},
   "source": [
    "That looks good. When you are ready to subset, you can overwrite the input dataset.\n",
    "- If you make a mistake, that's ok. Just rerun the previous code to get the SF census tract data.\n",
    "\n",
    "When you are ready to save the clip..."
   ]
  },
  {
   "cell_type": "code",
   "execution_count": null,
   "metadata": {},
   "outputs": [],
   "source": [
    "tracts_gdf_sf= tracts_gdf_sf.cx[-122.8:-122.35, 37.65:37.85].copy().reset_index(drop=True)"
   ]
  },
  {
   "cell_type": "code",
   "execution_count": null,
   "metadata": {},
   "outputs": [],
   "source": [
    "# Take a look\n",
    "tracts_gdf_sf.plot()\n",
    "plt.show()"
   ]
  },
  {
   "cell_type": "markdown",
   "metadata": {},
   "source": [
    "Once we combine our tract data with the ACS data we can subset the data based on population greater than zero. \n",
    "\n",
    "But, with just the census tract columns, what could we use to subset the data to remove those tracts?"
   ]
  },
  {
   "cell_type": "markdown",
   "metadata": {},
   "source": [
    "<a id=\"section4\"></a>\n",
    "## 1.4 Spatial Subsetting\n",
    "\n",
    "We could filter the Farallon Islands out if we knew their census tract geographic identifier, or `GEOID`.\n",
    "\n",
    "Geopandas offers another way. We can use the values in the `geometry` column to `spatially subset` our data.\n",
    "\n",
    "One way to do this with the geodataframe [cx](https://geopandas.org/indexing.html) method which spatially selects rows whose geometry intersects a specified bounding box."
   ]
  },
  {
   "cell_type": "code",
   "execution_count": null,
   "metadata": {},
   "outputs": [],
   "source": [
    "# Uncomment to view help docs\n",
    "#tracts_gdf_sf.cx?"
   ]
  },
  {
   "cell_type": "markdown",
   "metadata": {},
   "source": [
    "For the `cx` method we need to specify the bounding coordinates as follows:\n",
    "<pre>\n",
    "tracts_gdf_sf.cx[xmin:xmax, ymin:ymax]\n",
    "</pre>\n",
    "We can define a bounding box around the city of San Francisco to select only those census tracts.\n",
    "- You can find the coordinates for this bounding box by making a quick plot of the gdf."
   ]
  },
  {
   "cell_type": "code",
   "execution_count": null,
   "metadata": {},
   "outputs": [],
   "source": [
    "tracts_gdf_sf.plot()"
   ]
  },
  {
   "cell_type": "markdown",
   "metadata": {},
   "source": [
    "The coordinate bounds of the data are shown on the map X and Y axes.\n",
    "- The ymin (south) and ymax (north) coordinates look good, as does the xmax (east) coordinate. \n",
    "\n",
    "- The xmin (west) coordinate needs to be adjusted. \n",
    "\n",
    "You can try a few values before you spatially subset the data."
   ]
  },
  {
   "cell_type": "code",
   "execution_count": null,
   "metadata": {},
   "outputs": [],
   "source": [
    "tracts_gdf_sf.cx[-122.45:-122.35, 37.65:37.85].plot()"
   ]
  },
  {
   "cell_type": "markdown",
   "metadata": {},
   "source": [
    "That's not great. But what does it tell you about how `cx` works?\n",
    "\n",
    "Try this.."
   ]
  },
  {
   "cell_type": "code",
   "execution_count": null,
   "metadata": {},
   "outputs": [],
   "source": [
    "tracts_gdf_sf.cx[-122.8:-122.35, 37.65:37.85].plot()"
   ]
  },
  {
   "cell_type": "markdown",
   "metadata": {},
   "source": [
    "That looks good. When you are ready to subset, you can overwrite the input dataset.\n",
    "- If you make a mistake, that's ok. Just rerun the previous code to get the SF census tract data.\n",
    "\n",
    "When you are ready to save the clip..."
   ]
  },
  {
   "cell_type": "code",
   "execution_count": null,
   "metadata": {},
   "outputs": [],
   "source": [
    "tracts_gdf_sf= tracts_gdf_sf.cx[-122.8:-122.35, 37.65:37.85].copy().reset_index(drop=True)"
   ]
  },
  {
   "cell_type": "code",
   "execution_count": null,
   "metadata": {},
   "outputs": [],
   "source": [
    "# Take a look\n",
    "tracts_gdf_sf.plot()\n",
    "plt.show()"
   ]
  }
 ],
 "metadata": {
  "kernelspec": {
   "display_name": "Python 3",
   "language": "python",
   "name": "python3"
  },
  "language_info": {
   "codemirror_mode": {
    "name": "ipython",
    "version": 3
   },
   "file_extension": ".py",
   "mimetype": "text/x-python",
   "name": "python",
   "nbconvert_exporter": "python",
   "pygments_lexer": "ipython3",
   "version": "3.7.4"
  }
 },
 "nbformat": 4,
 "nbformat_minor": 2
}
