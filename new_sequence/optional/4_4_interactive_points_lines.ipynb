{
 "cells": [
  {
   "cell_type": "markdown",
   "metadata": {},
   "source": [
    "<a id=\"section6\"></a>\n",
    "## 4.6 Mapping Points and Lines\n",
    "\n",
    "We can also add points and lines to a folium map.\n",
    "\n",
    "Let's overlay BART stations as points and BART lines as lines to the interactive map. For the Bay Area these are data are available from the [Metropoliton Transportation Commission (MTC) Open Data portal](http://opendata.mtc.ca.gov/datasets).\n",
    "\n",
    "We're going to try pulling in BART station data that we downloaded from the website and subsetted from the passenger-rail-stations. You can learn more about the dataset through here: http://opendata.mtc.ca.gov/datasets/passenger-rail-stations-2019\n",
    "\n",
    "As usual, let's try pulling in the data and inspect the first couple of rows."
   ]
  },
  {
   "cell_type": "code",
   "execution_count": null,
   "metadata": {},
   "outputs": [],
   "source": [
    "# Load light rail stop data\n",
    "railstops = gpd.read_file(\"zip://../notebook_data/transportation/Passenger_Rail_Stations_2019.zip\")  \n",
    "railstops.tail()"
   ]
  },
  {
   "cell_type": "code",
   "execution_count": null,
   "metadata": {},
   "outputs": [],
   "source": [
    "# Subset to keep just bart stations\n",
    "bart_stations = railstops[railstops['agencyname']=='BART'].sort_values(by=\"station_na\")\n",
    "bart_stations.head()"
   ]
  },
  {
   "cell_type": "code",
   "execution_count": null,
   "metadata": {},
   "outputs": [],
   "source": [
    "# Repeat for the rail lines\n",
    "rail_lines = gpd.read_file(\"zip://../notebook_data/transportation/Passenger_Railways_2019.zip\")  \n",
    "rail_lines.head()"
   ]
  },
  {
   "cell_type": "code",
   "execution_count": null,
   "metadata": {},
   "outputs": [],
   "source": [
    "rail_lines.operator.value_counts()"
   ]
  },
  {
   "cell_type": "code",
   "execution_count": null,
   "metadata": {},
   "outputs": [],
   "source": [
    "# subset by operator to get the bart lines\n",
    "bart_lines = rail_lines[rail_lines['operator']=='BART']"
   ]
  },
  {
   "cell_type": "code",
   "execution_count": null,
   "metadata": {
    "scrolled": true
   },
   "outputs": [],
   "source": [
    "# Check the CRS of the geodataframes\n",
    "print(bart_stations.crs)\n",
    "print(bart_lines.crs)"
   ]
  },
  {
   "cell_type": "code",
   "execution_count": null,
   "metadata": {},
   "outputs": [],
   "source": [
    "# Quick plot\n",
    "bart_stations.plot()\n",
    "bart_lines.plot()"
   ]
  },
  {
   "cell_type": "markdown",
   "metadata": {},
   "source": [
    "Now that we have fetched and checked the Bart data, let's do a quick folium map with it.\n",
    "\n",
    "We will use `folium.GeoJson` to add these data to the map, just as we used it previously for the census tract polygons."
   ]
  },
  {
   "cell_type": "code",
   "execution_count": null,
   "metadata": {},
   "outputs": [],
   "source": [
    "# Bart Map\n",
    "map4 = folium.Map(location=[bart_stations.centroid.y.mean(), bart_stations.centroid.x.mean()], \n",
    "                  tiles='CartoDB Positron',\n",
    "                  width=800,height=600,\n",
    "                  zoom_start=10)\n",
    "\n",
    "\n",
    "folium.GeoJson(bart_lines).add_to(map4)\n",
    "\n",
    "folium.GeoJson(bart_stations).add_to(map4)\n",
    "\n",
    "\n",
    "map4  # show map"
   ]
  },
  {
   "cell_type": "markdown",
   "metadata": {},
   "source": [
    "We can also add tooltips, just as we did previously."
   ]
  },
  {
   "cell_type": "code",
   "execution_count": null,
   "metadata": {},
   "outputs": [],
   "source": [
    "# Bart Map\n",
    "map4 = folium.Map(location=[bart_stations.centroid.y.mean(), bart_stations.centroid.x.mean()], \n",
    "                  tiles='CartoDB Positron',\n",
    "                  #width=800,height=600,\n",
    "                  zoom_start=10)\n",
    "\n",
    "# Add Bart lines\n",
    "folium.GeoJson(bart_lines,\n",
    "               tooltip=folium.GeoJsonTooltip(\n",
    "                   fields=['operator' ],\n",
    "                   aliases=['Line operator'],\n",
    "                   labels=True,\n",
    "                   localize=True\n",
    "               ),\n",
    "              ).add_to(map4)\n",
    "\n",
    "# Add Bart stations\n",
    "folium.GeoJson(bart_stations,\n",
    "              tooltip=folium.GeoJsonTooltip(fields=['ts_locatio'], \n",
    "                   aliases=['Stop Name'],\n",
    "                   labels=True,\n",
    "                   localize=True\n",
    "               ),\n",
    "              ).add_to(map4)\n",
    "\n",
    "\n",
    "map4  # show map"
   ]
  },
  {
   "cell_type": "markdown",
   "metadata": {},
   "source": [
    "That's pretty cool, but don't you just want to click on those marker points to get a `popup` rather than hovering over for a `tooltip`?"
   ]
  },
  {
   "cell_type": "markdown",
   "metadata": {},
   "source": [
    "### Mapping Points\n",
    "\n",
    "So far we have used `folium.GeoJson` to map our BART points. By default this uses the push-pin marker symbology made popular by Google Maps. \n",
    "\n",
    "Under the hood, folium.GeoJson uses the default object type `folium.Marker` when the input data are points.\n",
    "\n",
    "This is helpful to know because `folium.Marker` has a few options that allow further customization of our points."
   ]
  },
  {
   "cell_type": "code",
   "execution_count": null,
   "metadata": {},
   "outputs": [],
   "source": [
    "# Uncomment to view help docs\n",
    "#folium.Marker?"
   ]
  },
  {
   "cell_type": "markdown",
   "metadata": {},
   "source": [
    "Let's explicitly add the Bart Stations as points so we can change the `tooltips` to `popups`."
   ]
  },
  {
   "cell_type": "code",
   "execution_count": null,
   "metadata": {
    "scrolled": false
   },
   "outputs": [],
   "source": [
    "# Bart Map\n",
    "map4 = folium.Map(location=[bart_stations.centroid.y.mean(), bart_stations.centroid.x.mean()], \n",
    "                  tiles='CartoDB Positron',\n",
    "                  #width=800,height=800,\n",
    "                  zoom_start=10)\n",
    "\n",
    "# Add Bart lines\n",
    "folium.GeoJson(bart_lines,\n",
    "               tooltip=folium.GeoJsonTooltip(\n",
    "                   fields=['operator' ],\n",
    "                   aliases=['Line operator'],\n",
    "                   labels=True,\n",
    "                   localize=True\n",
    "               ),\n",
    "              ).add_to(map4)\n",
    "\n",
    "# Add Bart stations\n",
    "bart_stations.apply(lambda row:\n",
    "                        folium.Marker(\n",
    "                                  location=[row['geometry'].y, row['geometry'].x],\n",
    "                                  popup=row['ts_locatio'],\n",
    "                                 ).add_to(map4), axis=1)\n",
    "\n",
    "map4  # show map"
   ]
  },
  {
   "cell_type": "markdown",
   "metadata": {},
   "source": [
    "That `folium.Marker` code is a bit more complex than `folium.GeoJson` and may not be worth it unless you really want that popup behavior.\n",
    "\n",
    "But let's see what else we can do with a `folium.Marker` by viewing the next map."
   ]
  },
  {
   "cell_type": "code",
   "execution_count": null,
   "metadata": {},
   "outputs": [],
   "source": [
    "# Bart Map\n",
    "map4 = folium.Map(location=[bart_stations.centroid.y.mean(), bart_stations.centroid.x.mean()], \n",
    "                  tiles='CartoDB Positron',\n",
    "                  #width=800,height=600,\n",
    "                  zoom_start=10)\n",
    "\n",
    "# Add BART lines\n",
    "folium.GeoJson(bart_lines,\n",
    "               tooltip=folium.GeoJsonTooltip(\n",
    "                   fields=['operator' ],\n",
    "                   aliases=['Line operator'],\n",
    "                   labels=True,\n",
    "                   localize=True\n",
    "               ),\n",
    "              ).add_to(map4)\n",
    "\n",
    "# Add BART Stations\n",
    "icon_url = \"https://gomentumstation.net/wp-content/uploads/2018/08/Bay-area-rapid-transit-1000.png\"\n",
    "bart_stations.apply(lambda row:\n",
    "                        folium.Marker(\n",
    "                                  location=[row['geometry'].y,row['geometry'].x],\n",
    "                                  popup=row['ts_locatio'],\n",
    "                                  icon=folium.features.CustomIcon(icon_url,icon_size=(20, 20)),\n",
    "                                 ).add_to(map4), axis=1)\n",
    "\n",
    "map4  # show map"
   ]
  },
  {
   "cell_type": "markdown",
   "metadata": {},
   "source": [
    "#### Exercise\n",
    "\n",
    "Copy and paste the code for the previous cell into the next cell and \n",
    "1. change the bart icon to \"https://ya-webdesign.com/transparent450_/train-emoji-png-14.png\"\n",
    "2. change the popup back to a tooltip."
   ]
  },
  {
   "cell_type": "code",
   "execution_count": null,
   "metadata": {},
   "outputs": [],
   "source": [
    "# Your code here"
   ]
  },
  {
   "cell_type": "markdown",
   "metadata": {},
   "source": [
    "*Click here for solution*\n",
    "\n",
    "<!---\n",
    "# Bart Map\n",
    "map4 = folium.Map(location=[bart_stations.centroid.y.mean(), bart_stations.centroid.x.mean()], \n",
    "                  tiles='CartoDB Positron',\n",
    "                  #width=800,height=600,\n",
    "                  zoom_start=10)\n",
    "\n",
    "# Add BART lines\n",
    "folium.GeoJson(bart_lines,\n",
    "               tooltip=folium.GeoJsonTooltip(\n",
    "                   fields=['operator' ],\n",
    "                   aliases=['Line operator'],\n",
    "                   labels=True,\n",
    "                   localize=True\n",
    "               ),\n",
    "              ).add_to(map4)\n",
    "\n",
    "# Add BART Stations\n",
    "icon_url = \"https://ya-webdesign.com/transparent450_/train-emoji-png-14.png\"\n",
    "bart_stations.apply(lambda row:\n",
    "                        folium.Marker(\n",
    "                                  location=[row['geometry'].y,row['geometry'].x],\n",
    "                                  tooltip=row['ts_locatio'],\n",
    "                                  icon=folium.features.CustomIcon(icon_url,icon_size=(20, 20)),\n",
    "                                 ).add_to(map4), axis=1)\n",
    "\n",
    "map4  # show map\n",
    "--->"
   ]
  },
  {
   "cell_type": "markdown",
   "metadata": {},
   "source": [
    "### folium.CircleMarkers\n",
    "\n",
    "You may prefer to customize points as `CircleMarkers` instead of the icon or pushpin Marker style. This allows you to set size and color of a marker, either manually or as a function of a data variable.\n",
    "\n",
    "Let's look at some code for doing this."
   ]
  },
  {
   "cell_type": "code",
   "execution_count": null,
   "metadata": {},
   "outputs": [],
   "source": [
    "# Define the basemap\n",
    "map5 = folium.Map(location=[bart_stations.centroid.y.mean(), bart_stations.centroid.x.mean()],   # lat, lon around which to center the map\n",
    "                 tiles='CartoDB Positron',\n",
    "                 #width=1000,                        # the width & height of the output map\n",
    "                 #height=600,                       # in pixels\n",
    "                 zoom_start=10)                    # the zoom level for the data to be displayed\n",
    "\n",
    "# Add BART Lines\n",
    "folium.GeoJson(bart_lines).add_to(map5)\n",
    "\n",
    "\n",
    "# Add BART Stations\n",
    "bart_stations.apply(lambda row:\n",
    "                        folium.CircleMarker(\n",
    "                                  location=[row['geometry'].y, row['geometry'].x],\n",
    "                                  radius=10,\n",
    "                                  color='purple',\n",
    "                                  fill=True,\n",
    "                                  fill_color='purple',\n",
    "                                  popup=row['ts_locatio'],\n",
    "                                 ).add_to(map5), \n",
    "                         axis=1)\n",
    "\n",
    "\n",
    "map5\n"
   ]
  },
  {
   "cell_type": "markdown",
   "metadata": {},
   "source": [
    "### folium.Circle \n",
    "\n",
    "You can also set the size of your circles to a fixed radius, in meters, using `folium.Circle`.  This is great for exploratory data analysis. For example, you can see what the census tract values are within 500 meters of a BART station."
   ]
  },
  {
   "cell_type": "code",
   "execution_count": null,
   "metadata": {},
   "outputs": [],
   "source": [
    "# Uncomment to view\n",
    "#?folium.Circle"
   ]
  },
  {
   "cell_type": "code",
   "execution_count": null,
   "metadata": {},
   "outputs": [],
   "source": [
    "# Define the basemap\n",
    "map5 = folium.Map(location=[bart_stations.centroid.y.mean(), bart_stations.centroid.x.mean()],   # lat, lon around which to center the map\n",
    "                 tiles='CartoDB Positron',\n",
    "                 #width=1000,                        # the width & height of the output map\n",
    "                 #height=600,                       # in pixels\n",
    "                 zoom_start=10)                    # the zoom level for the data to be displayed\n",
    "\n",
    "# Add BART Lines\n",
    "folium.GeoJson(bart_lines).add_to(map5)\n",
    "\n",
    "\n",
    "# Add BART Stations\n",
    "bart_stations.apply(lambda row:\n",
    "                        folium.Circle(\n",
    "                                  location=[row['geometry'].y, row['geometry'].x],\n",
    "                                  radius=500,\n",
    "                                  color='purple',\n",
    "                                  fill=True,\n",
    "                                  fill_color='purple',\n",
    "                                  popup=row['ts_locatio'],\n",
    "                                 ).add_to(map5), \n",
    "                         axis=1)\n",
    "\n",
    "\n",
    "map5\n"
   ]
  },
  {
   "cell_type": "markdown",
   "metadata": {},
   "source": [
    "<div style=\"display:inline-block;vertical-align:top;\">\n",
    "    <img src=\"http://www.pngall.com/wp-content/uploads/2016/03/Light-Bulb-Free-PNG-Image.png\" width=\"30\" align=left > \n",
    "</div>  \n",
    "<div style=\"display:inline-block;\">\n",
    "\n",
    "#### Question\n",
    "</div>\n",
    "\n",
    "What do you notice about the size of the circles as you zoom in/out when you compare folium.Circles and folium.CircleMarkers?"
   ]
  },
  {
   "cell_type": "markdown",
   "metadata": {},
   "source": [
    "### Proportional Symbol Maps\n",
    "\n",
    "One of the advantages of the `folium.CircleMarker` is that we can set the size of the map to vary based on a data value.\n",
    "\n",
    "To give this a try, let's add a fake column to the `bart_stations` gdf called millions_served and set it to a value between 1 and 10."
   ]
  },
  {
   "cell_type": "code",
   "execution_count": null,
   "metadata": {},
   "outputs": [],
   "source": [
    "# add a column to the bart stations gdf\n",
    "bart_stations['millions_served'] = np.random.randint(1,10, size=len(bart_stations))\n",
    "bart_stations.head()"
   ]
  },
  {
   "cell_type": "code",
   "execution_count": null,
   "metadata": {},
   "outputs": [],
   "source": [
    "# Define the basemap\n",
    "map5 = folium.Map(location=[bart_stations.centroid.y.mean(), bart_stations.centroid.x.mean()],\n",
    "                 tiles='CartoDB Positron',\n",
    "                 #width=1000,                        # the width & height of the output map\n",
    "                 #height=600,                       # in pixels\n",
    "                 zoom_start=10)                    # the zoom level for the data to be displayed\n",
    "\n",
    "folium.GeoJson(bart_lines).add_to(map5)\n",
    "\n",
    "# Add BART Stations as CircleMarkers\n",
    "# Here, some knowlege of Python string formatting is useful\n",
    "bart_stations.apply(lambda row:\n",
    "                        folium.CircleMarker(\n",
    "                                  location=[row['geometry'].y, row['geometry'].x],\n",
    "                                  radius=row['millions_served'],\n",
    "                                  color='purple',\n",
    "                                  fill=True,\n",
    "                                  fill_color='purple',\n",
    "                                  tooltip = \"Bart Station: %s<br>Millions served: %s\" % (row['ts_locatio'], row['millions_served'])\n",
    "                    \n",
    "                                 ).add_to(map5), axis=1)\n",
    "map5\n"
   ]
  },
  {
   "cell_type": "markdown",
   "metadata": {},
   "source": [
    "So if you hover over our BART stations, you see that we've formatted it nicely! Using some HTML and Python string formatting we can make our `tooltip` easier to read. \n",
    "\n",
    "If you want to learn more about customizing these, you can [go check this out to learn HTML basics](https://www.w3schools.com/html/html_basic.asp).  You can then [go here to learn about Python string formatting](https://python-reference.readthedocs.io/en/latest/docs/str/formatting.html)."
   ]
  },
  {
   "cell_type": "code",
   "execution_count": null,
   "metadata": {},
   "outputs": [],
   "source": []
  }
 ],
 "metadata": {
  "kernelspec": {
   "display_name": "Python 3",
   "language": "python",
   "name": "python3"
  }
 },
 "nbformat": 4,
 "nbformat_minor": 2
}
