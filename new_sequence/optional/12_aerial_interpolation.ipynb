{
 "cells": [
  {
   "cell_type": "markdown",
   "metadata": {},
   "source": [
    "# Optional: Spatial Clipping and Areal Interpolation\n",
    "In this optional notebook we will cover clipping and areal interpolation.\n",
    "\n",
    "- [6.1 Introduction ](#section1)\n",
    "- [6.2 Load Census Data](#section2)\n",
    "- [6.3  Clipping](#section3)\n",
    "- [6.4  Areal Interpolation](#section4)\n",
    "\n",
    "**Instructor Notes**:\n",
    "- Datasets used:\n",
    "    - notebook_data/census/Tracts/cb_2018_06_tract_500k.zip\n",
    "    - notebook_data/census/ACS5yr/census_variables_CA_2018.csv\n",
    "    - notebook_data/census/Places/cb_2018_06_place_500k.zip\n",
    "\n",
    "\n",
    "- Expected time to complete:\n",
    "    - 1 hour"
   ]
  },
  {
   "cell_type": "markdown",
   "metadata": {},
   "source": [
    "<a id=\"section1\"></a>\n",
    "## 6.1 Introduction\n",
    "\n",
    "**Clipping** and **areal interpolation** are both useful and important skills for combining different datasets. \n",
    "\n",
    "`Clipping` involves cutting out the features (or rows) in one geospatial dataset that spatially intersect the features of a polygon geospatial dataset.  This is useful if we limit the information to a certain region.  For example, if we want the census tracts for the city of Oakland we can clip the census tracts for the state to the boundary of that city.\n",
    "\n",
    "<img src = \"./img/oak_tracts_clip.png\">\n",
    "\n",
    "Clipping will cut input geometries that cross the boundary of the clip geometry. For example, if a census tract crosses Oakland boundary it will be clipped to the boundary, cookie-cutter style. However, clipping does not alter the input attribute data. For example, if a census tract is clipped in half, it will still maintain the same value for all attributes, e.g., total population. \n",
    "\n",
    "  \n",
    "`Areal Interpolation`, on the other hand, uses **area weighting** to reaggregate data from one geometry to another. Using the example above, if a census tract in Oakland were clipped in half, then areal interpolation would assign half the total population to it.\n",
    "\n",
    "Great, now that you have a sense of these two methods, let's cover what our goal is in this notebook. We will **clip our census tract data to a city boundary and then interpolate the ACS5 values for those clipped tracts**."
   ]
  },
  {
   "cell_type": "markdown",
   "metadata": {},
   "source": [
    "### Set-Up\n",
    "Let's import the packages we need before we get started."
   ]
  },
  {
   "cell_type": "code",
   "execution_count": 1,
   "metadata": {},
   "outputs": [],
   "source": [
    "import math\n",
    "import numpy as np\n",
    "import pandas as pd\n",
    " \n",
    "import geopandas as gpd\n",
    "\n",
    "# Ignore warning about missing/empty geometries\n",
    "import warnings\n",
    "warnings.filterwarnings('ignore', 'GeoSeries.notna', UserWarning)\n",
    "\n",
    "import matplotlib # base python plotting library\n",
    "%matplotlib inline  \n",
    "import matplotlib.pyplot as plt # more plotting stuff "
   ]
  },
  {
   "cell_type": "markdown",
   "metadata": {},
   "source": [
    "We'll also be using the following from `tobler`, which is a library for areal interpolation and dasymetric mapping. You can find out more here: https://pysal.org/tobler/index.html"
   ]
  },
  {
   "cell_type": "code",
   "execution_count": 2,
   "metadata": {},
   "outputs": [
    {
     "ename": "ImportError",
     "evalue": "cannot import name 'area_tables' from 'tobler.area_weighted' (/opt/anaconda3/lib/python3.8/site-packages/tobler/area_weighted/__init__.py)",
     "output_type": "error",
     "traceback": [
      "\u001b[0;31m---------------------------------------------------------------------------\u001b[0m",
      "\u001b[0;31mImportError\u001b[0m                               Traceback (most recent call last)",
      "\u001b[0;32m<ipython-input-2-47d4ea58847a>\u001b[0m in \u001b[0;36m<module>\u001b[0;34m\u001b[0m\n\u001b[1;32m      1\u001b[0m \u001b[0;31m# For area weighted interpolation\u001b[0m\u001b[0;34m\u001b[0m\u001b[0;34m\u001b[0m\u001b[0;34m\u001b[0m\u001b[0m\n\u001b[1;32m      2\u001b[0m \u001b[0;32mfrom\u001b[0m \u001b[0mtobler\u001b[0m \u001b[0;32mimport\u001b[0m \u001b[0marea_weighted\u001b[0m\u001b[0;34m\u001b[0m\u001b[0;34m\u001b[0m\u001b[0m\n\u001b[0;32m----> 3\u001b[0;31m \u001b[0;32mfrom\u001b[0m \u001b[0mtobler\u001b[0m\u001b[0;34m.\u001b[0m\u001b[0marea_weighted\u001b[0m \u001b[0;32mimport\u001b[0m \u001b[0marea_interpolate\u001b[0m\u001b[0;34m,\u001b[0m \u001b[0marea_tables\u001b[0m\u001b[0;34m\u001b[0m\u001b[0;34m\u001b[0m\u001b[0m\n\u001b[0m",
      "\u001b[0;31mImportError\u001b[0m: cannot import name 'area_tables' from 'tobler.area_weighted' (/opt/anaconda3/lib/python3.8/site-packages/tobler/area_weighted/__init__.py)"
     ]
    }
   ],
   "source": [
    "# For area weighted interpolation\n",
    "from tobler import area_weighted\n",
    "from tobler.area_weighted import area_interpolate, area_tables"
   ]
  },
  {
   "cell_type": "markdown",
   "metadata": {},
   "source": [
    "<a id=\"section2\"></a>\n",
    "## 6.2 Load the Data\n"
   ]
  },
  {
   "cell_type": "markdown",
   "metadata": {},
   "source": [
    "First, Let's read in the census geographic data and census ACS5 data for the state."
   ]
  },
  {
   "cell_type": "code",
   "execution_count": null,
   "metadata": {},
   "outputs": [],
   "source": [
    "# Our data\n",
    "tract_data = \"zip://../notebook_data/census/Tracts/cb_2018_06_tract_500k.zip\"\n",
    "acs5_data = \"../notebook_data/census/ACS5yr/census_variables_CA_2018.csv\"\n",
    "places_data = \"zip://../notebook_data/census/Places/cb_2018_06_place_500k.zip\"\n"
   ]
  },
  {
   "cell_type": "code",
   "execution_count": null,
   "metadata": {},
   "outputs": [],
   "source": [
    "# Read in the census tracts for all of California \n",
    "# setting Census Tract Identifier GEOID to a string so as not to lose leading zeros\n",
    "tracts_gdf = gpd.read_file(tract_data, dtype={\"GEOID\":str})"
   ]
  },
  {
   "cell_type": "code",
   "execution_count": null,
   "metadata": {},
   "outputs": [],
   "source": [
    "tracts_gdf.head(2)"
   ]
  },
  {
   "cell_type": "code",
   "execution_count": null,
   "metadata": {},
   "outputs": [],
   "source": [
    "# Read in our ACS5 data for CA\n",
    "acs5_df = pd.read_csv(acs5_data, dtype={\"FIPS_11_digit\": str})"
   ]
  },
  {
   "cell_type": "code",
   "execution_count": null,
   "metadata": {},
   "outputs": [],
   "source": [
    "# Take a look at the rows\n",
    "acs5_df.head(2)"
   ]
  },
  {
   "cell_type": "markdown",
   "metadata": {},
   "source": [
    "### Join the ACS data to the census tracts"
   ]
  },
  {
   "cell_type": "code",
   "execution_count": null,
   "metadata": {},
   "outputs": [],
   "source": [
    "acs5_tracts_gdf = tracts_gdf.merge(acs5_df, how=\"left\", left_on=\"GEOID\", right_on=\"FIPS_11_digit\")"
   ]
  },
  {
   "cell_type": "code",
   "execution_count": null,
   "metadata": {},
   "outputs": [],
   "source": [
    "acs5_tracts_gdf.head(2)"
   ]
  },
  {
   "cell_type": "markdown",
   "metadata": {},
   "source": [
    "Plot the output census tract data, creating a choropleth map of one ACS5 variable."
   ]
  },
  {
   "cell_type": "code",
   "execution_count": null,
   "metadata": {},
   "outputs": [],
   "source": [
    "acs5_tracts_gdf.plot(column=\"p_white\", legend=True)"
   ]
  },
  {
   "cell_type": "markdown",
   "metadata": {},
   "source": [
    "We now have our 2018 ACS 5 year data for all of California. Our goal is to subset these so that we only have this data for our city of interest. \n",
    "\n",
    "\n",
    "### Census Places\n",
    "\n",
    "Census places identify, in general, populated communities. This includes incorporated cities, towns and villages (legal entities) and Census Designated Places (populated areas that lack separate government, but are useful for statistical purposes). So census places are statistical areas that may not completely align with our administrative/legal city boundaries. But they are a useful proxy.\n",
    "\n",
    "Read in the census place data."
   ]
  },
  {
   "cell_type": "code",
   "execution_count": null,
   "metadata": {},
   "outputs": [],
   "source": [
    "places_gdf = gpd.read_file(places_data)\n",
    "places_gdf.head()"
   ]
  },
  {
   "cell_type": "markdown",
   "metadata": {},
   "source": [
    "Subset to select our city of interest which is Oakland, CA for this example."
   ]
  },
  {
   "cell_type": "code",
   "execution_count": null,
   "metadata": {},
   "outputs": [],
   "source": [
    "city_name = 'Oakland'\n",
    "oakland_gdf = places_gdf[places_gdf['NAME']==city_name].reset_index(drop=True)\n",
    "oakland_gdf.plot()"
   ]
  },
  {
   "cell_type": "markdown",
   "metadata": {},
   "source": [
    "Take a look at the geodataframe. It has only one row which makes sense for this data."
   ]
  },
  {
   "cell_type": "code",
   "execution_count": null,
   "metadata": {},
   "outputs": [],
   "source": [
    "oakland_gdf.head()"
   ]
  },
  {
   "cell_type": "markdown",
   "metadata": {},
   "source": [
    "<a id=\"section3\"></a>\n",
    "## 6.3 Clipping\n",
    "\n",
    "Clipping allows us to clip one geometry by another. For example, we can clip the `acs5_tracts_gdf` geodataframe to a city boundary.\n",
    "\n",
    "First, take a look at the function documentation or check the Geopandas web page."
   ]
  },
  {
   "cell_type": "code",
   "execution_count": null,
   "metadata": {},
   "outputs": [],
   "source": [
    "# Uncomment to view\n",
    "#gpd.clip?"
   ]
  },
  {
   "cell_type": "markdown",
   "metadata": {},
   "source": [
    "**Clip Order matters**: clip the first geometry by the second geometry!"
   ]
  },
  {
   "cell_type": "code",
   "execution_count": null,
   "metadata": {
    "scrolled": true
   },
   "outputs": [],
   "source": [
    "# Clip CA Census tracts to the boundary of our city\n",
    "oakland_clip_gdf = gpd.clip(acs5_tracts_gdf, oakland_gdf).reset_index(drop=True)"
   ]
  },
  {
   "cell_type": "code",
   "execution_count": null,
   "metadata": {},
   "outputs": [],
   "source": [
    "# Take a look at output\n",
    "oakland_clip_gdf.head()"
   ]
  },
  {
   "cell_type": "markdown",
   "metadata": {},
   "source": [
    "Interesting! Note that our clip output geometry as shown above includes LINESTRINGS and POLYGONS.\n",
    "\n",
    "Let's take a close look at different geometry types in the `clip` output."
   ]
  },
  {
   "cell_type": "code",
   "execution_count": null,
   "metadata": {},
   "outputs": [],
   "source": [
    "print(oakland_clip_gdf.geometry.type.unique())"
   ]
  },
  {
   "cell_type": "markdown",
   "metadata": {},
   "source": [
    "The `unique` method gives us the unique types of geometries in the dataframe.\n",
    "\n",
    "The `value_counts` method will give the count of each unique type."
   ]
  },
  {
   "cell_type": "code",
   "execution_count": null,
   "metadata": {},
   "outputs": [],
   "source": [
    "oakland_clip_gdf.geometry.type.value_counts()"
   ]
  },
  {
   "cell_type": "markdown",
   "metadata": {},
   "source": [
    "We can print those different geometry types with different colors to see what is going on in the clip output."
   ]
  },
  {
   "cell_type": "code",
   "execution_count": null,
   "metadata": {},
   "outputs": [],
   "source": [
    "fig, ax = plt.subplots(figsize = (12,12)) \n",
    "\n",
    "tracts_gdf.plot(ax=ax, color=\"white\", edgecolor=\"black\", linewidth=0.6)\n",
    "oakland_clip_gdf[oakland_clip_gdf['geometry'].type== 'Polygon'].plot(ax=ax,color='green', alpha=0.5)\n",
    "oakland_clip_gdf[oakland_clip_gdf['geometry'].type== 'MultiLineString'].plot(ax=ax,color='red', linewidth=4)\n",
    "oakland_clip_gdf[oakland_clip_gdf['geometry'].type== 'LineString'].plot(ax=ax,color='black', linewidth=4)\n",
    "\n",
    "# Set x and y limits to Zoom map in on our city of interest\n",
    "#Use the output from the total_bounds attribute to zoom to the city of interest\n",
    "ax.set_xlim([oakland_clip_gdf.total_bounds[0]-0.01, oakland_clip_gdf.total_bounds[2]+0.01])\n",
    "ax.set_ylim([oakland_clip_gdf.total_bounds[1]-0.01, oakland_clip_gdf.total_bounds[3]+0.01])\n",
    "\n",
    "plt.show()"
   ]
  },
  {
   "cell_type": "markdown",
   "metadata": {},
   "source": [
    "So you can see that the `clip` operation returned LineStrings and MultiLineStrings along with the polygons of the census tracts. This happens at the intersection of tract and place polygons.\n",
    "\n",
    "Since census tracts are polygons, we will keep the polygon and multipolygon data returned by the clip. Here, we only have type Polygon."
   ]
  },
  {
   "cell_type": "code",
   "execution_count": null,
   "metadata": {},
   "outputs": [],
   "source": [
    "oakland_clip_gdf = oakland_clip_gdf[oakland_clip_gdf.geometry.type.isin(['Polygon'])].reset_index(drop=True)"
   ]
  },
  {
   "cell_type": "markdown",
   "metadata": {},
   "source": [
    "and repeat that plot..."
   ]
  },
  {
   "cell_type": "code",
   "execution_count": null,
   "metadata": {},
   "outputs": [],
   "source": [
    "fig, ax = plt.subplots(figsize = (12,12)) \n",
    "\n",
    "#tracts_gdf.plot(ax=ax, color=\"white\", edgecolor=\"grey\")\n",
    "\n",
    "oakland_clip_gdf[oakland_clip_gdf['geometry'].type== 'Polygon'].plot(ax=ax,color='green',alpha=0.5)\n",
    "oakland_clip_gdf[oakland_clip_gdf['geometry'].type== 'MultiLineString'].plot(ax=ax,color='red', linewidth=4)\n",
    "oakland_clip_gdf[oakland_clip_gdf['geometry'].type== 'LineString'].plot(ax=ax,color='orange', linewidth=4)\n",
    "tracts_gdf.plot(ax=ax,facecolor='none',edgecolor=\"black\",linewidth=0.5)\n",
    "\n",
    "# Set x and y limits to Zoom map in on our city of interest\n",
    "#Use the output from the total_bounds attribute to zoom to the city of interest\n",
    "ax.set_xlim([oakland_clip_gdf.total_bounds[0]-0.01, oakland_clip_gdf.total_bounds[2]+0.01])\n",
    "ax.set_ylim([oakland_clip_gdf.total_bounds[1]-0.01, oakland_clip_gdf.total_bounds[3]+0.01])\n",
    "\n",
    "plt.show()"
   ]
  },
  {
   "cell_type": "markdown",
   "metadata": {},
   "source": [
    "Now we only see the polygon census tracts in the map. We get warnings for trying to add LINE types because they no longer exist in the geodataframe.\n",
    "\n",
    "We can also see from the above plot that the census tracts nest within the city boundary. A tract is either in the city or not, there are no partial overlaps."
   ]
  },
  {
   "cell_type": "markdown",
   "metadata": {},
   "source": [
    "Now, for good measure,  let's plot the clip input and output geodataframes."
   ]
  },
  {
   "cell_type": "code",
   "execution_count": null,
   "metadata": {
    "scrolled": true
   },
   "outputs": [],
   "source": [
    "# plot 3 maps in one row\n",
    "fig = plt.figure(figsize=(15,8))\n",
    "# map 1\n",
    "ax1 = plt.subplot(131)\n",
    "ax1.set_aspect('equal')\n",
    "ax1.set_title(\"CA Census Tracts (input data)\")\n",
    "acs5_tracts_gdf.plot(ax=ax1)\n",
    "# map 2\n",
    "ax2 = plt.subplot(132)\n",
    "ax2.set_aspect('equal')\n",
    "ax2.set_title(\"Oakland City Boundary (clip data)\")\n",
    "oakland_gdf.plot(ax=ax2, edgecolor=\"black\")\n",
    "# map 3\n",
    "ax3 = plt.subplot(133)\n",
    "ax3.set_aspect('equal')\n",
    "ax3.set_title(\"Tracts clipped to Oakland (output data)\")\n",
    "oakland_clip_gdf.plot(ax=ax3, edgecolor=\"black\")\n",
    "\n",
    "# remove grid lines & labels\n",
    "ax1.set_axis_off()\n",
    "ax2.set_axis_off()\n",
    "ax3.set_axis_off()\n",
    "\n",
    "# display plot\n",
    "plt.show()"
   ]
  },
  {
   "cell_type": "markdown",
   "metadata": {},
   "source": [
    "### Clipping and attribute data"
   ]
  },
  {
   "cell_type": "markdown",
   "metadata": {},
   "source": [
    "So, we have clipped the state wide census tract data to the Oakland city boundary. \n",
    "\n",
    "Now let's see what happened to the census tract ACS attribute data."
   ]
  },
  {
   "cell_type": "code",
   "execution_count": null,
   "metadata": {},
   "outputs": [],
   "source": [
    "oakland_clip_gdf.head()"
   ]
  },
  {
   "cell_type": "markdown",
   "metadata": {},
   "source": [
    "Nothing happened to the attribute data - the columns and column values do not change. Only the geometry will change with a `clip` operation. We maintain the column values from the input data for all rows in the clip output. \n",
    "\n",
    "We can now make a choropleth man of total population (`c_race`) or of median household income (`med_hhinc`) within the city of Oakland."
   ]
  },
  {
   "cell_type": "code",
   "execution_count": null,
   "metadata": {},
   "outputs": [],
   "source": [
    "oakland_clip_gdf.plot(column='c_race', legend=True, legend_kwds={'label':\"total population\"});\n",
    "oakland_clip_gdf.plot(column='med_hhinc', legend=True, legend_kwds={'label':\"median household income\"});"
   ]
  },
  {
   "cell_type": "markdown",
   "metadata": {},
   "source": [
    "We can make histograms of the data values for the city."
   ]
  },
  {
   "cell_type": "code",
   "execution_count": null,
   "metadata": {},
   "outputs": [],
   "source": [
    "oakland_clip_gdf['med_hhinc'].hist()"
   ]
  },
  {
   "cell_type": "markdown",
   "metadata": {},
   "source": [
    "And sum values for the city."
   ]
  },
  {
   "cell_type": "code",
   "execution_count": null,
   "metadata": {},
   "outputs": [],
   "source": [
    "## total population (c_race) within the city\n",
    "oakland_clip_gdf.c_race.sum()"
   ]
  },
  {
   "cell_type": "markdown",
   "metadata": {},
   "source": [
    "According to [Oakland's wikipedia page](https://en.wikipedia.org/wiki/Oakland,_California), the city's population in 2019 was 433,031.\n",
    "\n",
    "So we are close, differing by 11,989. It's not the same because, although Wikipedia population value is also from census data, it is for a different year (2019). Moreover, the census continually revises its sample estimates to improve them."
   ]
  },
  {
   "cell_type": "markdown",
   "metadata": {},
   "source": [
    "# BUT BUT BUT"
   ]
  },
  {
   "cell_type": "markdown",
   "metadata": {},
   "source": [
    "## Important caution about clipping\n",
    "\n",
    "Clipping is a geometric operation. As we just noted, it only changes the geometry column. Clipping does not reapportion values where census tracts straddle the clip geometry (eg city boundaries). \n",
    "\n",
    "In cases where the tracts are nested completely within a city the clip method is sufficient. It may also be sufficient if the tracts are almost completely nested, depending on what your data analysis.\n",
    "\n",
    "When census tracts or other geographies only partially overlay the geometry of interest you need to use a different method to reaggreage the data.  One popular method is **areal interpolation**.\n",
    "\n"
   ]
  },
  {
   "cell_type": "markdown",
   "metadata": {},
   "source": [
    "<a id=\"section4\"></a>\n",
    "## 6.4 Areal Interpolation\n",
    "\n",
    "`Areal interpolation` uses area weighting to reapportion data values aggreggated by one geometry to another geometry. For example, if only half a census tract is within the target area only have the total population would be aggregated to the new geometry.\n",
    "\n",
    "There are two types of numeric variables that can be interpolated using this approach:\n",
    "\n",
    "- `intensive`: averages, medians, percents, ratios\n",
    "  - When intensive variables are reggregated, the weighted values are `averaged`.\n",
    "  \n",
    "\n",
    "- `extensive`: counts\n",
    "  - When intensive variables are reaggregated, the weighted counts are `summed`."
   ]
  },
  {
   "cell_type": "markdown",
   "metadata": {},
   "source": [
    "### Areal Interpolation time!\n",
    "\n",
    "We can use the Tobler `areal_interpolate` function to reaggregate the census tract ACS5 data to the census tracts clipped to the boundary of our city of interest.\n",
    "\n",
    "First read the documention!"
   ]
  },
  {
   "cell_type": "code",
   "execution_count": null,
   "metadata": {},
   "outputs": [],
   "source": [
    "# Uncomment to read\n",
    "# area_interpolate?"
   ]
  },
  {
   "cell_type": "markdown",
   "metadata": {},
   "source": [
    "Make sure both geodataframes have the same CRS.\n",
    "- If not, you will need to transform one CRS to match the other."
   ]
  },
  {
   "cell_type": "code",
   "execution_count": null,
   "metadata": {},
   "outputs": [],
   "source": [
    "acs5_tracts_gdf.crs == oakland_clip_gdf.crs"
   ]
  },
  {
   "cell_type": "code",
   "execution_count": null,
   "metadata": {},
   "outputs": [],
   "source": [
    "# Areal interpolate tracts data to the places\n",
    "oakland_ai_gdf = area_interpolate(acs5_tracts_gdf, \n",
    "                                   oakland_clip_gdf, \n",
    "                                   intensive_variables = ['med_rent','med_hhinc'],\n",
    "                                   extensive_variables = ['c_race','c_white'],\n",
    "                                   allocate_total=False\n",
    "                                  )"
   ]
  },
  {
   "cell_type": "code",
   "execution_count": null,
   "metadata": {},
   "outputs": [],
   "source": [
    "oakland_ai_gdf.head()"
   ]
  },
  {
   "cell_type": "markdown",
   "metadata": {},
   "source": [
    "*How many rows do we expect in the output?*"
   ]
  },
  {
   "cell_type": "code",
   "execution_count": null,
   "metadata": {},
   "outputs": [],
   "source": [
    "oakland_clip_gdf.shape"
   ]
  },
  {
   "cell_type": "markdown",
   "metadata": {},
   "source": [
    "We are ready to run the function.  Note, this is an interesting case of areal interpolation in that most of the target geometries are the same as the source geometries. It is only on the borders that they may differ where the tracts are not nested within the city border."
   ]
  },
  {
   "cell_type": "markdown",
   "metadata": {},
   "source": [
    "Take a look at output of the areal_interpolate function."
   ]
  },
  {
   "cell_type": "code",
   "execution_count": null,
   "metadata": {},
   "outputs": [],
   "source": [
    "oakland_ai_gdf.shape"
   ]
  },
  {
   "cell_type": "code",
   "execution_count": null,
   "metadata": {},
   "outputs": [],
   "source": [
    "oakland_ai_gdf.head(3)"
   ]
  },
  {
   "cell_type": "code",
   "execution_count": null,
   "metadata": {},
   "outputs": [],
   "source": [
    "oakland_ai_gdf.tail(3)"
   ]
  },
  {
   "cell_type": "markdown",
   "metadata": {},
   "source": [
    "### Understanding the output\n",
    "\n",
    "(1) Do the number of tracts in the input data match the output?\n",
    "- If yes great.\n",
    "- If not, what is the relationship?\n",
    "\n",
    "(2) Does the output geodataframe have data for both the intensive and extensive variables?\n",
    "\n",
    "\n",
    "<img align=\"left\" width=500 src=\"https://upload.wikimedia.org/wikipedia/commons/f/ff/Cat_on_laptop_-_Just_Browsing.jpg\"></img> "
   ]
  },
  {
   "cell_type": "markdown",
   "metadata": {},
   "source": [
    "If we have twice as many rows in the output that indicates a set of features for the intensive variables and one for the extensive. We can use subsetting if we want to isolate those.\n",
    "\n",
    " - We also do not have the census identifier in the output (`GEOID`)\n",
    "\n",
    "We do have the output for both intensive and extensive variables."
   ]
  },
  {
   "cell_type": "markdown",
   "metadata": {},
   "source": [
    "### Check the results with a few plots."
   ]
  },
  {
   "cell_type": "code",
   "execution_count": null,
   "metadata": {},
   "outputs": [],
   "source": [
    "# Plot an intensive variable - this plots only the rows that have values for med_rent\n",
    "oakland_ai_gdf.plot(column='med_rent', legend=True)"
   ]
  },
  {
   "cell_type": "code",
   "execution_count": null,
   "metadata": {},
   "outputs": [],
   "source": [
    "# Plot an extensive variable - this plots only the rows that have values for c_race\n",
    "oakland_ai_gdf.plot(column='c_race', legend=True)"
   ]
  },
  {
   "cell_type": "markdown",
   "metadata": {},
   "source": [
    "Compare the total pop (sum of c_race) from clip and areal interpolation operations."
   ]
  },
  {
   "cell_type": "code",
   "execution_count": null,
   "metadata": {},
   "outputs": [],
   "source": [
    "oakland_ai_gdf.c_race.sum()"
   ]
  },
  {
   "cell_type": "code",
   "execution_count": null,
   "metadata": {},
   "outputs": [],
   "source": [
    "oakland_clip_gdf.c_race.sum()"
   ]
  },
  {
   "cell_type": "markdown",
   "metadata": {},
   "source": [
    "Those summary values from the clip and areal interpolation the same. This is expected because the census tracts are nested within the city."
   ]
  },
  {
   "cell_type": "markdown",
   "metadata": {},
   "source": [
    "## Part 2 - When Areal Interpolation is needed\n",
    "\n",
    "The boundary of Oakland is defined by a fairly simple polygon containing one hole (the City of Piedmont). All of the census tracts in Oakland are completely contained within the city boundary so areal interpolation isn't necessary.\n",
    "\n",
    "Let's take a look at the city of `San Jose, CA` which presents a more complex case.\n",
    "\n",
    "To push the limit of the complexities you will encounter, let's try clipping and interpolating data for the city of `San Jose, CA` whose boundary has a multi-part complex polygon.\n"
   ]
  },
  {
   "cell_type": "markdown",
   "metadata": {},
   "source": [
    "First, grab the boundary of San Jose from the census places data."
   ]
  },
  {
   "cell_type": "code",
   "execution_count": null,
   "metadata": {},
   "outputs": [],
   "source": [
    "sj_gdf = places_gdf[places_gdf['NAME']=='San Jose'].reset_index(drop=True)\n",
    "sj_gdf.plot()"
   ]
  },
  {
   "cell_type": "markdown",
   "metadata": {},
   "source": [
    "Take a look at the geodataframe - only one row!"
   ]
  },
  {
   "cell_type": "code",
   "execution_count": null,
   "metadata": {},
   "outputs": [],
   "source": [
    "sj_gdf.head()"
   ]
  },
  {
   "cell_type": "markdown",
   "metadata": {},
   "source": [
    "Clip the census tracts"
   ]
  },
  {
   "cell_type": "markdown",
   "metadata": {},
   "source": [
    "Order matters: clip the first geometry by the second geometry!"
   ]
  },
  {
   "cell_type": "code",
   "execution_count": null,
   "metadata": {
    "scrolled": true
   },
   "outputs": [],
   "source": [
    "sj_clip_gdf = gpd.clip(acs5_tracts_gdf,sj_gdf).reset_index(drop=True)"
   ]
  },
  {
   "cell_type": "markdown",
   "metadata": {},
   "source": [
    "Now, take a look at the output."
   ]
  },
  {
   "cell_type": "code",
   "execution_count": null,
   "metadata": {},
   "outputs": [],
   "source": [
    "sj_clip_gdf.head()"
   ]
  },
  {
   "cell_type": "markdown",
   "metadata": {},
   "source": [
    "Let's check to see what geometry types are in the clip output."
   ]
  },
  {
   "cell_type": "code",
   "execution_count": null,
   "metadata": {},
   "outputs": [],
   "source": [
    "sj_clip_gdf.geometry.type.unique()\n"
   ]
  },
  {
   "cell_type": "markdown",
   "metadata": {},
   "source": [
    "And plot them as we did above for Oakland."
   ]
  },
  {
   "cell_type": "code",
   "execution_count": null,
   "metadata": {
    "scrolled": true
   },
   "outputs": [],
   "source": [
    "fig, ax = plt.subplots(figsize = (15,15)) \n",
    "\n",
    "sj_clip_gdf[sj_clip_gdf['geometry'].type== 'GeometryCollection'].plot(ax=ax,color='purple', alpha=0.5)\n",
    "sj_clip_gdf[sj_clip_gdf['geometry'].type== 'Polygon'].plot(ax=ax,color='green', alpha=0.5)\n",
    "sj_clip_gdf[sj_clip_gdf['geometry'].type== 'MultiPolygon'].plot(ax=ax,color='yellow', alpha=0.5)\n",
    "sj_clip_gdf[sj_clip_gdf['geometry'].type== 'MultiLineString'].plot(ax=ax,color='red', linewidth=4)\n",
    "sj_clip_gdf[sj_clip_gdf['geometry'].type== 'LineString'].plot(ax=ax,color='black', linewidth=4)\n",
    "sj_clip_gdf[sj_clip_gdf['geometry'].type== 'Point'].plot(ax=ax,color='black')\n",
    "tracts_gdf.plot(ax=ax,facecolor='none',edgecolor=\"black\",linewidth=0.6)\n",
    "\n",
    "# Set x and y limits to Zoom map into city\n",
    "ax.set_xlim([sj_clip_gdf.total_bounds[0]-0.01, sj_clip_gdf.total_bounds[2]+0.01])\n",
    "ax.set_ylim([sj_clip_gdf.total_bounds[1]-0.01, sj_clip_gdf.total_bounds[3]+0.01])\n",
    "\n",
    "# Then show plot\n",
    "plt.show()"
   ]
  },
  {
   "cell_type": "markdown",
   "metadata": {},
   "source": [
    "We can see from the map above that we want to keep the polygon features which are in the geometry types `GeometryCollection` and `Polygon`. The Line and point features are an artifact of the clip operation and exist at the intersection of multiple polygon boundaries."
   ]
  },
  {
   "cell_type": "code",
   "execution_count": null,
   "metadata": {},
   "outputs": [],
   "source": [
    "# drop the non-polygon data! Keep Polygon and Geom Collectoin\n",
    "sj_clip_gdf = sj_clip_gdf[sj_clip_gdf.geometry.type.isin(['Polygon','GeometryCollection'])].reset_index(drop=True)\n"
   ]
  },
  {
   "cell_type": "markdown",
   "metadata": {},
   "source": [
    "Let's plot that again to make sure it looks good."
   ]
  },
  {
   "cell_type": "code",
   "execution_count": null,
   "metadata": {},
   "outputs": [],
   "source": [
    "fig, ax = plt.subplots(figsize = (15,15)) \n",
    "\n",
    "sj_clip_gdf[sj_clip_gdf['geometry'].type== 'GeometryCollection'].plot(ax=ax,color='purple', alpha=0.5)\n",
    "sj_clip_gdf[sj_clip_gdf['geometry'].type== 'Polygon'].plot(ax=ax,color='green', alpha=0.5)\n",
    "sj_clip_gdf[sj_clip_gdf['geometry'].type== 'MultiPolygon'].plot(ax=ax,color='green', alpha=0.5)\n",
    "\n",
    "sj_clip_gdf[sj_clip_gdf['geometry'].type== 'MultiLineString'].plot(ax=ax,color='red', linewidth=4)\n",
    "sj_clip_gdf[sj_clip_gdf['geometry'].type== 'LineString'].plot(ax=ax,color='orange', linewidth=4)\n",
    "sj_clip_gdf[sj_clip_gdf['geometry'].type== 'Point'].plot(ax=ax,color='black')\n",
    "tracts_gdf.plot(ax=ax,facecolor='none',edgecolor=\"black\",linewidth=0.6)\n",
    "\n",
    "# Set x and y limits to Zoom map into city\n",
    "ax.set_xlim([sj_clip_gdf.total_bounds[0]-0.01, sj_clip_gdf.total_bounds[2]+0.01])\n",
    "ax.set_ylim([sj_clip_gdf.total_bounds[1]-0.01, sj_clip_gdf.total_bounds[3]+0.01])\n",
    "\n",
    "# Then show plot\n",
    "plt.show()"
   ]
  },
  {
   "cell_type": "markdown",
   "metadata": {},
   "source": [
    "We can see above that there are a number of tracts that are not completely within the city boundary (see the bottom right, for example.) This indicates that clipping will not be appropriate for San Jose.\n",
    "\n",
    "To check that, let's use this clipped data to sum the total population in san jose."
   ]
  },
  {
   "cell_type": "code",
   "execution_count": null,
   "metadata": {},
   "outputs": [],
   "source": [
    "sj_clip_gdf['c_race'].sum()"
   ]
  },
  {
   "cell_type": "markdown",
   "metadata": {},
   "source": [
    "How close does this total match that reported in the [Wikipedia page for San Jose](https://en.wikipedia.org/wiki/San_Jose,_California) in 2019 - 1,021,795? It overestimates by over 150,000, likely not acceptable for any data analysis!\n",
    "\n",
    "The difference is due primarily to the clip operation including the total population from tracts only partially within San Jose.\n",
    "\n",
    "Let's see what we get if we use `areal interpolation` instead."
   ]
  },
  {
   "cell_type": "code",
   "execution_count": null,
   "metadata": {},
   "outputs": [],
   "source": [
    "# Area interpolate the ACS5 Geodatafame and the San Jose Boundary (acs5_tracts_gdf, san_jose_gdf)"
   ]
  },
  {
   "cell_type": "code",
   "execution_count": null,
   "metadata": {},
   "outputs": [],
   "source": [
    "#sj_tracts_only = sj_clip_gdf[['GEOID','geometry']].reset_index(drop=True)\n",
    "sj_ai_gdf = area_interpolate(acs5_tracts_gdf, \n",
    "                              sj_clip_gdf, \n",
    "                              intensive_variables = ['med_hhinc'],\n",
    "                              extensive_variables = ['c_race'],\n",
    "                              allocate_total=False\n",
    "                            )"
   ]
  },
  {
   "cell_type": "code",
   "execution_count": null,
   "metadata": {},
   "outputs": [],
   "source": [
    "print(sj_ai_gdf.shape)  # how many tracts?\n",
    "print(sj_clip_gdf.shape)"
   ]
  },
  {
   "cell_type": "code",
   "execution_count": null,
   "metadata": {},
   "outputs": [],
   "source": [
    "sj_ai_gdf.head()"
   ]
  },
  {
   "cell_type": "code",
   "execution_count": null,
   "metadata": {},
   "outputs": [],
   "source": [
    "sj_ai_gdf.plot(column='c_race', legend=True)"
   ]
  },
  {
   "cell_type": "markdown",
   "metadata": {},
   "source": [
    "How close does the area interpolated population total match that reported in [Wikipedia for San Jose](https://en.wikipedia.org/wiki/San_Jose,_California)?  (1,021,795)"
   ]
  },
  {
   "cell_type": "code",
   "execution_count": null,
   "metadata": {},
   "outputs": [],
   "source": [
    "print(sj_ai_gdf['c_race'].sum())\n"
   ]
  },
  {
   "cell_type": "markdown",
   "metadata": {},
   "source": [
    "That's much better. Our total population of San Jose from derived from areal interpolation is much closer the 2019 value reported for San Jose, differing by 38,521.  That still a bit of a difference that would need to be examined.\n",
    "\n",
    "Why the difference? Well we are comparing 2018 and 2019 data so that is one issue.\n",
    "\n",
    "Another is that areal interpolation is not a perfect approach for reallocaton data from one unit to another. There is not perfect approach!\n",
    "\n",
    "### A word of Caution about Areal Interpolation\n",
    "\n",
    "The main shortcoming of areal interpolation is that area weighting assumes that the variable of interest, say population, is uniformly distributed throughout the source areas (here census tracts). If this were true then an area weighted reallocation would be a consistently reliable approach. However, we know that this is not the case with most area data that we wish to reallocate. The analyst must decide if the errors are tolerable for the application at hand. This is usually true for exploratory data analysis and in the absence of more reliable approaches.  Alternative approaches to areal interpolation include dysametric and model-based approaches, both of which are much more challenging to implement and to explain. For this reason simple area interpolation is often used for this task."
   ]
  }
 ],
 "metadata": {
  "kernelspec": {
   "display_name": "Python 3",
   "language": "python",
   "name": "python3"
  },
  "language_info": {
   "codemirror_mode": {
    "name": "ipython",
    "version": 3
   },
   "file_extension": ".py",
   "mimetype": "text/x-python",
   "name": "python",
   "nbconvert_exporter": "python",
   "pygments_lexer": "ipython3",
   "version": "3.8.3"
  }
 },
 "nbformat": 4,
 "nbformat_minor": 4
}
