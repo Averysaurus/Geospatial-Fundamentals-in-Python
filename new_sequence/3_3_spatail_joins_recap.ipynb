{
 "cells": [
  {
   "cell_type": "markdown",
   "metadata": {},
   "source": [
    "### `sjoin` recap\n",
    "\n",
    "Thus far we have spatially joined the permit data to the census tract data. The result is polygon geodataframe that includes:\n",
    "- a row for each permit application that spatially intersects with our census tract gdf (all permits do),\n",
    "- with the geometry of the census tracts in which they reside\n",
    "\n",
    "This means :\n",
    "- a sjoin can output duplicate geometries.\n",
    "- we can `dissolve` duplicate geometries and\n",
    "- summarize the permit data by the census geometries\n",
    "\n",
    "### Order matters!\n",
    "\n",
    "By default, `sjoin` output will have the geometry of the first input geodataframe.\n",
    "\n",
    "Thus, if we change the order of our sjoin we output point geometries instead of polygon geometries.\n",
    "\n",
    "For example, let's see what we get if we spatially join tracts to permits."
   ]
  },
  {
   "cell_type": "code",
   "execution_count": null,
   "metadata": {},
   "outputs": [],
   "source": [
    "# Spatially join census tract data to permit data\n",
    "permits_and_tracts_gdf = gpd.sjoin(permit_parcel_point_gdf,tracts_acs_gdf)"
   ]
  },
  {
   "cell_type": "markdown",
   "metadata": {},
   "source": [
    "The shape of our output geodataframe is the same."
   ]
  },
  {
   "cell_type": "code",
   "execution_count": null,
   "metadata": {},
   "outputs": [],
   "source": [
    "print(\"Permits:\", permit_parcel_point_gdf.shape)\n",
    "print(\"Tracts:\" , tracts_acs_gdf.shape)\n",
    "print(\"Tracts and permits:\", tracts_and_permits_gdf.shape)\n",
    "print(\"Permits and tracts:\", permits_and_tracts_gdf.shape)"
   ]
  },
  {
   "cell_type": "markdown",
   "metadata": {},
   "source": [
    "But, when we plot it we now see points."
   ]
  },
  {
   "cell_type": "code",
   "execution_count": null,
   "metadata": {
    "scrolled": true
   },
   "outputs": [],
   "source": [
    "permits_and_tracts_gdf.plot()"
   ]
  },
  {
   "cell_type": "markdown",
   "metadata": {},
   "source": [
    "If we look at a few rows of the geodataframe we see that it has columns from both input geodataframes"
   ]
  },
  {
   "cell_type": "code",
   "execution_count": null,
   "metadata": {},
   "outputs": [],
   "source": [
    "permits_and_tracts_gdf.head()\n"
   ]
  },
  {
   "cell_type": "markdown",
   "metadata": {},
   "source": [
    "With this spatial join we have augemented our permit data with census ACS data. \n",
    "- We have a row for each permit activity report and we have point geometry to map the permit locations. \n",
    "- And we have the ACS data associated with each permit location. \n",
    "\n",
    "We could use this output as the input to further analysis if we were interested in exploring the relationship between the permit data and one or more ACS variables.\n",
    "\n",
    "As we did in the prior `sjoin` example, we could also use this data to aggregrate the permit data by census tract but we would not have a direct way to map the aggregated data since our output has point and not census tract geometry. So if the goal is to summarize permit data by census tract then an `sjoin` that ouputs census tract geometries would be a better way to go about it.\n"
   ]
  },
  {
   "cell_type": "markdown",
   "metadata": {},
   "source": [
    "### Dissolve revisted\n",
    "\n",
    "We just saw how `dissolve` is used to remove duplicate geometries. It is also commonly used to merge adjacent geometries. Let's check this out.\n",
    "\n",
    "First let's take a look at the Alameda County census tracts."
   ]
  },
  {
   "cell_type": "code",
   "execution_count": null,
   "metadata": {},
   "outputs": [],
   "source": [
    "tracts_acs_gdf.plot()"
   ]
  },
  {
   "cell_type": "markdown",
   "metadata": {},
   "source": [
    "If we take a look at the data we see that all rows have the same value for `COUNTYFP` or the county FIPS code, which is `001`."
   ]
  },
  {
   "cell_type": "code",
   "execution_count": null,
   "metadata": {},
   "outputs": [],
   "source": [
    "tracts_acs_gdf.head(2)"
   ]
  },
  {
   "cell_type": "markdown",
   "metadata": {},
   "source": [
    "Let's dissolve the Alameda County census tracts by COUNTYFP."
   ]
  },
  {
   "cell_type": "code",
   "execution_count": null,
   "metadata": {},
   "outputs": [],
   "source": [
    "tracts_acs_gdf_dissolved = tracts_acs_gdf.dissolve(by='COUNTYFP')\n",
    "tracts_acs_gdf_dissolved"
   ]
  },
  {
   "cell_type": "code",
   "execution_count": null,
   "metadata": {},
   "outputs": [],
   "source": [
    "tracts_acs_gdf_dissolved.plot()"
   ]
  },
  {
   "cell_type": "markdown",
   "metadata": {},
   "source": [
    "Because the rows for each census tract share the same county FIPS code and the census tract geometries are all nested within the county boundary, all interior polygons were dissolved leaving one boundary polygon.  Pretty cool, huh!  The `dissolve` operation is commonly used for these kind of geometric aggregation tasks because a lot of time your geographic data has more detail than you need."
   ]
  },
  {
   "cell_type": "code",
   "execution_count": null,
   "metadata": {},
   "outputs": [],
   "source": []
  }
 ],
 "metadata": {
  "kernelspec": {
   "display_name": "Python 3",
   "language": "python",
   "name": "python3"
  },
  "language_info": {
   "codemirror_mode": {
    "name": "ipython",
    "version": 3
   },
   "file_extension": ".py",
   "mimetype": "text/x-python",
   "name": "python",
   "nbconvert_exporter": "python",
   "pygments_lexer": "ipython3",
   "version": "3.7.4"
  }
 },
 "nbformat": 4,
 "nbformat_minor": 2
}
