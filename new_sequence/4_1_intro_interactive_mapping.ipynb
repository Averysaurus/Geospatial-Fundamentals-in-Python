{
 "cells": [
  {
   "cell_type": "markdown",
   "metadata": {},
   "source": [
    "# 4. Interactive Mapping\n",
    "\n",
    "In previous lessons we  used `Geopandas` and `matplotlib` to create choropleth and point maps of our data. In this notebook we will take it to the next level by creating `interactive maps` with the **folium** library. \n",
    "\n",
    "- [4.1 Introduction ](#section1)\n",
    "- [4.2 Interactive Mapping with Folium](#section2)\n",
    "\t- Using `Folium` to create interactive maps\n",
    "- [4.3 Adding a Map Layer](#section3)\n",
    "\t- Adding a GeoDataframe\n",
    "    - Styling the data\n",
    "    - Creating a tooltip\n",
    "- [4.4 Data Mapping](#section4)\n",
    "\t- Creating a choropleth map\n",
    "\t- Adding a Tooltip to a choropleth map\n",
    "- [4.5 Overlays](#section5)\n",
    "- [4.6 Points and Lines](#section6)\n",
    "\t- Learning about and using Bart station data\n",
    "\t- Learning about and using Bart line data\n",
    "\t- Changing point marker type\n",
    "\t- Proportional symbol mapping\n",
    "- [4.7 Creating and Saving an Interactive map](#section7)\n",
    "    - Adding layer control\n",
    "    - Saving map to an html for website usage"
   ]
  },
  {
   "cell_type": "markdown",
   "metadata": {},
   "source": [
    "### References\n",
    "\n",
    "This notebook provides an introduction to `folium`. To see what else you can do, check out the references listed below.\n",
    "\n",
    "- [Folium web site](https://github.com/python-visualization/folium)\n",
    "\n",
    "- [Folium notebook examples](https://nbviewer.jupyter.org/github/python-visualization/folium/tree/master/examples/)\n",
    "\n",
    "**INSTRUCTOR NOTES**:\n",
    "- Datasets used:\n",
    "    - \"../outdata/tracts_acs_gdf_ac.json\"\n",
    "    - “../notebook_data/census/Places/cb_2018_06_place_500k.zip””\n",
    "- Expected time to complete:\n",
    "    - 1.5 hour "
   ]
  },
  {
   "cell_type": "markdown",
   "metadata": {},
   "source": [
    "<a id=\"section1\"></a>\n",
    "## 4.1 Introduction\n",
    "\n",
    "Interactive maps serve two very important purposes in geospatial analysis. First, they provde new tools for exploratory data analysis. With an interactive map you can:\n",
    "- `pan` over the mapped data, \n",
    "- `zoom` into a smaller arear that is not easily visible when the full extent of the map is displayed, and \n",
    "- `click` on or `hover` over a feature to see more information about it.\n",
    "\n",
    "Second, when saved and shared, interactive maps provide a new tool for communicating the results of your analysis and for inviting your online audience to actively explore your work.\n",
    "\n",
    "For those of you who work with tools like ArcGIS or QGIS, interactive maps also make working in the jupyter notebook environment a bit more like working in a desktop GIS.\n",
    "\n",
    "The goal of this notebook is to show you how to create an interactive map with your geospatial data so that you can better analyze your data and save your output to share with others. \n",
    "\n",
    "After completing this lesson you will be able to create an interactive map like the one shown below."
   ]
  },
  {
   "cell_type": "code",
   "execution_count": null,
   "metadata": {},
   "outputs": [],
   "source": [
    "%%html\n",
    "<iframe src=\"bartmap_example.html\" width=\"1000\" height=\"600\"></iframe>"
   ]
  },
  {
   "cell_type": "markdown",
   "metadata": {},
   "source": [
    "### Set-up\n",
    "\n",
    "### Import libraries\n",
    "\n",
    "To get started, let's import the libraries we will use. Install them if they are not installed."
   ]
  },
  {
   "cell_type": "code",
   "execution_count": null,
   "metadata": {},
   "outputs": [],
   "source": [
    "import math\n",
    "import numpy as np\n",
    "import pandas as pd\n",
    "\n",
    "import geopandas as gpd\n",
    "\n",
    "import matplotlib # base python plotting library\n",
    "%matplotlib inline  \n",
    "import matplotlib.pyplot as plt # more plotting stuff \n",
    "\n",
    "import folium # popular python web mapping tool for creating Leaflet maps\n",
    "import folium.plugins\n",
    "\n",
    "# Supress minor warnings about the syntax of CRS definitions, \n",
    "# ie \"init=epsg:4269\" vs \"epsg:4269\"\n",
    "import warnings\n",
    "warnings.simplefilter(action='ignore', category=FutureWarning)"
   ]
  },
  {
   "cell_type": "markdown",
   "metadata": {},
   "source": [
    "#### Check your version of `folium` and `geopandas`.\n",
    "\n",
    "Folium is a new and evolving Python library so make sure you have version 0.10.1 or later installed."
   ]
  },
  {
   "cell_type": "code",
   "execution_count": null,
   "metadata": {
    "scrolled": true
   },
   "outputs": [],
   "source": [
    "print(folium.__version__) # Make sure you have version 0.10.1 or later of folium!"
   ]
  },
  {
   "cell_type": "code",
   "execution_count": null,
   "metadata": {},
   "outputs": [],
   "source": [
    "print(gpd.__version__) # Make sure you have version 0.7.0 or later of GeoPandas!"
   ]
  },
  {
   "cell_type": "markdown",
   "metadata": {},
   "source": [
    "<a id=\"section2\"></a>\n",
    "## 4.2 Interactive Mapping with Folium\n",
    "\n",
    "Under the hood, `folium` is a Python package for creating interactive maps with [Leaflet](https://leafletjs.com), a popular javascript web mapping library.  \n",
    "\n",
    "Let's start by creating a interactive map with the `folium.Map` function and display it in the notebook."
   ]
  },
  {
   "cell_type": "code",
   "execution_count": null,
   "metadata": {
    "scrolled": false
   },
   "outputs": [],
   "source": [
    "# Create a new folium map and save it to the variable name map1\n",
    "map1 = folium.Map(location=[37.8721, -122.2578],   # lat, lon around which to center the map\n",
    "                 width=\"100%\",                     # the width & height of the output map\n",
    "                 height=500,                       # in pixels (int) or in percent of available space (str)\n",
    "                 zoom_start=13)                    # the zoom level for the data to be displayed (3-20)\n",
    "\n",
    "map1  # display the map in the notebook"
   ]
  },
  {
   "cell_type": "markdown",
   "metadata": {},
   "source": [
    "Let's discuss the map above and the code we used to generate it.\n",
    "\n",
    "At any time you can enter the following command to get help with `folium.Map`:\n"
   ]
  },
  {
   "cell_type": "code",
   "execution_count": null,
   "metadata": {},
   "outputs": [],
   "source": [
    "# uncomment to see help docs\n",
    "# ?folium.Map"
   ]
  },
  {
   "cell_type": "markdown",
   "metadata": {},
   "source": [
    "Let's make another folium map using the code below:"
   ]
  },
  {
   "cell_type": "code",
   "execution_count": null,
   "metadata": {},
   "outputs": [],
   "source": [
    "# Create a new folium map and save it to the variable name map1\n",
    "#\n",
    "map1 = folium.Map(location=[37.8721, -122.2578],   # lat, lon around which to center the map\n",
    "                 tiles='CartoDB Positron',\n",
    "                 #width=800,                        # the width & height of the output map\n",
    "                 #height=600,                       # in pixels or in percent of available space\n",
    "                 zoom_start=13)                    # the zoom level for the data to be displayed"
   ]
  },
  {
   "cell_type": "markdown",
   "metadata": {},
   "source": [
    "<div style=\"display:inline-block;vertical-align:top;\">\n",
    "    <img src=\"https://image.flaticon.com/icons/svg/87/87705.svg\" width=\"30\" align=left > \n",
    "</div>  \n",
    "<div style=\"display:inline-block;\">\n",
    "\n",
    "#### Questions\n",
    "</div>\n",
    "\n",
    "- What's new in the code?\n",
    "\n",
    "- How do you think that will change the map?\n",
    "\n",
    "Let's display the map and see what changes..."
   ]
  },
  {
   "cell_type": "code",
   "execution_count": null,
   "metadata": {},
   "outputs": [],
   "source": [
    "map1  # display map in notebook"
   ]
  },
  {
   "cell_type": "markdown",
   "metadata": {},
   "source": [
    "Notice how the map changes when you change the underlying **tileset** from the default, which is `OpenStreetMap`, to `CartoDB Positron`. \n",
    "> [OpenStreetMap](https://www.openstreetmap.org/#map=5/38.007/-95.844) is the largest free and open source dataset of geographic information about the world. So it is the default basemap for a lot of mapping tools and libraries.\n",
    "\n",
    "- You can find a list of the available tilesets you can use in the help documentation (`folium.Map?`), a snippet of which is shown below:\n",
    "\n",
    "<pre>\n",
    "Generate a base map of given width and height with either default\n",
    "tilesets or a custom tileset URL. The following tilesets are built-in\n",
    "to Folium. Pass any of the following to the \"tiles\" keyword:\n",
    "\n",
    "    - \"OpenStreetMap\"\n",
    "    - \"Mapbox Bright\" (Limited levels of zoom for free tiles)\n",
    "    - \"Mapbox Control Room\" (Limited levels of zoom for free tiles)\n",
    "    - \"Stamen\" (Terrain, Toner, and Watercolor)\n",
    "    - \"Cloudmade\" (Must pass API key)\n",
    "    - \"Mapbox\" (Must pass API key)\n",
    "    - \"CartoDB\" (positron and dark_matter)\n",
    "</pre>\n",
    "\n",
    "\n",
    "#### Exercise\n",
    "\n",
    "Take a few minutes to try some of the different tilesets in the code below and see how they change the output map. *Avoid the ones that don't require an API key*."
   ]
  },
  {
   "cell_type": "code",
   "execution_count": null,
   "metadata": {},
   "outputs": [],
   "source": [
    "# Make changes to the code below to change the folium Map\n",
    "## Try changing the values for the zoom_start and tiles parameters.\n",
    "map1 = folium.Map(location=[37.8721, -122.2578],   # lat, lon around which to center the map\n",
    "                 tiles='CartoDB Positron',         # basemap aka baselay or tile set\n",
    "                 width=800,                        # the width & height of the output map\n",
    "                 height=500,                       # in pixels or percent of available space\n",
    "                 zoom_start=13)                    # the zoom level for the data to be displayed\n",
    "\n",
    "#display the map\n",
    "map1"
   ]
  },
  {
   "cell_type": "markdown",
   "metadata": {},
   "source": [
    "<a id=\"section3\"></a>\n",
    "## 4.3 Adding a Map Layer"
   ]
  },
  {
   "cell_type": "markdown",
   "metadata": {},
   "source": [
    "Now that we have created a folium map, let's add our Alameda County census tract data to the map. \n",
    "\n",
    "First, let's read that data into a Geopandas geodataframe."
   ]
  },
  {
   "cell_type": "code",
   "execution_count": null,
   "metadata": {},
   "outputs": [],
   "source": [
    "# Alameda county census tract data with the associated ACS 5yr variables.\n",
    "tracts_gdf = gpd.read_file(\"../notebook_data/outdata/tracts_acs_gdf_ac.json\")"
   ]
  },
  {
   "cell_type": "markdown",
   "metadata": {},
   "source": [
    "Take another brief look at the geodataframe to recall the contents."
   ]
  },
  {
   "cell_type": "code",
   "execution_count": null,
   "metadata": {},
   "outputs": [],
   "source": [
    "# take a look at first two rows\n",
    "tracts_gdf.head(2)"
   ]
  },
  {
   "cell_type": "code",
   "execution_count": null,
   "metadata": {},
   "outputs": [],
   "source": [
    "# take a look at all column names\n",
    "tracts_gdf.columns"
   ]
  },
  {
   "cell_type": "markdown",
   "metadata": {},
   "source": [
    "### Adding a layer with folium.GeoJson\n",
    "\n",
    "Folium provides a number of ways to add vector data - points, lines, and polygons - to a map. \n",
    "\n",
    "The data we are working with are in Geopandas geodataframes. The main folium function for adding these to the map is `folium.GeoJson`.\n",
    "\n",
    "Let's build on our last map and add the census tracts as a `folium.GeoJson` layer. "
   ]
  },
  {
   "cell_type": "code",
   "execution_count": null,
   "metadata": {},
   "outputs": [],
   "source": [
    "map1 = folium.Map(location=[37.8721, -122.2578],   # lat, lon around which to center the map\n",
    "                 tiles='CartoDB positron',         # basemap aka baselay or tile set\n",
    "                 width=800,                       # the width & height of the output map\n",
    "                 height=600,                      # in pixels or in percent of available space\n",
    "                 zoom_start=12)                    # the zoom level for the data to be displayed\n",
    "\n",
    "# Add the census tracts to the map\n",
    "folium.GeoJson(tracts_gdf).add_to(map1)\n",
    "\n",
    "#display the map\n",
    "map1"
   ]
  },
  {
   "cell_type": "markdown",
   "metadata": {},
   "source": [
    "That was pretty straight-forward, but `folium.GeoJSON` provides a lot of arguments for customizing the display of the data in the map. We will review some of these soon. However, at any time you can get more information about `folium.GeoJSON` by taking a look at the function documentation."
   ]
  },
  {
   "cell_type": "code",
   "execution_count": null,
   "metadata": {},
   "outputs": [],
   "source": [
    "# Uncomment to view documentation\n",
    "# folium.GeoJson?"
   ]
  },
  {
   "cell_type": "markdown",
   "metadata": {},
   "source": [
    "### Centering the map\n",
    "\n",
    "Above, the coordinates on which the map is centered are specified in the folium.Map method as the `location` argument.\n",
    "\n",
    "Instead of centering the `location` of our map manually, let's get the center from the tracts data.\n",
    "\n",
    "The geodataframe `total_bounds` attribute gives us the min and max coordinates for a minimum bounding box that could contain the data:"
   ]
  },
  {
   "cell_type": "code",
   "execution_count": null,
   "metadata": {},
   "outputs": [],
   "source": [
    "tracts_gdf.total_bounds"
   ]
  },
  {
   "cell_type": "markdown",
   "metadata": {},
   "source": [
    "Those values make more sense if you plot the data and take a look at the grid labels."
   ]
  },
  {
   "cell_type": "code",
   "execution_count": null,
   "metadata": {},
   "outputs": [],
   "source": [
    "tracts_gdf.plot()"
   ]
  },
  {
   "cell_type": "markdown",
   "metadata": {},
   "source": [
    "To center our map on the tracts data we want the `average of the min & max values`."
   ]
  },
  {
   "cell_type": "code",
   "execution_count": null,
   "metadata": {},
   "outputs": [],
   "source": [
    "ctrX = (tracts_gdf.total_bounds[0] + tracts_gdf.total_bounds[2])/2   # x is longitude\n",
    "ctrY = (tracts_gdf.total_bounds[1] + tracts_gdf.total_bounds[3])/2   # y is latitude\n",
    "print(ctrX)\n",
    "print(ctrY)"
   ]
  },
  {
   "cell_type": "markdown",
   "metadata": {},
   "source": [
    "Now, let's use those values to center our map"
   ]
  },
  {
   "cell_type": "code",
   "execution_count": null,
   "metadata": {
    "scrolled": true
   },
   "outputs": [],
   "source": [
    "# Get our center point\n",
    "ctrX = (tracts_gdf.total_bounds[0] + tracts_gdf.total_bounds[2])/2\n",
    "ctrY = (tracts_gdf.total_bounds[1] + tracts_gdf.total_bounds[3])/2\n",
    "\n",
    "# Define the basemap\n",
    "map1 = folium.Map(location=[ctrY, ctrX] ,      # lat, lon around which to center the map\n",
    "                 tiles='CartoDB Positron',\n",
    "                 #width=1000,                    # the width & height of the output map\n",
    "                 #height=600,                    # in pixels\n",
    "                 zoom_start=10)                 # the zoom level for the data to be displayed\n",
    "\n",
    "# Add  the census tracts gdf layer\n",
    "folium.GeoJson(tracts_gdf).add_to(map1)\n",
    "\n",
    "\n",
    "map1"
   ]
  },
  {
   "cell_type": "markdown",
   "metadata": {},
   "source": [
    "### Checking and Transforming the CRS\n",
    "\n",
    "It's always a good idea to check the **CRS** of your geodata before doing anything with that data. This is true when we use `folium` to make an interactive map. \n",
    "\n",
    "Here is how folium deals with the CRS of a geodataframe before mapping it:\n",
    "- Folium checks to see if the gdf has a defined CRS\n",
    "  - If the CRS is not defined, it assumes the data to be in the WGS84 CRS (epsg=4326).\n",
    "  - If the CRS is defined, it will be transformed dynamically to WGS84 before mapping.\n",
    "\n",
    "\n",
    "So, if your map data doesn't show up where at all or where you think it should, check the CRS of your data!\n",
    "- If it is not defined, define it.\n",
    "\n",
    "<div style=\"display:inline-block;vertical-align:top;\">\n",
    "    <img src=\"https://image.flaticon.com/icons/svg/87/87705.svg\" width=\"30\" align=left > \n",
    "</div>  \n",
    "<div style=\"display:inline-block;\">\n",
    "\n",
    "#### Questions\n",
    "</div>\n",
    "\n",
    "- What is the CRS of the tract data?\n",
    "- How is folium dealing with the CRS of this gdf?"
   ]
  },
  {
   "cell_type": "code",
   "execution_count": null,
   "metadata": {},
   "outputs": [],
   "source": [
    "# Check the CRS of the data \n",
    "print(...)"
   ]
  },
  {
   "cell_type": "markdown",
   "metadata": {},
   "source": [
    "*Click here for answers*\n",
    "\n",
    "<!---\n",
    "# What is the CRS of the tract data?\n",
    "tracts_gdf.crs\n",
    "\n",
    "# How is folium dealing with the CRS of this gdf?\n",
    "# Dynamically transformed to WGS84 (but it already is in that projection so no change)\n",
    "--->"
   ]
  },
  {
   "cell_type": "markdown",
   "metadata": {},
   "source": [
    "### Styling features with `folium.GeoJson`\n",
    "\n",
    "Let's dive deeper into the `folium.GeoJson` function. Below is an excerpt from the help documentation for the function that shows all the available function arguments that we can set.\n",
    "\n",
    "<div style=\"display:inline-block;vertical-align:top;\">\n",
    "    <img src=\"http://www.pngall.com/wp-content/uploads/2016/03/Light-Bulb-Free-PNG-Image.png\" width=\"20\" align=left > \n",
    "</div>  \n",
    "<div style=\"display:inline-block;\">\n",
    "\n",
    "#### Question\n",
    "</div>\n",
    "What argument do we use to style the color for our polygons?\n",
    "\n",
    "<pre>\n",
    "folium.GeoJson(\n",
    "    data,\n",
    "    style_function=None,\n",
    "    highlight_function=None,\n",
    "    name=None,\n",
    "    overlay=True,\n",
    "    control=True,\n",
    "    show=True,\n",
    "    smooth_factor=None,\n",
    "    tooltip=None,\n",
    "    embed=True,\n",
    ")\n",
    "</pre>"
   ]
  },
  {
   "cell_type": "markdown",
   "metadata": {},
   "source": [
    "Let's examine the options for the `style_function` in more detail since we will use these to change the style of our mapped data.\n",
    "\n",
    "\n",
    "`style_function = lambda x: {` apply to all features being mapped (ie, all rows in the geodataframe)  \n",
    "`'weight': line_weight,` set the thickness of a line or polyline where <1 is thin, >1 thick, 1 = default  \n",
    "`'opacity': line_opacity,` set opacity where 1 is solid, 0.5 is semi-opaque and 0 is transparent  \n",
    "`'color': line_color` set the color of the line, eg \"red\" or some hexidecimal color value\n",
    "`'fillOpacity': opacity,` set opacity of the fill of a polygon  \n",
    "`'fillColor': color` set color of the fill of a polygon  \n",
    "`'dashArray': '5, 5'` set line pattern to a dash of 5 pixels on, off  \n",
    "`}`\n",
    "\n",
    "\n",
    "\n",
    "Ok! Let's try setting the style of our census tract by defining a style function."
   ]
  },
  {
   "cell_type": "code",
   "execution_count": null,
   "metadata": {},
   "outputs": [],
   "source": [
    "# Get our map center\n",
    "ctrX = (tracts_gdf.total_bounds[0] + tracts_gdf.total_bounds[2])/2\n",
    "ctrY = (tracts_gdf.total_bounds[1] + tracts_gdf.total_bounds[3])/2\n",
    "\n",
    "# Define the basemap\n",
    "map1 = folium.Map(location=[ctrY, ctrX],           # lat, lon around which to center the map\n",
    "                 tiles='CartoDB Positron',\n",
    "                 width=1000,                       # the width & height of the output map\n",
    "                 height=600,                       # in pixels\n",
    "                 zoom_start=10)                    # the zoom level for the data to be displayed\n",
    "\n",
    "# Add  the census tracts gdf layer\n",
    "# setting the style of the data\n",
    "folium.GeoJson(tracts_gdf,\n",
    "               style_function = lambda x: {\n",
    "                   'weight':2,\n",
    "                   'color':\"white\",\n",
    "                   'opacity':1,\n",
    "                   'fillColor':\"red\",\n",
    "                   'fillOpacity':0.6\n",
    "               }\n",
    "              ).add_to(map1)\n",
    "\n",
    "\n",
    "map1"
   ]
  },
  {
   "cell_type": "markdown",
   "metadata": {},
   "source": [
    "#### Exercise\n",
    "Copy the code from our last map and paste it below. Take a few minutes edit the code to change the style of the census tract polygons.\n"
   ]
  },
  {
   "cell_type": "code",
   "execution_count": null,
   "metadata": {},
   "outputs": [],
   "source": [
    "# Your code here\n"
   ]
  },
  {
   "cell_type": "markdown",
   "metadata": {},
   "source": [
    "### Adding a Tooltip\n",
    "\n",
    "A `tooltip` can be added to a folium.GeoJson map layer to display data values when the mouse hovers over a feature.\n"
   ]
  },
  {
   "cell_type": "code",
   "execution_count": null,
   "metadata": {},
   "outputs": [],
   "source": [
    "# Get our map center\n",
    "ctrX = (tracts_gdf.total_bounds[0] + tracts_gdf.total_bounds[2])/2\n",
    "ctrY = (tracts_gdf.total_bounds[1] + tracts_gdf.total_bounds[3])/2\n",
    "\n",
    "# Define the basemap\n",
    "map1 = folium.Map(location=[ctrY, ctrX],   # lat, lon around which to center the map\n",
    "                 tiles='CartoDB Positron',\n",
    "                 width=1000,                        # the width & height of the output map\n",
    "                 height=600,                       # in pixels\n",
    "                 zoom_start=10)                    # the zoom level for the data to be displayed\n",
    "\n",
    "# Add  the census tracts gdf layer\n",
    "folium.GeoJson(tracts_gdf,\n",
    "               style_function = lambda x: {\n",
    "                   'weight':2,\n",
    "                   'color':\"white\",\n",
    "                   'opacity':1,\n",
    "                   'fillColor':\"red\",\n",
    "                   'fillOpacity':0.6\n",
    "               },\n",
    "               \n",
    "               tooltip=folium.GeoJsonTooltip(\n",
    "                   fields=['GEOID','c_race','pop_dens_km2' ], \n",
    "                   aliases=['Tract GEOID', 'Population', 'Population Density (km2)'],\n",
    "                   labels=True,\n",
    "                   localize=True\n",
    "               ),\n",
    "              ).add_to(map1)\n",
    "\n",
    "\n",
    "map1"
   ]
  },
  {
   "cell_type": "markdown",
   "metadata": {},
   "source": [
    "As always, you can get more help by reading the documentation."
   ]
  },
  {
   "cell_type": "code",
   "execution_count": null,
   "metadata": {},
   "outputs": [],
   "source": [
    "# Uncomment to view help\n",
    "#folium.GeoJsonTooltip?"
   ]
  },
  {
   "cell_type": "markdown",
   "metadata": {},
   "source": [
    "#### Exercise\n",
    "\n",
    "Edit the code in the cell below to `add` the proportion of homeowners to the tooltip."
   ]
  },
  {
   "cell_type": "code",
   "execution_count": null,
   "metadata": {},
   "outputs": [],
   "source": [
    "## You code here\n",
    "# Get our map center\n",
    "ctrX = (tracts_gdf.total_bounds[0] + tracts_gdf.total_bounds[2])/2\n",
    "ctrY = (tracts_gdf.total_bounds[1] + tracts_gdf.total_bounds[3])/2\n",
    "\n",
    "# Define the basemap\n",
    "map1 = folium.Map(location=[ctrY, ctrX],   # lat, lon around which to center the map\n",
    "                 tiles='CartoDB Positron',\n",
    "                 width=1000,                        # the width & height of the output map\n",
    "                 height=600,                       # in pixels\n",
    "                 zoom_start=10)                    # the zoom level for the data to be displayed\n",
    "\n",
    "# Add  the census tracts gdf layer\n",
    "folium.GeoJson(tracts_gdf,\n",
    "               style_function = lambda x: {\n",
    "                   'weight':2,\n",
    "                   'color':\"white\",\n",
    "                   'opacity':1,\n",
    "                   'fillColor':\"red\",\n",
    "                   'fillOpacity':0.6\n",
    "               },\n",
    "               \n",
    "               tooltip=folium.GeoJsonTooltip(\n",
    "                   fields=['GEOID','c_race','pop_dens_km2'], \n",
    "                   aliases=['Tract GEOID', 'Population', 'Population Density (km2)'],\n",
    "                   labels=True,\n",
    "                   localize=True\n",
    "               ),\n",
    "              ).add_to(map1)\n",
    "\n",
    "\n",
    "map1"
   ]
  },
  {
   "cell_type": "markdown",
   "metadata": {},
   "source": [
    "*Click here for answers*\n",
    "\n",
    "<!---\n",
    "## You code here\n",
    "# Get our map center\n",
    "ctrX = (tracts_gdf.total_bounds[0] + tracts_gdf.total_bounds[2])/2\n",
    "ctrY = (tracts_gdf.total_bounds[1] + tracts_gdf.total_bounds[3])/2\n",
    "\n",
    "# Define the basemap\n",
    "map1 = folium.Map(location=[ctrY, ctrX],   # lat, lon around which to center the map\n",
    "                 tiles='CartoDB Positron',\n",
    "                 width=1000,                        # the width & height of the output map\n",
    "                 height=600,                       # in pixels\n",
    "                 zoom_start=10)                    # the zoom level for the data to be displayed\n",
    "\n",
    "# Add  the census tracts gdf layer\n",
    "folium.GeoJson(tracts_gdf,\n",
    "               style_function = lambda x: {\n",
    "                   'weight':2,\n",
    "                   'color':\"white\",\n",
    "                   'opacity':1,\n",
    "                   'fillColor':\"red\",\n",
    "                   'fillOpacity':0.6\n",
    "               },\n",
    "               \n",
    "               tooltip=folium.GeoJsonTooltip(\n",
    "                   fields=['GEOID','c_race','pop_dens_km2','p_owners'], \n",
    "                   aliases=['Tract GEOID', 'Population', 'Population Density (km2)','Proportion of Homeowners'],\n",
    "                   labels=True,\n",
    "                   localize=True\n",
    "               ),\n",
    "              ).add_to(map1)\n",
    "\n",
    "\n",
    "map1\n",
    "\n",
    "--->"
   ]
  },
  {
   "cell_type": "markdown",
   "metadata": {},
   "source": [
    "### Choropleth Maps with Tooltips\n",
    "\n",
    "You can add a `tooltip` to a folium.Choropleth map but the process is not straigthforward. The `folium.Choropleth` function does not have a tooltip argument the way `folium.GeoJson` does.\n",
    "\n",
    "The workaround is to add the layer as both a `folium.Choropleth` layer and as a `folium.GeoJson` layer and bind the tooltip to the GeoJson layer.\n",
    "\n",
    "Let's check it out below."
   ]
  },
  {
   "cell_type": "code",
   "execution_count": null,
   "metadata": {},
   "outputs": [],
   "source": [
    "# Get our map center\n",
    "ctrX = (tracts_gdf.total_bounds[0] + tracts_gdf.total_bounds[2])/2\n",
    "ctrY = (tracts_gdf.total_bounds[1] + tracts_gdf.total_bounds[3])/2\n",
    "\n",
    "map3 = folium.Map(location=[ctrY, ctrX], \n",
    "                  tiles='CartoDB Positron',\n",
    "                  #width=800,height=600,\n",
    "                  zoom_start=10)\n",
    "\n",
    "# Add the Choropleth layer to the map\n",
    "layer1 = folium.Choropleth(geo_data=tracts_gdf[['GEOID','geometry']].set_index('GEOID'),\n",
    "           data=tracts_gdf,\n",
    "           columns=['GEOID','c_race'],\n",
    "           fill_color=\"Reds\",\n",
    "           fill_opacity=0.65,\n",
    "           line_color=\"grey\", #\"white\",\n",
    "           line_weight=1,\n",
    "           line_opacity=1,\n",
    "           key_on=\"feature.id\",\n",
    "           legend=True,\n",
    "           legend_name=\"Population\",\n",
    "           highlight=True\n",
    "          ).add_to(map3)\n",
    "\n",
    "# ADD the same geodataframe to the map to display a tooltip\n",
    "layer2 = folium.GeoJson(tracts_gdf,\n",
    "    style_function=lambda x: {'color':'transparent','fillColor':'transparent'},\n",
    "    tooltip=folium.GeoJsonTooltip(\n",
    "        fields=['GEOID','c_race' ], \n",
    "        aliases=['Tract ID', 'Population'],\n",
    "        labels=True,\n",
    "        localize=True\n",
    "    ),\n",
    "    highlight_function=lambda x: {'weight':3,'color':'white'}\n",
    ").add_to(map3)\n",
    "\n",
    "\n",
    "\n",
    "map3  # show map"
   ]
  },
  {
   "cell_type": "markdown",
   "metadata": {},
   "source": [
    "#### Question  \n",
    "Do you notice anything different about the `style_function` for layer2 above?"
   ]
  },
  {
   "cell_type": "markdown",
   "metadata": {},
   "source": [
    "#### Exercise\n",
    "Redo the above choropleth map code to map population density. Add both population and population density to the tooltip. Don't forget to update the legend name."
   ]
  },
  {
   "cell_type": "code",
   "execution_count": null,
   "metadata": {},
   "outputs": [],
   "source": [
    "# Your code here"
   ]
  },
  {
   "cell_type": "markdown",
   "metadata": {},
   "source": [
    "*Click here for answers*\n",
    "\n",
    "<!---\n",
    "    # SOLUTION\n",
    "    # Get our map center\n",
    "    ctrX = (tracts_gdf.total_bounds[0] + tracts_gdf.total_bounds[2])/2\n",
    "    ctrY = (tracts_gdf.total_bounds[1] + tracts_gdf.total_bounds[3])/2\n",
    "\n",
    "    map3 = folium.Map(location=[tracts_gdf.centroid.y.mean(), tracts_gdf.centroid.x.mean()], \n",
    "                      tiles='CartoDB Positron',\n",
    "                      width=800,height=600,\n",
    "                      zoom_start=11)\n",
    "\n",
    "    pop=folium.Choropleth(geo_data=tracts_gdf[['GEOID','geometry']].set_index('GEOID'),\n",
    "               data=tracts_gdf,\n",
    "               columns=['GEOID','pop_dens_km2'],\n",
    "               fill_color=\"Greens\",\n",
    "               fill_opacity=0.65,\n",
    "               line_color=\"grey\", #\"white\",\n",
    "               line_weight=1,\n",
    "               line_opacity=1,\n",
    "               key_on=\"feature.id\",\n",
    "               legend=True,\n",
    "               legend_name=\"Population density per km2\",\n",
    "               highlight=True\n",
    "              ).add_to(map3)\n",
    "\n",
    "    folium.GeoJson(tracts_gdf,\n",
    "        style_function=lambda x: {'color':'transparent','fillColor':'transparent'},\n",
    "        tooltip=folium.features.GeoJsonTooltip(\n",
    "            fields=['GEOID','c_race','pop_dens_km2' ], \n",
    "            aliases=['Tract ID', 'Population','Population Density (km2)'],\n",
    "            labels=True,\n",
    "            localize=True\n",
    "        ),\n",
    "        highlight_function=lambda x: {'weight':3,'color':'white'}\n",
    "    ).add_to(pop.geojson)\n",
    "\n",
    "\n",
    "\n",
    "    map3  # show map\n",
    "--->"
   ]
  },
  {
   "cell_type": "markdown",
   "metadata": {},
   "source": [
    "<a id=\"section7\"></a>\n",
    "## 4.7 Creating and Saving a folium Interactive Map\n",
    "\n",
    "Now that you have seen most of the ways you can add a geodataframe to a folium map, let's create one big map that includes several of our geodataframes.\n",
    "\n",
    "To control the display of the data layers, we will add a `folium.LayerControl`\n",
    "\n",
    "- A `folium.LayerControl` will allow you to toggle on/off a map's visible layers. \n",
    "\n",
    "- In order to add a layer to the LayerControl, the layer must have value set for its `name`.\n",
    "\n",
    "Let's take a look. "
   ]
  },
  {
   "cell_type": "code",
   "execution_count": null,
   "metadata": {},
   "outputs": [],
   "source": [
    "# Get our center point\n",
    "ctrX = (tracts_gdf.total_bounds[0] + tracts_gdf.total_bounds[2])/2\n",
    "ctrY = (tracts_gdf.total_bounds[1] + tracts_gdf.total_bounds[3])/2\n",
    "\n",
    "# Create a new map centered on the census tract data\n",
    "map6 = folium.Map(location=[ctrY, ctrX], \n",
    "                  tiles='CartoDB Positron',\n",
    "                  #width=800,height=600,\n",
    "                  zoom_start=10)\n",
    "\n",
    "# Add the census tract polygons as a choropleth map\n",
    "layer1=folium.Choropleth(geo_data=tracts_gdf[['GEOID','geometry']].set_index('GEOID'),\n",
    "           data=tracts_gdf,\n",
    "           columns=['GEOID','c_race'],\n",
    "           fill_color=\"Reds\",\n",
    "           fill_opacity=0.65,\n",
    "           line_color=\"grey\", #\"white\",\n",
    "           line_weight=1,\n",
    "           line_opacity=1,\n",
    "           key_on=\"feature.id\",\n",
    "           legend=True,\n",
    "           legend_name=\"Population\",\n",
    "           highlight=True,\n",
    "           name=\"census tracts\"\n",
    "          ).add_to(map6)\n",
    "\n",
    "# Add the tooltip for the census tracts as its own layer\n",
    "# Don't display in the Layer control!\n",
    "layer2 = folium.GeoJson(tracts_gdf,\n",
    "    style_function=lambda x: {'color':'transparent','fillColor':'transparent'},\n",
    "    tooltip=folium.features.GeoJsonTooltip(\n",
    "        fields=['GEOID','c_race' ], \n",
    "        aliases=['Tract ID', 'Population'],\n",
    "        labels=True,\n",
    "        localize=True\n",
    "    ),\n",
    "    highlight_function=lambda x: {'weight':3,'color':'white'}\n",
    ").add_to(layer1.geojson)\n",
    "\n",
    "# Add Bart lines\n",
    "folium.GeoJson(bart_lines,\n",
    "               name=\"Bart Lines\",\n",
    "               tooltip=folium.GeoJsonTooltip(\n",
    "                   fields=['operator' ],\n",
    "                   aliases=['Line operator'],\n",
    "                   labels=True,\n",
    "                   localize=True\n",
    "               ),\n",
    "              ).add_to(map6)\n",
    "\n",
    "\n",
    "# Add Bart stations\n",
    "folium.GeoJson(bart_stations,\n",
    "               name=\"Bart stations\",\n",
    "              tooltip=folium.GeoJsonTooltip(fields=['ts_locatio' ], \n",
    "                   aliases=['Stop Name'],\n",
    "                   labels=True,\n",
    "                   localize=True\n",
    "               ),\n",
    "              ).add_to(map6)\n",
    "\n",
    "# ADD LAYER CONTROL\n",
    "folium.LayerControl(collapsed=False).add_to(map6)\n",
    "\n",
    "map6  # show map"
   ]
  },
  {
   "cell_type": "markdown",
   "metadata": {},
   "source": [
    "<div style=\"display:inline-block;vertical-align:top;\">\n",
    "    <img src=\"https://image.flaticon.com/icons/svg/87/87705.svg\" width=\"30\" align=left > \n",
    "</div>  \n",
    "<div style=\"display:inline-block;\">\n",
    "\n",
    "#### Questions\n",
    "</div>\n",
    "\n",
    "1. Take a look at the help docs `folium.LayerControl?`. What parameter would move the location of the LayerControl? What parameter would allow it to be closed by default?\n",
    "\n",
    "2. Take a look at the way we added `layer2` above (this has the census tract tooltips). How has the code we use to add the layer to the map changed? Why do you think we made this change?"
   ]
  },
  {
   "cell_type": "code",
   "execution_count": null,
   "metadata": {},
   "outputs": [],
   "source": [
    "# Uncomment to view\n",
    "#folium.LayerControl?"
   ]
  },
  {
   "cell_type": "markdown",
   "metadata": {},
   "source": [
    "### Saving to an html file\n",
    "\n",
    "By saving our map to a html we can use it later as something to add to a website or email to a colleague.\n",
    "\n",
    "You can save any of the maps you have in the notebook using this syntax:\n",
    "\n",
    "> map_name.save(\"file_name.html\")\n",
    "\n",
    "Let's try that."
   ]
  },
  {
   "cell_type": "code",
   "execution_count": null,
   "metadata": {},
   "outputs": [],
   "source": [
    "map6.save('../outdata/bartmap.html')"
   ]
  },
  {
   "cell_type": "markdown",
   "metadata": {},
   "source": [
    "Find your html file on your computer and double-click on it to open it in a browser."
   ]
  },
  {
   "cell_type": "markdown",
   "metadata": {},
   "source": [
    "#### Exercise\n",
    "\n",
    "Using the code that we used above to make the `berkeley map` and the BART map (`map5`) make an interactive map showing\n",
    "- Oakland tracts, colored by median rent\n",
    "- Overlaying permit locations, sized by the number of approved permits.\n",
    "- Add tooltips to each layer"
   ]
  },
  {
   "cell_type": "code",
   "execution_count": null,
   "metadata": {},
   "outputs": [],
   "source": [
    "# Your code here"
   ]
  },
  {
   "cell_type": "markdown",
   "metadata": {},
   "source": [
    "*Click here for answers*\n",
    "\n",
    "<!---\n",
    "\n",
    "# SOLUTION\n",
    "\n",
    "# read in the housing app permit data\n",
    "permit_ha_parcel_gdf = gpd.read_file(\"../notebook_data/outdata/Permit_HousingApp_Parcel_Merge_Oakland.geojson\")\n",
    "\n",
    "# make a point goedataframe\n",
    "housingapp_parcel_point_gdf = gpd.GeoDataFrame(permit_ha_parcel_gdf.drop('geometry',axis=1), \n",
    "                            geometry=permit_ha_parcel_gdf.centroid)\n",
    "\n",
    "# drop any rows where the geom is null\n",
    "housingapp_parcel_point_gdf=housingapp_parcel_point_gdf[~housingapp_parcel_point_gdf.geometry.isna()]\n",
    "\n",
    "# Take a look at the columns\n",
    "housingapp_parcel_point_gdf.columns\n",
    "\n",
    "\n",
    "# SOLUTION\n",
    "\n",
    "# Create our basemap centered\n",
    "map5 = folium.Map(location=[oakland.centroid.y.mean(), oakland.centroid.x.mean()], \n",
    "                  tiles='CartoDB Positron',\n",
    "                  #width=800,height=1000,\n",
    "                  zoom_start=12,\n",
    "                  name=\"Basemap\")\n",
    "\n",
    "# Oakland tracts colored by median rent\n",
    "folium.Choropleth(geo_data=tracts_gdf[['GEOID','geometry']].set_index('GEOID'),\n",
    "           data=tracts_gdf,\n",
    "           columns=['GEOID','med_rent'],\n",
    "           fill_color=\"Blues\",\n",
    "           fill_opacity=0.65,\n",
    "           line_color=\"grey\", #\"white\",\n",
    "           line_weight=1,\n",
    "           line_opacity=1,\n",
    "           key_on=\"feature.id\",\n",
    "           legend=True,\n",
    "           legend_name=\"Median Rent\",\n",
    "           highlight=True\n",
    "          ).add_to(map5)\n",
    "\n",
    "# Add the oakland boundary\n",
    "folium.GeoJson(data=oakland,\n",
    "                   name='Oakland',smooth_factor=2,\n",
    "                   style_function=lambda x: {'color':'black','opacity':1,'fillColor':'transparent','weight':3},\n",
    "                   ).add_to(map5)\n",
    "\n",
    "\n",
    "# Add tool tips to the tracts  layer\n",
    "folium.GeoJson(tracts_gdf,\n",
    "    style_function=lambda x: {'color':'transparent','fillColor':'transparent'},\n",
    "    tooltip=folium.features.GeoJsonTooltip(\n",
    "        fields=['GEOID','med_rent' ], \n",
    "        aliases=['Tract ID', 'Median Rent'],\n",
    "        labels=True,\n",
    "        localize=True\n",
    "    ),\n",
    "    highlight_function=lambda x: {'weight':3,'color':'white'}\n",
    ").add_to(map5)\n",
    "\n",
    "housingapp_parcel_point_gdf.apply(lambda row:\n",
    "                        folium.CircleMarker(\n",
    "                                  location=[row['geometry'].y, row['geometry'].x],\n",
    "                                  radius=(row['approved']+20)/10,\n",
    "                                  color='purple',\n",
    "                                  fill=True,\n",
    "                                  fill_color='orange',\n",
    "                                  tooltip = \"Permit Location: %s<br>Approved Permits: %s\" % (row['address'], row['approved'])    \n",
    "                                 ).add_to(map5), axis=1)\n",
    "\n",
    "\n",
    "\n",
    "# COULD ALSO Add permit locations using a for loop!\n",
    "# for index, permit in housingapp_parcel_point_gdf.iterrows():\n",
    "#     nice_tip = \n",
    "#     folium.CircleMarker(\n",
    "#         location= [permit['geometry'].y, permit['geometry'].x],\n",
    "#         radius =  (permit['approved']+20)/10,\n",
    "#         tooltip = nice_tip,\n",
    "#         color='purple',\n",
    "#         fill=True,\n",
    "#         fill_color='orange'\n",
    "# ).add_to(map5)\n",
    "\n",
    "map5  # show map\n",
    "--->"
   ]
  },
  {
   "cell_type": "markdown",
   "metadata": {},
   "source": [
    "#### Extra Challenge\n",
    "\n",
    "Check out the notebook examples and find one to try with the data we have used in this notebook. I recommend the following.\n",
    "\n",
    "- [Mini-maps](https://nbviewer.jupyter.org/github/python-visualization/folium/blob/master/examples/MiniMap.ipynb)\n",
    "- [Dual-map](https://nbviewer.jupyter.org/github/python-visualization/folium/blob/master/examples/plugin-DualMap.ipynb) (choropleth maps two census tract vars)\n",
    "- [Search](https://nbviewer.jupyter.org/github/python-visualization/folium/blob/master/examples/plugin-Search.ipynb) (e.g., for a Bart Station by name)"
   ]
  },
  {
   "cell_type": "markdown",
   "metadata": {},
   "source": [
    "<a id=\"section6\"></a>\n",
    "## 4.6 Recap\n",
    "Here we learned about the wonderful world of `Folium`! We created interactive maps-- whether it be choropleth, points, lines, symbols... we mapped it all. \n",
    "\n",
    "Below you'll find a list of key functionalities we learned:\n",
    "- Interactive mapping\n",
    "\t- `folium.Map()`\n",
    "- Adding a map layer\n",
    "\t- `.add_to()`\n",
    "\t- `folium.Choropleth()`\n",
    "\t\t- `geo_data`\n",
    "\t\t- `columns`\n",
    "\t\t- `fill_color`\n",
    "\t- `folium.GeoJson()`\n",
    "\t\t- `style_function`\n",
    "\t- `folium.Marker()`\n",
    "\t\t- `icon`\n",
    "\t- `folium.CircleMarker()`\n",
    "\t\t- `radius`\n",
    "- Adding a Tooltip\n",
    "\t- `folium.GeoJsonTooltip`\n",
    "\t- `folium.features.GeoJsonTooltip`\n",
    "- Adding layer control\n",
    "\t- `folium.LayerControl()`"
   ]
  },
  {
   "cell_type": "markdown",
   "metadata": {},
   "source": [
    "## Important note\n",
    "\n",
    "The folium library changes often so I recommend you update your package frequently. This will give you increased functionality and may make future code easier to write. However, it might cause your existing code to break."
   ]
  },
  {
   "cell_type": "markdown",
   "metadata": {},
   "source": [
    "## Congrats you're done with part 4!\n",
    "\n",
    "</br>\n",
    "\n",
    "---\n",
    "## ACKNOWLEDGEMENTS\n",
    "\n",
    "### Funders\n",
    "<a href = \"https://chanzuckerberg.com\">\n",
    "<img src=\"../assets/images/CZI.png\" width=\"170\" style=\"display:inline\">\n",
    "</a>\n",
    "\n",
    "### Sponsors\n",
    "\n",
    "<a href = \"https://www.hcd.ca.gov\">\n",
    "<img src=\"../assets/images/HCD_logo.png\" width=\"110\" style=\"display:inline\"> \n",
    "</a>\n",
    "&nbsp;&nbsp;&nbsp;\n",
    "<a href = \"https://abag.ca.gov\">\n",
    "<img src=\"../assets/images/abag_logo.png\" width=\"200\" style=\"display:inline\">\n",
    "</a>\n",
    "\n",
    "### Partners\n",
    "<a href = \"https://www.urbandisplacement.org\">\n",
    "<img src=\"../assets/images/udp-logo.png\" width=\"200\" style=\"display:inline\">\n",
    "</a>\n",
    "&nbsp;&nbsp;&nbsp;\n",
    "<a href = \"https://ced.berkeley.edu/academics/city-regional-planning/\">\n",
    "<img src =\"../assets/images/DCRPlogo.jpg\" width=\"100\" style=\"display:inline\"> \n",
    "</a>\n",
    "&nbsp;&nbsp;&nbsp;\n",
    "<a href = \"https://dlab.berkeley.edu\">\n",
    "<img src =\"../assets/images/dlab_logo.png\" width=\"80\" style=\"display:inline\">\n",
    "\n",
    "<br/>\n",
    "<br/>\n",
    "\n",
    "---\n",
    "<div style=\"display:inline-block;vertical-align:middle;\">\n",
    "<a href=\"https://dataforhousing.org/\" target=\"_blank\"><img src =\"../assets/images/d4h_logo.png\" align=\"left\" width=\"75\">\n",
    "</a>\n",
    "</div>\n",
    "\n",
    "<div style=\"display:inline-block;vertical-align:middle;\">\n",
    "    <div style=\"font-size:larger;\">Data Science for Housing Workshop, University of California, Berkeley</div>\n",
    "    <div>Tim Thomas, Patty Frontiera, Emmanuel Lopez, Ethan Ebinger, Hikari Murayama, Gabriela Picado Aguilar, Severin Saenz, Alexander Ramiller, Matthew Thompson, Karen Chapple, Claudia von Vacano</div>\n",
    "    <div>&copy; UC Regents, 2019-2020</div>\n",
    "</div>"
   ]
  },
  {
   "cell_type": "code",
   "execution_count": null,
   "metadata": {},
   "outputs": [],
   "source": []
  }
 ],
 "metadata": {
  "kernelspec": {
   "display_name": "Python 3",
   "language": "python",
   "name": "python3"
  },
  "language_info": {
   "codemirror_mode": {
    "name": "ipython",
    "version": 3
   },
   "file_extension": ".py",
   "mimetype": "text/x-python",
   "name": "python",
   "nbconvert_exporter": "python",
   "pygments_lexer": "ipython3",
   "version": "3.7.4"
  }
 },
 "nbformat": 4,
 "nbformat_minor": 4
}
