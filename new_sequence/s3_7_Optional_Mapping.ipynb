{
 "cells": [
  {
   "cell_type": "markdown",
   "metadata": {},
   "source": [
    "# 7. Optional - Advanced Mapping Techniques\n",
    "\n",
    "\n",
    "- [7.1 Introduction](#section1)\n",
    "- [7.2 More Mapping Points](#sectio2) \n",
    "    - Graduated Symbol Maps\n",
    "- [7.3 Saving your maps](#section3)\n",
    "- [7.4 Bivariate Mapping](#section4)\n",
    "- [7.5 Faceted Mapping](#section5)\n",
    "\n",
    "**INSTRUCTOR NOTES**:\n",
    "- Datasets used:\n",
    "    - \"../notebook_data/outdata/tracts_acs_gdf_ac.json\"\n",
    "    - \"../notebook_data/outdata/tracts_acs_gdf_sf.json\"\n",
    "- Expected time to complete:\n",
    "    - 1.5 hours"
   ]
  },
  {
   "cell_type": "markdown",
   "metadata": {},
   "source": [
    "<a id=\"section1\"></a>\n",
    "## 7.1 Introduction\n",
    "\n",
    "\n",
    "In this optional notebook you'll learn another point mapping technique and how to combine point and choropleth maps to create a bivariate map. We then discuss faceted mapping to look at variables and how they evolve over time."
   ]
  },
  {
   "cell_type": "markdown",
   "metadata": {},
   "source": [
    "## Set-up\n",
    "\n",
    "First confirm that you have the following packages installed. \n",
    "Let's import the packages as we did with our last notebook."
   ]
  },
  {
   "cell_type": "code",
   "execution_count": null,
   "metadata": {},
   "outputs": [],
   "source": [
    "import numpy as np\n",
    "import pandas as pd\n",
    "import geopandas as gpd\n",
    "\n",
    "import geojson # ditto for GeoJSON data - an extension of JSON with support for geographic data\n",
    "\n",
    "import matplotlib # base python plotting library\n",
    "import matplotlib.pyplot as plt # submodule of matplotlib\n",
    "\n",
    "import mapclassify # to classify data values\n",
    "\n",
    "# To display plots, maps, charts etc in the notebook\n",
    "%matplotlib inline  "
   ]
  },
  {
   "cell_type": "markdown",
   "metadata": {},
   "source": [
    "<a id=\"section 2\"></a>\n",
    "## 7.2 More Mapping Points\n",
    "### Graduated symbol mapping\n",
    "\n",
    "We'll now move on to **graduated symbol mapping**. Proportional Symbol maps are unclassed, and the size of our markers are for absolute magnitude. With graduated symbols, we use a classification scheme to set the size of point symbols.\n",
    "\n",
    "Let's map the count of renters (`c_renters`) again. We can first use `.describe()`, which we used before, to see what values are at the 25th, 50th, and 75th percentiles."
   ]
  },
  {
   "cell_type": "code",
   "execution_count": null,
   "metadata": {},
   "outputs": [],
   "source": [
    "# Import tracts data\n",
    "tracts_acs_gdf = gpd.read_file(\"../notebook_data/outdata/tracts_acs_gdf_ac.json\")"
   ]
  },
  {
   "cell_type": "code",
   "execution_count": null,
   "metadata": {},
   "outputs": [],
   "source": [
    "# Create point dataset\n",
    "tracts_acs_gdf_point = gpd.GeoDataFrame(tracts_acs_gdf.loc[:,tracts_acs_gdf.columns!='geometry'], \n",
    "                            geometry=tracts_acs_gdf.centroid)"
   ]
  },
  {
   "cell_type": "code",
   "execution_count": null,
   "metadata": {
    "scrolled": true
   },
   "outputs": [],
   "source": [
    "tracts_acs_gdf_point['c_renters'].describe()"
   ]
  },
  {
   "cell_type": "markdown",
   "metadata": {},
   "source": [
    "Unfortunately, we cannot use the plot `scheme` argument to classify the data being mapped.  But we can manually create a classification for the data using the underlying tools."
   ]
  },
  {
   "cell_type": "code",
   "execution_count": null,
   "metadata": {},
   "outputs": [],
   "source": [
    "quantile_bins = mapclassify.Quantiles(tracts_acs_gdf_point['c_renters'], k=5)\n",
    "quantile_bins"
   ]
  },
  {
   "cell_type": "markdown",
   "metadata": {},
   "source": [
    "Above, we created five bins (`k=5`) from the data in the `c_renters` column. When we display `quantile_bins` we see the bin ranges and the number of observations in each bin.\n",
    "\n",
    "We can get the number of bins out of the `quantile_bins` object:"
   ]
  },
  {
   "cell_type": "code",
   "execution_count": null,
   "metadata": {},
   "outputs": [],
   "source": [
    "# Number of bins\n",
    "quantile_bins.k"
   ]
  },
  {
   "cell_type": "markdown",
   "metadata": {},
   "source": [
    "The `yb` attribute of `quantile_bins` will give us the bin identifier for each `c_renters` value."
   ]
  },
  {
   "cell_type": "code",
   "execution_count": null,
   "metadata": {},
   "outputs": [],
   "source": [
    "print(quantile_bins.yb)\n",
    "\n",
    "print(\"\\nDo we have a bin id for each tract?\", len(quantile_bins.yb) == len(tracts_acs_gdf_point['c_renters']))"
   ]
  },
  {
   "cell_type": "markdown",
   "metadata": {},
   "source": [
    "The `bins` attribute will give us the upper bounds of each bin."
   ]
  },
  {
   "cell_type": "code",
   "execution_count": null,
   "metadata": {},
   "outputs": [],
   "source": [
    "quantile_bins.bins"
   ]
  },
  {
   "cell_type": "markdown",
   "metadata": {},
   "source": [
    "We can use these bins to create custom labels for our graduated symbol map legend."
   ]
  },
  {
   "cell_type": "code",
   "execution_count": null,
   "metadata": {
    "scrolled": true
   },
   "outputs": [],
   "source": [
    "renter_label = [\"< 293\", \"293 - 542\", \"542 - 788\", \"788 - 1142\", \"> 1142\"]"
   ]
  },
  {
   "cell_type": "markdown",
   "metadata": {},
   "source": [
    "We can then loop through our quantile groups, plot them in different sizes, and create a legend."
   ]
  },
  {
   "cell_type": "code",
   "execution_count": null,
   "metadata": {},
   "outputs": [],
   "source": [
    "fig, ax = plt.subplots(figsize = (15,15)) \n",
    "\n",
    "# Add the census tract polygons in the background\n",
    "tracts_acs_gdf.plot(color='lightgrey',\n",
    "                    edgecolor='white',\n",
    "                    ax=ax)\n",
    "\n",
    "# Overlay the points - setting the size based on the quantile bin\n",
    "for i in range(quantile_bins.k):\n",
    "    # add the tract point data as separate layers - one four each quantile bin\n",
    "    tracts_acs_gdf_point[quantile_bins.yb==i].plot(\n",
    "                                         edgecolor='red',\n",
    "                                         color=\"pink\",                             \n",
    "                                         alpha=0.4, \n",
    "                                         linewidths=1, \n",
    "                                         markersize=(3**(i+1)),  #The number three to the power of i+1\n",
    "                                         legend=True,\n",
    "                                         label=renter_label[i],\n",
    "                                         ax=ax)\n",
    "                                         \n",
    "\n",
    "plt.legend()\n",
    "plt.show()"
   ]
  },
  {
   "cell_type": "markdown",
   "metadata": {},
   "source": [
    "#### Exercise\n",
    "\n",
    "Redo the above with `FisherJenks` classification. Recall that `FisherJenks` minimizes within-class variance and maximize between-class differences. This is great for exploratory data analysis since it can identify natural groupings in the data. "
   ]
  },
  {
   "cell_type": "code",
   "execution_count": null,
   "metadata": {},
   "outputs": [],
   "source": [
    "# Your code here"
   ]
  },
  {
   "cell_type": "markdown",
   "metadata": {},
   "source": [
    "*Click here for answers*\n",
    "\n",
    "<!--- \n",
    "    # SOLUTION\n",
    "    jenks_bins= mapclassify.FisherJenks(tracts_acs_gdf_point['c_renters'], k=5)\n",
    "    jenks_bins\n",
    "\n",
    "    # SOLUTION\n",
    "    renter_labels_jenks = [\"< 436\",\"436 - 839\",\"839 - 1211\",\"1211 - 1781\", \"> 1781\"]\n",
    "\n",
    "    fig, ax = plt.subplots(figsize = (15,15)) \n",
    "\n",
    "    tracts_acs_gdf.plot(color='lightgrey',\n",
    "                        edgecolor='white',\n",
    "                        ax=ax)\n",
    "\n",
    "    for i in range(jenks_bins.k):\n",
    "        tracts_acs_gdf_point[jenks_bins.yb==i].plot(\n",
    "                                             edgecolor='darkorchid',\n",
    "                                             color=\"mediumpurple\",                             \n",
    "                                             alpha=0.4, \n",
    "                                             linewidths=1, \n",
    "                                             markersize=(3**(i+1)),  #The number three to the power of i+1\n",
    "                                             label=renter_labels_jenks[i],\n",
    "                                             ax=ax)\n",
    "\n",
    "    plt.legend()\n",
    "    plt.tight_layout()\n",
    "    plt.title(\"Alameda County, Count of Renters by Census Tract\")\n",
    "    plt.show()\n",
    "--->"
   ]
  },
  {
   "cell_type": "markdown",
   "metadata": {},
   "source": [
    "<a id=\"section3\"></a>\n",
    "## 7.3 Saving your maps\n",
    "\n",
    "You can save your maps with the `plt.savefig` method.\n",
    "\n",
    "> **Important**: you must `plt.savefig` your map before you display it with `plt.show()`! \n",
    "\n",
    "For example..."
   ]
  },
  {
   "cell_type": "code",
   "execution_count": null,
   "metadata": {
    "scrolled": true
   },
   "outputs": [],
   "source": [
    "fig, ax = plt.subplots(figsize = (15,15)) \n",
    "\n",
    "# Add the census tract polygons in the background\n",
    "tracts_acs_gdf.plot(color='lightgrey',\n",
    "                    edgecolor='white',\n",
    "                    ax=ax)\n",
    "\n",
    "# Overlay the points - setting the size based on the quantile bin\n",
    "for i in range(quantile_bins.k):\n",
    "    # add the tract point data as separate layers - one four each quantile bin\n",
    "    tracts_acs_gdf_point[quantile_bins.yb==i].plot(\n",
    "                                         edgecolor='red',\n",
    "                                         color=\"pink\",                             \n",
    "                                         alpha=0.4, \n",
    "                                         linewidths=1, \n",
    "                                         markersize=(3**(i+1)),  #The number three to the power of i+1\n",
    "                                         legend=True,\n",
    "                                         label=renter_label[i],\n",
    "                                         ax=ax)\n",
    "                                         \n",
    "\n",
    "plt.legend()\n",
    "plt.tight_layout()\n",
    "plt.title(\"Alameda County, Count of Renters by Census Tract\")\n",
    " \n",
    "# Save figure before showing it\n",
    "plt.savefig('./img/AC_renters.png')\n",
    "\n",
    "# Display map in the notebook\n",
    "plt.show()"
   ]
  },
  {
   "cell_type": "code",
   "execution_count": null,
   "metadata": {},
   "outputs": [],
   "source": [
    "### Take a look at your saved map file \n",
    "\n",
    "#### You can view your saved file by uncommenting the line below and then changing this code cell to markdown.\n",
    "#### you can also browse to the folder in which it resides and click on it to view\n",
    "\n",
    "#<img src = \"./img/AC_renters.png\">"
   ]
  },
  {
   "cell_type": "markdown",
   "metadata": {},
   "source": [
    "<a id=\"section4\"></a>\n",
    "## 7.4 Bivariate Mapping\n",
    "\n",
    "**Bivariate mapping** is a technique that involves mapping 2 different variables to visually explore any spatial relationship between the variables of interest. \n",
    "\n",
    "Let's compare and investigate the correlation between the non-white population percentages and median household income."
   ]
  },
  {
   "cell_type": "markdown",
   "metadata": {},
   "source": [
    "Remember how we did a bivariate plot in part 1? Let's remake that plot here."
   ]
  },
  {
   "cell_type": "code",
   "execution_count": null,
   "metadata": {},
   "outputs": [],
   "source": [
    "# First create a percent non-white variable\n",
    "tracts_acs_gdf['pct_nonwhite'] = 100 * ((tracts_acs_gdf['c_race'] - tracts_acs_gdf['c_white']) / tracts_acs_gdf['c_race'])"
   ]
  },
  {
   "cell_type": "markdown",
   "metadata": {},
   "source": [
    "Now, create a non-spatial bivariate graph just to see what the relationship might be between the two variables if we're not thinking about them spatially."
   ]
  },
  {
   "cell_type": "code",
   "execution_count": null,
   "metadata": {
    "scrolled": true
   },
   "outputs": [],
   "source": [
    "# Bivariate\n",
    "# plot it\n",
    "plt.scatter(tracts_acs_gdf['pct_nonwhite'],\n",
    "            tracts_acs_gdf['med_hhinc'])\n",
    "plt.xlabel('Percent Non-White')\n",
    "plt.ylabel('Est. Median Household Income')"
   ]
  },
  {
   "cell_type": "markdown",
   "metadata": {},
   "source": [
    "We can see from the above that there is an inverse relationship between these two variables.\n",
    "\n",
    "Our goal here is to take this idea, and expand it to visualize it spatially. Here we'll use the variables `pct_nonwhite` and `med_hhinc`.\n",
    "\n",
    "We can visualize both variables spatially if we map one geodataframe as a `choropleth map layer` and one as a `graduated color map layer`.\n"
   ]
  },
  {
   "cell_type": "code",
   "execution_count": null,
   "metadata": {},
   "outputs": [],
   "source": [
    "fig, ax = plt.subplots(figsize = (15,8)) \n",
    "\n",
    "# Plot percent non-white as choropleth\n",
    "tracts_acs_gdf.plot(column='pct_nonwhite', \n",
    "                        legend=True,\n",
    "                        legend_kwds={'title': 'Percent Non-white', 'loc':'upper right'},\n",
    "                        cmap=\"Blues\", \n",
    "                        scheme='user_defined', \n",
    "                        classification_kwds={'bins':[20, 40, 60, 80]}, \n",
    "                        ax=ax)\n",
    "\n",
    "# Plot median household income as graduated color symbols\n",
    "tracts_acs_gdf_point.plot(\n",
    "    column=tracts_acs_gdf_point['med_hhinc'],\n",
    "    cmap='Reds',\n",
    "    alpha=1, \n",
    "    linewidth=0.5, \n",
    "    markersize=60,\n",
    "    legend=True,\n",
    "    legend_kwds={'label': \"Median Household Income ($)\"},\n",
    "    ax=ax)\n",
    "\n",
    "plt.title(\"Alameda County, Percent Non-White / Median Household Income\")\n",
    "plt.tight_layout()\n",
    "plt.show()"
   ]
  },
  {
   "cell_type": "markdown",
   "metadata": {},
   "source": [
    "To customize this a couple steps further, you can do things like title our `pct_nonwhite` legend and remove our tick marks. "
   ]
  },
  {
   "cell_type": "code",
   "execution_count": null,
   "metadata": {},
   "outputs": [],
   "source": [
    "fig, ax = plt.subplots(figsize = (15,6)) \n",
    "\n",
    "# Plot percent non-white as choropleth\n",
    "pct_nonwhite_choro = tracts_acs_gdf.plot(column='pct_nonwhite', \n",
    "                                       cmap=\"Blues\", \n",
    "                                       legend=True,\n",
    "                                       scheme='user_defined', \n",
    "                                       classification_kwds={'bins':[20, 40,60,80]},\n",
    "                                       legend_kwds={'loc':'upper right','title':\"Percent non-white\\n\"},\n",
    "                                       ax=ax)\n",
    "# Customize the legend labels\n",
    "legend_labels_list = ['<20%','20% - 40%','40% - 60%','60% - 80%','80% - 100%']\n",
    "for j in range(0,len(ax.get_legend().get_texts())):\n",
    "        ax.get_legend().get_texts()[j].set_text(legend_labels_list[j])\n",
    "\n",
    "# Plot median household income as points with color based on rent amount\n",
    "tracts_acs_gdf_point.plot(\n",
    "    cmap='Reds',\n",
    "    column=tracts_acs_gdf_point['med_hhinc'],\n",
    "    alpha=0.8, \n",
    "    linewidth=0.5, \n",
    "    markersize=50,\n",
    "    legend=True,\n",
    "    legend_kwds={'label': \"Median Household Income ($)\"},\n",
    "    ax=ax)\n",
    "\n",
    "# Remove tickmarks\n",
    "plt.tick_params(axis='both',  # both x and y axis\n",
    "                which='both', # both major and minor\n",
    "                bottom=False, # don't show bottom ticks\n",
    "                left=False)   # don't show left ticks\n",
    "\n",
    "plt.tight_layout()\n",
    "plt.show()"
   ]
  },
  {
   "cell_type": "markdown",
   "metadata": {},
   "source": [
    "Beautiful! So that we can put this in whatever document, publication, website etc. we'll try saving it out."
   ]
  },
  {
   "cell_type": "code",
   "execution_count": null,
   "metadata": {},
   "outputs": [],
   "source": [
    "fig, ax = plt.subplots(figsize = (15,6)) \n",
    "\n",
    "# Plot percent non-white as choropleth\n",
    "pct_nonwhite_choro = tracts_acs_gdf.plot(column='pct_nonwhite', \n",
    "                                       cmap=\"Blues\", \n",
    "                                       legend=True,\n",
    "                                       scheme='user_defined', \n",
    "                                       classification_kwds={'bins':[20, 40,60,80]},\n",
    "                                       legend_kwds={'loc':'upper right','title':\"Percent non-white\\n\"},\n",
    "                                       ax=ax)\n",
    "legend_labels_list = ['<20%','20% - 40%','40% - 60%','60% - 80%','80% - 100%']\n",
    "for j in range(0,len(ax.get_legend().get_texts())):\n",
    "        ax.get_legend().get_texts()[j].set_text(legend_labels_list[j])\n",
    "\n",
    "# Plot median rent as points with color based on rent amount\n",
    "tracts_acs_gdf_point.plot(\n",
    "    cmap='Reds',\n",
    "    column=tracts_acs_gdf_point['med_rent'],\n",
    "    alpha=0.8, \n",
    "    linewidth=0.5, \n",
    "    markersize=50,\n",
    "    legend=True,\n",
    "    legend_kwds={'label': \"Median Rent ($)\"},\n",
    "    ax=ax)\n",
    "\n",
    "# For removing tickmarks\n",
    "plt.tick_params(axis='both',  # both x and y axis\n",
    "                which='both', # both major and minor\n",
    "                bottom=False, # don't show bottom ticks\n",
    "                left=False)   # don't show left ticks\n",
    "\n",
    "plt.tight_layout()\n",
    "\n",
    "\n",
    "# Save figure before showing it\n",
    "plt.savefig('../outdata/AC_nonwhite_med_hhinc.png')\n",
    "\n",
    "plt.show()"
   ]
  },
  {
   "cell_type": "markdown",
   "metadata": {},
   "source": [
    "#### Exercise\n",
    "Make a bivariate map for SF!\n",
    "Then discuss a partner about the effectiveness of the map you made and determine what you could do differently."
   ]
  },
  {
   "cell_type": "code",
   "execution_count": null,
   "metadata": {},
   "outputs": [],
   "source": [
    "# Your code here"
   ]
  },
  {
   "cell_type": "markdown",
   "metadata": {},
   "source": [
    "*Click here for answers*\n",
    "\n",
    "<!--- \n",
    "    # SOLUTION\n",
    "    tracts_acs_gdf_sf = gpd.read_file(\"../notebook_data/outdata/tracts_acs_gdf_sf.json\")\n",
    "    tracts_acs_gdf_sf['pct_nonwhite'] = 100 * ((tracts_acs_gdf_sf['c_race'] - tracts_acs_gdf_sf['c_white']) / tracts_acs_gdf_sf['c_race'])\n",
    "    tracts_acs_gdf_sf.pct_nonwhite\n",
    "\n",
    "    # SOLUTION\n",
    "    tracts_acs_gdf_sf_point = gpd.GeoDataFrame(tracts_acs_gdf_sf.loc[:,tracts_acs_gdf_sf.columns!='geometry'], \n",
    "                                geometry=tracts_acs_gdf_sf.centroid)\n",
    "\n",
    "    # SOLUTION\n",
    "\n",
    "    fig, ax = plt.subplots(figsize = (15,6)) \n",
    "\n",
    "    # Plot percent non-white as choropleth\n",
    "    tracts_acs_gdf_sf.plot(column='pct_nonwhite', \n",
    "                            legend=True, \n",
    "                            label=\"%Non-white\",\n",
    "                            cmap=\"Blues\", \n",
    "                            scheme='user_defined', \n",
    "                            classification_kwds={'bins':[20, 40,60,80]}, \n",
    "                            ax=ax)\n",
    "\n",
    "    # Plot median rent as points with color based on rent amount\n",
    "    tracts_acs_gdf_sf_point.plot(\n",
    "        cmap='Reds',\n",
    "        column=tracts_acs_gdf_sf_point['med_rent'],\n",
    "        alpha=0.8, \n",
    "        linewidth=0.5, \n",
    "        markersize=50,\n",
    "        legend=True,\n",
    "        legend_kwds={'label': \"Median Rent ($)\"},\n",
    "        ax=ax)\n",
    "\n",
    "    plt.tight_layout()\n",
    "    plt.show()\n",
    "--->"
   ]
  },
  {
   "cell_type": "markdown",
   "metadata": {},
   "source": [
    "<a id=\"section5\"></a>\n",
    "## 7.5 Faceted mapping\n",
    "\n",
    "**Faceted mapping** is where we arrange numerous maps side-by-side to see how variables such as time effect our maps. Each map within this series usually has the shape extent and shape. We can also use this method to see how different variables have diverging or related spatial patterns. "
   ]
  },
  {
   "cell_type": "markdown",
   "metadata": {},
   "source": [
    "In order to do a temporal comparison, let's pull in our 2013 tract and census data. We'll go through the same process as we did in s3_1 to prepare it."
   ]
  },
  {
   "cell_type": "code",
   "execution_count": null,
   "metadata": {},
   "outputs": [],
   "source": [
    "# Import 2013 tract data\n",
    "tracts_gdf_2013 = gpd.read_file('zip://../notebook_data/census/Tracts/cb_2013_06_tract_500k.zip')\n",
    "tracts_gdf_2013 = tracts_gdf_2013[tracts_gdf_2013['COUNTYFP']=='001']\n",
    "tracts_gdf_2013.head(2)"
   ]
  },
  {
   "cell_type": "code",
   "execution_count": null,
   "metadata": {},
   "outputs": [],
   "source": [
    "# Import ACS data\n",
    "acs5data_df_2013 = pd.read_csv(\"../notebook_data/census/ACS5yr/census_variables_CA_2013.zip\", dtype={'FIPS_11_digit':str})\n",
    "acs5data_df_2013.head(2)"
   ]
  },
  {
   "cell_type": "code",
   "execution_count": null,
   "metadata": {},
   "outputs": [],
   "source": [
    "# Create a percent non-white variable\n",
    "acs5data_df_2013['pct_nonwhite'] = 100 * ((acs5data_df_2013['c_race'] - acs5data_df_2013['c_white']) / acs5data_df_2013['c_race'])"
   ]
  },
  {
   "cell_type": "code",
   "execution_count": null,
   "metadata": {},
   "outputs": [],
   "source": [
    "# Fix FIPS code\n",
    "acs5data_df_2013['FIPS_11_digit']"
   ]
  },
  {
   "cell_type": "code",
   "execution_count": null,
   "metadata": {},
   "outputs": [],
   "source": [
    "acs5data_df_2013['FIPS_11_digit']"
   ]
  },
  {
   "cell_type": "code",
   "execution_count": null,
   "metadata": {},
   "outputs": [],
   "source": [
    "# Inner join keeps only data where both tract geometry and demographic data exist for the tract\n",
    "tracts_acs_gdf_2013 = tracts_gdf_2013.merge(acs5data_df_2013, left_on='GEOID',right_on=\"FIPS_11_digit\", how='inner')\n",
    "tracts_acs_gdf_2013.head()"
   ]
  },
  {
   "cell_type": "markdown",
   "metadata": {},
   "source": [
    "Let's check to make sure we have the variables we want to compare"
   ]
  },
  {
   "cell_type": "code",
   "execution_count": null,
   "metadata": {},
   "outputs": [],
   "source": [
    "tracts_acs_gdf_2013[['pct_nonwhite', 'med_rent', 'med_hhinc']]"
   ]
  },
  {
   "cell_type": "markdown",
   "metadata": {},
   "source": [
    "We'll save these out as the variables we want to compare so we can refer to them later."
   ]
  },
  {
   "cell_type": "code",
   "execution_count": null,
   "metadata": {},
   "outputs": [],
   "source": [
    "mapvars = ['pct_nonwhite', 'med_rent', 'med_hhinc']"
   ]
  },
  {
   "cell_type": "markdown",
   "metadata": {},
   "source": [
    "First, let's map each variable separately. "
   ]
  },
  {
   "cell_type": "code",
   "execution_count": null,
   "metadata": {},
   "outputs": [],
   "source": [
    "# Choropleth map of Pct Nonwhite\n",
    "tracts_acs_gdf_2013[tracts_acs_gdf_2013['pct_nonwhite']>0].plot(column = 'pct_nonwhite',\n",
    "                                                              scheme='user_defined',\n",
    "                                                              classification_kwds={'bins':[20,40,60,80]}, \n",
    "                                                              legend=True, \n",
    "                                                              legend_kwds={'loc': 'upper left'})\n",
    "plt.show()"
   ]
  },
  {
   "cell_type": "code",
   "execution_count": null,
   "metadata": {},
   "outputs": [],
   "source": [
    "# Choropleth map of Median household rent\n",
    "tracts_acs_gdf_2013[tracts_acs_gdf_2013['med_rent']>0].plot(column = 'med_rent',\n",
    "                                                              scheme='user_defined',\n",
    "                                                              classification_kwds={'bins':[500,1000,1500,2000,4000]}, \n",
    "                                                              legend=True, \n",
    "                                                              legend_kwds={'loc': 'upper left'})\n",
    "plt.show()"
   ]
  },
  {
   "cell_type": "markdown",
   "metadata": {},
   "source": [
    "Now it's your turn! Make a choropleth for `med_hhinc`."
   ]
  },
  {
   "cell_type": "code",
   "execution_count": null,
   "metadata": {},
   "outputs": [],
   "source": [
    "# Choropleth map of median household income"
   ]
  },
  {
   "cell_type": "markdown",
   "metadata": {},
   "source": [
    "*Click here for answers*\n",
    "\n",
    "<!---\n",
    "    tracts_acs_gdf_2013[tracts_acs_gdf_2013['med_hhinc']>0].plot(column = 'med_hhinc',\n",
    "                                                                  scheme='user_defined',\n",
    "                                                                  classification_kwds={'bins':[50000,75000,100000,150000]}, \n",
    "                                                                  legend=True, \n",
    "                                                                  legend_kwds={'loc': 'upper left'})\n",
    "    plt.show()\n",
    "--->"
   ]
  },
  {
   "cell_type": "markdown",
   "metadata": {},
   "source": [
    "#### Extra Challenge \n",
    "Try making all of these maps using a `for` loop!"
   ]
  },
  {
   "cell_type": "code",
   "execution_count": null,
   "metadata": {},
   "outputs": [],
   "source": [
    "# Your code here"
   ]
  },
  {
   "cell_type": "markdown",
   "metadata": {},
   "source": [
    "*Click here for answers*\n",
    "\n",
    "<!--- \n",
    "    mapvars = ['pct_nonwhite', 'med_rent', 'med_hhinc']\n",
    "    break_dict = {'pct_nonwhite':[20,40,60,80],\n",
    "                  'med_rent':[500,1000,1500,2000,4000],\n",
    "                  'med_hhinc':[50000,75000,100000,150000]}\n",
    "\n",
    "    for mapvar in mapvars:\n",
    "        tracts_acs_gdf_2013[tracts_acs_gdf_2013[mapvar]>0].plot(column = mapvar,\n",
    "                                                                  scheme='user_defined',\n",
    "                                                                  classification_kwds={'bins':break_dict[mapvar]}, \n",
    "                                                                  legend=True, \n",
    "                                                                  legend_kwds={'loc': 'upper left'})\n",
    "        plt.show()\n",
    "--->"
   ]
  },
  {
   "cell_type": "markdown",
   "metadata": {},
   "source": [
    "We're now going to start making our facet map.\n",
    "\n",
    "To be able to loop through our variables, we're first going to make a couple of dictionaries. Each dictionary holds the following information:\n",
    "- `break_dict` -  Thresholds for each group within the variable\n",
    "- `legend_labels_dict` - Legend labels according to thresholds of each group\n",
    "- `title_dict` - Titles for each subplot according to the variable"
   ]
  },
  {
   "cell_type": "code",
   "execution_count": null,
   "metadata": {},
   "outputs": [],
   "source": [
    "break_dict = {'pct_nonwhite':[20,40,60,80],\n",
    "              'med_rent':[500,1000,1500,2000,4000],\n",
    "              'med_hhinc':[50000,75000,100000,150000]}\n",
    "\n",
    "legend_labels_dict = {\n",
    "              'pct_nonwhite':['<20%','20% - 40%','40% - 60%','60% - 80%','80% - 100%'], \n",
    "              'med_rent':[\"<$500\",'\\$500 - $1,000','\\$1,000 - $1,500','\\$1,500 - $2,000','\\$2,000 - $4,000+'],\n",
    "              'med_hhinc':['<$50,000','\\$50,000 - $75,000','\\$75,000 - $100,000','\\$100,000 - $150,000','>$150,000']}\n",
    "    \n",
    "title_dict = {'pct_nonwhite':'Pct Non-white or Asian',\n",
    "              'med_rent': 'Median Rent',\n",
    "              'med_hhinc':'Median Household Income'}"
   ]
  },
  {
   "cell_type": "markdown",
   "metadata": {},
   "source": [
    "We'll focus on 2013 first. Walk through this code step by step and discuss with a neighbor what you think is happening here."
   ]
  },
  {
   "cell_type": "code",
   "execution_count": null,
   "metadata": {},
   "outputs": [],
   "source": [
    "f, axs = plt.subplots(nrows=1, ncols=3, figsize=(18,16))\n",
    "# Make the axes accessible with single indexing\n",
    "axs = axs.flatten()\n",
    "\n",
    "# Start a loop over all the variables of interest\n",
    "for i, col in enumerate(mapvars):\n",
    "    # select the axis where the map will go\n",
    "    ax = axs[i]\n",
    "    # Plot the map\n",
    "    tracts_acs_gdf_2013[tracts_acs_gdf_2013[col]>0].plot(col,\n",
    "                                                 scheme='user_defined', \n",
    "                                                 classification_kwds={'bins':break_dict[col]}, \n",
    "                                                 ax=ax, \n",
    "                                                 legend=True, legend_kwds={'loc': 'upper left'})\n",
    "    # Remove axis clutter\n",
    "    ax.set_axis_off()\n",
    "    # Set the axis title to the name of variable being plotted\n",
    "    ax.set_title(title_dict[col]+ ', 2013')\n",
    "    # fix the legend labels\n",
    "    for j in range(0,len(ax.get_legend().get_texts())):\n",
    "        ax.get_legend().get_texts()[j].set_text(legend_labels_dict[col][j])\n",
    "# Display the figure\n",
    "plt.show()"
   ]
  },
  {
   "cell_type": "markdown",
   "metadata": {},
   "source": [
    "On to our 2018 data!"
   ]
  },
  {
   "cell_type": "code",
   "execution_count": null,
   "metadata": {},
   "outputs": [],
   "source": [
    "break_dict = {'pct_nonwhite':[20,40,60,80],\n",
    "              'med_rent':[500,1000,1500,2000,4000],\n",
    "              'med_hhinc':[50000,75000,100000,150000]}\n",
    "\n",
    "legend_labels_dict = {\n",
    "              'pct_nonwhite':['0% - 20%','20% - 40%','40% - 60%','60% - 80%','80% - 100%'], \n",
    "              'med_rent':[\"\\$0 - $500\",'\\$500 - $1,000','\\$1,000 - $1,500','\\$1,500 - $2,000','\\$2,000 - $4,000+'],\n",
    "              'med_hhinc':['\\$0 - $50,000','\\$50,000 - $75,000','\\$75,000 - $100,000','\\$100,000 - $150,000','>$150,000']}\n",
    "    \n",
    "title_dict = {'pct_nonwhite':'Pct Non-white or Asian',\n",
    "              'med_rent': 'Median Rent',\n",
    "              'med_hhinc':'Median Household Income'}\n",
    "\n",
    "f, axs = plt.subplots(nrows=1, ncols=3, figsize=(18,16))\n",
    "\n",
    "# Make the axes accessible with single indexing\n",
    "axs = axs.flatten()\n",
    "# Start a loop over all the variables of interest\n",
    "for i, col in enumerate(mapvars):\n",
    "    # select the axis where the map will go\n",
    "    ax = axs[i]\n",
    "    # Plot the map\n",
    "    #db.plot(column=col, ax=ax, scheme='Quantiles', \n",
    "    #        linewidth=0, cmap='RdPu')\n",
    "    tracts_acs_gdf[tracts_acs_gdf[col]>0].plot(col,\n",
    "                                       scheme='user_defined', \n",
    "                                       classification_kwds={'bins':break_dict[col]},\n",
    "                                       ax=ax, \n",
    "                                       legend=True, legend_kwds={'loc': 'upper left'})\n",
    "    \n",
    "    #ax.get_legend().set_text(legend_labels_dic[col])\n",
    "    # Remove axis clutter\n",
    "    ax.set_axis_off()\n",
    "    # Set the axis title to the name of variable being plotted\n",
    "    #ax.set_title(col)\n",
    "    ax.set_title(title_dict[col]+ ', 2018')\n",
    "    # fix the legend labels\n",
    "    for j in range(0,len(ax.get_legend().get_texts())):\n",
    "        ax.get_legend().get_texts()[j].set_text(legend_labels_dict[col][j])\n",
    "\n",
    "# Display the figure\n",
    "plt.show()"
   ]
  },
  {
   "cell_type": "markdown",
   "metadata": {},
   "source": [
    "Amazing, time to put it all together!"
   ]
  },
  {
   "cell_type": "code",
   "execution_count": null,
   "metadata": {},
   "outputs": [],
   "source": [
    "f, axs = plt.subplots(nrows=2, ncols=3, figsize=(18,10))\n",
    "# Make the axes accessible with single indexing\n",
    "axs = axs.flatten()\n",
    "\n",
    "# Start a loop over all the variables of interest\n",
    "for i, col in enumerate(mapvars):\n",
    "    # select the axis where the map will go\n",
    "    ax = axs[i]\n",
    "    # Plot the map\n",
    "    tracts_acs_gdf_2013[tracts_acs_gdf_2013[col]>0].plot(col,\n",
    "                                                 scheme='user_defined', \n",
    "                                                 classification_kwds={'bins':break_dict[col]}, \n",
    "                                                 ax=ax, \n",
    "                                                 legend=True, legend_kwds={'loc': 'lower left'})\n",
    "    # Remove axis clutter\n",
    "    ax.set_axis_off()\n",
    "    # Set the axis title to the name of variable being plotted\n",
    "    ax.set_title(title_dict[col]+ ', 2013')\n",
    "    # fix the legend labels\n",
    "    for j in range(0,len(ax.get_legend().get_texts())):\n",
    "        ax.get_legend().get_texts()[j].set_text(legend_labels_dict[col][j])\n",
    "\n",
    "# Start a loop over all the variables of interest\n",
    "for i, col in enumerate(mapvars):\n",
    "    # select the axis where the map will go\n",
    "    ax = axs[i+3]\n",
    "    # Plot the mapaa\n",
    "    tracts_acs_gdf[tracts_acs_gdf[col]>0].plot(col,\n",
    "                                       scheme='user_defined', \n",
    "                                       classification_kwds={'bins':break_dict[col]},\n",
    "                                       ax=ax, \n",
    "                                       legend=True, legend_kwds={'loc': 'lower left'})\n",
    "    \n",
    "    #ax.get_legend().set_text(legend_labels_dic[col])\n",
    "    # Remove axis clutter\n",
    "    ax.set_axis_off()\n",
    "    # Set the axis title to the name of variable being plotted\n",
    "    #ax.set_title(col)\n",
    "    ax.set_title(title_dict[col]+ ', 2018')\n",
    "    # fix the legend labels\n",
    "    for j in range(0,len(ax.get_legend().get_texts())):\n",
    "        ax.get_legend().get_texts()[j].set_text(legend_labels_dict[col][j])\n",
    "\n",
    "plt.tight_layout()\n",
    "# Display the figure\n",
    "plt.show()"
   ]
  },
  {
   "cell_type": "markdown",
   "metadata": {},
   "source": [
    "Pat yourself on the back! You made your first facet map. Discuss with your partner how you could make this better."
   ]
  },
  {
   "cell_type": "markdown",
   "metadata": {},
   "source": [
    "#### Exercise\n",
    "\n",
    "Make your own faceted map for SF. You'll need to do the following steps\n",
    "1. Prepare SF 2013 tracts data\n",
    "2. Join with the ACS data\n",
    "3. Step-by-step create your facet map with variables of your choosing!"
   ]
  },
  {
   "cell_type": "code",
   "execution_count": null,
   "metadata": {},
   "outputs": [],
   "source": [
    "# Your code here"
   ]
  },
  {
   "cell_type": "markdown",
   "metadata": {},
   "source": [
    "*Click here for answers*\n",
    "\n",
    "<!--- \n",
    "    # SOLUTION\n",
    "    tracts_gdf_sf_2013 = gpd.read_file('zip://../notebook_data/census/Tracts/cb_2013_06_tract_500k.zip')\n",
    "    tracts_gdf_sf_2013 = tracts_gdf_sf_2013[tracts_gdf_sf_2013['COUNTYFP']=='075']\n",
    "    tracts_gdf_sf_2013.head(2)\n",
    "\n",
    "    # SOLUTION\n",
    "    # Inner join keeps only data where both tract geometry and demographic data exist for the tract\n",
    "    tracts_acs_gdf_sf_2013 = tracts_gdf_sf_2013.merge(acs5data_df_2013, left_on='GEOID',right_on=\"FIPS_11_digit\", how='inner')\n",
    "    tracts_acs_gdf_sf_2013.head()\n",
    "\n",
    "\n",
    "    # SOLUTION\n",
    "\n",
    "    break_dict = {'pct_nonwhite':[20,40,60,80],\n",
    "                  'med_rent':[500,1000,1500,2000,4000],\n",
    "                  'med_hhinc':[50000,75000,100000,150000]}\n",
    "    #legend_labels = ['< 2.4', '2.4 - 6', '6 - 15', '15 - 38', '38 - 140 M']\n",
    "    legend_labels_dict = {\n",
    "                  'pct_nonwhite':['0% - 20%','20% - 40%','40% - 60%','60% - 80%','80% - 100%'], \n",
    "                  'med_rent':[\"\\$0 - $500\",'\\$500 - $1,000','\\$1,000 - $1,500','\\$1,500 - $2,000','\\$2,000 - $4,000+'],\n",
    "                  'med_hhinc':['\\$0 - $50,000','\\$50,000 - $75,000','\\$75,000 - $100,000','\\$100,000 - $150,000','>$150,000']}\n",
    "\n",
    "    title_dict = {'pct_nonwhite':'Pct Non-white or Asian',\n",
    "                  'med_rent': 'Median Rent',\n",
    "                  'med_hhinc':'Median Household Income'}\n",
    "\n",
    "    f, axs = plt.subplots(nrows=2, ncols=3, figsize=(18,10))\n",
    "    # Make the axes accessible with single indexing\n",
    "    axs = axs.flatten()\n",
    "\n",
    "    # Start a loop over all the variables of interest\n",
    "    for i, col in enumerate(mapvars):\n",
    "        # select the axis where the map will go\n",
    "        ax = axs[i]\n",
    "        # Plot the map\n",
    "        tracts_acs_gdf_sf_2013[tracts_acs_gdf_sf_2013[col]>0].plot(col,\n",
    "                                                     scheme='user_defined', \n",
    "                                                     classification_kwds={'bins':break_dict[col]}, \n",
    "                                                     ax=ax, \n",
    "                                                     legend=True, legend_kwds={'loc': 'upper left'})\n",
    "        # Remove axis clutter\n",
    "        ax.set_axis_off()\n",
    "        # Set the axis title to the name of variable being plotted\n",
    "        ax.set_title(title_dict[col]+ ', 2013')\n",
    "        # fix the legend labels\n",
    "        for j in range(0,len(ax.get_legend().get_texts())):\n",
    "            ax.get_legend().get_texts()[j].set_text(legend_labels_dict[col][j])\n",
    "\n",
    "\n",
    "    break_dict = {'pct_nonwhite':[20,40,60,80],\n",
    "                  'med_rent':[500,1000,1500,2000,4000],\n",
    "                  'med_hhinc':[50000,75000,100000,150000]}\n",
    "    #legend_labels = ['< 2.4', '2.4 - 6', '6 - 15', '15 - 38', '38 - 140 M']\n",
    "    legend_labels_dict = {\n",
    "                  'pct_nonwhite':['0% - 20%','20% - 40%','40% - 60%','60% - 80%','80% - 100%'], \n",
    "                  'med_rent':[\"\\$0 - $500\",'\\$500 - $1,000','\\$1,000 - $1,500','\\$1,500 - $2,000','\\$2,000 - $4,000+'],\n",
    "                  'med_hhinc':['\\$0 - $50,000','\\$50,000 - $75,000','\\$75,000 - $100,000','\\$100,000 - $150,000','>$150,000']}\n",
    "\n",
    "    title_dict = {'pct_nonwhite':'Pct Non-white or Asian',\n",
    "                  'med_rent': 'Median Rent',\n",
    "                  'med_hhinc':'Median Household Income'}\n",
    "\n",
    "    # Start a loop over all the variables of interest\n",
    "    for i, col in enumerate(mapvars):\n",
    "        # select the axis where the map will go\n",
    "        ax = axs[i+3]\n",
    "        # Plot the mapaa\n",
    "        tracts_acs_gdf_sf[tracts_acs_gdf_sf[col]>0].plot(col,\n",
    "                                           scheme='user_defined', \n",
    "                                           classification_kwds={'bins':break_dict[col]},\n",
    "                                           ax=ax, \n",
    "                                           legend=True, legend_kwds={'loc': 'upper left'})\n",
    "\n",
    "        #ax.get_legend().set_text(legend_labels_dic[col])\n",
    "        # Remove axis clutter\n",
    "        ax.set_axis_off()\n",
    "        # Set the axis title to the name of variable being plotted\n",
    "        #ax.set_title(col)\n",
    "        ax.set_title(title_dict[col]+ ', 2018')\n",
    "        # fix the legend labels\n",
    "        for j in range(0,len(ax.get_legend().get_texts())):\n",
    "            ax.get_legend().get_texts()[j].set_text(legend_labels_dict[col][j])\n",
    "\n",
    "    plt.tight_layout()\n",
    "    # Display the figure\n",
    "    plt.show()\n",
    "--->"
   ]
  },
  {
   "cell_type": "markdown",
   "metadata": {},
   "source": [
    "## 7.6 Recap\n",
    "In this workbook we learned about how to classify and bin, as well as create three new types of maps: graduated symbol, bivariate, and faceted. \n",
    "\n",
    "Below is a recap of the concepts and methods we covered:\n",
    "\n",
    "- Classifying and binning\n",
    "\t- `mapclassify.Quantiles()`\n",
    "\t- `.bins`\n",
    "- Different types of maps\n",
    "    - Graduated Symbol\n",
    "    - Bivariate\n",
    "    - Faceted\n",
    " \n",
    "\n",
    "\n",
    "\n",
    "## Congrats you're done with part s3_7!\n",
    "\n",
    "\n",
    "---\n",
    "<div style=\"display:inline-block;vertical-align:middle;\">\n",
    "<a href=\"https://dataforhousing.org/\" target=\"_blank\"><img src =\"https://media-exp1.licdn.com/dms/image/C560BAQELkt35AxeIeA/company-logo_200_200/0?e=1597881600&v=beta&t=irZ1tYCA9A2biVzCguvCXzsfzanSYDFuF22IUFNY5Sg\" width=\"75\" align=\"left\">\n",
    "</a>\n",
    "</div>\n",
    "\n",
    "<div style=\"display:inline-block;vertical-align:middle;\">\n",
    "    <div style=\"font-size:larger\">&nbsp;Data Science for Housing Workshop, University of California Berkeley</div>\n",
    "    <div>&nbsp;Tim Thomas, Patty Frontiera, Emmanuel Lopez, Ethan Ebinger, Hikari Murayama, Karen Chapple, Claudia von Vacano<div>\n",
    "    <div>&copy; UC Regents, 2019-2020</div>\n",
    "</div>"
   ]
  }
 ],
 "metadata": {
  "kernelspec": {
   "display_name": "Python 3",
   "language": "python",
   "name": "python3"
  },
  "language_info": {
   "codemirror_mode": {
    "name": "ipython",
    "version": 3
   },
   "file_extension": ".py",
   "mimetype": "text/x-python",
   "name": "python",
   "nbconvert_exporter": "python",
   "pygments_lexer": "ipython3",
   "version": "3.7.6"
  }
 },
 "nbformat": 4,
 "nbformat_minor": 4
}
