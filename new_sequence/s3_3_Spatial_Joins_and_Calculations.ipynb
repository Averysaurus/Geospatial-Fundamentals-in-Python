{
 "cells": [
  {
   "cell_type": "markdown",
   "metadata": {},
   "source": [
    "# 3. Spatial Joins and Calculations\n",
    "With all of the data, spatial data, and mapping we've learned so far we're ready to add more data to our arsenal! We're going to learn new methods for linking and transforming our data.\n",
    "\n",
    "- [3.1 Introduction ](#section1)\n",
    "- [3.2  Permit and Parcel Data](#section2)\n",
    "  - transforming polygons to points\n",
    "- [3.3 Mapping Permit data with Census Tracts](#section3)\n",
    "- [3.4 Spatial Join](#section4)\n",
    "- [3.5 Analyzing the results of our Spatial Joins](#section5)\n",
    "    - Dissolving\n",
    "    - Clipping\n",
    "\n",
    "**INSTRUCTOR NOTES**:\n",
    "- Datasets used:\n",
    "    - \"../notebook_data/outdata/Permit_HousingApp_Parcel_Merge_Oakland.geojson\"\n",
    "    - \"../notebook_data/outdata/Permit_ActivityReport_Parcel_Merge_Oakland.geojson\" \n",
    "    - \"../notebook_data/outdata/tracts_acs_gdf_ac.json\"\n",
    "    - \"../notebook_data/notebook_data/census/Places/cb_2018_06_place_500k.zip\"\n",
    " \n",
    " \n",
    "- Expected time to complete:\n",
    "    - Lecture + Questions: 1 hour\n",
    "    - Homework: 45 minutes"
   ]
  },
  {
   "cell_type": "markdown",
   "metadata": {},
   "source": [
    "### Set-Up\n",
    "\n",
    "Let's import the packages we need before we get started."
   ]
  },
  {
   "cell_type": "code",
   "execution_count": null,
   "metadata": {},
   "outputs": [],
   "source": [
    "import numpy as np\n",
    "import pandas as pd\n",
    "import geopandas as gpd\n",
    "\n",
    "import matplotlib # base python plotting library\n",
    "%matplotlib inline  \n",
    "import matplotlib.pyplot as plt # more plotting stuff \n",
    "\n",
    "# We are getting futurewarning errors about the syntax of CRS definitions, ie \"init=epsg:4269\" vs \"epsg:4269\"\n",
    "# so suppress as these are minor\n",
    "import warnings\n",
    "warnings.simplefilter(action='ignore', category=FutureWarning)"
   ]
  },
  {
   "cell_type": "markdown",
   "metadata": {},
   "source": [
    "<a id=\"section0\"></a>\n",
    "## 3.0 Warmup Exercise\n",
    "\n",
    "Looking at the table of contents shown above, what types of questions do you think you will be able to answer by learning the introduced data and new techniques?"
   ]
  },
  {
   "cell_type": "code",
   "execution_count": null,
   "metadata": {},
   "outputs": [],
   "source": [
    "# Write your thoughts here"
   ]
  },
  {
   "cell_type": "markdown",
   "metadata": {},
   "source": [
    "Awesome! We'll also be reviewing attribute joins here, but the goal is to be able to **join data in a different way - by location - and begin to learn how to spatially summarize data**."
   ]
  },
  {
   "cell_type": "markdown",
   "metadata": {},
   "source": [
    "<a id=\"section1\"></a>\n",
    "## 3.1 Introduction\n",
    "\n",
    "Geospatial data *is* special. Because all geospatial data is referenced to the Earth, geospatially data can be dynamically joined by location even if they share no common attributes. This is called a **spatial join**. This is in contrast to an `attribute join` where the join attribute must already exist in the data. For example, we were able to merge permit and parcel data because both contain an APN column. \n",
    "\n",
    "In this lesson we will explore `spatial joins` with our permit and census tract data. \n",
    "\n",
    "We will also take a look at a few useful and common spatial transformations. First, we will transform the polygon parcel geomtries to point geometries. Second, we will use the Geopandas **dissolve** operation to aggregate geometries."
   ]
  },
  {
   "cell_type": "markdown",
   "metadata": {},
   "source": [
    "<a id=\"section2\"></a>\n",
    "## 3.2 Permit and Parcel data\n",
    "\n",
    "Let's create an initial map of our joined permit and parcel point data, and check how it looks in combination with our ACS and tracts data.\n",
    "\n",
    "First let's import our `permit_parcel_gdf` and then map it. Remember from `notebook s2_3` that this is the dataset where you joined together the Oakland parcels and permit activity report."
   ]
  },
  {
   "cell_type": "code",
   "execution_count": null,
   "metadata": {},
   "outputs": [],
   "source": [
    "permit_parcel_gdf = gpd.read_file(\"../notebook_data/outdata/Permit_ActivityReport_Parcel_Merge_Oakland.geojson\")"
   ]
  },
  {
   "cell_type": "code",
   "execution_count": null,
   "metadata": {},
   "outputs": [],
   "source": [
    "# Check the shape of the gdf\n",
    "permit_parcel_gdf.shape"
   ]
  },
  {
   "cell_type": "code",
   "execution_count": null,
   "metadata": {},
   "outputs": [],
   "source": [
    "# Check columns available\n",
    "permit_parcel_gdf.columns"
   ]
  },
  {
   "cell_type": "code",
   "execution_count": null,
   "metadata": {},
   "outputs": [],
   "source": [
    "# Double check and make sure no APN values are empty\n",
    "permit_parcel_gdf['APN'].isnull().value_counts()"
   ]
  },
  {
   "cell_type": "markdown",
   "metadata": {},
   "source": [
    "Let's try mapping the permit data by `units_permit` which is the sum of building permits issued for very-low, low, moderate, and above moderate income units."
   ]
  },
  {
   "cell_type": "code",
   "execution_count": null,
   "metadata": {},
   "outputs": [],
   "source": [
    "fig, ax = plt.subplots(figsize = (12,8)) \n",
    "permit_parcel_gdf.plot(column='units_permit',legend=True, cmap=\"winter\",ax=ax)\n",
    "plt.tight_layout()\n",
    "plt.show()"
   ]
  },
  {
   "cell_type": "markdown",
   "metadata": {},
   "source": [
    "Let's zoom in to get a better look at the data. We can do this by setting the x and y limits of the plot."
   ]
  },
  {
   "cell_type": "code",
   "execution_count": null,
   "metadata": {},
   "outputs": [],
   "source": [
    "fig, ax = plt.subplots(figsize = (10,8)) \n",
    "permit_parcel_gdf.plot(column='units_permit',cmap=\"winter\",ax=ax)\n",
    "\n",
    "# Set x and y limits to zoom in\n",
    "# We can get the values from the coordinates on the x and y axis of the previous map.\n",
    "ax.set_xlim([-122.275,-122.250])\n",
    "ax.set_ylim([37.82,37.80])\n",
    "\n",
    "plt.tight_layout()\n",
    "plt.show()"
   ]
  },
  {
   "cell_type": "markdown",
   "metadata": {},
   "source": [
    "The map above shows the permit locations as the parcel polygons. Since we are unlikley to zoom in that closely on the permit locations, let's `transform` the parcel polygons to points rather than tiny (relative to the area) polygon geometries that are difficult to visualize and take up a lot of memory and disk space, and thus are slower to work with. Point geometry will work at any scale for these data. \n",
    "\n",
    "To do this we create a point dataset similar to what we did for some of our tracts and ACS data.\n",
    "\n",
    "Let's start by reminding ourselves of how to find the centroid of a polygon shape. We can do this by finding x and y coordinates of the polygon centroid separately...\n",
    "> A `centroid` is the center of a bounding box around a polygon feature. Given an irregularly shaped polygon, e.g. Florida, the centroid may not be within the polygon. If you want a point that is sure to be within the polygon you can use the `gdf.representative_point()` method."
   ]
  },
  {
   "cell_type": "code",
   "execution_count": null,
   "metadata": {
    "scrolled": true
   },
   "outputs": [],
   "source": [
    "# Get X coordinate of the parcel centroids as a list, showing first 5 values\n",
    "permit_parcel_gdf.centroid.x[0:5]"
   ]
  },
  {
   "cell_type": "code",
   "execution_count": null,
   "metadata": {
    "scrolled": true
   },
   "outputs": [],
   "source": [
    "# Get Y coordinate of the parcel centroids as a list, showing first 5 values\n",
    "permit_parcel_gdf.centroid.y[0:5]"
   ]
  },
  {
   "cell_type": "markdown",
   "metadata": {},
   "source": [
    "Or, you can find both with one line of code."
   ]
  },
  {
   "cell_type": "code",
   "execution_count": null,
   "metadata": {
    "scrolled": true
   },
   "outputs": [],
   "source": [
    "# Get the centroids of the permit parcel polygon data\n",
    "permit_parcel_gdf.centroid"
   ]
  },
  {
   "cell_type": "markdown",
   "metadata": {},
   "source": [
    "We can use the centroid to create a new point data set called `permit_parcel_point_gdf`.\n",
    "To do this we use the geopandas function `GeoDataFrame`, which returns a new geodataframe by combining a pandas dataframe and a geometry column. \n",
    "- the pandas dataframe is the the permit_parcel_gdf with the geometry column dropped\n",
    "- the geometry column is the centroid of the permit_parcel_gdf polygons"
   ]
  },
  {
   "cell_type": "code",
   "execution_count": null,
   "metadata": {},
   "outputs": [],
   "source": [
    "permit_parcel_point_gdf = gpd.GeoDataFrame(permit_parcel_gdf.drop('geometry',axis=1), \n",
    "                            geometry=permit_parcel_gdf.centroid)"
   ]
  },
  {
   "cell_type": "code",
   "execution_count": null,
   "metadata": {},
   "outputs": [],
   "source": [
    "permit_parcel_point_gdf.head()"
   ]
  },
  {
   "cell_type": "markdown",
   "metadata": {},
   "source": [
    "Let's map those points now to see how they compare to the polygon data."
   ]
  },
  {
   "cell_type": "code",
   "execution_count": null,
   "metadata": {},
   "outputs": [],
   "source": [
    "fig, ax = plt.subplots(figsize = (10,8)) \n",
    "permit_parcel_gdf.plot(color=\"white\", edgecolor=\"black\",ax=ax)\n",
    "permit_parcel_point_gdf.plot(column='units_permit',cmap=\"winter\",ax=ax)\n",
    "\n",
    "# Set x and y limits to zoom in\n",
    "# We can get the values from the coordinates on the x and y axis of the previous map.\n",
    "ax.set_xlim([-122.275,-122.250])\n",
    "ax.set_ylim([37.82,37.80])\n",
    "\n",
    "plt.tight_layout()\n",
    "plt.show()"
   ]
  },
  {
   "cell_type": "markdown",
   "metadata": {},
   "source": [
    "<a id=\"section3\"></a>\n",
    "## 3.3 Mapping Permit data with Census Tracts\n",
    "\n",
    "The first method of spatial analysis is mapping. We overlay our data in a map to visualize and explore locations and relationships. \n",
    "\n",
    "In this section we will consider the permit data in the context of our ACS 2018 5-year data, aggregated to census tracts. So let's load that data for Alameda County and create an overlay map."
   ]
  },
  {
   "cell_type": "code",
   "execution_count": null,
   "metadata": {},
   "outputs": [],
   "source": [
    "tracts_acs_gdf = gpd.read_file(\"../notebook_data/outdata/tracts_acs_gdf_ac.json\")"
   ]
  },
  {
   "cell_type": "markdown",
   "metadata": {},
   "source": [
    "Now let's map the permit points overlayed on top of the census tracts, visualizing the points by the sum of he sum of units that were permitted for very-low, low, moderate, and above moderate income (`units_permit`)"
   ]
  },
  {
   "cell_type": "code",
   "execution_count": null,
   "metadata": {
    "scrolled": false
   },
   "outputs": [],
   "source": [
    "# Map counts of permits within tracts\n",
    "fig, ax = plt.subplots(figsize = (18,8)) \n",
    "tracts_acs_gdf.plot(ax=ax,color='lightgrey',edgecolor='white')  # Add the census tracts\n",
    "permit_parcel_point_gdf.plot(column='units_permit', legend=True, cmap=\"winter\",ax=ax)  # Add the permit points\n",
    "\n",
    "# Set x and y limits to Zoom map into Oakland\n",
    "ax.set_xlim([-122.35,-122.1])\n",
    "ax.set_ylim([37.7,37.87])\n",
    "\n",
    "plt.show()"
   ]
  },
  {
   "cell_type": "markdown",
   "metadata": {},
   "source": [
    "In the above map the number of `unit_permits` is not obvious because so many of the permit applications have zero  units that have yet to be issued a building permit.\n",
    "\n",
    "We can make the data convey the variable of interest more clearly by setting the color of the locations with no approved building permits to grey.  Take a look at how this is done."
   ]
  },
  {
   "cell_type": "code",
   "execution_count": null,
   "metadata": {},
   "outputs": [],
   "source": [
    "my_cmap = matplotlib.cm.get_cmap('winter')\n",
    "my_cmap.set_under('grey') # Set color to be used for low out-of-range values.\n",
    "\n",
    "# Map counts of permits within tracts\n",
    "fig, ax = plt.subplots(figsize = (18,8)) \n",
    "\n",
    "# Add the census tracts\n",
    "tracts_acs_gdf.plot(ax=ax,color='lightgrey',edgecolor='white')  \n",
    "\n",
    "# Add the permit data\n",
    "permit_parcel_point_gdf.sort_values(by=\"units_permit\").plot(ax=ax, \n",
    "                                                            column='units_permit', \n",
    "                                                            legend=True, \n",
    "                                                            cmap=\"winter\",\n",
    "                                                            alpha=0.75,\n",
    "                                                            markersize=50,\n",
    "                                                            vmin=1)  # Set a value for the low vis value\n",
    "\n",
    "# Set x and y limits to Zoom map into Oakland\n",
    "ax.set_xlim([-122.35,-122.1])\n",
    "ax.set_ylim([37.7,37.87])\n",
    "\n",
    "plt.show()"
   ]
  },
  {
   "cell_type": "markdown",
   "metadata": {},
   "source": [
    " \n",
    "<div style=\"display:inline-block;vertical-align:top;\">\n",
    "    <img src=\"http://www.pngall.com/wp-content/uploads/2016/03/Light-Bulb-Free-PNG-Image.png\" width=\"30\" align=left > \n",
    "</div>  \n",
    "<div style=\"display:inline-block;\">\n",
    " \n",
    " \n",
    "\n",
    "#### Question\n",
    "</div>\n",
    "\n",
    "Why do you think we added the `sort_values(by=\"units_permit\")` to the plot command above?"
   ]
  },
  {
   "cell_type": "code",
   "execution_count": null,
   "metadata": {},
   "outputs": [],
   "source": [
    "# Your thoughts here"
   ]
  },
  {
   "cell_type": "markdown",
   "metadata": {},
   "source": [
    "In the map above we can better see areas where a lot of units have received building permits. But the map is still too busy. There are too many overlapping permit points and the cummulative number of permitted units is not obvious.\n",
    "\n",
    "A common workflow is to aggregate point data to an area unit and then create a choropleth map. For example, if we had a geodataframe of city neighborhoods we could sum permitted units by neighborhood.\n",
    "\n",
    "We don't have a neighborhood geodataframe but we do have census tract polygons to which we can aggregate the points and create a choropleth map. Moreover, by aggregating a permit variable by census tract we can also link that variable to the wealth of demographic, social and economic data!\n",
    "\n",
    "Let's get started."
   ]
  },
  {
   "cell_type": "markdown",
   "metadata": {},
   "source": [
    "<a id=\"section4\"></a>\n",
    "## 3.4 Spatial join\n",
    "\n",
    "Previously, we joined permits and parcels based on a shared attribute - APN - which is included in both datasets. This is called an `attribute join`.\n",
    "\n",
    "- *What other datasets did we join by attribute?*\n",
    "\n",
    "But what if our datasets do not have a shared attribute?\n",
    "\n",
    "If two geodataframes have the same CRS we can do a **spatial join** to join attributes by shared location. \n",
    "\n",
    "We do this with the Geopandas [**sjoin**](https://geopandas.org/reference/geopandas.sjoin.html) function."
   ]
  },
  {
   "cell_type": "markdown",
   "metadata": {},
   "source": [
    "Before we begin make sure your two input geodataframes have the same CRS."
   ]
  },
  {
   "cell_type": "code",
   "execution_count": null,
   "metadata": {},
   "outputs": [],
   "source": [
    "permit_parcel_point_gdf.crs == tracts_acs_gdf.crs"
   ]
  },
  {
   "cell_type": "markdown",
   "metadata": {},
   "source": [
    "If they do not have the same CRS, transform one gdf to match the other."
   ]
  },
  {
   "cell_type": "code",
   "execution_count": null,
   "metadata": {},
   "outputs": [],
   "source": [
    "print(permit_parcel_point_gdf.crs)\n",
    "print(tracts_acs_gdf.crs)"
   ]
  },
  {
   "cell_type": "code",
   "execution_count": null,
   "metadata": {},
   "outputs": [],
   "source": [
    "# Transform ther permit points to match the CRS of the Census data (4269)\n",
    "permit_parcel_point_gdf.to_crs(tracts_acs_gdf.crs, inplace=True)\n",
    "permit_parcel_point_gdf.crs == tracts_acs_gdf.crs"
   ]
  },
  {
   "cell_type": "code",
   "execution_count": null,
   "metadata": {},
   "outputs": [],
   "source": [
    "# And for good measure...\n",
    "print(permit_parcel_point_gdf.crs)\n",
    "print(tracts_acs_gdf.crs)"
   ]
  },
  {
   "cell_type": "markdown",
   "metadata": {},
   "source": [
    "Next, read the help documentation for `sjoin` and let's take a few minutes to discuss it."
   ]
  },
  {
   "cell_type": "code",
   "execution_count": null,
   "metadata": {},
   "outputs": [],
   "source": [
    "# Take a look at the function documentation\n",
    "help(gpd.sjoin)"
   ]
  },
  {
   "cell_type": "markdown",
   "metadata": {},
   "source": [
    "Now, let's spatially join the permit data to the census data so that we can sum the number of permitted units in each census tract.  "
   ]
  },
  {
   "cell_type": "code",
   "execution_count": null,
   "metadata": {},
   "outputs": [],
   "source": [
    "# Spatially join permit data to census tract data\n",
    "tracts_and_permits_gdf = gpd.sjoin(tracts_acs_gdf, permit_parcel_point_gdf)"
   ]
  },
  {
   "cell_type": "markdown",
   "metadata": {},
   "source": [
    "Now let's take a look at the output of the spatial join."
   ]
  },
  {
   "cell_type": "code",
   "execution_count": null,
   "metadata": {},
   "outputs": [],
   "source": [
    "tracts_and_permits_gdf.head(2)"
   ]
  },
  {
   "cell_type": "markdown",
   "metadata": {},
   "source": [
    "By default `sjoin` is an inner join. It keeps the data from both geodataframes only where the locations spatially intersect. For our join, this means we maintain only those Alameda County census tracts that contain Oakland permit points.\n",
    "\n",
    "By default `sjoin` maintains the geometry of first geodataframe input to the operation, here census tracts. \n",
    "\n",
    "The output of the our `sjoin` operation is the geodataframe `tracts_and_permits_gdf` which has \n",
    "- a row for each permit application that is located within a census tract (all of which are)\n",
    "- the **polygon geometry** of the census tract in which the permit is located\n",
    "- all of the atribute data columns (non-geometry columns) from both input geodataframes.\n",
    "\n",
    "\n",
    "To confirm this, let's map the ouput geodataframe."
   ]
  },
  {
   "cell_type": "code",
   "execution_count": null,
   "metadata": {},
   "outputs": [],
   "source": [
    "tracts_and_permits_gdf.plot()"
   ]
  },
  {
   "cell_type": "markdown",
   "metadata": {},
   "source": [
    "We are missing some census tracts because not all census tracts contain permit activity **AND** we did an `inner join`\n",
    "- Where was the inner join specified?"
   ]
  },
  {
   "cell_type": "markdown",
   "metadata": {},
   "source": [
    "Take a look at the input and ouput the geometry types:"
   ]
  },
  {
   "cell_type": "code",
   "execution_count": null,
   "metadata": {},
   "outputs": [],
   "source": [
    "print(\"Permits input geometry:\", permit_parcel_point_gdf.geometry.type.unique())\n",
    "print(\"Tracts input geometry:\" , tracts_acs_gdf.geometry.type.unique())\n",
    "print(\"Tracts and permits join output geometry:\", tracts_and_permits_gdf.geometry.type.unique())"
   ]
  },
  {
   "cell_type": "markdown",
   "metadata": {},
   "source": [
    "We joined point data to polygon/multipolygon data and our join output has polygon geometry. Why, because of the order of the inputs to `sjoin` - the polygon geodataframe (census tracts) was listed first."
   ]
  },
  {
   "cell_type": "markdown",
   "metadata": {},
   "source": [
    "Now, check out the shape of the input geodataframes and output geodataframes."
   ]
  },
  {
   "cell_type": "code",
   "execution_count": null,
   "metadata": {},
   "outputs": [],
   "source": [
    "print(\"Permits:\", permit_parcel_point_gdf.shape)\n",
    "print(\"Tracts:\" , tracts_acs_gdf.shape)\n",
    "print(\"Tracts and permits:\", tracts_and_permits_gdf.shape)"
   ]
  },
  {
   "cell_type": "markdown",
   "metadata": {},
   "source": [
    "Our output geodataframe has the same number of rows as the permits geodataframe. This is because all permits fall within an Oakland census tract and thus are included in the join output."
   ]
  },
  {
   "cell_type": "markdown",
   "metadata": {},
   "source": [
    "However, the output geodataframe  has duplicate census tract data because there are tracts that contain more than one permit application. \n",
    "\n",
    "For example, let's look at the rows for one census tract:"
   ]
  },
  {
   "cell_type": "code",
   "execution_count": null,
   "metadata": {},
   "outputs": [],
   "source": [
    "tracts_and_permits_gdf[tracts_and_permits_gdf['GEOID'] == '06001400600'][['GEOID','APN','units_permit']]"
   ]
  },
  {
   "cell_type": "markdown",
   "metadata": {},
   "source": [
    "Let's look just at the number of permitted units for this census tract."
   ]
  },
  {
   "cell_type": "markdown",
   "metadata": {},
   "source": [
    "So, our sjoin output is not map ready. We first need to aggregate the number of permitted units by census tract, grouping the data by `GEOID` which is a unique identifier.\n",
    "\n",
    "Ok, let's sum `units_permit` in each census tract.  We can do this using a pandas `groupby` operation."
   ]
  },
  {
   "cell_type": "code",
   "execution_count": null,
   "metadata": {},
   "outputs": [],
   "source": [
    "tract_permit_counts_df = tracts_and_permits_gdf[['GEOID','units_permit']].groupby('GEOID', as_index=False).sum()\n",
    "print(\"Rows and columns:\", tract_permit_counts_df.shape)\n",
    "\n",
    "# take a look at the data\n",
    "tract_permit_counts_df.head(7)"
   ]
  },
  {
   "cell_type": "markdown",
   "metadata": {},
   "source": [
    "Now we can verify that the sum of permitted units for census tract `06001400600` (at row index 5) is seven.\n",
    "\n",
    "The above `groupby` and sum operations give us the counts that we are looking for:\n",
    "- We have identified the 105 census tracts that contain permit application locations.\n",
    "- We have the number of `units_permit` within those census tracts. \n",
    "\n",
    "But the output of `groupby` is a dataframe not a geodataframe.\n",
    "\n",
    "If we want to output a spatial geodataframe we can to do one of two things:\n",
    "1. join the `groupby` output to the tracts_acs_gdf by the attribute `GEOID`\n",
    "or\n",
    "2. use the geodataframe [**dissolve**](https://geopandas.org/aggregation_with_dissolve.html) method, which you can think of as a spatial `groupby`. \n",
    "\n",
    "Since we already know how to do an attribute join, let's do the `dissolve`."
   ]
  },
  {
   "cell_type": "code",
   "execution_count": null,
   "metadata": {},
   "outputs": [],
   "source": [
    "tract_permit_counts_gdf=tracts_and_permits_gdf[['GEOID','geometry','units_permit']].dissolve(by='GEOID', aggfunc=\"sum\", as_index=False)\n",
    "print(\"Rows and columns: \", tract_permit_counts_gdf.shape)\n",
    "\n",
    "# take a look\n",
    "tract_permit_counts_gdf.head(7)"
   ]
  },
  {
   "cell_type": "markdown",
   "metadata": {},
   "source": [
    "Let's break that down.\n",
    "\n",
    "- The `dissolve` operation requires a geometry column and a grouping column, which above is GEOID. Any geometries within the **same group** will be dissolved if they have the same geometry or nested geometries. \n",
    " \n",
    "- The `aggfunc`, or aggregation function, of the dissolve operation will be applied to all numeric columns in the input geodataframe (unless the function is `count` in which case it will count rows.)  \n",
    "\n",
    "Check out the Geopandas documentation on [dissolve](https://geopandas.org/aggregation_with_dissolve.html?highlight=dissolve) for more information.\n",
    "\n",
    "Above we selected three columns from the input geodataframe to create a subset as input to the dissolve operation. Can you think of why we did that?"
   ]
  },
  {
   "cell_type": "markdown",
   "metadata": {},
   "source": [
    "### Mapping our Spatial Join Output"
   ]
  },
  {
   "cell_type": "markdown",
   "metadata": {},
   "source": [
    "Because our `sjoin` plus `dissolve` operation outputs a geodataframe, we can map the count of `units_permit` by census tract."
   ]
  },
  {
   "cell_type": "code",
   "execution_count": null,
   "metadata": {},
   "outputs": [],
   "source": [
    "fig, ax = plt.subplots(figsize = (14,8)) \n",
    "\n",
    "# Display the output of our spatial join\n",
    "tract_permit_counts_gdf.plot(ax=ax,column='units_permit', \n",
    "                             scheme=\"quantiles\", \n",
    "                             cmap=\"YlGnBu\",\n",
    "                             edgecolor=\"grey\",\n",
    "                             legend=True, \n",
    "                             legend_kwds={'title':'Permited units'})\n",
    "\n",
    "plt.show()"
   ]
  },
  {
   "cell_type": "markdown",
   "metadata": {},
   "source": [
    "\n",
    "<div style=\"display:inline-block;vertical-align:top;\">\n",
    "    <img src=\"https://image.flaticon.com/icons/svg/87/87705.svg\" width=\"30\" align=left > \n",
    "</div>  \n",
    "<div style=\"display:inline-block;\">\n",
    "\n",
    "#### Questions\n",
    "</div>\n",
    "\n",
    "- How does the above map convey the distribution of `units_permit` in Oakland differently compared to the point of `units_permit` we created previously? \n",
    "- What does the above map tell you about the spatial distribution of permits in Oakland?\n",
    "- Does the output geodataframe include all census tracts in Oakland?\n",
    "\n",
    "- Why does the output include census tracts with zero permitted units?\n",
    "\n",
    "- What addition(s) could improve the above map?\n",
    "\n",
    "<img align=\"left\" width=500 src=\"https://upload.wikimedia.org/wikipedia/commons/f/ff/Cat_on_laptop_-_Just_Browsing.jpg\"></img>\n"
   ]
  },
  {
   "cell_type": "markdown",
   "metadata": {},
   "source": [
    "#### Exercise\n",
    "\n",
    "1. Use `dissolve` with the `tracts_and_permits_gdf` geodataframe to **count** the number of permit applications by census tract.\n",
    "  - Hint, group by the column that is unique to permit apps (APN). This will also be the name of the output column\n",
    "\n",
    "\n",
    "2. Use `dissolve` with the `tracts_and_permits_gdf` geodataframe to calculate the **mean** median household income (`med_hhinc`) in census tracts with more than one permitted unit by census tract.\n",
    "\n",
    "\n",
    "3. Make choropleth maps of the two variables `applications by tract` and `median household income`."
   ]
  },
  {
   "cell_type": "code",
   "execution_count": null,
   "metadata": {},
   "outputs": [],
   "source": [
    "# Your code here\n",
    "\n",
    "# 1. Count of Permit Applications by census tract\n",
    "app_count_gdf=...\n",
    "#app_count_gdf.head()"
   ]
  },
  {
   "cell_type": "code",
   "execution_count": null,
   "metadata": {},
   "outputs": [],
   "source": [
    "# 2. Mean median household income in tracts with more than one permit application by census tract\n",
    "mean_hhinc_gdf=...\n",
    "#mean_hhinc_gdf.head()"
   ]
  },
  {
   "cell_type": "code",
   "execution_count": null,
   "metadata": {},
   "outputs": [],
   "source": [
    "# 3. Maps (uncomment and complete)\n",
    "#app_count_gdf.plot(...)\n",
    "#mean_hhinc_gdf.plot(...)"
   ]
  },
  {
   "cell_type": "markdown",
   "metadata": {},
   "source": [
    "*Click here for answers*\n",
    "\n",
    "<!---\n",
    "# SOLUTION 1\n",
    "# Count of Permit Applications by census tract\n",
    "app_count_gdf=tracts_and_permits_gdf[['GEOID','geometry','APN']].dissolve(by='GEOID', aggfunc=\"count\", as_index=False)\n",
    "app_count_gdf.head()\n",
    "\n",
    "# SOLUTION 2\n",
    "# Mean median household income in tracts with more than one permit application by census tract\n",
    "mean_hhinc_gdf=tracts_and_permits_gdf[['GEOID','geometry','med_hhinc']].dissolve(by='GEOID', aggfunc=\"mean\", as_index=False)\n",
    "mean_hhinc_gdf()\n",
    "\n",
    "## SOULTION 3\n",
    "app_count_gdf.plot(column='APN', legend=True, legend_kwds={'label': 'Count of aps'});\n",
    "mean_hhinc_gdf.plot(column='med_hhinc', legend=True, legend_kwds={'label': 'Avg med hhinc'});\n",
    "--->\n"
   ]
  },
  {
   "cell_type": "markdown",
   "metadata": {},
   "source": [
    "### `sjoin` recap\n",
    "\n",
    "Thus far we have spatially joined the permit data to the census tract data. The result is polygon geodataframe that includes:\n",
    "- a row for each permit application that spatially intersects with our census tract gdf (all permits do),\n",
    "- with the geometry of the census tracts in which they reside\n",
    "\n",
    "This means :\n",
    "- a sjoin can output duplicate geometries.\n",
    "- we can `dissolve` duplicate geometries and\n",
    "- summarize the permit data by the census geometries\n",
    "\n",
    "### Order matters!\n",
    "\n",
    "By default, `sjoin` output will have the geometry of the first input geodataframe.\n",
    "\n",
    "Thus, if we change the order of our sjoin we output point geometries instead of polygon geometries.\n",
    "\n",
    "For example, let's see what we get if we spatially join tracts to permits."
   ]
  },
  {
   "cell_type": "code",
   "execution_count": null,
   "metadata": {},
   "outputs": [],
   "source": [
    "# Spatially join census tract data to permit data\n",
    "permits_and_tracts_gdf = gpd.sjoin(permit_parcel_point_gdf,tracts_acs_gdf)"
   ]
  },
  {
   "cell_type": "markdown",
   "metadata": {},
   "source": [
    "The shape of our output geodataframe is the same."
   ]
  },
  {
   "cell_type": "code",
   "execution_count": null,
   "metadata": {},
   "outputs": [],
   "source": [
    "print(\"Permits:\", permit_parcel_point_gdf.shape)\n",
    "print(\"Tracts:\" , tracts_acs_gdf.shape)\n",
    "print(\"Tracts and permits:\", tracts_and_permits_gdf.shape)\n",
    "print(\"Permits and tracts:\", permits_and_tracts_gdf.shape)"
   ]
  },
  {
   "cell_type": "markdown",
   "metadata": {},
   "source": [
    "But, when we plot it we now see points."
   ]
  },
  {
   "cell_type": "code",
   "execution_count": null,
   "metadata": {
    "scrolled": true
   },
   "outputs": [],
   "source": [
    "permits_and_tracts_gdf.plot()"
   ]
  },
  {
   "cell_type": "markdown",
   "metadata": {},
   "source": [
    "If we look at a few rows of the geodataframe we see that it has columns from both input geodataframes"
   ]
  },
  {
   "cell_type": "code",
   "execution_count": null,
   "metadata": {},
   "outputs": [],
   "source": [
    "permits_and_tracts_gdf.head()\n"
   ]
  },
  {
   "cell_type": "markdown",
   "metadata": {},
   "source": [
    "With this spatial join we have augemented our permit data with census ACS data. \n",
    "- We have a row for each permit activity report and we have point geometry to map the permit locations. \n",
    "- And we have the ACS data associated with each permit location. \n",
    "\n",
    "We could use this output as the input to further analysis if we were interested in exploring the relationship between the permit data and one or more ACS variables.\n",
    "\n",
    "As we did in the prior `sjoin` example, we could also use this data to aggregrate the permit data by census tract but we would not have a direct way to map the aggregated data since our output has point and not census tract geometry. So if the goal is to summarize permit data by census tract then an `sjoin` that ouputs census tract geometries would be a better way to go about it.\n"
   ]
  },
  {
   "cell_type": "markdown",
   "metadata": {},
   "source": [
    "### Dissolve revisted\n",
    "\n",
    "We just saw how `dissolve` is used to remove duplicate geometries. It is also commonly used to merge adjacent geometries. Let's check this out.\n",
    "\n",
    "First let's take a look at the Alameda County census tracts."
   ]
  },
  {
   "cell_type": "code",
   "execution_count": null,
   "metadata": {},
   "outputs": [],
   "source": [
    "tracts_acs_gdf.plot()"
   ]
  },
  {
   "cell_type": "markdown",
   "metadata": {},
   "source": [
    "If we take a look at the data we see that all rows have the same value for `COUNTYFP` or the county FIPS code, which is `001`."
   ]
  },
  {
   "cell_type": "code",
   "execution_count": null,
   "metadata": {},
   "outputs": [],
   "source": [
    "tracts_acs_gdf.head(2)"
   ]
  },
  {
   "cell_type": "markdown",
   "metadata": {},
   "source": [
    "Let's dissolve the Alameda County census tracts by COUNTYFP."
   ]
  },
  {
   "cell_type": "code",
   "execution_count": null,
   "metadata": {},
   "outputs": [],
   "source": [
    "tracts_acs_gdf_dissolved = tracts_acs_gdf.dissolve(by='COUNTYFP')\n",
    "tracts_acs_gdf_dissolved"
   ]
  },
  {
   "cell_type": "code",
   "execution_count": null,
   "metadata": {},
   "outputs": [],
   "source": [
    "tracts_acs_gdf_dissolved.plot()"
   ]
  },
  {
   "cell_type": "markdown",
   "metadata": {},
   "source": [
    "Because the rows for each census tract share the same county FIPS code and the census tract geometries are all nested within the county boundary, all interior polygons were dissolved leaving one boundary polygon.  Pretty cool, huh!  The `dissolve` operation is commonly used for these kind of geometric aggregation tasks because a lot of time your geographic data has more detail than you need."
   ]
  },
  {
   "cell_type": "markdown",
   "metadata": {},
   "source": [
    "## Improving our Spatial Join output Maps\n",
    "\n",
    "In some of the maps we made above we have add to address the issue that the census tract data are for all of Alameda County while the Permit data is for the City of Oakland.  We have worked with this by **zooming** into Oakland in our maps. However, the data for locations outside of Oakland are still displayed.\n",
    "\n",
    "Another way to address this is by reading in a boundary file for the city of Oakland and then mapping our data on top of that."
   ]
  },
  {
   "cell_type": "markdown",
   "metadata": {},
   "source": [
    "### City of Oakland data\n",
    "\n",
    "To do this we will load the boundary file for all census places in California."
   ]
  },
  {
   "cell_type": "code",
   "execution_count": null,
   "metadata": {
    "scrolled": true
   },
   "outputs": [],
   "source": [
    "places_gdf =  gpd.read_file(\"zip://../notebook_data/census/Places/cb_2018_06_place_500k.zip\")\n",
    "places_gdf.head(3)"
   ]
  },
  {
   "cell_type": "markdown",
   "metadata": {},
   "source": [
    "Subset the data to Oakland..."
   ]
  },
  {
   "cell_type": "code",
   "execution_count": null,
   "metadata": {},
   "outputs": [],
   "source": [
    "oakland_gdf = places_gdf.loc[places_gdf['NAME']=='Oakland'].copy().reset_index(drop=True) #subset\n"
   ]
  },
  {
   "cell_type": "markdown",
   "metadata": {},
   "source": [
    "And plot the data"
   ]
  },
  {
   "cell_type": "code",
   "execution_count": null,
   "metadata": {},
   "outputs": [],
   "source": [
    "oakland_gdf.plot();"
   ]
  },
  {
   "cell_type": "markdown",
   "metadata": {},
   "source": [
    "Now we can recreate our map of tracts with permits and display these on top of the city boundary. This will remove any gaps in the city where we do not have census tracts that contain permit locations."
   ]
  },
  {
   "cell_type": "code",
   "execution_count": null,
   "metadata": {},
   "outputs": [],
   "source": [
    "fig, ax = plt.subplots(figsize = (14,8)) \n",
    "\n",
    "# add city boundary\n",
    "oakland_gdf.plot(ax=ax, color=\"grey\", alpha=0.6) \n",
    "\n",
    "# Display the output of our spatial join\n",
    "tract_permit_counts_gdf.plot(ax=ax,column='units_permit', \n",
    "                             scheme=\"quantiles\", \n",
    "                             cmap=\"YlGnBu\",\n",
    "                             edgecolor=\"grey\",\n",
    "                             legend=True, )\n",
    "\n",
    "ax.set_title(\"Count of Permitted Units in Oakland by Census Tract\")\n",
    "ax.set_axis_off() \n",
    "plt.show()"
   ]
  },
  {
   "cell_type": "markdown",
   "metadata": {},
   "source": [
    "Now that we have are permit data aggregated to census tract, let's see how we can explore the relationship between the ACS data and the permit data.\n",
    "\n",
    "For example, let's see if there is any spatial relationship between the count of permitted units and the percent homeowners (`p_owners`) in the census tract.\n",
    "\n",
    "First, let's create a point dataset of our census tracts."
   ]
  },
  {
   "cell_type": "code",
   "execution_count": null,
   "metadata": {},
   "outputs": [],
   "source": [
    "tracts_acs_gdf_point = gpd.GeoDataFrame(tracts_acs_gdf.loc[:,tracts_acs_gdf.columns!='geometry'], \n",
    "                            geometry=tracts_acs_gdf.centroid)"
   ]
  },
  {
   "cell_type": "markdown",
   "metadata": {},
   "source": [
    "Now map the census tract points on top of our tract polygons symbolized by our variables of interest."
   ]
  },
  {
   "cell_type": "code",
   "execution_count": null,
   "metadata": {},
   "outputs": [],
   "source": [
    "fig, ax = plt.subplots(figsize = (14,8)) \n",
    "\n",
    "# add city boundary\n",
    "oakland_gdf.plot(ax=ax, color=\"grey\", alpha=0.6) \n",
    "\n",
    "# Display the output of our spatial join\n",
    "tract_permit_counts_gdf.plot(ax=ax,column='units_permit', \n",
    "                             scheme=\"quantiles\", \n",
    "                             cmap=\"YlGnBu\",\n",
    "                             edgecolor=\"grey\",\n",
    "                             legend=True, )\n",
    "\n",
    "# Display percent home owners\n",
    "tracts_acs_gdf_point.plot(ax=ax,column='p_owners', \n",
    "                             cmap=\"hot\",\n",
    "                             edgecolor=\"grey\",\n",
    "                             markersize=60,\n",
    "                             legend=True, )\n",
    "\n",
    "ax.set_title(\"Count of Permitted Units in Oakland by Census Tract\")\n",
    "ax.set_axis_off() \n",
    "plt.show()"
   ]
  },
  {
   "cell_type": "markdown",
   "metadata": {},
   "source": [
    "Well that's not as good as it could be!\n",
    "\n",
    "The census tract points are for the entire county but our tract polygons, output from `sjoin`, are only in Oakland.\n",
    "\n",
    "Let's **clip** the census tract points to the boundary of Oakland.\n",
    "\n",
    "### Clipping GeoDataFrames\n",
    "\n",
    "Clipping involves cutting out the features (or rows) in one geospatial dataset that spatially intersect the features of a polygon geospatial dataset. It is often called a cookie cutter operation. This is useful if we limit the information to a certain region. For example, if we want the census tracts for the city of Oakland we can clip the census tracts for the state to the boundary of that city.\n",
    "\n",
    "First, take a look at the Geopandas `clip` function documentation.\n",
    "- Clip requires both datasets to be in the same CRS. "
   ]
  },
  {
   "cell_type": "code",
   "execution_count": null,
   "metadata": {},
   "outputs": [],
   "source": [
    "# Uncomment to read\n",
    "#help(gpd.clip)"
   ]
  },
  {
   "cell_type": "markdown",
   "metadata": {},
   "source": [
    "Clip the census tract points to the boundary of Oakland."
   ]
  },
  {
   "cell_type": "code",
   "execution_count": null,
   "metadata": {},
   "outputs": [],
   "source": [
    "tracts_acs_gdf_point_clipped = gpd.clip(tracts_acs_gdf_point, oakland_gdf).reset_index(drop=True)"
   ]
  },
  {
   "cell_type": "markdown",
   "metadata": {},
   "source": [
    "Now, let's try that map again."
   ]
  },
  {
   "cell_type": "code",
   "execution_count": null,
   "metadata": {},
   "outputs": [],
   "source": [
    "fig, ax = plt.subplots(figsize = (14,8)) \n",
    "\n",
    "# add city boundary\n",
    "oakland_gdf.plot(ax=ax, color=\"grey\", alpha=0.6) \n",
    "\n",
    "# Display the output of our spatial join\n",
    "tract_permit_counts_gdf.plot(ax=ax,column='units_permit', \n",
    "                             scheme=\"quantiles\", \n",
    "                             cmap=\"Blues\",\n",
    "                             edgecolor=\"grey\",\n",
    "                             legend=True, \n",
    "                             legend_kwds={'title':'Permitted Units'})\n",
    "\n",
    "# Display percent home owners\n",
    "tracts_acs_gdf_point_clipped.plot(ax=ax,column='p_owners', \n",
    "                             cmap=\"Reds\",\n",
    "                             edgecolor=\"grey\",\n",
    "                             markersize=60,\n",
    "                             legend=True, \n",
    "                             legend_kwds={'label': 'Proportion of Home Owners'})\n",
    "\n",
    "ax.set_title(\"Count of Permitted Units in Oakland by Census Tract\")\n",
    "ax.set_axis_off() \n",
    "plt.show()"
   ]
  },
  {
   "cell_type": "markdown",
   "metadata": {},
   "source": [
    "Now that's better! This map seems to indicate that a larger number of permitted units can be found in areas with lower rates of home ownership.\n",
    "\n",
    "> `Clip` is a very common geometric data transformation. Check out the optional `Spatial Interpolation notebook` if you want to learn more."
   ]
  },
  {
   "cell_type": "markdown",
   "metadata": {},
   "source": [
    "### Any Questions?"
   ]
  },
  {
   "cell_type": "markdown",
   "metadata": {},
   "source": [
    "### Save your work!\n",
    "Save the files we created so we can reuse in subsequent notebooks."
   ]
  },
  {
   "cell_type": "code",
   "execution_count": null,
   "metadata": {},
   "outputs": [],
   "source": [
    "# Permit data joined to census tract ACS data\n",
    "tracts_and_permits_gdf.to_file(\"../outdata/tracts_and_permits_gdf.json\", driver=\"GeoJSON\")"
   ]
  },
  {
   "cell_type": "code",
   "execution_count": null,
   "metadata": {},
   "outputs": [],
   "source": [
    "# Tract ACS data joined to Permit date\n",
    "permits_and_tracts_gdf.to_file(\"../outdata/permits_and_tracts_gdf.json\",driver=\"GeoJSON\")"
   ]
  },
  {
   "cell_type": "code",
   "execution_count": null,
   "metadata": {},
   "outputs": [],
   "source": [
    "# City of Oakland boundary file\n",
    "oakland_gdf.to_file(\"../outdata/oakland_gdf.json\", driver=\"GeoJSON\")"
   ]
  },
  {
   "cell_type": "markdown",
   "metadata": {},
   "source": [
    "## 3.5 Recap\n",
    "In this lesson we introduces some important ways to spatially join and transform geospatial data.\n",
    "\n",
    "In the process we learned how to use the following:\n",
    "- Spatial Join\t-`gpd.sjoin()`\n",
    "- Dissolve `gdf.dissolve()`\n",
    "- Clip. `gpd.clip`\n"
   ]
  },
  {
   "cell_type": "markdown",
   "metadata": {},
   "source": [
    "<img align=\"left\" width=500 src=\"https://upload.wikimedia.org/wikipedia/commons/thumb/7/7b/Quite_the_happy_dog.jpg/640px-Quite_the_happy_dog.jpg\"></img>"
   ]
  },
  {
   "cell_type": "markdown",
   "metadata": {},
   "source": [
    "\n",
    "---\n",
    "\n",
    "## 3.6 Homework"
   ]
  },
  {
   "cell_type": "markdown",
   "metadata": {},
   "source": [
    "#### Exercise 1\n",
    "\n",
    "Let's pull in the other permit data table we have: `Permit_HousingApp_Parcel_Merge_Oakland.geojson`\n",
    "Try the following:\n",
    "1. Import the geojson as `housingapp_parcel_gdf`. Check your geodataframe’s columns.\n",
    "2. Convert to a point dataset\n",
    "3. Create a map that colors the points by the values in the column `approved` (number of approved units) \n",
    "4. Overlay these points on the Alameda County tracts data\n",
    "5. Zoom to Oakland\n"
   ]
  },
  {
   "cell_type": "code",
   "execution_count": null,
   "metadata": {},
   "outputs": [],
   "source": [
    "# Your code here"
   ]
  },
  {
   "cell_type": "markdown",
   "metadata": {},
   "source": [
    "*Click here for answers*\n",
    "\n",
    "<!--- cut and paste below---\n",
    " \n",
    "# SOLUTION\n",
    "# 1. Check your geodataframe’s columns\n",
    "housingapp_parcel_gdf = gpd.read_file(\"../notebook_data/outdata/Permit_HousingApp_Parcel_Merge_Oakland.geojson\")\n",
    "housingapp_parcel_gdf.columns\n",
    "\n",
    "housingapp_parcel_gdf[['APN2','proposed','approved']]\n",
    "\n",
    "# SOLUTION\n",
    "housingapp_parcel_point_gdf =  gpd.GeoDataFrame(housingapp_parcel_gdf.drop('geometry',axis=1), \n",
    "                            geometry=housingapp_parcel_gdf.centroid)\n",
    "\n",
    "\n",
    "# SOLUTION\n",
    "\n",
    "my_cmap = matplotlib.cm.get_cmap('summer')\n",
    "my_cmap.set_under('grey')\n",
    "\n",
    "# Map counts of permits within tracts\n",
    "fig, ax = plt.subplots(figsize = (18,8)) \n",
    "\n",
    "tracts_acs_gdf.plot(ax=ax,color='lightgrey', edgecolor='white')\n",
    "housingapp_parcel_point_gdf.plot(ax=ax,\n",
    "                                 column='approved', \n",
    "                                 legend=True, \n",
    "                                 cmap=my_cmap,\n",
    "                                 vmin=1\n",
    "                                 )\n",
    "\n",
    "# Set x and y limits\n",
    "ax.set_xlim([-122.35,-122.1])\n",
    "ax.set_ylim([37.7,37.87])\n",
    "\n",
    "plt.show()\n",
    "\n",
    "--- cut and paste above code --->"
   ]
  },
  {
   "cell_type": "markdown",
   "metadata": {},
   "source": [
    "#### Exercise 2\n",
    "\n",
    "In the code cell below.\n",
    "\n",
    "1. Spatially join the `housingapp_parcel_point_gdf` data to the census ACS data (`tracts_acs_gdf`). Make sure the CRSs match first! Save the output to a geodataframe called `tracts_and_apps_gdf`.\n",
    "  \n",
    "  \n",
    "2. Use the `dissolve` operation on the output of the spatial join (`tracts_and_apps_gdf`) and sum the number of **proposed** permits by census tract. Name the output geodataframe `tract_proposed_counts_gdf`.\n",
    "\n",
    "\n",
    "3. Create a map of the `count` of proposed units per census tract in  `tract_proposed_counts_gdf`.\n",
    "\n",
    "\n",
    "4. Save your work\n",
    "  1. your sjoin output\n",
    "  1. your dissolve output\n",
    "  1. your map"
   ]
  },
  {
   "cell_type": "code",
   "execution_count": null,
   "metadata": {},
   "outputs": [],
   "source": [
    "## YOUR CODE HERE\n",
    " \n",
    "# Drop rows with no geometry - don't change this next line - it is needed bc not all rows have geometry\n",
    "# housingapp_parcel_point_gdf=housingapp_parcel_point_gdf[~housingapp_parcel_point_gdf.geometry.isna()]\n",
    "\n",
    "# Transform CRSs so they match\n",
    "\n",
    "# sjoin housing apps to tracts\n",
    "\n",
    "# Dissolve and sum proprosed units\n",
    "\n",
    "# Map it\n",
    " \n",
    "# Save your work"
   ]
  },
  {
   "cell_type": "markdown",
   "metadata": {},
   "source": [
    "*Click here for answers*\n",
    "\n",
    "<!--- Cut and paste below ---\n",
    "\n",
    "# SOLUTION\n",
    "\n",
    "# Drop rows with no geometry\n",
    "housingapp_parcel_point_gdf = housingapp_parcel_point_gdf[~housingapp_parcel_point_gdf.geometry.isna()]\n",
    "housingapp_parcel_point_gdf.head()\n",
    "\n",
    "# Transform CRSs so they match\n",
    "housingapp_parcel_point_gdf = housingapp_parcel_point_gdf.to_crs(tracts_acs_gdf.crs)\n",
    "\n",
    "# sjoin housing apps to tracts\n",
    "tracts_and_apps_gdf = gpd.sjoin(tracts_acs_gdf, housingapp_parcel_point_gdf)\n",
    "\n",
    "# Dissolve and sum proprosed units\n",
    "tract_proposed_counts_gdf=tracts_and_apps_gdf[['GEOID','geometry','proposed']].dissolve(by='GEOID', aggfunc=\"sum\", as_index=False)\n",
    "#tract_proposed_counts_gdf\n",
    "\n",
    "# Map it\n",
    "fig, ax = plt.subplots(figsize = (14,8)) \n",
    "\n",
    "# Display the output of our spatial join\n",
    "tract_proposed_counts_gdf.plot(ax=ax,column='proposed', \n",
    "                             scheme=\"quantiles\", \n",
    "                             cmap=\"YlGnBu\",\n",
    "                             edgecolor=\"grey\",\n",
    "                             legend=True, )\n",
    "\n",
    "plt.show()\n",
    "\n",
    "--- cut and paste above --->"
   ]
  },
  {
   "cell_type": "markdown",
   "metadata": {},
   "source": [
    "## Congrats you're done with part 3!\n",
    "</br>\n",
    "\n",
    "---\n",
    "<div style=\"display:inline-block;vertical-align:middle;\">\n",
    "<a href=\"https://dataforhousing.org/\" target=\"_blank\"><img src =\"https://media-exp1.licdn.com/dms/image/C560BAQELkt35AxeIeA/company-logo_200_200/0?e=1597881600&v=beta&t=irZ1tYCA9A2biVzCguvCXzsfzanSYDFuF22IUFNY5Sg\" width=\"75\" align=\"left\">\n",
    "</a>\n",
    "</div>\n",
    "\n",
    "<div style=\"display:inline-block;vertical-align:middle;\">\n",
    "    <div style=\"font-size:larger\">&nbsp;Data Science for Housing Workshop, University of California Berkeley</div>\n",
    "    <div>&nbsp;Tim Thomas, Patty Frontiera, Emmanuel Lopez, Ethan Ebinger, Hikari Murayama, Karen Chapple, Claudia von Vacano<div>\n",
    "    <div>&copy; UC Regents, 2019-2020</div>\n",
    "</div>"
   ]
  }
 ],
 "metadata": {
  "kernelspec": {
   "display_name": "Python 3",
   "language": "python",
   "name": "python3"
  },
  "language_info": {
   "codemirror_mode": {
    "name": "ipython",
    "version": 3
   },
   "file_extension": ".py",
   "mimetype": "text/x-python",
   "name": "python",
   "nbconvert_exporter": "python",
   "pygments_lexer": "ipython3",
   "version": "3.7.6"
  }
 },
 "nbformat": 4,
 "nbformat_minor": 4
}
