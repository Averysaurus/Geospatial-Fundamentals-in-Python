{
 "cells": [
  {
   "cell_type": "markdown",
   "metadata": {},
   "source": [
    "### American Community Survey 5 Year Data (or ACS5)\n",
    "\n",
    "To get started, let's read the ACS 5 year data for California tracts into a `dataframe` using the  `pandas read_csv` method. \n",
    "\n",
    "As we read in the ACS data we will tell pandas to make sure that the data in the column `FIPS_11_digit` is read in as a string to preserve leading zeros in the census tract identifiers."
   ]
  },
  {
   "cell_type": "code",
   "execution_count": null,
   "metadata": {},
   "outputs": [],
   "source": [
    "# Read in the ACS5 data for CA into a pandas DataFrame.\n",
    "# Note: We force the FIPS_11_digit to be read in as a string to preserve any leading zeroes.\n",
    "acs5data_df = pd.read_csv(\"../notebook_data/census/ACS5yr/census_variables_CA.csv\", dtype={'FIPS_11_digit':str})"
   ]
  },
  {
   "cell_type": "markdown",
   "metadata": {},
   "source": [
    "Pandas provides a number of methods to view information about a dataframe."
   ]
  },
  {
   "cell_type": "markdown",
   "metadata": {},
   "source": [
    "The pandas dataframe attribute `shape` tells us the number of rows and columns in the dataframe."
   ]
  },
  {
   "cell_type": "code",
   "execution_count": null,
   "metadata": {},
   "outputs": [],
   "source": [
    "# Take a look at the shape of the dataframe\n",
    "acs5data_df.shape"
   ]
  },
  {
   "cell_type": "markdown",
   "metadata": {},
   "source": [
    "Each row in our dataframe is an observation. For the ACS5 data each observation is about a census tract.\n",
    "\n",
    "Each column in our dataframe is a variable for that observation."
   ]
  },
  {
   "cell_type": "markdown",
   "metadata": {},
   "source": [
    "Let's use `head` to take a look at the first 5 rows in the dataframe."
   ]
  },
  {
   "cell_type": "code",
   "execution_count": null,
   "metadata": {
    "scrolled": true
   },
   "outputs": [],
   "source": [
    "# Take a look at the data\n",
    "acs5data_df.head()"
   ]
  },
  {
   "cell_type": "markdown",
   "metadata": {},
   "source": [
    "A `...` in the middle of the top row indicates that there are two many columns to display.\n",
    "\n",
    "The pandas dataframe `columns` attribute returns a list of the column names."
   ]
  },
  {
   "cell_type": "code",
   "execution_count": null,
   "metadata": {},
   "outputs": [],
   "source": [
    "acs5data_df.columns"
   ]
  },
  {
   "cell_type": "markdown",
   "metadata": {},
   "source": [
    "We can see more information about the variables included in our ACS5 year data using the `info` method. This method tells us at a glance what variables (or columns) are included in the data, the data type of each variable, and which variables have values for all rows."
   ]
  },
  {
   "cell_type": "code",
   "execution_count": null,
   "metadata": {},
   "outputs": [],
   "source": [
    "acs5data_df.info()"
   ]
  },
  {
   "cell_type": "markdown",
   "metadata": {},
   "source": [
    "### Brief review of the ACS data"
   ]
  },
  {
   "cell_type": "markdown",
   "metadata": {},
   "source": [
    "These variables were combined from different ACS 5 year tables. We have information for the following:\n",
    "\n",
    "- `c_race` - Total population\n",
    "- `c_white` - Total white non-Latinx\n",
    "- `c_black` - Total black and African American non-Latinx\n",
    "- `c_asian` - Total Asian non-Latinx\n",
    "- `c_latinx` - Total Latinx\n",
    "- `state_fips` - State level FIPS code\n",
    "- `county_fips` - County level FIPS code\n",
    "- `tract_fips` - Tracts level FIPS code\n",
    "- `med_rent` - Median rent\n",
    "- `med_hhinc` - Median household income\n",
    "- `c_tenants` - Total tenants\n",
    "- `c_owners` - Total owners\n",
    "- `c_renters` - Total renters\n",
    "- `c_movers` - Total number of people who moved\n",
    "- `c_stay` - Total number of people who stayed\n",
    "- `c_movelocal` - Number of people who moved locally\n",
    "- `c_movecounty` - Number of people who moved counties\n",
    "- `c_movestate` - Number of people who moved states\n",
    "- `c_moveabroad` - Number of people who moved abroad\n",
    "- `c_commute` - Total number of commuters\n",
    "- `c_car` - Number of commuters who use a car\n",
    "- `c_carpool` - Number of commuters who carpool\n",
    "- `c_transit` - Number of commuters who use public transit\n",
    "- `c_bike` - Number of commuters who bike\n",
    "- `c_walk` - Number of commuters who bike\n",
    "- `year` - ACS data year\n",
    "- `FIPS_11_digit` - 11-digit FIPS code\n",
    "\n",
    "The ACS variables that start with `c_` are counts, those that start with `med_` are medians.  Variables that end in `_moe` denote margin of error. There are also a number of derived variables that start with `p_`. These are proportions calcuated from the counts divided by the table denominator (the total count for whom that variable was assessed)."
   ]
  },
  {
   "cell_type": "markdown",
   "metadata": {},
   "source": [
    "We're going to drop all of our `moe` columns by identifying all of those that end with `_moe`. We can do that in two steps, first by using `filter` to identify columns that contain the string `_moe`."
   ]
  },
  {
   "cell_type": "code",
   "execution_count": null,
   "metadata": {},
   "outputs": [],
   "source": [
    "moe_cols = acs5data_df.filter(like='_moe',axis=1).columns\n",
    "moe_cols"
   ]
  },
  {
   "cell_type": "markdown",
   "metadata": {},
   "source": [
    "Note how we set the filter `like=` to a value that matches the pattern of the names of the columns we want to drop. You need to make sure you get all but only the columns that you want to drop.\n",
    "\n",
    "<div style=\"display:inline-block;vertical-align:top;\">\n",
    "    <img src=\"http://www.pngall.com/wp-content/uploads/2016/03/Light-Bulb-Free-PNG-Image.png\" width=\"30\" align=left > \n",
    "</div>  \n",
    "<div style=\"display:inline-block;\">\n",
    "\n",
    "#### Question\n",
    "</div>\n",
    "\n",
    "What do you think happens if you match `_mo` instead of `_moe` in the filter?"
   ]
  },
  {
   "cell_type": "markdown",
   "metadata": {},
   "source": [
    "Now that we've got our list of moe columns, we can use `.drop()` to remove them from the dataframe. "
   ]
  },
  {
   "cell_type": "code",
   "execution_count": null,
   "metadata": {},
   "outputs": [],
   "source": [
    "# Drop MOE columns\n",
    "acs5data_df.drop(moe_cols, axis=1, inplace=True)"
   ]
  },
  {
   "cell_type": "markdown",
   "metadata": {},
   "source": [
    "Check that you no longer have the moe columns in the dataframe."
   ]
  },
  {
   "cell_type": "code",
   "execution_count": null,
   "metadata": {},
   "outputs": [],
   "source": [
    "acs5data_df.columns"
   ]
  },
  {
   "cell_type": "markdown",
   "metadata": {},
   "source": [
    "### Select data for our county and year of interest\n",
    "\n",
    "Our ACS5 data contains observations for all CA counties and two ACS 5 year periods.\n",
    "\n",
    "The counties are identified by a unique Census FIPS code. \n",
    "- You can see the list of all CA Counties and their FIPS codes [here](https://en.wikipedia.org/wiki/List_of_counties_in_California).\n",
    "\n",
    "Let's use the `.unique` to check the unique set of county FIPS codes included in our dataframe."
   ]
  },
  {
   "cell_type": "code",
   "execution_count": null,
   "metadata": {},
   "outputs": [],
   "source": [
    "acs5data_df['county_fips'].unique()  #what counties are in our dataframe"
   ]
  },
  {
   "cell_type": "markdown",
   "metadata": {},
   "source": [
    "Now use `.unique` to see what years are included."
   ]
  },
  {
   "cell_type": "code",
   "execution_count": null,
   "metadata": {
    "scrolled": true
   },
   "outputs": [],
   "source": [
    "acs5data_df['year'].unique()"
   ]
  },
  {
   "cell_type": "markdown",
   "metadata": {},
   "source": [
    "We are interested in Alameda County, which has the FIPS code `001`.  Moreover, we are only interested in the 2018 ACS 5 year data.  Let's filter the data to keep only the rows that match these two conditions.\n"
   ]
  },
  {
   "cell_type": "code",
   "execution_count": null,
   "metadata": {},
   "outputs": [],
   "source": [
    "acs5data_df_ac = acs5data_df[(acs5data_df['year']==2018) & (acs5data_df['county_fips']==1)]"
   ]
  },
  {
   "cell_type": "markdown",
   "metadata": {},
   "source": [
    "<div style=\"display:inline-block;vertical-align:top;\">\n",
    "    <img src=\"http://www.pngall.com/wp-content/uploads/2016/03/Light-Bulb-Free-PNG-Image.png\" width=\"30\" align=left > \n",
    "</div>  \n",
    "<div style=\"display:inline-block;\">\n",
    "\n",
    "#### Question\n",
    "</div>\n",
    "\n",
    "Why do we filter on `county_fips==1` instead of `county_fips==001` or `county_fips=='001'`?"
   ]
  },
  {
   "cell_type": "code",
   "execution_count": null,
   "metadata": {},
   "outputs": [],
   "source": [
    "# Write your thoughts here"
   ]
  },
  {
   "cell_type": "markdown",
   "metadata": {},
   "source": [
    "Now, check the contents of our dataframe again."
   ]
  },
  {
   "cell_type": "code",
   "execution_count": null,
   "metadata": {},
   "outputs": [],
   "source": [
    "# now what is the shape of the data when filtered for Alameda County?\n",
    "print(acs5data_df_ac.shape)"
   ]
  },
  {
   "cell_type": "code",
   "execution_count": null,
   "metadata": {},
   "outputs": [],
   "source": [
    "# Take a look at the first 5 rows\n",
    "acs5data_df_ac.head()"
   ]
  },
  {
   "cell_type": "markdown",
   "metadata": {},
   "source": [
    ">**Pro-tip:** Checking your row and column counts and values often with `.shape` and values with `.head` help to make sure that these values are consistent with your understanding of the data."
   ]
  },
  {
   "cell_type": "markdown",
   "metadata": {},
   "source": [
    "### Saving our output"
   ]
  },
  {
   "cell_type": "markdown",
   "metadata": {},
   "source": [
    "It's a good idea to save your data if you have done any major processing on it. Let's save our Alameda County sub-setted ACS5 data to a CSV file."
   ]
  },
  {
   "cell_type": "code",
   "execution_count": null,
   "metadata": {},
   "outputs": [],
   "source": [
    "# Save processed data to a csv file - give it a name that is meaningful\n",
    "acs5data_df_ac.to_csv('../outdata/acs5data_2018_AC.csv')"
   ]
  },
  {
   "cell_type": "markdown",
   "metadata": {},
   "source": [
    "Confirm that the file was saved with a [shell command](https://jakevdp.github.io/PythonDataScienceHandbook/01.05-ipython-and-shell-commands.html#Shell-Commands-in-IPython).  Shell commands are prefaced by a `!` and allow you to access the file system and run commands like you would from a terminal window. (This may differ if you are on a windows computer)"
   ]
  },
  {
   "cell_type": "code",
   "execution_count": null,
   "metadata": {},
   "outputs": [],
   "source": [
    "!ls ../outdata"
   ]
  },
  {
   "cell_type": "markdown",
   "metadata": {},
   "source": [
    "#### Exercise\n",
    "\n",
    "Now do this for the SF ACS data:\n",
    "1. Find the FIPS code for [SF county](https://en.wikipedia.org/wiki/List_of_counties_in_California)\n",
    "2. Subset the ACS data to keep only rows for SF county in 2018 and assign to `acs5data_df_sf`\n",
    "3. Save out ACS data as `acs5data_2018_SF.csv`\n",
    "\n",
    "\n"
   ]
  },
  {
   "cell_type": "code",
   "execution_count": null,
   "metadata": {},
   "outputs": [],
   "source": [
    "# Your code here"
   ]
  },
  {
   "cell_type": "markdown",
   "metadata": {},
   "source": [
    "\n",
    "*Click here for solution*\n",
    "\n",
    "<!--- \n",
    "    # SOLUTION\n",
    "    # 1 & 2 Subset ACS data for SF\n",
    "    acs5data_df_sf = acs5data_df[(acs5data_df['county_fips']==75) & (acs5data_df.year==2018)]\n",
    "\n",
    "    # SOLUTION\n",
    "    acs5data_df_sf.head()\n",
    "\n",
    "    # SOLUTION\n",
    "    # 3. Save out ACS data as 'acs5data_2018_SF.csv'\n",
    "    acs5data_df_sf.to_csv('../outdata/acs5data_2018_SF.csv')\n",
    "--->"
   ]
  },
  {
   "cell_type": "code",
   "execution_count": null,
   "metadata": {},
   "outputs": [],
   "source": []
  }
 ],
 "metadata": {
  "kernelspec": {
   "display_name": "Python 3",
   "language": "python",
   "name": "python3"
  },
  "language_info": {
   "codemirror_mode": {
    "name": "ipython",
    "version": 3
   },
   "file_extension": ".py",
   "mimetype": "text/x-python",
   "name": "python",
   "nbconvert_exporter": "python",
   "pygments_lexer": "ipython3",
   "version": "3.8.3"
  }
 },
 "nbformat": 4,
 "nbformat_minor": 4
}
