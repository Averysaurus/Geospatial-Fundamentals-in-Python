{
 "cells": [
  {
   "cell_type": "markdown",
   "metadata": {},
   "source": [
    "# 9. Spatial Joins\n",
    "\n",
    "In this notebook we'll continue the analysis we started with the previous notebook. We'll be able to answer the question *How many Bart stations are within walking distance of each parcel?*\n",
    "\n",
    "We'll load all of our packages and the data we need."
   ]
  },
  {
   "cell_type": "code",
   "execution_count": 1,
   "metadata": {},
   "outputs": [],
   "source": [
    "import math\n",
    "import numpy as np\n",
    "import pandas as pd\n",
    "import collections\n",
    "import requests \n",
    "from urllib.request import urlopen, Request\n",
    "\n",
    "import json # for working with JSON data\n",
    "import geojson # ditto for GeoJSON data - an extension of JSON with support for geographic data\n",
    "import geopandas as gpd\n",
    "# import mapclassify # to classify data values\n",
    "\n",
    "import matplotlib # base python plotting library\n",
    "%matplotlib inline  \n",
    "import matplotlib.pyplot as plt # more plotting stuff"
   ]
  },
  {
   "cell_type": "markdown",
   "metadata": {},
   "source": [
    "### Step 5. Spatially join the Permit buffers and BART data\n",
    "\n",
    "Great, now that we have our data in the right CRS with our new BART count variable, we're going to go ahead and identify the school locations within waking distance of a BART station.\n",
    "\n",
    "To do that, we're going to do a **spatial join** using the geopandas **sjoin** function. "
   ]
  },
  {
   "cell_type": "code",
   "execution_count": 55,
   "metadata": {},
   "outputs": [
    {
     "name": "stdout",
     "output_type": "stream",
     "text": [
      "Help on function sjoin in module geopandas.tools.sjoin:\n",
      "\n",
      "sjoin(left_df, right_df, how='inner', op='intersects', lsuffix='left', rsuffix='right')\n",
      "    Spatial join of two GeoDataFrames.\n",
      "    \n",
      "    Parameters\n",
      "    ----------\n",
      "    left_df, right_df : GeoDataFrames\n",
      "    how : string, default 'inner'\n",
      "        The type of join:\n",
      "    \n",
      "        * 'left': use keys from left_df; retain only left_df geometry column\n",
      "        * 'right': use keys from right_df; retain only right_df geometry column\n",
      "        * 'inner': use intersection of keys from both dfs; retain only\n",
      "          left_df geometry column\n",
      "    op : string, default 'intersects'\n",
      "        Binary predicate, one of {'intersects', 'contains', 'within'}.\n",
      "        See http://shapely.readthedocs.io/en/latest/manual.html#binary-predicates.\n",
      "    lsuffix : string, default 'left'\n",
      "        Suffix to apply to overlapping column names (left GeoDataFrame).\n",
      "    rsuffix : string, default 'right'\n",
      "        Suffix to apply to overlapping column names (right GeoDataFrame).\n",
      "\n"
     ]
    }
   ],
   "source": [
    "help(gpd.sjoin)"
   ]
  },
  {
   "cell_type": "markdown",
   "metadata": {},
   "source": [
    "Before proceeding, consider this:\n",
    "\n",
    "- What geodataframe should be listed first in the spatial join as the `left_df`? Why does this matter?\n",
    "- Do we want to do a default inner join or a left join?\n",
    "- What will the output geometry type be? What do we want it to be?\n",
    "\n",
    "\n",
    "\n",
    "<img align=\"left\" width=500 src=\"https://upload.wikimedia.org/wikipedia/commons/f/ff/Cat_on_laptop_-_Just_Browsing.jpg\"></img>"
   ]
  },
  {
   "cell_type": "markdown",
   "metadata": {},
   "source": [
    "\n",
    "OK, spatial join time!"
   ]
  },
  {
   "cell_type": "code",
   "execution_count": 2,
   "metadata": {},
   "outputs": [],
   "source": [
    "# Bring in our school and bart data \n",
    "bart_buf_gdf = gpd.read_file(\"../outdata/bart_buffers.json\")\n",
    "schools_3310 = gpd.read_file(\"../outdata/berkeley_schools.json\")"
   ]
  },
  {
   "cell_type": "code",
   "execution_count": 3,
   "metadata": {
    "scrolled": true
   },
   "outputs": [
    {
     "data": {
      "text/html": [
       "<div>\n",
       "<style scoped>\n",
       "    .dataframe tbody tr th:only-of-type {\n",
       "        vertical-align: middle;\n",
       "    }\n",
       "\n",
       "    .dataframe tbody tr th {\n",
       "        vertical-align: top;\n",
       "    }\n",
       "\n",
       "    .dataframe thead th {\n",
       "        text-align: right;\n",
       "    }\n",
       "</style>\n",
       "<table border=\"1\" class=\"dataframe\">\n",
       "  <thead>\n",
       "    <tr style=\"text-align: right;\">\n",
       "      <th></th>\n",
       "      <th>X</th>\n",
       "      <th>Y</th>\n",
       "      <th>Site</th>\n",
       "      <th>Address</th>\n",
       "      <th>City</th>\n",
       "      <th>State</th>\n",
       "      <th>Type</th>\n",
       "      <th>API</th>\n",
       "      <th>Org</th>\n",
       "      <th>geometry</th>\n",
       "      <th>index_right</th>\n",
       "      <th>STATION</th>\n",
       "      <th>bart_count</th>\n",
       "    </tr>\n",
       "  </thead>\n",
       "  <tbody>\n",
       "    <tr>\n",
       "      <th>6</th>\n",
       "      <td>-122.273754</td>\n",
       "      <td>37.852278</td>\n",
       "      <td>Malcolm X Elementary</td>\n",
       "      <td>1731 Prince St</td>\n",
       "      <td>Berkeley</td>\n",
       "      <td>CA</td>\n",
       "      <td>ES</td>\n",
       "      <td>834</td>\n",
       "      <td>Public</td>\n",
       "      <td>POINT (-199778.363 -15845.380)</td>\n",
       "      <td>2</td>\n",
       "      <td>ASHBY</td>\n",
       "      <td>1</td>\n",
       "    </tr>\n",
       "    <tr>\n",
       "      <th>10</th>\n",
       "      <td>-122.272412</td>\n",
       "      <td>37.867003</td>\n",
       "      <td>Washington Elementary</td>\n",
       "      <td>2300 M L King Jr. Way</td>\n",
       "      <td>Berkeley</td>\n",
       "      <td>CA</td>\n",
       "      <td>ES</td>\n",
       "      <td>811</td>\n",
       "      <td>Public</td>\n",
       "      <td>POINT (-199621.189 -14211.715)</td>\n",
       "      <td>1</td>\n",
       "      <td>DOWNTOWN BERKELEY</td>\n",
       "      <td>1</td>\n",
       "    </tr>\n",
       "    <tr>\n",
       "      <th>14</th>\n",
       "      <td>-122.272486</td>\n",
       "      <td>37.868367</td>\n",
       "      <td>Berkeley High</td>\n",
       "      <td>2223 Martin Luther King Jr. Way</td>\n",
       "      <td>Berkeley</td>\n",
       "      <td>CA</td>\n",
       "      <td>HS</td>\n",
       "      <td>0</td>\n",
       "      <td>Public</td>\n",
       "      <td>POINT (-199624.108 -14060.015)</td>\n",
       "      <td>1</td>\n",
       "      <td>DOWNTOWN BERKELEY</td>\n",
       "      <td>1</td>\n",
       "    </tr>\n",
       "    <tr>\n",
       "      <th>23</th>\n",
       "      <td>-122.263331</td>\n",
       "      <td>37.868052</td>\n",
       "      <td>Global Montessori International School</td>\n",
       "      <td>2314 Bancroft Way</td>\n",
       "      <td>Berkeley</td>\n",
       "      <td>CA</td>\n",
       "      <td>K-6</td>\n",
       "      <td>0</td>\n",
       "      <td>private</td>\n",
       "      <td>POINT (-198820.877 -14114.234)</td>\n",
       "      <td>1</td>\n",
       "      <td>DOWNTOWN BERKELEY</td>\n",
       "      <td>1</td>\n",
       "    </tr>\n",
       "    <tr>\n",
       "      <th>30</th>\n",
       "      <td>-122.280841</td>\n",
       "      <td>37.870741</td>\n",
       "      <td>West-Wind Academy</td>\n",
       "      <td>1551 University Avenue</td>\n",
       "      <td>Berkeley</td>\n",
       "      <td>CA</td>\n",
       "      <td>1 to 12</td>\n",
       "      <td>0</td>\n",
       "      <td>private</td>\n",
       "      <td>POINT (-200351.528 -13778.534)</td>\n",
       "      <td>0</td>\n",
       "      <td>NORTH BERKELEY</td>\n",
       "      <td>1</td>\n",
       "    </tr>\n",
       "  </tbody>\n",
       "</table>\n",
       "</div>"
      ],
      "text/plain": [
       "             X          Y                                    Site  \\\n",
       "6  -122.273754  37.852278                    Malcolm X Elementary   \n",
       "10 -122.272412  37.867003                   Washington Elementary   \n",
       "14 -122.272486  37.868367                           Berkeley High   \n",
       "23 -122.263331  37.868052  Global Montessori International School   \n",
       "30 -122.280841  37.870741                       West-Wind Academy   \n",
       "\n",
       "                            Address      City State     Type  API      Org  \\\n",
       "6                    1731 Prince St  Berkeley    CA       ES  834   Public   \n",
       "10            2300 M L King Jr. Way  Berkeley    CA       ES  811   Public   \n",
       "14  2223 Martin Luther King Jr. Way  Berkeley    CA       HS    0   Public   \n",
       "23                2314 Bancroft Way  Berkeley    CA      K-6    0  private   \n",
       "30           1551 University Avenue  Berkeley    CA  1 to 12    0  private   \n",
       "\n",
       "                          geometry  index_right            STATION  bart_count  \n",
       "6   POINT (-199778.363 -15845.380)            2              ASHBY           1  \n",
       "10  POINT (-199621.189 -14211.715)            1  DOWNTOWN BERKELEY           1  \n",
       "14  POINT (-199624.108 -14060.015)            1  DOWNTOWN BERKELEY           1  \n",
       "23  POINT (-198820.877 -14114.234)            1  DOWNTOWN BERKELEY           1  \n",
       "30  POINT (-200351.528 -13778.534)            0     NORTH BERKELEY           1  "
      ]
     },
     "execution_count": 3,
     "metadata": {},
     "output_type": "execute_result"
    }
   ],
   "source": [
    "# Join the bart data to the permit data to identify permit locations near bart\n",
    "schools_near_bart_gdf = gpd.sjoin(schools_3310,bart_buf_gdf)\n",
    "schools_near_bart_gdf.head()"
   ]
  },
  {
   "cell_type": "markdown",
   "metadata": {},
   "source": [
    "<img align=\"left\" width=500 src=\"https://upload.wikimedia.org/wikipedia/commons/thumb/8/8f/Sad_Lucy.jpg/640px-Sad_Lucy.jpg\"></img>"
   ]
  },
  {
   "cell_type": "markdown",
   "metadata": {},
   "source": [
    "Before diving too deep into our results. We can start by double checking the shape of our input and output geodataframes to make sure they seem reasonable."
   ]
  },
  {
   "cell_type": "code",
   "execution_count": 6,
   "metadata": {},
   "outputs": [
    {
     "name": "stdout",
     "output_type": "stream",
     "text": [
      "Number of  schools 32\n",
      "Number of BART stations: 44\n",
      "Number of schools in BART bufs 5\n"
     ]
    }
   ],
   "source": [
    "print(\"Number of  schools\",len(schools_3310))\n",
    "print(\"Number of BART stations:\",len(bart_buf_gdf))\n",
    "print(\"Number of schools in BART bufs\",len(schools_near_bart_gdf))"
   ]
  },
  {
   "cell_type": "markdown",
   "metadata": {},
   "source": [
    "\n",
    "### Step 6. Count the number of Bart Stations within walking Distance of Permit Locations\n",
    "\n",
    "Now that we have done our spatial join, we can sum the count of BART stations within walking distance of permit locations. We will dissolve duplicate geometries that share the same `jurisdiction_id`, assuming this to be a unique ID for the permit applications."
   ]
  },
  {
   "cell_type": "code",
   "execution_count": 8,
   "metadata": {},
   "outputs": [
    {
     "data": {
      "text/html": [
       "<div>\n",
       "<style scoped>\n",
       "    .dataframe tbody tr th:only-of-type {\n",
       "        vertical-align: middle;\n",
       "    }\n",
       "\n",
       "    .dataframe tbody tr th {\n",
       "        vertical-align: top;\n",
       "    }\n",
       "\n",
       "    .dataframe thead th {\n",
       "        text-align: right;\n",
       "    }\n",
       "</style>\n",
       "<table border=\"1\" class=\"dataframe\">\n",
       "  <thead>\n",
       "    <tr style=\"text-align: right;\">\n",
       "      <th></th>\n",
       "      <th>Site</th>\n",
       "      <th>geometry</th>\n",
       "      <th>bart_count</th>\n",
       "    </tr>\n",
       "  </thead>\n",
       "  <tbody>\n",
       "    <tr>\n",
       "      <th>0</th>\n",
       "      <td>Berkeley High</td>\n",
       "      <td>POINT (-199624.108 -14060.015)</td>\n",
       "      <td>1</td>\n",
       "    </tr>\n",
       "    <tr>\n",
       "      <th>1</th>\n",
       "      <td>Global Montessori International School</td>\n",
       "      <td>POINT (-198820.877 -14114.234)</td>\n",
       "      <td>1</td>\n",
       "    </tr>\n",
       "    <tr>\n",
       "      <th>2</th>\n",
       "      <td>Malcolm X Elementary</td>\n",
       "      <td>POINT (-199778.363 -15845.380)</td>\n",
       "      <td>1</td>\n",
       "    </tr>\n",
       "    <tr>\n",
       "      <th>3</th>\n",
       "      <td>Washington Elementary</td>\n",
       "      <td>POINT (-199621.189 -14211.715)</td>\n",
       "      <td>1</td>\n",
       "    </tr>\n",
       "    <tr>\n",
       "      <th>4</th>\n",
       "      <td>West-Wind Academy</td>\n",
       "      <td>POINT (-200351.528 -13778.534)</td>\n",
       "      <td>1</td>\n",
       "    </tr>\n",
       "  </tbody>\n",
       "</table>\n",
       "</div>"
      ],
      "text/plain": [
       "                                     Site                        geometry  \\\n",
       "0                           Berkeley High  POINT (-199624.108 -14060.015)   \n",
       "1  Global Montessori International School  POINT (-198820.877 -14114.234)   \n",
       "2                    Malcolm X Elementary  POINT (-199778.363 -15845.380)   \n",
       "3                   Washington Elementary  POINT (-199621.189 -14211.715)   \n",
       "4                       West-Wind Academy  POINT (-200351.528 -13778.534)   \n",
       "\n",
       "   bart_count  \n",
       "0           1  \n",
       "1           1  \n",
       "2           1  \n",
       "3           1  \n",
       "4           1  "
      ]
     },
     "execution_count": 8,
     "metadata": {},
     "output_type": "execute_result"
    }
   ],
   "source": [
    "# Need to double check that the 'APN2' is the unique identifier\n",
    "schools_bart_counts_gdf = schools_near_bart_gdf[['Site','geometry','bart_count']].dissolve(by='Site', aggfunc=\"sum\", as_index=False)\n",
    "schools_bart_counts_gdf"
   ]
  },
  {
   "cell_type": "markdown",
   "metadata": {},
   "source": [
    "We can combine this output with our sjoin input schools geodataframe (`schools_3310`) to enhance the school information."
   ]
  },
  {
   "cell_type": "code",
   "execution_count": 10,
   "metadata": {},
   "outputs": [],
   "source": [
    "schools_gdf_enhanced = schools_3310.merge(schools_bart_counts_gdf[['Site','bart_count']], on=\"Site\", how=\"left\")\n"
   ]
  },
  {
   "cell_type": "code",
   "execution_count": 11,
   "metadata": {},
   "outputs": [
    {
     "data": {
      "text/html": [
       "<div>\n",
       "<style scoped>\n",
       "    .dataframe tbody tr th:only-of-type {\n",
       "        vertical-align: middle;\n",
       "    }\n",
       "\n",
       "    .dataframe tbody tr th {\n",
       "        vertical-align: top;\n",
       "    }\n",
       "\n",
       "    .dataframe thead th {\n",
       "        text-align: right;\n",
       "    }\n",
       "</style>\n",
       "<table border=\"1\" class=\"dataframe\">\n",
       "  <thead>\n",
       "    <tr style=\"text-align: right;\">\n",
       "      <th></th>\n",
       "      <th>X</th>\n",
       "      <th>Y</th>\n",
       "      <th>Site</th>\n",
       "      <th>Address</th>\n",
       "      <th>City</th>\n",
       "      <th>State</th>\n",
       "      <th>Type</th>\n",
       "      <th>API</th>\n",
       "      <th>Org</th>\n",
       "      <th>geometry</th>\n",
       "      <th>bart_count</th>\n",
       "    </tr>\n",
       "  </thead>\n",
       "  <tbody>\n",
       "    <tr>\n",
       "      <th>6</th>\n",
       "      <td>-122.273754</td>\n",
       "      <td>37.852278</td>\n",
       "      <td>Malcolm X Elementary</td>\n",
       "      <td>1731 Prince St</td>\n",
       "      <td>Berkeley</td>\n",
       "      <td>CA</td>\n",
       "      <td>ES</td>\n",
       "      <td>834</td>\n",
       "      <td>Public</td>\n",
       "      <td>POINT (-199778.363 -15845.380)</td>\n",
       "      <td>1.0</td>\n",
       "    </tr>\n",
       "    <tr>\n",
       "      <th>10</th>\n",
       "      <td>-122.272412</td>\n",
       "      <td>37.867003</td>\n",
       "      <td>Washington Elementary</td>\n",
       "      <td>2300 M L King Jr. Way</td>\n",
       "      <td>Berkeley</td>\n",
       "      <td>CA</td>\n",
       "      <td>ES</td>\n",
       "      <td>811</td>\n",
       "      <td>Public</td>\n",
       "      <td>POINT (-199621.189 -14211.715)</td>\n",
       "      <td>1.0</td>\n",
       "    </tr>\n",
       "    <tr>\n",
       "      <th>14</th>\n",
       "      <td>-122.272486</td>\n",
       "      <td>37.868367</td>\n",
       "      <td>Berkeley High</td>\n",
       "      <td>2223 Martin Luther King Jr. Way</td>\n",
       "      <td>Berkeley</td>\n",
       "      <td>CA</td>\n",
       "      <td>HS</td>\n",
       "      <td>0</td>\n",
       "      <td>Public</td>\n",
       "      <td>POINT (-199624.108 -14060.015)</td>\n",
       "      <td>1.0</td>\n",
       "    </tr>\n",
       "    <tr>\n",
       "      <th>23</th>\n",
       "      <td>-122.263331</td>\n",
       "      <td>37.868052</td>\n",
       "      <td>Global Montessori International School</td>\n",
       "      <td>2314 Bancroft Way</td>\n",
       "      <td>Berkeley</td>\n",
       "      <td>CA</td>\n",
       "      <td>K-6</td>\n",
       "      <td>0</td>\n",
       "      <td>private</td>\n",
       "      <td>POINT (-198820.877 -14114.234)</td>\n",
       "      <td>1.0</td>\n",
       "    </tr>\n",
       "    <tr>\n",
       "      <th>30</th>\n",
       "      <td>-122.280841</td>\n",
       "      <td>37.870741</td>\n",
       "      <td>West-Wind Academy</td>\n",
       "      <td>1551 University Avenue</td>\n",
       "      <td>Berkeley</td>\n",
       "      <td>CA</td>\n",
       "      <td>1 to 12</td>\n",
       "      <td>0</td>\n",
       "      <td>private</td>\n",
       "      <td>POINT (-200351.528 -13778.534)</td>\n",
       "      <td>1.0</td>\n",
       "    </tr>\n",
       "  </tbody>\n",
       "</table>\n",
       "</div>"
      ],
      "text/plain": [
       "             X          Y                                    Site  \\\n",
       "6  -122.273754  37.852278                    Malcolm X Elementary   \n",
       "10 -122.272412  37.867003                   Washington Elementary   \n",
       "14 -122.272486  37.868367                           Berkeley High   \n",
       "23 -122.263331  37.868052  Global Montessori International School   \n",
       "30 -122.280841  37.870741                       West-Wind Academy   \n",
       "\n",
       "                            Address      City State     Type  API      Org  \\\n",
       "6                    1731 Prince St  Berkeley    CA       ES  834   Public   \n",
       "10            2300 M L King Jr. Way  Berkeley    CA       ES  811   Public   \n",
       "14  2223 Martin Luther King Jr. Way  Berkeley    CA       HS    0   Public   \n",
       "23                2314 Bancroft Way  Berkeley    CA      K-6    0  private   \n",
       "30           1551 University Avenue  Berkeley    CA  1 to 12    0  private   \n",
       "\n",
       "                          geometry  bart_count  \n",
       "6   POINT (-199778.363 -15845.380)         1.0  \n",
       "10  POINT (-199621.189 -14211.715)         1.0  \n",
       "14  POINT (-199624.108 -14060.015)         1.0  \n",
       "23  POINT (-198820.877 -14114.234)         1.0  \n",
       "30  POINT (-200351.528 -13778.534)         1.0  "
      ]
     },
     "execution_count": 11,
     "metadata": {},
     "output_type": "execute_result"
    }
   ],
   "source": [
    "# Take a look\n",
    "schools_gdf_enhanced.sort_values(by=\"bart_count\", ascending=False).head()"
   ]
  },
  {
   "cell_type": "code",
   "execution_count": 13,
   "metadata": {},
   "outputs": [
    {
     "data": {
      "text/plain": [
       "(32, 11)"
      ]
     },
     "execution_count": 13,
     "metadata": {},
     "output_type": "execute_result"
    }
   ],
   "source": [
    "schools_gdf_enhanced.shape"
   ]
  },
  {
   "cell_type": "markdown",
   "metadata": {},
   "source": [
    "Now let's use `value_counts` to check the distribution of values in the `bart_count` column."
   ]
  },
  {
   "cell_type": "code",
   "execution_count": 15,
   "metadata": {},
   "outputs": [
    {
     "data": {
      "text/plain": [
       "NaN    27\n",
       "1.0     5\n",
       "Name: bart_count, dtype: int64"
      ]
     },
     "execution_count": 15,
     "metadata": {},
     "output_type": "execute_result"
    }
   ],
   "source": [
    "schools_gdf_enhanced.bart_count.value_counts(dropna=False)"
   ]
  },
  {
   "cell_type": "markdown",
   "metadata": {},
   "source": [
    "You can see above that after the merge the `bart_count` column is NaN (not a number/null) for school locations that were not within walking distance to BART.\n",
    "\n",
    "We can use the `fillna()` method to set those values to zero."
   ]
  },
  {
   "cell_type": "code",
   "execution_count": 16,
   "metadata": {},
   "outputs": [
    {
     "data": {
      "text/plain": [
       "0.0    27\n",
       "1.0     5\n",
       "Name: bart_count, dtype: int64"
      ]
     },
     "execution_count": 16,
     "metadata": {},
     "output_type": "execute_result"
    }
   ],
   "source": [
    "schools_gdf_enhanced.bart_count.fillna(0, inplace=True)\n",
    "\n",
    "# And check the counts again\n",
    "schools_gdf_enhanced.bart_count.value_counts(dropna=False)"
   ]
  },
  {
   "cell_type": "markdown",
   "metadata": {},
   "source": [
    "Phew! now let's map our output. The ultimate sanity check."
   ]
  },
  {
   "cell_type": "code",
   "execution_count": 20,
   "metadata": {},
   "outputs": [],
   "source": [
    "# Bring in our Berkeley outline\n",
    "berkeley_outline = gpd.read_file(\"zip://../qgis_workshop_data/BerkeleyCityLimits.zip\")\n",
    "berkeley_3310 = berkeley_outline.to_crs('epsg:3310')"
   ]
  },
  {
   "cell_type": "code",
   "execution_count": 21,
   "metadata": {},
   "outputs": [
    {
     "data": {
      "image/png": "[encoded data removed]",
      "text/plain": [
       "<Figure size 720x720 with 1 Axes>"
      ]
     },
     "metadata": {
      "needs_background": "light"
     },
     "output_type": "display_data"
    }
   ],
   "source": [
    "# Map it\n",
    "fig, ax = plt.subplots(figsize = (10,10)) \n",
    "\n",
    "# Berkeley outline \n",
    "berkeley_3310.plot(color = 'lightgrey', ax=ax)\n",
    "\n",
    "# Display the buffer output in PINK\n",
    "bart_buf_gdf.plot(ax=ax, edgecolor=\"black\",color=\"pink\", alpha=0.5)\n",
    "\n",
    "# Overlay the bart points in RED\n",
    "schools_gdf_enhanced.sort_values(by=\"bart_count\").plot(ax=ax, column='bart_count', categorical=True, legend=True)\n",
    "\n",
    "# Set x and y limits to zoom into Berkeley\n",
    "ax.set_xlim([-202600,-196300])\n",
    "ax.set_ylim([-16470,-9990])\n",
    "\n",
    "ax.set_title('Berkeley Parcel locations by Number of BART Stations within Walking Distance')\n",
    "plt.show()"
   ]
  },
  {
   "cell_type": "markdown",
   "metadata": {},
   "source": [
    "---\n",
    "<a id=\"section5\"></a>\n",
    "## Challenge"
   ]
  },
  {
   "cell_type": "markdown",
   "metadata": {},
   "source": [
    "####  Exercise\n",
    "\n",
    "Do another buffer analysis, this time use any of the following data that you find in the folders:\n",
    "\n",
    ">`notebook_data/transportation`\n",
    "> - `sfmta_stations.zip` - SF MTA station locations\n",
    "> - `regional_bike_facilities.zip` - Off-street shared use path, bike lanes, and on-street bike routes\n",
    "> - `baywheels_stations.zip` - Baywheel station locations\n",
    "\n",
    "> `notebook_data/other`\n",
    "> - `ca_grocery_stores_2019_wgs84.zip` - Grocery store locations\n",
    "\n",
    "# OR BIKE LANES DATA\n",
    "\n",
    "You'll need to execute the following steps:\n",
    "1. Load the data and check the columns, geometry type and CRS\n",
    "2. Check and update the crs if needed\n",
    "3. Spatially join your dataset with the buffer polygons of the permits data\n",
    "4. Dissolve and aggregate the values of interest\n",
    "5. Join the data back to the parcels dataset\n",
    "6. Replace null values with zero\n",
    "7. Map the results"
   ]
  },
  {
   "cell_type": "code",
   "execution_count": null,
   "metadata": {},
   "outputs": [],
   "source": [
    "# Your code here"
   ]
  },
  {
   "cell_type": "markdown",
   "metadata": {},
   "source": [
    "*Click here for answers*\n",
    "\n",
    "<!---\n",
    "    # SOLUTION\n",
    "    # Load the data and check the columns, geometry type and CRS\n",
    "    baywheels_stations_gdf = gpd.read_file(\"zip://../notebook_data/transportation/baywheels_stations.zip\")\n",
    "    # Check and update the crs if needed\n",
    "    baywheels_3310 = baywheels_stations_gdf.to_crs('epsg:3310')\n",
    "    baywheels_3310['bike_count_dv'] = 1\n",
    "    baywheels_3310.head()\n",
    "\n",
    "    # SOLUTION\n",
    "\n",
    "    # Spatially join your dataset with the buffer polygons of the permits data\n",
    "    permit_buf_bike_gdf = gpd.sjoin(permit_buf_gdf, baywheels_3310)\n",
    "    permit_buf_bike_gdf.head()\n",
    "\n",
    "    # Dissolve and aggregate the values of interest\n",
    "    permit_bike_counts_gdf=permit_buf_bike_gdf[['jurisdiction_id','geometry','bike_count_dv']].dissolve(by='jurisdiction_id', aggfunc=\"sum\", as_index=False)\n",
    "    permit_bike_counts_gdf.head()\n",
    "    permit_bike_counts_gdf.shape\n",
    "\n",
    "    # Join the data back to the permits dataset\n",
    "    permits_gdf_enhanced = permits_gdf_enhanced.merge(permit_bike_counts_gdf[['jurisdiction_id','bike_count_dv']], on=\"jurisdiction_id\", how=\"left\")\n",
    "    permits_gdf_enhanced.head()\n",
    "\n",
    "    # SOLUTION\n",
    "\n",
    "    # Replace null values with zero\n",
    "    permits_gdf_enhanced['bike_count_dv'].fillna(0, inplace=True)\n",
    "    permits_gdf_enhanced.head()\n",
    "\n",
    "    # Map the results\n",
    "    # Plot\n",
    "    fig, ax = plt.subplots(figsize = (24,12)) \n",
    "\n",
    "    #Add permit locs within walking distance to bart\n",
    "    permits_gdf_enhanced.sort_values(by=\"bike_count_dv\").plot(ax=ax, \n",
    "                                                                column=\"bike_count_dv\", \n",
    "                                                                edgecolor='grey', \n",
    "                                                                legend=True, \n",
    "                                                                cmap='Greens',\n",
    "                                                                markersize=25)\n",
    "\n",
    "    ax.set_title('Oakland Permit locations by Number of Bike Stations within Walking Distance')\n",
    "    plt.show()\n",
    "\n",
    "    # SOLUTION\n",
    "\n",
    "    # Create an interactive map with your new data as a layer and check your results\n",
    "    # Define the basemap\n",
    "    buf_map = folium.Map(location=[37.809142, -122.268228],   # lat, lon around which to center the map\n",
    "                     tiles='CartoDB Positron',\n",
    "                     width=900,                        # the width & height of the output map\n",
    "                     height=600,                       # in pixels\n",
    "                     zoom_start=15)  \n",
    "\n",
    "    # Add Bike Stations as Circle Markers - you can set radius\n",
    "    for i in baywheels_stations_gdf.index:\n",
    "        folium.Circle(\n",
    "            location=[baywheels_stations_gdf['geometry'].y[i], baywheels_stations_gdf['geometry'].x[i]],\n",
    "            radius= 500,\n",
    "            popup= baywheels_stations_gdf['name'][i],\n",
    "            color='green',\n",
    "            fill=True,\n",
    "            fill_color='green'\n",
    "    ).add_to(buf_map)\n",
    "\n",
    "    # Add Bike stations as Markers (default with GeoJson when data are points)\n",
    "    folium.GeoJson(baywheels_stations_gdf,\n",
    "                  tooltip=folium.GeoJsonTooltip(fields=['name' ], \n",
    "                       aliases=['Location'],\n",
    "                       labels=True,\n",
    "                       localize=True\n",
    "                   ),\n",
    "                  ).add_to(buf_map)\n",
    "\n",
    "    # Add permit locations\n",
    "    permits_gdf_enhanced.apply(lambda row: folium.Circle(location=[row['geometry'].y,row['geometry'].x],\n",
    "                                      tooltip= row['bike_count_dv'],\n",
    "                                      radius=5,\n",
    "                                     ).add_to(buf_map),\n",
    "                                 axis=1)\n",
    "\n",
    "    buf_map.add_child(MeasureControl())\n",
    "\n",
    "    buf_map # wait for it...\n",
    "--->"
   ]
  }
 ],
 "metadata": {
  "kernelspec": {
   "display_name": "Python 3",
   "language": "python",
   "name": "python3"
  },
  "language_info": {
   "codemirror_mode": {
    "name": "ipython",
    "version": 3
   },
   "file_extension": ".py",
   "mimetype": "text/x-python",
   "name": "python",
   "nbconvert_exporter": "python",
   "pygments_lexer": "ipython3",
   "version": "3.8.3"
  }
 },
 "nbformat": 4,
 "nbformat_minor": 4
}
