{
 "cells": [
  {
   "cell_type": "markdown",
   "metadata": {},
   "source": [
    "# 10. American Community Survey 5 Year Data\n",
    "\n",
    "Switching gears to another dataset! The ultimate goal is to get familiar with this popular dataset and learn how to plot it to show information clearly.\n",
    "\n",
    "\n",
    "**INSTRUCTOR NOTES**:\n",
    "- Datasets used:\n",
    "    - \"../notebook_data/census/ACS5yr/census_variables_CA.csv\"\n",
    "    \n",
    "- Expected time to complete:\n",
    "    - Lecture + Questions: 15 minutes\n",
    "    - Challenges: 5 minutes\n",
    "\n",
    "### Import Packages"
   ]
  },
  {
   "cell_type": "code",
   "execution_count": 1,
   "metadata": {},
   "outputs": [],
   "source": [
    "import math\n",
    "import numpy as np\n",
    "import pandas as pd\n",
    "\n",
    "import json # for working with JSON data\n",
    "import geojson # ditto for GeoJSON data - an extension of JSON with support for geographic data\n",
    "import geopandas as gpd\n",
    "\n",
    "import matplotlib # base python plotting library\n",
    "%matplotlib inline  \n",
    "import matplotlib.pyplot as plt # more plotting stuff\n"
   ]
  },
  {
   "cell_type": "markdown",
   "metadata": {},
   "source": [
    "## 10.1 American Community Survey 5 Year Data (or ACS5)\n",
    "\n",
    "To get started, let's read the ACS 5 year data for California tracts into a `dataframe` using the  `pandas read_csv` method. \n",
    "\n",
    "As we read in the ACS data we will tell pandas to make sure that the data in the column `FIPS_11_digit` is read in as a string to preserve leading zeros in the census tract identifiers."
   ]
  },
  {
   "cell_type": "code",
   "execution_count": 2,
   "metadata": {},
   "outputs": [],
   "source": [
    "# Read in the ACS5 data for CA into a pandas DataFrame.\n",
    "# Note: We force the FIPS_11_digit to be read in as a string to preserve any leading zeroes.\n",
    "acs5data_df = pd.read_csv(\"../notebook_data/census/ACS5yr/census_variables_CA.csv\", dtype={'FIPS_11_digit':str})"
   ]
  },
  {
   "cell_type": "markdown",
   "metadata": {},
   "source": [
    "Pandas provides a number of methods to view information about a dataframe."
   ]
  },
  {
   "cell_type": "markdown",
   "metadata": {},
   "source": [
    "The pandas dataframe attribute `shape` tells us the number of rows and columns in the dataframe."
   ]
  },
  {
   "cell_type": "code",
   "execution_count": 3,
   "metadata": {},
   "outputs": [
    {
     "data": {
      "text/plain": [
       "(16114, 66)"
      ]
     },
     "execution_count": 3,
     "metadata": {},
     "output_type": "execute_result"
    }
   ],
   "source": [
    "# Take a look at the shape of the dataframe\n",
    "acs5data_df.shape"
   ]
  },
  {
   "cell_type": "markdown",
   "metadata": {},
   "source": [
    "Each row in our dataframe is an observation. For the ACS5 data each observation is about a census tract.\n",
    "\n",
    "Each column in our dataframe is a variable for that observation."
   ]
  },
  {
   "cell_type": "markdown",
   "metadata": {},
   "source": [
    "Let's use `head` to take a look at the first 5 rows in the dataframe."
   ]
  },
  {
   "cell_type": "code",
   "execution_count": 4,
   "metadata": {
    "scrolled": true
   },
   "outputs": [
    {
     "data": {
      "text/html": [
       "<div>\n",
       "<style scoped>\n",
       "    .dataframe tbody tr th:only-of-type {\n",
       "        vertical-align: middle;\n",
       "    }\n",
       "\n",
       "    .dataframe tbody tr th {\n",
       "        vertical-align: top;\n",
       "    }\n",
       "\n",
       "    .dataframe thead th {\n",
       "        text-align: right;\n",
       "    }\n",
       "</style>\n",
       "<table border=\"1\" class=\"dataframe\">\n",
       "  <thead>\n",
       "    <tr style=\"text-align: right;\">\n",
       "      <th></th>\n",
       "      <th>NAME</th>\n",
       "      <th>c_race</th>\n",
       "      <th>c_white</th>\n",
       "      <th>c_black</th>\n",
       "      <th>c_asian</th>\n",
       "      <th>c_latinx</th>\n",
       "      <th>c_race_moe</th>\n",
       "      <th>c_white_moe</th>\n",
       "      <th>c_black_moe</th>\n",
       "      <th>c_asian_moe</th>\n",
       "      <th>...</th>\n",
       "      <th>p_stay</th>\n",
       "      <th>p_movelocal</th>\n",
       "      <th>p_movecounty</th>\n",
       "      <th>p_movestate</th>\n",
       "      <th>p_moveabroad</th>\n",
       "      <th>p_car</th>\n",
       "      <th>p_carpool</th>\n",
       "      <th>p_transit</th>\n",
       "      <th>p_bike</th>\n",
       "      <th>p_walk</th>\n",
       "    </tr>\n",
       "  </thead>\n",
       "  <tbody>\n",
       "    <tr>\n",
       "      <th>0</th>\n",
       "      <td>Census Tract 4012, Alameda County, California</td>\n",
       "      <td>2456</td>\n",
       "      <td>1287</td>\n",
       "      <td>476</td>\n",
       "      <td>259</td>\n",
       "      <td>283</td>\n",
       "      <td>213</td>\n",
       "      <td>191</td>\n",
       "      <td>116</td>\n",
       "      <td>124</td>\n",
       "      <td>...</td>\n",
       "      <td>0.814951</td>\n",
       "      <td>0.103350</td>\n",
       "      <td>0.058415</td>\n",
       "      <td>0.010212</td>\n",
       "      <td>0.013072</td>\n",
       "      <td>0.551370</td>\n",
       "      <td>0.064384</td>\n",
       "      <td>0.189041</td>\n",
       "      <td>0.083562</td>\n",
       "      <td>0.058219</td>\n",
       "    </tr>\n",
       "    <tr>\n",
       "      <th>1</th>\n",
       "      <td>Census Tract 4013, Alameda County, California</td>\n",
       "      <td>3983</td>\n",
       "      <td>845</td>\n",
       "      <td>1348</td>\n",
       "      <td>827</td>\n",
       "      <td>796</td>\n",
       "      <td>680</td>\n",
       "      <td>186</td>\n",
       "      <td>411</td>\n",
       "      <td>283</td>\n",
       "      <td>...</td>\n",
       "      <td>0.611865</td>\n",
       "      <td>0.280040</td>\n",
       "      <td>0.063348</td>\n",
       "      <td>0.022624</td>\n",
       "      <td>0.022122</td>\n",
       "      <td>0.341153</td>\n",
       "      <td>0.108993</td>\n",
       "      <td>0.391496</td>\n",
       "      <td>0.018084</td>\n",
       "      <td>0.104594</td>\n",
       "    </tr>\n",
       "    <tr>\n",
       "      <th>2</th>\n",
       "      <td>Census Tract 4014, Alameda County, California</td>\n",
       "      <td>4340</td>\n",
       "      <td>713</td>\n",
       "      <td>1902</td>\n",
       "      <td>593</td>\n",
       "      <td>981</td>\n",
       "      <td>644</td>\n",
       "      <td>314</td>\n",
       "      <td>440</td>\n",
       "      <td>198</td>\n",
       "      <td>...</td>\n",
       "      <td>0.807683</td>\n",
       "      <td>0.163739</td>\n",
       "      <td>0.017803</td>\n",
       "      <td>0.006325</td>\n",
       "      <td>0.004451</td>\n",
       "      <td>0.470846</td>\n",
       "      <td>0.021317</td>\n",
       "      <td>0.255799</td>\n",
       "      <td>0.116614</td>\n",
       "      <td>0.102194</td>\n",
       "    </tr>\n",
       "    <tr>\n",
       "      <th>3</th>\n",
       "      <td>Census Tract 4015, Alameda County, California</td>\n",
       "      <td>2080</td>\n",
       "      <td>563</td>\n",
       "      <td>1064</td>\n",
       "      <td>215</td>\n",
       "      <td>190</td>\n",
       "      <td>369</td>\n",
       "      <td>222</td>\n",
       "      <td>283</td>\n",
       "      <td>116</td>\n",
       "      <td>...</td>\n",
       "      <td>0.841346</td>\n",
       "      <td>0.101442</td>\n",
       "      <td>0.053846</td>\n",
       "      <td>0.003365</td>\n",
       "      <td>0.000000</td>\n",
       "      <td>0.502037</td>\n",
       "      <td>0.090631</td>\n",
       "      <td>0.230143</td>\n",
       "      <td>0.047862</td>\n",
       "      <td>0.017312</td>\n",
       "    </tr>\n",
       "    <tr>\n",
       "      <th>4</th>\n",
       "      <td>Census Tract 4016, Alameda County, California</td>\n",
       "      <td>1889</td>\n",
       "      <td>324</td>\n",
       "      <td>960</td>\n",
       "      <td>247</td>\n",
       "      <td>274</td>\n",
       "      <td>400</td>\n",
       "      <td>135</td>\n",
       "      <td>376</td>\n",
       "      <td>164</td>\n",
       "      <td>...</td>\n",
       "      <td>0.830645</td>\n",
       "      <td>0.079570</td>\n",
       "      <td>0.082258</td>\n",
       "      <td>0.002151</td>\n",
       "      <td>0.005376</td>\n",
       "      <td>0.570481</td>\n",
       "      <td>0.122720</td>\n",
       "      <td>0.177446</td>\n",
       "      <td>0.063018</td>\n",
       "      <td>0.000000</td>\n",
       "    </tr>\n",
       "  </tbody>\n",
       "</table>\n",
       "<p>5 rows × 66 columns</p>\n",
       "</div>"
      ],
      "text/plain": [
       "                                            NAME  c_race  c_white  c_black  \\\n",
       "0  Census Tract 4012, Alameda County, California    2456     1287      476   \n",
       "1  Census Tract 4013, Alameda County, California    3983      845     1348   \n",
       "2  Census Tract 4014, Alameda County, California    4340      713     1902   \n",
       "3  Census Tract 4015, Alameda County, California    2080      563     1064   \n",
       "4  Census Tract 4016, Alameda County, California    1889      324      960   \n",
       "\n",
       "   c_asian  c_latinx  c_race_moe  c_white_moe  c_black_moe  c_asian_moe  ...  \\\n",
       "0      259       283         213          191          116          124  ...   \n",
       "1      827       796         680          186          411          283  ...   \n",
       "2      593       981         644          314          440          198  ...   \n",
       "3      215       190         369          222          283          116  ...   \n",
       "4      247       274         400          135          376          164  ...   \n",
       "\n",
       "     p_stay  p_movelocal  p_movecounty  p_movestate  p_moveabroad     p_car  \\\n",
       "0  0.814951     0.103350      0.058415     0.010212      0.013072  0.551370   \n",
       "1  0.611865     0.280040      0.063348     0.022624      0.022122  0.341153   \n",
       "2  0.807683     0.163739      0.017803     0.006325      0.004451  0.470846   \n",
       "3  0.841346     0.101442      0.053846     0.003365      0.000000  0.502037   \n",
       "4  0.830645     0.079570      0.082258     0.002151      0.005376  0.570481   \n",
       "\n",
       "   p_carpool  p_transit    p_bike    p_walk  \n",
       "0   0.064384   0.189041  0.083562  0.058219  \n",
       "1   0.108993   0.391496  0.018084  0.104594  \n",
       "2   0.021317   0.255799  0.116614  0.102194  \n",
       "3   0.090631   0.230143  0.047862  0.017312  \n",
       "4   0.122720   0.177446  0.063018  0.000000  \n",
       "\n",
       "[5 rows x 66 columns]"
      ]
     },
     "execution_count": 4,
     "metadata": {},
     "output_type": "execute_result"
    }
   ],
   "source": [
    "# Take a look at the data\n",
    "acs5data_df.head()"
   ]
  },
  {
   "cell_type": "markdown",
   "metadata": {},
   "source": [
    "A `...` in the middle of the top row indicates that there are two many columns to display.\n",
    "\n",
    "The pandas dataframe `columns` attribute returns a list of the column names."
   ]
  },
  {
   "cell_type": "code",
   "execution_count": 5,
   "metadata": {},
   "outputs": [
    {
     "data": {
      "text/plain": [
       "Index(['NAME', 'c_race', 'c_white', 'c_black', 'c_asian', 'c_latinx',\n",
       "       'c_race_moe', 'c_white_moe', 'c_black_moe', 'c_asian_moe',\n",
       "       'c_latinx_moe', 'state_fips', 'county_fips', 'tract_fips', 'med_rent',\n",
       "       'med_hhinc', 'c_tenants', 'c_owners', 'c_renters', 'med_rent_moe',\n",
       "       'med_hhinc_moe', 'c_tenants_moe', 'c_owners_moe', 'c_renters_moe',\n",
       "       'c_movers', 'c_stay', 'c_movelocal', 'c_movecounty', 'c_movestate',\n",
       "       'c_moveabroad', 'c_movers_moe', 'c_stay_moe', 'c_movelocal_moe',\n",
       "       'c_movecounty_moe', 'c_movestate_moe', 'c_moveabroad_moe', 'c_commute',\n",
       "       'c_car', 'c_carpool', 'c_transit', 'c_bike', 'c_walk', 'c_commute_moe',\n",
       "       'c_car_moe', 'c_carpool_moe', 'c_transit_moe', 'c_bike_moe',\n",
       "       'c_walk_moe', 'year', 'FIPS_11_digit', 'p_white', 'p_black', 'p_asian',\n",
       "       'p_latinx', 'p_owners', 'p_renters', 'p_stay', 'p_movelocal',\n",
       "       'p_movecounty', 'p_movestate', 'p_moveabroad', 'p_car', 'p_carpool',\n",
       "       'p_transit', 'p_bike', 'p_walk'],\n",
       "      dtype='object')"
      ]
     },
     "execution_count": 5,
     "metadata": {},
     "output_type": "execute_result"
    }
   ],
   "source": [
    "acs5data_df.columns"
   ]
  },
  {
   "cell_type": "markdown",
   "metadata": {},
   "source": [
    "We can see more information about the variables included in our ACS5 year data using the `info` method. This method tells us at a glance what variables (or columns) are included in the data, the data type of each variable, and which variables have values for all rows."
   ]
  },
  {
   "cell_type": "code",
   "execution_count": 6,
   "metadata": {},
   "outputs": [
    {
     "name": "stdout",
     "output_type": "stream",
     "text": [
      "<class 'pandas.core.frame.DataFrame'>\n",
      "RangeIndex: 16114 entries, 0 to 16113\n",
      "Data columns (total 66 columns):\n",
      " #   Column            Non-Null Count  Dtype  \n",
      "---  ------            --------------  -----  \n",
      " 0   NAME              16114 non-null  object \n",
      " 1   c_race            16114 non-null  int64  \n",
      " 2   c_white           16114 non-null  int64  \n",
      " 3   c_black           16114 non-null  int64  \n",
      " 4   c_asian           16114 non-null  int64  \n",
      " 5   c_latinx          16114 non-null  int64  \n",
      " 6   c_race_moe        16114 non-null  int64  \n",
      " 7   c_white_moe       16114 non-null  int64  \n",
      " 8   c_black_moe       16114 non-null  int64  \n",
      " 9   c_asian_moe       16114 non-null  int64  \n",
      " 10  c_latinx_moe      16114 non-null  int64  \n",
      " 11  state_fips        16114 non-null  int64  \n",
      " 12  county_fips       16114 non-null  int64  \n",
      " 13  tract_fips        16114 non-null  int64  \n",
      " 14  med_rent          15838 non-null  float64\n",
      " 15  med_hhinc         15935 non-null  float64\n",
      " 16  c_tenants         16114 non-null  int64  \n",
      " 17  c_owners          16114 non-null  int64  \n",
      " 18  c_renters         16114 non-null  int64  \n",
      " 19  med_rent_moe      14970 non-null  float64\n",
      " 20  med_hhinc_moe     15911 non-null  float64\n",
      " 21  c_tenants_moe     16114 non-null  int64  \n",
      " 22  c_owners_moe      16114 non-null  int64  \n",
      " 23  c_renters_moe     16114 non-null  int64  \n",
      " 24  c_movers          16114 non-null  int64  \n",
      " 25  c_stay            16114 non-null  int64  \n",
      " 26  c_movelocal       16114 non-null  int64  \n",
      " 27  c_movecounty      16114 non-null  int64  \n",
      " 28  c_movestate       16114 non-null  int64  \n",
      " 29  c_moveabroad      16114 non-null  int64  \n",
      " 30  c_movers_moe      16114 non-null  int64  \n",
      " 31  c_stay_moe        16114 non-null  int64  \n",
      " 32  c_movelocal_moe   16114 non-null  int64  \n",
      " 33  c_movecounty_moe  16114 non-null  int64  \n",
      " 34  c_movestate_moe   16114 non-null  int64  \n",
      " 35  c_moveabroad_moe  16114 non-null  int64  \n",
      " 36  c_commute         16114 non-null  int64  \n",
      " 37  c_car             16114 non-null  int64  \n",
      " 38  c_carpool         16114 non-null  int64  \n",
      " 39  c_transit         16114 non-null  int64  \n",
      " 40  c_bike            16114 non-null  int64  \n",
      " 41  c_walk            16114 non-null  int64  \n",
      " 42  c_commute_moe     16114 non-null  int64  \n",
      " 43  c_car_moe         16114 non-null  int64  \n",
      " 44  c_carpool_moe     16114 non-null  int64  \n",
      " 45  c_transit_moe     16114 non-null  int64  \n",
      " 46  c_bike_moe        16114 non-null  int64  \n",
      " 47  c_walk_moe        16114 non-null  int64  \n",
      " 48  year              16114 non-null  int64  \n",
      " 49  FIPS_11_digit     16114 non-null  object \n",
      " 50  p_white           16029 non-null  float64\n",
      " 51  p_black           16029 non-null  float64\n",
      " 52  p_asian           16029 non-null  float64\n",
      " 53  p_latinx          16029 non-null  float64\n",
      " 54  p_owners          15965 non-null  float64\n",
      " 55  p_renters         15965 non-null  float64\n",
      " 56  p_stay            16029 non-null  float64\n",
      " 57  p_movelocal       16029 non-null  float64\n",
      " 58  p_movecounty      16029 non-null  float64\n",
      " 59  p_movestate       16029 non-null  float64\n",
      " 60  p_moveabroad      16029 non-null  float64\n",
      " 61  p_car             15990 non-null  float64\n",
      " 62  p_carpool         15990 non-null  float64\n",
      " 63  p_transit         15990 non-null  float64\n",
      " 64  p_bike            15990 non-null  float64\n",
      " 65  p_walk            15990 non-null  float64\n",
      "dtypes: float64(20), int64(44), object(2)\n",
      "memory usage: 8.1+ MB\n"
     ]
    }
   ],
   "source": [
    "acs5data_df.info()"
   ]
  },
  {
   "cell_type": "markdown",
   "metadata": {},
   "source": [
    "### What's in the ACS data?"
   ]
  },
  {
   "cell_type": "markdown",
   "metadata": {},
   "source": [
    "These variables were combined from different ACS 5 year tables. We have information for the following:\n",
    "\n",
    "- `c_race` - Total population\n",
    "- `c_white` - Total white non-Latinx\n",
    "- `c_black` - Total black and African American non-Latinx\n",
    "- `c_asian` - Total Asian non-Latinx\n",
    "- `c_latinx` - Total Latinx\n",
    "- `state_fips` - State level FIPS code\n",
    "- `county_fips` - County level FIPS code\n",
    "- `tract_fips` - Tracts level FIPS code\n",
    "- `med_rent` - Median rent\n",
    "- `med_hhinc` - Median household income\n",
    "- `c_tenants` - Total tenants\n",
    "- `c_owners` - Total owners\n",
    "- `c_renters` - Total renters\n",
    "- `c_movers` - Total number of people who moved\n",
    "- `c_stay` - Total number of people who stayed\n",
    "- `c_movelocal` - Number of people who moved locally\n",
    "- `c_movecounty` - Number of people who moved counties\n",
    "- `c_movestate` - Number of people who moved states\n",
    "- `c_moveabroad` - Number of people who moved abroad\n",
    "- `c_commute` - Total number of commuters\n",
    "- `c_car` - Number of commuters who use a car\n",
    "- `c_carpool` - Number of commuters who carpool\n",
    "- `c_transit` - Number of commuters who use public transit\n",
    "- `c_bike` - Number of commuters who bike\n",
    "- `c_walk` - Number of commuters who bike\n",
    "- `year` - ACS data year\n",
    "- `FIPS_11_digit` - 11-digit FIPS code\n",
    "\n",
    "The ACS variables that start with `c_` are counts, those that start with `med_` are medians.  Variables that end in `_moe` denote margin of error. There are also a number of derived variables that start with `p_`. These are proportions calcuated from the counts divided by the table denominator (the total count for whom that variable was assessed)."
   ]
  },
  {
   "cell_type": "markdown",
   "metadata": {},
   "source": [
    "We're going to drop all of our `moe` columns by identifying all of those that end with `_moe`. We can do that in two steps, first by using `filter` to identify columns that contain the string `_moe`."
   ]
  },
  {
   "cell_type": "code",
   "execution_count": 7,
   "metadata": {},
   "outputs": [
    {
     "data": {
      "text/plain": [
       "Index(['c_race_moe', 'c_white_moe', 'c_black_moe', 'c_asian_moe',\n",
       "       'c_latinx_moe', 'med_rent_moe', 'med_hhinc_moe', 'c_tenants_moe',\n",
       "       'c_owners_moe', 'c_renters_moe', 'c_movers_moe', 'c_stay_moe',\n",
       "       'c_movelocal_moe', 'c_movecounty_moe', 'c_movestate_moe',\n",
       "       'c_moveabroad_moe', 'c_commute_moe', 'c_car_moe', 'c_carpool_moe',\n",
       "       'c_transit_moe', 'c_bike_moe', 'c_walk_moe'],\n",
       "      dtype='object')"
      ]
     },
     "execution_count": 7,
     "metadata": {},
     "output_type": "execute_result"
    }
   ],
   "source": [
    "moe_cols = acs5data_df.filter(like='_moe',axis=1).columns\n",
    "moe_cols"
   ]
  },
  {
   "cell_type": "markdown",
   "metadata": {},
   "source": [
    "Note how we set the filter `like=` to a value that matches the pattern of the names of the columns we want to drop. You need to make sure you get all but only the columns that you want to drop.\n",
    "\n",
    "<div style=\"display:inline-block;vertical-align:top;\">\n",
    "    <img src=\"http://www.pngall.com/wp-content/uploads/2016/03/Light-Bulb-Free-PNG-Image.png\" width=\"30\" align=left > \n",
    "</div>  \n",
    "<div style=\"display:inline-block;\">\n",
    "\n",
    "#### Question\n",
    "</div>\n",
    "\n",
    "What do you think happens if you match `_mo` instead of `_moe` in the filter?"
   ]
  },
  {
   "cell_type": "markdown",
   "metadata": {},
   "source": [
    "Now that we've got our list of moe columns, we can use `.drop()` to remove them from the dataframe. "
   ]
  },
  {
   "cell_type": "code",
   "execution_count": 8,
   "metadata": {},
   "outputs": [],
   "source": [
    "# Drop MOE columns\n",
    "acs5data_df.drop(moe_cols, axis=1, inplace=True)"
   ]
  },
  {
   "cell_type": "markdown",
   "metadata": {},
   "source": [
    "Check that you no longer have the moe columns in the dataframe."
   ]
  },
  {
   "cell_type": "code",
   "execution_count": 9,
   "metadata": {},
   "outputs": [
    {
     "data": {
      "text/plain": [
       "Index(['NAME', 'c_race', 'c_white', 'c_black', 'c_asian', 'c_latinx',\n",
       "       'state_fips', 'county_fips', 'tract_fips', 'med_rent', 'med_hhinc',\n",
       "       'c_tenants', 'c_owners', 'c_renters', 'c_movers', 'c_stay',\n",
       "       'c_movelocal', 'c_movecounty', 'c_movestate', 'c_moveabroad',\n",
       "       'c_commute', 'c_car', 'c_carpool', 'c_transit', 'c_bike', 'c_walk',\n",
       "       'year', 'FIPS_11_digit', 'p_white', 'p_black', 'p_asian', 'p_latinx',\n",
       "       'p_owners', 'p_renters', 'p_stay', 'p_movelocal', 'p_movecounty',\n",
       "       'p_movestate', 'p_moveabroad', 'p_car', 'p_carpool', 'p_transit',\n",
       "       'p_bike', 'p_walk'],\n",
       "      dtype='object')"
      ]
     },
     "execution_count": 9,
     "metadata": {},
     "output_type": "execute_result"
    }
   ],
   "source": [
    "acs5data_df.columns"
   ]
  },
  {
   "cell_type": "markdown",
   "metadata": {},
   "source": [
    "## 10.2 Select data for our county and year of interest\n",
    "\n",
    "Our ACS5 data contains observations for all CA counties and two ACS 5 year periods.\n",
    "\n",
    "The counties are identified by a unique Census FIPS code. \n",
    "- You can see the list of all CA Counties and their FIPS codes [here](https://en.wikipedia.org/wiki/List_of_counties_in_California).\n",
    "\n",
    "Let's use the `.unique` to check the unique set of county FIPS codes included in our dataframe."
   ]
  },
  {
   "cell_type": "code",
   "execution_count": 10,
   "metadata": {},
   "outputs": [
    {
     "data": {
      "text/plain": [
       "array([  1,  13,   3,   5,   7,   9,  11,  29,  31,  33,  35,  37,  15,\n",
       "        17,  19,  21,  23,  25,  27,  39,  41,  43,  45,  47,  49,  51,\n",
       "        53,  55,  57,  59,  65,  61,  63,  67,  71,  69,  73,  79,  81,\n",
       "        75,  77,  85,  95,  97,  87,  89,  91,  93,  83, 101, 103, 105,\n",
       "       107, 109, 111, 113, 115,  99])"
      ]
     },
     "execution_count": 10,
     "metadata": {},
     "output_type": "execute_result"
    }
   ],
   "source": [
    "acs5data_df['county_fips'].unique()  #what counties are in our dataframe"
   ]
  },
  {
   "cell_type": "markdown",
   "metadata": {},
   "source": [
    "Now use `.unique` to see what years are included."
   ]
  },
  {
   "cell_type": "code",
   "execution_count": 11,
   "metadata": {
    "scrolled": true
   },
   "outputs": [
    {
     "data": {
      "text/plain": [
       "array([2013, 2018])"
      ]
     },
     "execution_count": 11,
     "metadata": {},
     "output_type": "execute_result"
    }
   ],
   "source": [
    "acs5data_df['year'].unique()"
   ]
  },
  {
   "cell_type": "markdown",
   "metadata": {},
   "source": [
    "We are interested in Alameda County, which has the FIPS code `001`.  Moreover, we are only interested in the 2018 ACS 5 year data.  Let's filter the data to keep only the rows that match these two conditions.\n"
   ]
  },
  {
   "cell_type": "code",
   "execution_count": 12,
   "metadata": {},
   "outputs": [],
   "source": [
    "acs5data_df_ac = acs5data_df[(acs5data_df['year']==2018) & (acs5data_df['county_fips']==1)]"
   ]
  },
  {
   "cell_type": "markdown",
   "metadata": {},
   "source": [
    "<div style=\"display:inline-block;vertical-align:top;\">\n",
    "    <img src=\"http://www.pngall.com/wp-content/uploads/2016/03/Light-Bulb-Free-PNG-Image.png\" width=\"30\" align=left > \n",
    "</div>  \n",
    "<div style=\"display:inline-block;\">\n",
    "\n",
    "#### Question\n",
    "</div>\n",
    "\n",
    "Why do we filter on `county_fips==1` instead of `county_fips==001` or `county_fips=='001'`?"
   ]
  },
  {
   "cell_type": "code",
   "execution_count": 13,
   "metadata": {},
   "outputs": [],
   "source": [
    "# Write your thoughts here"
   ]
  },
  {
   "cell_type": "markdown",
   "metadata": {},
   "source": [
    "Now, check the contents of our dataframe again."
   ]
  },
  {
   "cell_type": "code",
   "execution_count": 14,
   "metadata": {},
   "outputs": [
    {
     "name": "stdout",
     "output_type": "stream",
     "text": [
      "(361, 44)\n"
     ]
    }
   ],
   "source": [
    "# now what is the shape of the data when filtered for Alameda County?\n",
    "print(acs5data_df_ac.shape)"
   ]
  },
  {
   "cell_type": "code",
   "execution_count": 15,
   "metadata": {},
   "outputs": [
    {
     "data": {
      "text/html": [
       "<div>\n",
       "<style scoped>\n",
       "    .dataframe tbody tr th:only-of-type {\n",
       "        vertical-align: middle;\n",
       "    }\n",
       "\n",
       "    .dataframe tbody tr th {\n",
       "        vertical-align: top;\n",
       "    }\n",
       "\n",
       "    .dataframe thead th {\n",
       "        text-align: right;\n",
       "    }\n",
       "</style>\n",
       "<table border=\"1\" class=\"dataframe\">\n",
       "  <thead>\n",
       "    <tr style=\"text-align: right;\">\n",
       "      <th></th>\n",
       "      <th>NAME</th>\n",
       "      <th>c_race</th>\n",
       "      <th>c_white</th>\n",
       "      <th>c_black</th>\n",
       "      <th>c_asian</th>\n",
       "      <th>c_latinx</th>\n",
       "      <th>state_fips</th>\n",
       "      <th>county_fips</th>\n",
       "      <th>tract_fips</th>\n",
       "      <th>med_rent</th>\n",
       "      <th>...</th>\n",
       "      <th>p_stay</th>\n",
       "      <th>p_movelocal</th>\n",
       "      <th>p_movecounty</th>\n",
       "      <th>p_movestate</th>\n",
       "      <th>p_moveabroad</th>\n",
       "      <th>p_car</th>\n",
       "      <th>p_carpool</th>\n",
       "      <th>p_transit</th>\n",
       "      <th>p_bike</th>\n",
       "      <th>p_walk</th>\n",
       "    </tr>\n",
       "  </thead>\n",
       "  <tbody>\n",
       "    <tr>\n",
       "      <th>8323</th>\n",
       "      <td>Census Tract 4415.01, Alameda County, California</td>\n",
       "      <td>6570</td>\n",
       "      <td>677</td>\n",
       "      <td>111</td>\n",
       "      <td>4740</td>\n",
       "      <td>570</td>\n",
       "      <td>6</td>\n",
       "      <td>1</td>\n",
       "      <td>441501</td>\n",
       "      <td>1883.0</td>\n",
       "      <td>...</td>\n",
       "      <td>0.925897</td>\n",
       "      <td>0.039593</td>\n",
       "      <td>0.010476</td>\n",
       "      <td>0.019874</td>\n",
       "      <td>0.004160</td>\n",
       "      <td>0.761761</td>\n",
       "      <td>0.113940</td>\n",
       "      <td>0.054812</td>\n",
       "      <td>0.012085</td>\n",
       "      <td>0.003453</td>\n",
       "    </tr>\n",
       "    <tr>\n",
       "      <th>8324</th>\n",
       "      <td>Census Tract 4047, Alameda County, California</td>\n",
       "      <td>2079</td>\n",
       "      <td>1515</td>\n",
       "      <td>134</td>\n",
       "      <td>199</td>\n",
       "      <td>175</td>\n",
       "      <td>6</td>\n",
       "      <td>1</td>\n",
       "      <td>404700</td>\n",
       "      <td>3250.0</td>\n",
       "      <td>...</td>\n",
       "      <td>0.891826</td>\n",
       "      <td>0.028390</td>\n",
       "      <td>0.037690</td>\n",
       "      <td>0.031816</td>\n",
       "      <td>0.010279</td>\n",
       "      <td>0.532093</td>\n",
       "      <td>0.177674</td>\n",
       "      <td>0.158140</td>\n",
       "      <td>0.006512</td>\n",
       "      <td>0.005581</td>\n",
       "    </tr>\n",
       "    <tr>\n",
       "      <th>8325</th>\n",
       "      <td>Census Tract 4425, Alameda County, California</td>\n",
       "      <td>7748</td>\n",
       "      <td>1430</td>\n",
       "      <td>375</td>\n",
       "      <td>3379</td>\n",
       "      <td>1904</td>\n",
       "      <td>6</td>\n",
       "      <td>1</td>\n",
       "      <td>442500</td>\n",
       "      <td>1999.0</td>\n",
       "      <td>...</td>\n",
       "      <td>0.899056</td>\n",
       "      <td>0.073020</td>\n",
       "      <td>0.003802</td>\n",
       "      <td>0.003015</td>\n",
       "      <td>0.021106</td>\n",
       "      <td>0.715315</td>\n",
       "      <td>0.112613</td>\n",
       "      <td>0.064264</td>\n",
       "      <td>0.017718</td>\n",
       "      <td>0.010210</td>\n",
       "    </tr>\n",
       "    <tr>\n",
       "      <th>8326</th>\n",
       "      <td>Census Tract 4503, Alameda County, California</td>\n",
       "      <td>5301</td>\n",
       "      <td>2597</td>\n",
       "      <td>96</td>\n",
       "      <td>1077</td>\n",
       "      <td>1315</td>\n",
       "      <td>6</td>\n",
       "      <td>1</td>\n",
       "      <td>450300</td>\n",
       "      <td>2626.0</td>\n",
       "      <td>...</td>\n",
       "      <td>0.889312</td>\n",
       "      <td>0.025529</td>\n",
       "      <td>0.062107</td>\n",
       "      <td>0.021718</td>\n",
       "      <td>0.001334</td>\n",
       "      <td>0.749202</td>\n",
       "      <td>0.064917</td>\n",
       "      <td>0.094005</td>\n",
       "      <td>0.009933</td>\n",
       "      <td>0.011706</td>\n",
       "    </tr>\n",
       "    <tr>\n",
       "      <th>8327</th>\n",
       "      <td>Census Tract 4506.07, Alameda County, California</td>\n",
       "      <td>5971</td>\n",
       "      <td>2832</td>\n",
       "      <td>324</td>\n",
       "      <td>1726</td>\n",
       "      <td>804</td>\n",
       "      <td>6</td>\n",
       "      <td>1</td>\n",
       "      <td>450607</td>\n",
       "      <td>1837.0</td>\n",
       "      <td>...</td>\n",
       "      <td>0.801863</td>\n",
       "      <td>0.121084</td>\n",
       "      <td>0.043014</td>\n",
       "      <td>0.034039</td>\n",
       "      <td>0.000000</td>\n",
       "      <td>0.698643</td>\n",
       "      <td>0.132730</td>\n",
       "      <td>0.058220</td>\n",
       "      <td>0.021418</td>\n",
       "      <td>0.034389</td>\n",
       "    </tr>\n",
       "  </tbody>\n",
       "</table>\n",
       "<p>5 rows × 44 columns</p>\n",
       "</div>"
      ],
      "text/plain": [
       "                                                  NAME  c_race  c_white  \\\n",
       "8323  Census Tract 4415.01, Alameda County, California    6570      677   \n",
       "8324     Census Tract 4047, Alameda County, California    2079     1515   \n",
       "8325     Census Tract 4425, Alameda County, California    7748     1430   \n",
       "8326     Census Tract 4503, Alameda County, California    5301     2597   \n",
       "8327  Census Tract 4506.07, Alameda County, California    5971     2832   \n",
       "\n",
       "      c_black  c_asian  c_latinx  state_fips  county_fips  tract_fips  \\\n",
       "8323      111     4740       570           6            1      441501   \n",
       "8324      134      199       175           6            1      404700   \n",
       "8325      375     3379      1904           6            1      442500   \n",
       "8326       96     1077      1315           6            1      450300   \n",
       "8327      324     1726       804           6            1      450607   \n",
       "\n",
       "      med_rent  ...    p_stay  p_movelocal  p_movecounty  p_movestate  \\\n",
       "8323    1883.0  ...  0.925897     0.039593      0.010476     0.019874   \n",
       "8324    3250.0  ...  0.891826     0.028390      0.037690     0.031816   \n",
       "8325    1999.0  ...  0.899056     0.073020      0.003802     0.003015   \n",
       "8326    2626.0  ...  0.889312     0.025529      0.062107     0.021718   \n",
       "8327    1837.0  ...  0.801863     0.121084      0.043014     0.034039   \n",
       "\n",
       "      p_moveabroad     p_car  p_carpool  p_transit    p_bike    p_walk  \n",
       "8323      0.004160  0.761761   0.113940   0.054812  0.012085  0.003453  \n",
       "8324      0.010279  0.532093   0.177674   0.158140  0.006512  0.005581  \n",
       "8325      0.021106  0.715315   0.112613   0.064264  0.017718  0.010210  \n",
       "8326      0.001334  0.749202   0.064917   0.094005  0.009933  0.011706  \n",
       "8327      0.000000  0.698643   0.132730   0.058220  0.021418  0.034389  \n",
       "\n",
       "[5 rows x 44 columns]"
      ]
     },
     "execution_count": 15,
     "metadata": {},
     "output_type": "execute_result"
    }
   ],
   "source": [
    "# Take a look at the first 5 rows\n",
    "acs5data_df_ac.head()"
   ]
  },
  {
   "cell_type": "markdown",
   "metadata": {},
   "source": [
    ">**Pro-tip:** Checking your row and column counts and values often with `.shape` and values with `.head` help to make sure that these values are consistent with your understanding of the data."
   ]
  },
  {
   "cell_type": "markdown",
   "metadata": {},
   "source": [
    "## 10.3 Saving our output"
   ]
  },
  {
   "cell_type": "markdown",
   "metadata": {},
   "source": [
    "It's a good idea to save your data if you have done any major processing on it. Let's save our Alameda County sub-setted ACS5 data to a CSV file."
   ]
  },
  {
   "cell_type": "code",
   "execution_count": 16,
   "metadata": {},
   "outputs": [],
   "source": [
    "# Save processed data to a csv file - give it a name that is meaningful\n",
    "acs5data_df_ac.to_csv('../outdata/acs5data_2018_AC.csv')"
   ]
  },
  {
   "cell_type": "markdown",
   "metadata": {},
   "source": [
    "Confirm that the file was saved with a [shell command](https://jakevdp.github.io/PythonDataScienceHandbook/01.05-ipython-and-shell-commands.html#Shell-Commands-in-IPython).  Shell commands are prefaced by a `!` and allow you to access the file system and run commands like you would from a terminal window. (This may differ if you are on a windows computer)"
   ]
  },
  {
   "cell_type": "code",
   "execution_count": 17,
   "metadata": {},
   "outputs": [
    {
     "name": "stdout",
     "output_type": "stream",
     "text": [
      "acs5data_2018_AC.csv              berkeley_parcels_gdf.json\r\n",
      "bart_buffers.json                 berkeley_parcels_gdf.prj\r\n",
      "berkeley_parcels_gdf.cpg          berkeley_parcels_gdf.shp\r\n",
      "berkeley_parcels_gdf.csv          berkeley_parcels_gdf.shx\r\n",
      "berkeley_parcels_gdf.dbf          berkeley_parcels_gdf_limited.json\r\n",
      "berkeley_parcels_gdf.gpkg         berkeley_schools.json\r\n"
     ]
    }
   ],
   "source": [
    "!ls ../outdata"
   ]
  },
  {
   "cell_type": "markdown",
   "metadata": {},
   "source": [
    "\n",
    "<div style=\"display:inline-block;vertical-align:top;\">\n",
    "    <img src=\"../../assets/images/E57A06C8-033C-4EF6-AB00-9FE1736F74C0_1_105_c.jpeg\" align=center width=600 > \n",
    "</div>  \n",
    "<div style=\"display:inline-block;\">\n",
    "    \n",
    "    \n",
    "<br>\n",
    "    \n",
    "    \n",
    "## 10.4 Challenge\n",
    "\n",
    "Now do this for the SF ACS data:\n",
    "1. Find the FIPS code for [SF county](https://en.wikipedia.org/wiki/List_of_counties_in_California)\n",
    "2. Subset the ACS data to keep only rows for SF county in 2018 and assign to `acs5data_df_sf`\n",
    "3. Save out ACS data as `acs5data_2018_SF.csv`\n",
    "\n",
    "\n"
   ]
  },
  {
   "cell_type": "code",
   "execution_count": 18,
   "metadata": {},
   "outputs": [],
   "source": [
    "# Your code here"
   ]
  },
  {
   "cell_type": "markdown",
   "metadata": {},
   "source": [
    "\n",
    "*Click here for solution*\n",
    "\n",
    "<!--- \n",
    "    # SOLUTION\n",
    "    # 1 & 2 Subset ACS data for SF\n",
    "    acs5data_df_sf = acs5data_df[(acs5data_df['county_fips']==75) & (acs5data_df.year==2018)]\n",
    "\n",
    "    # SOLUTION\n",
    "    acs5data_df_sf.head()\n",
    "\n",
    "    # SOLUTION\n",
    "    # 3. Save out ACS data as 'acs5data_2018_SF.csv'\n",
    "    acs5data_df_sf.to_csv('../outdata/acs5data_2018_SF.csv')\n",
    "--->"
   ]
  },
  {
   "cell_type": "markdown",
   "metadata": {},
   "source": [
    "---\n",
    "<div style=\"display:inline-block;vertical-align:middle;\">\n",
    "<a href=\"https://dlab.berkeley.edu/\" target=\"_blank\"><img src =\"../../assets/images/dlab_logo.png\" width=\"75\" align=\"left\">\n",
    "</a>\n",
    "</div>\n",
    "\n",
    "<div style=\"display:inline-block;vertical-align:middle;\">\n",
    "    <div style=\"font-size:larger\">&nbsp;D-Lab @ University of California - Berkeley</div>\n",
    "    <div>&nbsp;Team Geo<div>\n",
    "</div>"
   ]
  }
 ],
 "metadata": {
  "kernelspec": {
   "display_name": "Python 3",
   "language": "python",
   "name": "python3"
  },
  "language_info": {
   "codemirror_mode": {
    "name": "ipython",
    "version": 3
   },
   "file_extension": ".py",
   "mimetype": "text/x-python",
   "name": "python",
   "nbconvert_exporter": "python",
   "pygments_lexer": "ipython3",
   "version": "3.8.3"
  }
 },
 "nbformat": 4,
 "nbformat_minor": 4
}
