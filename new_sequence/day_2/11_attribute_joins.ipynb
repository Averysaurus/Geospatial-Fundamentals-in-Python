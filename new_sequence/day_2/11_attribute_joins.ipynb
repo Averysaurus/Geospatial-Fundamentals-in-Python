{
 "cells": [
  {
   "cell_type": "markdown",
   "metadata": {},
   "source": [
    "# 11. Attribute Joins  between Geodataframes and  Dataframes\n",
    "\n",
    "We just mapped the census tracts. But what makes a map powerful is when you map the data associated with the locations.\n",
    "\n",
    "\n",
    "**INSTRUCTOR NOTES**:\n",
    "- Datasets used:\n",
    "    - \"../outdata/acs5data_2018_AC.csv\"\n",
    "    - \"../notebook_data/census/Tracts/cb_2018_06_tract_500k.zip\"\n",
    "    \n",
    "- Expected time to complete:\n",
    "    - Lecture + Questions: 10 minutes\n",
    "    - Challenges: N/A\n",
    "\n",
    "\n",
    "\n",
    "<br><br>\n",
    "## 11.1 Attribute Joins\n",
    "In order to map the ACS data we need to associate it with the tracts. We have polygon data in the `tracts_gdf_ac` geodataframe but no attributes of interest.\n",
    "\n",
    "In a separate file we have our ACS 5-year data for 2018 `census_variables_CA.csv` that we just imported and read in as a `pandas` dataframe. We're now going to join the columns from that data to the `tracts_gdf_ac` with a common key. This process is called an `attribute join`, which we covered in an earlier notebook.\n",
    "\n",
    "We're going to be conducting an inner join here -- think about why we do one type of join over another. You can read more about merging in `geopandas` [here](http://geopandas.org/mergingdata.html#attribute-joins)."
   ]
  },
  {
   "cell_type": "markdown",
   "metadata": {},
   "source": [
    "<img src=\"https://shanelynnwebsite-mid9n9g1q9y8tt.netdna-ssl.com/wp-content/uploads/2017/03/join-types-merge-names.jpg\">\n",
    "\n"
   ]
  },
  {
   "cell_type": "markdown",
   "metadata": {},
   "source": [
    "Let's talk about the data and the different join operations. What kind of join do we want to do?"
   ]
  },
  {
   "cell_type": "code",
   "execution_count": 1,
   "metadata": {},
   "outputs": [],
   "source": [
    "# write any notes here"
   ]
  },
  {
   "cell_type": "markdown",
   "metadata": {},
   "source": [
    "Let's take another look at the two data objects that we have -- do we see any columns that we can join on between the two?"
   ]
  },
  {
   "cell_type": "code",
   "execution_count": 2,
   "metadata": {},
   "outputs": [],
   "source": [
    "import math\n",
    "import numpy as np\n",
    "import pandas as pd\n",
    "\n",
    "import json # for working with JSON data\n",
    "import geojson # ditto for GeoJSON data - an extension of JSON with support for geographic data\n",
    "import geopandas as gpd\n",
    "\n",
    "import matplotlib # base python plotting library\n",
    "%matplotlib inline  \n",
    "import matplotlib.pyplot as plt # more plotting stuff"
   ]
  },
  {
   "cell_type": "code",
   "execution_count": 3,
   "metadata": {},
   "outputs": [
    {
     "data": {
      "text/html": [
       "<div>\n",
       "<style scoped>\n",
       "    .dataframe tbody tr th:only-of-type {\n",
       "        vertical-align: middle;\n",
       "    }\n",
       "\n",
       "    .dataframe tbody tr th {\n",
       "        vertical-align: top;\n",
       "    }\n",
       "\n",
       "    .dataframe thead th {\n",
       "        text-align: right;\n",
       "    }\n",
       "</style>\n",
       "<table border=\"1\" class=\"dataframe\">\n",
       "  <thead>\n",
       "    <tr style=\"text-align: right;\">\n",
       "      <th></th>\n",
       "      <th>Unnamed: 0</th>\n",
       "      <th>NAME</th>\n",
       "      <th>c_race</th>\n",
       "      <th>c_white</th>\n",
       "      <th>c_black</th>\n",
       "      <th>c_asian</th>\n",
       "      <th>c_latinx</th>\n",
       "      <th>state_fips</th>\n",
       "      <th>county_fips</th>\n",
       "      <th>tract_fips</th>\n",
       "      <th>...</th>\n",
       "      <th>p_stay</th>\n",
       "      <th>p_movelocal</th>\n",
       "      <th>p_movecounty</th>\n",
       "      <th>p_movestate</th>\n",
       "      <th>p_moveabroad</th>\n",
       "      <th>p_car</th>\n",
       "      <th>p_carpool</th>\n",
       "      <th>p_transit</th>\n",
       "      <th>p_bike</th>\n",
       "      <th>p_walk</th>\n",
       "    </tr>\n",
       "  </thead>\n",
       "  <tbody>\n",
       "    <tr>\n",
       "      <th>0</th>\n",
       "      <td>8323</td>\n",
       "      <td>Census Tract 4415.01, Alameda County, California</td>\n",
       "      <td>6570</td>\n",
       "      <td>677</td>\n",
       "      <td>111</td>\n",
       "      <td>4740</td>\n",
       "      <td>570</td>\n",
       "      <td>6</td>\n",
       "      <td>1</td>\n",
       "      <td>441501</td>\n",
       "      <td>...</td>\n",
       "      <td>0.925897</td>\n",
       "      <td>0.039593</td>\n",
       "      <td>0.010476</td>\n",
       "      <td>0.019874</td>\n",
       "      <td>0.004160</td>\n",
       "      <td>0.761761</td>\n",
       "      <td>0.113940</td>\n",
       "      <td>0.054812</td>\n",
       "      <td>0.012085</td>\n",
       "      <td>0.003453</td>\n",
       "    </tr>\n",
       "    <tr>\n",
       "      <th>1</th>\n",
       "      <td>8324</td>\n",
       "      <td>Census Tract 4047, Alameda County, California</td>\n",
       "      <td>2079</td>\n",
       "      <td>1515</td>\n",
       "      <td>134</td>\n",
       "      <td>199</td>\n",
       "      <td>175</td>\n",
       "      <td>6</td>\n",
       "      <td>1</td>\n",
       "      <td>404700</td>\n",
       "      <td>...</td>\n",
       "      <td>0.891826</td>\n",
       "      <td>0.028390</td>\n",
       "      <td>0.037690</td>\n",
       "      <td>0.031816</td>\n",
       "      <td>0.010279</td>\n",
       "      <td>0.532093</td>\n",
       "      <td>0.177674</td>\n",
       "      <td>0.158140</td>\n",
       "      <td>0.006512</td>\n",
       "      <td>0.005581</td>\n",
       "    </tr>\n",
       "    <tr>\n",
       "      <th>2</th>\n",
       "      <td>8325</td>\n",
       "      <td>Census Tract 4425, Alameda County, California</td>\n",
       "      <td>7748</td>\n",
       "      <td>1430</td>\n",
       "      <td>375</td>\n",
       "      <td>3379</td>\n",
       "      <td>1904</td>\n",
       "      <td>6</td>\n",
       "      <td>1</td>\n",
       "      <td>442500</td>\n",
       "      <td>...</td>\n",
       "      <td>0.899056</td>\n",
       "      <td>0.073020</td>\n",
       "      <td>0.003802</td>\n",
       "      <td>0.003015</td>\n",
       "      <td>0.021106</td>\n",
       "      <td>0.715315</td>\n",
       "      <td>0.112613</td>\n",
       "      <td>0.064264</td>\n",
       "      <td>0.017718</td>\n",
       "      <td>0.010210</td>\n",
       "    </tr>\n",
       "    <tr>\n",
       "      <th>3</th>\n",
       "      <td>8326</td>\n",
       "      <td>Census Tract 4503, Alameda County, California</td>\n",
       "      <td>5301</td>\n",
       "      <td>2597</td>\n",
       "      <td>96</td>\n",
       "      <td>1077</td>\n",
       "      <td>1315</td>\n",
       "      <td>6</td>\n",
       "      <td>1</td>\n",
       "      <td>450300</td>\n",
       "      <td>...</td>\n",
       "      <td>0.889312</td>\n",
       "      <td>0.025529</td>\n",
       "      <td>0.062107</td>\n",
       "      <td>0.021718</td>\n",
       "      <td>0.001334</td>\n",
       "      <td>0.749202</td>\n",
       "      <td>0.064917</td>\n",
       "      <td>0.094005</td>\n",
       "      <td>0.009933</td>\n",
       "      <td>0.011706</td>\n",
       "    </tr>\n",
       "    <tr>\n",
       "      <th>4</th>\n",
       "      <td>8327</td>\n",
       "      <td>Census Tract 4506.07, Alameda County, California</td>\n",
       "      <td>5971</td>\n",
       "      <td>2832</td>\n",
       "      <td>324</td>\n",
       "      <td>1726</td>\n",
       "      <td>804</td>\n",
       "      <td>6</td>\n",
       "      <td>1</td>\n",
       "      <td>450607</td>\n",
       "      <td>...</td>\n",
       "      <td>0.801863</td>\n",
       "      <td>0.121084</td>\n",
       "      <td>0.043014</td>\n",
       "      <td>0.034039</td>\n",
       "      <td>0.000000</td>\n",
       "      <td>0.698643</td>\n",
       "      <td>0.132730</td>\n",
       "      <td>0.058220</td>\n",
       "      <td>0.021418</td>\n",
       "      <td>0.034389</td>\n",
       "    </tr>\n",
       "  </tbody>\n",
       "</table>\n",
       "<p>5 rows × 45 columns</p>\n",
       "</div>"
      ],
      "text/plain": [
       "   Unnamed: 0                                              NAME  c_race  \\\n",
       "0        8323  Census Tract 4415.01, Alameda County, California    6570   \n",
       "1        8324     Census Tract 4047, Alameda County, California    2079   \n",
       "2        8325     Census Tract 4425, Alameda County, California    7748   \n",
       "3        8326     Census Tract 4503, Alameda County, California    5301   \n",
       "4        8327  Census Tract 4506.07, Alameda County, California    5971   \n",
       "\n",
       "   c_white  c_black  c_asian  c_latinx  state_fips  county_fips  tract_fips  \\\n",
       "0      677      111     4740       570           6            1      441501   \n",
       "1     1515      134      199       175           6            1      404700   \n",
       "2     1430      375     3379      1904           6            1      442500   \n",
       "3     2597       96     1077      1315           6            1      450300   \n",
       "4     2832      324     1726       804           6            1      450607   \n",
       "\n",
       "   ...    p_stay  p_movelocal  p_movecounty  p_movestate  p_moveabroad  \\\n",
       "0  ...  0.925897     0.039593      0.010476     0.019874      0.004160   \n",
       "1  ...  0.891826     0.028390      0.037690     0.031816      0.010279   \n",
       "2  ...  0.899056     0.073020      0.003802     0.003015      0.021106   \n",
       "3  ...  0.889312     0.025529      0.062107     0.021718      0.001334   \n",
       "4  ...  0.801863     0.121084      0.043014     0.034039      0.000000   \n",
       "\n",
       "      p_car  p_carpool  p_transit    p_bike    p_walk  \n",
       "0  0.761761   0.113940   0.054812  0.012085  0.003453  \n",
       "1  0.532093   0.177674   0.158140  0.006512  0.005581  \n",
       "2  0.715315   0.112613   0.064264  0.017718  0.010210  \n",
       "3  0.749202   0.064917   0.094005  0.009933  0.011706  \n",
       "4  0.698643   0.132730   0.058220  0.021418  0.034389  \n",
       "\n",
       "[5 rows x 45 columns]"
      ]
     },
     "execution_count": 3,
     "metadata": {},
     "output_type": "execute_result"
    }
   ],
   "source": [
    "# Import the ACS data first\n",
    "acs5data_df_ac = pd.read_csv('../outdata/acs5data_2018_AC.csv', dtype={'FIPS_11_digit': object})\n",
    "acs5data_df_ac.head()"
   ]
  },
  {
   "cell_type": "code",
   "execution_count": 4,
   "metadata": {},
   "outputs": [
    {
     "data": {
      "text/plain": [
       "Index(['Unnamed: 0', 'NAME', 'c_race', 'c_white', 'c_black', 'c_asian',\n",
       "       'c_latinx', 'state_fips', 'county_fips', 'tract_fips', 'med_rent',\n",
       "       'med_hhinc', 'c_tenants', 'c_owners', 'c_renters', 'c_movers', 'c_stay',\n",
       "       'c_movelocal', 'c_movecounty', 'c_movestate', 'c_moveabroad',\n",
       "       'c_commute', 'c_car', 'c_carpool', 'c_transit', 'c_bike', 'c_walk',\n",
       "       'year', 'FIPS_11_digit', 'p_white', 'p_black', 'p_asian', 'p_latinx',\n",
       "       'p_owners', 'p_renters', 'p_stay', 'p_movelocal', 'p_movecounty',\n",
       "       'p_movestate', 'p_moveabroad', 'p_car', 'p_carpool', 'p_transit',\n",
       "       'p_bike', 'p_walk'],\n",
       "      dtype='object')"
      ]
     },
     "execution_count": 4,
     "metadata": {},
     "output_type": "execute_result"
    }
   ],
   "source": [
    "# ACS 5 year data\n",
    "acs5data_df_ac.columns"
   ]
  },
  {
   "cell_type": "markdown",
   "metadata": {},
   "source": [
    "Since its hard to see all of our variables and know what types they are, let's use the `info` method instead."
   ]
  },
  {
   "cell_type": "code",
   "execution_count": 5,
   "metadata": {},
   "outputs": [
    {
     "name": "stdout",
     "output_type": "stream",
     "text": [
      "<class 'pandas.core.frame.DataFrame'>\n",
      "RangeIndex: 361 entries, 0 to 360\n",
      "Data columns (total 45 columns):\n",
      " #   Column         Non-Null Count  Dtype  \n",
      "---  ------         --------------  -----  \n",
      " 0   Unnamed: 0     361 non-null    int64  \n",
      " 1   NAME           361 non-null    object \n",
      " 2   c_race         361 non-null    int64  \n",
      " 3   c_white        361 non-null    int64  \n",
      " 4   c_black        361 non-null    int64  \n",
      " 5   c_asian        361 non-null    int64  \n",
      " 6   c_latinx       361 non-null    int64  \n",
      " 7   state_fips     361 non-null    int64  \n",
      " 8   county_fips    361 non-null    int64  \n",
      " 9   tract_fips     361 non-null    int64  \n",
      " 10  med_rent       355 non-null    float64\n",
      " 11  med_hhinc      360 non-null    float64\n",
      " 12  c_tenants      361 non-null    int64  \n",
      " 13  c_owners       361 non-null    int64  \n",
      " 14  c_renters      361 non-null    int64  \n",
      " 15  c_movers       361 non-null    int64  \n",
      " 16  c_stay         361 non-null    int64  \n",
      " 17  c_movelocal    361 non-null    int64  \n",
      " 18  c_movecounty   361 non-null    int64  \n",
      " 19  c_movestate    361 non-null    int64  \n",
      " 20  c_moveabroad   361 non-null    int64  \n",
      " 21  c_commute      361 non-null    int64  \n",
      " 22  c_car          361 non-null    int64  \n",
      " 23  c_carpool      361 non-null    int64  \n",
      " 24  c_transit      361 non-null    int64  \n",
      " 25  c_bike         361 non-null    int64  \n",
      " 26  c_walk         361 non-null    int64  \n",
      " 27  year           361 non-null    int64  \n",
      " 28  FIPS_11_digit  361 non-null    object \n",
      " 29  p_white        360 non-null    float64\n",
      " 30  p_black        360 non-null    float64\n",
      " 31  p_asian        360 non-null    float64\n",
      " 32  p_latinx       360 non-null    float64\n",
      " 33  p_owners       360 non-null    float64\n",
      " 34  p_renters      360 non-null    float64\n",
      " 35  p_stay         360 non-null    float64\n",
      " 36  p_movelocal    360 non-null    float64\n",
      " 37  p_movecounty   360 non-null    float64\n",
      " 38  p_movestate    360 non-null    float64\n",
      " 39  p_moveabroad   360 non-null    float64\n",
      " 40  p_car          360 non-null    float64\n",
      " 41  p_carpool      360 non-null    float64\n",
      " 42  p_transit      360 non-null    float64\n",
      " 43  p_bike         360 non-null    float64\n",
      " 44  p_walk         360 non-null    float64\n",
      "dtypes: float64(18), int64(25), object(2)\n",
      "memory usage: 127.0+ KB\n"
     ]
    }
   ],
   "source": [
    "acs5data_df_ac.info()"
   ]
  },
  {
   "cell_type": "markdown",
   "metadata": {},
   "source": [
    "Okay, awesome! Now let's go ahead and check our our tracts data."
   ]
  },
  {
   "cell_type": "code",
   "execution_count": 6,
   "metadata": {},
   "outputs": [
    {
     "data": {
      "image/png": "[encoded data removed]",
      "text/plain": [
       "<Figure size 432x288 with 1 Axes>"
      ]
     },
     "metadata": {
      "needs_background": "light"
     },
     "output_type": "display_data"
    }
   ],
   "source": [
    "tracts_gdf = gpd.read_file(\"zip://../notebook_data/census/Tracts/cb_2018_06_tract_500k.zip\")\n",
    "# Limit to alameda county\n",
    "tracts_gdf_ac = tracts_gdf[tracts_gdf['COUNTYFP']=='001']\n",
    "tracts_gdf_ac.plot()\n",
    "plt.show()"
   ]
  },
  {
   "cell_type": "code",
   "execution_count": 7,
   "metadata": {},
   "outputs": [
    {
     "data": {
      "text/html": [
       "<div>\n",
       "<style scoped>\n",
       "    .dataframe tbody tr th:only-of-type {\n",
       "        vertical-align: middle;\n",
       "    }\n",
       "\n",
       "    .dataframe tbody tr th {\n",
       "        vertical-align: top;\n",
       "    }\n",
       "\n",
       "    .dataframe thead th {\n",
       "        text-align: right;\n",
       "    }\n",
       "</style>\n",
       "<table border=\"1\" class=\"dataframe\">\n",
       "  <thead>\n",
       "    <tr style=\"text-align: right;\">\n",
       "      <th></th>\n",
       "      <th>STATEFP</th>\n",
       "      <th>COUNTYFP</th>\n",
       "      <th>TRACTCE</th>\n",
       "      <th>AFFGEOID</th>\n",
       "      <th>GEOID</th>\n",
       "      <th>NAME</th>\n",
       "      <th>LSAD</th>\n",
       "      <th>ALAND</th>\n",
       "      <th>AWATER</th>\n",
       "      <th>geometry</th>\n",
       "    </tr>\n",
       "  </thead>\n",
       "  <tbody>\n",
       "    <tr>\n",
       "      <th>26</th>\n",
       "      <td>06</td>\n",
       "      <td>001</td>\n",
       "      <td>425101</td>\n",
       "      <td>1400000US06001425101</td>\n",
       "      <td>06001425101</td>\n",
       "      <td>4251.01</td>\n",
       "      <td>CT</td>\n",
       "      <td>590870</td>\n",
       "      <td>2045459</td>\n",
       "      <td>POLYGON ((-122.31419 37.84231, -122.29923 37.8...</td>\n",
       "    </tr>\n",
       "    <tr>\n",
       "      <th>27</th>\n",
       "      <td>06</td>\n",
       "      <td>001</td>\n",
       "      <td>428600</td>\n",
       "      <td>1400000US06001428600</td>\n",
       "      <td>06001428600</td>\n",
       "      <td>4286</td>\n",
       "      <td>CT</td>\n",
       "      <td>898967</td>\n",
       "      <td>1080420</td>\n",
       "      <td>POLYGON ((-122.27993 37.76818, -122.27849 37.7...</td>\n",
       "    </tr>\n",
       "  </tbody>\n",
       "</table>\n",
       "</div>"
      ],
      "text/plain": [
       "   STATEFP COUNTYFP TRACTCE              AFFGEOID        GEOID     NAME LSAD  \\\n",
       "26      06      001  425101  1400000US06001425101  06001425101  4251.01   CT   \n",
       "27      06      001  428600  1400000US06001428600  06001428600     4286   CT   \n",
       "\n",
       "     ALAND   AWATER                                           geometry  \n",
       "26  590870  2045459  POLYGON ((-122.31419 37.84231, -122.29923 37.8...  \n",
       "27  898967  1080420  POLYGON ((-122.27993 37.76818, -122.27849 37.7...  "
      ]
     },
     "execution_count": 7,
     "metadata": {},
     "output_type": "execute_result"
    }
   ],
   "source": [
    "# Tracts data\n",
    "tracts_gdf_ac.head(2)"
   ]
  },
  {
   "cell_type": "markdown",
   "metadata": {},
   "source": [
    "So it seems like `GEOID` in our tracts data and `FIPS_11_digit` are going to be the keys in our join. \n",
    "\n",
    "<img src=\"http://www.pngall.com/wp-content/uploads/2016/03/Light-Bulb-Free-PNG-Image.png\" width=\"20\" align=left >  Let's check those variables-- do you see any differences?"
   ]
  },
  {
   "cell_type": "code",
   "execution_count": 8,
   "metadata": {
    "scrolled": true
   },
   "outputs": [
    {
     "data": {
      "text/plain": [
       "26    06001425101\n",
       "27    06001428600\n",
       "28    06001432600\n",
       "29    06001433200\n",
       "30    06001433900\n",
       "Name: GEOID, dtype: object"
      ]
     },
     "execution_count": 8,
     "metadata": {},
     "output_type": "execute_result"
    }
   ],
   "source": [
    "tracts_gdf_ac['GEOID'].head()"
   ]
  },
  {
   "cell_type": "code",
   "execution_count": 9,
   "metadata": {
    "scrolled": true
   },
   "outputs": [
    {
     "data": {
      "text/plain": [
       "0    06001441501\n",
       "1    06001404700\n",
       "2    06001442500\n",
       "3    06001450300\n",
       "4    06001450607\n",
       "Name: FIPS_11_digit, dtype: object"
      ]
     },
     "execution_count": 9,
     "metadata": {},
     "output_type": "execute_result"
    }
   ],
   "source": [
    "acs5data_df_ac['FIPS_11_digit'].head()"
   ]
  },
  {
   "cell_type": "markdown",
   "metadata": {},
   "source": [
    "A `join` requires data to be of the same type and same values. Are we good to go?"
   ]
  },
  {
   "cell_type": "code",
   "execution_count": 10,
   "metadata": {},
   "outputs": [],
   "source": [
    "# Write your thoughts here"
   ]
  },
  {
   "cell_type": "markdown",
   "metadata": {},
   "source": [
    "Use the `geopandas` `merge` command to join the two dataframes by matching the values in the `GEOID` and `FIPS_11_digit` columns. Then take a look at the output since it should contain our ACS data for Alameda County."
   ]
  },
  {
   "cell_type": "code",
   "execution_count": 11,
   "metadata": {},
   "outputs": [],
   "source": [
    "# Uncomment to view documentation \n",
    "#acs5data_df_ac.merge?"
   ]
  },
  {
   "cell_type": "markdown",
   "metadata": {},
   "source": [
    "Let's do a `left` join to keep all of the census tracts in Alameda County and only the ACS data for those tracts."
   ]
  },
  {
   "cell_type": "code",
   "execution_count": 12,
   "metadata": {},
   "outputs": [
    {
     "data": {
      "text/html": [
       "<div>\n",
       "<style scoped>\n",
       "    .dataframe tbody tr th:only-of-type {\n",
       "        vertical-align: middle;\n",
       "    }\n",
       "\n",
       "    .dataframe tbody tr th {\n",
       "        vertical-align: top;\n",
       "    }\n",
       "\n",
       "    .dataframe thead th {\n",
       "        text-align: right;\n",
       "    }\n",
       "</style>\n",
       "<table border=\"1\" class=\"dataframe\">\n",
       "  <thead>\n",
       "    <tr style=\"text-align: right;\">\n",
       "      <th></th>\n",
       "      <th>STATEFP</th>\n",
       "      <th>COUNTYFP</th>\n",
       "      <th>TRACTCE</th>\n",
       "      <th>AFFGEOID</th>\n",
       "      <th>GEOID</th>\n",
       "      <th>NAME_x</th>\n",
       "      <th>LSAD</th>\n",
       "      <th>ALAND</th>\n",
       "      <th>AWATER</th>\n",
       "      <th>geometry</th>\n",
       "      <th>...</th>\n",
       "      <th>p_stay</th>\n",
       "      <th>p_movelocal</th>\n",
       "      <th>p_movecounty</th>\n",
       "      <th>p_movestate</th>\n",
       "      <th>p_moveabroad</th>\n",
       "      <th>p_car</th>\n",
       "      <th>p_carpool</th>\n",
       "      <th>p_transit</th>\n",
       "      <th>p_bike</th>\n",
       "      <th>p_walk</th>\n",
       "    </tr>\n",
       "  </thead>\n",
       "  <tbody>\n",
       "    <tr>\n",
       "      <th>0</th>\n",
       "      <td>06</td>\n",
       "      <td>001</td>\n",
       "      <td>425101</td>\n",
       "      <td>1400000US06001425101</td>\n",
       "      <td>06001425101</td>\n",
       "      <td>4251.01</td>\n",
       "      <td>CT</td>\n",
       "      <td>590870</td>\n",
       "      <td>2045459</td>\n",
       "      <td>POLYGON ((-122.31419 37.84231, -122.29923 37.8...</td>\n",
       "      <td>...</td>\n",
       "      <td>0.865239</td>\n",
       "      <td>0.036524</td>\n",
       "      <td>0.035894</td>\n",
       "      <td>0.037154</td>\n",
       "      <td>0.025189</td>\n",
       "      <td>0.550998</td>\n",
       "      <td>0.107539</td>\n",
       "      <td>0.169623</td>\n",
       "      <td>0.015521</td>\n",
       "      <td>0.062084</td>\n",
       "    </tr>\n",
       "    <tr>\n",
       "      <th>1</th>\n",
       "      <td>06</td>\n",
       "      <td>001</td>\n",
       "      <td>428600</td>\n",
       "      <td>1400000US06001428600</td>\n",
       "      <td>06001428600</td>\n",
       "      <td>4286</td>\n",
       "      <td>CT</td>\n",
       "      <td>898967</td>\n",
       "      <td>1080420</td>\n",
       "      <td>POLYGON ((-122.27993 37.76818, -122.27849 37.7...</td>\n",
       "      <td>...</td>\n",
       "      <td>0.767469</td>\n",
       "      <td>0.067846</td>\n",
       "      <td>0.110467</td>\n",
       "      <td>0.036532</td>\n",
       "      <td>0.017686</td>\n",
       "      <td>0.550140</td>\n",
       "      <td>0.019048</td>\n",
       "      <td>0.270588</td>\n",
       "      <td>0.034734</td>\n",
       "      <td>0.035294</td>\n",
       "    </tr>\n",
       "  </tbody>\n",
       "</table>\n",
       "<p>2 rows × 55 columns</p>\n",
       "</div>"
      ],
      "text/plain": [
       "  STATEFP COUNTYFP TRACTCE              AFFGEOID        GEOID   NAME_x LSAD  \\\n",
       "0      06      001  425101  1400000US06001425101  06001425101  4251.01   CT   \n",
       "1      06      001  428600  1400000US06001428600  06001428600     4286   CT   \n",
       "\n",
       "    ALAND   AWATER                                           geometry  ...  \\\n",
       "0  590870  2045459  POLYGON ((-122.31419 37.84231, -122.29923 37.8...  ...   \n",
       "1  898967  1080420  POLYGON ((-122.27993 37.76818, -122.27849 37.7...  ...   \n",
       "\n",
       "     p_stay p_movelocal  p_movecounty  p_movestate  p_moveabroad     p_car  \\\n",
       "0  0.865239    0.036524      0.035894     0.037154      0.025189  0.550998   \n",
       "1  0.767469    0.067846      0.110467     0.036532      0.017686  0.550140   \n",
       "\n",
       "   p_carpool  p_transit    p_bike    p_walk  \n",
       "0   0.107539   0.169623  0.015521  0.062084  \n",
       "1   0.019048   0.270588  0.034734  0.035294  \n",
       "\n",
       "[2 rows x 55 columns]"
      ]
     },
     "execution_count": 12,
     "metadata": {},
     "output_type": "execute_result"
    }
   ],
   "source": [
    "# Left join keeps all tracts and the acs data for those tracts\n",
    "tracts_acs_gdf_ac = tracts_gdf_ac.merge(acs5data_df_ac, left_on='GEOID',right_on=\"FIPS_11_digit\", how='left')\n",
    "tracts_acs_gdf_ac.head(2)"
   ]
  },
  {
   "cell_type": "markdown",
   "metadata": {},
   "source": [
    "Let's see all the variables we have in our dataset now."
   ]
  },
  {
   "cell_type": "code",
   "execution_count": 13,
   "metadata": {},
   "outputs": [
    {
     "data": {
      "text/plain": [
       "['STATEFP',\n",
       " 'COUNTYFP',\n",
       " 'TRACTCE',\n",
       " 'AFFGEOID',\n",
       " 'GEOID',\n",
       " 'NAME_x',\n",
       " 'LSAD',\n",
       " 'ALAND',\n",
       " 'AWATER',\n",
       " 'geometry',\n",
       " 'Unnamed: 0',\n",
       " 'NAME_y',\n",
       " 'c_race',\n",
       " 'c_white',\n",
       " 'c_black',\n",
       " 'c_asian',\n",
       " 'c_latinx',\n",
       " 'state_fips',\n",
       " 'county_fips',\n",
       " 'tract_fips',\n",
       " 'med_rent',\n",
       " 'med_hhinc',\n",
       " 'c_tenants',\n",
       " 'c_owners',\n",
       " 'c_renters',\n",
       " 'c_movers',\n",
       " 'c_stay',\n",
       " 'c_movelocal',\n",
       " 'c_movecounty',\n",
       " 'c_movestate',\n",
       " 'c_moveabroad',\n",
       " 'c_commute',\n",
       " 'c_car',\n",
       " 'c_carpool',\n",
       " 'c_transit',\n",
       " 'c_bike',\n",
       " 'c_walk',\n",
       " 'year',\n",
       " 'FIPS_11_digit',\n",
       " 'p_white',\n",
       " 'p_black',\n",
       " 'p_asian',\n",
       " 'p_latinx',\n",
       " 'p_owners',\n",
       " 'p_renters',\n",
       " 'p_stay',\n",
       " 'p_movelocal',\n",
       " 'p_movecounty',\n",
       " 'p_movestate',\n",
       " 'p_moveabroad',\n",
       " 'p_car',\n",
       " 'p_carpool',\n",
       " 'p_transit',\n",
       " 'p_bike',\n",
       " 'p_walk']"
      ]
     },
     "execution_count": 13,
     "metadata": {},
     "output_type": "execute_result"
    }
   ],
   "source": [
    "list(tracts_acs_gdf_ac.columns)"
   ]
  },
  {
   "cell_type": "markdown",
   "metadata": {},
   "source": [
    "How many rows and columns should we have? Think about this before you run the next lines of code."
   ]
  },
  {
   "cell_type": "code",
   "execution_count": 14,
   "metadata": {},
   "outputs": [
    {
     "name": "stdout",
     "output_type": "stream",
     "text": [
      "Rows and columns in the Alameda County Census tract gdf: (360, 10)\n",
      "Rows and columns in the Alameda County Census tract gdf joined to the ACS data: (360, 55)\n"
     ]
    }
   ],
   "source": [
    "print(\"Rows and columns in the Alameda County Census tract gdf:\", tracts_gdf_ac.shape)\n",
    "print(\"Rows and columns in the Alameda County Census tract gdf joined to the ACS data:\", tracts_acs_gdf_ac.shape)"
   ]
  },
  {
   "cell_type": "markdown",
   "metadata": {},
   "source": [
    "<div style=\"display:inline-block;vertical-align:top;\">\n",
    "    <img src=\"http://www.pngall.com/wp-content/uploads/2016/03/Light-Bulb-Free-PNG-Image.png\" width=\"30\" align=left > \n",
    "</div>  \n",
    "<div style=\"display:inline-block;\">\n",
    "\n",
    "#### Question\n",
    "</div>\n",
    "\n",
    "1. What would happen if we did a inner join instead of a left join? A right join? \n",
    "2. What is data type of output of the merge?"
   ]
  },
  {
   "cell_type": "code",
   "execution_count": 15,
   "metadata": {},
   "outputs": [],
   "source": [
    "# Put your thoughts here"
   ]
  },
  {
   "cell_type": "code",
   "execution_count": 16,
   "metadata": {},
   "outputs": [
    {
     "data": {
      "text/plain": [
       "geopandas.geodataframe.GeoDataFrame"
      ]
     },
     "execution_count": 16,
     "metadata": {},
     "output_type": "execute_result"
    }
   ],
   "source": [
    "# Check the data type of the join output\n",
    "type(tracts_acs_gdf_ac)"
   ]
  },
  {
   "cell_type": "markdown",
   "metadata": {},
   "source": [
    "## 11.2 Join Order Matters!\n",
    "\n",
    "Above, we lefted joined the ACS5 dataframe to the tracts geodataframe. The ouput was a geodataframe of all census tracts and the ACS data for those tracts.\n",
    "\n",
    "We can do do a similar operation by joining the tracts geodataframe to the ACS dataframe.  However, if we change the order of inputs we get a different type of output!\n",
    "\n",
    "Let's check that out"
   ]
  },
  {
   "cell_type": "code",
   "execution_count": 17,
   "metadata": {},
   "outputs": [],
   "source": [
    "tracts_acs_df_ac = acs5data_df_ac.merge(tracts_gdf_ac, right_on='GEOID', left_on=\"FIPS_11_digit\", how='right')"
   ]
  },
  {
   "cell_type": "code",
   "execution_count": 18,
   "metadata": {},
   "outputs": [
    {
     "data": {
      "text/plain": [
       "pandas.core.frame.DataFrame"
      ]
     },
     "execution_count": 18,
     "metadata": {},
     "output_type": "execute_result"
    }
   ],
   "source": [
    "type(tracts_acs_df_ac)"
   ]
  },
  {
   "cell_type": "code",
   "execution_count": 19,
   "metadata": {},
   "outputs": [
    {
     "name": "stdout",
     "output_type": "stream",
     "text": [
      "(360, 55)\n",
      "(360, 55)\n"
     ]
    }
   ],
   "source": [
    "print(tracts_acs_gdf_ac.shape)\n",
    "print(tracts_acs_df_ac.shape)"
   ]
  },
  {
   "cell_type": "code",
   "execution_count": 20,
   "metadata": {},
   "outputs": [
    {
     "data": {
      "text/plain": [
       "Index(['Unnamed: 0', 'NAME_x', 'c_race', 'c_white', 'c_black', 'c_asian',\n",
       "       'c_latinx', 'state_fips', 'county_fips', 'tract_fips', 'med_rent',\n",
       "       'med_hhinc', 'c_tenants', 'c_owners', 'c_renters', 'c_movers', 'c_stay',\n",
       "       'c_movelocal', 'c_movecounty', 'c_movestate', 'c_moveabroad',\n",
       "       'c_commute', 'c_car', 'c_carpool', 'c_transit', 'c_bike', 'c_walk',\n",
       "       'year', 'FIPS_11_digit', 'p_white', 'p_black', 'p_asian', 'p_latinx',\n",
       "       'p_owners', 'p_renters', 'p_stay', 'p_movelocal', 'p_movecounty',\n",
       "       'p_movestate', 'p_moveabroad', 'p_car', 'p_carpool', 'p_transit',\n",
       "       'p_bike', 'p_walk', 'STATEFP', 'COUNTYFP', 'TRACTCE', 'AFFGEOID',\n",
       "       'GEOID', 'NAME_y', 'LSAD', 'ALAND', 'AWATER', 'geometry'],\n",
       "      dtype='object')"
      ]
     },
     "execution_count": 20,
     "metadata": {},
     "output_type": "execute_result"
    }
   ],
   "source": [
    "tracts_acs_df_ac.columns"
   ]
  },
  {
   "cell_type": "markdown",
   "metadata": {},
   "source": [
    "The number of rows and columns in the output is the same for both joins but the output type is different - even though the pandas dataframe contains a geometry column.\n",
    "\n",
    "So be careful when joining Geopandas geodataframes and Pandas dataframes. Always check your outputs to make sure they are what you expect.\n",
    "\n",
    "Before we move on let's make sure to save our work"
   ]
  },
  {
   "cell_type": "code",
   "execution_count": 25,
   "metadata": {},
   "outputs": [],
   "source": [
    "tracts_acs_gdf_ac.to_file(\"../outdata/tracts_acs_gdf_ac.json\", driver=\"GeoJSON\") "
   ]
  },
  {
   "cell_type": "markdown",
   "metadata": {},
   "source": [
    "<div style=\"display:inline-block;vertical-align:top;\">\n",
    "    <img src=\"../../assets/images/IMG_9738.JPG\" align=center width=600 > \n",
    "</div>  \n",
    "<div style=\"display:inline-block;\">\n",
    "\n",
    "    \n",
    "---\n",
    "<div style=\"display:inline-block;vertical-align:middle;\">\n",
    "<a href=\"https://dlab.berkeley.edu/\" target=\"_blank\"><img src =\"../../assets/images/dlab_logo.png\" width=\"75\" align=\"left\">\n",
    "</a>\n",
    "</div>\n",
    "\n",
    "<div style=\"display:inline-block;vertical-align:middle;\">\n",
    "    <div style=\"font-size:larger\">&nbsp;D-Lab @ University of California - Berkeley</div>\n",
    "    <div>&nbsp;Team Geo<div>\n",
    "</div>\n"
   ]
  }
 ],
 "metadata": {
  "kernelspec": {
   "display_name": "Python 3",
   "language": "python",
   "name": "python3"
  },
  "language_info": {
   "codemirror_mode": {
    "name": "ipython",
    "version": 3
   },
   "file_extension": ".py",
   "mimetype": "text/x-python",
   "name": "python",
   "nbconvert_exporter": "python",
   "pygments_lexer": "ipython3",
   "version": "3.8.3"
  }
 },
 "nbformat": 4,
 "nbformat_minor": 4
}
